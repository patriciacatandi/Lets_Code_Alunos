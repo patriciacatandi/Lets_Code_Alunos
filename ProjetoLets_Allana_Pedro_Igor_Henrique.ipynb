{
 "cells": [
  {
   "cell_type": "code",
   "execution_count": 1,
   "id": "51694ff6",
   "metadata": {},
   "outputs": [],
   "source": [
    "import requests, zipfile, io\n",
    "import pandas as pd\n",
    "import tempfile\n",
    "import seaborn as sns\n",
    "import matplotlib.pyplot as plt\n",
    "%matplotlib inline\n",
    "\n",
    "def import_web(url, filename):\n",
    "    \n",
    "    r = requests.get(url)\n",
    "    z = zipfile.ZipFile(io.BytesIO(r.content))\n",
    "    z.extractall()\n",
    "    df = pd.read_csv(filename, sep = \";\", encoding = \"ISO-8859-1\", low_memory=False, na_values = \"#NULO#\")\n",
    "    return df"
   ]
  },
  {
   "cell_type": "code",
   "execution_count": 2,
   "id": "d886b1a2",
   "metadata": {},
   "outputs": [
    {
     "data": {
      "text/html": [
       "<div>\n",
       "<style scoped>\n",
       "    .dataframe tbody tr th:only-of-type {\n",
       "        vertical-align: middle;\n",
       "    }\n",
       "\n",
       "    .dataframe tbody tr th {\n",
       "        vertical-align: top;\n",
       "    }\n",
       "\n",
       "    .dataframe thead th {\n",
       "        text-align: right;\n",
       "    }\n",
       "</style>\n",
       "<table border=\"1\" class=\"dataframe\">\n",
       "  <thead>\n",
       "    <tr style=\"text-align: right;\">\n",
       "      <th></th>\n",
       "      <th>DT_GERACAO</th>\n",
       "      <th>HH_GERACAO</th>\n",
       "      <th>ANO_ELEICAO</th>\n",
       "      <th>CD_TIPO_ELEICAO</th>\n",
       "      <th>NM_TIPO_ELEICAO</th>\n",
       "      <th>NR_TURNO</th>\n",
       "      <th>CD_ELEICAO</th>\n",
       "      <th>DS_ELEICAO</th>\n",
       "      <th>DT_ELEICAO</th>\n",
       "      <th>TP_ABRANGENCIA</th>\n",
       "      <th>...</th>\n",
       "      <th>DS_SIT_TOT_TURNO</th>\n",
       "      <th>ST_REELEICAO</th>\n",
       "      <th>ST_DECLARAR_BENS</th>\n",
       "      <th>NR_PROTOCOLO_CANDIDATURA</th>\n",
       "      <th>NR_PROCESSO</th>\n",
       "      <th>CD_SITUACAO_CANDIDATO_PLEITO</th>\n",
       "      <th>DS_SITUACAO_CANDIDATO_PLEITO</th>\n",
       "      <th>CD_SITUACAO_CANDIDATO_URNA</th>\n",
       "      <th>DS_SITUACAO_CANDIDATO_URNA</th>\n",
       "      <th>ST_CANDIDATO_INSERIDO_URNA</th>\n",
       "    </tr>\n",
       "  </thead>\n",
       "  <tbody>\n",
       "    <tr>\n",
       "      <th>0</th>\n",
       "      <td>14/11/2021</td>\n",
       "      <td>10:01:09</td>\n",
       "      <td>2018</td>\n",
       "      <td>2</td>\n",
       "      <td>ELEIÇÃO ORDINÁRIA</td>\n",
       "      <td>1</td>\n",
       "      <td>297</td>\n",
       "      <td>Eleições Gerais Estaduais 2018</td>\n",
       "      <td>07/10/2018</td>\n",
       "      <td>ESTADUAL</td>\n",
       "      <td>...</td>\n",
       "      <td>SUPLENTE</td>\n",
       "      <td>N</td>\n",
       "      <td>N</td>\n",
       "      <td>-1</td>\n",
       "      <td>6015009320186260000</td>\n",
       "      <td>2</td>\n",
       "      <td>DEFERIDO</td>\n",
       "      <td>2</td>\n",
       "      <td>DEFERIDO</td>\n",
       "      <td>SIM</td>\n",
       "    </tr>\n",
       "    <tr>\n",
       "      <th>1</th>\n",
       "      <td>14/11/2021</td>\n",
       "      <td>10:01:09</td>\n",
       "      <td>2018</td>\n",
       "      <td>2</td>\n",
       "      <td>ELEIÇÃO ORDINÁRIA</td>\n",
       "      <td>1</td>\n",
       "      <td>297</td>\n",
       "      <td>Eleições Gerais Estaduais 2018</td>\n",
       "      <td>07/10/2018</td>\n",
       "      <td>ESTADUAL</td>\n",
       "      <td>...</td>\n",
       "      <td>SUPLENTE</td>\n",
       "      <td>N</td>\n",
       "      <td>S</td>\n",
       "      <td>-1</td>\n",
       "      <td>6011376320186240000</td>\n",
       "      <td>2</td>\n",
       "      <td>DEFERIDO</td>\n",
       "      <td>2</td>\n",
       "      <td>DEFERIDO</td>\n",
       "      <td>SIM</td>\n",
       "    </tr>\n",
       "    <tr>\n",
       "      <th>2</th>\n",
       "      <td>14/11/2021</td>\n",
       "      <td>10:01:09</td>\n",
       "      <td>2018</td>\n",
       "      <td>2</td>\n",
       "      <td>ELEIÇÃO ORDINÁRIA</td>\n",
       "      <td>1</td>\n",
       "      <td>297</td>\n",
       "      <td>Eleições Gerais Estaduais 2018</td>\n",
       "      <td>07/10/2018</td>\n",
       "      <td>ESTADUAL</td>\n",
       "      <td>...</td>\n",
       "      <td>SUPLENTE</td>\n",
       "      <td>N</td>\n",
       "      <td>S</td>\n",
       "      <td>-1</td>\n",
       "      <td>6007699820186080000</td>\n",
       "      <td>2</td>\n",
       "      <td>DEFERIDO</td>\n",
       "      <td>2</td>\n",
       "      <td>DEFERIDO</td>\n",
       "      <td>SIM</td>\n",
       "    </tr>\n",
       "    <tr>\n",
       "      <th>3</th>\n",
       "      <td>14/11/2021</td>\n",
       "      <td>10:01:09</td>\n",
       "      <td>2018</td>\n",
       "      <td>2</td>\n",
       "      <td>ELEIÇÃO ORDINÁRIA</td>\n",
       "      <td>1</td>\n",
       "      <td>297</td>\n",
       "      <td>Eleições Gerais Estaduais 2018</td>\n",
       "      <td>07/10/2018</td>\n",
       "      <td>ESTADUAL</td>\n",
       "      <td>...</td>\n",
       "      <td>NÃO ELEITO</td>\n",
       "      <td>N</td>\n",
       "      <td>N</td>\n",
       "      <td>-1</td>\n",
       "      <td>6005074620186010000</td>\n",
       "      <td>2</td>\n",
       "      <td>DEFERIDO</td>\n",
       "      <td>2</td>\n",
       "      <td>DEFERIDO</td>\n",
       "      <td>SIM</td>\n",
       "    </tr>\n",
       "    <tr>\n",
       "      <th>4</th>\n",
       "      <td>14/11/2021</td>\n",
       "      <td>10:01:09</td>\n",
       "      <td>2018</td>\n",
       "      <td>2</td>\n",
       "      <td>ELEIÇÃO ORDINÁRIA</td>\n",
       "      <td>1</td>\n",
       "      <td>297</td>\n",
       "      <td>Eleições Gerais Estaduais 2018</td>\n",
       "      <td>07/10/2018</td>\n",
       "      <td>ESTADUAL</td>\n",
       "      <td>...</td>\n",
       "      <td>NÃO ELEITO</td>\n",
       "      <td>N</td>\n",
       "      <td>N</td>\n",
       "      <td>-1</td>\n",
       "      <td>6014875220186060000</td>\n",
       "      <td>14</td>\n",
       "      <td>INDEFERIDO</td>\n",
       "      <td>4</td>\n",
       "      <td>INDEFERIDO COM RECURSO</td>\n",
       "      <td>SIM</td>\n",
       "    </tr>\n",
       "    <tr>\n",
       "      <th>...</th>\n",
       "      <td>...</td>\n",
       "      <td>...</td>\n",
       "      <td>...</td>\n",
       "      <td>...</td>\n",
       "      <td>...</td>\n",
       "      <td>...</td>\n",
       "      <td>...</td>\n",
       "      <td>...</td>\n",
       "      <td>...</td>\n",
       "      <td>...</td>\n",
       "      <td>...</td>\n",
       "      <td>...</td>\n",
       "      <td>...</td>\n",
       "      <td>...</td>\n",
       "      <td>...</td>\n",
       "      <td>...</td>\n",
       "      <td>...</td>\n",
       "      <td>...</td>\n",
       "      <td>...</td>\n",
       "      <td>...</td>\n",
       "      <td>...</td>\n",
       "    </tr>\n",
       "    <tr>\n",
       "      <th>29175</th>\n",
       "      <td>14/11/2021</td>\n",
       "      <td>10:01:09</td>\n",
       "      <td>2018</td>\n",
       "      <td>2</td>\n",
       "      <td>ELEIÇÃO ORDINÁRIA</td>\n",
       "      <td>1</td>\n",
       "      <td>297</td>\n",
       "      <td>Eleições Gerais Estaduais 2018</td>\n",
       "      <td>07/10/2018</td>\n",
       "      <td>ESTADUAL</td>\n",
       "      <td>...</td>\n",
       "      <td>NÃO ELEITO</td>\n",
       "      <td>N</td>\n",
       "      <td>N</td>\n",
       "      <td>-1</td>\n",
       "      <td>6009110520186080000</td>\n",
       "      <td>4</td>\n",
       "      <td>INDEFERIDO COM RECURSO</td>\n",
       "      <td>4</td>\n",
       "      <td>INDEFERIDO COM RECURSO</td>\n",
       "      <td>SIM</td>\n",
       "    </tr>\n",
       "    <tr>\n",
       "      <th>29176</th>\n",
       "      <td>14/11/2021</td>\n",
       "      <td>10:01:09</td>\n",
       "      <td>2018</td>\n",
       "      <td>2</td>\n",
       "      <td>ELEIÇÃO ORDINÁRIA</td>\n",
       "      <td>1</td>\n",
       "      <td>297</td>\n",
       "      <td>Eleições Gerais Estaduais 2018</td>\n",
       "      <td>07/10/2018</td>\n",
       "      <td>ESTADUAL</td>\n",
       "      <td>...</td>\n",
       "      <td>ELEITO POR QP</td>\n",
       "      <td>S</td>\n",
       "      <td>S</td>\n",
       "      <td>-1</td>\n",
       "      <td>6011611620186160000</td>\n",
       "      <td>2</td>\n",
       "      <td>DEFERIDO</td>\n",
       "      <td>2</td>\n",
       "      <td>DEFERIDO</td>\n",
       "      <td>SIM</td>\n",
       "    </tr>\n",
       "    <tr>\n",
       "      <th>29177</th>\n",
       "      <td>14/11/2021</td>\n",
       "      <td>10:01:09</td>\n",
       "      <td>2018</td>\n",
       "      <td>2</td>\n",
       "      <td>ELEIÇÃO ORDINÁRIA</td>\n",
       "      <td>1</td>\n",
       "      <td>297</td>\n",
       "      <td>Eleições Gerais Estaduais 2018</td>\n",
       "      <td>07/10/2018</td>\n",
       "      <td>ESTADUAL</td>\n",
       "      <td>...</td>\n",
       "      <td>SUPLENTE</td>\n",
       "      <td>N</td>\n",
       "      <td>S</td>\n",
       "      <td>-1</td>\n",
       "      <td>6025782020186190000</td>\n",
       "      <td>2</td>\n",
       "      <td>DEFERIDO</td>\n",
       "      <td>2</td>\n",
       "      <td>DEFERIDO</td>\n",
       "      <td>SIM</td>\n",
       "    </tr>\n",
       "    <tr>\n",
       "      <th>29178</th>\n",
       "      <td>14/11/2021</td>\n",
       "      <td>10:01:09</td>\n",
       "      <td>2018</td>\n",
       "      <td>2</td>\n",
       "      <td>ELEIÇÃO ORDINÁRIA</td>\n",
       "      <td>1</td>\n",
       "      <td>297</td>\n",
       "      <td>Eleições Gerais Estaduais 2018</td>\n",
       "      <td>07/10/2018</td>\n",
       "      <td>ESTADUAL</td>\n",
       "      <td>...</td>\n",
       "      <td>NÃO ELEITO</td>\n",
       "      <td>N</td>\n",
       "      <td>N</td>\n",
       "      <td>-1</td>\n",
       "      <td>6005251220186210000</td>\n",
       "      <td>2</td>\n",
       "      <td>DEFERIDO</td>\n",
       "      <td>2</td>\n",
       "      <td>DEFERIDO</td>\n",
       "      <td>SIM</td>\n",
       "    </tr>\n",
       "    <tr>\n",
       "      <th>29179</th>\n",
       "      <td>14/11/2021</td>\n",
       "      <td>10:01:09</td>\n",
       "      <td>2018</td>\n",
       "      <td>2</td>\n",
       "      <td>ELEIÇÃO ORDINÁRIA</td>\n",
       "      <td>1</td>\n",
       "      <td>297</td>\n",
       "      <td>Eleições Gerais Estaduais 2018</td>\n",
       "      <td>07/10/2018</td>\n",
       "      <td>ESTADUAL</td>\n",
       "      <td>...</td>\n",
       "      <td>SUPLENTE</td>\n",
       "      <td>N</td>\n",
       "      <td>N</td>\n",
       "      <td>-1</td>\n",
       "      <td>6014643020186160000</td>\n",
       "      <td>2</td>\n",
       "      <td>DEFERIDO</td>\n",
       "      <td>2</td>\n",
       "      <td>DEFERIDO</td>\n",
       "      <td>SIM</td>\n",
       "    </tr>\n",
       "  </tbody>\n",
       "</table>\n",
       "<p>29180 rows × 63 columns</p>\n",
       "</div>"
      ],
      "text/plain": [
       "       DT_GERACAO HH_GERACAO  ANO_ELEICAO  CD_TIPO_ELEICAO    NM_TIPO_ELEICAO  \\\n",
       "0      14/11/2021   10:01:09         2018                2  ELEIÇÃO ORDINÁRIA   \n",
       "1      14/11/2021   10:01:09         2018                2  ELEIÇÃO ORDINÁRIA   \n",
       "2      14/11/2021   10:01:09         2018                2  ELEIÇÃO ORDINÁRIA   \n",
       "3      14/11/2021   10:01:09         2018                2  ELEIÇÃO ORDINÁRIA   \n",
       "4      14/11/2021   10:01:09         2018                2  ELEIÇÃO ORDINÁRIA   \n",
       "...           ...        ...          ...              ...                ...   \n",
       "29175  14/11/2021   10:01:09         2018                2  ELEIÇÃO ORDINÁRIA   \n",
       "29176  14/11/2021   10:01:09         2018                2  ELEIÇÃO ORDINÁRIA   \n",
       "29177  14/11/2021   10:01:09         2018                2  ELEIÇÃO ORDINÁRIA   \n",
       "29178  14/11/2021   10:01:09         2018                2  ELEIÇÃO ORDINÁRIA   \n",
       "29179  14/11/2021   10:01:09         2018                2  ELEIÇÃO ORDINÁRIA   \n",
       "\n",
       "       NR_TURNO  CD_ELEICAO                      DS_ELEICAO  DT_ELEICAO  \\\n",
       "0             1         297  Eleições Gerais Estaduais 2018  07/10/2018   \n",
       "1             1         297  Eleições Gerais Estaduais 2018  07/10/2018   \n",
       "2             1         297  Eleições Gerais Estaduais 2018  07/10/2018   \n",
       "3             1         297  Eleições Gerais Estaduais 2018  07/10/2018   \n",
       "4             1         297  Eleições Gerais Estaduais 2018  07/10/2018   \n",
       "...         ...         ...                             ...         ...   \n",
       "29175         1         297  Eleições Gerais Estaduais 2018  07/10/2018   \n",
       "29176         1         297  Eleições Gerais Estaduais 2018  07/10/2018   \n",
       "29177         1         297  Eleições Gerais Estaduais 2018  07/10/2018   \n",
       "29178         1         297  Eleições Gerais Estaduais 2018  07/10/2018   \n",
       "29179         1         297  Eleições Gerais Estaduais 2018  07/10/2018   \n",
       "\n",
       "      TP_ABRANGENCIA  ... DS_SIT_TOT_TURNO ST_REELEICAO ST_DECLARAR_BENS  \\\n",
       "0           ESTADUAL  ...         SUPLENTE            N                N   \n",
       "1           ESTADUAL  ...         SUPLENTE            N                S   \n",
       "2           ESTADUAL  ...         SUPLENTE            N                S   \n",
       "3           ESTADUAL  ...       NÃO ELEITO            N                N   \n",
       "4           ESTADUAL  ...       NÃO ELEITO            N                N   \n",
       "...              ...  ...              ...          ...              ...   \n",
       "29175       ESTADUAL  ...       NÃO ELEITO            N                N   \n",
       "29176       ESTADUAL  ...    ELEITO POR QP            S                S   \n",
       "29177       ESTADUAL  ...         SUPLENTE            N                S   \n",
       "29178       ESTADUAL  ...       NÃO ELEITO            N                N   \n",
       "29179       ESTADUAL  ...         SUPLENTE            N                N   \n",
       "\n",
       "       NR_PROTOCOLO_CANDIDATURA          NR_PROCESSO  \\\n",
       "0                            -1  6015009320186260000   \n",
       "1                            -1  6011376320186240000   \n",
       "2                            -1  6007699820186080000   \n",
       "3                            -1  6005074620186010000   \n",
       "4                            -1  6014875220186060000   \n",
       "...                         ...                  ...   \n",
       "29175                        -1  6009110520186080000   \n",
       "29176                        -1  6011611620186160000   \n",
       "29177                        -1  6025782020186190000   \n",
       "29178                        -1  6005251220186210000   \n",
       "29179                        -1  6014643020186160000   \n",
       "\n",
       "       CD_SITUACAO_CANDIDATO_PLEITO  DS_SITUACAO_CANDIDATO_PLEITO  \\\n",
       "0                                 2                      DEFERIDO   \n",
       "1                                 2                      DEFERIDO   \n",
       "2                                 2                      DEFERIDO   \n",
       "3                                 2                      DEFERIDO   \n",
       "4                                14                    INDEFERIDO   \n",
       "...                             ...                           ...   \n",
       "29175                             4        INDEFERIDO COM RECURSO   \n",
       "29176                             2                      DEFERIDO   \n",
       "29177                             2                      DEFERIDO   \n",
       "29178                             2                      DEFERIDO   \n",
       "29179                             2                      DEFERIDO   \n",
       "\n",
       "      CD_SITUACAO_CANDIDATO_URNA DS_SITUACAO_CANDIDATO_URNA  \\\n",
       "0                              2                   DEFERIDO   \n",
       "1                              2                   DEFERIDO   \n",
       "2                              2                   DEFERIDO   \n",
       "3                              2                   DEFERIDO   \n",
       "4                              4     INDEFERIDO COM RECURSO   \n",
       "...                          ...                        ...   \n",
       "29175                          4     INDEFERIDO COM RECURSO   \n",
       "29176                          2                   DEFERIDO   \n",
       "29177                          2                   DEFERIDO   \n",
       "29178                          2                   DEFERIDO   \n",
       "29179                          2                   DEFERIDO   \n",
       "\n",
       "      ST_CANDIDATO_INSERIDO_URNA  \n",
       "0                            SIM  \n",
       "1                            SIM  \n",
       "2                            SIM  \n",
       "3                            SIM  \n",
       "4                            SIM  \n",
       "...                          ...  \n",
       "29175                        SIM  \n",
       "29176                        SIM  \n",
       "29177                        SIM  \n",
       "29178                        SIM  \n",
       "29179                        SIM  \n",
       "\n",
       "[29180 rows x 63 columns]"
      ]
     },
     "execution_count": 2,
     "metadata": {},
     "output_type": "execute_result"
    }
   ],
   "source": [
    "url_cand = 'https://cdn.tse.jus.br/estatistica/sead/odsele/consulta_cand/consulta_cand_2018.zip'\n",
    "filename_cand = 'consulta_cand_2018_BRASIL.csv'\n",
    "candidatos = import_web(url_cand, filename_cand)\n",
    "candidatos"
   ]
  },
  {
   "cell_type": "code",
   "execution_count": 3,
   "id": "34663649",
   "metadata": {},
   "outputs": [
    {
     "data": {
      "text/html": [
       "<div>\n",
       "<style scoped>\n",
       "    .dataframe tbody tr th:only-of-type {\n",
       "        vertical-align: middle;\n",
       "    }\n",
       "\n",
       "    .dataframe tbody tr th {\n",
       "        vertical-align: top;\n",
       "    }\n",
       "\n",
       "    .dataframe thead th {\n",
       "        text-align: right;\n",
       "    }\n",
       "</style>\n",
       "<table border=\"1\" class=\"dataframe\">\n",
       "  <thead>\n",
       "    <tr style=\"text-align: right;\">\n",
       "      <th></th>\n",
       "      <th>DT_GERACAO</th>\n",
       "      <th>HH_GERACAO</th>\n",
       "      <th>ANO_ELEICAO</th>\n",
       "      <th>CD_TIPO_ELEICAO</th>\n",
       "      <th>NM_TIPO_ELEICAO</th>\n",
       "      <th>CD_ELEICAO</th>\n",
       "      <th>DS_ELEICAO</th>\n",
       "      <th>DT_ELEICAO</th>\n",
       "      <th>ST_TURNO</th>\n",
       "      <th>TP_PRESTACAO_CONTAS</th>\n",
       "      <th>...</th>\n",
       "      <th>DS_CARGO_CANDIDATO_DOADOR</th>\n",
       "      <th>NR_PARTIDO_DOADOR</th>\n",
       "      <th>SG_PARTIDO_DOADOR</th>\n",
       "      <th>NM_PARTIDO_DOADOR</th>\n",
       "      <th>NR_RECIBO_DOACAO</th>\n",
       "      <th>NR_DOCUMENTO_DOACAO</th>\n",
       "      <th>SQ_RECEITA</th>\n",
       "      <th>DT_RECEITA</th>\n",
       "      <th>DS_RECEITA</th>\n",
       "      <th>VR_RECEITA</th>\n",
       "    </tr>\n",
       "  </thead>\n",
       "  <tbody>\n",
       "    <tr>\n",
       "      <th>0</th>\n",
       "      <td>14/11/2021</td>\n",
       "      <td>09:15:48</td>\n",
       "      <td>2018</td>\n",
       "      <td>2</td>\n",
       "      <td>Ordinária</td>\n",
       "      <td>297</td>\n",
       "      <td>Eleição Geral Federal 2018</td>\n",
       "      <td>07/10/2018</td>\n",
       "      <td>1</td>\n",
       "      <td>Final</td>\n",
       "      <td>...</td>\n",
       "      <td>NaN</td>\n",
       "      <td>18</td>\n",
       "      <td>REDE</td>\n",
       "      <td>Rede Sustentabilidade</td>\n",
       "      <td>000180300000AC000002E</td>\n",
       "      <td>93641</td>\n",
       "      <td>11972619</td>\n",
       "      <td>05/10/2018</td>\n",
       "      <td>NaN</td>\n",
       "      <td>700,00</td>\n",
       "    </tr>\n",
       "    <tr>\n",
       "      <th>1</th>\n",
       "      <td>14/11/2021</td>\n",
       "      <td>09:15:48</td>\n",
       "      <td>2018</td>\n",
       "      <td>2</td>\n",
       "      <td>Ordinária</td>\n",
       "      <td>297</td>\n",
       "      <td>Eleição Geral Federal 2018</td>\n",
       "      <td>07/10/2018</td>\n",
       "      <td>1</td>\n",
       "      <td>Final</td>\n",
       "      <td>...</td>\n",
       "      <td>NaN</td>\n",
       "      <td>18</td>\n",
       "      <td>REDE</td>\n",
       "      <td>Rede Sustentabilidade</td>\n",
       "      <td>000180300000AC000003E</td>\n",
       "      <td>012</td>\n",
       "      <td>11972620</td>\n",
       "      <td>20/09/2018</td>\n",
       "      <td>NaN</td>\n",
       "      <td>800,00</td>\n",
       "    </tr>\n",
       "    <tr>\n",
       "      <th>2</th>\n",
       "      <td>14/11/2021</td>\n",
       "      <td>09:15:48</td>\n",
       "      <td>2018</td>\n",
       "      <td>2</td>\n",
       "      <td>Ordinária</td>\n",
       "      <td>297</td>\n",
       "      <td>Eleição Geral Federal 2018</td>\n",
       "      <td>07/10/2018</td>\n",
       "      <td>1</td>\n",
       "      <td>Final</td>\n",
       "      <td>...</td>\n",
       "      <td>Deputado Federal</td>\n",
       "      <td>18</td>\n",
       "      <td>REDE</td>\n",
       "      <td>Rede Sustentabilidade</td>\n",
       "      <td>000180300000AC000001E</td>\n",
       "      <td>255011</td>\n",
       "      <td>11972618</td>\n",
       "      <td>05/09/2018</td>\n",
       "      <td>NaN</td>\n",
       "      <td>10000,00</td>\n",
       "    </tr>\n",
       "    <tr>\n",
       "      <th>3</th>\n",
       "      <td>14/11/2021</td>\n",
       "      <td>09:15:48</td>\n",
       "      <td>2018</td>\n",
       "      <td>2</td>\n",
       "      <td>Ordinária</td>\n",
       "      <td>297</td>\n",
       "      <td>Eleição Geral Federal 2018</td>\n",
       "      <td>07/10/2018</td>\n",
       "      <td>1</td>\n",
       "      <td>Final</td>\n",
       "      <td>...</td>\n",
       "      <td>NaN</td>\n",
       "      <td>-1</td>\n",
       "      <td>NaN</td>\n",
       "      <td>NaN</td>\n",
       "      <td>000180300000AC000004E</td>\n",
       "      <td>NaN</td>\n",
       "      <td>11972621</td>\n",
       "      <td>16/08/2018</td>\n",
       "      <td>SERVIÇOS DE CONTABILIDADE PARA PRESTAÇÃO DE CO...</td>\n",
       "      <td>800,00</td>\n",
       "    </tr>\n",
       "    <tr>\n",
       "      <th>4</th>\n",
       "      <td>14/11/2021</td>\n",
       "      <td>09:15:48</td>\n",
       "      <td>2018</td>\n",
       "      <td>2</td>\n",
       "      <td>Ordinária</td>\n",
       "      <td>297</td>\n",
       "      <td>Eleição Geral Federal 2018</td>\n",
       "      <td>07/10/2018</td>\n",
       "      <td>1</td>\n",
       "      <td>Final</td>\n",
       "      <td>...</td>\n",
       "      <td>Senador</td>\n",
       "      <td>18</td>\n",
       "      <td>REDE</td>\n",
       "      <td>Rede Sustentabilidade</td>\n",
       "      <td>001810500000AC000006E</td>\n",
       "      <td>222359000113768</td>\n",
       "      <td>12067695</td>\n",
       "      <td>11/10/2018</td>\n",
       "      <td>NaN</td>\n",
       "      <td>8000,00</td>\n",
       "    </tr>\n",
       "    <tr>\n",
       "      <th>...</th>\n",
       "      <td>...</td>\n",
       "      <td>...</td>\n",
       "      <td>...</td>\n",
       "      <td>...</td>\n",
       "      <td>...</td>\n",
       "      <td>...</td>\n",
       "      <td>...</td>\n",
       "      <td>...</td>\n",
       "      <td>...</td>\n",
       "      <td>...</td>\n",
       "      <td>...</td>\n",
       "      <td>...</td>\n",
       "      <td>...</td>\n",
       "      <td>...</td>\n",
       "      <td>...</td>\n",
       "      <td>...</td>\n",
       "      <td>...</td>\n",
       "      <td>...</td>\n",
       "      <td>...</td>\n",
       "      <td>...</td>\n",
       "      <td>...</td>\n",
       "    </tr>\n",
       "    <tr>\n",
       "      <th>326788</th>\n",
       "      <td>14/11/2021</td>\n",
       "      <td>09:15:48</td>\n",
       "      <td>2018</td>\n",
       "      <td>2</td>\n",
       "      <td>Ordinária</td>\n",
       "      <td>297</td>\n",
       "      <td>Eleição Geral Federal 2018</td>\n",
       "      <td>07/10/2018</td>\n",
       "      <td>1</td>\n",
       "      <td>Final</td>\n",
       "      <td>...</td>\n",
       "      <td>Deputado Estadual</td>\n",
       "      <td>23</td>\n",
       "      <td>PPS</td>\n",
       "      <td>Partido Popular Socialista</td>\n",
       "      <td>236230700000TO000002E</td>\n",
       "      <td>NaN</td>\n",
       "      <td>12024569</td>\n",
       "      <td>04/10/2018</td>\n",
       "      <td>CONTRATO PRESTAÇÃO DE SERVIÇO ASSESSORIA E CON...</td>\n",
       "      <td>1000,00</td>\n",
       "    </tr>\n",
       "    <tr>\n",
       "      <th>326789</th>\n",
       "      <td>14/11/2021</td>\n",
       "      <td>09:15:48</td>\n",
       "      <td>2018</td>\n",
       "      <td>2</td>\n",
       "      <td>Ordinária</td>\n",
       "      <td>297</td>\n",
       "      <td>Eleição Geral Federal 2018</td>\n",
       "      <td>07/10/2018</td>\n",
       "      <td>1</td>\n",
       "      <td>Final</td>\n",
       "      <td>...</td>\n",
       "      <td>Deputado Estadual</td>\n",
       "      <td>23</td>\n",
       "      <td>PPS</td>\n",
       "      <td>Partido Popular Socialista</td>\n",
       "      <td>236230700000TO000006E</td>\n",
       "      <td>NaN</td>\n",
       "      <td>12024567</td>\n",
       "      <td>03/10/2018</td>\n",
       "      <td>PRAGUINHA TAM 7X10 CM 4/4 CORES PAPEL ADESIVO ...</td>\n",
       "      <td>249,45</td>\n",
       "    </tr>\n",
       "    <tr>\n",
       "      <th>326790</th>\n",
       "      <td>14/11/2021</td>\n",
       "      <td>09:15:48</td>\n",
       "      <td>2018</td>\n",
       "      <td>2</td>\n",
       "      <td>Ordinária</td>\n",
       "      <td>297</td>\n",
       "      <td>Eleição Geral Federal 2018</td>\n",
       "      <td>07/10/2018</td>\n",
       "      <td>1</td>\n",
       "      <td>Final</td>\n",
       "      <td>...</td>\n",
       "      <td>Deputado Estadual</td>\n",
       "      <td>23</td>\n",
       "      <td>PPS</td>\n",
       "      <td>Partido Popular Socialista</td>\n",
       "      <td>236230700000TO000004E</td>\n",
       "      <td>NaN</td>\n",
       "      <td>12024570</td>\n",
       "      <td>20/09/2018</td>\n",
       "      <td>PRODUÇÃO PROGRAMAS ELEITORAIS E MIDIAS CONFORM...</td>\n",
       "      <td>2000,00</td>\n",
       "    </tr>\n",
       "    <tr>\n",
       "      <th>326791</th>\n",
       "      <td>14/11/2021</td>\n",
       "      <td>09:15:48</td>\n",
       "      <td>2018</td>\n",
       "      <td>2</td>\n",
       "      <td>Ordinária</td>\n",
       "      <td>297</td>\n",
       "      <td>Eleição Geral Federal 2018</td>\n",
       "      <td>07/10/2018</td>\n",
       "      <td>1</td>\n",
       "      <td>Final</td>\n",
       "      <td>...</td>\n",
       "      <td>NaN</td>\n",
       "      <td>-1</td>\n",
       "      <td>NaN</td>\n",
       "      <td>NaN</td>\n",
       "      <td>040200600000TO000002E</td>\n",
       "      <td>221505000065973</td>\n",
       "      <td>12141187</td>\n",
       "      <td>05/11/2018</td>\n",
       "      <td>NaN</td>\n",
       "      <td>1510,00</td>\n",
       "    </tr>\n",
       "    <tr>\n",
       "      <th>326792</th>\n",
       "      <td>14/11/2021</td>\n",
       "      <td>09:15:48</td>\n",
       "      <td>2018</td>\n",
       "      <td>2</td>\n",
       "      <td>Ordinária</td>\n",
       "      <td>297</td>\n",
       "      <td>Eleição Geral Federal 2018</td>\n",
       "      <td>07/10/2018</td>\n",
       "      <td>1</td>\n",
       "      <td>Final</td>\n",
       "      <td>...</td>\n",
       "      <td>NaN</td>\n",
       "      <td>-1</td>\n",
       "      <td>NaN</td>\n",
       "      <td>NaN</td>\n",
       "      <td>040200600000TO000001E</td>\n",
       "      <td>NaN</td>\n",
       "      <td>12141186</td>\n",
       "      <td>27/09/2018</td>\n",
       "      <td>SERVIÇO DE CONTABILISTA CAMPANHA 2018</td>\n",
       "      <td>2000,00</td>\n",
       "    </tr>\n",
       "  </tbody>\n",
       "</table>\n",
       "<p>326793 rows × 57 columns</p>\n",
       "</div>"
      ],
      "text/plain": [
       "        DT_GERACAO HH_GERACAO  ANO_ELEICAO  CD_TIPO_ELEICAO NM_TIPO_ELEICAO  \\\n",
       "0       14/11/2021   09:15:48         2018                2       Ordinária   \n",
       "1       14/11/2021   09:15:48         2018                2       Ordinária   \n",
       "2       14/11/2021   09:15:48         2018                2       Ordinária   \n",
       "3       14/11/2021   09:15:48         2018                2       Ordinária   \n",
       "4       14/11/2021   09:15:48         2018                2       Ordinária   \n",
       "...            ...        ...          ...              ...             ...   \n",
       "326788  14/11/2021   09:15:48         2018                2       Ordinária   \n",
       "326789  14/11/2021   09:15:48         2018                2       Ordinária   \n",
       "326790  14/11/2021   09:15:48         2018                2       Ordinária   \n",
       "326791  14/11/2021   09:15:48         2018                2       Ordinária   \n",
       "326792  14/11/2021   09:15:48         2018                2       Ordinária   \n",
       "\n",
       "        CD_ELEICAO                  DS_ELEICAO  DT_ELEICAO  ST_TURNO  \\\n",
       "0              297  Eleição Geral Federal 2018  07/10/2018         1   \n",
       "1              297  Eleição Geral Federal 2018  07/10/2018         1   \n",
       "2              297  Eleição Geral Federal 2018  07/10/2018         1   \n",
       "3              297  Eleição Geral Federal 2018  07/10/2018         1   \n",
       "4              297  Eleição Geral Federal 2018  07/10/2018         1   \n",
       "...            ...                         ...         ...       ...   \n",
       "326788         297  Eleição Geral Federal 2018  07/10/2018         1   \n",
       "326789         297  Eleição Geral Federal 2018  07/10/2018         1   \n",
       "326790         297  Eleição Geral Federal 2018  07/10/2018         1   \n",
       "326791         297  Eleição Geral Federal 2018  07/10/2018         1   \n",
       "326792         297  Eleição Geral Federal 2018  07/10/2018         1   \n",
       "\n",
       "       TP_PRESTACAO_CONTAS  ... DS_CARGO_CANDIDATO_DOADOR  NR_PARTIDO_DOADOR  \\\n",
       "0                    Final  ...                       NaN                 18   \n",
       "1                    Final  ...                       NaN                 18   \n",
       "2                    Final  ...          Deputado Federal                 18   \n",
       "3                    Final  ...                       NaN                 -1   \n",
       "4                    Final  ...                   Senador                 18   \n",
       "...                    ...  ...                       ...                ...   \n",
       "326788               Final  ...         Deputado Estadual                 23   \n",
       "326789               Final  ...         Deputado Estadual                 23   \n",
       "326790               Final  ...         Deputado Estadual                 23   \n",
       "326791               Final  ...                       NaN                 -1   \n",
       "326792               Final  ...                       NaN                 -1   \n",
       "\n",
       "       SG_PARTIDO_DOADOR           NM_PARTIDO_DOADOR       NR_RECIBO_DOACAO  \\\n",
       "0                   REDE       Rede Sustentabilidade  000180300000AC000002E   \n",
       "1                   REDE       Rede Sustentabilidade  000180300000AC000003E   \n",
       "2                   REDE       Rede Sustentabilidade  000180300000AC000001E   \n",
       "3                    NaN                         NaN  000180300000AC000004E   \n",
       "4                   REDE       Rede Sustentabilidade  001810500000AC000006E   \n",
       "...                  ...                         ...                    ...   \n",
       "326788               PPS  Partido Popular Socialista  236230700000TO000002E   \n",
       "326789               PPS  Partido Popular Socialista  236230700000TO000006E   \n",
       "326790               PPS  Partido Popular Socialista  236230700000TO000004E   \n",
       "326791               NaN                         NaN  040200600000TO000002E   \n",
       "326792               NaN                         NaN  040200600000TO000001E   \n",
       "\n",
       "        NR_DOCUMENTO_DOACAO  SQ_RECEITA  DT_RECEITA  \\\n",
       "0                     93641    11972619  05/10/2018   \n",
       "1                       012    11972620  20/09/2018   \n",
       "2                    255011    11972618  05/09/2018   \n",
       "3                       NaN    11972621  16/08/2018   \n",
       "4           222359000113768    12067695  11/10/2018   \n",
       "...                     ...         ...         ...   \n",
       "326788                  NaN    12024569  04/10/2018   \n",
       "326789                  NaN    12024567  03/10/2018   \n",
       "326790                  NaN    12024570  20/09/2018   \n",
       "326791      221505000065973    12141187  05/11/2018   \n",
       "326792                  NaN    12141186  27/09/2018   \n",
       "\n",
       "                                               DS_RECEITA  VR_RECEITA  \n",
       "0                                                     NaN      700,00  \n",
       "1                                                     NaN      800,00  \n",
       "2                                                     NaN    10000,00  \n",
       "3       SERVIÇOS DE CONTABILIDADE PARA PRESTAÇÃO DE CO...      800,00  \n",
       "4                                                     NaN     8000,00  \n",
       "...                                                   ...         ...  \n",
       "326788  CONTRATO PRESTAÇÃO DE SERVIÇO ASSESSORIA E CON...     1000,00  \n",
       "326789  PRAGUINHA TAM 7X10 CM 4/4 CORES PAPEL ADESIVO ...      249,45  \n",
       "326790  PRODUÇÃO PROGRAMAS ELEITORAIS E MIDIAS CONFORM...     2000,00  \n",
       "326791                                                NaN     1510,00  \n",
       "326792              SERVIÇO DE CONTABILISTA CAMPANHA 2018     2000,00  \n",
       "\n",
       "[326793 rows x 57 columns]"
      ]
     },
     "execution_count": 3,
     "metadata": {},
     "output_type": "execute_result"
    }
   ],
   "source": [
    "url_receita = \"https://cdn.tse.jus.br/estatistica/sead/odsele/prestacao_contas/prestacao_de_contas_eleitorais_candidatos_2018.zip\"\n",
    "filename_receita = 'receitas_candidatos_2018_BRASIL.csv'\n",
    "candidatos_receita = import_web(url_receita, filename_receita)\n",
    "candidatos_receita"
   ]
  },
  {
   "cell_type": "code",
   "execution_count": 259,
   "id": "93fd5da6",
   "metadata": {},
   "outputs": [
    {
     "name": "stderr",
     "output_type": "stream",
     "text": [
      "C:\\Users\\ihm\\AppData\\Roaming\\Python\\Python38\\site-packages\\IPython\\core\\interactiveshell.py:3145: DtypeWarning:\n",
      "\n",
      "Columns (20) have mixed types.Specify dtype option on import or set low_memory=False.\n",
      "\n"
     ]
    }
   ],
   "source": [
    "file = r'C:/Users/ihm/Desktop/consulta_cand_2018_BRASIL.csv'\n",
    "candidatos = pd.read_csv(file, sep=\";\", encoding='ISO-8859-1')\n",
    "                            "
   ]
  },
  {
   "cell_type": "code",
   "execution_count": 7,
   "id": "b72222e5",
   "metadata": {},
   "outputs": [
    {
     "data": {
      "text/html": [
       "<div>\n",
       "<style scoped>\n",
       "    .dataframe tbody tr th:only-of-type {\n",
       "        vertical-align: middle;\n",
       "    }\n",
       "\n",
       "    .dataframe tbody tr th {\n",
       "        vertical-align: top;\n",
       "    }\n",
       "\n",
       "    .dataframe thead th {\n",
       "        text-align: right;\n",
       "    }\n",
       "</style>\n",
       "<table border=\"1\" class=\"dataframe\">\n",
       "  <thead>\n",
       "    <tr style=\"text-align: right;\">\n",
       "      <th></th>\n",
       "      <th>DT_GERACAO</th>\n",
       "      <th>HH_GERACAO</th>\n",
       "      <th>ANO_ELEICAO</th>\n",
       "      <th>CD_TIPO_ELEICAO</th>\n",
       "      <th>NM_TIPO_ELEICAO</th>\n",
       "      <th>NR_TURNO</th>\n",
       "      <th>CD_ELEICAO</th>\n",
       "      <th>DS_ELEICAO</th>\n",
       "      <th>DT_ELEICAO</th>\n",
       "      <th>TP_ABRANGENCIA</th>\n",
       "      <th>...</th>\n",
       "      <th>DS_SIT_TOT_TURNO</th>\n",
       "      <th>ST_REELEICAO</th>\n",
       "      <th>ST_DECLARAR_BENS</th>\n",
       "      <th>NR_PROTOCOLO_CANDIDATURA</th>\n",
       "      <th>NR_PROCESSO</th>\n",
       "      <th>CD_SITUACAO_CANDIDATO_PLEITO</th>\n",
       "      <th>DS_SITUACAO_CANDIDATO_PLEITO</th>\n",
       "      <th>CD_SITUACAO_CANDIDATO_URNA</th>\n",
       "      <th>DS_SITUACAO_CANDIDATO_URNA</th>\n",
       "      <th>ST_CANDIDATO_INSERIDO_URNA</th>\n",
       "    </tr>\n",
       "  </thead>\n",
       "  <tbody>\n",
       "    <tr>\n",
       "      <th>0</th>\n",
       "      <td>14/11/2021</td>\n",
       "      <td>10:01:09</td>\n",
       "      <td>2018</td>\n",
       "      <td>2</td>\n",
       "      <td>ELEIÇÃO ORDINÁRIA</td>\n",
       "      <td>1</td>\n",
       "      <td>297</td>\n",
       "      <td>Eleições Gerais Estaduais 2018</td>\n",
       "      <td>07/10/2018</td>\n",
       "      <td>ESTADUAL</td>\n",
       "      <td>...</td>\n",
       "      <td>SUPLENTE</td>\n",
       "      <td>N</td>\n",
       "      <td>N</td>\n",
       "      <td>-1</td>\n",
       "      <td>6015009320186260000</td>\n",
       "      <td>2</td>\n",
       "      <td>DEFERIDO</td>\n",
       "      <td>2</td>\n",
       "      <td>DEFERIDO</td>\n",
       "      <td>SIM</td>\n",
       "    </tr>\n",
       "    <tr>\n",
       "      <th>1</th>\n",
       "      <td>14/11/2021</td>\n",
       "      <td>10:01:09</td>\n",
       "      <td>2018</td>\n",
       "      <td>2</td>\n",
       "      <td>ELEIÇÃO ORDINÁRIA</td>\n",
       "      <td>1</td>\n",
       "      <td>297</td>\n",
       "      <td>Eleições Gerais Estaduais 2018</td>\n",
       "      <td>07/10/2018</td>\n",
       "      <td>ESTADUAL</td>\n",
       "      <td>...</td>\n",
       "      <td>SUPLENTE</td>\n",
       "      <td>N</td>\n",
       "      <td>S</td>\n",
       "      <td>-1</td>\n",
       "      <td>6011376320186240000</td>\n",
       "      <td>2</td>\n",
       "      <td>DEFERIDO</td>\n",
       "      <td>2</td>\n",
       "      <td>DEFERIDO</td>\n",
       "      <td>SIM</td>\n",
       "    </tr>\n",
       "    <tr>\n",
       "      <th>2</th>\n",
       "      <td>14/11/2021</td>\n",
       "      <td>10:01:09</td>\n",
       "      <td>2018</td>\n",
       "      <td>2</td>\n",
       "      <td>ELEIÇÃO ORDINÁRIA</td>\n",
       "      <td>1</td>\n",
       "      <td>297</td>\n",
       "      <td>Eleições Gerais Estaduais 2018</td>\n",
       "      <td>07/10/2018</td>\n",
       "      <td>ESTADUAL</td>\n",
       "      <td>...</td>\n",
       "      <td>SUPLENTE</td>\n",
       "      <td>N</td>\n",
       "      <td>S</td>\n",
       "      <td>-1</td>\n",
       "      <td>6007699820186080000</td>\n",
       "      <td>2</td>\n",
       "      <td>DEFERIDO</td>\n",
       "      <td>2</td>\n",
       "      <td>DEFERIDO</td>\n",
       "      <td>SIM</td>\n",
       "    </tr>\n",
       "    <tr>\n",
       "      <th>3</th>\n",
       "      <td>14/11/2021</td>\n",
       "      <td>10:01:09</td>\n",
       "      <td>2018</td>\n",
       "      <td>2</td>\n",
       "      <td>ELEIÇÃO ORDINÁRIA</td>\n",
       "      <td>1</td>\n",
       "      <td>297</td>\n",
       "      <td>Eleições Gerais Estaduais 2018</td>\n",
       "      <td>07/10/2018</td>\n",
       "      <td>ESTADUAL</td>\n",
       "      <td>...</td>\n",
       "      <td>NÃO ELEITO</td>\n",
       "      <td>N</td>\n",
       "      <td>N</td>\n",
       "      <td>-1</td>\n",
       "      <td>6005074620186010000</td>\n",
       "      <td>2</td>\n",
       "      <td>DEFERIDO</td>\n",
       "      <td>2</td>\n",
       "      <td>DEFERIDO</td>\n",
       "      <td>SIM</td>\n",
       "    </tr>\n",
       "    <tr>\n",
       "      <th>4</th>\n",
       "      <td>14/11/2021</td>\n",
       "      <td>10:01:09</td>\n",
       "      <td>2018</td>\n",
       "      <td>2</td>\n",
       "      <td>ELEIÇÃO ORDINÁRIA</td>\n",
       "      <td>1</td>\n",
       "      <td>297</td>\n",
       "      <td>Eleições Gerais Estaduais 2018</td>\n",
       "      <td>07/10/2018</td>\n",
       "      <td>ESTADUAL</td>\n",
       "      <td>...</td>\n",
       "      <td>NÃO ELEITO</td>\n",
       "      <td>N</td>\n",
       "      <td>N</td>\n",
       "      <td>-1</td>\n",
       "      <td>6014875220186060000</td>\n",
       "      <td>14</td>\n",
       "      <td>INDEFERIDO</td>\n",
       "      <td>4</td>\n",
       "      <td>INDEFERIDO COM RECURSO</td>\n",
       "      <td>SIM</td>\n",
       "    </tr>\n",
       "    <tr>\n",
       "      <th>...</th>\n",
       "      <td>...</td>\n",
       "      <td>...</td>\n",
       "      <td>...</td>\n",
       "      <td>...</td>\n",
       "      <td>...</td>\n",
       "      <td>...</td>\n",
       "      <td>...</td>\n",
       "      <td>...</td>\n",
       "      <td>...</td>\n",
       "      <td>...</td>\n",
       "      <td>...</td>\n",
       "      <td>...</td>\n",
       "      <td>...</td>\n",
       "      <td>...</td>\n",
       "      <td>...</td>\n",
       "      <td>...</td>\n",
       "      <td>...</td>\n",
       "      <td>...</td>\n",
       "      <td>...</td>\n",
       "      <td>...</td>\n",
       "      <td>...</td>\n",
       "    </tr>\n",
       "    <tr>\n",
       "      <th>29175</th>\n",
       "      <td>14/11/2021</td>\n",
       "      <td>10:01:09</td>\n",
       "      <td>2018</td>\n",
       "      <td>2</td>\n",
       "      <td>ELEIÇÃO ORDINÁRIA</td>\n",
       "      <td>1</td>\n",
       "      <td>297</td>\n",
       "      <td>Eleições Gerais Estaduais 2018</td>\n",
       "      <td>07/10/2018</td>\n",
       "      <td>ESTADUAL</td>\n",
       "      <td>...</td>\n",
       "      <td>NÃO ELEITO</td>\n",
       "      <td>N</td>\n",
       "      <td>N</td>\n",
       "      <td>-1</td>\n",
       "      <td>6009110520186080000</td>\n",
       "      <td>4</td>\n",
       "      <td>INDEFERIDO COM RECURSO</td>\n",
       "      <td>4</td>\n",
       "      <td>INDEFERIDO COM RECURSO</td>\n",
       "      <td>SIM</td>\n",
       "    </tr>\n",
       "    <tr>\n",
       "      <th>29176</th>\n",
       "      <td>14/11/2021</td>\n",
       "      <td>10:01:09</td>\n",
       "      <td>2018</td>\n",
       "      <td>2</td>\n",
       "      <td>ELEIÇÃO ORDINÁRIA</td>\n",
       "      <td>1</td>\n",
       "      <td>297</td>\n",
       "      <td>Eleições Gerais Estaduais 2018</td>\n",
       "      <td>07/10/2018</td>\n",
       "      <td>ESTADUAL</td>\n",
       "      <td>...</td>\n",
       "      <td>ELEITO POR QP</td>\n",
       "      <td>S</td>\n",
       "      <td>S</td>\n",
       "      <td>-1</td>\n",
       "      <td>6011611620186160000</td>\n",
       "      <td>2</td>\n",
       "      <td>DEFERIDO</td>\n",
       "      <td>2</td>\n",
       "      <td>DEFERIDO</td>\n",
       "      <td>SIM</td>\n",
       "    </tr>\n",
       "    <tr>\n",
       "      <th>29177</th>\n",
       "      <td>14/11/2021</td>\n",
       "      <td>10:01:09</td>\n",
       "      <td>2018</td>\n",
       "      <td>2</td>\n",
       "      <td>ELEIÇÃO ORDINÁRIA</td>\n",
       "      <td>1</td>\n",
       "      <td>297</td>\n",
       "      <td>Eleições Gerais Estaduais 2018</td>\n",
       "      <td>07/10/2018</td>\n",
       "      <td>ESTADUAL</td>\n",
       "      <td>...</td>\n",
       "      <td>SUPLENTE</td>\n",
       "      <td>N</td>\n",
       "      <td>S</td>\n",
       "      <td>-1</td>\n",
       "      <td>6025782020186190000</td>\n",
       "      <td>2</td>\n",
       "      <td>DEFERIDO</td>\n",
       "      <td>2</td>\n",
       "      <td>DEFERIDO</td>\n",
       "      <td>SIM</td>\n",
       "    </tr>\n",
       "    <tr>\n",
       "      <th>29178</th>\n",
       "      <td>14/11/2021</td>\n",
       "      <td>10:01:09</td>\n",
       "      <td>2018</td>\n",
       "      <td>2</td>\n",
       "      <td>ELEIÇÃO ORDINÁRIA</td>\n",
       "      <td>1</td>\n",
       "      <td>297</td>\n",
       "      <td>Eleições Gerais Estaduais 2018</td>\n",
       "      <td>07/10/2018</td>\n",
       "      <td>ESTADUAL</td>\n",
       "      <td>...</td>\n",
       "      <td>NÃO ELEITO</td>\n",
       "      <td>N</td>\n",
       "      <td>N</td>\n",
       "      <td>-1</td>\n",
       "      <td>6005251220186210000</td>\n",
       "      <td>2</td>\n",
       "      <td>DEFERIDO</td>\n",
       "      <td>2</td>\n",
       "      <td>DEFERIDO</td>\n",
       "      <td>SIM</td>\n",
       "    </tr>\n",
       "    <tr>\n",
       "      <th>29179</th>\n",
       "      <td>14/11/2021</td>\n",
       "      <td>10:01:09</td>\n",
       "      <td>2018</td>\n",
       "      <td>2</td>\n",
       "      <td>ELEIÇÃO ORDINÁRIA</td>\n",
       "      <td>1</td>\n",
       "      <td>297</td>\n",
       "      <td>Eleições Gerais Estaduais 2018</td>\n",
       "      <td>07/10/2018</td>\n",
       "      <td>ESTADUAL</td>\n",
       "      <td>...</td>\n",
       "      <td>SUPLENTE</td>\n",
       "      <td>N</td>\n",
       "      <td>N</td>\n",
       "      <td>-1</td>\n",
       "      <td>6014643020186160000</td>\n",
       "      <td>2</td>\n",
       "      <td>DEFERIDO</td>\n",
       "      <td>2</td>\n",
       "      <td>DEFERIDO</td>\n",
       "      <td>SIM</td>\n",
       "    </tr>\n",
       "  </tbody>\n",
       "</table>\n",
       "<p>29180 rows × 63 columns</p>\n",
       "</div>"
      ],
      "text/plain": [
       "       DT_GERACAO HH_GERACAO  ANO_ELEICAO  CD_TIPO_ELEICAO    NM_TIPO_ELEICAO  \\\n",
       "0      14/11/2021   10:01:09         2018                2  ELEIÇÃO ORDINÁRIA   \n",
       "1      14/11/2021   10:01:09         2018                2  ELEIÇÃO ORDINÁRIA   \n",
       "2      14/11/2021   10:01:09         2018                2  ELEIÇÃO ORDINÁRIA   \n",
       "3      14/11/2021   10:01:09         2018                2  ELEIÇÃO ORDINÁRIA   \n",
       "4      14/11/2021   10:01:09         2018                2  ELEIÇÃO ORDINÁRIA   \n",
       "...           ...        ...          ...              ...                ...   \n",
       "29175  14/11/2021   10:01:09         2018                2  ELEIÇÃO ORDINÁRIA   \n",
       "29176  14/11/2021   10:01:09         2018                2  ELEIÇÃO ORDINÁRIA   \n",
       "29177  14/11/2021   10:01:09         2018                2  ELEIÇÃO ORDINÁRIA   \n",
       "29178  14/11/2021   10:01:09         2018                2  ELEIÇÃO ORDINÁRIA   \n",
       "29179  14/11/2021   10:01:09         2018                2  ELEIÇÃO ORDINÁRIA   \n",
       "\n",
       "       NR_TURNO  CD_ELEICAO                      DS_ELEICAO  DT_ELEICAO  \\\n",
       "0             1         297  Eleições Gerais Estaduais 2018  07/10/2018   \n",
       "1             1         297  Eleições Gerais Estaduais 2018  07/10/2018   \n",
       "2             1         297  Eleições Gerais Estaduais 2018  07/10/2018   \n",
       "3             1         297  Eleições Gerais Estaduais 2018  07/10/2018   \n",
       "4             1         297  Eleições Gerais Estaduais 2018  07/10/2018   \n",
       "...         ...         ...                             ...         ...   \n",
       "29175         1         297  Eleições Gerais Estaduais 2018  07/10/2018   \n",
       "29176         1         297  Eleições Gerais Estaduais 2018  07/10/2018   \n",
       "29177         1         297  Eleições Gerais Estaduais 2018  07/10/2018   \n",
       "29178         1         297  Eleições Gerais Estaduais 2018  07/10/2018   \n",
       "29179         1         297  Eleições Gerais Estaduais 2018  07/10/2018   \n",
       "\n",
       "      TP_ABRANGENCIA  ... DS_SIT_TOT_TURNO ST_REELEICAO ST_DECLARAR_BENS  \\\n",
       "0           ESTADUAL  ...         SUPLENTE            N                N   \n",
       "1           ESTADUAL  ...         SUPLENTE            N                S   \n",
       "2           ESTADUAL  ...         SUPLENTE            N                S   \n",
       "3           ESTADUAL  ...       NÃO ELEITO            N                N   \n",
       "4           ESTADUAL  ...       NÃO ELEITO            N                N   \n",
       "...              ...  ...              ...          ...              ...   \n",
       "29175       ESTADUAL  ...       NÃO ELEITO            N                N   \n",
       "29176       ESTADUAL  ...    ELEITO POR QP            S                S   \n",
       "29177       ESTADUAL  ...         SUPLENTE            N                S   \n",
       "29178       ESTADUAL  ...       NÃO ELEITO            N                N   \n",
       "29179       ESTADUAL  ...         SUPLENTE            N                N   \n",
       "\n",
       "       NR_PROTOCOLO_CANDIDATURA          NR_PROCESSO  \\\n",
       "0                            -1  6015009320186260000   \n",
       "1                            -1  6011376320186240000   \n",
       "2                            -1  6007699820186080000   \n",
       "3                            -1  6005074620186010000   \n",
       "4                            -1  6014875220186060000   \n",
       "...                         ...                  ...   \n",
       "29175                        -1  6009110520186080000   \n",
       "29176                        -1  6011611620186160000   \n",
       "29177                        -1  6025782020186190000   \n",
       "29178                        -1  6005251220186210000   \n",
       "29179                        -1  6014643020186160000   \n",
       "\n",
       "       CD_SITUACAO_CANDIDATO_PLEITO  DS_SITUACAO_CANDIDATO_PLEITO  \\\n",
       "0                                 2                      DEFERIDO   \n",
       "1                                 2                      DEFERIDO   \n",
       "2                                 2                      DEFERIDO   \n",
       "3                                 2                      DEFERIDO   \n",
       "4                                14                    INDEFERIDO   \n",
       "...                             ...                           ...   \n",
       "29175                             4        INDEFERIDO COM RECURSO   \n",
       "29176                             2                      DEFERIDO   \n",
       "29177                             2                      DEFERIDO   \n",
       "29178                             2                      DEFERIDO   \n",
       "29179                             2                      DEFERIDO   \n",
       "\n",
       "      CD_SITUACAO_CANDIDATO_URNA DS_SITUACAO_CANDIDATO_URNA  \\\n",
       "0                              2                   DEFERIDO   \n",
       "1                              2                   DEFERIDO   \n",
       "2                              2                   DEFERIDO   \n",
       "3                              2                   DEFERIDO   \n",
       "4                              4     INDEFERIDO COM RECURSO   \n",
       "...                          ...                        ...   \n",
       "29175                          4     INDEFERIDO COM RECURSO   \n",
       "29176                          2                   DEFERIDO   \n",
       "29177                          2                   DEFERIDO   \n",
       "29178                          2                   DEFERIDO   \n",
       "29179                          2                   DEFERIDO   \n",
       "\n",
       "      ST_CANDIDATO_INSERIDO_URNA  \n",
       "0                            SIM  \n",
       "1                            SIM  \n",
       "2                            SIM  \n",
       "3                            SIM  \n",
       "4                            SIM  \n",
       "...                          ...  \n",
       "29175                        SIM  \n",
       "29176                        SIM  \n",
       "29177                        SIM  \n",
       "29178                        SIM  \n",
       "29179                        SIM  \n",
       "\n",
       "[29180 rows x 63 columns]"
      ]
     },
     "execution_count": 7,
     "metadata": {},
     "output_type": "execute_result"
    }
   ],
   "source": [
    "candidatos"
   ]
  },
  {
   "cell_type": "code",
   "execution_count": 260,
   "id": "f1212952",
   "metadata": {},
   "outputs": [],
   "source": [
    "file2 = r'C:/Users/ihm/Desktop/receitas_candidatos_2018_BRASIL.csv'\n",
    "candidatos_receita = pd.read_csv(file2, sep=\";\", encoding='ISO-8859-1')\n",
    "                            "
   ]
  },
  {
   "cell_type": "code",
   "execution_count": 9,
   "id": "10ea32a5",
   "metadata": {},
   "outputs": [
    {
     "data": {
      "text/html": [
       "<div>\n",
       "<style scoped>\n",
       "    .dataframe tbody tr th:only-of-type {\n",
       "        vertical-align: middle;\n",
       "    }\n",
       "\n",
       "    .dataframe tbody tr th {\n",
       "        vertical-align: top;\n",
       "    }\n",
       "\n",
       "    .dataframe thead th {\n",
       "        text-align: right;\n",
       "    }\n",
       "</style>\n",
       "<table border=\"1\" class=\"dataframe\">\n",
       "  <thead>\n",
       "    <tr style=\"text-align: right;\">\n",
       "      <th></th>\n",
       "      <th>DT_GERACAO</th>\n",
       "      <th>HH_GERACAO</th>\n",
       "      <th>ANO_ELEICAO</th>\n",
       "      <th>CD_TIPO_ELEICAO</th>\n",
       "      <th>NM_TIPO_ELEICAO</th>\n",
       "      <th>CD_ELEICAO</th>\n",
       "      <th>DS_ELEICAO</th>\n",
       "      <th>DT_ELEICAO</th>\n",
       "      <th>ST_TURNO</th>\n",
       "      <th>TP_PRESTACAO_CONTAS</th>\n",
       "      <th>...</th>\n",
       "      <th>DS_CARGO_CANDIDATO_DOADOR</th>\n",
       "      <th>NR_PARTIDO_DOADOR</th>\n",
       "      <th>SG_PARTIDO_DOADOR</th>\n",
       "      <th>NM_PARTIDO_DOADOR</th>\n",
       "      <th>NR_RECIBO_DOACAO</th>\n",
       "      <th>NR_DOCUMENTO_DOACAO</th>\n",
       "      <th>SQ_RECEITA</th>\n",
       "      <th>DT_RECEITA</th>\n",
       "      <th>DS_RECEITA</th>\n",
       "      <th>VR_RECEITA</th>\n",
       "    </tr>\n",
       "  </thead>\n",
       "  <tbody>\n",
       "    <tr>\n",
       "      <th>0</th>\n",
       "      <td>14/11/2021</td>\n",
       "      <td>09:15:48</td>\n",
       "      <td>2018</td>\n",
       "      <td>2</td>\n",
       "      <td>Ordinária</td>\n",
       "      <td>297</td>\n",
       "      <td>Eleição Geral Federal 2018</td>\n",
       "      <td>07/10/2018</td>\n",
       "      <td>1</td>\n",
       "      <td>Final</td>\n",
       "      <td>...</td>\n",
       "      <td>#NULO#</td>\n",
       "      <td>18</td>\n",
       "      <td>REDE</td>\n",
       "      <td>Rede Sustentabilidade</td>\n",
       "      <td>000180300000AC000002E</td>\n",
       "      <td>93641</td>\n",
       "      <td>11972619</td>\n",
       "      <td>05/10/2018</td>\n",
       "      <td>#NULO#</td>\n",
       "      <td>700,00</td>\n",
       "    </tr>\n",
       "    <tr>\n",
       "      <th>1</th>\n",
       "      <td>14/11/2021</td>\n",
       "      <td>09:15:48</td>\n",
       "      <td>2018</td>\n",
       "      <td>2</td>\n",
       "      <td>Ordinária</td>\n",
       "      <td>297</td>\n",
       "      <td>Eleição Geral Federal 2018</td>\n",
       "      <td>07/10/2018</td>\n",
       "      <td>1</td>\n",
       "      <td>Final</td>\n",
       "      <td>...</td>\n",
       "      <td>#NULO#</td>\n",
       "      <td>18</td>\n",
       "      <td>REDE</td>\n",
       "      <td>Rede Sustentabilidade</td>\n",
       "      <td>000180300000AC000003E</td>\n",
       "      <td>012</td>\n",
       "      <td>11972620</td>\n",
       "      <td>20/09/2018</td>\n",
       "      <td>#NULO#</td>\n",
       "      <td>800,00</td>\n",
       "    </tr>\n",
       "    <tr>\n",
       "      <th>2</th>\n",
       "      <td>14/11/2021</td>\n",
       "      <td>09:15:48</td>\n",
       "      <td>2018</td>\n",
       "      <td>2</td>\n",
       "      <td>Ordinária</td>\n",
       "      <td>297</td>\n",
       "      <td>Eleição Geral Federal 2018</td>\n",
       "      <td>07/10/2018</td>\n",
       "      <td>1</td>\n",
       "      <td>Final</td>\n",
       "      <td>...</td>\n",
       "      <td>Deputado Federal</td>\n",
       "      <td>18</td>\n",
       "      <td>REDE</td>\n",
       "      <td>Rede Sustentabilidade</td>\n",
       "      <td>000180300000AC000001E</td>\n",
       "      <td>255011</td>\n",
       "      <td>11972618</td>\n",
       "      <td>05/09/2018</td>\n",
       "      <td>#NULO#</td>\n",
       "      <td>10000,00</td>\n",
       "    </tr>\n",
       "    <tr>\n",
       "      <th>3</th>\n",
       "      <td>14/11/2021</td>\n",
       "      <td>09:15:48</td>\n",
       "      <td>2018</td>\n",
       "      <td>2</td>\n",
       "      <td>Ordinária</td>\n",
       "      <td>297</td>\n",
       "      <td>Eleição Geral Federal 2018</td>\n",
       "      <td>07/10/2018</td>\n",
       "      <td>1</td>\n",
       "      <td>Final</td>\n",
       "      <td>...</td>\n",
       "      <td>#NULO#</td>\n",
       "      <td>-1</td>\n",
       "      <td>#NULO#</td>\n",
       "      <td>#NULO#</td>\n",
       "      <td>000180300000AC000004E</td>\n",
       "      <td>#NULO#</td>\n",
       "      <td>11972621</td>\n",
       "      <td>16/08/2018</td>\n",
       "      <td>SERVIÇOS DE CONTABILIDADE PARA PRESTAÇÃO DE CO...</td>\n",
       "      <td>800,00</td>\n",
       "    </tr>\n",
       "    <tr>\n",
       "      <th>4</th>\n",
       "      <td>14/11/2021</td>\n",
       "      <td>09:15:48</td>\n",
       "      <td>2018</td>\n",
       "      <td>2</td>\n",
       "      <td>Ordinária</td>\n",
       "      <td>297</td>\n",
       "      <td>Eleição Geral Federal 2018</td>\n",
       "      <td>07/10/2018</td>\n",
       "      <td>1</td>\n",
       "      <td>Final</td>\n",
       "      <td>...</td>\n",
       "      <td>Senador</td>\n",
       "      <td>18</td>\n",
       "      <td>REDE</td>\n",
       "      <td>Rede Sustentabilidade</td>\n",
       "      <td>001810500000AC000006E</td>\n",
       "      <td>222359000113768</td>\n",
       "      <td>12067695</td>\n",
       "      <td>11/10/2018</td>\n",
       "      <td>#NULO#</td>\n",
       "      <td>8000,00</td>\n",
       "    </tr>\n",
       "    <tr>\n",
       "      <th>...</th>\n",
       "      <td>...</td>\n",
       "      <td>...</td>\n",
       "      <td>...</td>\n",
       "      <td>...</td>\n",
       "      <td>...</td>\n",
       "      <td>...</td>\n",
       "      <td>...</td>\n",
       "      <td>...</td>\n",
       "      <td>...</td>\n",
       "      <td>...</td>\n",
       "      <td>...</td>\n",
       "      <td>...</td>\n",
       "      <td>...</td>\n",
       "      <td>...</td>\n",
       "      <td>...</td>\n",
       "      <td>...</td>\n",
       "      <td>...</td>\n",
       "      <td>...</td>\n",
       "      <td>...</td>\n",
       "      <td>...</td>\n",
       "      <td>...</td>\n",
       "    </tr>\n",
       "    <tr>\n",
       "      <th>326788</th>\n",
       "      <td>14/11/2021</td>\n",
       "      <td>09:15:48</td>\n",
       "      <td>2018</td>\n",
       "      <td>2</td>\n",
       "      <td>Ordinária</td>\n",
       "      <td>297</td>\n",
       "      <td>Eleição Geral Federal 2018</td>\n",
       "      <td>07/10/2018</td>\n",
       "      <td>1</td>\n",
       "      <td>Final</td>\n",
       "      <td>...</td>\n",
       "      <td>Deputado Estadual</td>\n",
       "      <td>23</td>\n",
       "      <td>PPS</td>\n",
       "      <td>Partido Popular Socialista</td>\n",
       "      <td>236230700000TO000002E</td>\n",
       "      <td>#NULO#</td>\n",
       "      <td>12024569</td>\n",
       "      <td>04/10/2018</td>\n",
       "      <td>CONTRATO PRESTAÇÃO DE SERVIÇO ASSESSORIA E CON...</td>\n",
       "      <td>1000,00</td>\n",
       "    </tr>\n",
       "    <tr>\n",
       "      <th>326789</th>\n",
       "      <td>14/11/2021</td>\n",
       "      <td>09:15:48</td>\n",
       "      <td>2018</td>\n",
       "      <td>2</td>\n",
       "      <td>Ordinária</td>\n",
       "      <td>297</td>\n",
       "      <td>Eleição Geral Federal 2018</td>\n",
       "      <td>07/10/2018</td>\n",
       "      <td>1</td>\n",
       "      <td>Final</td>\n",
       "      <td>...</td>\n",
       "      <td>Deputado Estadual</td>\n",
       "      <td>23</td>\n",
       "      <td>PPS</td>\n",
       "      <td>Partido Popular Socialista</td>\n",
       "      <td>236230700000TO000006E</td>\n",
       "      <td>#NULO#</td>\n",
       "      <td>12024567</td>\n",
       "      <td>03/10/2018</td>\n",
       "      <td>PRAGUINHA TAM 7X10 CM 4/4 CORES PAPEL ADESIVO ...</td>\n",
       "      <td>249,45</td>\n",
       "    </tr>\n",
       "    <tr>\n",
       "      <th>326790</th>\n",
       "      <td>14/11/2021</td>\n",
       "      <td>09:15:48</td>\n",
       "      <td>2018</td>\n",
       "      <td>2</td>\n",
       "      <td>Ordinária</td>\n",
       "      <td>297</td>\n",
       "      <td>Eleição Geral Federal 2018</td>\n",
       "      <td>07/10/2018</td>\n",
       "      <td>1</td>\n",
       "      <td>Final</td>\n",
       "      <td>...</td>\n",
       "      <td>Deputado Estadual</td>\n",
       "      <td>23</td>\n",
       "      <td>PPS</td>\n",
       "      <td>Partido Popular Socialista</td>\n",
       "      <td>236230700000TO000004E</td>\n",
       "      <td>#NULO#</td>\n",
       "      <td>12024570</td>\n",
       "      <td>20/09/2018</td>\n",
       "      <td>PRODUÇÃO PROGRAMAS ELEITORAIS E MIDIAS CONFORM...</td>\n",
       "      <td>2000,00</td>\n",
       "    </tr>\n",
       "    <tr>\n",
       "      <th>326791</th>\n",
       "      <td>14/11/2021</td>\n",
       "      <td>09:15:48</td>\n",
       "      <td>2018</td>\n",
       "      <td>2</td>\n",
       "      <td>Ordinária</td>\n",
       "      <td>297</td>\n",
       "      <td>Eleição Geral Federal 2018</td>\n",
       "      <td>07/10/2018</td>\n",
       "      <td>1</td>\n",
       "      <td>Final</td>\n",
       "      <td>...</td>\n",
       "      <td>#NULO#</td>\n",
       "      <td>-1</td>\n",
       "      <td>#NULO#</td>\n",
       "      <td>#NULO#</td>\n",
       "      <td>040200600000TO000002E</td>\n",
       "      <td>221505000065973</td>\n",
       "      <td>12141187</td>\n",
       "      <td>05/11/2018</td>\n",
       "      <td>#NULO#</td>\n",
       "      <td>1510,00</td>\n",
       "    </tr>\n",
       "    <tr>\n",
       "      <th>326792</th>\n",
       "      <td>14/11/2021</td>\n",
       "      <td>09:15:48</td>\n",
       "      <td>2018</td>\n",
       "      <td>2</td>\n",
       "      <td>Ordinária</td>\n",
       "      <td>297</td>\n",
       "      <td>Eleição Geral Federal 2018</td>\n",
       "      <td>07/10/2018</td>\n",
       "      <td>1</td>\n",
       "      <td>Final</td>\n",
       "      <td>...</td>\n",
       "      <td>#NULO#</td>\n",
       "      <td>-1</td>\n",
       "      <td>#NULO#</td>\n",
       "      <td>#NULO#</td>\n",
       "      <td>040200600000TO000001E</td>\n",
       "      <td>#NULO#</td>\n",
       "      <td>12141186</td>\n",
       "      <td>27/09/2018</td>\n",
       "      <td>SERVIÇO DE CONTABILISTA CAMPANHA 2018</td>\n",
       "      <td>2000,00</td>\n",
       "    </tr>\n",
       "  </tbody>\n",
       "</table>\n",
       "<p>326793 rows × 57 columns</p>\n",
       "</div>"
      ],
      "text/plain": [
       "        DT_GERACAO HH_GERACAO  ANO_ELEICAO  CD_TIPO_ELEICAO NM_TIPO_ELEICAO  \\\n",
       "0       14/11/2021   09:15:48         2018                2       Ordinária   \n",
       "1       14/11/2021   09:15:48         2018                2       Ordinária   \n",
       "2       14/11/2021   09:15:48         2018                2       Ordinária   \n",
       "3       14/11/2021   09:15:48         2018                2       Ordinária   \n",
       "4       14/11/2021   09:15:48         2018                2       Ordinária   \n",
       "...            ...        ...          ...              ...             ...   \n",
       "326788  14/11/2021   09:15:48         2018                2       Ordinária   \n",
       "326789  14/11/2021   09:15:48         2018                2       Ordinária   \n",
       "326790  14/11/2021   09:15:48         2018                2       Ordinária   \n",
       "326791  14/11/2021   09:15:48         2018                2       Ordinária   \n",
       "326792  14/11/2021   09:15:48         2018                2       Ordinária   \n",
       "\n",
       "        CD_ELEICAO                  DS_ELEICAO  DT_ELEICAO  ST_TURNO  \\\n",
       "0              297  Eleição Geral Federal 2018  07/10/2018         1   \n",
       "1              297  Eleição Geral Federal 2018  07/10/2018         1   \n",
       "2              297  Eleição Geral Federal 2018  07/10/2018         1   \n",
       "3              297  Eleição Geral Federal 2018  07/10/2018         1   \n",
       "4              297  Eleição Geral Federal 2018  07/10/2018         1   \n",
       "...            ...                         ...         ...       ...   \n",
       "326788         297  Eleição Geral Federal 2018  07/10/2018         1   \n",
       "326789         297  Eleição Geral Federal 2018  07/10/2018         1   \n",
       "326790         297  Eleição Geral Federal 2018  07/10/2018         1   \n",
       "326791         297  Eleição Geral Federal 2018  07/10/2018         1   \n",
       "326792         297  Eleição Geral Federal 2018  07/10/2018         1   \n",
       "\n",
       "       TP_PRESTACAO_CONTAS  ... DS_CARGO_CANDIDATO_DOADOR  NR_PARTIDO_DOADOR  \\\n",
       "0                    Final  ...                    #NULO#                 18   \n",
       "1                    Final  ...                    #NULO#                 18   \n",
       "2                    Final  ...          Deputado Federal                 18   \n",
       "3                    Final  ...                    #NULO#                 -1   \n",
       "4                    Final  ...                   Senador                 18   \n",
       "...                    ...  ...                       ...                ...   \n",
       "326788               Final  ...         Deputado Estadual                 23   \n",
       "326789               Final  ...         Deputado Estadual                 23   \n",
       "326790               Final  ...         Deputado Estadual                 23   \n",
       "326791               Final  ...                    #NULO#                 -1   \n",
       "326792               Final  ...                    #NULO#                 -1   \n",
       "\n",
       "       SG_PARTIDO_DOADOR           NM_PARTIDO_DOADOR       NR_RECIBO_DOACAO  \\\n",
       "0                   REDE       Rede Sustentabilidade  000180300000AC000002E   \n",
       "1                   REDE       Rede Sustentabilidade  000180300000AC000003E   \n",
       "2                   REDE       Rede Sustentabilidade  000180300000AC000001E   \n",
       "3                 #NULO#                      #NULO#  000180300000AC000004E   \n",
       "4                   REDE       Rede Sustentabilidade  001810500000AC000006E   \n",
       "...                  ...                         ...                    ...   \n",
       "326788               PPS  Partido Popular Socialista  236230700000TO000002E   \n",
       "326789               PPS  Partido Popular Socialista  236230700000TO000006E   \n",
       "326790               PPS  Partido Popular Socialista  236230700000TO000004E   \n",
       "326791            #NULO#                      #NULO#  040200600000TO000002E   \n",
       "326792            #NULO#                      #NULO#  040200600000TO000001E   \n",
       "\n",
       "        NR_DOCUMENTO_DOACAO  SQ_RECEITA  DT_RECEITA  \\\n",
       "0                     93641    11972619  05/10/2018   \n",
       "1                       012    11972620  20/09/2018   \n",
       "2                    255011    11972618  05/09/2018   \n",
       "3                    #NULO#    11972621  16/08/2018   \n",
       "4           222359000113768    12067695  11/10/2018   \n",
       "...                     ...         ...         ...   \n",
       "326788               #NULO#    12024569  04/10/2018   \n",
       "326789               #NULO#    12024567  03/10/2018   \n",
       "326790               #NULO#    12024570  20/09/2018   \n",
       "326791      221505000065973    12141187  05/11/2018   \n",
       "326792               #NULO#    12141186  27/09/2018   \n",
       "\n",
       "                                               DS_RECEITA  VR_RECEITA  \n",
       "0                                                  #NULO#      700,00  \n",
       "1                                                  #NULO#      800,00  \n",
       "2                                                  #NULO#    10000,00  \n",
       "3       SERVIÇOS DE CONTABILIDADE PARA PRESTAÇÃO DE CO...      800,00  \n",
       "4                                                  #NULO#     8000,00  \n",
       "...                                                   ...         ...  \n",
       "326788  CONTRATO PRESTAÇÃO DE SERVIÇO ASSESSORIA E CON...     1000,00  \n",
       "326789  PRAGUINHA TAM 7X10 CM 4/4 CORES PAPEL ADESIVO ...      249,45  \n",
       "326790  PRODUÇÃO PROGRAMAS ELEITORAIS E MIDIAS CONFORM...     2000,00  \n",
       "326791                                             #NULO#     1510,00  \n",
       "326792              SERVIÇO DE CONTABILISTA CAMPANHA 2018     2000,00  \n",
       "\n",
       "[326793 rows x 57 columns]"
      ]
     },
     "execution_count": 9,
     "metadata": {},
     "output_type": "execute_result"
    }
   ],
   "source": [
    "candidatos_receita"
   ]
  },
  {
   "cell_type": "code",
   "execution_count": 261,
   "id": "c2674f8c",
   "metadata": {},
   "outputs": [],
   "source": [
    "receita = candidatos_receita.copy()\n",
    "receita[[\"VR_RECEITA\"]] = receita[[\"VR_RECEITA\"]].stack().str.replace(',','.').unstack().astype(float)\n",
    "receita_candidato = receita.groupby(\"SQ_CANDIDATO\")[[\"VR_RECEITA\"]].sum()"
   ]
  },
  {
   "cell_type": "code",
   "execution_count": 262,
   "id": "28044a96",
   "metadata": {},
   "outputs": [],
   "source": [
    "candidatos_fusao = candidatos.merge(receita_candidato, on = \"SQ_CANDIDATO\", how = \"left\")"
   ]
  },
  {
   "cell_type": "code",
   "execution_count": 17,
   "id": "42bee415",
   "metadata": {},
   "outputs": [
    {
     "name": "stdout",
     "output_type": "stream",
     "text": [
      "<class 'pandas.core.frame.DataFrame'>\n",
      "Int64Index: 29180 entries, 0 to 29179\n",
      "Data columns (total 64 columns):\n",
      " #   Column                         Non-Null Count  Dtype  \n",
      "---  ------                         --------------  -----  \n",
      " 0   DT_GERACAO                     29180 non-null  object \n",
      " 1   HH_GERACAO                     29180 non-null  object \n",
      " 2   ANO_ELEICAO                    29180 non-null  int64  \n",
      " 3   CD_TIPO_ELEICAO                29180 non-null  int64  \n",
      " 4   NM_TIPO_ELEICAO                29180 non-null  object \n",
      " 5   NR_TURNO                       29180 non-null  int64  \n",
      " 6   CD_ELEICAO                     29180 non-null  int64  \n",
      " 7   DS_ELEICAO                     29180 non-null  object \n",
      " 8   DT_ELEICAO                     29180 non-null  object \n",
      " 9   TP_ABRANGENCIA                 29180 non-null  object \n",
      " 10  SG_UF                          29180 non-null  object \n",
      " 11  SG_UE                          29180 non-null  object \n",
      " 12  NM_UE                          29180 non-null  object \n",
      " 13  CD_CARGO                       29180 non-null  int64  \n",
      " 14  DS_CARGO                       29180 non-null  object \n",
      " 15  SQ_CANDIDATO                   29180 non-null  int64  \n",
      " 16  NR_CANDIDATO                   29180 non-null  int64  \n",
      " 17  NM_CANDIDATO                   29180 non-null  object \n",
      " 18  NM_URNA_CANDIDATO              29180 non-null  object \n",
      " 19  NM_SOCIAL_CANDIDATO            29180 non-null  object \n",
      " 20  NR_CPF_CANDIDATO               29180 non-null  object \n",
      " 21  NM_EMAIL                       29180 non-null  object \n",
      " 22  CD_SITUACAO_CANDIDATURA        29180 non-null  int64  \n",
      " 23  DS_SITUACAO_CANDIDATURA        29180 non-null  object \n",
      " 24  CD_DETALHE_SITUACAO_CAND       29180 non-null  int64  \n",
      " 25  DS_DETALHE_SITUACAO_CAND       29180 non-null  object \n",
      " 26  TP_AGREMIACAO                  29180 non-null  object \n",
      " 27  NR_PARTIDO                     29180 non-null  int64  \n",
      " 28  SG_PARTIDO                     29180 non-null  object \n",
      " 29  NM_PARTIDO                     29180 non-null  object \n",
      " 30  SQ_COLIGACAO                   29180 non-null  int64  \n",
      " 31  NM_COLIGACAO                   29180 non-null  object \n",
      " 32  DS_COMPOSICAO_COLIGACAO        29180 non-null  object \n",
      " 33  CD_NACIONALIDADE               29180 non-null  int64  \n",
      " 34  DS_NACIONALIDADE               29180 non-null  object \n",
      " 35  SG_UF_NASCIMENTO               29180 non-null  object \n",
      " 36  CD_MUNICIPIO_NASCIMENTO        29180 non-null  int64  \n",
      " 37  NM_MUNICIPIO_NASCIMENTO        29180 non-null  object \n",
      " 38  DT_NASCIMENTO                  29179 non-null  object \n",
      " 39  NR_IDADE_DATA_POSSE            29179 non-null  float64\n",
      " 40  NR_TITULO_ELEITORAL_CANDIDATO  29180 non-null  int64  \n",
      " 41  CD_GENERO                      29180 non-null  int64  \n",
      " 42  DS_GENERO                      29180 non-null  object \n",
      " 43  CD_GRAU_INSTRUCAO              29180 non-null  int64  \n",
      " 44  DS_GRAU_INSTRUCAO              29180 non-null  object \n",
      " 45  CD_ESTADO_CIVIL                29180 non-null  int64  \n",
      " 46  DS_ESTADO_CIVIL                29180 non-null  object \n",
      " 47  CD_COR_RACA                    29180 non-null  int64  \n",
      " 48  DS_COR_RACA                    29180 non-null  object \n",
      " 49  CD_OCUPACAO                    29180 non-null  int64  \n",
      " 50  DS_OCUPACAO                    29180 non-null  object \n",
      " 51  VR_DESPESA_MAX_CAMPANHA        29180 non-null  int64  \n",
      " 52  CD_SIT_TOT_TURNO               29180 non-null  int64  \n",
      " 53  DS_SIT_TOT_TURNO               29180 non-null  object \n",
      " 54  ST_REELEICAO                   29180 non-null  object \n",
      " 55  ST_DECLARAR_BENS               29180 non-null  object \n",
      " 56  NR_PROTOCOLO_CANDIDATURA       29180 non-null  int64  \n",
      " 57  NR_PROCESSO                    29180 non-null  int64  \n",
      " 58  CD_SITUACAO_CANDIDATO_PLEITO   29180 non-null  int64  \n",
      " 59  DS_SITUACAO_CANDIDATO_PLEITO   29180 non-null  object \n",
      " 60  CD_SITUACAO_CANDIDATO_URNA     29180 non-null  int64  \n",
      " 61  DS_SITUACAO_CANDIDATO_URNA     29180 non-null  object \n",
      " 62  ST_CANDIDATO_INSERIDO_URNA     29180 non-null  object \n",
      " 63  VR_RECEITA                     24579 non-null  float64\n",
      "dtypes: float64(2), int64(25), object(37)\n",
      "memory usage: 14.5+ MB\n"
     ]
    }
   ],
   "source": [
    "candidatos_fusao.info()"
   ]
  },
  {
   "cell_type": "code",
   "execution_count": 12,
   "id": "6587bfc5",
   "metadata": {},
   "outputs": [
    {
     "data": {
      "text/plain": [
       "VR_RECEITA    4601\n",
       "dtype: int64"
      ]
     },
     "execution_count": 12,
     "metadata": {},
     "output_type": "execute_result"
    }
   ],
   "source": [
    "candidatos_fusao[[\"VR_RECEITA\"]].isnull().sum()"
   ]
  },
  {
   "cell_type": "code",
   "execution_count": 23,
   "id": "ec806f37",
   "metadata": {},
   "outputs": [
    {
     "data": {
      "text/html": [
       "<div>\n",
       "<style scoped>\n",
       "    .dataframe tbody tr th:only-of-type {\n",
       "        vertical-align: middle;\n",
       "    }\n",
       "\n",
       "    .dataframe tbody tr th {\n",
       "        vertical-align: top;\n",
       "    }\n",
       "\n",
       "    .dataframe thead th {\n",
       "        text-align: right;\n",
       "    }\n",
       "</style>\n",
       "<table border=\"1\" class=\"dataframe\">\n",
       "  <thead>\n",
       "    <tr style=\"text-align: right;\">\n",
       "      <th></th>\n",
       "      <th>SG_UF</th>\n",
       "      <th>DS_CARGO</th>\n",
       "      <th>SQ_CANDIDATO</th>\n",
       "      <th>NR_CANDIDATO</th>\n",
       "      <th>NM_CANDIDATO</th>\n",
       "      <th>DS_SITUACAO_CANDIDATURA</th>\n",
       "      <th>NR_PARTIDO</th>\n",
       "      <th>SG_PARTIDO</th>\n",
       "      <th>SG_UF_NASCIMENTO</th>\n",
       "      <th>NR_IDADE_DATA_POSSE</th>\n",
       "      <th>...</th>\n",
       "      <th>DS_GRAU_INSTRUCAO</th>\n",
       "      <th>DS_ESTADO_CIVIL</th>\n",
       "      <th>DS_COR_RACA</th>\n",
       "      <th>DS_OCUPACAO</th>\n",
       "      <th>DS_SIT_TOT_TURNO</th>\n",
       "      <th>ST_REELEICAO</th>\n",
       "      <th>ST_CANDIDATO_INSERIDO_URNA</th>\n",
       "      <th>VR_RECEITA</th>\n",
       "      <th>VR_DESPESA_MAX_CAMPANHA</th>\n",
       "      <th>ST_DECLARAR_BENS</th>\n",
       "    </tr>\n",
       "  </thead>\n",
       "  <tbody>\n",
       "    <tr>\n",
       "      <th>0</th>\n",
       "      <td>SP</td>\n",
       "      <td>DEPUTADO ESTADUAL</td>\n",
       "      <td>250000601601</td>\n",
       "      <td>50051</td>\n",
       "      <td>PALOMA APARECIDA SOARES</td>\n",
       "      <td>APTO</td>\n",
       "      <td>50</td>\n",
       "      <td>PSOL</td>\n",
       "      <td>SP</td>\n",
       "      <td>36.0</td>\n",
       "      <td>...</td>\n",
       "      <td>SUPERIOR INCOMPLETO</td>\n",
       "      <td>SOLTEIRO(A)</td>\n",
       "      <td>BRANCA</td>\n",
       "      <td>PROFESSOR DE ENSINO FUNDAMENTAL</td>\n",
       "      <td>SUPLENTE</td>\n",
       "      <td>N</td>\n",
       "      <td>SIM</td>\n",
       "      <td>3936.75</td>\n",
       "      <td>1000000</td>\n",
       "      <td>N</td>\n",
       "    </tr>\n",
       "    <tr>\n",
       "      <th>1</th>\n",
       "      <td>SC</td>\n",
       "      <td>DEPUTADO ESTADUAL</td>\n",
       "      <td>240000627293</td>\n",
       "      <td>25500</td>\n",
       "      <td>JAKSOM NATAL CASTELLI</td>\n",
       "      <td>APTO</td>\n",
       "      <td>25</td>\n",
       "      <td>DEM</td>\n",
       "      <td>SC</td>\n",
       "      <td>46.0</td>\n",
       "      <td>...</td>\n",
       "      <td>SUPERIOR COMPLETO</td>\n",
       "      <td>SOLTEIRO(A)</td>\n",
       "      <td>BRANCA</td>\n",
       "      <td>SERVIDOR PÚBLICO MUNICIPAL</td>\n",
       "      <td>SUPLENTE</td>\n",
       "      <td>N</td>\n",
       "      <td>SIM</td>\n",
       "      <td>157729.24</td>\n",
       "      <td>1000000</td>\n",
       "      <td>S</td>\n",
       "    </tr>\n",
       "    <tr>\n",
       "      <th>2</th>\n",
       "      <td>ES</td>\n",
       "      <td>DEPUTADO ESTADUAL</td>\n",
       "      <td>80000625058</td>\n",
       "      <td>15700</td>\n",
       "      <td>MARCOS ROBERTO DAMIANI</td>\n",
       "      <td>APTO</td>\n",
       "      <td>15</td>\n",
       "      <td>MDB</td>\n",
       "      <td>ES</td>\n",
       "      <td>50.0</td>\n",
       "      <td>...</td>\n",
       "      <td>SUPERIOR INCOMPLETO</td>\n",
       "      <td>DIVORCIADO(A)</td>\n",
       "      <td>BRANCA</td>\n",
       "      <td>EMPRESÁRIO</td>\n",
       "      <td>SUPLENTE</td>\n",
       "      <td>N</td>\n",
       "      <td>SIM</td>\n",
       "      <td>39646.66</td>\n",
       "      <td>1000000</td>\n",
       "      <td>S</td>\n",
       "    </tr>\n",
       "    <tr>\n",
       "      <th>3</th>\n",
       "      <td>AC</td>\n",
       "      <td>DEPUTADO ESTADUAL</td>\n",
       "      <td>10000607154</td>\n",
       "      <td>27385</td>\n",
       "      <td>DHUNA GUILHERMINA DA SILVA</td>\n",
       "      <td>APTO</td>\n",
       "      <td>27</td>\n",
       "      <td>DC</td>\n",
       "      <td>AC</td>\n",
       "      <td>23.0</td>\n",
       "      <td>...</td>\n",
       "      <td>SUPERIOR INCOMPLETO</td>\n",
       "      <td>SOLTEIRO(A)</td>\n",
       "      <td>PARDA</td>\n",
       "      <td>ESTUDANTE, BOLSISTA, ESTAGIÁRIO E ASSEMELHADOS</td>\n",
       "      <td>NÃO ELEITO</td>\n",
       "      <td>N</td>\n",
       "      <td>SIM</td>\n",
       "      <td>800.00</td>\n",
       "      <td>1000000</td>\n",
       "      <td>N</td>\n",
       "    </tr>\n",
       "    <tr>\n",
       "      <th>6</th>\n",
       "      <td>ES</td>\n",
       "      <td>DEPUTADO ESTADUAL</td>\n",
       "      <td>80000613562</td>\n",
       "      <td>45666</td>\n",
       "      <td>MARCO ANTONIO GRILLO</td>\n",
       "      <td>APTO</td>\n",
       "      <td>45</td>\n",
       "      <td>PSDB</td>\n",
       "      <td>ES</td>\n",
       "      <td>54.0</td>\n",
       "      <td>...</td>\n",
       "      <td>SUPERIOR COMPLETO</td>\n",
       "      <td>CASADO(A)</td>\n",
       "      <td>BRANCA</td>\n",
       "      <td>ADMINISTRADOR</td>\n",
       "      <td>SUPLENTE</td>\n",
       "      <td>N</td>\n",
       "      <td>SIM</td>\n",
       "      <td>39501.21</td>\n",
       "      <td>1000000</td>\n",
       "      <td>S</td>\n",
       "    </tr>\n",
       "    <tr>\n",
       "      <th>...</th>\n",
       "      <td>...</td>\n",
       "      <td>...</td>\n",
       "      <td>...</td>\n",
       "      <td>...</td>\n",
       "      <td>...</td>\n",
       "      <td>...</td>\n",
       "      <td>...</td>\n",
       "      <td>...</td>\n",
       "      <td>...</td>\n",
       "      <td>...</td>\n",
       "      <td>...</td>\n",
       "      <td>...</td>\n",
       "      <td>...</td>\n",
       "      <td>...</td>\n",
       "      <td>...</td>\n",
       "      <td>...</td>\n",
       "      <td>...</td>\n",
       "      <td>...</td>\n",
       "      <td>...</td>\n",
       "      <td>...</td>\n",
       "      <td>...</td>\n",
       "    </tr>\n",
       "    <tr>\n",
       "      <th>29173</th>\n",
       "      <td>RR</td>\n",
       "      <td>DEPUTADO ESTADUAL</td>\n",
       "      <td>230000625999</td>\n",
       "      <td>19009</td>\n",
       "      <td>HELYZAMA FERNANDES CUTRIM NUNES</td>\n",
       "      <td>APTO</td>\n",
       "      <td>19</td>\n",
       "      <td>PODE</td>\n",
       "      <td>MA</td>\n",
       "      <td>38.0</td>\n",
       "      <td>...</td>\n",
       "      <td>SUPERIOR COMPLETO</td>\n",
       "      <td>CASADO(A)</td>\n",
       "      <td>PARDA</td>\n",
       "      <td>PEDAGOGO</td>\n",
       "      <td>NÃO ELEITO</td>\n",
       "      <td>N</td>\n",
       "      <td>SIM</td>\n",
       "      <td>9288.04</td>\n",
       "      <td>1000000</td>\n",
       "      <td>S</td>\n",
       "    </tr>\n",
       "    <tr>\n",
       "      <th>29174</th>\n",
       "      <td>MS</td>\n",
       "      <td>DEPUTADO ESTADUAL</td>\n",
       "      <td>120000615414</td>\n",
       "      <td>17222</td>\n",
       "      <td>JOSÉ MAGALHÃES FILHO</td>\n",
       "      <td>APTO</td>\n",
       "      <td>17</td>\n",
       "      <td>PSL</td>\n",
       "      <td>RN</td>\n",
       "      <td>72.0</td>\n",
       "      <td>...</td>\n",
       "      <td>SUPERIOR COMPLETO</td>\n",
       "      <td>CASADO(A)</td>\n",
       "      <td>BRANCA</td>\n",
       "      <td>MILITAR REFORMADO</td>\n",
       "      <td>SUPLENTE</td>\n",
       "      <td>N</td>\n",
       "      <td>SIM</td>\n",
       "      <td>10540.65</td>\n",
       "      <td>1000000</td>\n",
       "      <td>S</td>\n",
       "    </tr>\n",
       "    <tr>\n",
       "      <th>29176</th>\n",
       "      <td>PR</td>\n",
       "      <td>DEPUTADO ESTADUAL</td>\n",
       "      <td>160000619816</td>\n",
       "      <td>20044</td>\n",
       "      <td>GILSON DE SOUZA</td>\n",
       "      <td>APTO</td>\n",
       "      <td>20</td>\n",
       "      <td>PSC</td>\n",
       "      <td>PR</td>\n",
       "      <td>57.0</td>\n",
       "      <td>...</td>\n",
       "      <td>SUPERIOR COMPLETO</td>\n",
       "      <td>CASADO(A)</td>\n",
       "      <td>BRANCA</td>\n",
       "      <td>DEPUTADO</td>\n",
       "      <td>ELEITO POR QP</td>\n",
       "      <td>S</td>\n",
       "      <td>SIM</td>\n",
       "      <td>95965.00</td>\n",
       "      <td>1000000</td>\n",
       "      <td>S</td>\n",
       "    </tr>\n",
       "    <tr>\n",
       "      <th>29177</th>\n",
       "      <td>RJ</td>\n",
       "      <td>DEPUTADO ESTADUAL</td>\n",
       "      <td>190000614897</td>\n",
       "      <td>35779</td>\n",
       "      <td>WELLINGTON JOSE DA SILVA</td>\n",
       "      <td>APTO</td>\n",
       "      <td>35</td>\n",
       "      <td>PMB</td>\n",
       "      <td>RJ</td>\n",
       "      <td>45.0</td>\n",
       "      <td>...</td>\n",
       "      <td>ENSINO MÉDIO COMPLETO</td>\n",
       "      <td>DIVORCIADO(A)</td>\n",
       "      <td>BRANCA</td>\n",
       "      <td>COMERCIANTE</td>\n",
       "      <td>SUPLENTE</td>\n",
       "      <td>N</td>\n",
       "      <td>SIM</td>\n",
       "      <td>295869.37</td>\n",
       "      <td>1000000</td>\n",
       "      <td>S</td>\n",
       "    </tr>\n",
       "    <tr>\n",
       "      <th>29179</th>\n",
       "      <td>PR</td>\n",
       "      <td>DEPUTADO ESTADUAL</td>\n",
       "      <td>160000622351</td>\n",
       "      <td>33900</td>\n",
       "      <td>MARIA VALDETE DE SOUZA MARAZAKI</td>\n",
       "      <td>APTO</td>\n",
       "      <td>33</td>\n",
       "      <td>PMN</td>\n",
       "      <td>PR</td>\n",
       "      <td>66.0</td>\n",
       "      <td>...</td>\n",
       "      <td>ENSINO FUNDAMENTAL INCOMPLETO</td>\n",
       "      <td>DIVORCIADO(A)</td>\n",
       "      <td>BRANCA</td>\n",
       "      <td>EMPRESÁRIO</td>\n",
       "      <td>SUPLENTE</td>\n",
       "      <td>N</td>\n",
       "      <td>SIM</td>\n",
       "      <td>900.00</td>\n",
       "      <td>1000000</td>\n",
       "      <td>N</td>\n",
       "    </tr>\n",
       "  </tbody>\n",
       "</table>\n",
       "<p>24721 rows × 21 columns</p>\n",
       "</div>"
      ],
      "text/plain": [
       "      SG_UF           DS_CARGO  SQ_CANDIDATO  NR_CANDIDATO  \\\n",
       "0        SP  DEPUTADO ESTADUAL  250000601601         50051   \n",
       "1        SC  DEPUTADO ESTADUAL  240000627293         25500   \n",
       "2        ES  DEPUTADO ESTADUAL   80000625058         15700   \n",
       "3        AC  DEPUTADO ESTADUAL   10000607154         27385   \n",
       "6        ES  DEPUTADO ESTADUAL   80000613562         45666   \n",
       "...     ...                ...           ...           ...   \n",
       "29173    RR  DEPUTADO ESTADUAL  230000625999         19009   \n",
       "29174    MS  DEPUTADO ESTADUAL  120000615414         17222   \n",
       "29176    PR  DEPUTADO ESTADUAL  160000619816         20044   \n",
       "29177    RJ  DEPUTADO ESTADUAL  190000614897         35779   \n",
       "29179    PR  DEPUTADO ESTADUAL  160000622351         33900   \n",
       "\n",
       "                          NM_CANDIDATO DS_SITUACAO_CANDIDATURA  NR_PARTIDO  \\\n",
       "0              PALOMA APARECIDA SOARES                    APTO          50   \n",
       "1                JAKSOM NATAL CASTELLI                    APTO          25   \n",
       "2               MARCOS ROBERTO DAMIANI                    APTO          15   \n",
       "3           DHUNA GUILHERMINA DA SILVA                    APTO          27   \n",
       "6                 MARCO ANTONIO GRILLO                    APTO          45   \n",
       "...                                ...                     ...         ...   \n",
       "29173  HELYZAMA FERNANDES CUTRIM NUNES                    APTO          19   \n",
       "29174             JOSÉ MAGALHÃES FILHO                    APTO          17   \n",
       "29176                  GILSON DE SOUZA                    APTO          20   \n",
       "29177         WELLINGTON JOSE DA SILVA                    APTO          35   \n",
       "29179  MARIA VALDETE DE SOUZA MARAZAKI                    APTO          33   \n",
       "\n",
       "      SG_PARTIDO SG_UF_NASCIMENTO  NR_IDADE_DATA_POSSE  ...  \\\n",
       "0           PSOL               SP                 36.0  ...   \n",
       "1            DEM               SC                 46.0  ...   \n",
       "2            MDB               ES                 50.0  ...   \n",
       "3             DC               AC                 23.0  ...   \n",
       "6           PSDB               ES                 54.0  ...   \n",
       "...          ...              ...                  ...  ...   \n",
       "29173       PODE               MA                 38.0  ...   \n",
       "29174        PSL               RN                 72.0  ...   \n",
       "29176        PSC               PR                 57.0  ...   \n",
       "29177        PMB               RJ                 45.0  ...   \n",
       "29179        PMN               PR                 66.0  ...   \n",
       "\n",
       "                   DS_GRAU_INSTRUCAO DS_ESTADO_CIVIL DS_COR_RACA  \\\n",
       "0                SUPERIOR INCOMPLETO     SOLTEIRO(A)      BRANCA   \n",
       "1                  SUPERIOR COMPLETO     SOLTEIRO(A)      BRANCA   \n",
       "2                SUPERIOR INCOMPLETO   DIVORCIADO(A)      BRANCA   \n",
       "3                SUPERIOR INCOMPLETO     SOLTEIRO(A)       PARDA   \n",
       "6                  SUPERIOR COMPLETO       CASADO(A)      BRANCA   \n",
       "...                              ...             ...         ...   \n",
       "29173              SUPERIOR COMPLETO       CASADO(A)       PARDA   \n",
       "29174              SUPERIOR COMPLETO       CASADO(A)      BRANCA   \n",
       "29176              SUPERIOR COMPLETO       CASADO(A)      BRANCA   \n",
       "29177          ENSINO MÉDIO COMPLETO   DIVORCIADO(A)      BRANCA   \n",
       "29179  ENSINO FUNDAMENTAL INCOMPLETO   DIVORCIADO(A)      BRANCA   \n",
       "\n",
       "                                          DS_OCUPACAO DS_SIT_TOT_TURNO  \\\n",
       "0                     PROFESSOR DE ENSINO FUNDAMENTAL         SUPLENTE   \n",
       "1                          SERVIDOR PÚBLICO MUNICIPAL         SUPLENTE   \n",
       "2                                          EMPRESÁRIO         SUPLENTE   \n",
       "3      ESTUDANTE, BOLSISTA, ESTAGIÁRIO E ASSEMELHADOS       NÃO ELEITO   \n",
       "6                                       ADMINISTRADOR         SUPLENTE   \n",
       "...                                               ...              ...   \n",
       "29173                                        PEDAGOGO       NÃO ELEITO   \n",
       "29174                               MILITAR REFORMADO         SUPLENTE   \n",
       "29176                                        DEPUTADO    ELEITO POR QP   \n",
       "29177                                     COMERCIANTE         SUPLENTE   \n",
       "29179                                      EMPRESÁRIO         SUPLENTE   \n",
       "\n",
       "      ST_REELEICAO ST_CANDIDATO_INSERIDO_URNA VR_RECEITA  \\\n",
       "0                N                        SIM    3936.75   \n",
       "1                N                        SIM  157729.24   \n",
       "2                N                        SIM   39646.66   \n",
       "3                N                        SIM     800.00   \n",
       "6                N                        SIM   39501.21   \n",
       "...            ...                        ...        ...   \n",
       "29173            N                        SIM    9288.04   \n",
       "29174            N                        SIM   10540.65   \n",
       "29176            S                        SIM   95965.00   \n",
       "29177            N                        SIM  295869.37   \n",
       "29179            N                        SIM     900.00   \n",
       "\n",
       "       VR_DESPESA_MAX_CAMPANHA  ST_DECLARAR_BENS  \n",
       "0                      1000000                 N  \n",
       "1                      1000000                 S  \n",
       "2                      1000000                 S  \n",
       "3                      1000000                 N  \n",
       "6                      1000000                 S  \n",
       "...                        ...               ...  \n",
       "29173                  1000000                 S  \n",
       "29174                  1000000                 S  \n",
       "29176                  1000000                 S  \n",
       "29177                  1000000                 S  \n",
       "29179                  1000000                 N  \n",
       "\n",
       "[24721 rows x 21 columns]"
      ]
     },
     "execution_count": 23,
     "metadata": {},
     "output_type": "execute_result"
    }
   ],
   "source": [
    "candidatos_fusao = candidatos_fusao[[\"SG_UF\", \"DS_CARGO\", \"SQ_CANDIDATO\", \"NR_CANDIDATO\", \"NM_CANDIDATO\", \"DS_SITUACAO_CANDIDATURA\", \n",
    "\"NR_PARTIDO\", \"SG_PARTIDO\", \"SG_UF_NASCIMENTO\", \"NR_IDADE_DATA_POSSE\", \"DS_GENERO\", \"DS_GRAU_INSTRUCAO\", \n",
    "\"DS_ESTADO_CIVIL\", \"DS_COR_RACA\", \"DS_OCUPACAO\", \"DS_SIT_TOT_TURNO\", \"ST_REELEICAO\", \n",
    "\"ST_CANDIDATO_INSERIDO_URNA\", \"VR_RECEITA\", \"VR_DESPESA_MAX_CAMPANHA\", \"ST_DECLARAR_BENS\"]]\n",
    "candidatos_fusao = candidatos_fusao[candidatos_fusao['DS_CARGO'].str.contains('DEPUTADO')]\n",
    "candidatos_fusao = candidatos_fusao[candidatos_fusao['DS_SITUACAO_CANDIDATURA'] == 'APTO']\n",
    "candidatos_fusao"
   ]
  },
  {
   "cell_type": "code",
   "execution_count": 37,
   "id": "9b9df3cf",
   "metadata": {},
   "outputs": [
    {
     "data": {
      "text/plain": [
       "SUPLENTE            18620\n",
       "NÃO ELEITO           4529\n",
       "ELEITO POR QP        1271\n",
       "ELEITO POR MÉDIA      301\n",
       "Name: DS_SIT_TOT_TURNO, dtype: int64"
      ]
     },
     "execution_count": 37,
     "metadata": {},
     "output_type": "execute_result"
    }
   ],
   "source": [
    "candidatos_fusao['DS_SIT_TOT_TURNO'].value_counts()"
   ]
  },
  {
   "cell_type": "code",
   "execution_count": 14,
   "id": "960f1ea9",
   "metadata": {},
   "outputs": [],
   "source": [
    "candidatos_fusao[\"DS_GRAU_INSTRUCAO\"] = candidatos_fusao[\"DS_GRAU_INSTRUCAO\"].replace(\"ENSINO FUNDAMENTAL INCOMPLETO\", \"FUNDAMENTAL INCOMPLETO\").replace('ENSINO MÉDIO COMPLETO', \"MÉDIO COMPLETO\").replace('ENSINO FUNDAMENTAL COMPLETO', \"FUNDAMENTAL COMPLETO\").replace('ENSINO MÉDIO INCOMPLETO', \"MÉDIO INCOMPLETO\")"
   ]
  },
  {
   "cell_type": "markdown",
   "id": "7b7eba6e",
   "metadata": {},
   "source": [
    "## Análise Exploratória"
   ]
  },
  {
   "cell_type": "code",
   "execution_count": 38,
   "id": "546b66da",
   "metadata": {},
   "outputs": [],
   "source": [
    "analise=candidatos_fusao[[\"SG_UF\", \"DS_CARGO\", \"NR_PARTIDO\", \"SG_PARTIDO\", \"NR_IDADE_DATA_POSSE\",  \n",
    "\"DS_ESTADO_CIVIL\", \"ST_REELEICAO\", \"VR_RECEITA\", \"ST_DECLARAR_BENS\", \"DS_SIT_TOT_TURNO\",\"DS_GENERO\"]]"
   ]
  },
  {
   "cell_type": "code",
   "execution_count": null,
   "id": "5889126b",
   "metadata": {},
   "outputs": [],
   "source": [
    "analise = analise.rename(columns = {'SG_UF': 'Região', 'NR_IDADE_DATA_POSSE': 'Idade', 'ST_REELEICAO': 'Reeleito'}, inplace = False)\n",
    "analise = analise.rename(columns = {'DS_GENERO': 'Gênero'}, inplace = False)"
   ]
  },
  {
   "cell_type": "code",
   "execution_count": 36,
   "id": "d9d21c48",
   "metadata": {},
   "outputs": [
    {
     "data": {
      "text/plain": [
       "1000000    17074\n",
       "2500000     7647\n",
       "Name: VR_DESPESA_MAX_CAMPANHA, dtype: int64"
      ]
     },
     "execution_count": 36,
     "metadata": {},
     "output_type": "execute_result"
    }
   ],
   "source": [
    "analise[\"VR_DESPESA_MAX_CAMPANHA\"].value_counts()"
   ]
  },
  {
   "cell_type": "code",
   "execution_count": 34,
   "id": "fe9a3e4b",
   "metadata": {},
   "outputs": [
    {
     "data": {
      "text/plain": [
       "CASADO(A)                    13445\n",
       "SOLTEIRO(A)                   7850\n",
       "DIVORCIADO(A)                 2763\n",
       "VIÚVO(A)                       388\n",
       "SEPARADO(A) JUDICIALMENTE      275\n",
       "Name: DS_ESTADO_CIVIL, dtype: int64"
      ]
     },
     "execution_count": 34,
     "metadata": {},
     "output_type": "execute_result"
    }
   ],
   "source": [
    "analise['DS_ESTADO_CIVIL'].value_counts()"
   ]
  },
  {
   "cell_type": "code",
   "execution_count": 39,
   "id": "4db6cb52",
   "metadata": {},
   "outputs": [],
   "source": [
    "analise = analise.replace(['RS','SC','PR'], 'Sul')\n",
    "analise = analise.replace(['SP','MG','RJ','ES'], 'Sudeste')\n",
    "analise = analise.replace(['BA','PI','MA','SE','AL','PE','PB','RN','CE'], 'Nordeste')\n",
    "analise = analise.replace(['TO','PA','AP','RR','AM','AC','RO'], 'Norte')\n",
    "analise = analise.replace(['MT','MS','GO'], 'Centro-Oeste')\n",
    "analise = analise.replace(['DF'], 'Distrito Federal')\n"
   ]
  },
  {
   "cell_type": "markdown",
   "id": "4e6d4b83",
   "metadata": {},
   "source": [
    "# Candidatos que tentaram reeleição e foram reeleitos"
   ]
  },
  {
   "cell_type": "code",
   "execution_count": 84,
   "id": "df5301a3",
   "metadata": {},
   "outputs": [],
   "source": [
    "lista=[\"Sudeste\", \"Sul\", \"Nordeste\",\"Norte\",\"Centro-Oeste\",\"Distrito Federal\"]\n",
    "listaPro=[]\n",
    "listaree=[]\n",
    "for item in lista:\n",
    "    a=len(analise[(analise.Reeleição == \"S\") & (analise.Região == item)])*100 /len(analise[analise.Região == item])\n",
    "    b=len(analise[(analise.Reeleição == \"N\") & (analise.Região == item)])*100 /len(analise[analise.Região == item])\n",
    "    listaPro.append(b)\n",
    "    listaPro.append(a)\n",
    "    listaree.append('Não')\n",
    "    listaree.append('Sim')"
   ]
  },
  {
   "cell_type": "code",
   "execution_count": 85,
   "id": "52fa8f92",
   "metadata": {},
   "outputs": [],
   "source": [
    "regs=[\"Sudeste\", \"Sudeste\", \"Sul\",\"Sul\", \"Nordeste\",\"Nordeste\", \"Norte\",\"Norte\",\"Centro-Oeste\",\"Centro-Oeste\",\"Distrito Federal\", \"Distrito Federal\"]\n",
    "\n",
    "d = {'Reeleição':listaree, 'Região':regs, 'Proporção':listaPro}"
   ]
  },
  {
   "cell_type": "code",
   "execution_count": 86,
   "id": "8500a828",
   "metadata": {},
   "outputs": [
    {
     "data": {
      "text/html": [
       "<div>\n",
       "<style scoped>\n",
       "    .dataframe tbody tr th:only-of-type {\n",
       "        vertical-align: middle;\n",
       "    }\n",
       "\n",
       "    .dataframe tbody tr th {\n",
       "        vertical-align: top;\n",
       "    }\n",
       "\n",
       "    .dataframe thead th {\n",
       "        text-align: right;\n",
       "    }\n",
       "</style>\n",
       "<table border=\"1\" class=\"dataframe\">\n",
       "  <thead>\n",
       "    <tr style=\"text-align: right;\">\n",
       "      <th></th>\n",
       "      <th>Reeleição</th>\n",
       "      <th>Região</th>\n",
       "      <th>Proporção</th>\n",
       "    </tr>\n",
       "  </thead>\n",
       "  <tbody>\n",
       "    <tr>\n",
       "      <th>0</th>\n",
       "      <td>Não</td>\n",
       "      <td>Sudeste</td>\n",
       "      <td>96.295133</td>\n",
       "    </tr>\n",
       "    <tr>\n",
       "      <th>1</th>\n",
       "      <td>Sim</td>\n",
       "      <td>Sudeste</td>\n",
       "      <td>3.704867</td>\n",
       "    </tr>\n",
       "    <tr>\n",
       "      <th>2</th>\n",
       "      <td>Não</td>\n",
       "      <td>Sul</td>\n",
       "      <td>93.973887</td>\n",
       "    </tr>\n",
       "    <tr>\n",
       "      <th>3</th>\n",
       "      <td>Sim</td>\n",
       "      <td>Sul</td>\n",
       "      <td>6.026113</td>\n",
       "    </tr>\n",
       "    <tr>\n",
       "      <th>4</th>\n",
       "      <td>Não</td>\n",
       "      <td>Nordeste</td>\n",
       "      <td>92.679739</td>\n",
       "    </tr>\n",
       "    <tr>\n",
       "      <th>5</th>\n",
       "      <td>Sim</td>\n",
       "      <td>Nordeste</td>\n",
       "      <td>7.320261</td>\n",
       "    </tr>\n",
       "    <tr>\n",
       "      <th>6</th>\n",
       "      <td>Não</td>\n",
       "      <td>Norte</td>\n",
       "      <td>95.038760</td>\n",
       "    </tr>\n",
       "    <tr>\n",
       "      <th>7</th>\n",
       "      <td>Sim</td>\n",
       "      <td>Norte</td>\n",
       "      <td>4.961240</td>\n",
       "    </tr>\n",
       "    <tr>\n",
       "      <th>8</th>\n",
       "      <td>Não</td>\n",
       "      <td>Centro-Oeste</td>\n",
       "      <td>94.826667</td>\n",
       "    </tr>\n",
       "    <tr>\n",
       "      <th>9</th>\n",
       "      <td>Sim</td>\n",
       "      <td>Centro-Oeste</td>\n",
       "      <td>5.173333</td>\n",
       "    </tr>\n",
       "    <tr>\n",
       "      <th>10</th>\n",
       "      <td>Não</td>\n",
       "      <td>Distrito Federal</td>\n",
       "      <td>98.146432</td>\n",
       "    </tr>\n",
       "    <tr>\n",
       "      <th>11</th>\n",
       "      <td>Sim</td>\n",
       "      <td>Distrito Federal</td>\n",
       "      <td>1.853568</td>\n",
       "    </tr>\n",
       "  </tbody>\n",
       "</table>\n",
       "</div>"
      ],
      "text/plain": [
       "   Reeleição            Região  Proporção\n",
       "0        Não           Sudeste  96.295133\n",
       "1        Sim           Sudeste   3.704867\n",
       "2        Não               Sul  93.973887\n",
       "3        Sim               Sul   6.026113\n",
       "4        Não          Nordeste  92.679739\n",
       "5        Sim          Nordeste   7.320261\n",
       "6        Não             Norte  95.038760\n",
       "7        Sim             Norte   4.961240\n",
       "8        Não      Centro-Oeste  94.826667\n",
       "9        Sim      Centro-Oeste   5.173333\n",
       "10       Não  Distrito Federal  98.146432\n",
       "11       Sim  Distrito Federal   1.853568"
      ]
     },
     "execution_count": 86,
     "metadata": {},
     "output_type": "execute_result"
    }
   ],
   "source": [
    "df = pd.DataFrame(d)\n",
    "df"
   ]
  },
  {
   "cell_type": "code",
   "execution_count": 92,
   "id": "8d0ca36f",
   "metadata": {},
   "outputs": [
    {
     "data": {
      "text/plain": [
       "Text(0.5, 1.0, 'Proporção de candidatos tentando ou não a reeleição por região')"
      ]
     },
     "execution_count": 92,
     "metadata": {},
     "output_type": "execute_result"
    },
    {
     "data": {
      "text/plain": [
       "<Figure size 576x360 with 0 Axes>"
      ]
     },
     "metadata": {},
     "output_type": "display_data"
    },
    {
     "data": {
      "image/png": "[encoded data removed]",
      "text/plain": [
       "<Figure size 422.3x360 with 1 Axes>"
      ]
     },
     "metadata": {},
     "output_type": "display_data"
    }
   ],
   "source": [
    "plt.figure(figsize=(8,5))\n",
    "sns.set_theme(style=\"whitegrid\")\n",
    "sns.catplot(x=\"Região\", y=\"Proporção\", hue=\"Reeleição\", kind=\"bar\", data=df, palette='rainbow')\n",
    "plt.xticks(rotation=45)\n",
    "plt.title(\"Proporção de candidatos tentando ou não a reeleição por região\")\n",
    "\n"
   ]
  },
  {
   "cell_type": "code",
   "execution_count": 94,
   "id": "5e3e7516",
   "metadata": {},
   "outputs": [
    {
     "data": {
      "text/plain": [
       "SUPLENTE            18620\n",
       "NÃO ELEITO           4529\n",
       "ELEITO POR QP        1271\n",
       "ELEITO POR MÉDIA      301\n",
       "Name: DS_SIT_TOT_TURNO, dtype: int64"
      ]
     },
     "execution_count": 94,
     "metadata": {},
     "output_type": "execute_result"
    }
   ],
   "source": [
    "analise['DS_SIT_TOT_TURNO'].value_counts()"
   ]
  },
  {
   "cell_type": "code",
   "execution_count": 103,
   "id": "453638cc",
   "metadata": {},
   "outputs": [],
   "source": [
    "lista=[\"Sudeste\", \"Sul\", \"Nordeste\",\"Norte\",\"Centro-Oeste\",\"Distrito Federal\"]\n",
    "listaPro=[]\n",
    "listaree=[]\n",
    "for item in lista:  \n",
    "    dfS=analise[(analise['Região']==item) & (analise['Reeleição']=='S')]\n",
    "    dfN=analise[(analise['Região']==item) & (analise['Reeleição']=='N')]\n",
    "    propS=len(dfS)\n",
    "    propN=len(dfN)\n",
    "    a=len(dfS[(dfS.DS_SIT_TOT_TURNO == \"ELEITO POR QP\") | (dfS.DS_SIT_TOT_TURNO == \"ELEITO POR MÉDIA\")])*100 / propS\n",
    "    b=len(dfN[(dfN.DS_SIT_TOT_TURNO == \"ELEITO POR QP\") | (dfN.DS_SIT_TOT_TURNO == \"ELEITO POR MÉDIA\")])*100 / propN\n",
    "    listaPro.append(a)\n",
    "    listaPro.append(b)\n",
    "    listaree.append('Sim')\n",
    "    listaree.append('Não')"
   ]
  },
  {
   "cell_type": "code",
   "execution_count": 104,
   "id": "d316b8ee",
   "metadata": {},
   "outputs": [
    {
     "data": {
      "text/plain": [
       "[61.29943502824859,\n",
       " 2.532333442017172,\n",
       " 66.66666666666667,\n",
       " 3.7762736017100105,\n",
       " 70.15306122448979,\n",
       " 4.372355430183357,\n",
       " 65.10416666666667,\n",
       " 3.3985861881457313,\n",
       " 57.7319587628866,\n",
       " 3.7120359955005626,\n",
       " 45.0,\n",
       " 2.1718602455146363]"
      ]
     },
     "execution_count": 104,
     "metadata": {},
     "output_type": "execute_result"
    }
   ],
   "source": [
    "listaPro"
   ]
  },
  {
   "cell_type": "code",
   "execution_count": 105,
   "id": "30265ab6",
   "metadata": {},
   "outputs": [
    {
     "data": {
      "text/html": [
       "<div>\n",
       "<style scoped>\n",
       "    .dataframe tbody tr th:only-of-type {\n",
       "        vertical-align: middle;\n",
       "    }\n",
       "\n",
       "    .dataframe tbody tr th {\n",
       "        vertical-align: top;\n",
       "    }\n",
       "\n",
       "    .dataframe thead th {\n",
       "        text-align: right;\n",
       "    }\n",
       "</style>\n",
       "<table border=\"1\" class=\"dataframe\">\n",
       "  <thead>\n",
       "    <tr style=\"text-align: right;\">\n",
       "      <th></th>\n",
       "      <th>Candidato a reeleição</th>\n",
       "      <th>Região</th>\n",
       "      <th>Proporção</th>\n",
       "    </tr>\n",
       "  </thead>\n",
       "  <tbody>\n",
       "    <tr>\n",
       "      <th>0</th>\n",
       "      <td>Sim</td>\n",
       "      <td>Sudeste</td>\n",
       "      <td>61.299435</td>\n",
       "    </tr>\n",
       "    <tr>\n",
       "      <th>1</th>\n",
       "      <td>Não</td>\n",
       "      <td>Sudeste</td>\n",
       "      <td>2.532333</td>\n",
       "    </tr>\n",
       "    <tr>\n",
       "      <th>2</th>\n",
       "      <td>Sim</td>\n",
       "      <td>Sul</td>\n",
       "      <td>66.666667</td>\n",
       "    </tr>\n",
       "    <tr>\n",
       "      <th>3</th>\n",
       "      <td>Não</td>\n",
       "      <td>Sul</td>\n",
       "      <td>3.776274</td>\n",
       "    </tr>\n",
       "    <tr>\n",
       "      <th>4</th>\n",
       "      <td>Sim</td>\n",
       "      <td>Nordeste</td>\n",
       "      <td>70.153061</td>\n",
       "    </tr>\n",
       "    <tr>\n",
       "      <th>5</th>\n",
       "      <td>Não</td>\n",
       "      <td>Nordeste</td>\n",
       "      <td>4.372355</td>\n",
       "    </tr>\n",
       "    <tr>\n",
       "      <th>6</th>\n",
       "      <td>Sim</td>\n",
       "      <td>Norte</td>\n",
       "      <td>65.104167</td>\n",
       "    </tr>\n",
       "    <tr>\n",
       "      <th>7</th>\n",
       "      <td>Não</td>\n",
       "      <td>Norte</td>\n",
       "      <td>3.398586</td>\n",
       "    </tr>\n",
       "    <tr>\n",
       "      <th>8</th>\n",
       "      <td>Sim</td>\n",
       "      <td>Centro-Oeste</td>\n",
       "      <td>57.731959</td>\n",
       "    </tr>\n",
       "    <tr>\n",
       "      <th>9</th>\n",
       "      <td>Não</td>\n",
       "      <td>Centro-Oeste</td>\n",
       "      <td>3.712036</td>\n",
       "    </tr>\n",
       "    <tr>\n",
       "      <th>10</th>\n",
       "      <td>Sim</td>\n",
       "      <td>Distrito Federal</td>\n",
       "      <td>45.000000</td>\n",
       "    </tr>\n",
       "    <tr>\n",
       "      <th>11</th>\n",
       "      <td>Não</td>\n",
       "      <td>Distrito Federal</td>\n",
       "      <td>2.171860</td>\n",
       "    </tr>\n",
       "  </tbody>\n",
       "</table>\n",
       "</div>"
      ],
      "text/plain": [
       "   Candidato a reeleição            Região  Proporção\n",
       "0                    Sim           Sudeste  61.299435\n",
       "1                    Não           Sudeste   2.532333\n",
       "2                    Sim               Sul  66.666667\n",
       "3                    Não               Sul   3.776274\n",
       "4                    Sim          Nordeste  70.153061\n",
       "5                    Não          Nordeste   4.372355\n",
       "6                    Sim             Norte  65.104167\n",
       "7                    Não             Norte   3.398586\n",
       "8                    Sim      Centro-Oeste  57.731959\n",
       "9                    Não      Centro-Oeste   3.712036\n",
       "10                   Sim  Distrito Federal  45.000000\n",
       "11                   Não  Distrito Federal   2.171860"
      ]
     },
     "execution_count": 105,
     "metadata": {},
     "output_type": "execute_result"
    }
   ],
   "source": [
    "d = {'Candidato a reeleição':listaree, 'Região':regs, 'Proporção':listaPro}\n",
    "df = pd.DataFrame(d)\n",
    "df"
   ]
  },
  {
   "cell_type": "code",
   "execution_count": 107,
   "id": "fe1484b9",
   "metadata": {},
   "outputs": [
    {
     "data": {
      "text/plain": [
       "Text(0.5, 1.0, 'Proporção de candidatos eleitos tentando ou não a reeleição')"
      ]
     },
     "execution_count": 107,
     "metadata": {},
     "output_type": "execute_result"
    },
    {
     "data": {
      "text/plain": [
       "<Figure size 576x360 with 0 Axes>"
      ]
     },
     "metadata": {},
     "output_type": "display_data"
    },
    {
     "data": {
      "image/png": "[encoded data removed]",
      "text/plain": [
       "<Figure size 485.3x360 with 1 Axes>"
      ]
     },
     "metadata": {},
     "output_type": "display_data"
    }
   ],
   "source": [
    "plt.figure(figsize=(8,5))\n",
    "sns.set_theme(style=\"whitegrid\")\n",
    "sns.catplot(x=\"Região\", y=\"Proporção\", hue=\"Candidato a reeleição\", kind=\"bar\", data=df, palette='rainbow')\n",
    "plt.xticks(rotation=45)\n",
    "plt.title(\"Proporção de candidatos eleitos tentando ou não a reeleição\")"
   ]
  },
  {
   "cell_type": "code",
   "execution_count": 116,
   "id": "24ead092",
   "metadata": {},
   "outputs": [
    {
     "data": {
      "text/html": [
       "<div>\n",
       "<style scoped>\n",
       "    .dataframe tbody tr th:only-of-type {\n",
       "        vertical-align: middle;\n",
       "    }\n",
       "\n",
       "    .dataframe tbody tr th {\n",
       "        vertical-align: top;\n",
       "    }\n",
       "\n",
       "    .dataframe thead th {\n",
       "        text-align: right;\n",
       "    }\n",
       "</style>\n",
       "<table border=\"1\" class=\"dataframe\">\n",
       "  <thead>\n",
       "    <tr style=\"text-align: right;\">\n",
       "      <th></th>\n",
       "      <th>Região</th>\n",
       "      <th>DS_CARGO</th>\n",
       "      <th>NR_PARTIDO</th>\n",
       "      <th>SG_PARTIDO</th>\n",
       "      <th>Idade</th>\n",
       "      <th>DS_ESTADO_CIVIL</th>\n",
       "      <th>Reeleição</th>\n",
       "      <th>VR_RECEITA</th>\n",
       "      <th>Declarou bens</th>\n",
       "      <th>Resultado Eleição</th>\n",
       "      <th>DS_GENERO</th>\n",
       "    </tr>\n",
       "  </thead>\n",
       "  <tbody>\n",
       "    <tr>\n",
       "      <th>0</th>\n",
       "      <td>Sudeste</td>\n",
       "      <td>DEPUTADO ESTADUAL</td>\n",
       "      <td>50</td>\n",
       "      <td>PSOL</td>\n",
       "      <td>36.0</td>\n",
       "      <td>SOLTEIRO(A)</td>\n",
       "      <td>N</td>\n",
       "      <td>3936.75</td>\n",
       "      <td>N</td>\n",
       "      <td>SUPLENTE</td>\n",
       "      <td>FEMININO</td>\n",
       "    </tr>\n",
       "    <tr>\n",
       "      <th>1</th>\n",
       "      <td>Sul</td>\n",
       "      <td>DEPUTADO ESTADUAL</td>\n",
       "      <td>25</td>\n",
       "      <td>DEM</td>\n",
       "      <td>46.0</td>\n",
       "      <td>SOLTEIRO(A)</td>\n",
       "      <td>N</td>\n",
       "      <td>157729.24</td>\n",
       "      <td>S</td>\n",
       "      <td>SUPLENTE</td>\n",
       "      <td>MASCULINO</td>\n",
       "    </tr>\n",
       "    <tr>\n",
       "      <th>2</th>\n",
       "      <td>Sudeste</td>\n",
       "      <td>DEPUTADO ESTADUAL</td>\n",
       "      <td>15</td>\n",
       "      <td>MDB</td>\n",
       "      <td>50.0</td>\n",
       "      <td>DIVORCIADO(A)</td>\n",
       "      <td>N</td>\n",
       "      <td>39646.66</td>\n",
       "      <td>S</td>\n",
       "      <td>SUPLENTE</td>\n",
       "      <td>MASCULINO</td>\n",
       "    </tr>\n",
       "    <tr>\n",
       "      <th>3</th>\n",
       "      <td>Norte</td>\n",
       "      <td>DEPUTADO ESTADUAL</td>\n",
       "      <td>27</td>\n",
       "      <td>DC</td>\n",
       "      <td>23.0</td>\n",
       "      <td>SOLTEIRO(A)</td>\n",
       "      <td>N</td>\n",
       "      <td>800.00</td>\n",
       "      <td>N</td>\n",
       "      <td>NÃO ELEITO</td>\n",
       "      <td>FEMININO</td>\n",
       "    </tr>\n",
       "    <tr>\n",
       "      <th>6</th>\n",
       "      <td>Sudeste</td>\n",
       "      <td>DEPUTADO ESTADUAL</td>\n",
       "      <td>45</td>\n",
       "      <td>PSDB</td>\n",
       "      <td>54.0</td>\n",
       "      <td>CASADO(A)</td>\n",
       "      <td>N</td>\n",
       "      <td>39501.21</td>\n",
       "      <td>S</td>\n",
       "      <td>SUPLENTE</td>\n",
       "      <td>MASCULINO</td>\n",
       "    </tr>\n",
       "    <tr>\n",
       "      <th>...</th>\n",
       "      <td>...</td>\n",
       "      <td>...</td>\n",
       "      <td>...</td>\n",
       "      <td>...</td>\n",
       "      <td>...</td>\n",
       "      <td>...</td>\n",
       "      <td>...</td>\n",
       "      <td>...</td>\n",
       "      <td>...</td>\n",
       "      <td>...</td>\n",
       "      <td>...</td>\n",
       "    </tr>\n",
       "    <tr>\n",
       "      <th>29173</th>\n",
       "      <td>Norte</td>\n",
       "      <td>DEPUTADO ESTADUAL</td>\n",
       "      <td>19</td>\n",
       "      <td>PODE</td>\n",
       "      <td>38.0</td>\n",
       "      <td>CASADO(A)</td>\n",
       "      <td>N</td>\n",
       "      <td>9288.04</td>\n",
       "      <td>S</td>\n",
       "      <td>NÃO ELEITO</td>\n",
       "      <td>FEMININO</td>\n",
       "    </tr>\n",
       "    <tr>\n",
       "      <th>29174</th>\n",
       "      <td>Centro-Oeste</td>\n",
       "      <td>DEPUTADO ESTADUAL</td>\n",
       "      <td>17</td>\n",
       "      <td>PSL</td>\n",
       "      <td>72.0</td>\n",
       "      <td>CASADO(A)</td>\n",
       "      <td>N</td>\n",
       "      <td>10540.65</td>\n",
       "      <td>S</td>\n",
       "      <td>SUPLENTE</td>\n",
       "      <td>MASCULINO</td>\n",
       "    </tr>\n",
       "    <tr>\n",
       "      <th>29176</th>\n",
       "      <td>Sul</td>\n",
       "      <td>DEPUTADO ESTADUAL</td>\n",
       "      <td>20</td>\n",
       "      <td>PSC</td>\n",
       "      <td>57.0</td>\n",
       "      <td>CASADO(A)</td>\n",
       "      <td>S</td>\n",
       "      <td>95965.00</td>\n",
       "      <td>S</td>\n",
       "      <td>ELEITO POR QP</td>\n",
       "      <td>MASCULINO</td>\n",
       "    </tr>\n",
       "    <tr>\n",
       "      <th>29177</th>\n",
       "      <td>Sudeste</td>\n",
       "      <td>DEPUTADO ESTADUAL</td>\n",
       "      <td>35</td>\n",
       "      <td>PMB</td>\n",
       "      <td>45.0</td>\n",
       "      <td>DIVORCIADO(A)</td>\n",
       "      <td>N</td>\n",
       "      <td>295869.37</td>\n",
       "      <td>S</td>\n",
       "      <td>SUPLENTE</td>\n",
       "      <td>MASCULINO</td>\n",
       "    </tr>\n",
       "    <tr>\n",
       "      <th>29179</th>\n",
       "      <td>Sul</td>\n",
       "      <td>DEPUTADO ESTADUAL</td>\n",
       "      <td>33</td>\n",
       "      <td>PMN</td>\n",
       "      <td>66.0</td>\n",
       "      <td>DIVORCIADO(A)</td>\n",
       "      <td>N</td>\n",
       "      <td>900.00</td>\n",
       "      <td>N</td>\n",
       "      <td>SUPLENTE</td>\n",
       "      <td>FEMININO</td>\n",
       "    </tr>\n",
       "  </tbody>\n",
       "</table>\n",
       "<p>24721 rows × 11 columns</p>\n",
       "</div>"
      ],
      "text/plain": [
       "             Região           DS_CARGO  NR_PARTIDO SG_PARTIDO  Idade  \\\n",
       "0           Sudeste  DEPUTADO ESTADUAL          50       PSOL   36.0   \n",
       "1               Sul  DEPUTADO ESTADUAL          25        DEM   46.0   \n",
       "2           Sudeste  DEPUTADO ESTADUAL          15        MDB   50.0   \n",
       "3             Norte  DEPUTADO ESTADUAL          27         DC   23.0   \n",
       "6           Sudeste  DEPUTADO ESTADUAL          45       PSDB   54.0   \n",
       "...             ...                ...         ...        ...    ...   \n",
       "29173         Norte  DEPUTADO ESTADUAL          19       PODE   38.0   \n",
       "29174  Centro-Oeste  DEPUTADO ESTADUAL          17        PSL   72.0   \n",
       "29176           Sul  DEPUTADO ESTADUAL          20        PSC   57.0   \n",
       "29177       Sudeste  DEPUTADO ESTADUAL          35        PMB   45.0   \n",
       "29179           Sul  DEPUTADO ESTADUAL          33        PMN   66.0   \n",
       "\n",
       "      DS_ESTADO_CIVIL Reeleição  VR_RECEITA Declarou bens Resultado Eleição  \\\n",
       "0         SOLTEIRO(A)         N     3936.75             N          SUPLENTE   \n",
       "1         SOLTEIRO(A)         N   157729.24             S          SUPLENTE   \n",
       "2       DIVORCIADO(A)         N    39646.66             S          SUPLENTE   \n",
       "3         SOLTEIRO(A)         N      800.00             N        NÃO ELEITO   \n",
       "6           CASADO(A)         N    39501.21             S          SUPLENTE   \n",
       "...               ...       ...         ...           ...               ...   \n",
       "29173       CASADO(A)         N     9288.04             S        NÃO ELEITO   \n",
       "29174       CASADO(A)         N    10540.65             S          SUPLENTE   \n",
       "29176       CASADO(A)         S    95965.00             S     ELEITO POR QP   \n",
       "29177   DIVORCIADO(A)         N   295869.37             S          SUPLENTE   \n",
       "29179   DIVORCIADO(A)         N      900.00             N          SUPLENTE   \n",
       "\n",
       "       DS_GENERO  \n",
       "0       FEMININO  \n",
       "1      MASCULINO  \n",
       "2      MASCULINO  \n",
       "3       FEMININO  \n",
       "6      MASCULINO  \n",
       "...          ...  \n",
       "29173   FEMININO  \n",
       "29174  MASCULINO  \n",
       "29176  MASCULINO  \n",
       "29177  MASCULINO  \n",
       "29179   FEMININO  \n",
       "\n",
       "[24721 rows x 11 columns]"
      ]
     },
     "execution_count": 116,
     "metadata": {},
     "output_type": "execute_result"
    }
   ],
   "source": [
    "analise"
   ]
  },
  {
   "cell_type": "markdown",
   "id": "8ed767a7",
   "metadata": {},
   "source": [
    "# Declaração de bens"
   ]
  },
  {
   "cell_type": "code",
   "execution_count": 115,
   "id": "cae55986",
   "metadata": {},
   "outputs": [
    {
     "data": {
      "text/plain": [
       "Text(0.5, 1.0, 'Declaração de bens')"
      ]
     },
     "execution_count": 115,
     "metadata": {},
     "output_type": "execute_result"
    },
    {
     "data": {
      "image/png": "[encoded data removed]",
      "text/plain": [
       "<Figure size 360x360 with 1 Axes>"
      ]
     },
     "metadata": {},
     "output_type": "display_data"
    }
   ],
   "source": [
    "sns.catplot(x='Declarou bens', kind='count', data=analise)\n",
    "plt.title(\"Declaração de bens\")"
   ]
  },
  {
   "cell_type": "code",
   "execution_count": 117,
   "id": "3b75283e",
   "metadata": {},
   "outputs": [
    {
     "data": {
      "text/plain": [
       "SUPLENTE            18620\n",
       "NÃO ELEITO           4529\n",
       "ELEITO POR QP        1271\n",
       "ELEITO POR MÉDIA      301\n",
       "Name: Resultado Eleição, dtype: int64"
      ]
     },
     "execution_count": 117,
     "metadata": {},
     "output_type": "execute_result"
    }
   ],
   "source": [
    "analise['Resultado Eleição'].value_counts()"
   ]
  },
  {
   "cell_type": "code",
   "execution_count": 118,
   "id": "9fb21149",
   "metadata": {},
   "outputs": [
    {
     "data": {
      "text/html": [
       "<div>\n",
       "<style scoped>\n",
       "    .dataframe tbody tr th:only-of-type {\n",
       "        vertical-align: middle;\n",
       "    }\n",
       "\n",
       "    .dataframe tbody tr th {\n",
       "        vertical-align: top;\n",
       "    }\n",
       "\n",
       "    .dataframe thead th {\n",
       "        text-align: right;\n",
       "    }\n",
       "</style>\n",
       "<table border=\"1\" class=\"dataframe\">\n",
       "  <thead>\n",
       "    <tr style=\"text-align: right;\">\n",
       "      <th></th>\n",
       "      <th>Declarou bens</th>\n",
       "      <th>Resultado</th>\n",
       "      <th>Proporção</th>\n",
       "    </tr>\n",
       "  </thead>\n",
       "  <tbody>\n",
       "    <tr>\n",
       "      <th>0</th>\n",
       "      <td>Sim</td>\n",
       "      <td>SUPLENTE</td>\n",
       "      <td>61.589689</td>\n",
       "    </tr>\n",
       "    <tr>\n",
       "      <th>1</th>\n",
       "      <td>Não</td>\n",
       "      <td>SUPLENTE</td>\n",
       "      <td>38.410311</td>\n",
       "    </tr>\n",
       "    <tr>\n",
       "      <th>2</th>\n",
       "      <td>Sim</td>\n",
       "      <td>NÃO ELEITO</td>\n",
       "      <td>51.931994</td>\n",
       "    </tr>\n",
       "    <tr>\n",
       "      <th>3</th>\n",
       "      <td>Não</td>\n",
       "      <td>NÃO ELEITO</td>\n",
       "      <td>48.068006</td>\n",
       "    </tr>\n",
       "    <tr>\n",
       "      <th>4</th>\n",
       "      <td>Sim</td>\n",
       "      <td>ELEITO POR QP</td>\n",
       "      <td>94.885917</td>\n",
       "    </tr>\n",
       "    <tr>\n",
       "      <th>5</th>\n",
       "      <td>Não</td>\n",
       "      <td>ELEITO POR QP</td>\n",
       "      <td>5.114083</td>\n",
       "    </tr>\n",
       "    <tr>\n",
       "      <th>6</th>\n",
       "      <td>Sim</td>\n",
       "      <td>ELEITO POR MÉDIA</td>\n",
       "      <td>94.019934</td>\n",
       "    </tr>\n",
       "    <tr>\n",
       "      <th>7</th>\n",
       "      <td>Não</td>\n",
       "      <td>ELEITO POR MÉDIA</td>\n",
       "      <td>5.980066</td>\n",
       "    </tr>\n",
       "  </tbody>\n",
       "</table>\n",
       "</div>"
      ],
      "text/plain": [
       "  Declarou bens         Resultado  Proporção\n",
       "0           Sim          SUPLENTE  61.589689\n",
       "1           Não          SUPLENTE  38.410311\n",
       "2           Sim        NÃO ELEITO  51.931994\n",
       "3           Não        NÃO ELEITO  48.068006\n",
       "4           Sim     ELEITO POR QP  94.885917\n",
       "5           Não     ELEITO POR QP   5.114083\n",
       "6           Sim  ELEITO POR MÉDIA  94.019934\n",
       "7           Não  ELEITO POR MÉDIA   5.980066"
      ]
     },
     "execution_count": 118,
     "metadata": {},
     "output_type": "execute_result"
    }
   ],
   "source": [
    "lista=[\"SUPLENTE\", \"NÃO ELEITO\", \"ELEITO POR QP\",\"ELEITO POR MÉDIA\"]\n",
    "listaPro=[]\n",
    "listaree=[]\n",
    "for item in lista:  \n",
    "    df=analise[(analise['Resultado Eleição']==item)]\n",
    "    propS=len(dfS)\n",
    "    propN=len(dfN)\n",
    "    a=len(df[(df['Declarou bens'] == \"S\")])*100 / len(df)\n",
    "    b=len(df[(df['Declarou bens'] == \"N\")])*100 / len(df)\n",
    "    listaPro.append(a)\n",
    "    listaPro.append(b)\n",
    "    listaree.append('Sim')\n",
    "    listaree.append('Não')\n",
    "\n",
    "resultado=[\"SUPLENTE\", \"SUPLENTE\", \"NÃO ELEITO\", \"NÃO ELEITO\", \"ELEITO POR QP\", \"ELEITO POR QP\", \"ELEITO POR MÉDIA\", \"ELEITO POR MÉDIA\"]\n",
    "d = {'Declarou bens':listaree, 'Resultado':resultado, 'Proporção':listaPro}\n",
    "df = pd.DataFrame(d)\n",
    "df"
   ]
  },
  {
   "cell_type": "code",
   "execution_count": 122,
   "id": "c00d8b32",
   "metadata": {},
   "outputs": [
    {
     "data": {
      "text/plain": [
       "Text(0.5, 1.0, 'Resultado da eleição X declaração de bens')"
      ]
     },
     "execution_count": 122,
     "metadata": {},
     "output_type": "execute_result"
    },
    {
     "data": {
      "image/png": "[encoded data removed]",
      "text/plain": [
       "<Figure size 446.175x360 with 1 Axes>"
      ]
     },
     "metadata": {},
     "output_type": "display_data"
    }
   ],
   "source": [
    "sns.catplot(x='Resultado', y='Proporção', hue='Declarou bens', kind='bar', data=df)\n",
    "plt.xticks(rotation=45)\n",
    "plt.title(\"Resultado da eleição X declaração de bens\")"
   ]
  },
  {
   "cell_type": "code",
   "execution_count": 129,
   "id": "10f155fb",
   "metadata": {},
   "outputs": [
    {
     "data": {
      "text/plain": [
       "1        46.0\n",
       "2        50.0\n",
       "6        54.0\n",
       "7        38.0\n",
       "9        45.0\n",
       "         ... \n",
       "29169    39.0\n",
       "29170    49.0\n",
       "29174    72.0\n",
       "29176    57.0\n",
       "29177    45.0\n",
       "Name: Idade, Length: 16984, dtype: float64"
      ]
     },
     "execution_count": 129,
     "metadata": {},
     "output_type": "execute_result"
    }
   ],
   "source": [
    "analise['Idade'][(analise['DS_GENERO']=='MASCULINO')]"
   ]
  },
  {
   "cell_type": "code",
   "execution_count": 171,
   "id": "c90dcf68",
   "metadata": {},
   "outputs": [
    {
     "data": {
      "text/html": [
       "<div>\n",
       "<style scoped>\n",
       "    .dataframe tbody tr th:only-of-type {\n",
       "        vertical-align: middle;\n",
       "    }\n",
       "\n",
       "    .dataframe tbody tr th {\n",
       "        vertical-align: top;\n",
       "    }\n",
       "\n",
       "    .dataframe thead th {\n",
       "        text-align: right;\n",
       "    }\n",
       "</style>\n",
       "<table border=\"1\" class=\"dataframe\">\n",
       "  <thead>\n",
       "    <tr style=\"text-align: right;\">\n",
       "      <th></th>\n",
       "      <th>Bins</th>\n",
       "      <th>Região</th>\n",
       "      <th>DS_CARGO</th>\n",
       "      <th>NR_PARTIDO</th>\n",
       "      <th>SG_PARTIDO</th>\n",
       "      <th>Idade</th>\n",
       "      <th>DS_ESTADO_CIVIL</th>\n",
       "      <th>Reeleição</th>\n",
       "      <th>VR_RECEITA</th>\n",
       "      <th>Declarou bens</th>\n",
       "      <th>Resultado Eleição</th>\n",
       "      <th>DS_GENERO</th>\n",
       "    </tr>\n",
       "  </thead>\n",
       "  <tbody>\n",
       "    <tr>\n",
       "      <th>0</th>\n",
       "      <td>(15, 25]</td>\n",
       "      <td>616</td>\n",
       "      <td>616</td>\n",
       "      <td>616</td>\n",
       "      <td>616</td>\n",
       "      <td>616</td>\n",
       "      <td>616</td>\n",
       "      <td>616</td>\n",
       "      <td>531</td>\n",
       "      <td>616</td>\n",
       "      <td>616</td>\n",
       "      <td>616</td>\n",
       "    </tr>\n",
       "    <tr>\n",
       "      <th>1</th>\n",
       "      <td>(25, 35]</td>\n",
       "      <td>3178</td>\n",
       "      <td>3178</td>\n",
       "      <td>3178</td>\n",
       "      <td>3178</td>\n",
       "      <td>3178</td>\n",
       "      <td>3178</td>\n",
       "      <td>3178</td>\n",
       "      <td>2884</td>\n",
       "      <td>3178</td>\n",
       "      <td>3178</td>\n",
       "      <td>3178</td>\n",
       "    </tr>\n",
       "    <tr>\n",
       "      <th>2</th>\n",
       "      <td>(35, 45]</td>\n",
       "      <td>7025</td>\n",
       "      <td>7025</td>\n",
       "      <td>7025</td>\n",
       "      <td>7025</td>\n",
       "      <td>7025</td>\n",
       "      <td>7025</td>\n",
       "      <td>7025</td>\n",
       "      <td>6405</td>\n",
       "      <td>7025</td>\n",
       "      <td>7025</td>\n",
       "      <td>7025</td>\n",
       "    </tr>\n",
       "    <tr>\n",
       "      <th>3</th>\n",
       "      <td>(45, 55]</td>\n",
       "      <td>7922</td>\n",
       "      <td>7922</td>\n",
       "      <td>7922</td>\n",
       "      <td>7922</td>\n",
       "      <td>7922</td>\n",
       "      <td>7922</td>\n",
       "      <td>7922</td>\n",
       "      <td>7166</td>\n",
       "      <td>7922</td>\n",
       "      <td>7922</td>\n",
       "      <td>7922</td>\n",
       "    </tr>\n",
       "    <tr>\n",
       "      <th>4</th>\n",
       "      <td>(55, 65]</td>\n",
       "      <td>4619</td>\n",
       "      <td>4619</td>\n",
       "      <td>4619</td>\n",
       "      <td>4619</td>\n",
       "      <td>4619</td>\n",
       "      <td>4619</td>\n",
       "      <td>4619</td>\n",
       "      <td>4182</td>\n",
       "      <td>4619</td>\n",
       "      <td>4619</td>\n",
       "      <td>4619</td>\n",
       "    </tr>\n",
       "    <tr>\n",
       "      <th>5</th>\n",
       "      <td>(65, 75]</td>\n",
       "      <td>1197</td>\n",
       "      <td>1197</td>\n",
       "      <td>1197</td>\n",
       "      <td>1197</td>\n",
       "      <td>1197</td>\n",
       "      <td>1197</td>\n",
       "      <td>1197</td>\n",
       "      <td>1081</td>\n",
       "      <td>1197</td>\n",
       "      <td>1197</td>\n",
       "      <td>1197</td>\n",
       "    </tr>\n",
       "    <tr>\n",
       "      <th>6</th>\n",
       "      <td>(75, 85]</td>\n",
       "      <td>156</td>\n",
       "      <td>156</td>\n",
       "      <td>156</td>\n",
       "      <td>156</td>\n",
       "      <td>156</td>\n",
       "      <td>156</td>\n",
       "      <td>156</td>\n",
       "      <td>137</td>\n",
       "      <td>156</td>\n",
       "      <td>156</td>\n",
       "      <td>156</td>\n",
       "    </tr>\n",
       "    <tr>\n",
       "      <th>7</th>\n",
       "      <td>(85, 95]</td>\n",
       "      <td>8</td>\n",
       "      <td>8</td>\n",
       "      <td>8</td>\n",
       "      <td>8</td>\n",
       "      <td>8</td>\n",
       "      <td>8</td>\n",
       "      <td>8</td>\n",
       "      <td>4</td>\n",
       "      <td>8</td>\n",
       "      <td>8</td>\n",
       "      <td>8</td>\n",
       "    </tr>\n",
       "  </tbody>\n",
       "</table>\n",
       "</div>"
      ],
      "text/plain": [
       "       Bins  Região  DS_CARGO  NR_PARTIDO  SG_PARTIDO  Idade  DS_ESTADO_CIVIL  \\\n",
       "0  (15, 25]     616       616         616         616    616              616   \n",
       "1  (25, 35]    3178      3178        3178        3178   3178             3178   \n",
       "2  (35, 45]    7025      7025        7025        7025   7025             7025   \n",
       "3  (45, 55]    7922      7922        7922        7922   7922             7922   \n",
       "4  (55, 65]    4619      4619        4619        4619   4619             4619   \n",
       "5  (65, 75]    1197      1197        1197        1197   1197             1197   \n",
       "6  (75, 85]     156       156         156         156    156              156   \n",
       "7  (85, 95]       8         8           8           8      8                8   \n",
       "\n",
       "   Reeleição  VR_RECEITA  Declarou bens  Resultado Eleição  DS_GENERO  \n",
       "0        616         531            616                616        616  \n",
       "1       3178        2884           3178               3178       3178  \n",
       "2       7025        6405           7025               7025       7025  \n",
       "3       7922        7166           7922               7922       7922  \n",
       "4       4619        4182           4619               4619       4619  \n",
       "5       1197        1081           1197               1197       1197  \n",
       "6        156         137            156                156        156  \n",
       "7          8           4              8                  8          8  "
      ]
     },
     "execution_count": 171,
     "metadata": {},
     "output_type": "execute_result"
    }
   ],
   "source": [
    "analise['Bins'] = pd.cut(x=analise['Idade'], bins=range(15, 100, 10))\n",
    "dfBins = analise.groupby('Bins').count().reset_index()\n",
    "dfBins"
   ]
  },
  {
   "cell_type": "code",
   "execution_count": 172,
   "id": "c3817c99",
   "metadata": {},
   "outputs": [
    {
     "data": {
      "text/html": [
       "<div>\n",
       "<style scoped>\n",
       "    .dataframe tbody tr th:only-of-type {\n",
       "        vertical-align: middle;\n",
       "    }\n",
       "\n",
       "    .dataframe tbody tr th {\n",
       "        vertical-align: top;\n",
       "    }\n",
       "\n",
       "    .dataframe thead th {\n",
       "        text-align: right;\n",
       "    }\n",
       "</style>\n",
       "<table border=\"1\" class=\"dataframe\">\n",
       "  <thead>\n",
       "    <tr style=\"text-align: right;\">\n",
       "      <th></th>\n",
       "      <th>Região</th>\n",
       "      <th>DS_CARGO</th>\n",
       "      <th>NR_PARTIDO</th>\n",
       "      <th>SG_PARTIDO</th>\n",
       "      <th>Idade</th>\n",
       "      <th>DS_ESTADO_CIVIL</th>\n",
       "      <th>Reeleição</th>\n",
       "      <th>VR_RECEITA</th>\n",
       "      <th>Declarou bens</th>\n",
       "      <th>Resultado Eleição</th>\n",
       "      <th>Bins</th>\n",
       "      <th>DS_GENERO_FEMININO</th>\n",
       "      <th>DS_GENERO_MASCULINO</th>\n",
       "    </tr>\n",
       "  </thead>\n",
       "  <tbody>\n",
       "    <tr>\n",
       "      <th>0</th>\n",
       "      <td>Sudeste</td>\n",
       "      <td>DEPUTADO ESTADUAL</td>\n",
       "      <td>50</td>\n",
       "      <td>PSOL</td>\n",
       "      <td>36.0</td>\n",
       "      <td>SOLTEIRO(A)</td>\n",
       "      <td>N</td>\n",
       "      <td>3936.75</td>\n",
       "      <td>N</td>\n",
       "      <td>SUPLENTE</td>\n",
       "      <td>(35, 45]</td>\n",
       "      <td>1</td>\n",
       "      <td>0</td>\n",
       "    </tr>\n",
       "    <tr>\n",
       "      <th>1</th>\n",
       "      <td>Sul</td>\n",
       "      <td>DEPUTADO ESTADUAL</td>\n",
       "      <td>25</td>\n",
       "      <td>DEM</td>\n",
       "      <td>46.0</td>\n",
       "      <td>SOLTEIRO(A)</td>\n",
       "      <td>N</td>\n",
       "      <td>157729.24</td>\n",
       "      <td>S</td>\n",
       "      <td>SUPLENTE</td>\n",
       "      <td>(45, 55]</td>\n",
       "      <td>0</td>\n",
       "      <td>1</td>\n",
       "    </tr>\n",
       "    <tr>\n",
       "      <th>2</th>\n",
       "      <td>Sudeste</td>\n",
       "      <td>DEPUTADO ESTADUAL</td>\n",
       "      <td>15</td>\n",
       "      <td>MDB</td>\n",
       "      <td>50.0</td>\n",
       "      <td>DIVORCIADO(A)</td>\n",
       "      <td>N</td>\n",
       "      <td>39646.66</td>\n",
       "      <td>S</td>\n",
       "      <td>SUPLENTE</td>\n",
       "      <td>(45, 55]</td>\n",
       "      <td>0</td>\n",
       "      <td>1</td>\n",
       "    </tr>\n",
       "    <tr>\n",
       "      <th>3</th>\n",
       "      <td>Norte</td>\n",
       "      <td>DEPUTADO ESTADUAL</td>\n",
       "      <td>27</td>\n",
       "      <td>DC</td>\n",
       "      <td>23.0</td>\n",
       "      <td>SOLTEIRO(A)</td>\n",
       "      <td>N</td>\n",
       "      <td>800.00</td>\n",
       "      <td>N</td>\n",
       "      <td>NÃO ELEITO</td>\n",
       "      <td>(15, 25]</td>\n",
       "      <td>1</td>\n",
       "      <td>0</td>\n",
       "    </tr>\n",
       "    <tr>\n",
       "      <th>6</th>\n",
       "      <td>Sudeste</td>\n",
       "      <td>DEPUTADO ESTADUAL</td>\n",
       "      <td>45</td>\n",
       "      <td>PSDB</td>\n",
       "      <td>54.0</td>\n",
       "      <td>CASADO(A)</td>\n",
       "      <td>N</td>\n",
       "      <td>39501.21</td>\n",
       "      <td>S</td>\n",
       "      <td>SUPLENTE</td>\n",
       "      <td>(45, 55]</td>\n",
       "      <td>0</td>\n",
       "      <td>1</td>\n",
       "    </tr>\n",
       "    <tr>\n",
       "      <th>...</th>\n",
       "      <td>...</td>\n",
       "      <td>...</td>\n",
       "      <td>...</td>\n",
       "      <td>...</td>\n",
       "      <td>...</td>\n",
       "      <td>...</td>\n",
       "      <td>...</td>\n",
       "      <td>...</td>\n",
       "      <td>...</td>\n",
       "      <td>...</td>\n",
       "      <td>...</td>\n",
       "      <td>...</td>\n",
       "      <td>...</td>\n",
       "    </tr>\n",
       "    <tr>\n",
       "      <th>29173</th>\n",
       "      <td>Norte</td>\n",
       "      <td>DEPUTADO ESTADUAL</td>\n",
       "      <td>19</td>\n",
       "      <td>PODE</td>\n",
       "      <td>38.0</td>\n",
       "      <td>CASADO(A)</td>\n",
       "      <td>N</td>\n",
       "      <td>9288.04</td>\n",
       "      <td>S</td>\n",
       "      <td>NÃO ELEITO</td>\n",
       "      <td>(35, 45]</td>\n",
       "      <td>1</td>\n",
       "      <td>0</td>\n",
       "    </tr>\n",
       "    <tr>\n",
       "      <th>29174</th>\n",
       "      <td>Centro-Oeste</td>\n",
       "      <td>DEPUTADO ESTADUAL</td>\n",
       "      <td>17</td>\n",
       "      <td>PSL</td>\n",
       "      <td>72.0</td>\n",
       "      <td>CASADO(A)</td>\n",
       "      <td>N</td>\n",
       "      <td>10540.65</td>\n",
       "      <td>S</td>\n",
       "      <td>SUPLENTE</td>\n",
       "      <td>(65, 75]</td>\n",
       "      <td>0</td>\n",
       "      <td>1</td>\n",
       "    </tr>\n",
       "    <tr>\n",
       "      <th>29176</th>\n",
       "      <td>Sul</td>\n",
       "      <td>DEPUTADO ESTADUAL</td>\n",
       "      <td>20</td>\n",
       "      <td>PSC</td>\n",
       "      <td>57.0</td>\n",
       "      <td>CASADO(A)</td>\n",
       "      <td>S</td>\n",
       "      <td>95965.00</td>\n",
       "      <td>S</td>\n",
       "      <td>ELEITO POR QP</td>\n",
       "      <td>(55, 65]</td>\n",
       "      <td>0</td>\n",
       "      <td>1</td>\n",
       "    </tr>\n",
       "    <tr>\n",
       "      <th>29177</th>\n",
       "      <td>Sudeste</td>\n",
       "      <td>DEPUTADO ESTADUAL</td>\n",
       "      <td>35</td>\n",
       "      <td>PMB</td>\n",
       "      <td>45.0</td>\n",
       "      <td>DIVORCIADO(A)</td>\n",
       "      <td>N</td>\n",
       "      <td>295869.37</td>\n",
       "      <td>S</td>\n",
       "      <td>SUPLENTE</td>\n",
       "      <td>(35, 45]</td>\n",
       "      <td>0</td>\n",
       "      <td>1</td>\n",
       "    </tr>\n",
       "    <tr>\n",
       "      <th>29179</th>\n",
       "      <td>Sul</td>\n",
       "      <td>DEPUTADO ESTADUAL</td>\n",
       "      <td>33</td>\n",
       "      <td>PMN</td>\n",
       "      <td>66.0</td>\n",
       "      <td>DIVORCIADO(A)</td>\n",
       "      <td>N</td>\n",
       "      <td>900.00</td>\n",
       "      <td>N</td>\n",
       "      <td>SUPLENTE</td>\n",
       "      <td>(65, 75]</td>\n",
       "      <td>1</td>\n",
       "      <td>0</td>\n",
       "    </tr>\n",
       "  </tbody>\n",
       "</table>\n",
       "<p>24721 rows × 13 columns</p>\n",
       "</div>"
      ],
      "text/plain": [
       "             Região           DS_CARGO  NR_PARTIDO SG_PARTIDO  Idade  \\\n",
       "0           Sudeste  DEPUTADO ESTADUAL          50       PSOL   36.0   \n",
       "1               Sul  DEPUTADO ESTADUAL          25        DEM   46.0   \n",
       "2           Sudeste  DEPUTADO ESTADUAL          15        MDB   50.0   \n",
       "3             Norte  DEPUTADO ESTADUAL          27         DC   23.0   \n",
       "6           Sudeste  DEPUTADO ESTADUAL          45       PSDB   54.0   \n",
       "...             ...                ...         ...        ...    ...   \n",
       "29173         Norte  DEPUTADO ESTADUAL          19       PODE   38.0   \n",
       "29174  Centro-Oeste  DEPUTADO ESTADUAL          17        PSL   72.0   \n",
       "29176           Sul  DEPUTADO ESTADUAL          20        PSC   57.0   \n",
       "29177       Sudeste  DEPUTADO ESTADUAL          35        PMB   45.0   \n",
       "29179           Sul  DEPUTADO ESTADUAL          33        PMN   66.0   \n",
       "\n",
       "      DS_ESTADO_CIVIL Reeleição  VR_RECEITA Declarou bens Resultado Eleição  \\\n",
       "0         SOLTEIRO(A)         N     3936.75             N          SUPLENTE   \n",
       "1         SOLTEIRO(A)         N   157729.24             S          SUPLENTE   \n",
       "2       DIVORCIADO(A)         N    39646.66             S          SUPLENTE   \n",
       "3         SOLTEIRO(A)         N      800.00             N        NÃO ELEITO   \n",
       "6           CASADO(A)         N    39501.21             S          SUPLENTE   \n",
       "...               ...       ...         ...           ...               ...   \n",
       "29173       CASADO(A)         N     9288.04             S        NÃO ELEITO   \n",
       "29174       CASADO(A)         N    10540.65             S          SUPLENTE   \n",
       "29176       CASADO(A)         S    95965.00             S     ELEITO POR QP   \n",
       "29177   DIVORCIADO(A)         N   295869.37             S          SUPLENTE   \n",
       "29179   DIVORCIADO(A)         N      900.00             N          SUPLENTE   \n",
       "\n",
       "           Bins  DS_GENERO_FEMININO  DS_GENERO_MASCULINO  \n",
       "0      (35, 45]                   1                    0  \n",
       "1      (45, 55]                   0                    1  \n",
       "2      (45, 55]                   0                    1  \n",
       "3      (15, 25]                   1                    0  \n",
       "6      (45, 55]                   0                    1  \n",
       "...         ...                 ...                  ...  \n",
       "29173  (35, 45]                   1                    0  \n",
       "29174  (65, 75]                   0                    1  \n",
       "29176  (55, 65]                   0                    1  \n",
       "29177  (35, 45]                   0                    1  \n",
       "29179  (65, 75]                   1                    0  \n",
       "\n",
       "[24721 rows x 13 columns]"
      ]
     },
     "execution_count": 172,
     "metadata": {},
     "output_type": "execute_result"
    }
   ],
   "source": [
    "df1 = pd.get_dummies(analise, columns=['DS_GENERO'])\n",
    "df1"
   ]
  },
  {
   "cell_type": "code",
   "execution_count": 173,
   "id": "6c296994",
   "metadata": {},
   "outputs": [
    {
     "data": {
      "text/html": [
       "<div>\n",
       "<style scoped>\n",
       "    .dataframe tbody tr th:only-of-type {\n",
       "        vertical-align: middle;\n",
       "    }\n",
       "\n",
       "    .dataframe tbody tr th {\n",
       "        vertical-align: top;\n",
       "    }\n",
       "\n",
       "    .dataframe thead th {\n",
       "        text-align: right;\n",
       "    }\n",
       "</style>\n",
       "<table border=\"1\" class=\"dataframe\">\n",
       "  <thead>\n",
       "    <tr style=\"text-align: right;\">\n",
       "      <th></th>\n",
       "      <th>NR_PARTIDO</th>\n",
       "      <th>Idade</th>\n",
       "      <th>VR_RECEITA</th>\n",
       "      <th>DS_GENERO_FEMININO</th>\n",
       "      <th>DS_GENERO_MASCULINO</th>\n",
       "    </tr>\n",
       "    <tr>\n",
       "      <th>Bins</th>\n",
       "      <th></th>\n",
       "      <th></th>\n",
       "      <th></th>\n",
       "      <th></th>\n",
       "      <th></th>\n",
       "    </tr>\n",
       "  </thead>\n",
       "  <tbody>\n",
       "    <tr>\n",
       "      <th>(15, 25]</th>\n",
       "      <td>22948</td>\n",
       "      <td>14307.0</td>\n",
       "      <td>2.792732e+07</td>\n",
       "      <td>321.0</td>\n",
       "      <td>295.0</td>\n",
       "    </tr>\n",
       "    <tr>\n",
       "      <th>(25, 35]</th>\n",
       "      <td>114359</td>\n",
       "      <td>100138.0</td>\n",
       "      <td>2.539472e+08</td>\n",
       "      <td>1173.0</td>\n",
       "      <td>2005.0</td>\n",
       "    </tr>\n",
       "    <tr>\n",
       "      <th>(35, 45]</th>\n",
       "      <td>253571</td>\n",
       "      <td>286031.0</td>\n",
       "      <td>5.923269e+08</td>\n",
       "      <td>2187.0</td>\n",
       "      <td>4838.0</td>\n",
       "    </tr>\n",
       "    <tr>\n",
       "      <th>(45, 55]</th>\n",
       "      <td>280764</td>\n",
       "      <td>399037.0</td>\n",
       "      <td>6.762905e+08</td>\n",
       "      <td>2383.0</td>\n",
       "      <td>5539.0</td>\n",
       "    </tr>\n",
       "    <tr>\n",
       "      <th>(55, 65]</th>\n",
       "      <td>158691</td>\n",
       "      <td>275746.0</td>\n",
       "      <td>5.728656e+08</td>\n",
       "      <td>1344.0</td>\n",
       "      <td>3275.0</td>\n",
       "    </tr>\n",
       "    <tr>\n",
       "      <th>(65, 75]</th>\n",
       "      <td>39399</td>\n",
       "      <td>82705.0</td>\n",
       "      <td>2.152814e+08</td>\n",
       "      <td>296.0</td>\n",
       "      <td>901.0</td>\n",
       "    </tr>\n",
       "    <tr>\n",
       "      <th>(75, 85]</th>\n",
       "      <td>5002</td>\n",
       "      <td>12229.0</td>\n",
       "      <td>3.315794e+07</td>\n",
       "      <td>32.0</td>\n",
       "      <td>124.0</td>\n",
       "    </tr>\n",
       "    <tr>\n",
       "      <th>(85, 95]</th>\n",
       "      <td>189</td>\n",
       "      <td>708.0</td>\n",
       "      <td>5.172087e+05</td>\n",
       "      <td>1.0</td>\n",
       "      <td>7.0</td>\n",
       "    </tr>\n",
       "  </tbody>\n",
       "</table>\n",
       "</div>"
      ],
      "text/plain": [
       "          NR_PARTIDO     Idade    VR_RECEITA  DS_GENERO_FEMININO  \\\n",
       "Bins                                                               \n",
       "(15, 25]       22948   14307.0  2.792732e+07               321.0   \n",
       "(25, 35]      114359  100138.0  2.539472e+08              1173.0   \n",
       "(35, 45]      253571  286031.0  5.923269e+08              2187.0   \n",
       "(45, 55]      280764  399037.0  6.762905e+08              2383.0   \n",
       "(55, 65]      158691  275746.0  5.728656e+08              1344.0   \n",
       "(65, 75]       39399   82705.0  2.152814e+08               296.0   \n",
       "(75, 85]        5002   12229.0  3.315794e+07                32.0   \n",
       "(85, 95]         189     708.0  5.172087e+05                 1.0   \n",
       "\n",
       "          DS_GENERO_MASCULINO  \n",
       "Bins                           \n",
       "(15, 25]                295.0  \n",
       "(25, 35]               2005.0  \n",
       "(35, 45]               4838.0  \n",
       "(45, 55]               5539.0  \n",
       "(55, 65]               3275.0  \n",
       "(65, 75]                901.0  \n",
       "(75, 85]                124.0  \n",
       "(85, 95]                  7.0  "
      ]
     },
     "execution_count": 173,
     "metadata": {},
     "output_type": "execute_result"
    }
   ],
   "source": [
    "df1['Bins'] = pd.cut(x=df1['Idade'], bins=range(15, 100, 10))\n",
    "dfBins = df1.groupby('Bins').sum()\n",
    "dfBins"
   ]
  },
  {
   "cell_type": "markdown",
   "id": "b237a596",
   "metadata": {},
   "source": [
    "# Pirâmide etária"
   ]
  },
  {
   "cell_type": "code",
   "execution_count": 174,
   "id": "5e6ec533",
   "metadata": {},
   "outputs": [
    {
     "data": {
      "application/vnd.plotly.v1+json": {
       "config": {
        "plotlyServerURL": "https://plot.ly"
       },
       "data": [
        {
         "marker": {
          "color": "powderblue"
         },
         "name": "Masculino",
         "orientation": "h",
         "text": [
          295,
          2005,
          4838,
          5539,
          3275,
          901,
          124,
          7
         ],
         "type": "bar",
         "x": [
          295,
          2005,
          4838,
          5539,
          3275,
          901,
          124,
          7
         ],
         "y": [
          "(15, 25]",
          "(25, 35]",
          "(35, 45]",
          "(45, 55]",
          "(55, 65]",
          "(65, 75]",
          "(75, 85]",
          "(85, 95]"
         ]
        },
        {
         "marker": {
          "color": "seagreen"
         },
         "name": "Feminino",
         "orientation": "h",
         "text": [
          321,
          1173,
          2187,
          2383,
          1344,
          296,
          32,
          1
         ],
         "type": "bar",
         "x": [
          -321,
          -1173,
          -2187,
          -2383,
          -1344,
          -296,
          -32,
          -1
         ],
         "y": [
          "(15, 25]",
          "(25, 35]",
          "(35, 45]",
          "(45, 55]",
          "(55, 65]",
          "(65, 75]",
          "(75, 85]",
          "(85, 95]"
         ]
        }
       ],
       "layout": {
        "bargap": 0.1,
        "bargroupgap": 0,
        "barmode": "relative",
        "template": {
         "data": {
          "bar": [
           {
            "error_x": {
             "color": "#2a3f5f"
            },
            "error_y": {
             "color": "#2a3f5f"
            },
            "marker": {
             "line": {
              "color": "#E5ECF6",
              "width": 0.5
             }
            },
            "type": "bar"
           }
          ],
          "barpolar": [
           {
            "marker": {
             "line": {
              "color": "#E5ECF6",
              "width": 0.5
             }
            },
            "type": "barpolar"
           }
          ],
          "carpet": [
           {
            "aaxis": {
             "endlinecolor": "#2a3f5f",
             "gridcolor": "white",
             "linecolor": "white",
             "minorgridcolor": "white",
             "startlinecolor": "#2a3f5f"
            },
            "baxis": {
             "endlinecolor": "#2a3f5f",
             "gridcolor": "white",
             "linecolor": "white",
             "minorgridcolor": "white",
             "startlinecolor": "#2a3f5f"
            },
            "type": "carpet"
           }
          ],
          "choropleth": [
           {
            "colorbar": {
             "outlinewidth": 0,
             "ticks": ""
            },
            "type": "choropleth"
           }
          ],
          "contour": [
           {
            "colorbar": {
             "outlinewidth": 0,
             "ticks": ""
            },
            "colorscale": [
             [
              0,
              "#0d0887"
             ],
             [
              0.1111111111111111,
              "#46039f"
             ],
             [
              0.2222222222222222,
              "#7201a8"
             ],
             [
              0.3333333333333333,
              "#9c179e"
             ],
             [
              0.4444444444444444,
              "#bd3786"
             ],
             [
              0.5555555555555556,
              "#d8576b"
             ],
             [
              0.6666666666666666,
              "#ed7953"
             ],
             [
              0.7777777777777778,
              "#fb9f3a"
             ],
             [
              0.8888888888888888,
              "#fdca26"
             ],
             [
              1,
              "#f0f921"
             ]
            ],
            "type": "contour"
           }
          ],
          "contourcarpet": [
           {
            "colorbar": {
             "outlinewidth": 0,
             "ticks": ""
            },
            "type": "contourcarpet"
           }
          ],
          "heatmap": [
           {
            "colorbar": {
             "outlinewidth": 0,
             "ticks": ""
            },
            "colorscale": [
             [
              0,
              "#0d0887"
             ],
             [
              0.1111111111111111,
              "#46039f"
             ],
             [
              0.2222222222222222,
              "#7201a8"
             ],
             [
              0.3333333333333333,
              "#9c179e"
             ],
             [
              0.4444444444444444,
              "#bd3786"
             ],
             [
              0.5555555555555556,
              "#d8576b"
             ],
             [
              0.6666666666666666,
              "#ed7953"
             ],
             [
              0.7777777777777778,
              "#fb9f3a"
             ],
             [
              0.8888888888888888,
              "#fdca26"
             ],
             [
              1,
              "#f0f921"
             ]
            ],
            "type": "heatmap"
           }
          ],
          "heatmapgl": [
           {
            "colorbar": {
             "outlinewidth": 0,
             "ticks": ""
            },
            "colorscale": [
             [
              0,
              "#0d0887"
             ],
             [
              0.1111111111111111,
              "#46039f"
             ],
             [
              0.2222222222222222,
              "#7201a8"
             ],
             [
              0.3333333333333333,
              "#9c179e"
             ],
             [
              0.4444444444444444,
              "#bd3786"
             ],
             [
              0.5555555555555556,
              "#d8576b"
             ],
             [
              0.6666666666666666,
              "#ed7953"
             ],
             [
              0.7777777777777778,
              "#fb9f3a"
             ],
             [
              0.8888888888888888,
              "#fdca26"
             ],
             [
              1,
              "#f0f921"
             ]
            ],
            "type": "heatmapgl"
           }
          ],
          "histogram": [
           {
            "marker": {
             "colorbar": {
              "outlinewidth": 0,
              "ticks": ""
             }
            },
            "type": "histogram"
           }
          ],
          "histogram2d": [
           {
            "colorbar": {
             "outlinewidth": 0,
             "ticks": ""
            },
            "colorscale": [
             [
              0,
              "#0d0887"
             ],
             [
              0.1111111111111111,
              "#46039f"
             ],
             [
              0.2222222222222222,
              "#7201a8"
             ],
             [
              0.3333333333333333,
              "#9c179e"
             ],
             [
              0.4444444444444444,
              "#bd3786"
             ],
             [
              0.5555555555555556,
              "#d8576b"
             ],
             [
              0.6666666666666666,
              "#ed7953"
             ],
             [
              0.7777777777777778,
              "#fb9f3a"
             ],
             [
              0.8888888888888888,
              "#fdca26"
             ],
             [
              1,
              "#f0f921"
             ]
            ],
            "type": "histogram2d"
           }
          ],
          "histogram2dcontour": [
           {
            "colorbar": {
             "outlinewidth": 0,
             "ticks": ""
            },
            "colorscale": [
             [
              0,
              "#0d0887"
             ],
             [
              0.1111111111111111,
              "#46039f"
             ],
             [
              0.2222222222222222,
              "#7201a8"
             ],
             [
              0.3333333333333333,
              "#9c179e"
             ],
             [
              0.4444444444444444,
              "#bd3786"
             ],
             [
              0.5555555555555556,
              "#d8576b"
             ],
             [
              0.6666666666666666,
              "#ed7953"
             ],
             [
              0.7777777777777778,
              "#fb9f3a"
             ],
             [
              0.8888888888888888,
              "#fdca26"
             ],
             [
              1,
              "#f0f921"
             ]
            ],
            "type": "histogram2dcontour"
           }
          ],
          "mesh3d": [
           {
            "colorbar": {
             "outlinewidth": 0,
             "ticks": ""
            },
            "type": "mesh3d"
           }
          ],
          "parcoords": [
           {
            "line": {
             "colorbar": {
              "outlinewidth": 0,
              "ticks": ""
             }
            },
            "type": "parcoords"
           }
          ],
          "pie": [
           {
            "automargin": true,
            "type": "pie"
           }
          ],
          "scatter": [
           {
            "marker": {
             "colorbar": {
              "outlinewidth": 0,
              "ticks": ""
             }
            },
            "type": "scatter"
           }
          ],
          "scatter3d": [
           {
            "line": {
             "colorbar": {
              "outlinewidth": 0,
              "ticks": ""
             }
            },
            "marker": {
             "colorbar": {
              "outlinewidth": 0,
              "ticks": ""
             }
            },
            "type": "scatter3d"
           }
          ],
          "scattercarpet": [
           {
            "marker": {
             "colorbar": {
              "outlinewidth": 0,
              "ticks": ""
             }
            },
            "type": "scattercarpet"
           }
          ],
          "scattergeo": [
           {
            "marker": {
             "colorbar": {
              "outlinewidth": 0,
              "ticks": ""
             }
            },
            "type": "scattergeo"
           }
          ],
          "scattergl": [
           {
            "marker": {
             "colorbar": {
              "outlinewidth": 0,
              "ticks": ""
             }
            },
            "type": "scattergl"
           }
          ],
          "scattermapbox": [
           {
            "marker": {
             "colorbar": {
              "outlinewidth": 0,
              "ticks": ""
             }
            },
            "type": "scattermapbox"
           }
          ],
          "scatterpolar": [
           {
            "marker": {
             "colorbar": {
              "outlinewidth": 0,
              "ticks": ""
             }
            },
            "type": "scatterpolar"
           }
          ],
          "scatterpolargl": [
           {
            "marker": {
             "colorbar": {
              "outlinewidth": 0,
              "ticks": ""
             }
            },
            "type": "scatterpolargl"
           }
          ],
          "scatterternary": [
           {
            "marker": {
             "colorbar": {
              "outlinewidth": 0,
              "ticks": ""
             }
            },
            "type": "scatterternary"
           }
          ],
          "surface": [
           {
            "colorbar": {
             "outlinewidth": 0,
             "ticks": ""
            },
            "colorscale": [
             [
              0,
              "#0d0887"
             ],
             [
              0.1111111111111111,
              "#46039f"
             ],
             [
              0.2222222222222222,
              "#7201a8"
             ],
             [
              0.3333333333333333,
              "#9c179e"
             ],
             [
              0.4444444444444444,
              "#bd3786"
             ],
             [
              0.5555555555555556,
              "#d8576b"
             ],
             [
              0.6666666666666666,
              "#ed7953"
             ],
             [
              0.7777777777777778,
              "#fb9f3a"
             ],
             [
              0.8888888888888888,
              "#fdca26"
             ],
             [
              1,
              "#f0f921"
             ]
            ],
            "type": "surface"
           }
          ],
          "table": [
           {
            "cells": {
             "fill": {
              "color": "#EBF0F8"
             },
             "line": {
              "color": "white"
             }
            },
            "header": {
             "fill": {
              "color": "#C8D4E3"
             },
             "line": {
              "color": "white"
             }
            },
            "type": "table"
           }
          ]
         },
         "layout": {
          "annotationdefaults": {
           "arrowcolor": "#2a3f5f",
           "arrowhead": 0,
           "arrowwidth": 1
          },
          "coloraxis": {
           "colorbar": {
            "outlinewidth": 0,
            "ticks": ""
           }
          },
          "colorscale": {
           "diverging": [
            [
             0,
             "#8e0152"
            ],
            [
             0.1,
             "#c51b7d"
            ],
            [
             0.2,
             "#de77ae"
            ],
            [
             0.3,
             "#f1b6da"
            ],
            [
             0.4,
             "#fde0ef"
            ],
            [
             0.5,
             "#f7f7f7"
            ],
            [
             0.6,
             "#e6f5d0"
            ],
            [
             0.7,
             "#b8e186"
            ],
            [
             0.8,
             "#7fbc41"
            ],
            [
             0.9,
             "#4d9221"
            ],
            [
             1,
             "#276419"
            ]
           ],
           "sequential": [
            [
             0,
             "#0d0887"
            ],
            [
             0.1111111111111111,
             "#46039f"
            ],
            [
             0.2222222222222222,
             "#7201a8"
            ],
            [
             0.3333333333333333,
             "#9c179e"
            ],
            [
             0.4444444444444444,
             "#bd3786"
            ],
            [
             0.5555555555555556,
             "#d8576b"
            ],
            [
             0.6666666666666666,
             "#ed7953"
            ],
            [
             0.7777777777777778,
             "#fb9f3a"
            ],
            [
             0.8888888888888888,
             "#fdca26"
            ],
            [
             1,
             "#f0f921"
            ]
           ],
           "sequentialminus": [
            [
             0,
             "#0d0887"
            ],
            [
             0.1111111111111111,
             "#46039f"
            ],
            [
             0.2222222222222222,
             "#7201a8"
            ],
            [
             0.3333333333333333,
             "#9c179e"
            ],
            [
             0.4444444444444444,
             "#bd3786"
            ],
            [
             0.5555555555555556,
             "#d8576b"
            ],
            [
             0.6666666666666666,
             "#ed7953"
            ],
            [
             0.7777777777777778,
             "#fb9f3a"
            ],
            [
             0.8888888888888888,
             "#fdca26"
            ],
            [
             1,
             "#f0f921"
            ]
           ]
          },
          "colorway": [
           "#636efa",
           "#EF553B",
           "#00cc96",
           "#ab63fa",
           "#FFA15A",
           "#19d3f3",
           "#FF6692",
           "#B6E880",
           "#FF97FF",
           "#FECB52"
          ],
          "font": {
           "color": "#2a3f5f"
          },
          "geo": {
           "bgcolor": "white",
           "lakecolor": "white",
           "landcolor": "#E5ECF6",
           "showlakes": true,
           "showland": true,
           "subunitcolor": "white"
          },
          "hoverlabel": {
           "align": "left"
          },
          "hovermode": "closest",
          "mapbox": {
           "style": "light"
          },
          "paper_bgcolor": "white",
          "plot_bgcolor": "#E5ECF6",
          "polar": {
           "angularaxis": {
            "gridcolor": "white",
            "linecolor": "white",
            "ticks": ""
           },
           "bgcolor": "#E5ECF6",
           "radialaxis": {
            "gridcolor": "white",
            "linecolor": "white",
            "ticks": ""
           }
          },
          "scene": {
           "xaxis": {
            "backgroundcolor": "#E5ECF6",
            "gridcolor": "white",
            "gridwidth": 2,
            "linecolor": "white",
            "showbackground": true,
            "ticks": "",
            "zerolinecolor": "white"
           },
           "yaxis": {
            "backgroundcolor": "#E5ECF6",
            "gridcolor": "white",
            "gridwidth": 2,
            "linecolor": "white",
            "showbackground": true,
            "ticks": "",
            "zerolinecolor": "white"
           },
           "zaxis": {
            "backgroundcolor": "#E5ECF6",
            "gridcolor": "white",
            "gridwidth": 2,
            "linecolor": "white",
            "showbackground": true,
            "ticks": "",
            "zerolinecolor": "white"
           }
          },
          "shapedefaults": {
           "line": {
            "color": "#2a3f5f"
           }
          },
          "ternary": {
           "aaxis": {
            "gridcolor": "white",
            "linecolor": "white",
            "ticks": ""
           },
           "baxis": {
            "gridcolor": "white",
            "linecolor": "white",
            "ticks": ""
           },
           "bgcolor": "#E5ECF6",
           "caxis": {
            "gridcolor": "white",
            "linecolor": "white",
            "ticks": ""
           }
          },
          "title": {
           "x": 0.05
          },
          "xaxis": {
           "automargin": true,
           "gridcolor": "white",
           "linecolor": "white",
           "ticks": "",
           "title": {
            "standoff": 15
           },
           "zerolinecolor": "white",
           "zerolinewidth": 2
          },
          "yaxis": {
           "automargin": true,
           "gridcolor": "white",
           "linecolor": "white",
           "ticks": "",
           "title": {
            "standoff": 15
           },
           "zerolinecolor": "white",
           "zerolinewidth": 2
          }
         }
        },
        "title": {
         "font": {
          "size": 22
         },
         "text": "Pirâmide etária dos candidatos"
        },
        "xaxis": {
         "showticklabels": false,
         "title": {
          "font": {
           "size": 14
          },
          "text": "Candidatos"
         }
        }
       }
      }
     },
     "metadata": {},
     "output_type": "display_data"
    }
   ],
   "source": [
    "import plotly.graph_objects as gp\n",
    "\n",
    "\n",
    "\n",
    "fig = gp.Figure()\n",
    "y_age = dfBins.index.astype('str')\n",
    "x_M = dfBins['DS_GENERO_MASCULINO']\n",
    "x_F = (dfBins['DS_GENERO_FEMININO']) * -1\n",
    "# Adding Male data to the figure\n",
    "fig.add_trace(gp.Bar(y= y_age, x = x_M, \n",
    "                     name = 'Masculino',\n",
    "                     text=x_M.astype('float'), \n",
    "                     orientation = 'h',\n",
    "                     marker=dict(color='powderblue')))\n",
    "  \n",
    "# Adding Female data to the figure\n",
    "fig.add_trace(gp.Bar(y = y_age, x = x_F,\n",
    "                     name = 'Feminino', \n",
    "                     text=(-1)*x_F.astype('float'),\n",
    "                     orientation = 'h',\n",
    "                     marker=dict(color='seagreen')))\n",
    "  \n",
    "# Updating the layout for our graph\n",
    "fig.update_layout(title = 'Pirâmide etária dos candidatos',\n",
    "                 title_font_size = 22, barmode = 'relative',\n",
    "                 bargap=0.1,\n",
    "                 #text=(-1)*women_bins.astype('float'),\n",
    "                 bargroupgap = 0,\n",
    "                 xaxis = dict(showticklabels=False,\n",
    "                            \n",
    "                                \n",
    "                              title = 'Candidatos',\n",
    "                              title_font_size = 14)\n",
    "                 )\n",
    "  \n",
    "fig.show()"
   ]
  },
  {
   "cell_type": "code",
   "execution_count": 161,
   "id": "f1338ec9",
   "metadata": {},
   "outputs": [
    {
     "data": {
      "text/html": [
       "<div>\n",
       "<style scoped>\n",
       "    .dataframe tbody tr th:only-of-type {\n",
       "        vertical-align: middle;\n",
       "    }\n",
       "\n",
       "    .dataframe tbody tr th {\n",
       "        vertical-align: top;\n",
       "    }\n",
       "\n",
       "    .dataframe thead th {\n",
       "        text-align: right;\n",
       "    }\n",
       "</style>\n",
       "<table border=\"1\" class=\"dataframe\">\n",
       "  <thead>\n",
       "    <tr style=\"text-align: right;\">\n",
       "      <th></th>\n",
       "      <th>Região</th>\n",
       "      <th>DS_CARGO</th>\n",
       "      <th>NR_PARTIDO</th>\n",
       "      <th>SG_PARTIDO</th>\n",
       "      <th>Idade</th>\n",
       "      <th>DS_ESTADO_CIVIL</th>\n",
       "      <th>Reeleição</th>\n",
       "      <th>VR_RECEITA</th>\n",
       "      <th>Declarou bens</th>\n",
       "      <th>Resultado Eleição</th>\n",
       "      <th>DS_GENERO</th>\n",
       "      <th>Bins</th>\n",
       "    </tr>\n",
       "  </thead>\n",
       "  <tbody>\n",
       "    <tr>\n",
       "      <th>0</th>\n",
       "      <td>Sudeste</td>\n",
       "      <td>DEPUTADO ESTADUAL</td>\n",
       "      <td>50</td>\n",
       "      <td>PSOL</td>\n",
       "      <td>36.0</td>\n",
       "      <td>SOLTEIRO(A)</td>\n",
       "      <td>N</td>\n",
       "      <td>3936.75</td>\n",
       "      <td>N</td>\n",
       "      <td>SUPLENTE</td>\n",
       "      <td>FEMININO</td>\n",
       "      <td>(35, 45]</td>\n",
       "    </tr>\n",
       "    <tr>\n",
       "      <th>1</th>\n",
       "      <td>Sul</td>\n",
       "      <td>DEPUTADO ESTADUAL</td>\n",
       "      <td>25</td>\n",
       "      <td>DEM</td>\n",
       "      <td>46.0</td>\n",
       "      <td>SOLTEIRO(A)</td>\n",
       "      <td>N</td>\n",
       "      <td>157729.24</td>\n",
       "      <td>S</td>\n",
       "      <td>SUPLENTE</td>\n",
       "      <td>MASCULINO</td>\n",
       "      <td>(45, 55]</td>\n",
       "    </tr>\n",
       "    <tr>\n",
       "      <th>2</th>\n",
       "      <td>Sudeste</td>\n",
       "      <td>DEPUTADO ESTADUAL</td>\n",
       "      <td>15</td>\n",
       "      <td>MDB</td>\n",
       "      <td>50.0</td>\n",
       "      <td>DIVORCIADO(A)</td>\n",
       "      <td>N</td>\n",
       "      <td>39646.66</td>\n",
       "      <td>S</td>\n",
       "      <td>SUPLENTE</td>\n",
       "      <td>MASCULINO</td>\n",
       "      <td>(45, 55]</td>\n",
       "    </tr>\n",
       "    <tr>\n",
       "      <th>3</th>\n",
       "      <td>Norte</td>\n",
       "      <td>DEPUTADO ESTADUAL</td>\n",
       "      <td>27</td>\n",
       "      <td>DC</td>\n",
       "      <td>23.0</td>\n",
       "      <td>SOLTEIRO(A)</td>\n",
       "      <td>N</td>\n",
       "      <td>800.00</td>\n",
       "      <td>N</td>\n",
       "      <td>NÃO ELEITO</td>\n",
       "      <td>FEMININO</td>\n",
       "      <td>(15, 25]</td>\n",
       "    </tr>\n",
       "    <tr>\n",
       "      <th>6</th>\n",
       "      <td>Sudeste</td>\n",
       "      <td>DEPUTADO ESTADUAL</td>\n",
       "      <td>45</td>\n",
       "      <td>PSDB</td>\n",
       "      <td>54.0</td>\n",
       "      <td>CASADO(A)</td>\n",
       "      <td>N</td>\n",
       "      <td>39501.21</td>\n",
       "      <td>S</td>\n",
       "      <td>SUPLENTE</td>\n",
       "      <td>MASCULINO</td>\n",
       "      <td>(45, 55]</td>\n",
       "    </tr>\n",
       "    <tr>\n",
       "      <th>...</th>\n",
       "      <td>...</td>\n",
       "      <td>...</td>\n",
       "      <td>...</td>\n",
       "      <td>...</td>\n",
       "      <td>...</td>\n",
       "      <td>...</td>\n",
       "      <td>...</td>\n",
       "      <td>...</td>\n",
       "      <td>...</td>\n",
       "      <td>...</td>\n",
       "      <td>...</td>\n",
       "      <td>...</td>\n",
       "    </tr>\n",
       "    <tr>\n",
       "      <th>29173</th>\n",
       "      <td>Norte</td>\n",
       "      <td>DEPUTADO ESTADUAL</td>\n",
       "      <td>19</td>\n",
       "      <td>PODE</td>\n",
       "      <td>38.0</td>\n",
       "      <td>CASADO(A)</td>\n",
       "      <td>N</td>\n",
       "      <td>9288.04</td>\n",
       "      <td>S</td>\n",
       "      <td>NÃO ELEITO</td>\n",
       "      <td>FEMININO</td>\n",
       "      <td>(35, 45]</td>\n",
       "    </tr>\n",
       "    <tr>\n",
       "      <th>29174</th>\n",
       "      <td>Centro-Oeste</td>\n",
       "      <td>DEPUTADO ESTADUAL</td>\n",
       "      <td>17</td>\n",
       "      <td>PSL</td>\n",
       "      <td>72.0</td>\n",
       "      <td>CASADO(A)</td>\n",
       "      <td>N</td>\n",
       "      <td>10540.65</td>\n",
       "      <td>S</td>\n",
       "      <td>SUPLENTE</td>\n",
       "      <td>MASCULINO</td>\n",
       "      <td>(65, 75]</td>\n",
       "    </tr>\n",
       "    <tr>\n",
       "      <th>29176</th>\n",
       "      <td>Sul</td>\n",
       "      <td>DEPUTADO ESTADUAL</td>\n",
       "      <td>20</td>\n",
       "      <td>PSC</td>\n",
       "      <td>57.0</td>\n",
       "      <td>CASADO(A)</td>\n",
       "      <td>S</td>\n",
       "      <td>95965.00</td>\n",
       "      <td>S</td>\n",
       "      <td>ELEITO POR QP</td>\n",
       "      <td>MASCULINO</td>\n",
       "      <td>(55, 65]</td>\n",
       "    </tr>\n",
       "    <tr>\n",
       "      <th>29177</th>\n",
       "      <td>Sudeste</td>\n",
       "      <td>DEPUTADO ESTADUAL</td>\n",
       "      <td>35</td>\n",
       "      <td>PMB</td>\n",
       "      <td>45.0</td>\n",
       "      <td>DIVORCIADO(A)</td>\n",
       "      <td>N</td>\n",
       "      <td>295869.37</td>\n",
       "      <td>S</td>\n",
       "      <td>SUPLENTE</td>\n",
       "      <td>MASCULINO</td>\n",
       "      <td>(35, 45]</td>\n",
       "    </tr>\n",
       "    <tr>\n",
       "      <th>29179</th>\n",
       "      <td>Sul</td>\n",
       "      <td>DEPUTADO ESTADUAL</td>\n",
       "      <td>33</td>\n",
       "      <td>PMN</td>\n",
       "      <td>66.0</td>\n",
       "      <td>DIVORCIADO(A)</td>\n",
       "      <td>N</td>\n",
       "      <td>900.00</td>\n",
       "      <td>N</td>\n",
       "      <td>SUPLENTE</td>\n",
       "      <td>FEMININO</td>\n",
       "      <td>(65, 75]</td>\n",
       "    </tr>\n",
       "  </tbody>\n",
       "</table>\n",
       "<p>24721 rows × 12 columns</p>\n",
       "</div>"
      ],
      "text/plain": [
       "             Região           DS_CARGO  NR_PARTIDO SG_PARTIDO  Idade  \\\n",
       "0           Sudeste  DEPUTADO ESTADUAL          50       PSOL   36.0   \n",
       "1               Sul  DEPUTADO ESTADUAL          25        DEM   46.0   \n",
       "2           Sudeste  DEPUTADO ESTADUAL          15        MDB   50.0   \n",
       "3             Norte  DEPUTADO ESTADUAL          27         DC   23.0   \n",
       "6           Sudeste  DEPUTADO ESTADUAL          45       PSDB   54.0   \n",
       "...             ...                ...         ...        ...    ...   \n",
       "29173         Norte  DEPUTADO ESTADUAL          19       PODE   38.0   \n",
       "29174  Centro-Oeste  DEPUTADO ESTADUAL          17        PSL   72.0   \n",
       "29176           Sul  DEPUTADO ESTADUAL          20        PSC   57.0   \n",
       "29177       Sudeste  DEPUTADO ESTADUAL          35        PMB   45.0   \n",
       "29179           Sul  DEPUTADO ESTADUAL          33        PMN   66.0   \n",
       "\n",
       "      DS_ESTADO_CIVIL Reeleição  VR_RECEITA Declarou bens Resultado Eleição  \\\n",
       "0         SOLTEIRO(A)         N     3936.75             N          SUPLENTE   \n",
       "1         SOLTEIRO(A)         N   157729.24             S          SUPLENTE   \n",
       "2       DIVORCIADO(A)         N    39646.66             S          SUPLENTE   \n",
       "3         SOLTEIRO(A)         N      800.00             N        NÃO ELEITO   \n",
       "6           CASADO(A)         N    39501.21             S          SUPLENTE   \n",
       "...               ...       ...         ...           ...               ...   \n",
       "29173       CASADO(A)         N     9288.04             S        NÃO ELEITO   \n",
       "29174       CASADO(A)         N    10540.65             S          SUPLENTE   \n",
       "29176       CASADO(A)         S    95965.00             S     ELEITO POR QP   \n",
       "29177   DIVORCIADO(A)         N   295869.37             S          SUPLENTE   \n",
       "29179   DIVORCIADO(A)         N      900.00             N          SUPLENTE   \n",
       "\n",
       "       DS_GENERO      Bins  \n",
       "0       FEMININO  (35, 45]  \n",
       "1      MASCULINO  (45, 55]  \n",
       "2      MASCULINO  (45, 55]  \n",
       "3       FEMININO  (15, 25]  \n",
       "6      MASCULINO  (45, 55]  \n",
       "...          ...       ...  \n",
       "29173   FEMININO  (35, 45]  \n",
       "29174  MASCULINO  (65, 75]  \n",
       "29176  MASCULINO  (55, 65]  \n",
       "29177  MASCULINO  (35, 45]  \n",
       "29179   FEMININO  (65, 75]  \n",
       "\n",
       "[24721 rows x 12 columns]"
      ]
     },
     "execution_count": 161,
     "metadata": {},
     "output_type": "execute_result"
    }
   ],
   "source": [
    "analise"
   ]
  },
  {
   "cell_type": "code",
   "execution_count": 193,
   "id": "d0ff1a8a",
   "metadata": {},
   "outputs": [],
   "source": [
    "dfeleitos=analise[(analise['Resultado Eleição'] == \"ELEITO POR QP\") & (analise['Resultado Eleição']==\"ELEITO POR QP\")]"
   ]
  },
  {
   "cell_type": "code",
   "execution_count": 175,
   "id": "ff0280f1",
   "metadata": {},
   "outputs": [
    {
     "data": {
      "text/html": [
       "<div>\n",
       "<style scoped>\n",
       "    .dataframe tbody tr th:only-of-type {\n",
       "        vertical-align: middle;\n",
       "    }\n",
       "\n",
       "    .dataframe tbody tr th {\n",
       "        vertical-align: top;\n",
       "    }\n",
       "\n",
       "    .dataframe thead th {\n",
       "        text-align: right;\n",
       "    }\n",
       "</style>\n",
       "<table border=\"1\" class=\"dataframe\">\n",
       "  <thead>\n",
       "    <tr style=\"text-align: right;\">\n",
       "      <th></th>\n",
       "      <th>NR_PARTIDO</th>\n",
       "      <th>Idade</th>\n",
       "      <th>VR_RECEITA</th>\n",
       "      <th>DS_GENERO_FEMININO</th>\n",
       "      <th>DS_GENERO_MASCULINO</th>\n",
       "    </tr>\n",
       "    <tr>\n",
       "      <th>Bins</th>\n",
       "      <th></th>\n",
       "      <th></th>\n",
       "      <th></th>\n",
       "      <th></th>\n",
       "      <th></th>\n",
       "    </tr>\n",
       "  </thead>\n",
       "  <tbody>\n",
       "    <tr>\n",
       "      <th>(15, 25]</th>\n",
       "      <td>555</td>\n",
       "      <td>439.0</td>\n",
       "      <td>1.131600e+07</td>\n",
       "      <td>3.0</td>\n",
       "      <td>16.0</td>\n",
       "    </tr>\n",
       "    <tr>\n",
       "      <th>(25, 35]</th>\n",
       "      <td>5877</td>\n",
       "      <td>5566.0</td>\n",
       "      <td>9.562275e+07</td>\n",
       "      <td>29.0</td>\n",
       "      <td>148.0</td>\n",
       "    </tr>\n",
       "    <tr>\n",
       "      <th>(35, 45]</th>\n",
       "      <td>10702</td>\n",
       "      <td>14106.0</td>\n",
       "      <td>1.948280e+08</td>\n",
       "      <td>58.0</td>\n",
       "      <td>292.0</td>\n",
       "    </tr>\n",
       "    <tr>\n",
       "      <th>(45, 55]</th>\n",
       "      <td>10051</td>\n",
       "      <td>18358.0</td>\n",
       "      <td>2.105411e+08</td>\n",
       "      <td>51.0</td>\n",
       "      <td>311.0</td>\n",
       "    </tr>\n",
       "    <tr>\n",
       "      <th>(55, 65]</th>\n",
       "      <td>7368</td>\n",
       "      <td>15954.0</td>\n",
       "      <td>1.797652e+08</td>\n",
       "      <td>38.0</td>\n",
       "      <td>229.0</td>\n",
       "    </tr>\n",
       "    <tr>\n",
       "      <th>(65, 75]</th>\n",
       "      <td>2185</td>\n",
       "      <td>5510.0</td>\n",
       "      <td>5.106839e+07</td>\n",
       "      <td>10.0</td>\n",
       "      <td>69.0</td>\n",
       "    </tr>\n",
       "    <tr>\n",
       "      <th>(75, 85]</th>\n",
       "      <td>518</td>\n",
       "      <td>1333.0</td>\n",
       "      <td>8.762899e+06</td>\n",
       "      <td>2.0</td>\n",
       "      <td>15.0</td>\n",
       "    </tr>\n",
       "  </tbody>\n",
       "</table>\n",
       "</div>"
      ],
      "text/plain": [
       "          NR_PARTIDO    Idade    VR_RECEITA  DS_GENERO_FEMININO  \\\n",
       "Bins                                                              \n",
       "(15, 25]         555    439.0  1.131600e+07                 3.0   \n",
       "(25, 35]        5877   5566.0  9.562275e+07                29.0   \n",
       "(35, 45]       10702  14106.0  1.948280e+08                58.0   \n",
       "(45, 55]       10051  18358.0  2.105411e+08                51.0   \n",
       "(55, 65]        7368  15954.0  1.797652e+08                38.0   \n",
       "(65, 75]        2185   5510.0  5.106839e+07                10.0   \n",
       "(75, 85]         518   1333.0  8.762899e+06                 2.0   \n",
       "\n",
       "          DS_GENERO_MASCULINO  \n",
       "Bins                           \n",
       "(15, 25]                 16.0  \n",
       "(25, 35]                148.0  \n",
       "(35, 45]                292.0  \n",
       "(45, 55]                311.0  \n",
       "(55, 65]                229.0  \n",
       "(65, 75]                 69.0  \n",
       "(75, 85]                 15.0  "
      ]
     },
     "execution_count": 175,
     "metadata": {},
     "output_type": "execute_result"
    }
   ],
   "source": [
    "df1 = pd.get_dummies(dfeleitos, columns=['DS_GENERO'])\n",
    "df1['Bins'] = pd.cut(x=df1['Idade'], bins=range(15, 86, 10))\n",
    "dfBins = df1.groupby('Bins').sum()\n",
    "dfBins"
   ]
  },
  {
   "cell_type": "code",
   "execution_count": 177,
   "id": "fcdb0778",
   "metadata": {},
   "outputs": [
    {
     "data": {
      "application/vnd.plotly.v1+json": {
       "config": {
        "plotlyServerURL": "https://plot.ly"
       },
       "data": [
        {
         "marker": {
          "color": "powderblue"
         },
         "name": "Masculino",
         "orientation": "h",
         "text": [
          16,
          148,
          292,
          311,
          229,
          69,
          15
         ],
         "type": "bar",
         "x": [
          16,
          148,
          292,
          311,
          229,
          69,
          15
         ],
         "y": [
          "(15, 25]",
          "(25, 35]",
          "(35, 45]",
          "(45, 55]",
          "(55, 65]",
          "(65, 75]",
          "(75, 85]"
         ]
        },
        {
         "marker": {
          "color": "seagreen"
         },
         "name": "Feminino",
         "orientation": "h",
         "text": [
          3,
          29,
          58,
          51,
          38,
          10,
          2
         ],
         "type": "bar",
         "x": [
          -3,
          -29,
          -58,
          -51,
          -38,
          -10,
          -2
         ],
         "y": [
          "(15, 25]",
          "(25, 35]",
          "(35, 45]",
          "(45, 55]",
          "(55, 65]",
          "(65, 75]",
          "(75, 85]"
         ]
        }
       ],
       "layout": {
        "bargap": 0.1,
        "bargroupgap": 0,
        "barmode": "relative",
        "template": {
         "data": {
          "bar": [
           {
            "error_x": {
             "color": "#2a3f5f"
            },
            "error_y": {
             "color": "#2a3f5f"
            },
            "marker": {
             "line": {
              "color": "#E5ECF6",
              "width": 0.5
             }
            },
            "type": "bar"
           }
          ],
          "barpolar": [
           {
            "marker": {
             "line": {
              "color": "#E5ECF6",
              "width": 0.5
             }
            },
            "type": "barpolar"
           }
          ],
          "carpet": [
           {
            "aaxis": {
             "endlinecolor": "#2a3f5f",
             "gridcolor": "white",
             "linecolor": "white",
             "minorgridcolor": "white",
             "startlinecolor": "#2a3f5f"
            },
            "baxis": {
             "endlinecolor": "#2a3f5f",
             "gridcolor": "white",
             "linecolor": "white",
             "minorgridcolor": "white",
             "startlinecolor": "#2a3f5f"
            },
            "type": "carpet"
           }
          ],
          "choropleth": [
           {
            "colorbar": {
             "outlinewidth": 0,
             "ticks": ""
            },
            "type": "choropleth"
           }
          ],
          "contour": [
           {
            "colorbar": {
             "outlinewidth": 0,
             "ticks": ""
            },
            "colorscale": [
             [
              0,
              "#0d0887"
             ],
             [
              0.1111111111111111,
              "#46039f"
             ],
             [
              0.2222222222222222,
              "#7201a8"
             ],
             [
              0.3333333333333333,
              "#9c179e"
             ],
             [
              0.4444444444444444,
              "#bd3786"
             ],
             [
              0.5555555555555556,
              "#d8576b"
             ],
             [
              0.6666666666666666,
              "#ed7953"
             ],
             [
              0.7777777777777778,
              "#fb9f3a"
             ],
             [
              0.8888888888888888,
              "#fdca26"
             ],
             [
              1,
              "#f0f921"
             ]
            ],
            "type": "contour"
           }
          ],
          "contourcarpet": [
           {
            "colorbar": {
             "outlinewidth": 0,
             "ticks": ""
            },
            "type": "contourcarpet"
           }
          ],
          "heatmap": [
           {
            "colorbar": {
             "outlinewidth": 0,
             "ticks": ""
            },
            "colorscale": [
             [
              0,
              "#0d0887"
             ],
             [
              0.1111111111111111,
              "#46039f"
             ],
             [
              0.2222222222222222,
              "#7201a8"
             ],
             [
              0.3333333333333333,
              "#9c179e"
             ],
             [
              0.4444444444444444,
              "#bd3786"
             ],
             [
              0.5555555555555556,
              "#d8576b"
             ],
             [
              0.6666666666666666,
              "#ed7953"
             ],
             [
              0.7777777777777778,
              "#fb9f3a"
             ],
             [
              0.8888888888888888,
              "#fdca26"
             ],
             [
              1,
              "#f0f921"
             ]
            ],
            "type": "heatmap"
           }
          ],
          "heatmapgl": [
           {
            "colorbar": {
             "outlinewidth": 0,
             "ticks": ""
            },
            "colorscale": [
             [
              0,
              "#0d0887"
             ],
             [
              0.1111111111111111,
              "#46039f"
             ],
             [
              0.2222222222222222,
              "#7201a8"
             ],
             [
              0.3333333333333333,
              "#9c179e"
             ],
             [
              0.4444444444444444,
              "#bd3786"
             ],
             [
              0.5555555555555556,
              "#d8576b"
             ],
             [
              0.6666666666666666,
              "#ed7953"
             ],
             [
              0.7777777777777778,
              "#fb9f3a"
             ],
             [
              0.8888888888888888,
              "#fdca26"
             ],
             [
              1,
              "#f0f921"
             ]
            ],
            "type": "heatmapgl"
           }
          ],
          "histogram": [
           {
            "marker": {
             "colorbar": {
              "outlinewidth": 0,
              "ticks": ""
             }
            },
            "type": "histogram"
           }
          ],
          "histogram2d": [
           {
            "colorbar": {
             "outlinewidth": 0,
             "ticks": ""
            },
            "colorscale": [
             [
              0,
              "#0d0887"
             ],
             [
              0.1111111111111111,
              "#46039f"
             ],
             [
              0.2222222222222222,
              "#7201a8"
             ],
             [
              0.3333333333333333,
              "#9c179e"
             ],
             [
              0.4444444444444444,
              "#bd3786"
             ],
             [
              0.5555555555555556,
              "#d8576b"
             ],
             [
              0.6666666666666666,
              "#ed7953"
             ],
             [
              0.7777777777777778,
              "#fb9f3a"
             ],
             [
              0.8888888888888888,
              "#fdca26"
             ],
             [
              1,
              "#f0f921"
             ]
            ],
            "type": "histogram2d"
           }
          ],
          "histogram2dcontour": [
           {
            "colorbar": {
             "outlinewidth": 0,
             "ticks": ""
            },
            "colorscale": [
             [
              0,
              "#0d0887"
             ],
             [
              0.1111111111111111,
              "#46039f"
             ],
             [
              0.2222222222222222,
              "#7201a8"
             ],
             [
              0.3333333333333333,
              "#9c179e"
             ],
             [
              0.4444444444444444,
              "#bd3786"
             ],
             [
              0.5555555555555556,
              "#d8576b"
             ],
             [
              0.6666666666666666,
              "#ed7953"
             ],
             [
              0.7777777777777778,
              "#fb9f3a"
             ],
             [
              0.8888888888888888,
              "#fdca26"
             ],
             [
              1,
              "#f0f921"
             ]
            ],
            "type": "histogram2dcontour"
           }
          ],
          "mesh3d": [
           {
            "colorbar": {
             "outlinewidth": 0,
             "ticks": ""
            },
            "type": "mesh3d"
           }
          ],
          "parcoords": [
           {
            "line": {
             "colorbar": {
              "outlinewidth": 0,
              "ticks": ""
             }
            },
            "type": "parcoords"
           }
          ],
          "pie": [
           {
            "automargin": true,
            "type": "pie"
           }
          ],
          "scatter": [
           {
            "marker": {
             "colorbar": {
              "outlinewidth": 0,
              "ticks": ""
             }
            },
            "type": "scatter"
           }
          ],
          "scatter3d": [
           {
            "line": {
             "colorbar": {
              "outlinewidth": 0,
              "ticks": ""
             }
            },
            "marker": {
             "colorbar": {
              "outlinewidth": 0,
              "ticks": ""
             }
            },
            "type": "scatter3d"
           }
          ],
          "scattercarpet": [
           {
            "marker": {
             "colorbar": {
              "outlinewidth": 0,
              "ticks": ""
             }
            },
            "type": "scattercarpet"
           }
          ],
          "scattergeo": [
           {
            "marker": {
             "colorbar": {
              "outlinewidth": 0,
              "ticks": ""
             }
            },
            "type": "scattergeo"
           }
          ],
          "scattergl": [
           {
            "marker": {
             "colorbar": {
              "outlinewidth": 0,
              "ticks": ""
             }
            },
            "type": "scattergl"
           }
          ],
          "scattermapbox": [
           {
            "marker": {
             "colorbar": {
              "outlinewidth": 0,
              "ticks": ""
             }
            },
            "type": "scattermapbox"
           }
          ],
          "scatterpolar": [
           {
            "marker": {
             "colorbar": {
              "outlinewidth": 0,
              "ticks": ""
             }
            },
            "type": "scatterpolar"
           }
          ],
          "scatterpolargl": [
           {
            "marker": {
             "colorbar": {
              "outlinewidth": 0,
              "ticks": ""
             }
            },
            "type": "scatterpolargl"
           }
          ],
          "scatterternary": [
           {
            "marker": {
             "colorbar": {
              "outlinewidth": 0,
              "ticks": ""
             }
            },
            "type": "scatterternary"
           }
          ],
          "surface": [
           {
            "colorbar": {
             "outlinewidth": 0,
             "ticks": ""
            },
            "colorscale": [
             [
              0,
              "#0d0887"
             ],
             [
              0.1111111111111111,
              "#46039f"
             ],
             [
              0.2222222222222222,
              "#7201a8"
             ],
             [
              0.3333333333333333,
              "#9c179e"
             ],
             [
              0.4444444444444444,
              "#bd3786"
             ],
             [
              0.5555555555555556,
              "#d8576b"
             ],
             [
              0.6666666666666666,
              "#ed7953"
             ],
             [
              0.7777777777777778,
              "#fb9f3a"
             ],
             [
              0.8888888888888888,
              "#fdca26"
             ],
             [
              1,
              "#f0f921"
             ]
            ],
            "type": "surface"
           }
          ],
          "table": [
           {
            "cells": {
             "fill": {
              "color": "#EBF0F8"
             },
             "line": {
              "color": "white"
             }
            },
            "header": {
             "fill": {
              "color": "#C8D4E3"
             },
             "line": {
              "color": "white"
             }
            },
            "type": "table"
           }
          ]
         },
         "layout": {
          "annotationdefaults": {
           "arrowcolor": "#2a3f5f",
           "arrowhead": 0,
           "arrowwidth": 1
          },
          "coloraxis": {
           "colorbar": {
            "outlinewidth": 0,
            "ticks": ""
           }
          },
          "colorscale": {
           "diverging": [
            [
             0,
             "#8e0152"
            ],
            [
             0.1,
             "#c51b7d"
            ],
            [
             0.2,
             "#de77ae"
            ],
            [
             0.3,
             "#f1b6da"
            ],
            [
             0.4,
             "#fde0ef"
            ],
            [
             0.5,
             "#f7f7f7"
            ],
            [
             0.6,
             "#e6f5d0"
            ],
            [
             0.7,
             "#b8e186"
            ],
            [
             0.8,
             "#7fbc41"
            ],
            [
             0.9,
             "#4d9221"
            ],
            [
             1,
             "#276419"
            ]
           ],
           "sequential": [
            [
             0,
             "#0d0887"
            ],
            [
             0.1111111111111111,
             "#46039f"
            ],
            [
             0.2222222222222222,
             "#7201a8"
            ],
            [
             0.3333333333333333,
             "#9c179e"
            ],
            [
             0.4444444444444444,
             "#bd3786"
            ],
            [
             0.5555555555555556,
             "#d8576b"
            ],
            [
             0.6666666666666666,
             "#ed7953"
            ],
            [
             0.7777777777777778,
             "#fb9f3a"
            ],
            [
             0.8888888888888888,
             "#fdca26"
            ],
            [
             1,
             "#f0f921"
            ]
           ],
           "sequentialminus": [
            [
             0,
             "#0d0887"
            ],
            [
             0.1111111111111111,
             "#46039f"
            ],
            [
             0.2222222222222222,
             "#7201a8"
            ],
            [
             0.3333333333333333,
             "#9c179e"
            ],
            [
             0.4444444444444444,
             "#bd3786"
            ],
            [
             0.5555555555555556,
             "#d8576b"
            ],
            [
             0.6666666666666666,
             "#ed7953"
            ],
            [
             0.7777777777777778,
             "#fb9f3a"
            ],
            [
             0.8888888888888888,
             "#fdca26"
            ],
            [
             1,
             "#f0f921"
            ]
           ]
          },
          "colorway": [
           "#636efa",
           "#EF553B",
           "#00cc96",
           "#ab63fa",
           "#FFA15A",
           "#19d3f3",
           "#FF6692",
           "#B6E880",
           "#FF97FF",
           "#FECB52"
          ],
          "font": {
           "color": "#2a3f5f"
          },
          "geo": {
           "bgcolor": "white",
           "lakecolor": "white",
           "landcolor": "#E5ECF6",
           "showlakes": true,
           "showland": true,
           "subunitcolor": "white"
          },
          "hoverlabel": {
           "align": "left"
          },
          "hovermode": "closest",
          "mapbox": {
           "style": "light"
          },
          "paper_bgcolor": "white",
          "plot_bgcolor": "#E5ECF6",
          "polar": {
           "angularaxis": {
            "gridcolor": "white",
            "linecolor": "white",
            "ticks": ""
           },
           "bgcolor": "#E5ECF6",
           "radialaxis": {
            "gridcolor": "white",
            "linecolor": "white",
            "ticks": ""
           }
          },
          "scene": {
           "xaxis": {
            "backgroundcolor": "#E5ECF6",
            "gridcolor": "white",
            "gridwidth": 2,
            "linecolor": "white",
            "showbackground": true,
            "ticks": "",
            "zerolinecolor": "white"
           },
           "yaxis": {
            "backgroundcolor": "#E5ECF6",
            "gridcolor": "white",
            "gridwidth": 2,
            "linecolor": "white",
            "showbackground": true,
            "ticks": "",
            "zerolinecolor": "white"
           },
           "zaxis": {
            "backgroundcolor": "#E5ECF6",
            "gridcolor": "white",
            "gridwidth": 2,
            "linecolor": "white",
            "showbackground": true,
            "ticks": "",
            "zerolinecolor": "white"
           }
          },
          "shapedefaults": {
           "line": {
            "color": "#2a3f5f"
           }
          },
          "ternary": {
           "aaxis": {
            "gridcolor": "white",
            "linecolor": "white",
            "ticks": ""
           },
           "baxis": {
            "gridcolor": "white",
            "linecolor": "white",
            "ticks": ""
           },
           "bgcolor": "#E5ECF6",
           "caxis": {
            "gridcolor": "white",
            "linecolor": "white",
            "ticks": ""
           }
          },
          "title": {
           "x": 0.05
          },
          "xaxis": {
           "automargin": true,
           "gridcolor": "white",
           "linecolor": "white",
           "ticks": "",
           "title": {
            "standoff": 15
           },
           "zerolinecolor": "white",
           "zerolinewidth": 2
          },
          "yaxis": {
           "automargin": true,
           "gridcolor": "white",
           "linecolor": "white",
           "ticks": "",
           "title": {
            "standoff": 15
           },
           "zerolinecolor": "white",
           "zerolinewidth": 2
          }
         }
        },
        "title": {
         "font": {
          "size": 22
         },
         "text": "Pirâmide etária dos candidatos eleitos"
        },
        "xaxis": {
         "showticklabels": false,
         "title": {
          "font": {
           "size": 14
          },
          "text": "Candidatos"
         }
        }
       }
      }
     },
     "metadata": {},
     "output_type": "display_data"
    }
   ],
   "source": [
    "import plotly.graph_objects as gp\n",
    "\n",
    "\n",
    "\n",
    "fig = gp.Figure()\n",
    "y_age = dfBins.index.astype('str')\n",
    "x_M = dfBins['DS_GENERO_MASCULINO']\n",
    "x_F = (dfBins['DS_GENERO_FEMININO']) * -1\n",
    "# Adding Male data to the figure\n",
    "fig.add_trace(gp.Bar(y= y_age, x = x_M, \n",
    "                     name = 'Masculino',\n",
    "                     text=x_M.astype('float'), \n",
    "                     orientation = 'h',\n",
    "                     marker=dict(color='powderblue')))\n",
    "  \n",
    "# Adding Female data to the figure\n",
    "fig.add_trace(gp.Bar(y = y_age, x = x_F,\n",
    "                     name = 'Feminino', \n",
    "                     text=(-1)*x_F.astype('float'),\n",
    "                     orientation = 'h',\n",
    "                     marker=dict(color='seagreen')))\n",
    "  \n",
    "# Updating the layout for our graph\n",
    "fig.update_layout(title = 'Pirâmide etária dos candidatos eleitos',\n",
    "                 title_font_size = 22, barmode = 'relative',\n",
    "                 bargap=0.1,\n",
    "                 #text=(-1)*women_bins.astype('float'),\n",
    "                 bargroupgap = 0,\n",
    "                 xaxis = dict(showticklabels=False,\n",
    "                            \n",
    "                                \n",
    "                              title = 'Candidatos',\n",
    "                              title_font_size = 14)\n",
    "                 )\n",
    "  \n",
    "fig.show()"
   ]
  },
  {
   "cell_type": "markdown",
   "id": "a1d27d48",
   "metadata": {},
   "source": [
    "# Estado Civil"
   ]
  },
  {
   "cell_type": "code",
   "execution_count": 181,
   "id": "91fcdc51",
   "metadata": {},
   "outputs": [
    {
     "data": {
      "text/plain": [
       "Text(0.5, 1.0, 'Estado civil dos candidatos eleitos')"
      ]
     },
     "execution_count": 181,
     "metadata": {},
     "output_type": "execute_result"
    },
    {
     "data": {
      "image/png": "[encoded data removed]",
      "text/plain": [
       "<Figure size 360x360 with 1 Axes>"
      ]
     },
     "metadata": {},
     "output_type": "display_data"
    }
   ],
   "source": [
    "sns.catplot(x=\"Estado Civil\", kind=\"count\", palette=\"ch:.25\", data=dfeleitos)\n",
    "plt.xticks(rotation=45)\n",
    "plt.title(\"Estado civil dos candidatos eleitos\")"
   ]
  },
  {
   "cell_type": "code",
   "execution_count": 182,
   "id": "cca593a3",
   "metadata": {},
   "outputs": [
    {
     "data": {
      "text/plain": [
       "CASADO(A)                    910\n",
       "SOLTEIRO(A)                  245\n",
       "DIVORCIADO(A)                 99\n",
       "VIÚVO(A)                      10\n",
       "SEPARADO(A) JUDICIALMENTE      7\n",
       "Name: Estado Civil, dtype: int64"
      ]
     },
     "execution_count": 182,
     "metadata": {},
     "output_type": "execute_result"
    }
   ],
   "source": [
    "dfeleitos['Estado Civil'].value_counts()"
   ]
  },
  {
   "cell_type": "code",
   "execution_count": 183,
   "id": "e1a87196",
   "metadata": {},
   "outputs": [],
   "source": [
    "lista=[\"CASADO(A)\", \"SOLTEIRO(A)\", \"DIVORCIADO(A)\",\"VIÚVO(A)\",\"SEPARADO(A) JUDICIALMENTE\"]\n",
    "listaPro=[]\n",
    "listaree=[]\n",
    "for item in lista:  \n",
    "    dfS=analise[(analise['Estado Civil']==item)] \n",
    "    propS=len(dfS)\n",
    "    a=len(dfS[(dfS['Resultado Eleição'] == \"ELEITO POR QP\") | (dfS['Resultado Eleição'] == \"ELEITO POR MÉDIA\")])*100 / propS\n",
    "    #b=len(dfN[(dfN.DS_SIT_TOT_TURNO == \"ELEITO POR QP\") | (dfN.DS_SIT_TOT_TURNO == \"ELEITO POR MÉDIA\")])*100 / propN\n",
    "    listaPro.append(a)"
   ]
  },
  {
   "cell_type": "code",
   "execution_count": 184,
   "id": "e2b35b64",
   "metadata": {},
   "outputs": [
    {
     "data": {
      "text/html": [
       "<div>\n",
       "<style scoped>\n",
       "    .dataframe tbody tr th:only-of-type {\n",
       "        vertical-align: middle;\n",
       "    }\n",
       "\n",
       "    .dataframe tbody tr th {\n",
       "        vertical-align: top;\n",
       "    }\n",
       "\n",
       "    .dataframe thead th {\n",
       "        text-align: right;\n",
       "    }\n",
       "</style>\n",
       "<table border=\"1\" class=\"dataframe\">\n",
       "  <thead>\n",
       "    <tr style=\"text-align: right;\">\n",
       "      <th></th>\n",
       "      <th>Estado Civil</th>\n",
       "      <th>Proporção</th>\n",
       "    </tr>\n",
       "  </thead>\n",
       "  <tbody>\n",
       "    <tr>\n",
       "      <th>0</th>\n",
       "      <td>CASADO(A)</td>\n",
       "      <td>8.412049</td>\n",
       "    </tr>\n",
       "    <tr>\n",
       "      <th>1</th>\n",
       "      <td>SOLTEIRO(A)</td>\n",
       "      <td>3.745223</td>\n",
       "    </tr>\n",
       "    <tr>\n",
       "      <th>2</th>\n",
       "      <td>DIVORCIADO(A)</td>\n",
       "      <td>4.524068</td>\n",
       "    </tr>\n",
       "    <tr>\n",
       "      <th>3</th>\n",
       "      <td>VIÚVO(A)</td>\n",
       "      <td>3.350515</td>\n",
       "    </tr>\n",
       "    <tr>\n",
       "      <th>4</th>\n",
       "      <td>SEPARADO(A) JUDICIALMENTE</td>\n",
       "      <td>3.272727</td>\n",
       "    </tr>\n",
       "  </tbody>\n",
       "</table>\n",
       "</div>"
      ],
      "text/plain": [
       "                Estado Civil  Proporção\n",
       "0                  CASADO(A)   8.412049\n",
       "1                SOLTEIRO(A)   3.745223\n",
       "2              DIVORCIADO(A)   4.524068\n",
       "3                   VIÚVO(A)   3.350515\n",
       "4  SEPARADO(A) JUDICIALMENTE   3.272727"
      ]
     },
     "execution_count": 184,
     "metadata": {},
     "output_type": "execute_result"
    }
   ],
   "source": [
    "d = {'Estado Civil':lista, 'Proporção':listaPro}\n",
    "df = pd.DataFrame(d)\n",
    "df"
   ]
  },
  {
   "cell_type": "code",
   "execution_count": 188,
   "id": "ae71357d",
   "metadata": {},
   "outputs": [
    {
     "data": {
      "text/plain": [
       "Text(0.5, 1.0, 'Estado civil dos candidatos eleitos')"
      ]
     },
     "execution_count": 188,
     "metadata": {},
     "output_type": "execute_result"
    },
    {
     "data": {
      "image/png": "[encoded data removed]",
      "text/plain": [
       "<Figure size 360x360 with 1 Axes>"
      ]
     },
     "metadata": {},
     "output_type": "display_data"
    }
   ],
   "source": [
    "df=df.sort_values(by=\"Proporção\", ascending=False)\n",
    "sns.catplot(x=\"Estado Civil\", y=\"Proporção\",kind=\"bar\", palette=\"ch:.25\", data=df)\n",
    "plt.xticks(rotation=45)\n",
    "plt.title(\"Estado civil dos candidatos eleitos\")"
   ]
  },
  {
   "cell_type": "code",
   "execution_count": 229,
   "id": "35ae8ad7",
   "metadata": {},
   "outputs": [],
   "source": [
    "lista=regs=[\"Sudeste\", \"Sul\", \"Nordeste\", \"Norte\",\"Centro-Oeste\",\"Distrito Federal\"]\n",
    "listapar=[]\n",
    "\n",
    "for item in lista:  \n",
    "    df=dfeleitos[(dfeleitos['Região']==item)]\n",
    "    lista=[(df['SG_PARTIDO'].value_counts()*100)/len(df)]\n",
    "    listapar.append(lista)\n",
    "\n",
    "#regs=[\"Sudeste\", \"Sudeste\", \"Sul\",\"Sul\", \"Nordeste\",\"Nordeste\", \"Norte\",\"Norte\",\"Centro-Oeste\",\"Centro-Oeste\",\"Distrito Federal\", \"Distrito Federal\"]\n",
    "#d = {'Declarou bens':listaree, 'Resultado':resultado, 'Proporção':listaPro}\n",
    "#df = pd.DataFrame(d)\n"
   ]
  },
  {
   "cell_type": "code",
   "execution_count": 236,
   "id": "59359e12",
   "metadata": {},
   "outputs": [
    {
     "data": {
      "text/plain": [
       "[Sul       14.285714\n",
       " PRB       14.285714\n",
       " PT         7.142857\n",
       " AVANTE     7.142857\n",
       " PP         7.142857\n",
       " MDB        7.142857\n",
       " PTC        7.142857\n",
       " PSD        7.142857\n",
       " PSB        7.142857\n",
       " PROS       7.142857\n",
       " PDT        7.142857\n",
       " PV         7.142857\n",
       " Name: SG_PARTIDO, dtype: float64]"
      ]
     },
     "execution_count": 236,
     "metadata": {},
     "output_type": "execute_result"
    }
   ],
   "source": [
    "listapar[5]"
   ]
  },
  {
   "cell_type": "code",
   "execution_count": 256,
   "id": "b40aae35",
   "metadata": {},
   "outputs": [],
   "source": [
    "sudeste={\"Proporção\": [15.83,9.76,6.86,6.07,5.80], \"Partido\":['PSL','PT','PSDB','PRB','MDB']}\n",
    "sul={\"Proporção\": [12.30,11.23,10.70,9.09,8.02], \"Partido\":['MDB','PT','PSL','PSD','PP']}\n",
    "nordeste={\"Proporção\": [9.79,9.07,8.83,7.87,7.64], \"Partido\":['PT','PP','PSB','PDT','PSD']}\n",
    "norte={\"Proporção\": [10.50,7.19,7.18,6.63,6.077348], \"Partido\":['MDB','PRB','PSDB','DEM','PSD']}\n",
    "centro={\"Proporção\": [14.29,9.90,9.89,8.79,6.59], \"Partido\":['PSDB','DEM','PSL','MDB','PT']}\n",
    "dist={\"Proporção\": [14.29,7.16,7.15,7.14,7.13], \"Partido\":['PRB','PT','AVANTE','PP','MDB']}\n"
   ]
  },
  {
   "cell_type": "markdown",
   "id": "3e42a381",
   "metadata": {},
   "source": [
    "# Partidos"
   ]
  },
  {
   "cell_type": "code",
   "execution_count": 257,
   "id": "ab5a35c7",
   "metadata": {},
   "outputs": [
    {
     "data": {
      "image/png": "[encoded data removed]",
      "text/plain": [
       "<Figure size 360x360 with 1 Axes>"
      ]
     },
     "metadata": {},
     "output_type": "display_data"
    },
    {
     "data": {
      "image/png": "[encoded data removed]",
      "text/plain": [
       "<Figure size 360x360 with 1 Axes>"
      ]
     },
     "metadata": {},
     "output_type": "display_data"
    },
    {
     "data": {
      "image/png": "[encoded data removed]",
      "text/plain": [
       "<Figure size 360x360 with 1 Axes>"
      ]
     },
     "metadata": {},
     "output_type": "display_data"
    },
    {
     "data": {
      "image/png": "[encoded data removed]",
      "text/plain": [
       "<Figure size 360x360 with 1 Axes>"
      ]
     },
     "metadata": {},
     "output_type": "display_data"
    },
    {
     "data": {
      "image/png": "[encoded data removed]",
      "text/plain": [
       "<Figure size 360x360 with 1 Axes>"
      ]
     },
     "metadata": {},
     "output_type": "display_data"
    },
    {
     "data": {
      "image/png": "[encoded data removed]",
      "text/plain": [
       "<Figure size 360x360 with 1 Axes>"
      ]
     },
     "metadata": {},
     "output_type": "display_data"
    }
   ],
   "source": [
    "dict={'Sudeste':sudeste,'Sul':sul,'Nordeste':nordeste,'Norte':norte,'Centro-Oeste':centro,'Distrito Federal':dist}\n",
    "for name, item in dict.items():\n",
    "    df = pd.DataFrame(item)\n",
    "    sns.catplot(x=\"Partido\", y=\"Proporção\",kind=\"bar\", palette=\"ch:.25\", data=df)\n",
    "    plt.xticks(rotation=45)\n",
    "    plt.title(name)"
   ]
  },
  {
   "cell_type": "code",
   "execution_count": 213,
   "id": "c0397432",
   "metadata": {},
   "outputs": [],
   "source": [
    "lista=[(analise['SG_PARTIDO'].value_counts()*100)/len(analise)]"
   ]
  },
  {
   "cell_type": "markdown",
   "id": "fe10e7ed",
   "metadata": {},
   "source": [
    "# Receita por região"
   ]
  },
  {
   "cell_type": "code",
   "execution_count": 195,
   "id": "a73de5ea",
   "metadata": {},
   "outputs": [
    {
     "data": {
      "text/plain": [
       "Text(0.5, 1.0, 'Distribuição das receitas por região e gênero')"
      ]
     },
     "execution_count": 195,
     "metadata": {},
     "output_type": "execute_result"
    },
    {
     "data": {
      "image/png": "[encoded data removed]",
      "text/plain": [
       "<Figure size 432x288 with 1 Axes>"
      ]
     },
     "metadata": {},
     "output_type": "display_data"
    }
   ],
   "source": [
    "regioes_gen_receita = sns.boxplot(x=\"Região\", y=\"VR_RECEITA\", data=dfeleitos, showfliers=False, hue = \"Gênero\")\n",
    "regioes_gen_receita.set(xlabel='Regiões', ylabel='Receita')\n",
    "regioes_gen_receita.set_xticklabels(regioes_gen_receita.get_xticklabels(), rotation=40, ha=\"right\")\n",
    "regioes_gen_receita.set_title(\"Distribuição das receitas por região e gênero\")"
   ]
  },
  {
   "cell_type": "markdown",
   "id": "3d7b060f",
   "metadata": {},
   "source": [
    "# Preparação dos dados para algoritmo "
   ]
  },
  {
   "cell_type": "code",
   "execution_count": 305,
   "id": "15abd9b9",
   "metadata": {},
   "outputs": [],
   "source": [
    "analiseVariaveis = candidatos_fusao[[\"NR_IDADE_DATA_POSSE\", \"DS_GENERO\", \"DS_GRAU_INSTRUCAO\", \n",
    "\"DS_ESTADO_CIVIL\", \"DS_COR_RACA\", \"DS_SIT_TOT_TURNO\", \"ST_REELEICAO\", \"VR_RECEITA\", \"ST_DECLARAR_BENS\"]]"
   ]
  },
  {
   "cell_type": "code",
   "execution_count": 306,
   "id": "92ea6450",
   "metadata": {},
   "outputs": [],
   "source": [
    "analiseVariaveis = analiseVariaveis.replace(['N'], 0)\n",
    "analiseVariaveis = analiseVariaveis.replace(['S'], 1)\n",
    "analiseVariaveis = analiseVariaveis.replace(['MASCULINO'], 1)\n",
    "analiseVariaveis = analiseVariaveis.replace(['FEMININO'], 0)\n",
    "analiseVariaveis = analiseVariaveis.replace(['NÃO DIVULGAVÉL'], 1)"
   ]
  },
  {
   "cell_type": "code",
   "execution_count": 320,
   "id": "80d5cf3c",
   "metadata": {},
   "outputs": [],
   "source": [
    "lista=[\"DS_GRAU_INSTRUCAO\", \"DS_ESTADO_CIVIL\", \"DS_COR_RACA\"]\n",
    "dtf_train=analiseVariaveis.copy()\n",
    "for item in lista:\n",
    "    dummy = pd.get_dummies(analiseVariaveis[item])\n",
    "    dtf_train= pd.concat([dtf_train, dummy], axis=1)\n",
    "    ## drop the original categorical column\n",
    "    dtf = dtf_train.drop(item, axis=1)\n"
   ]
  },
  {
   "cell_type": "code",
   "execution_count": 321,
   "id": "9b4d53a9",
   "metadata": {},
   "outputs": [],
   "source": [
    "dtf = dtf_train.drop([\"DS_GRAU_INSTRUCAO\", \"DS_ESTADO_CIVIL\", \"DS_COR_RACA\"], axis=1)"
   ]
  },
  {
   "cell_type": "code",
   "execution_count": 329,
   "id": "03392416",
   "metadata": {},
   "outputs": [
    {
     "name": "stdout",
     "output_type": "stream",
     "text": [
      "<class 'pandas.core.frame.DataFrame'>\n",
      "Int64Index: 29180 entries, 0 to 29179\n",
      "Data columns (total 26 columns):\n",
      " #   Column                         Non-Null Count  Dtype  \n",
      "---  ------                         --------------  -----  \n",
      " 0   NR_IDADE_DATA_POSSE            29179 non-null  float64\n",
      " 1   DS_GENERO                      29180 non-null  int64  \n",
      " 2   DS_SIT_TOT_TURNO               29180 non-null  object \n",
      " 3   ST_REELEICAO                   29180 non-null  int64  \n",
      " 4   VR_RECEITA                     24579 non-null  float64\n",
      " 5   ST_DECLARAR_BENS               29180 non-null  int64  \n",
      " 6   ENSINO FUNDAMENTAL COMPLETO    29180 non-null  uint8  \n",
      " 7   ENSINO FUNDAMENTAL INCOMPLETO  29180 non-null  uint8  \n",
      " 8   ENSINO MÉDIO COMPLETO          29180 non-null  uint8  \n",
      " 9   ENSINO MÉDIO INCOMPLETO        29180 non-null  uint8  \n",
      " 10  LÊ E ESCREVE                   29180 non-null  uint8  \n",
      " 11  NÃO DIVULGÁVEL                 29180 non-null  uint8  \n",
      " 12  SUPERIOR COMPLETO              29180 non-null  uint8  \n",
      " 13  SUPERIOR INCOMPLETO            29180 non-null  uint8  \n",
      " 14  CASADO(A)                      29180 non-null  uint8  \n",
      " 15  DIVORCIADO(A)                  29180 non-null  uint8  \n",
      " 16  NÃO DIVULGÁVEL                 29180 non-null  uint8  \n",
      " 17  SEPARADO(A) JUDICIALMENTE      29180 non-null  uint8  \n",
      " 18  SOLTEIRO(A)                    29180 non-null  uint8  \n",
      " 19  VIÚVO(A)                       29180 non-null  uint8  \n",
      " 20  AMARELA                        29180 non-null  uint8  \n",
      " 21  BRANCA                         29180 non-null  uint8  \n",
      " 22  INDÍGENA                       29180 non-null  uint8  \n",
      " 23  NÃO DIVULGÁVEL                 29180 non-null  uint8  \n",
      " 24  PARDA                          29180 non-null  uint8  \n",
      " 25  PRETA                          29180 non-null  uint8  \n",
      "dtypes: float64(2), int64(3), object(1), uint8(20)\n",
      "memory usage: 2.1+ MB\n"
     ]
    }
   ],
   "source": [
    "dtf.info()"
   ]
  },
  {
   "cell_type": "code",
   "execution_count": 335,
   "id": "67ac0fb9",
   "metadata": {},
   "outputs": [],
   "source": [
    "dtf = dtf.replace(['Não divulgável'], 1)\n",
    "dtf = dtf.replace(['NÃO DIVULGÁVEL'], 1)\n",
    "dtf=dtf.dropna(axis=0)"
   ]
  },
  {
   "cell_type": "code",
   "execution_count": 317,
   "id": "6cb93f68",
   "metadata": {},
   "outputs": [
    {
     "name": "stdout",
     "output_type": "stream",
     "text": [
      "<class 'pandas.core.frame.DataFrame'>\n",
      "Int64Index: 29180 entries, 0 to 29179\n",
      "Data columns (total 25 columns):\n",
      " #   Column                         Non-Null Count  Dtype  \n",
      "---  ------                         --------------  -----  \n",
      " 0   NR_IDADE_DATA_POSSE            29179 non-null  float64\n",
      " 1   DS_GENERO                      29180 non-null  object \n",
      " 2   ST_REELEICAO                   29180 non-null  int64  \n",
      " 3   VR_RECEITA                     24579 non-null  float64\n",
      " 4   ST_DECLARAR_BENS               29180 non-null  int64  \n",
      " 5   ENSINO FUNDAMENTAL COMPLETO    29180 non-null  uint8  \n",
      " 6   ENSINO FUNDAMENTAL INCOMPLETO  29180 non-null  uint8  \n",
      " 7   ENSINO MÉDIO COMPLETO          29180 non-null  uint8  \n",
      " 8   ENSINO MÉDIO INCOMPLETO        29180 non-null  uint8  \n",
      " 9   LÊ E ESCREVE                   29180 non-null  uint8  \n",
      " 10  NÃO DIVULGÁVEL                 29180 non-null  uint8  \n",
      " 11  SUPERIOR COMPLETO              29180 non-null  uint8  \n",
      " 12  SUPERIOR INCOMPLETO            29180 non-null  uint8  \n",
      " 13  CASADO(A)                      29180 non-null  uint8  \n",
      " 14  DIVORCIADO(A)                  29180 non-null  uint8  \n",
      " 15  NÃO DIVULGÁVEL                 29180 non-null  uint8  \n",
      " 16  SEPARADO(A) JUDICIALMENTE      29180 non-null  uint8  \n",
      " 17  SOLTEIRO(A)                    29180 non-null  uint8  \n",
      " 18  VIÚVO(A)                       29180 non-null  uint8  \n",
      " 19  AMARELA                        29180 non-null  uint8  \n",
      " 20  BRANCA                         29180 non-null  uint8  \n",
      " 21  INDÍGENA                       29180 non-null  uint8  \n",
      " 22  NÃO DIVULGÁVEL                 29180 non-null  uint8  \n",
      " 23  PARDA                          29180 non-null  uint8  \n",
      " 24  PRETA                          29180 non-null  uint8  \n",
      "dtypes: float64(2), int64(2), object(1), uint8(20)\n",
      "memory usage: 1.9+ MB\n"
     ]
    }
   ],
   "source": [
    "X.info()"
   ]
  },
  {
   "cell_type": "code",
   "execution_count": 336,
   "id": "00813862",
   "metadata": {},
   "outputs": [
    {
     "name": "stderr",
     "output_type": "stream",
     "text": [
      "<ipython-input-336-d36d8bb379e5>:7: SettingWithCopyWarning:\n",
      "\n",
      "\n",
      "A value is trying to be set on a copy of a slice from a DataFrame.\n",
      "Try using .loc[row_indexer,col_indexer] = value instead\n",
      "\n",
      "See the caveats in the documentation: https://pandas.pydata.org/pandas-docs/stable/user_guide/indexing.html#returning-a-view-versus-a-copy\n",
      "\n",
      "C:\\Users\\ihm\\AppData\\Local\\Programs\\Python\\Python38\\lib\\site-packages\\pandas\\core\\indexing.py:1734: SettingWithCopyWarning:\n",
      "\n",
      "\n",
      "A value is trying to be set on a copy of a slice from a DataFrame.\n",
      "Try using .loc[row_indexer,col_indexer] = value instead\n",
      "\n",
      "See the caveats in the documentation: https://pandas.pydata.org/pandas-docs/stable/user_guide/indexing.html#returning-a-view-versus-a-copy\n",
      "\n"
     ]
    }
   ],
   "source": [
    "from sklearn.preprocessing import MinMaxScaler\n",
    "scaler = MinMaxScaler()\n",
    "\n",
    "X = dtf.drop('DS_SIT_TOT_TURNO', 1)\n",
    "y = dtf['DS_SIT_TOT_TURNO']\n",
    "\n",
    "X[['NR_IDADE_DATA_POSSE', 'DS_GENERO','ST_REELEICAO','VR_RECEITA','ST_DECLARAR_BENS','ENSINO FUNDAMENTAL COMPLETO',\n",
    "'ENSINO FUNDAMENTAL INCOMPLETO','ENSINO MÉDIO COMPLETO', 'ENSINO MÉDIO INCOMPLETO','LÊ E ESCREVE','NÃO DIVULGÁVEL','SUPERIOR COMPLETO', \n",
    "'SUPERIOR INCOMPLETO','CASADO(A)','DIVORCIADO(A)','NÃO DIVULGÁVEL','SEPARADO(A) JUDICIALMENTE', 'SOLTEIRO(A)','VIÚVO(A)','AMARELA',\n",
    "'BRANCA','INDÍGENA','PARDA','PRETA']]=scaler.fit_transform(X[['NR_IDADE_DATA_POSSE', 'DS_GENERO','ST_REELEICAO','VR_RECEITA','ST_DECLARAR_BENS','ENSINO FUNDAMENTAL COMPLETO',\n",
    "'ENSINO FUNDAMENTAL INCOMPLETO','ENSINO MÉDIO COMPLETO', 'ENSINO MÉDIO INCOMPLETO','LÊ E ESCREVE','NÃO DIVULGÁVEL','SUPERIOR COMPLETO', \n",
    "'SUPERIOR INCOMPLETO','CASADO(A)','DIVORCIADO(A)','SEPARADO(A) JUDICIALMENTE', 'SOLTEIRO(A)','VIÚVO(A)','AMARELA',\n",
    "'BRANCA','INDÍGENA','NÃO DIVULGÁVEL','PARDA','PRETA']])"
   ]
  },
  {
   "cell_type": "code",
   "execution_count": 333,
   "id": "1f06b85d",
   "metadata": {},
   "outputs": [],
   "source": [
    "X=X.dropna(axis=0)"
   ]
  },
  {
   "cell_type": "markdown",
   "id": "626e293b",
   "metadata": {},
   "source": [
    "# Random Forest"
   ]
  },
  {
   "cell_type": "code",
   "execution_count": null,
   "id": "bc4649ac",
   "metadata": {},
   "outputs": [],
   "source": [
    "import numpy as np\n",
    "## Importance\n",
    "model = ensemble.RandomForestClassifier(n_estimators=100,\n",
    "                      criterion=\"entropy\", random_state=0)\n",
    "model.fit(X,y)\n",
    "importances = model.feature_importances_\n",
    "feature_names = X.columns.tolist()\n",
    "## Put in a pandas dtf\n",
    "dtf_importances = pd.DataFrame({\"IMPORTANCE\":importances, \n",
    "            \"VARIABLE\":feature_names}).sort_values(\"IMPORTANCE\", \n",
    "            ascending=False)\n",
    "dtf_importances['cumsum'] =  dtf_importances['IMPORTANCE'].cumsum(axis=0)\n",
    "dtf_importances = dtf_importances.set_index(\"VARIABLE\")"
   ]
  },
  {
   "cell_type": "code",
   "execution_count": 351,
   "id": "6e79b455",
   "metadata": {},
   "outputs": [
    {
     "data": {
      "image/png": "[encoded data removed]",
      "text/plain": [
       "<Figure size 432x288 with 2 Axes>"
      ]
     },
     "metadata": {},
     "output_type": "display_data"
    }
   ],
   "source": [
    "\n",
    "    \n",
    "## Plot\n",
    "fig, ax = plt.subplots(nrows=1, ncols=2, sharex=False, sharey=False)\n",
    "fig.suptitle(\"Importância das variáveis\", fontsize=15)\n",
    "\n",
    "ax[0].title.set_text('variáveis')\n",
    "dtf_importances[[\"IMPORTANCE\"]].sort_values(by=\"IMPORTANCE\").plot(\n",
    "                kind=\"barh\", legend=False, ax=ax[0],fontsize=7).grid(axis=\"x\")\n",
    "ax[0].set(ylabel=\"\")\n",
    "ax[1].title.set_text('cumulativo')\n",
    "dtf_importances[[\"cumsum\"]].plot(kind=\"line\", linewidth=4, \n",
    "                                 legend=False, ax=ax[1])\n",
    "ax[1].set(xlabel=\"\", xticks=np.arange(len(dtf_importances)), \n",
    "          xticklabels=dtf_importances.index)\n",
    "plt.xticks(rotation=90,fontsize=7)\n",
    "plt.grid(axis='both')\n",
    "plt.show()\n"
   ]
  },
  {
   "cell_type": "markdown",
   "id": "1498de13",
   "metadata": {},
   "source": [
    "# Resultado da Eleição X Receita de Campanha"
   ]
  },
  {
   "cell_type": "code",
   "execution_count": 60,
   "id": "1eada0b2",
   "metadata": {
    "scrolled": true
   },
   "outputs": [
    {
     "data": {
      "text/plain": [
       "[Text(0, 0, 'SUPLENTE'),\n",
       " Text(1, 0, 'NÃO ELEITO'),\n",
       " Text(2, 0, 'ELEITO POR MÉDIA'),\n",
       " Text(3, 0, 'ELEITO POR QP')]"
      ]
     },
     "execution_count": 60,
     "metadata": {},
     "output_type": "execute_result"
    },
    {
     "data": {
      "image/png": "[encoded data removed]",
      "text/plain": [
       "<Figure size 432x288 with 1 Axes>"
      ]
     },
     "metadata": {},
     "output_type": "display_data"
    }
   ],
   "source": [
    "sns.set_theme(style=\"whitegrid\")\n",
    "\n",
    "result_receita = sns.boxplot(x=\"DS_SIT_TOT_TURNO\", y=\"VR_RECEITA\", data=candidatos_fusao, showfliers=False)\n",
    "result_receita.set(xlabel='Situação ao final da Eleição', ylabel='Receita')\n",
    "# Alterações no eixo x para tornar legível \n",
    "result_receita.set_xticklabels(result_receita.get_xticklabels(), rotation=40, ha=\"right\")"
   ]
  },
  {
   "cell_type": "markdown",
   "id": "fa34686f",
   "metadata": {},
   "source": [
    "# Grau de Instrução\t X Receita de Campanha"
   ]
  },
  {
   "cell_type": "code",
   "execution_count": 62,
   "id": "0da6b725",
   "metadata": {
    "scrolled": true
   },
   "outputs": [
    {
     "data": {
      "text/plain": [
       "[Text(0, 0, 'LÊ E ESCREVE'),\n",
       " Text(1, 0, 'FUNDAMENTAL INCOMPLETO'),\n",
       " Text(2, 0, 'FUNDAMENTAL COMPLETO'),\n",
       " Text(3, 0, 'MÉDIO INCOMPLETO'),\n",
       " Text(4, 0, 'MÉDIO COMPLETO'),\n",
       " Text(5, 0, 'SUPERIOR INCOMPLETO'),\n",
       " Text(6, 0, 'SUPERIOR COMPLETO')]"
      ]
     },
     "execution_count": 62,
     "metadata": {},
     "output_type": "execute_result"
    },
    {
     "data": {
      "image/png": "[encoded data removed]",
      "text/plain": [
       "<Figure size 864x288 with 1 Axes>"
      ]
     },
     "metadata": {},
     "output_type": "display_data"
    }
   ],
   "source": [
    "sns.set_theme(style=\"whitegrid\")\n",
    "plt.figure(figsize=(12,4)) \n",
    "\n",
    "instr_receita = sns.boxplot(x=\"DS_GRAU_INSTRUCAO\", y=\"VR_RECEITA\", data=candidatos_fusao, showfliers=False,\n",
    "                         order=[\"LÊ E ESCREVE\", \"FUNDAMENTAL INCOMPLETO\", \"FUNDAMENTAL COMPLETO\", \n",
    "                                \"MÉDIO INCOMPLETO\", \"MÉDIO COMPLETO\", \"SUPERIOR INCOMPLETO\", \"SUPERIOR COMPLETO\"])\n",
    "instr_receita.set(xlabel='Grau de Instrução', ylabel='Receita')\n",
    "# Alterações no eixo x para tornar legível \n",
    "instr_receita.set_xticklabels(instr_receita.get_xticklabels(), rotation=40, ha=\"right\")\n",
    "instr_receita.set_xticklabels(instr_receita.get_xticklabels(), fontsize=9)"
   ]
  },
  {
   "cell_type": "markdown",
   "id": "bdc916c4",
   "metadata": {},
   "source": [
    "# Gênero X Receita de Campanha"
   ]
  },
  {
   "cell_type": "code",
   "execution_count": 61,
   "id": "ab466075",
   "metadata": {},
   "outputs": [
    {
     "data": {
      "text/plain": [
       "[Text(0.5, 0, 'Gênero'), Text(0, 0.5, 'Receita')]"
      ]
     },
     "execution_count": 61,
     "metadata": {},
     "output_type": "execute_result"
    },
    {
     "data": {
      "image/png": "[encoded data removed]",
      "text/plain": [
       "<Figure size 432x288 with 1 Axes>"
      ]
     },
     "metadata": {},
     "output_type": "display_data"
    }
   ],
   "source": [
    "sns.set_theme(style=\"whitegrid\")\n",
    "\n",
    "gen_receita = sns.boxplot(x=\"DS_GENERO\", y=\"VR_RECEITA\", data=candidatos_fusao, showfliers=False)\n",
    "gen_receita.set(xlabel='Gênero', ylabel='Receita')"
   ]
  },
  {
   "cell_type": "markdown",
   "id": "654eda4a",
   "metadata": {},
   "source": [
    "# Raça X Receita de Campanha"
   ]
  },
  {
   "cell_type": "code",
   "execution_count": 54,
   "id": "e28cbc9a",
   "metadata": {},
   "outputs": [
    {
     "data": {
      "text/plain": [
       "[Text(0.5, 0, 'Raça'), Text(0, 0.5, 'Receita')]"
      ]
     },
     "execution_count": 54,
     "metadata": {},
     "output_type": "execute_result"
    },
    {
     "data": {
      "image/png": "[encoded data removed]",
      "text/plain": [
       "<Figure size 432x288 with 1 Axes>"
      ]
     },
     "metadata": {},
     "output_type": "display_data"
    }
   ],
   "source": [
    "raca_receita = sns.boxplot(x=\"DS_COR_RACA\", y=\"VR_RECEITA\", data=candidatos_fusao, showfliers=False)\n",
    "raca_receita.set(xlabel='Raça', ylabel='Receita')"
   ]
  },
  {
   "cell_type": "markdown",
   "id": "36c9866e",
   "metadata": {},
   "source": [
    "# Raça e Gênero X Receita de Campanha"
   ]
  },
  {
   "cell_type": "code",
   "execution_count": 64,
   "id": "5551bf16",
   "metadata": {},
   "outputs": [
    {
     "data": {
      "text/plain": [
       "[Text(0.5, 0, 'Raça e Gênero'), Text(0, 0.5, 'Receita')]"
      ]
     },
     "execution_count": 64,
     "metadata": {},
     "output_type": "execute_result"
    },
    {
     "data": {
      "image/png": "[encoded data removed]",
      "text/plain": [
       "<Figure size 432x288 with 1 Axes>"
      ]
     },
     "metadata": {},
     "output_type": "display_data"
    }
   ],
   "source": [
    "raca_gen_receita = sns.boxplot(x=\"DS_COR_RACA\", y=\"VR_RECEITA\", data=candidatos_fusao, showfliers=False, hue = \"DS_GENERO\")\n",
    "raca_gen_receita.set(xlabel='Raça e Gênero', ylabel='Receita')"
   ]
  },
  {
   "cell_type": "code",
   "execution_count": null,
   "id": "5eb96c19",
   "metadata": {},
   "outputs": [],
   "source": []
  }
 ],
 "metadata": {
  "kernelspec": {
   "display_name": "Python 3 (ipykernel)",
   "language": "python",
   "name": "python3"
  },
  "language_info": {
   "codemirror_mode": {
    "name": "ipython",
    "version": 3
   },
   "file_extension": ".py",
   "mimetype": "text/x-python",
   "name": "python",
   "nbconvert_exporter": "python",
   "pygments_lexer": "ipython3",
   "version": "3.8.1"
  }
 },
 "nbformat": 4,
 "nbformat_minor": 5
}
