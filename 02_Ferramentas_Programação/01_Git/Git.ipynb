{
 "cells": [
  {
   "cell_type": "markdown",
   "metadata": {},
   "source": [
    "# Git e GitHub\n",
    "Hoje em dia, em geral, ninguém programa sozinho. O git é uma ferramenta criada para facilitar na **colaboração e distribuição de códigos**. O git pode ser usado em servidores privados, mas no geral, os códigos são enviados para o *GitHub*, um site que hospeda os códigos e que também tem uma interface gráfica simples, que facilita a visualização de mudanças feitas por outras pessoas.\n",
    "<img src=\"git_repos.png\" width=\"700\"/>\n",
    "\n",
    "\n",
    "### Uma breve história\n",
    "\n",
    "O Git-SCM (Source Control Management ou Gerenciamento de controle de fonte) foi criado pelo Linus Torvalds (conhecido como o criado do Linux) em 7 de abril de 2005 com o objetivo de auxiliar no desenvolvimento do Sistema Operacional Linux através do **versionamento** do código.\n",
    "\n",
    "Versionamento de código é um *sistema de controle de versões* é uma maneira de **gerenciar mudanças em arquivos, incluindo textos e imagens**. Através do versionamento de código é possível saber sempre que uma alteração for realizada, quando, quem a fez e o porquê.\n",
    "\n",
    "E o Git tem essa funcionalidade de realizar todo este rastreamento.\n",
    "\n",
    "## Diferença entre Git e Github\n",
    "\n",
    "Para ficar claro, Git não é Github.\n",
    "\n",
    "### O que é Git?\n",
    "\n",
    "    É um sistema de controle de versão de código descentralizado. Cada repositório Git é um nó em uma rede descentralizada e diferentes nós podem se comunicar na rede.\n",
    "\n",
    "### O que é Github\\Gitlab?\n",
    "\n",
    "    É uma plataforma Web que serve como um repositório de código que utiliza recursos do Git para que possamos centralizar nossos repositórios na internet, fazendo com que possamos ter um portfólio de códigos e projetos que podem ser públicos ou privados. O Github é um servidor de repositórios Git que surgiu em 2008."
   ]
  },
  {
   "cell_type": "markdown",
   "metadata": {},
   "source": [
    "### Começando\n",
    "\n",
    "#### Criar conta no github ou gitlab\n",
    "Acesse o link abaixo e cadastre-se.\n",
    "\n",
    "<a href=\"https://github.com/\" target=\"_blank\">Github</a> <br>\n",
    "<a href=\"https://gitlab.com/\" target=\"_blank\">Gitlab</a>\n",
    "\n",
    "#### Instalando o git\n",
    "\n",
    "O git é instalado como qualquer outro programa, seja por um instalador do Windows ou pelo package manager do linux.\n",
    "Dependendo da sua distribuição Linux você consegue instalar pelo comando `sudo apt-get install git`. \n",
    "Para windows e mac siga o <a href=\"https://git-scm.com/book/pt-br/v2/Come%C3%A7ando-Instalando-o-Git\" target=\"_blank\">tutorial</a>.\n",
    "    \n",
    "\n",
    "Depois de instalado, ele já pode ser usado em um terminal, independente do sistema operacional. <br>\n",
    "Uma das primeiras coisas a se fazer é configurar sua conta do Git, pois ele usa um nome de usuário para associar os commits a uma identidade de forma que seus commits ficam mais facil de serem identificados. Essa configuração será feita uma única vez por computador. <br>\n",
    "Para isso, é preciso executar 2 comandos a fim de configurar seu nome de usuário e endereço de e-mail:\n",
    "\n",
    "`\n",
    "git config --global user.name \"Seu Nome\"\n",
    "git config --global user.email seuemail@exemplo.com\n",
    "` <br> <br>\n",
    "o user.name não precisa ser o mesmo do github ou gitlab, mas o e-mail sim.\n",
    "\n",
    "#### Testando Suas Configurações\n",
    "`git config --list` <br><br>\n",
    "Depois disso, já podemos começar a usar o git."
   ]
  },
  {
   "cell_type": "markdown",
   "metadata": {},
   "source": [
    "## Workflow do Git\n",
    "\n",
    "### Os Três Estados\n",
    "\n",
    "O Git tem três estados principais que seus arquivos podem estar: modificado, preparado (staged) e committed. Modificado significa que você alterou o arquivo, mas ainda não fez o commit no seu banco de dados. Preparado significa que você marcou a versão atual de um arquivo modificado para fazer parte de seu próximo commit. Committed significa que os dados estão armazenados de forma segura em seu banco de dados local. \n",
    "\n",
    "Isso nos leva a três seções principais de um projeto Git: diretório de trabalho, área de preparo e o diretório Git.\n",
    "\n",
    "<img src=\"areas.png\" width=\"500\"/>\n",
    "\n",
    "Além dessas três áreas também temos um diretório Git armazenado em um repositório remoto.\n",
    "\n",
    "#### Estágio 1: Diretório de trabalho (working directory)\n",
    "\n",
    "O diretório de trabalho é um diretório onde estão todos os arquivos do projeto armazenados no seu computador. Esses arquivos são pegos do banco de dados compactado no diretório Git e colocados no disco para você usar ou modificar.\n",
    "\n",
    "#### Estágio 2: Àrea de preparo (The staging area)\n",
    "\n",
    "A área de preparo é um arquivo, geralmente contido em seu diretório Git, que armazena informações sobre o que vai entrar em seu próximo commit. É uma área intermediária que guarda as mudanças que serão enviadas ao repositório git local. Por vezes é referido como o “índice”, mas também é comum referir-se a ele como área de preparo (staging area). Arquivos na staging area são trackeados e geridos pelo Git\n",
    "\n",
    "#### Estágio 3: Repositório Git  (ou histórico de commit)\n",
    "Quando você inicializa um repositório Git no computador um diretório .git é criado na mesma pasta do seu projeto. Esse diretório Git é onde o Git armazena os metadados e o banco de dados de objetos de seu projeto. Esta é a parte mais importante do Git, e é o que é copiado quando você clona um repositório de outro computador. Arquivos que são commitados da staging area entram para o repositório git local e são adicionados ao commit history.\n",
    "\n",
    "________________________________________________________________________________________________________________\n",
    "\n",
    "Esses três estágios citados acima representam o repositório Git local. Em outras palavras, até agora não fizemos nenhum upload de arquivo para o repositório remoto (Gitlab ou Github). É ai que entra o próximo estágio.\n",
    "\n",
    "#### Estágio 4: Repositório remoto\n",
    "\n",
    "Esse é o último estágio no workflow do Git e é nesse momento que seu código será empurrado (push) para o repositório remoto. \n",
    "\n",
    "<img src=\"git_areas.png\" width=\"650\"/>\n",
    "\n"
   ]
  },
  {
   "cell_type": "markdown",
   "metadata": {},
   "source": [
    "##  Inicializando um Repositório\n",
    "Agora que temos um conceito inicial do workflow do Git, vamos ver como podemos começar a utilizá-lo.\n",
    "Há três formas de iniciar um repositório Git:\n",
    "\n",
    "   * **Criar um repositório em branco:** Você ainda não escreveu nenhum código ou ainda não iniciou seu projeto. dessa forma, você quer criar um projeto do zero que seja versionado pelo Git.\n",
    "   * **Adicionar o Git a um projeto existente:** Você iniciou ou finalizou um projeto, já possui códigos no seu computador e agora você quer salvá-los em um repositório remoto com o Git.\n",
    "   * **Entrar repositório remoto existente:** existe um projeto em andamento que possui um repositório remoto e você quer entrar nesse projeto clonando (cloning=downloading) o código fonte para sua máquina local.\n",
    "\n",
    "\n",
    "### Inicializando um Repositório em um Diretório Existente\n",
    "\n",
    "Criar repositório lá no GitHub se ele não existe\n",
    "\n",
    "Na linha de comando, utilize o comando `cd` para navegar até a pasta que contém seus arquivos e digite:\n",
    "\n",
    "`git init`\n",
    "\n",
    "para criar um repositório git vazio. Isso cria um novo subdiretório chamado .git que contém todos os arquivos necessários de seu repositório – um esqueleto de repositório Git. Neste ponto, nada em seu projeto é monitorado ainda. \n",
    "\n",
    "`git status` # para verificar o status atual dos arquivos\n",
    "\n",
    "`git add .` # adiciona todos os arquivos para a stagging area\n",
    "\n",
    "`git status` # checar se todos os arquivos e pastas foram adicionados corretamente\n",
    "\n",
    "`git commit -m 'first commit'` # para fazer o commit das suas mudanças no seu repositório Git local\n",
    "\n",
    "`git status` # checar status\n",
    "\n",
    "`git remote add origin https://github.com/patriciacatandi/Lets_Code_Aluno.git`# adiciona uma origem (um repositório remoto) ao seu repositório Git local\n",
    "\n",
    "`git remote -v` # verifica se a URL do repositório foi adicionada\n",
    "\n",
    "`git branch -a` # para ver todas as suas branchs locais e remotas\n",
    "\n",
    "`git branch -M main` # para criar a branch main caso a sua branch inicial seja a master\n",
    "\n",
    "`git pull origin main --allow-unrelated-histories` # faz um git pull atualizando sua branch local e forçando o merge das histórias de commits que não  estão relacionadas entre o remoto e local. O  `--allow-unrelated-histories` é utilizado apenas no primeiro pull do repositório\n",
    "\n",
    "`Ctrl + X` para sair\n",
    "\n",
    "`git push origin main` # por último, envias as modificações para o repositório remoto"
   ]
  },
  {
   "cell_type": "markdown",
   "metadata": {},
   "source": [
    "### Inicializando um Repositório em um Diretório Vazio\n",
    "\n",
    "Criar repositório Novo_Repo lá no GitHub se ele não existe\n",
    "\n",
    "Na linha de comando, utilize o comando `cd` para navegar até a pasta que contém seus arquivos e digite o comando abaixo para criar um repositório com o nome Novo_repo:\n",
    "\n",
    "`git init Novo_Repo` \n",
    "para criar um repositório git vazio. Isso cria um novo subdiretório chamado .git que contém todos os arquivos necessários de seu repositório – um esqueleto de repositório Git. Neste ponto, nada em seu projeto é monitorado ainda. \n",
    "\n",
    "`cd Novo_Repo` # para entrar no repositório criado\n",
    "\n",
    "`git branch -M main` # para criar a branch main caso a sua branch inicial seja a master\n",
    "\n",
    "`git status` # para verificar o status atual dos arquivos\n",
    "\n",
    "Nesse ponto, podemos adicionar um arquivo na pasta *Novo_Repo* para enviar ao repo remoto.\n",
    "\n",
    "`git status` # para verificar o status atual dos arquivos\n",
    "\n",
    "`git add .` # adiciona todos os arquivos para a stagging area\n",
    "\n",
    "`git status` # checar se todos os arquivos e pastas foram adicionados corretamente\n",
    "\n",
    "`git commit -m 'first commit'` # para fazer o commit das suas mudanças no seu repositório Git local\n",
    "\n",
    "`git status` # checar status\n",
    "\n",
    "`git remote add origin https://github.com/patriciacatandi/Novo_Repo.git`# adiciona uma origem (um repositório remoto) ao seu repositório Git local \n",
    "\n",
    "`git remote -v` # verifica se a URL do repositório foi adicionada\n",
    "\n",
    "`git pull origin main --allow-unrelated-histories` # faz um git pull atualizando sua branch local e une o histórico de commits do repositório local com o remoto. O  `--allow-unrelated-histories` é utilizado apenas no primeiro pull do repositório\n",
    "\n",
    "`Ctrl + X` para sair\n",
    "\n",
    "`git push origin main` # por último, envias as modificações para o repositório remoto"
   ]
  },
  {
   "cell_type": "markdown",
   "metadata": {},
   "source": [
    "\n",
    "### Importando um repositório existente\n",
    "\n",
    "**Cada projeto tem seu repositório**, como é chamada a *\"pasta\"* que guarda os arquivos no servidor. *Para começar a trabalhar em qualquer repositório, precisamos importar ele no seu computador.*  <br>\n",
    "Há dois modos de fazer isso: usando **HTTPS** e usando **SSH**. Uma vantagem de HTTPS é que não é necessário configurar nada previamente no sistema e no perfil do GitHub. Uma desvantagem, porém, é que será necessário digitar seu usuário e senha toda vez que aplicar as mudanças locais no repositório online (`git push`). Já usando SSH, não será necessário digitar as informações de sua conta toda vez que executar `git push`, mas é preciso configurar algumas coisas no computador antes (lembrando que, provavelmente, só será necessário fazer essa configuração uma vez, e não é difícil).\n",
    "Para fazer o download do repositório de interesse no seu computador utilizamos o comando `git clone`. O clone simplemesmente cria uma cópia de um repositório do Github no seu computador.\n",
    "\n",
    "#### Usando HTTPS\n",
    "\n",
    "   1. No terminal, navegue até a pasta em que você quer importar o repositório (ex: `cd <caminho/para/pasta>`).\n",
    "   2. `git clone <URL_do_repositório>`. Esse URL pode ser obtido indo no repositório do GitHub, e clicando em Clone or Download. Por padrão, a janela mostrada é clonar com HTTPS, mas caso esteja escrito Clone with SSH no título dessa janela, clique em Use HTTPS.\n",
    "\n",
    "No caso desse repositório, o comando seria:\n",
    "\n",
    "git clone https://gitlab.com/letscode-academy/sitelc.git\n",
    "\n",
    "#### Usando SSH\n",
    "\n",
    "Para usar SSH, é necessário gerar uma chave SSH (ou usar uma existente) e adicionar essa chave à sua conta no GitHub. <a href=\"https://docs.github.com/en/authentication/connecting-to-github-with-ssh\" target=\"_blank\">Esse guia</a> explica como fazer isso e testar se a configuração está correta. Feita essa configuração, o processo de clonar o repositório é basicamente o mesmo.\n",
    "\n",
    "   1. No terminal, navegue até a pasta em que você quer importar o repositório (ex: `cd <caminho/para/pasta>`).\n",
    "   2. `git clone <URL_do_repositório>`. Esse URL pode ser obtido indo no repositório no GitHub e clicando em Clone or Dowload. Em seguida, clique em Use SSH (se o título dessa janela for Clone with SSH, já está certo). O endereço mostrado é o URL do repositório necessário.\n",
    "\n",
    "No caso desse repositório, o comando seria:\n",
    "\n",
    "`git clone git@gitlab.com:letscode-academy/sitelc.git`"
   ]
  },
  {
   "cell_type": "markdown",
   "metadata": {},
   "source": [
    "Agora que você já tem uma cópia do repositório no seu computador, já podemos começar a trabalhar com o código, fazendo as alterações que quisermos. No entanto, é sempre bom executar um `git pull` (que baixa as últimas alterações no repositório) antes de começar a trabalhar (para evitar conflitos por seu repositório estar desatualizado). Depois que tivermos feitas as mudanças e estivermos satisfeitos com o código, podemos enviá-lo para o GitHub (`git push`)."
   ]
  },
  {
   "cell_type": "markdown",
   "metadata": {},
   "source": [
    "### Principais comandos dentro do workflow do Git\n",
    "Suponha que você está trabalhando dentro de um projeto que possui um repositório remoto e você precisa adicionar suas mudanças para a staging area. Para vermos essas mudanças, usamos os comandos `git status` (que mostra um resumo) ou `git diff` (que mostra as mudanças linha por linha). Para realmente **adicionarmos as mudanças no commit**, usamos o comando `git add`. Com esse comando, podemos selecionar especificamente quais arquivos ou pastas queremos adicionar no commit escrevendo o nome desses arquivos após o add, ou podemos usar `git add .` ou `git add -A` para adicionar todos as modificações de uma vez. Usando o comando `git diff --cached` ou `git diff --staged`, podemos ver as mudanças feitas apenas nos arquivos que já estão na staging area, ou seja, que vão ser enviados no próximo commit.\n",
    "\n",
    "Depois disso, **para criar um commit**, usamos o comando:\n",
    "\n",
    "`git commit -m \"Essa é a mensagem do commit\"`\n",
    "\n",
    "Cada commit gera um **hash ID** ou um código que é muito imporante para **restaurar um projeto** para um determinado ponto e para realizar uma tarefa específica. **Os commits são locais, ou seja, eles são só da sua máquina**. Eles normalmente são enviados um por um para o servidor, mas você pode usá-los pra se organizar, sem enviar. Depois que você tiver feito quantos commits quiser, e achar que está pronto para enviar seu código para o GitHub, basta executar o comando `git push`. No caso de algum erro, muito provavelmente porque seu repositório local está desatualizado, teste dar um `git pull`. Caso não dê nenhum erro, o seu código já está no GitHub. <br>\n",
    "\n",
    "Em resumo, um commit fica normalmente assim:\n",
    "<br>\n",
    "`\n",
    "git pull\n",
    "git add .\n",
    "git commit -m \"Mensagem\"\n",
    "git push`\n",
    "\n",
    "<br>\n",
    "<img src=\"git_commands_basic.png\" width=\"500\"/> "
   ]
  },
  {
   "cell_type": "markdown",
   "metadata": {},
   "source": [
    "## Branches\n",
    "\n",
    "O que passei até agora é o básico do GitHub. É o necessário para trabalhar em uma única \"versão\" do código por vez. No entanto, no git existe a possibilidade de se fazer alterações no código (e compartilhar com outros usuários), sem comprometer um código que já está funcionando. O código da branch main (a principal, e a única que existe por padrão) deve ser sempre estável e funcional, com testes sendo feitos em outros branches. <br>\n",
    "<img src=\"git_branches.png\" width=\"600\"/>\n",
    "\n",
    "### Usando branches\n",
    "\n",
    "Para criar um novo branch, primeiro execute um `git pull`, para garantir que os arquivos estão atualizados. Então, execute `git checkout -b [Nome do branch]`. O modificador `-b` serve para **criar um novo branch e entrar nele**. Agora, você está em um branch diferente do main, podendo fazer mudanças e commits sem alterar o código original. Para mandar esse branch para o GitHub e criar um branch remoto, usamos o comando `git push --set-upstream origin [Nome do branch]`. Depois da primeira vez, podemos usar o `git push` direto (desde que estejamos no branch certo).\n",
    "\n",
    "Com o comando `git branch -a` podemos **ver todos as branches, locais ou remotas**, do nosso repositório. Para **deletar um branch local**, usamos `git branch -d [Nome do branch]`. Já para **deletar um branch remoto**, usamos `git push origin :[Nome do branch]`(note os dois pontos).\n",
    "\n",
    "Para **mudar de branch**, usamos o comando `git checkout [Nome do branch]`. Tome cuidado antes de fazer isso, qualquer mudança que você tiver feito e não estiver em um commit será jogada fora. Para evitar isso, crie um commit ou use o comando `git stash` que guarda todas as mudanças em um commit temporário, que pode ser recuperado facilmente com o comando `git cherry-pick [código do commit]`, que \"pula\" o estado do repositório para um certo commit. Uma lista de modificações do repositório pode ser acessada com o comando `git reflog`, e dele, você seleciona o commit criado pelo stash.\n",
    "\n",
    "Se você estiver satisfeito com o trabalho de um branch, e quiser juntá-lo à branch main, basta voltar para a main com o comando `git checkout main` e usar o comando `git merge [Nome do branch]`. No entanto, caso a mesma parte de um mesmo arquivo tenha sido modificada nos 2 branches, o auto-merge vai falhar, e te avisar quais os arquivos problemáticos. (o mesmo pode acontecer quando você altera coisas sem antes dar pull). Nesses arquivos, ficam as duas versões diferentes daquela parte. Você pode escolher uma delas, e então usar o add e criar um commit para resolver o problema. Agora, você já pode deletar o seu branch antigo, pois tudo está na main.\n"
   ]
  },
  {
   "cell_type": "markdown",
   "metadata": {},
   "source": [
    "### Resolvendo conflitos de merge\n",
    "\n",
    "Quando você tenta dar um merge em dois branches ou dar pull nas mudanças remotas do seu repositório, o git tenta misturar as duas versões do arquivo. No entanto, se tiver alterações na mesma parte do programa nos dois arquivos, o auto-merge vai falhar, e você vai ter que resolver os problemas manualmente. O git vai te avisar quais os arquivos problemáticos, e em cada um deles vai criar uma estrutura assim:\n",
    "\n",
    "<br>\n",
    "<img src=\"git_conflito_merge.png\" width=\"300\"/>\n",
    "\n",
    "### Merge conflict\n",
    "\n",
    "A parte de cima é a que está no seu arquivo original, e a parte de baixo é a que estava no outro arquivo, seja o de um outro branch ou o que veio de um repositório remoto depois de um pull. Para resolver, você tem que escolher a versão que você quer, ou uma mistura das duas. Então, você precisa remover os marcadores do conflito (<<<<<<<, ======= e >>>>>>>). Depois de fazer isso em todos os conflitos, você precisa usar o `git add .` e o `git commit` para criar um commit com essas mudanças, e o conflito está resolvido."
   ]
  },
  {
   "cell_type": "markdown",
   "metadata": {},
   "source": [
    "### Pull Requests (PR)\n",
    "O pull request, é o pedido para que o repositório original, ou uma branch do repositório original, faça a ação  de pull (puxar) as atualizações de uma outra branch do próprio repositório. <br>\n",
    "Em geral as branches main e dev estão protegidas e não conseguimos fazer um pull diretamente nelas. Para conseguir fazer um merge das nossas alterações com as branches principais precisamos criar um pull request. Esse PR passará pela avaliação de outras pessoas antes de ser mergeado na branch que receberá a atualização. Isso diminui a probabilidade de quebrarmos algum código com as modificaçõs que fizemos. \n"
   ]
  },
  {
   "cell_type": "markdown",
   "metadata": {},
   "source": [
    "### Arquivos git\n",
    "* .git\n",
    "* .gitignore\n",
    "* .keep"
   ]
  },
  {
   "cell_type": "markdown",
   "metadata": {},
   "source": [
    "### Padrões\n",
    "Ao entrar em um time, verifique se há padrões nos nomes das branches ou nas mensagens dos commits"
   ]
  },
  {
   "cell_type": "markdown",
   "metadata": {},
   "source": [
    "# Cheat Sheet\n",
    "<br>\n",
    "<img src=\"git_cheat_sheet.png\" width=\"1000\"/>"
   ]
  },
  {
   "cell_type": "markdown",
   "metadata": {},
   "source": [
    "<br>\n",
    "<img src=\"git_commands.png\" width=\"500\"/> "
   ]
  },
  {
   "cell_type": "markdown",
   "metadata": {},
   "source": [
    "## Referências\n",
    "<a href=\"https://git-scm.com/book/pt-br/v2/Come%C3%A7ando-Instalando-o-Git\" target=\"_blank\">Documentação</a> <br>\n",
    "<a href=\"https://www.sitereq.com/post/3-ways-to-create-git-local-and-remote-repositories\" > Criação de repositórios</a> <br>\n",
    "<a href=\"https://guilherme.readthedocs.io/en/latest/pages/tutoriais/git_github.html\">Git x Github</a> <br>"
   ]
  },
  {
   "cell_type": "code",
   "execution_count": null,
   "metadata": {},
   "outputs": [],
   "source": []
  }
 ],
 "metadata": {
  "interpreter": {
   "hash": "fd69f43f58546b570e94fd7eba7b65e6bcc7a5bbc4eab0408017d18902915d69"
  },
  "kernelspec": {
   "display_name": "Python 3",
   "language": "python",
   "name": "python3"
  },
  "language_info": {
   "codemirror_mode": {
    "name": "ipython",
    "version": 3
   },
   "file_extension": ".py",
   "mimetype": "text/x-python",
   "name": "python",
   "nbconvert_exporter": "python",
   "pygments_lexer": "ipython3",
   "version": "3.8.5"
  }
 },
 "nbformat": 4,
 "nbformat_minor": 2
}
