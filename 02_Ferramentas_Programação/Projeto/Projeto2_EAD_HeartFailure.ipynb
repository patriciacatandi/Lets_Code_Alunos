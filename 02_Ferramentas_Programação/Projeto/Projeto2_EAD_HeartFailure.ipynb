{
 "cells": [
  {
   "cell_type": "markdown",
   "metadata": {},
   "source": [
    "# PROJETO 2 - ANÁLISE EXPLORATÓRIA DE DADOS\n",
    "\n",
    "#### Autoras: \n",
    "Izadora Bittencourt,\n",
    "Carolina Coutinho,\n",
    "Bruna Subtil e\n",
    "Jessieli Avellar\n",
    "\n",
    "### Variáveis:\n",
    "- age: age of the patient (years)\n",
    "- anaemia: decrease of red blood cells or hemoglobin (boolean)\n",
    "- creatinine phosphokinase (CPK): level of the CPK enzyme in the blood (mcg/L) \n",
    "- diabetes: if the patient has diabetes (boolean)\n",
    "- ejection fraction: percentage of blood leaving the heart at each contraction (percentage)\n",
    "- high blood pressure: if the patient has hypertension (boolean)\n",
    "- platelets: platelets in the blood (kiloplatelets/mL)\n",
    "- serum creatinine: level of serum creatinine in the blood (mg/dL)\n",
    "- serum sodium: level of serum sodium in the blood (mEq/L)\n",
    "- sex: woman or man (binary)     (0 = mulher, 1 = homem)\n",
    "- smoking: if the patient smokes or not (boolean)\n",
    "- time: follow-up period (days)\n",
    "- death event: if the patient deceased during the follow-up period (boolean)"
   ]
  },
  {
   "cell_type": "markdown",
   "metadata": {},
   "source": [
    "### - Importação dos Dados \n",
    "Fonte: https://www.kaggle.com/andrewmvd/heart-failure-clinical-data\n",
    "\n",
    "Davide Chicco, Giuseppe Jurman: Machine learning can predict survival of patients with heart failure from serum creatinine and ejection fraction alone. BMC Medical Informatics and Decision Making 20, 16 (2020). \n",
    "(https://bmcmedinformdecismak.biomedcentral.com/articles/10.1186/s12911-020-1023-5)"
   ]
  },
  {
   "cell_type": "code",
   "execution_count": null,
   "metadata": {},
   "outputs": [],
   "source": [
    "#Importando as bibliotecas \n",
    "import numpy as np\n",
    "import pandas as pd\n",
    "import seaborn as sns\n",
    "import matplotlib.pyplot as plt\n",
    "\n",
    "%matplotlib inline\n",
    "\n",
    "import warnings\n",
    "warnings.filterwarnings(\"ignore\")"
   ]
  },
  {
   "cell_type": "code",
   "execution_count": null,
   "metadata": {},
   "outputs": [],
   "source": [
    "dados = pd.read_csv(\"heart_failure_clinical_records_dataset.csv\", sep=',')\n",
    "dados.head()"
   ]
  },
  {
   "cell_type": "code",
   "execution_count": null,
   "metadata": {},
   "outputs": [],
   "source": [
    "dados.info()"
   ]
  },
  {
   "cell_type": "code",
   "execution_count": null,
   "metadata": {},
   "outputs": [],
   "source": [
    "dados.shape"
   ]
  },
  {
   "cell_type": "code",
   "execution_count": null,
   "metadata": {},
   "outputs": [],
   "source": [
    "dados.columns"
   ]
  },
  {
   "cell_type": "code",
   "execution_count": null,
   "metadata": {},
   "outputs": [],
   "source": [
    "dados.describe()"
   ]
  },
  {
   "cell_type": "code",
   "execution_count": null,
   "metadata": {},
   "outputs": [],
   "source": [
    "tabela_resumo = pd.pivot_table(dados, columns=['DEATH_EVENT'])\n",
    "tabela_resumo"
   ]
  },
  {
   "cell_type": "markdown",
   "metadata": {},
   "source": [
    "### - Limpeza dos Dados"
   ]
  },
  {
   "cell_type": "code",
   "execution_count": null,
   "metadata": {},
   "outputs": [],
   "source": [
    "# Veficando se há dados nulos\n",
    "dados.isna().sum()"
   ]
  },
  {
   "cell_type": "code",
   "execution_count": null,
   "metadata": {},
   "outputs": [],
   "source": [
    "#Verificando se há linha duplicadas\n",
    "duplicados = dados[dados.duplicated()]\n",
    "duplicados"
   ]
  },
  {
   "cell_type": "code",
   "execution_count": null,
   "metadata": {},
   "outputs": [],
   "source": [
    "#Verificando variáveis categoricas\n",
    "print(dados[\"anaemia\"].unique())\n",
    "print(dados[\"diabetes\"].unique())\n",
    "print(dados[\"high_blood_pressure\"].unique())\n",
    "print(dados[\"sex\"].unique())\n",
    "print(dados[\"smoking\"].unique())\n",
    "print(dados[\"DEATH_EVENT\"].unique())"
   ]
  },
  {
   "cell_type": "markdown",
   "metadata": {},
   "source": [
    "### - Correlações"
   ]
  },
  {
   "cell_type": "code",
   "execution_count": null,
   "metadata": {},
   "outputs": [],
   "source": [
    "plt.figure(figsize=(15, 6))\n",
    "sns.heatmap(dados.corr(method=\"spearman\"), cmap='coolwarm', annot=True);\n",
    "plt.show()"
   ]
  },
  {
   "cell_type": "markdown",
   "metadata": {},
   "source": [
    "#### Nível de Correlação:\n",
    "\n",
    "0.9 a 1 positivo ou negativo: Muito forte\n",
    "\n",
    "0.7 a 0.9 positivo ou negativo: Forte\n",
    "\n",
    "0.5 a 0.7 positivo ou negativo: Moderada\n",
    "\n",
    "0.3 a 0.5 positivo ou negativo: Fraca\n",
    "\n",
    "0 a 0.3 positivo ou negativo: Desprezível\n",
    "\n",
    "Fonte: https://medium.com/brdata/correla%C3%A7%C3%A3o-direto-ao-ponto-9ec1d48735fb"
   ]
  },
  {
   "cell_type": "markdown",
   "metadata": {},
   "source": [
    "#### - As colunas (exceto DEATH EVENT) que possuem níveis mais altos de correlação entre si são:\n",
    "\n",
    "**serum_creatinine e serum_sodium**: -0,3 -> Correlação fraca\n",
    "\n",
    "**sex e smoking**: 0,45 -> Correlação fraca"
   ]
  },
  {
   "cell_type": "markdown",
   "metadata": {},
   "source": [
    "#### - As colunas que possume maior correlação com DEATH_EVENT:\n",
    "\n",
    "**age**: 0.22 -> Correlação desprezível\n",
    "\n",
    "**serum_sodium**: -0.21 -> Correlação desprezível\n",
    "\n",
    "**ejection_fraction**: -0.29 -> Correlação desprezível\n",
    "\n",
    "**serum_creatinine**: 0.37 -> Correlação fraca\n",
    "\n",
    "**time**: -0.54 -> Correlação moderada"
   ]
  },
  {
   "cell_type": "code",
   "execution_count": null,
   "metadata": {},
   "outputs": [],
   "source": [
    "sns.pairplot(data = dados,hue='DEATH_EVENT');"
   ]
  },
  {
   "cell_type": "markdown",
   "metadata": {},
   "source": [
    "## Colunas com maiores correlações com DEATH_EVENT"
   ]
  },
  {
   "cell_type": "markdown",
   "metadata": {},
   "source": [
    "### 1. Ejection Fraction"
   ]
  },
  {
   "cell_type": "markdown",
   "metadata": {},
   "source": [
    "Fração de Ejeção: Porcentagem de sangue que sai do coração a cada contração. Quanto maior, melhor."
   ]
  },
  {
   "cell_type": "code",
   "execution_count": null,
   "metadata": {},
   "outputs": [],
   "source": [
    "dados.groupby(\"DEATH_EVENT\")[[\"ejection_fraction\"]].agg([\"max\",\"min\"])"
   ]
  },
  {
   "cell_type": "code",
   "execution_count": null,
   "metadata": {},
   "outputs": [],
   "source": [
    "def rotulo(plot):\n",
    "    for i in plot.patches:\n",
    "        plot.annotate(round(i.get_height(), 2),\n",
    "                      (i.get_x() + i.get_width() / 2, i.get_height()),\n",
    "                      ha='center',\n",
    "                      fontsize=12,\n",
    "                      color='black',\n",
    "                      xytext=(0, 3),\n",
    "                      textcoords='offset points')"
   ]
  },
  {
   "cell_type": "code",
   "execution_count": null,
   "metadata": {},
   "outputs": [],
   "source": [
    "grafico = sns.barplot(x=\"DEATH_EVENT\", y=\"ejection_fraction\", data=dados, ci=False)\n",
    "rotulo(grafico)\n",
    "plt.title(\"MÉDIA FRAÇÃO DE EJEÇÃO\")\n",
    "plt.yticks([i for i in range (0, 50, 5)])\n",
    "plt.xticks(ticks=[0, 1], labels=[\"Sobreviveu\", \"Morreu\"]);"
   ]
  },
  {
   "cell_type": "markdown",
   "metadata": {},
   "source": [
    "- Problemas cardíacos são mais recorrentes em pessoas com essa fração muito baixa. \n",
    "- A média dessa fração em quem morreu é ainda menor comparando com quem não morreu."
   ]
  },
  {
   "cell_type": "markdown",
   "metadata": {},
   "source": [
    "![image](https://user-images.githubusercontent.com/86680407/142738548-7d0238f9-9e5b-4385-b904-d578e5639aed.png)"
   ]
  },
  {
   "cell_type": "code",
   "execution_count": null,
   "metadata": {},
   "outputs": [],
   "source": [
    "dados[\"funçao_cardiaca\"] = pd.cut(dados.ejection_fraction, [0,40,55,70,90], labels=[\"Possível Insuficiência Cardíaca\", \"Função Baixa\", \"Função Normal\", \"Função Alta\"], right=False)"
   ]
  },
  {
   "cell_type": "code",
   "execution_count": null,
   "metadata": {},
   "outputs": [],
   "source": [
    "fig, axes = plt.subplots(1, 2, figsize=(20, 6))\n",
    "\n",
    "axes[0].set_title('CONTAGEM', fontsize=16)\n",
    "grafico1 = sns.countplot(x=\"funçao_cardiaca\", data=dados, ax=axes[0])\n",
    "rotulo(grafico1)\n",
    "\n",
    "axes[1].set_title('PROBABILIDADE DE MORTE', fontsize=16)\n",
    "grafico2 = sns.barplot(x=\"funçao_cardiaca\", y=\"DEATH_EVENT\", data=dados, ci=False, ax=axes[1])\n",
    "rotulo(grafico2);"
   ]
  },
  {
   "cell_type": "markdown",
   "metadata": {},
   "source": [
    "- Problemas cardíacos são mais recorrentes em pessoas com Possível Insuficiência Cardíaca, e depois na ordem.\n",
    "- Quanto pior a função cardíaca, maior a probabilidade do evento da morte. \n",
    "- Exceto Função Alta, porém só existem duas pessoas com essa função do DataFrame."
   ]
  },
  {
   "cell_type": "markdown",
   "metadata": {},
   "source": [
    "### 2. Age"
   ]
  },
  {
   "cell_type": "code",
   "execution_count": null,
   "metadata": {},
   "outputs": [],
   "source": [
    "dados.groupby(\"DEATH_EVENT\")[[\"age\"]].agg(['max','min'])"
   ]
  },
  {
   "cell_type": "markdown",
   "metadata": {},
   "source": [
    "- Problemas cardíacos são mais recorrentes em pessoas com mais idade."
   ]
  },
  {
   "cell_type": "code",
   "execution_count": null,
   "metadata": {},
   "outputs": [],
   "source": [
    "dados[dados[\"age\"]<42]"
   ]
  },
  {
   "cell_type": "markdown",
   "metadata": {},
   "source": [
    "- Mesmo todos tenho Possível Insuficiência Cardíaca, exceto 3 com Função Baixa, ninguém com menos de 42 anos morreu."
   ]
  },
  {
   "cell_type": "code",
   "execution_count": null,
   "metadata": {},
   "outputs": [],
   "source": [
    "grafico = sns.barplot(x=\"DEATH_EVENT\", y=\"age\", data=dados, ci=False)\n",
    "rotulo(grafico)\n",
    "plt.title(\"MÉDIA IDADE\")\n",
    "plt.yticks([i for i in range (0, 80, 10)])\n",
    "plt.xticks(ticks=[0, 1], labels=['Sobreviveu', 'Morreu']);"
   ]
  },
  {
   "cell_type": "markdown",
   "metadata": {},
   "source": [
    "- A média de idade dos que morreram é ainda menor comparando com quem não morreu."
   ]
  },
  {
   "cell_type": "code",
   "execution_count": null,
   "metadata": {},
   "outputs": [],
   "source": [
    "dados[\"cut_idade\"] = pd.cut(dados.age, [40, 45, 50, 55, 60, 65, 70, 75, 80, 85, 90, 96], right=False, labels=[\"40+\", \"45+\", \"50+\", \"55+\", \"60+\", \"65+\", \"70+\", \"75+\", \"80+\", \"85+\", \"90+\"])"
   ]
  },
  {
   "cell_type": "code",
   "execution_count": null,
   "metadata": {},
   "outputs": [],
   "source": [
    "fig, axes = plt.subplots(1, 2, figsize=(15, 5))\n",
    "\n",
    "axes[0].set_title(\"CONTAGEM\", fontsize=16)\n",
    "grafico1 = sns.countplot(x=\"cut_idade\", data=dados, ax=axes[0])\n",
    "rotulo(grafico1)\n",
    "axes[0].set_ylim([0, 60])\n",
    "\n",
    "axes[1].set_title(\"PROBABILIDADE DE MORTE\", fontsize=16)\n",
    "grafico2 = sns.barplot(x=\"cut_idade\", y=\"DEATH_EVENT\", data=dados, ci=False, ax=axes[1])\n",
    "rotulo(grafico2)\n",
    "axes[1].set_ylim([0, 0.9]);"
   ]
  },
  {
   "cell_type": "markdown",
   "metadata": {},
   "source": [
    "- Pessoas com problemas cardíacos se concentram mais na faixa entre 50 e 70 anos.\n",
    "- No geral, quanto mais velho, maior a probabilidade do evento da morte.\n",
    "- Faixa dos 45+ com probabilidade alta comparada com as faixas vizinhas.\n",
    "- Faixa dos 85+ com probabilidade menor do que a dos 80+, mas ainda bem alta."
   ]
  },
  {
   "cell_type": "markdown",
   "metadata": {},
   "source": [
    " #### Relação Idade e Função Cardíaca"
   ]
  },
  {
   "cell_type": "code",
   "execution_count": null,
   "metadata": {},
   "outputs": [],
   "source": [
    "tabela = pd.pivot_table(dados, index='cut_idade', columns=['funçao_cardiaca'], values=['DEATH_EVENT'], aggfunc=['mean', 'count'])\n",
    "tabela"
   ]
  },
  {
   "cell_type": "code",
   "execution_count": null,
   "metadata": {},
   "outputs": [],
   "source": [
    "plt.figure(figsize=(15, 6))\n",
    "plt.title(\"PROBABILIDADE DE MORTE\\n\", fontsize=16)\n",
    "sns.heatmap(tabela.iloc[:, 0:4], annot=True, cmap='coolwarm')\n",
    "plt.xlabel(\"funçao_cardiaca\")\n",
    "plt.xticks(ticks=[0.5, 1.5, 2.5, 3.5], labels=[\"Possível Insuficiência Cardíaca\", \"Função Baixa\", \"Função Normal\", \"Função Alta\"])\n",
    "plt.xticks(rotation=0);"
   ]
  },
  {
   "cell_type": "markdown",
   "metadata": {},
   "source": [
    "- Canto inferior esquerdo com as maiores probabilidades.\n",
    "- Grupo 75+ e Função Baixa com probabilidade baixíssima mesmo com 8 pessoas.\n",
    "- Grupo 75+ e Possível Insuficiência Cardíaca com a probabilidade bem acima das faixas de maior idade. \n",
    "- Grupo 45+ e Possível Insuficiência Cardíaca com probabilidade bem acima das faixas vizinhas.\n",
    "- Funçao Alta só em 45+ e 50+.\n",
    "- Função Baixa até 75+ com probabilidades bem baixas.\n",
    "- Função Normal com probabilidades bem baixas mesmo em idades altas. \n",
    "- Canto superior direito com baixíssimas probabilidades."
   ]
  },
  {
   "cell_type": "markdown",
   "metadata": {},
   "source": [
    "### 3. Serum Sodium"
   ]
  },
  {
   "cell_type": "markdown",
   "metadata": {},
   "source": [
    "O teste de sódio sérico é um exame de sangue de rotina que indica se o paciente apresenta níveis normais de sódio no sangue. **Um nível anormalmente baixo de sódio no sangue pode ser causado por insuficiência cardíaca.**\n",
    "Fonte: https://bmcmedinformdecismak.biomedcentral.com/articles/10.1186/s12911-020-1023-5\n",
    "\n",
    "Um **nível normal de sódio no sangue está entre 135 e 145** miliequivalentes por litro (mEq/L). O sódio desempenha um papel fundamental em seu corpo. Ajuda a manter a pressão arterial normal, apóia o trabalho de seus nervos e músculos e regula o equilíbrio de fluidos do corpo. \n",
    "Fonte: https://www.mayoclinic.org/diseases-conditions/hyponatremia/symptoms-causes/syc-20373711\n",
    "\n",
    "Nesse contexto foi considerado:\n",
    "- Baixa: abaixo de 135 mEq/L\n",
    "- Normal: Entre 135 e 145 mEq/L\n",
    "- Alta: Acima de 145 mEq/L"
   ]
  },
  {
   "cell_type": "code",
   "execution_count": null,
   "metadata": {},
   "outputs": [],
   "source": [
    "# Histograma do nível de Sódio Sérico entre os pacientes \n",
    "\n",
    "plt.figure(figsize=(15,8))\n",
    "sns.distplot(dados['serum_sodium'], kde=False).set(title='Histograma - nível de Sódio Sérico no sangue (mEq/L)');"
   ]
  },
  {
   "cell_type": "markdown",
   "metadata": {},
   "source": [
    "- CONCLUSÕES: A maioria das pessoas tinham um nível normal de sódio sérico"
   ]
  },
  {
   "cell_type": "code",
   "execution_count": null,
   "metadata": {},
   "outputs": [],
   "source": [
    "# Criando uma coluna com a classificação do Serum Sodium\n",
    "dados[\"nivelSeSodium\"] = pd.cut(dados.serum_sodium, [0,135,145,148], labels=[\"Abaixo\", \"Normal\", \"Acima\"], right=False)\n",
    "\n",
    "# Tabela com o número de pacientes e porcentagem de mortes por nível de Sódio Sérico\n",
    "dados.groupby([\"nivelSeSodium\"])[[\"DEATH_EVENT\"]].agg(['count', 'mean'])"
   ]
  },
  {
   "cell_type": "markdown",
   "metadata": {},
   "source": [
    "- CONCLUSÕES: A maioria das pessoas tinham um nível normal de sódio sérico.\n",
    "    No entanto, entre os pacientes com nível baixo a probabilidade de morte foi a maior entre os grupos"
   ]
  },
  {
   "cell_type": "code",
   "execution_count": null,
   "metadata": {},
   "outputs": [],
   "source": [
    "# Quantidade de pacientes por nível de Sódio Sérico (esquerda)\n",
    "# Porcentagem de pacientes que morreram por nível de Sódio Sérico (direita)\n",
    "\n",
    "fig, axes = plt.subplots(1, 2, figsize=(20, 6))\n",
    "\n",
    "grafico1 = sns.countplot(x=\"nivelSeSodium\", data=dados, ax=axes[0])\n",
    "axes[0].set_title('Quantidade total de pacientes por nível de Sódio Sérico')\n",
    "rotulo(grafico1)\n",
    "\n",
    "grafico2 = sns.barplot(x=\"nivelSeSodium\", y=\"DEATH_EVENT\", data=dados, ci=False, ax=axes[1])\n",
    "axes[1].set_title('Porcentagem de pacientes que morreram por nível de Sódio Sérico')\n",
    "rotulo(grafico2)"
   ]
  },
  {
   "cell_type": "code",
   "execution_count": null,
   "metadata": {},
   "outputs": [],
   "source": [
    "# GRÁFICO Número de pacientes que morreram x sobreviveram por nível de soro sérico\n",
    "fig, ax = plt.subplots(figsize=(8,6))\n",
    "ax.set_title('Número de pacientes que morreram x sobreviveram por nível de Sódio Sérico')\n",
    "grafico = sns.countplot(x=\"nivelSeSodium\", data = dados, hue='DEATH_EVENT')\n",
    "ax.set_xlabel('Nível de Sódio Sérico')\n",
    "ax.set_ylabel('')\n",
    "rotulo(grafico)\n",
    "plt.legend(labels=['Sobreviveu', 'Morreu']);"
   ]
  },
  {
   "cell_type": "markdown",
   "metadata": {},
   "source": [
    "### 4. Serum Creatinine"
   ]
  },
  {
   "cell_type": "markdown",
   "metadata": {},
   "source": [
    "Um teste de creatinina é uma medida de quão bem seus rins estão realizando sua função de filtrar os resíduos de seu sangue.\n",
    "\n",
    "O intervalo típico para creatinina sérica é: **Para homens adultos, 0,74 a 1,35 mg / dL (65,4 a 119,3 micromoles / L) e para mulheres adultas, 0,59 a 1,04 mg / dL (52,2 a 91,9 micromoles / L)**\n",
    "\n",
    "Fonte:https://www.mayoclinic.org/tests-procedures/creatinine-test/about/pac-20384646\n",
    "\n",
    "Outra fonte: \n",
    "\n",
    "Homens: 0,6 a 1,2 mg/dL\n",
    "\n",
    "Mulheres: 0,5 a 1,0 mg/dL"
   ]
  },
  {
   "cell_type": "code",
   "execution_count": null,
   "metadata": {},
   "outputs": [],
   "source": [
    "# Histograma geral do nível de creatinina sérica\n",
    "\n",
    "plt.figure(figsize=(15,5))\n",
    "sns.distplot(dados['serum_creatinine'], kde=False).set(title='Histograma - nível de Creatinina Sérica no sangue (mg/dL)');"
   ]
  },
  {
   "cell_type": "code",
   "execution_count": null,
   "metadata": {},
   "outputs": [],
   "source": [
    "# Níveis de creatinina sérica em relação ao óbito\n",
    "dados.groupby([\"DEATH_EVENT\",'sex'])[[\"serum_creatinine\"]].agg(['count','mean'])"
   ]
  },
  {
   "cell_type": "markdown",
   "metadata": {},
   "source": [
    "- CONCLUSÃO: \n",
    "\n",
    "Entre os óbitos a média de creatinina sérica foi consideravelmente mais alta do que entre os sobreviventes\n",
    "Também entre os sobreviventes, a média se manteve dentro do considerado normal para ambos os sexos.\n",
    "Nos óbitos, a média para mulheres (sex = 0) foi de 1,92 mg/dL, bem maior que o considerado normal (0,5 a 1,0 mg/dL)\n",
    "Para os homens (sex = 1) foi de 1.77 mg/dL, também significativamente maior que o normal (0,6 a 1,2 mg/dL)"
   ]
  },
  {
   "cell_type": "code",
   "execution_count": null,
   "metadata": {},
   "outputs": [],
   "source": [
    "# Criando uma coluna com a classificação do Creatinina Sérica\n",
    "# Mulheres\n",
    "mulheres = dados[dados['sex']==0] # NORMAL Mulheres: 0,5 a 1,0 mg/dL\n",
    "mulheres['cut_serum_creatinine'] = pd.cut(mulheres.serum_creatinine, [0,1.0,9.5], labels=[\"Normal\", \"Acima\"], right=False)\n",
    "# Homens\n",
    "homens = dados[dados['sex']==1] # NORMAL Homens: 0,6 a 1,2 mg/dL\n",
    "homens['cut_serum_creatinine'] = pd.cut(homens.serum_creatinine, [0,1.0,9.5], labels=[\"Normal\", \"Acima\"], right=False)"
   ]
  },
  {
   "cell_type": "code",
   "execution_count": null,
   "metadata": {},
   "outputs": [],
   "source": [
    "# TABELA MULHERES\n",
    "mulheres.groupby(['cut_serum_creatinine',\"DEATH_EVENT\"])[[\"serum_creatinine\"]].agg(['count', 'mean', 'min', 'max'])"
   ]
  },
  {
   "cell_type": "markdown",
   "metadata": {},
   "source": [
    "- Como é possível observar, entre as pacientes com a creatinina sérica elevada ocorreram mais mortes "
   ]
  },
  {
   "cell_type": "code",
   "execution_count": null,
   "metadata": {},
   "outputs": [],
   "source": [
    "# TABELA HOMENS\n",
    "homens.groupby(['cut_serum_creatinine',\"DEATH_EVENT\"])[[\"serum_creatinine\"]].agg(['count', 'mean', 'min', 'max'])"
   ]
  },
  {
   "cell_type": "markdown",
   "metadata": {},
   "source": [
    "- Como é possível observar, entre os pacientes com a creatinina sérica elevada ocorreram mais mortes"
   ]
  },
  {
   "cell_type": "code",
   "execution_count": null,
   "metadata": {},
   "outputs": [],
   "source": [
    "# Gráficos\n",
    "fig, axes = plt.subplots(1, 2, figsize=(20, 6))\n",
    "grafico1 = sns.countplot(x='cut_serum_creatinine', data=mulheres, ax=axes[0], hue='DEATH_EVENT')\n",
    "rotulo(grafico1)\n",
    "axes[0].set_title('Quantidade total de pacientes MULHERES por nível de Creatinina Sérica')\n",
    "plt.legend(labels=['Sobreviveu', 'Morreu']);\n",
    "\n",
    "grafico2 = sns.countplot(x='cut_serum_creatinine', data=homens, ax=axes[1], hue='DEATH_EVENT')\n",
    "rotulo(grafico2)\n",
    "axes[1].set_title('Quantidade total de pacientes HOMENS por nível de Creatinina Sérica')\n",
    "plt.legend(labels=['Sobreviveu', 'Morreu']);"
   ]
  },
  {
   "cell_type": "markdown",
   "metadata": {},
   "source": [
    "- CONCLUSÃO: Dentro os pacientes com a creatinina sérica elevanda, o índice perentual de óbitos foi maior em ambos os sexos"
   ]
  },
  {
   "cell_type": "markdown",
   "metadata": {},
   "source": [
    "### Serum Creatinine e Serum Sodium"
   ]
  },
  {
   "cell_type": "code",
   "execution_count": null,
   "metadata": {},
   "outputs": [],
   "source": [
    "sns.scatterplot(x='serum_sodium', y='serum_creatinine', data=dados, hue='DEATH_EVENT').set(title='Corelação entre S.sodium e S. Creatinine');\n",
    "plt.legend(labels=['Morreu', 'Sobreviveu']);"
   ]
  },
  {
   "cell_type": "markdown",
   "metadata": {},
   "source": [
    "### 5. Follow-up Time"
   ]
  },
  {
   "cell_type": "code",
   "execution_count": null,
   "metadata": {},
   "outputs": [],
   "source": [
    "dados[\"mes\"] = pd.cut(dados.time, [0,30,60,90,120,150,180,210,240,270,290], labels=[\"1\",\"2\",\"3\",\"4\",\"5\",\"6\",\"7\",\"8\",\"9\",\"10\"], right=False)"
   ]
  },
  {
   "cell_type": "code",
   "execution_count": null,
   "metadata": {
    "scrolled": true
   },
   "outputs": [],
   "source": [
    "fig, axes = plt.subplots(1, 2, figsize=(20, 6))\n",
    "graf1 = sns.histplot(data=dados, x=\"mes\", hue=\"DEATH_EVENT\", multiple=\"stack\", bins=9,ax=axes[0])\n",
    "rotulo(graf1)\n",
    "axes[0].set_title('Quantidade de pacientes por mês de Follow-up');\n",
    "axes[0].legend(labels=['Morreu', 'Sobreviveu']);\n",
    "graf2 =sns.barplot(x=\"mes\", y=\"DEATH_EVENT\", data=dados, ci=False, ax=axes[1])\n",
    "axes[1].set_title('Porcentagem de mortes por mês de Follow-up');\n",
    "rotulo(graf2)"
   ]
  },
  {
   "cell_type": "code",
   "execution_count": null,
   "metadata": {},
   "outputs": [],
   "source": [
    "sns.boxplot(x=\"time\", y=\"DEATH_EVENT\",orient=\"h\", data=dados).set(title='Distribuição por tempo de Follow-up');"
   ]
  },
  {
   "cell_type": "markdown",
   "metadata": {},
   "source": [
    "## Colunas de correlação baixíssima com DEATH_EVENT"
   ]
  },
  {
   "cell_type": "markdown",
   "metadata": {},
   "source": [
    "- Categóricas: anaemia, diabetes, high_blood_pressure, sex, smoking\n",
    "- Numéricas: platelets, creatinine_phosphokinase"
   ]
  },
  {
   "cell_type": "markdown",
   "metadata": {},
   "source": [
    "### 1) Creatinine phosphokinase"
   ]
  },
  {
   "cell_type": "markdown",
   "metadata": {},
   "source": [
    "**Uma CPK aumentada, ou que se eleva a partir do primeiro exame, em geral indica que houve lesão do coração ou de outros músculos. Pode também indicar uso intenso de músculos.**\n",
    "\n",
    "A FDA dos Estados Unidos especifica um nível de CPK superior a 50 vezes o limite superior do normal\n",
    "O Painel de Especialistas em Segurança Muscular da National Lipid Association  subdivide ainda mais as elevações da CPK, em relação ao limite superior, em categorias leve (<10 vezes), moderada (10-49 vezes) e alta (≥50 vezes).\n",
    "\n",
    "referência (níveis normais): 10 a 120 mcg/L\n",
    "\n",
    "alteração na CPK:\n",
    "\n",
    "- leve: 121 a 1200 mcg/L\n",
    "- moderada: 1201 a 5880 mcg/L\n",
    "- alta: maior que 6000 mcg/L\n",
    "\n",
    "Fontes: https://prcardio.org/profissionais-saude/creatinofosfoquinase-cpk/\n",
    "\n",
    "http://consultoriorodrigomartinez.com.br/blog/post/cpk-a-enzima-do-exerccio"
   ]
  },
  {
   "cell_type": "markdown",
   "metadata": {},
   "source": [
    "#### Análise dos níveis de alteração de CPK no sangue"
   ]
  },
  {
   "cell_type": "code",
   "execution_count": null,
   "metadata": {},
   "outputs": [],
   "source": [
    "#Criando a coluna nivelCPK que mostra as categorias de nível de CPK no sangue de acordo com o trecho acima \n",
    "\n",
    "dados[\"nivelCPK\"] = pd.cut(dados.creatinine_phosphokinase, [0,120,1200,5880,10000], labels=[\"Nível Normal\", \"Alteração Leve\", \"Alteração Moderada\", \"Alteração Alta\"], right=False)\n",
    "dados"
   ]
  },
  {
   "cell_type": "code",
   "execution_count": null,
   "metadata": {},
   "outputs": [],
   "source": [
    "#HISTOGRAMA DO NÍVEL DE CPK NO SANGUE\n",
    "\n",
    "plt.figure(figsize=(15,8))\n",
    "sns.distplot(dados['creatinine_phosphokinase'], kde=False);\n",
    "plt.title('Histograma - nível de CPK no sangue (mcg/L)');"
   ]
  },
  {
   "cell_type": "markdown",
   "metadata": {},
   "source": [
    "- A grande maioria dos pacientes apresentam nível de CPK entre o nível normal e a alteração leve"
   ]
  },
  {
   "cell_type": "code",
   "execution_count": null,
   "metadata": {},
   "outputs": [],
   "source": [
    "#GRÁFICO DE QUANTIDADE DE PACIENTES DE ACORDO COM O NÍVEL DE CPK NO SANGUE \n",
    "\n",
    "plt.figure(figsize=(14,10))\n",
    "grafico = sns.countplot(x='nivelCPK', data=dados);\n",
    "rotulo(grafico)\n",
    "plt.title(\"Pacientes de acordo com o nível de CPK no sangue\");"
   ]
  },
  {
   "cell_type": "markdown",
   "metadata": {},
   "source": [
    "- A grande maioria dos pacientes apresentam nível de CPK entre o nível normal e a alteração leve"
   ]
  },
  {
   "cell_type": "code",
   "execution_count": null,
   "metadata": {},
   "outputs": [],
   "source": [
    "#ANALISANDO OS ÓBITOS EM RELAÇÃO AO NIVEL DE CPK NO SANGUE\n",
    "plt.figure(figsize=(14,10))\n",
    "sns.histplot(x='nivelCPK', data=dados, hue='DEATH_EVENT', multiple=\"stack\");\n",
    "plt.title(\"Relação de óbitos e não óbitos de acordo com o nível de CPK no sangue\");"
   ]
  },
  {
   "cell_type": "markdown",
   "metadata": {},
   "source": [
    "- Das pessoas com alteração alta, 100% morreram\n",
    "- Das pessoas com alteração leve, mais da metade morreram\n",
    "- Alteração moderada e nível normal de CPK são as menores relações de morte."
   ]
  },
  {
   "cell_type": "code",
   "execution_count": null,
   "metadata": {},
   "outputs": [],
   "source": [
    "#RELAÇÃO DO NÍVEL DE CPK COM MORTE EM QUANTIDADE TOTAL MAS POR CATEGORIA\n",
    "\n",
    "graficoCPK = pd.DataFrame(dados.groupby(\"nivelCPK\")[['DEATH_EVENT']].sum())\n",
    "graficoCPK.reset_index(inplace=True)\n",
    "plt.figure(figsize=(12,8))\n",
    "grafico = sns.barplot(y=\"DEATH_EVENT\", x=\"nivelCPK\", data=graficoCPK);\n",
    "rotulo(grafico)\n",
    "plt.title(\"Nível de CPK no sangue x Mortes\");"
   ]
  },
  {
   "cell_type": "markdown",
   "metadata": {},
   "source": [
    "- Das pessoas que morreram, a maioria tinha alteração leve de CPK no sangue"
   ]
  },
  {
   "cell_type": "code",
   "execution_count": null,
   "metadata": {},
   "outputs": [],
   "source": [
    "#GRÁFICO DAS OCORRÊNCIAS DE MORTE EM % COM RELAÇÃO AO NÍVEL DE CPK EM CATEGORIAS\n",
    "\n",
    "plt.figure(figsize=(10,6))\n",
    "grafico = sns.barplot(y='DEATH_EVENT', x='nivelCPK', data = dados, ci=False);\n",
    "rotulo(grafico)\n",
    "plt.title(\"Ocorrência de morte de acordo com o nível de CPK no sangue\");"
   ]
  },
  {
   "cell_type": "markdown",
   "metadata": {},
   "source": [
    "- Dos pacientes que tiveram alteração alta, todos morreram\n",
    "- Apesar de ser raro ter alteração alta (apenas 3 de 299 pacientes), apresentar CPK em nível alto é um fator de alto risco\n",
    "- O que chama atenção é que a alteração moderada é a que possui menor ocorrência de morte (cerca de 20%)"
   ]
  },
  {
   "cell_type": "code",
   "execution_count": null,
   "metadata": {},
   "outputs": [],
   "source": [
    "#ANÁLISE DA RELAÇÃO ENTRE NIVEL DE CPK, SEXO E OCORRENCIA DE MORTE\n",
    "\n",
    "graficoSexCPK = pd.DataFrame(dados.groupby([\"nivelCPK\", \"sex\"])[['DEATH_EVENT']].mean())\n",
    "graficoSexCPK.reset_index(inplace=True)\n",
    "plt.figure(figsize=(14,10))\n",
    "grafico = sns.barplot(y=\"DEATH_EVENT\", x=\"nivelCPK\", data=graficoSexCPK, hue=\"sex\");\n",
    "rotulo(grafico)\n",
    "plt.title(\"Relação do nível de CPK no sangue com a ocorrência de óbito, em homens e mulheres \");"
   ]
  },
  {
   "cell_type": "markdown",
   "metadata": {},
   "source": [
    "- Mulheres não apresentaram nível alto de CPK no sangue\n",
    "- Mulheres tiveram maior ocorrência de óbito nas classes de alteração leve e moderada, em relação aos homens\n",
    "- Porém em níveis normais de CPK, homens apresentaram maior ocorrência de óbito\n",
    "- Por isso não podemos analisar o nível de CPK de maneira isolada"
   ]
  },
  {
   "cell_type": "markdown",
   "metadata": {},
   "source": [
    "#### Análise da relação do nível de CPK no sangue com outros fatores associados"
   ]
  },
  {
   "cell_type": "code",
   "execution_count": null,
   "metadata": {},
   "outputs": [],
   "source": [
    "graficoAnemiaCPK = pd.DataFrame(dados.groupby([\"nivelCPK\", \"anaemia\"])[['DEATH_EVENT']].sum())\n",
    "graficoAnemiaCPK.reset_index(inplace=True)\n",
    "\n",
    "graficoDiabetesCPK = pd.DataFrame(dados.groupby([\"nivelCPK\", \"diabetes\"])[['DEATH_EVENT']].sum())\n",
    "graficoDiabetesCPK.reset_index(inplace=True)\n",
    "\n",
    "graficoFumanteCPK = pd.DataFrame(dados.groupby([\"nivelCPK\", \"smoking\"])[['DEATH_EVENT']].sum())\n",
    "graficoFumanteCPK.reset_index(inplace=True)\n",
    "\n",
    "graficoPressaoCPK = pd.DataFrame(dados.groupby([\"nivelCPK\", \"high_blood_pressure\"])[['DEATH_EVENT']].sum())\n",
    "graficoPressaoCPK.reset_index(inplace=True)\n",
    "\n",
    "fig, axes = plt.subplots(2, 2, figsize=(15,10))\n",
    "fig.suptitle('Relação do nível de CPK no sangue com variáveis categóricas')\n",
    "sns.barplot(y=\"DEATH_EVENT\", x= \"nivelCPK\", data=graficoAnemiaCPK, hue='anaemia', ax = axes[0,0]);\n",
    "sns.barplot(y=\"DEATH_EVENT\", x=\"nivelCPK\", data=graficoDiabetesCPK, hue=\"diabetes\", ax = axes[0,1]);\n",
    "sns.barplot(y=\"DEATH_EVENT\", x=\"nivelCPK\", data=graficoFumanteCPK, hue=\"smoking\", ax = axes[1,0]);\n",
    "sns.barplot(y=\"DEATH_EVENT\", x=\"nivelCPK\", data=graficoPressaoCPK, hue=\"high_blood_pressure\", ax = axes[1,1]);"
   ]
  },
  {
   "cell_type": "code",
   "execution_count": null,
   "metadata": {},
   "outputs": [],
   "source": [
    "fig, axes = plt.subplots(2, 2, figsize=(15,10))\n",
    "fig.suptitle('Relação do nível de CPK no sangue com variáveis contínuas')\n",
    "sns.scatterplot(x='creatinine_phosphokinase', y='serum_creatinine', data=dados, hue='DEATH_EVENT', ax = axes[0,0]);\n",
    "sns.scatterplot(x='creatinine_phosphokinase', y='ejection_fraction', data=dados, hue='DEATH_EVENT', ax = axes[0,1]);\n",
    "sns.scatterplot(x='creatinine_phosphokinase', y='serum_sodium', data=dados, hue='DEATH_EVENT', ax = axes[1,0]);\n",
    "sns.scatterplot(x='creatinine_phosphokinase', y='platelets', data=dados, hue='DEATH_EVENT', ax = axes[1,1]);"
   ]
  },
  {
   "cell_type": "markdown",
   "metadata": {},
   "source": [
    "- Pacientes com creatinina sérica acima do nível normal (1,1mg/dL em média) e com alteração leve no nível de CPK(121 a 1200mcg/L) apresentaram maior ocorrência de morte\n",
    "- Pacientes com ejeção sanguínea abaixo do nível normal (abaixo de 50, mas mais precisamente abaixo de 30%), e alteração leve ou moderada de CPK no sangue tiveram maior ocorrência de óbito\n",
    "- Pacientes que apresentaram Hiponatremia (sódio sérico abaixo de 135 mEq/L) e alteração leve de CPK no sangue tiveram maior ocorrência de óbito\n",
    "- Não há relação considerável entre a quantidade de plaquetas (qtd normal de 140.000 a 450.000) e o nível de CPK no sangue com a ocorrência de óbitos\n"
   ]
  },
  {
   "cell_type": "markdown",
   "metadata": {},
   "source": [
    "### 2) Platelets"
   ]
  },
  {
   "cell_type": "markdown",
   "metadata": {},
   "source": [
    "Uma contagem normal de plaquetas varia de **150.000 a 450.000 plaquetas por microlitro de sangue**.\n",
    "\n",
    "Se você tiver muitas plaquetas, pode aumentar o risco de coagulação. Mas muitas vezes o risco cardiovascular tem mais a ver com a função plaquetária do que com o número de plaquetas. Por exemplo, você pode ter um número saudável de plaquetas, mas se elas estiverem grudadas demais, isso pode aumentar sua chance de ter um ataque cardíaco ou derrame.\n",
    "\n",
    "Fonte:https://www.hopkinsmedicine.org/health/conditions-and-diseases/what-are-platelets-and-why-are-they-important"
   ]
  },
  {
   "cell_type": "code",
   "execution_count": null,
   "metadata": {},
   "outputs": [],
   "source": [
    "dados.groupby(\"DEATH_EVENT\")[[\"platelets\"]].agg([\"max\",\"min\",\"mean\"])"
   ]
  },
  {
   "cell_type": "code",
   "execution_count": null,
   "metadata": {},
   "outputs": [],
   "source": [
    "sns.histplot(data=dados, x=\"platelets\", hue=\"DEATH_EVENT\", multiple=\"stack\");\n",
    "plt.legend(labels=['Morreu', 'Sobreviveu']);"
   ]
  },
  {
   "cell_type": "code",
   "execution_count": null,
   "metadata": {},
   "outputs": [],
   "source": [
    "graf3= sns.barplot(data=dados, x=\"DEATH_EVENT\", y=\"platelets\", ci=False)\n",
    "plt.xticks(ticks=[0, 1], labels=['Morreu', 'Sobreviveu']);\n",
    "rotulo(graf3)"
   ]
  },
  {
   "cell_type": "markdown",
   "metadata": {},
   "source": [
    "### 3) Anaemia"
   ]
  },
  {
   "cell_type": "code",
   "execution_count": null,
   "metadata": {},
   "outputs": [],
   "source": [
    "dados.groupby(\"DEATH_EVENT\")[[\"anaemia\"]].agg(['count','sum', 'mean'])"
   ]
  },
  {
   "cell_type": "code",
   "execution_count": null,
   "metadata": {},
   "outputs": [],
   "source": [
    "graf4 = sns.countplot(data=dados, x='anaemia', hue='DEATH_EVENT');\n",
    "plt.legend(labels=['Sobreviveu', 'Morreu']);\n",
    "plt.xticks(ticks=[0, 1], labels=['Não', 'Sim']);\n",
    "rotulo(graf4)"
   ]
  },
  {
   "cell_type": "code",
   "execution_count": null,
   "metadata": {},
   "outputs": [],
   "source": [
    "fig, axes = plt.subplots(1, 2, figsize=(20, 6))\n",
    "graf5=sns.barplot(x=\"anaemia\", y=\"DEATH_EVENT\", data=dados, ci=False, ax=axes[0]);\n",
    "rotulo(graf5)\n",
    "graf6=sns.barplot(x=\"DEATH_EVENT\", y=\"anaemia\", data=dados, ci=False, ax=axes[1]);\n",
    "rotulo(graf6)"
   ]
  },
  {
   "cell_type": "markdown",
   "metadata": {},
   "source": [
    "- Pacientes anêmicos parecem ter uma maior porcentagem de óbitos."
   ]
  },
  {
   "cell_type": "markdown",
   "metadata": {},
   "source": [
    "### 4) Diabetes "
   ]
  },
  {
   "cell_type": "code",
   "execution_count": null,
   "metadata": {},
   "outputs": [],
   "source": [
    "dados.groupby(\"DEATH_EVENT\")[[\"diabetes\"]].agg(['count','sum', 'mean'])"
   ]
  },
  {
   "cell_type": "code",
   "execution_count": null,
   "metadata": {},
   "outputs": [],
   "source": [
    "graf7 = sns.countplot(data=dados, x='diabetes', hue='DEATH_EVENT');\n",
    "rotulo(graf7)\n",
    "plt.legend(labels=['Sobreviveu', 'Morreu']);\n",
    "plt.xticks(ticks=[0, 1], labels=['Não', 'Sim']);"
   ]
  },
  {
   "cell_type": "code",
   "execution_count": null,
   "metadata": {},
   "outputs": [],
   "source": [
    "fig, axes = plt.subplots(1, 2, figsize=(20, 6))\n",
    "graf8 = sns.barplot(x=\"diabetes\", y=\"DEATH_EVENT\", data=dados, ci=False, ax=axes[0]);\n",
    "plt.legend(labels=['Morreu', 'Sobreviveu']);\n",
    "rotulo(graf8)\n",
    "graf9 = sns.barplot(x=\"DEATH_EVENT\", y=\"diabetes\", data=dados, ci=False, ax=axes[1]);\n",
    "rotulo(graf9)"
   ]
  },
  {
   "cell_type": "markdown",
   "metadata": {},
   "source": [
    "- Aparentemente a diabetes não afeta significantemente as chances de de óbito em pacientes que tiveram falhas cardíacas."
   ]
  },
  {
   "cell_type": "markdown",
   "metadata": {},
   "source": [
    "### 5) High blood pressure "
   ]
  },
  {
   "cell_type": "code",
   "execution_count": null,
   "metadata": {},
   "outputs": [],
   "source": [
    "dados.groupby(\"DEATH_EVENT\")[[\"high_blood_pressure\"]].agg(['count','sum', 'mean'])"
   ]
  },
  {
   "cell_type": "code",
   "execution_count": null,
   "metadata": {},
   "outputs": [],
   "source": [
    "graf10 = sns.countplot(data=dados, x='high_blood_pressure', hue='DEATH_EVENT');\n",
    "plt.legend(labels=['Sobreviveu', 'Morreu']);\n",
    "plt.xticks(ticks=[0, 1], labels=['Não', 'Sim']);\n",
    "rotulo(graf10)"
   ]
  },
  {
   "cell_type": "code",
   "execution_count": null,
   "metadata": {},
   "outputs": [],
   "source": [
    "fig, axes = plt.subplots(1, 2, figsize=(20, 6))\n",
    "graf11=sns.barplot(x=\"high_blood_pressure\", y=\"DEATH_EVENT\", data=dados, ci=False, ax=axes[0]);\n",
    "plt.legend(labels=['Morreu', 'Sobreviveu']);\n",
    "rotulo(graf11)\n",
    "graf12=sns.barplot(x=\"DEATH_EVENT\", y=\"high_blood_pressure\", data=dados, ci=False, ax=axes[1]);\n",
    "rotulo(graf12)"
   ]
  },
  {
   "cell_type": "markdown",
   "metadata": {},
   "source": [
    "- As pessoas com pressão alta apresentam um porcentagem maior de mortes."
   ]
  },
  {
   "cell_type": "markdown",
   "metadata": {},
   "source": [
    "### 6) Sex"
   ]
  },
  {
   "cell_type": "code",
   "execution_count": null,
   "metadata": {},
   "outputs": [],
   "source": [
    "dados.groupby(\"DEATH_EVENT\")[[\"sex\"]].agg(['count','sum', 'mean'])"
   ]
  },
  {
   "cell_type": "markdown",
   "metadata": {},
   "source": [
    "O valor 1 corresponde a homens.\n",
    "\n",
    "Ou seja, \n",
    "\n",
    "DEATH_EVENT______H_______M\n",
    "\n",
    "     0          132      71\n",
    "     \n",
    "     1          62       64"
   ]
  },
  {
   "cell_type": "code",
   "execution_count": null,
   "metadata": {},
   "outputs": [],
   "source": [
    "graf13 = sns.countplot(data=dados, x='sex', hue='DEATH_EVENT');\n",
    "plt.legend(labels=['Sobreviveu', 'Morreu']);\n",
    "plt.xticks(ticks=[0, 1], labels=['Mulher', 'Homem']);\n",
    "rotulo(graf13)"
   ]
  },
  {
   "cell_type": "code",
   "execution_count": null,
   "metadata": {},
   "outputs": [],
   "source": [
    "graf14 = sns.barplot(x=\"sex\", y=\"DEATH_EVENT\", data=dados, ci=False);\n",
    "rotulo(graf14)"
   ]
  },
  {
   "cell_type": "markdown",
   "metadata": {},
   "source": [
    "- A maioria dos pacientes do estudo é do sexo masculino.\n",
    "\n",
    "- O gráfico mostra que não há diferença significativa nas porcentagens de óbitos entre os sexos. "
   ]
  },
  {
   "cell_type": "markdown",
   "metadata": {},
   "source": [
    "### 7) Smoking"
   ]
  },
  {
   "cell_type": "code",
   "execution_count": null,
   "metadata": {},
   "outputs": [],
   "source": [
    "dados.groupby(\"DEATH_EVENT\")[[\"smoking\"]].agg(['count','sum', 'mean'])"
   ]
  },
  {
   "cell_type": "code",
   "execution_count": null,
   "metadata": {},
   "outputs": [],
   "source": [
    "graf15 = sns.countplot(data=dados, x='smoking', hue='DEATH_EVENT');\n",
    "plt.legend(labels=['Sobreviveu', 'Morreu']);\n",
    "plt.xticks(ticks=[0, 1], labels=['Não', 'Sim']);\n",
    "rotulo(graf15)"
   ]
  },
  {
   "cell_type": "code",
   "execution_count": null,
   "metadata": {},
   "outputs": [],
   "source": [
    "fig, axes = plt.subplots(1, 2, figsize=(20, 6))\n",
    "graf16 = sns.barplot(x=\"smoking\", y=\"DEATH_EVENT\", data=dados, ci=False, ax=axes[0]);\n",
    "plt.legend(labels=['Morreu', 'Sobreviveu']);\n",
    "rotulo(graf16)\n",
    "graf17 = sns.barplot(x=\"DEATH_EVENT\", y=\"smoking\", data=dados, ci=False, ax=axes[1]);\n",
    "rotulo(graf17)"
   ]
  },
  {
   "cell_type": "markdown",
   "metadata": {},
   "source": [
    "- Podemos constatar que a maioria (203) dos pacientes não é fumante. E parece não haver relação significativa com o tabagismo e a quantidade de mortes."
   ]
  },
  {
   "cell_type": "markdown",
   "metadata": {},
   "source": [
    "## Referências\n",
    "\n",
    "- SALLES, Rodrigo. Correlação: direto ao ponto. *BrData*, 2018. Disponível em: <https://medium.com/brdata/correla%C3%A7%C3%A3o-direto-ao-ponto-9ec1d48735fb>. Acesso em: 20 de novembro de 2021.\n",
    "\n",
    "\n",
    "- EJECTION Fraction: What the Numbers Mean. *Penn Medicine*, 2014. Disponível em: <https://www.pennmedicine.org/updates/blogs/heart-and-vascular-blog/2014/october/ejection-fraction-what-the-numbers-mean>. Acesso em: 20 de novembro de 2021."
   ]
  },
  {
   "cell_type": "code",
   "execution_count": null,
   "metadata": {},
   "outputs": [],
   "source": []
  }
 ],
 "metadata": {
  "interpreter": {
   "hash": "2ce5d9ab66427cd3994cbe9a9aaa426fd383a72a1b5271f104ff6e41e4d3e221"
  },
  "kernelspec": {
   "display_name": "Python 3",
   "language": "python",
   "name": "python3"
  },
  "language_info": {
   "codemirror_mode": {
    "name": "ipython",
    "version": 3
   },
   "file_extension": ".py",
   "mimetype": "text/x-python",
   "name": "python",
   "nbconvert_exporter": "python",
   "pygments_lexer": "ipython3",
   "version": "3.8.5"
  }
 },
 "nbformat": 4,
 "nbformat_minor": 2
}
