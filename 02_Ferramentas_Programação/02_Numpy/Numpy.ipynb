{
 "cells": [
  {
   "cell_type": "markdown",
   "metadata": {},
   "source": [
    "# NumPy EEEEii -- Uyanê\n",
    "\n",
    "## O que é o NumPy?\n",
    "\n",
    "O NumPy é uma poderosa biblioteca Python usada principalmente para realizar cálculos em Arrays Multidimensionais. O NumPy fornece um grande conjunto de funções e operações de biblioteca que ajudam os programadores a executar facilmente cálculos numéricos. Esses tipos de cálculos numéricos são amplamente utilizados em tarefas como:\n",
    "\n",
    "* `Tarefas matemáticas`: NumPy é bastante útil para executar várias tarefas matemáticas como integração numérica, diferenciação, interpolação, extrapolação e muitas outras. O NumPy possui também funções incorporadas para álgebra linear e geração de números aleatórios. É uma biblioteca que pode ser usada em conjuto do <a href='https://github.com/scipy/scipy'>SciPy</a> e Matplotlib, substituindo o MATLAB quando se trata de tarefas matemáticas.\n",
    "\n",
    "* `Processamento de Imagem e Computação Gráfica`: Imagens no computador são representadas como Arrays Multidimensionais de números. NumPy torna-se a escolha mais natural para o mesmo. O NumPy, na verdade, fornece algumas excelentes funções de biblioteca para rápida manipulação de imagens. Alguns exemplos são o espelhamento de uma imagem, a rotação de uma imagem por um determinado ângulo etc.\n",
    "\n",
    "* `Modelos de Machine Learning`: Ao escrever algoritmos de Machine Learning, supõe-se que se realize vários cálculos numéricos em Array. Por exemplo, multiplicação de Arrays, transposição, adição, etc. O NumPy fornece uma excelente biblioteca para cálculos fáceis (em termos de escrita de código) e rápidos (em termos de velocidade). Os Arrays NumPy são usados para armazenar os dados de treinamento, bem como os parâmetros dos modelos de Machine Learning.\n"
   ]
  },
  {
   "cell_type": "markdown",
   "metadata": {},
   "source": [
    "## Instalando\n",
    "\n",
    "Existem diversas formas de instalar o numpy. A mais simples é instalar o pacote Anaconda (https://www.anaconda.com/distribution/) que já vem com o Python e diversas bibliotecas científicas e ciência de dados instaladas.\n",
    "\n",
    "Outra forma, caso você já tenha o python instalado mas não o numpy, é o utilizar o gerenciador e pacotes pip, através do comando no seu **terminal**:\n",
    "\n",
    "`$ pip install numpy`\n",
    "\n",
    "ou dentro do jupyter\n",
    "\n",
    "`!pip install numpy`"
   ]
  },
  {
   "cell_type": "code",
   "execution_count": 1,
   "metadata": {},
   "outputs": [
    {
     "name": "stdout",
     "output_type": "stream",
     "text": [
      "Requirement already satisfied: numpy in c:\\users\\uyane\\anaconda3\\lib\\site-packages (1.20.1)\n"
     ]
    }
   ],
   "source": [
    "!pip install numpy"
   ]
  },
  {
   "cell_type": "markdown",
   "metadata": {},
   "source": [
    "## Explorando a API do NumPy\n",
    "### Importando numpy com o alias np\n",
    "\n",
    "`np` é uma abreviação amplamente utilizada na comunidade python para o numpy."
   ]
  },
  {
   "cell_type": "code",
   "execution_count": 3,
   "metadata": {},
   "outputs": [],
   "source": [
    "import numpy as np"
   ]
  },
  {
   "cell_type": "markdown",
   "metadata": {},
   "source": [
    "### 1D arrays\n",
    "\n",
    "Array unidimensional, também chamado de vetor ou até mesmo matriz de 1 dimensão:\n"
   ]
  },
  {
   "cell_type": "code",
   "execution_count": 3,
   "metadata": {},
   "outputs": [
    {
     "name": "stdout",
     "output_type": "stream",
     "text": [
      "[7 2 3]\n"
     ]
    }
   ],
   "source": [
    "#Cria um array \n",
    "a = np.array([7, 2, 3])\n",
    "print(a)"
   ]
  },
  {
   "cell_type": "code",
   "execution_count": 4,
   "metadata": {},
   "outputs": [
    {
     "data": {
      "text/plain": [
       "7"
      ]
     },
     "execution_count": 4,
     "metadata": {},
     "output_type": "execute_result"
    }
   ],
   "source": [
    "#Localiza o elemento no índice\n",
    "a[0]"
   ]
  },
  {
   "cell_type": "code",
   "execution_count": 5,
   "metadata": {},
   "outputs": [
    {
     "data": {
      "text/plain": [
       "array([7, 2, 3])"
      ]
     },
     "execution_count": 5,
     "metadata": {},
     "output_type": "execute_result"
    }
   ],
   "source": [
    "#Sem colocar o print ele mostra em um outro formato:\n",
    "a"
   ]
  },
  {
   "cell_type": "markdown",
   "metadata": {},
   "source": [
    "Checando o tipo da variável a:"
   ]
  },
  {
   "cell_type": "code",
   "execution_count": 7,
   "metadata": {},
   "outputs": [
    {
     "data": {
      "text/plain": [
       "numpy.ndarray"
      ]
     },
     "execution_count": 7,
     "metadata": {},
     "output_type": "execute_result"
    }
   ],
   "source": [
    "type(a)\n",
    "#retorna o tipo da variável"
   ]
  },
  {
   "cell_type": "markdown",
   "metadata": {},
   "source": [
    "o nd significa n-dimensional\n"
   ]
  },
  {
   "cell_type": "markdown",
   "metadata": {},
   "source": [
    "### Checando o tipo de dados do array\n",
    "\n",
    "Diversos tipos de dados são possíveis em um array numpy, os mais comuns são os numéricos:\n",
    "\n",
    "    int32\n",
    "    int64\n",
    "    float32\n",
    "    float64\n"
   ]
  },
  {
   "cell_type": "code",
   "execution_count": 9,
   "metadata": {},
   "outputs": [
    {
     "data": {
      "text/plain": [
       "dtype('int32')"
      ]
     },
     "execution_count": 9,
     "metadata": {},
     "output_type": "execute_result"
    }
   ],
   "source": [
    "#Checando o tipo dos dados\n",
    "a.dtype"
   ]
  },
  {
   "cell_type": "markdown",
   "metadata": {},
   "source": [
    "### Substituindo elementos\n",
    "Se trocarmos um elemento na posição 0 para o valor 10, dará certo:"
   ]
  },
  {
   "cell_type": "code",
   "execution_count": 10,
   "metadata": {},
   "outputs": [
    {
     "name": "stdout",
     "output_type": "stream",
     "text": [
      "[10  2  3]\n"
     ]
    }
   ],
   "source": [
    "a[0] = 10\n",
    "print(a)"
   ]
  },
  {
   "cell_type": "markdown",
   "metadata": {},
   "source": [
    "Mas, se trocarmos para ponto flutuante, o numpy irá truncar a parte decimal, dado que o array que criamos é inteiro."
   ]
  },
  {
   "cell_type": "code",
   "execution_count": 15,
   "metadata": {},
   "outputs": [
    {
     "name": "stdout",
     "output_type": "stream",
     "text": [
      "[2 2 3]\n"
     ]
    }
   ],
   "source": [
    "a[0] = 2.99\n",
    "#Não será aceito a troca acima, pois o array a é do tipo int, \n",
    "#então ele trasnformaria o ponto flutuante em um inteiro (desconsiderando os decimais)\n",
    "print(a)"
   ]
  },
  {
   "cell_type": "markdown",
   "metadata": {},
   "source": [
    "E se quisermos um dos elementos sendo um texto como fazíamos com as listas?"
   ]
  },
  {
   "cell_type": "code",
   "execution_count": 16,
   "metadata": {},
   "outputs": [
    {
     "name": "stdout",
     "output_type": "stream",
     "text": [
      "Essa é a lista:  [1, 2, 'LC', 4]\n",
      "Esse é o array:  ['1' '2' 'LC' '4']\n"
     ]
    }
   ],
   "source": [
    "lista = [1, 2, 'LC', 4]\n",
    "array = np.array([1, 2, 'LC', 4])\n",
    "\n",
    "print(\"Essa é a lista: \", lista)\n",
    "print(\"Esse é o array: \", array)\n",
    "\n",
    "#Os arrays transformam todos os dados no mesmo tipo para melhor desempenho, \n",
    "#por isso todos foram transformados em string"
   ]
  },
  {
   "cell_type": "code",
   "execution_count": 19,
   "metadata": {},
   "outputs": [
    {
     "name": "stdout",
     "output_type": "stream",
     "text": [
      "[['1' '2' '1.4' '4']\n",
      " ['2' 'lc' '4' '5']]\n"
     ]
    }
   ],
   "source": [
    "#Sim, ele transforma todas as dimensões do array\n",
    "teste = np.array([[1,2,1.4,4], [2,'lc',4,5]])\n",
    "print(teste)"
   ]
  },
  {
   "cell_type": "markdown",
   "metadata": {},
   "source": [
    "O array converte todos os elementos para string. **O numpy não aceita dados com tipos diferentes.** Ter um tipo único, permite o numpy ser muito mais rápido."
   ]
  },
  {
   "cell_type": "markdown",
   "metadata": {},
   "source": [
    "### Porque usar numpy e não listas?\n",
    "#### Numpy x Lists\n",
    "\n",
    "    Tamanho - Numpy necessita de menos espaço\n",
    "    Performance - escrito para ter alta performance\n",
    "    Funcionalidade - SciPy e NumPy possuem operações de algebra linear built in.\n",
    "\n",
    "<a href=\"https://webcourses.ucf.edu/courses/1249560/pages/python-lists-vs-numpy-arrays-what-is-the-difference\" target=\"_blank\">Referência</a> "
   ]
  },
  {
   "cell_type": "markdown",
   "metadata": {},
   "source": [
    "#### Tempo de processamento"
   ]
  },
  {
   "cell_type": "code",
   "execution_count": 22,
   "metadata": {},
   "outputs": [
    {
     "name": "stdout",
     "output_type": "stream",
     "text": [
      "Listas: 0.00598454475402832 \n",
      "Numpy: 0.000997781753540039\n",
      "Numpy is in this example 5.997849462365592 faster!\n"
     ]
    }
   ],
   "source": [
    "\"\"\"\n",
    "Código comparando performance entre numpy e listas em uma soma de arrays\n",
    "\"\"\"\n",
    "\n",
    "import time\n",
    "import numpy as np\n",
    "\n",
    "size_of_vec = 10000\n",
    "\n",
    "#Versão usando lista em python:\n",
    "def pure_python_version():\n",
    "    t1 = time.time()\n",
    "    X = range(size_of_vec)\n",
    "    Y = range(size_of_vec)\n",
    "    Z = [X[i] + Y[i] for i in range(len(X)) ]\n",
    "    return time.time() - t1\n",
    "\n",
    "#Versão usando numpy:\n",
    "def numpy_version():\n",
    "    t1 = time.time()\n",
    "    X = np.arange(size_of_vec)\n",
    "    Y = np.arange(size_of_vec)\n",
    "    Z = X + Y\n",
    "    return time.time() - t1\n",
    "\n",
    "#t1 é o tempo gasto para fazer usando listas\n",
    "t1 = pure_python_version()\n",
    "\n",
    "#t2 é o tempo gasto para fazer usando numpy\n",
    "t2 = numpy_version()\n",
    "\n",
    "#Comparação entre os tempos:\n",
    "print(f\"Listas: {t1} \\nNumpy: {t2}\")\n",
    "print(\"Numpy is in this example \" + str(t1/t2) + \" faster!\")"
   ]
  },
  {
   "cell_type": "markdown",
   "metadata": {},
   "source": [
    "#### Diferença visual"
   ]
  },
  {
   "cell_type": "code",
   "execution_count": 23,
   "metadata": {},
   "outputs": [
    {
     "name": "stdout",
     "output_type": "stream",
     "text": [
      "Essa é a lista:  [1, 2, 3, 4]\n",
      "Esse é o array:  [1 2 3 4]\n"
     ]
    }
   ],
   "source": [
    "lista = [1, 2, 3, 4]\n",
    "array = np.array([1, 2, 3, 4])\n",
    "\n",
    "#Observe que a lista é mostrada com vírgula \n",
    "print(\"Essa é a lista: \", lista)\n",
    "print(\"Esse é o array: \", array)"
   ]
  },
  {
   "cell_type": "markdown",
   "metadata": {},
   "source": [
    "Repare que no array não temos a separação por vírgulas.\n",
    "<br>\n"
   ]
  },
  {
   "cell_type": "markdown",
   "metadata": {},
   "source": [
    "\n",
    "### 2D arrays\n",
    "\n",
    "Matrizes podem ser consideradas um array de 2 dimensões.\n",
    "_________________________________________________________________________________\n",
    "\n",
    "Observação:\n",
    "\n",
    "O NumPy possui também uma estrutura, matriz, mas não é recomendado utilizá-la pela própria documentação oficial e poderá ser removida no futuro.\n",
    "_________________________________________________________________________________\n",
    "\n",
    "Para criar uma matriz, basta aninhar múltiplas listas dentro de uma lista, como o exemplo a seguir:\n"
   ]
  },
  {
   "cell_type": "code",
   "execution_count": 220,
   "metadata": {},
   "outputs": [
    {
     "name": "stdout",
     "output_type": "stream",
     "text": [
      "[[9. 8. 7.]\n",
      " [6. 5. 4.]]\n"
     ]
    }
   ],
   "source": [
    "b = np.array([[9.0, 8.0, 7.0],\n",
    "              [6.0, 5.0, 4.0]])\n",
    "print(b)"
   ]
  },
  {
   "cell_type": "markdown",
   "metadata": {},
   "source": [
    "### Exemplo 3D\n",
    "\n",
    "\n",
    "<img src=\"tensor_3-2-5.png\"  style=\"width: 500px\" />"
   ]
  },
  {
   "cell_type": "code",
   "execution_count": 25,
   "metadata": {},
   "outputs": [
    {
     "data": {
      "text/plain": [
       "array([[[ 0,  1,  2,  3,  4],\n",
       "        [ 5,  6,  7,  8,  9]],\n",
       "\n",
       "       [[10, 11, 12, 13, 14],\n",
       "        [15, 16, 17, 18, 19]],\n",
       "\n",
       "       [[20, 21, 22, 23, 24],\n",
       "        [25, 26, 27, 28, 29]]])"
      ]
     },
     "execution_count": 25,
     "metadata": {},
     "output_type": "execute_result"
    }
   ],
   "source": [
    "c = np.array([[[0,   1,  2,  3,  4], [ 5,  6,  7,  8,  9]], \n",
    "              [[10, 11, 12, 13, 14], [15, 16, 17, 18, 19]],\n",
    "              [[20, 21, 22, 23, 24], [25, 26, 27, 28, 29]]])\n",
    "c"
   ]
  },
  {
   "cell_type": "markdown",
   "metadata": {},
   "source": [
    "### Propriedades\n",
    "#### Dimensão e formato\n",
    "\n",
    "Dois conceitos importantes já mencionados acima é o de dimensão, formato e tamanho.\n",
    "\n",
    "Para descobrir essas informações, basta acessar os atributos `ndim`, `shape` e `size`"
   ]
  },
  {
   "cell_type": "code",
   "execution_count": 39,
   "metadata": {},
   "outputs": [
    {
     "data": {
      "text/plain": [
       "array([1, 2, 3, 4, 5, 6])"
      ]
     },
     "execution_count": 39,
     "metadata": {},
     "output_type": "execute_result"
    }
   ],
   "source": [
    "a = np.array([1,2,3,4,5,6])\n",
    "a"
   ]
  },
  {
   "cell_type": "code",
   "execution_count": 40,
   "metadata": {},
   "outputs": [
    {
     "name": "stdout",
     "output_type": "stream",
     "text": [
      "1\n",
      "(6,)\n",
      "6\n"
     ]
    }
   ],
   "source": [
    "#Mostra o número de dimensões:\n",
    "print(a.ndim)\n",
    "\n",
    "#Mostra o formato (linhas, colunas):\n",
    "#Se for de uma dimensão o shape só trás o número de colunas. \n",
    "print(a.shape)\n",
    "\n",
    "#Mostra o número de linhas:\n",
    "print(a.size)"
   ]
  },
  {
   "cell_type": "code",
   "execution_count": 32,
   "metadata": {},
   "outputs": [
    {
     "data": {
      "text/plain": [
       "array([[9., 8., 7.],\n",
       "       [6., 5., 4.]])"
      ]
     },
     "execution_count": 32,
     "metadata": {},
     "output_type": "execute_result"
    }
   ],
   "source": [
    "b"
   ]
  },
  {
   "cell_type": "code",
   "execution_count": 33,
   "metadata": {},
   "outputs": [
    {
     "name": "stdout",
     "output_type": "stream",
     "text": [
      "2\n",
      "(2, 3)\n",
      "6\n"
     ]
    }
   ],
   "source": [
    "#Número de dimensões\n",
    "print(b.ndim)\n",
    "\n",
    "#Mostra o dormato (linhas, colunas):\n",
    "print(b.shape)\n",
    "\n",
    "#Mostra o tanto de elementos:\n",
    "print(b.size)"
   ]
  },
  {
   "cell_type": "code",
   "execution_count": 41,
   "metadata": {},
   "outputs": [
    {
     "data": {
      "text/plain": [
       "array([[[ 0,  1,  2,  3,  4],\n",
       "        [ 5,  6,  7,  8,  9]],\n",
       "\n",
       "       [[10, 11, 12, 13, 14],\n",
       "        [15, 16, 17, 18, 19]],\n",
       "\n",
       "       [[20, 21, 22, 23, 24],\n",
       "        [25, 26, 27, 28, 29]]])"
      ]
     },
     "execution_count": 41,
     "metadata": {},
     "output_type": "execute_result"
    }
   ],
   "source": [
    "c"
   ]
  },
  {
   "cell_type": "code",
   "execution_count": 42,
   "metadata": {},
   "outputs": [
    {
     "name": "stdout",
     "output_type": "stream",
     "text": [
      "3\n",
      "(3, 2, 5)\n",
      "30\n"
     ]
    }
   ],
   "source": [
    "print(c.ndim)\n",
    "print(c.shape)\n",
    "print(c.size)"
   ]
  },
  {
   "cell_type": "markdown",
   "metadata": {},
   "source": [
    "### Acessando e modificando elementos (Indexing & Slicing)\n",
    "\n",
    "Dada a matriz a abaixo:"
   ]
  },
  {
   "cell_type": "code",
   "execution_count": 219,
   "metadata": {},
   "outputs": [
    {
     "name": "stdout",
     "output_type": "stream",
     "text": [
      "[[ 1  2  3  4  5  6  7]\n",
      " [ 8  9 10 11 12 13 14]\n",
      " [15 16 17 18 19 20 21]]\n"
     ]
    }
   ],
   "source": [
    "a = np.array([[1, 2,3, 4, 5, 6, 7], \n",
    "              [8, 9, 10, 11, 12, 13, 14],\n",
    "            [15, 16, 17, 18, 19, 20, 21]])\n",
    "print(a)"
   ]
  },
  {
   "cell_type": "markdown",
   "metadata": {},
   "source": [
    "\n",
    "Podemos acessar um elemento específico de forma similar a lista, utilzando a sintaxe de colchetes, com a diferença de que podemos separar cada posição com vírgulas: <br> <br>\n",
    "$ array[IndiceLinha, IndiceColuna] $\n",
    "\n",
    "Para uma array 2D, temos então a sintaxe:\n",
    "\n",
    "Exemplo:\n"
   ]
  },
  {
   "cell_type": "code",
   "execution_count": 48,
   "metadata": {},
   "outputs": [],
   "source": [
    "a = np.array([[1,2,7,9,3],[4,5,4,3,8]])"
   ]
  },
  {
   "cell_type": "code",
   "execution_count": 59,
   "metadata": {},
   "outputs": [
    {
     "data": {
      "text/plain": [
       "8"
      ]
     },
     "execution_count": 59,
     "metadata": {},
     "output_type": "execute_result"
    }
   ],
   "source": [
    "a[1, 4]"
   ]
  },
  {
   "cell_type": "markdown",
   "metadata": {},
   "source": [
    "Podemos também fazer dessa forma (menos comum):"
   ]
  },
  {
   "cell_type": "code",
   "execution_count": 55,
   "metadata": {},
   "outputs": [
    {
     "data": {
      "text/plain": [
       "8"
      ]
     },
     "execution_count": 55,
     "metadata": {},
     "output_type": "execute_result"
    }
   ],
   "source": [
    "a[1][4] # = a[1, 4]"
   ]
  },
  {
   "cell_type": "markdown",
   "metadata": {},
   "source": [
    "Usar números negativos funciona de trás pra frente a indexação:\n"
   ]
  },
  {
   "cell_type": "code",
   "execution_count": 58,
   "metadata": {},
   "outputs": [
    {
     "data": {
      "text/plain": [
       "5"
      ]
     },
     "execution_count": 58,
     "metadata": {},
     "output_type": "execute_result"
    }
   ],
   "source": [
    "a[1, -4]"
   ]
  },
  {
   "cell_type": "markdown",
   "metadata": {},
   "source": [
    "Para pegar uma linha específica, podemos utilizar a sintaxe  `:` que pode ser lida como \"todos\" daquela dimensão (colunas).\n",
    "\n",
    "Podemos ler então como: linha um, todas as colunas\n"
   ]
  },
  {
   "cell_type": "code",
   "execution_count": 60,
   "metadata": {},
   "outputs": [
    {
     "data": {
      "text/plain": [
       "array([[4, 5, 4, 3, 8]])"
      ]
     },
     "execution_count": 60,
     "metadata": {},
     "output_type": "execute_result"
    }
   ],
   "source": [
    "#Fazendo slicers no array\n",
    "#Pegando toda a linha 1 (o 2 é exclusivo)\n",
    "a[1:2]"
   ]
  },
  {
   "cell_type": "code",
   "execution_count": 67,
   "metadata": {},
   "outputs": [
    {
     "data": {
      "text/plain": [
       "array([[2, 7],\n",
       "       [5, 4]])"
      ]
     },
     "execution_count": 67,
     "metadata": {},
     "output_type": "execute_result"
    }
   ],
   "source": [
    "#Pegando a linha 0 e 1 (o 2 é exclusivo) e os elementos da coluna 1 e 2 (o 3 é exclusivo):\n",
    "a[0:2, 1:3]"
   ]
  },
  {
   "cell_type": "markdown",
   "metadata": {},
   "source": [
    "Também podemos fazer assim simplesmente:\n"
   ]
  },
  {
   "cell_type": "code",
   "execution_count": 64,
   "metadata": {},
   "outputs": [
    {
     "data": {
      "text/plain": [
       "array([4, 5, 4, 3, 8])"
      ]
     },
     "execution_count": 64,
     "metadata": {},
     "output_type": "execute_result"
    }
   ],
   "source": [
    "#Pegando toda a linha 1:\n",
    "a[1]"
   ]
  },
  {
   "cell_type": "markdown",
   "metadata": {},
   "source": [
    "Porém, para coluna específica não tem jeito, precisamos usar `:`.\n",
    "\n",
    "Leia-se: todas as linhas, coluna 2\n"
   ]
  },
  {
   "cell_type": "code",
   "execution_count": 69,
   "metadata": {},
   "outputs": [
    {
     "data": {
      "text/plain": [
       "array([[1, 2, 7, 9, 3],\n",
       "       [4, 5, 4, 3, 8]])"
      ]
     },
     "execution_count": 69,
     "metadata": {},
     "output_type": "execute_result"
    }
   ],
   "source": [
    "#Mostrando o array:\n",
    "a"
   ]
  },
  {
   "cell_type": "code",
   "execution_count": 70,
   "metadata": {},
   "outputs": [
    {
     "data": {
      "text/plain": [
       "array([7, 4])"
      ]
     },
     "execution_count": 70,
     "metadata": {},
     "output_type": "execute_result"
    }
   ],
   "source": [
    "#Pegando todas as linhas, mas só a coluna 2:\n",
    "a[:, 2]"
   ]
  },
  {
   "cell_type": "markdown",
   "metadata": {},
   "source": [
    "O operador `:` também conhecido como slicing, aceita o parâmetro:\n",
    "\n",
    "    start\n",
    "    end\n",
    "    step\n",
    "\n",
    "No formato\n",
    "\n",
    "$ [ startindex : endindex : stepsize ] $ \n",
    "\n",
    "O stepsize basicamente é quantos elementos deve ser pular. Podemos pegar do elemento 1 ao 6 pulando de 2 em 2 por exemplo da linha 0.\n"
   ]
  },
  {
   "cell_type": "code",
   "execution_count": 80,
   "metadata": {},
   "outputs": [
    {
     "name": "stdout",
     "output_type": "stream",
     "text": [
      "[[ 1  2  3  4  5  6  7]\n",
      " [ 8  9 10 11 12 13 14]\n",
      " [15 16 17 18 19 20 21]]\n"
     ]
    }
   ],
   "source": [
    "array1 = np.array([[ 1,  2,  3,  4,  5,  6,  7],\n",
    "                   [ 8,  9, 10, 11, 12, 13, 14],\n",
    "                   [15, 16, 17, 18, 19, 20, 21]])\n",
    "print(array1)"
   ]
  },
  {
   "cell_type": "code",
   "execution_count": 83,
   "metadata": {},
   "outputs": [
    {
     "data": {
      "text/plain": [
       "2"
      ]
     },
     "execution_count": 83,
     "metadata": {},
     "output_type": "execute_result"
    }
   ],
   "source": [
    "array1.ndim"
   ]
  },
  {
   "cell_type": "code",
   "execution_count": 85,
   "metadata": {},
   "outputs": [
    {
     "data": {
      "text/plain": [
       "(3, 7)"
      ]
     },
     "execution_count": 85,
     "metadata": {},
     "output_type": "execute_result"
    }
   ],
   "source": [
    "array1.shape"
   ]
  },
  {
   "cell_type": "code",
   "execution_count": 86,
   "metadata": {},
   "outputs": [
    {
     "data": {
      "text/plain": [
       "21"
      ]
     },
     "execution_count": 86,
     "metadata": {},
     "output_type": "execute_result"
    }
   ],
   "source": [
    "array1.size"
   ]
  },
  {
   "cell_type": "code",
   "execution_count": 91,
   "metadata": {},
   "outputs": [
    {
     "data": {
      "text/plain": [
       "array([[ 2,  4,  6],\n",
       "       [ 9, 11, 13],\n",
       "       [16, 18, 20]])"
      ]
     },
     "execution_count": 91,
     "metadata": {},
     "output_type": "execute_result"
    }
   ],
   "source": [
    "#Linha 0, pegando os elementos de 1 a 5, pulando de 2 em 2.\n",
    "array1[:, 1:6:2]"
   ]
  },
  {
   "cell_type": "markdown",
   "metadata": {},
   "source": [
    "Funciona com negativo também:\n"
   ]
  },
  {
   "cell_type": "code",
   "execution_count": 93,
   "metadata": {},
   "outputs": [
    {
     "data": {
      "text/plain": [
       "array([[ 1,  2,  3,  4,  5,  6,  7],\n",
       "       [ 8,  9, 10, 11, 12, 13, 14],\n",
       "       [15, 16, 17, 18, 19, 20, 21]])"
      ]
     },
     "execution_count": 93,
     "metadata": {},
     "output_type": "execute_result"
    }
   ],
   "source": [
    "array1"
   ]
  },
  {
   "cell_type": "code",
   "execution_count": 95,
   "metadata": {},
   "outputs": [
    {
     "data": {
      "text/plain": [
       "array([2, 3, 4, 5])"
      ]
     },
     "execution_count": 95,
     "metadata": {},
     "output_type": "execute_result"
    }
   ],
   "source": [
    "# negativo na coluna\n",
    "array1[0, 1:-2]"
   ]
  },
  {
   "cell_type": "code",
   "execution_count": 96,
   "metadata": {},
   "outputs": [
    {
     "data": {
      "text/plain": [
       "array([7, 5, 3])"
      ]
     },
     "execution_count": 96,
     "metadata": {},
     "output_type": "execute_result"
    }
   ],
   "source": [
    "# negativo no step\n",
    "array1[0, -1:1:-2]"
   ]
  },
  {
   "cell_type": "markdown",
   "metadata": {},
   "source": [
    "Para mudar um elemento específico, basta usar o operador `=`"
   ]
  },
  {
   "cell_type": "code",
   "execution_count": 97,
   "metadata": {},
   "outputs": [
    {
     "data": {
      "text/plain": [
       "array([[ 1,  2,  3,  4,  5,  6,  7],\n",
       "       [ 8,  9, 10, 11, 12, 13, 14],\n",
       "       [15, 16, 17, 18, 19, 20, 21]])"
      ]
     },
     "execution_count": 97,
     "metadata": {},
     "output_type": "execute_result"
    }
   ],
   "source": [
    "array1"
   ]
  },
  {
   "cell_type": "code",
   "execution_count": 101,
   "metadata": {},
   "outputs": [
    {
     "data": {
      "text/plain": [
       "array([[ 1,  2,  3,  4,  5,  6,  7],\n",
       "       [ 8,  9, 10, 11, 12, -9, 14],\n",
       "       [15, 16, 17, 18, 19, 20, 21]])"
      ]
     },
     "execution_count": 101,
     "metadata": {},
     "output_type": "execute_result"
    }
   ],
   "source": [
    "array1[1,5] = -9\n",
    "array1"
   ]
  },
  {
   "cell_type": "markdown",
   "metadata": {},
   "source": [
    "Mudando uma coluna inteira para ser 5:\n"
   ]
  },
  {
   "cell_type": "code",
   "execution_count": 102,
   "metadata": {},
   "outputs": [
    {
     "name": "stdout",
     "output_type": "stream",
     "text": [
      "[[ 1  2  0  4  5  6  7]\n",
      " [ 8  9  0 11 12 -9 14]\n",
      " [15 16  0 18 19 20 21]]\n"
     ]
    }
   ],
   "source": [
    "array1[:, 2] = 0\n",
    "print(array1)"
   ]
  },
  {
   "cell_type": "code",
   "execution_count": 104,
   "metadata": {},
   "outputs": [
    {
     "data": {
      "text/plain": [
       "array([1, 2, 0, 4, 5, 6, 7])"
      ]
     },
     "execution_count": 104,
     "metadata": {},
     "output_type": "execute_result"
    }
   ],
   "source": [
    "array1[0]"
   ]
  },
  {
   "cell_type": "markdown",
   "metadata": {},
   "source": [
    "Isso mostra uma característica fundamental do array do NumPy:\n",
    "\n",
    "Ao alterar o pedaço da matriz recortada, você altera a matriz original enquanto slicing em listas geram cópias!"
   ]
  },
  {
   "cell_type": "code",
   "execution_count": 105,
   "metadata": {},
   "outputs": [
    {
     "data": {
      "text/plain": [
       "array([[ 1,  2,  3,  4,  5,  6,  7],\n",
       "       [ 8,  9, 10, 11, 12, 13, 14],\n",
       "       [15, 16, 17, 18, 19, 20, 21]])"
      ]
     },
     "execution_count": 105,
     "metadata": {},
     "output_type": "execute_result"
    }
   ],
   "source": [
    "array2 = np.array([[ 1,  2,  3,  4,  5,  6,  7],\n",
    "       [ 8,  9, 10, 11, 12, 13, 14],\n",
    "       [15, 16, 17, 18, 19, 20, 21]])\n",
    "array2"
   ]
  },
  {
   "cell_type": "code",
   "execution_count": 106,
   "metadata": {},
   "outputs": [],
   "source": [
    "matriz = np.array([[1, 2,3, 4, 5, 6, 7], \n",
    "              [8, 9, 10],\n",
    "            [15, 16, 17, 18, 19, 20, 21]], dtype=object)"
   ]
  },
  {
   "cell_type": "code",
   "execution_count": 107,
   "metadata": {},
   "outputs": [
    {
     "data": {
      "text/plain": [
       "array([list([1, 2, 3, 4, 5, 6, 7]), list([8, 9, 10]),\n",
       "       list([15, 16, 17, 18, 19, 20, 21])], dtype=object)"
      ]
     },
     "execution_count": 107,
     "metadata": {},
     "output_type": "execute_result"
    }
   ],
   "source": [
    "matriz"
   ]
  },
  {
   "cell_type": "markdown",
   "metadata": {},
   "source": [
    "De array para lista"
   ]
  },
  {
   "cell_type": "code",
   "execution_count": 108,
   "metadata": {},
   "outputs": [
    {
     "data": {
      "text/plain": [
       "[[12, 13], [19, 20]]"
      ]
     },
     "execution_count": 108,
     "metadata": {},
     "output_type": "execute_result"
    }
   ],
   "source": [
    "array2[1:,4:6].tolist()"
   ]
  },
  {
   "cell_type": "markdown",
   "metadata": {},
   "source": [
    "### Cópias do array"
   ]
  },
  {
   "cell_type": "markdown",
   "metadata": {},
   "source": [
    "Um dos detalhes do numpy que pode facilmente levar à problemas é que se você faz um slide do array você não obtém um vetor totalmente novo. Ele é uma \"view\" do array original o que significa que eles compartilham dos mesmos dados.\n",
    "\n",
    "Esse é o mesmo conceito de que as variáveis são apenas ponteiros e que variáveis distintas podem apontar para o mesmo objeto. This is similar to the idea that variables are just pointers, and that different variables may point to the same object (<a href=\"https://www.practicaldatascience.org/html/exercises/%5B../python_v_r.ipynb%5D\">Python v. R / Variables as Pointers tutorial</a>). No caso de slices as duas variáveis acessam o mesmo dado mas apresentam ele de form distinta. Por exemplo:\n"
   ]
  },
  {
   "cell_type": "code",
   "execution_count": 109,
   "metadata": {},
   "outputs": [
    {
     "data": {
      "text/plain": [
       "array([1, 2, 3, 4])"
      ]
     },
     "execution_count": 109,
     "metadata": {},
     "output_type": "execute_result"
    }
   ],
   "source": [
    "my_array = np.array([1, 2, 3, 4])\n",
    "my_array"
   ]
  },
  {
   "cell_type": "code",
   "execution_count": 111,
   "metadata": {},
   "outputs": [
    {
     "name": "stdout",
     "output_type": "stream",
     "text": [
      "[1 2 3 4]\n"
     ]
    }
   ],
   "source": [
    "print(my_array)"
   ]
  },
  {
   "cell_type": "code",
   "execution_count": 110,
   "metadata": {},
   "outputs": [
    {
     "data": {
      "text/plain": [
       "array([2, 3])"
      ]
     },
     "execution_count": 110,
     "metadata": {},
     "output_type": "execute_result"
    }
   ],
   "source": [
    "my_slice = my_array[1:3]\n",
    "my_slice"
   ]
  },
  {
   "cell_type": "markdown",
   "metadata": {},
   "source": [
    "Uma vez que tanto my_array quanto my_slice apontam para o mesmo dado, mudanças que fizermos em um será propagada para o outro. Se modificarmos a entrada 2 no my_slice, essa mudança irá aparecer no my_array:"
   ]
  },
  {
   "cell_type": "code",
   "execution_count": 112,
   "metadata": {},
   "outputs": [
    {
     "data": {
      "text/plain": [
       "array([-1,  3])"
      ]
     },
     "execution_count": 112,
     "metadata": {},
     "output_type": "execute_result"
    }
   ],
   "source": [
    "my_slice[0] = -1\n",
    "my_slice"
   ]
  },
  {
   "cell_type": "code",
   "execution_count": 113,
   "metadata": {},
   "outputs": [
    {
     "data": {
      "text/plain": [
       "array([ 1, -1,  3,  4])"
      ]
     },
     "execution_count": 113,
     "metadata": {},
     "output_type": "execute_result"
    }
   ],
   "source": [
    "my_array"
   ]
  },
  {
   "cell_type": "markdown",
   "metadata": {},
   "source": [
    "Apesar de o my_array e o my_slice estarem acessando o mesmo dado eles estão indexados diferentes. Nós mudamos o índice 0 no my_slice e a mudança no my_array foi no índice 1. <br>\n",
    "O mesmo não acontece com as listas"
   ]
  },
  {
   "cell_type": "code",
   "execution_count": 114,
   "metadata": {},
   "outputs": [
    {
     "data": {
      "text/plain": [
       "['a change', 2]"
      ]
     },
     "execution_count": 114,
     "metadata": {},
     "output_type": "execute_result"
    }
   ],
   "source": [
    "x = [1, 2, 3]\n",
    "y = x[0:2]\n",
    "y[0] = \"a change\"\n",
    "y"
   ]
  },
  {
   "cell_type": "code",
   "execution_count": 115,
   "metadata": {},
   "outputs": [
    {
     "data": {
      "text/plain": [
       "[1, 2, 3]"
      ]
     },
     "execution_count": 115,
     "metadata": {},
     "output_type": "execute_result"
    }
   ],
   "source": [
    "x"
   ]
  },
  {
   "cell_type": "markdown",
   "metadata": {},
   "source": [
    "Caso você não queira uma view você pode fazer o slice utilizando uma lista:"
   ]
  },
  {
   "cell_type": "code",
   "execution_count": 116,
   "metadata": {},
   "outputs": [
    {
     "data": {
      "text/plain": [
       "array([1, 2, 3])"
      ]
     },
     "execution_count": 116,
     "metadata": {},
     "output_type": "execute_result"
    }
   ],
   "source": [
    "my_array = np.array([1, 2, 3])\n",
    "my_slice = my_array[[1,2]]\n",
    "my_slice[0] = -1\n",
    "my_array"
   ]
  },
  {
   "cell_type": "code",
   "execution_count": 117,
   "metadata": {},
   "outputs": [
    {
     "data": {
      "text/plain": [
       "array([-1,  3])"
      ]
     },
     "execution_count": 117,
     "metadata": {},
     "output_type": "execute_result"
    }
   ],
   "source": [
    "my_slice"
   ]
  },
  {
   "cell_type": "markdown",
   "metadata": {},
   "source": [
    "Ou utilizar uma cópia"
   ]
  },
  {
   "cell_type": "code",
   "execution_count": 124,
   "metadata": {},
   "outputs": [
    {
     "name": "stdout",
     "output_type": "stream",
     "text": [
      "[1 2 3]\n",
      "[-1  3]\n"
     ]
    }
   ],
   "source": [
    "#Fazendo uma cópia direciona para um outro endereço de memória\n",
    "my_array = np.array([1, 2, 3])\n",
    "my_slice = np.copy(my_array[[1,2]])\n",
    "my_slice[0] = -1\n",
    "print(my_array)\n",
    "print(my_slice)"
   ]
  },
  {
   "cell_type": "code",
   "execution_count": 125,
   "metadata": {},
   "outputs": [
    {
     "data": {
      "text/plain": [
       "{'a': 1, 'b': 2, 'c': 3}"
      ]
     },
     "execution_count": 125,
     "metadata": {},
     "output_type": "execute_result"
    }
   ],
   "source": [
    "#O mesmo funciona para dicionários, é necessário fazer o copy():\n",
    "dict1 = {'a':1, 'b':2, 'c':3}\n",
    "dict2 = dict1.copy()\n",
    "dict2['c']=10\n",
    "dict1"
   ]
  },
  {
   "cell_type": "markdown",
   "metadata": {},
   "source": [
    "### Inicializando arrays usando métodos internos\n",
    "\n",
    "O NumPy já possui diversos métodos built-in para gerar arrays dos mais diversos tipos\n",
    "array apenas com zeros"
   ]
  },
  {
   "cell_type": "code",
   "execution_count": 127,
   "metadata": {},
   "outputs": [
    {
     "data": {
      "text/plain": [
       "array([0., 0., 0.])"
      ]
     },
     "execution_count": 127,
     "metadata": {},
     "output_type": "execute_result"
    }
   ],
   "source": [
    "#Cria um array de dimensão 1 com zeros\n",
    "np.zeros(3)"
   ]
  },
  {
   "cell_type": "markdown",
   "metadata": {},
   "source": [
    "É possível gerar um array de qualquer formato, basta apenasr passar o formato como uma sequência (lista, tupla geralmente) como argumento\n"
   ]
  },
  {
   "cell_type": "code",
   "execution_count": 128,
   "metadata": {},
   "outputs": [
    {
     "data": {
      "text/plain": [
       "array([[0., 0., 0.],\n",
       "       [0., 0., 0.]])"
      ]
     },
     "execution_count": 128,
     "metadata": {},
     "output_type": "execute_result"
    }
   ],
   "source": [
    "np.zeros([2,3])"
   ]
  },
  {
   "cell_type": "code",
   "execution_count": 130,
   "metadata": {},
   "outputs": [
    {
     "data": {
      "text/plain": [
       "array([[[0., 0., 0.],\n",
       "        [0., 0., 0.]],\n",
       "\n",
       "       [[0., 0., 0.],\n",
       "        [0., 0., 0.]],\n",
       "\n",
       "       [[0., 0., 0.],\n",
       "        [0., 0., 0.]],\n",
       "\n",
       "       [[0., 0., 0.],\n",
       "        [0., 0., 0.]],\n",
       "\n",
       "       [[0., 0., 0.],\n",
       "        [0., 0., 0.]]])"
      ]
     },
     "execution_count": 130,
     "metadata": {},
     "output_type": "execute_result"
    }
   ],
   "source": [
    "np.zeros((5, 2, 3))"
   ]
  },
  {
   "cell_type": "markdown",
   "metadata": {},
   "source": [
    "array apenas com 1"
   ]
  },
  {
   "cell_type": "code",
   "execution_count": 133,
   "metadata": {},
   "outputs": [
    {
     "data": {
      "text/plain": [
       "array([[[1, 1],\n",
       "        [1, 1]],\n",
       "\n",
       "       [[1, 1],\n",
       "        [1, 1]],\n",
       "\n",
       "       [[1, 1],\n",
       "        [1, 1]],\n",
       "\n",
       "       [[1, 1],\n",
       "        [1, 1]]])"
      ]
     },
     "execution_count": 133,
     "metadata": {},
     "output_type": "execute_result"
    }
   ],
   "source": [
    "np.ones((4, 2, 2), dtype='int32')"
   ]
  },
  {
   "cell_type": "markdown",
   "metadata": {},
   "source": [
    "Um coisa muito comum é usar o np.ones para criar uma matriz de qualquer número fazendo a operação, exemplo:"
   ]
  },
  {
   "cell_type": "code",
   "execution_count": 135,
   "metadata": {},
   "outputs": [
    {
     "data": {
      "text/plain": [
       "array([[3., 3.],\n",
       "       [3., 3.]])"
      ]
     },
     "execution_count": 135,
     "metadata": {},
     "output_type": "execute_result"
    }
   ],
   "source": [
    "np.ones((2, 2)) * 3"
   ]
  },
  {
   "cell_type": "markdown",
   "metadata": {},
   "source": [
    "Mas o numpy já tem uma opção mais elegante, o full:\n"
   ]
  },
  {
   "cell_type": "code",
   "execution_count": 150,
   "metadata": {},
   "outputs": [
    {
     "data": {
      "text/plain": [
       "array([[8, 8],\n",
       "       [8, 8]])"
      ]
     },
     "execution_count": 150,
     "metadata": {},
     "output_type": "execute_result"
    }
   ],
   "source": [
    "np.full((2, 2), 8)"
   ]
  },
  {
   "cell_type": "markdown",
   "metadata": {},
   "source": [
    "Qualquer outro número copiando o formato de uma matriz existente\n"
   ]
  },
  {
   "cell_type": "code",
   "execution_count": 139,
   "metadata": {},
   "outputs": [
    {
     "data": {
      "text/plain": [
       "array([[[ 0,  1,  2,  3,  4],\n",
       "        [ 5,  6,  7,  8,  9]],\n",
       "\n",
       "       [[10, 11, 12, 13, 14],\n",
       "        [15, 16, 17, 18, 19]],\n",
       "\n",
       "       [[20, 21, 22, 23, 24],\n",
       "        [25, 26, 27, 28, 29]]])"
      ]
     },
     "execution_count": 139,
     "metadata": {},
     "output_type": "execute_result"
    }
   ],
   "source": [
    "c"
   ]
  },
  {
   "cell_type": "code",
   "execution_count": 140,
   "metadata": {},
   "outputs": [
    {
     "data": {
      "text/plain": [
       "array([[[4, 4, 4, 4, 4],\n",
       "        [4, 4, 4, 4, 4]],\n",
       "\n",
       "       [[4, 4, 4, 4, 4],\n",
       "        [4, 4, 4, 4, 4]],\n",
       "\n",
       "       [[4, 4, 4, 4, 4],\n",
       "        [4, 4, 4, 4, 4]]])"
      ]
     },
     "execution_count": 140,
     "metadata": {},
     "output_type": "execute_result"
    }
   ],
   "source": [
    "np.full_like(c, 4)"
   ]
  },
  {
   "cell_type": "markdown",
   "metadata": {},
   "source": [
    "### Números aleatórios\n",
    "#### Números decimais aleatórios\n",
    "\n",
    "O numpy tem um sub-módulo chamado random, que pode ser acessando via `np.random`. Embora o Python possua uma biblioteca padrão também chamada `random`, a biblioteca do *NumPy tem mais funcionalidades e gera diretamente vetores aleatórios*."
   ]
  },
  {
   "cell_type": "markdown",
   "metadata": {},
   "source": [
    "Cria um vetor segundo uma distribuição uniforme no intervalo [0,1):\n"
   ]
  },
  {
   "cell_type": "code",
   "execution_count": 145,
   "metadata": {},
   "outputs": [
    {
     "data": {
      "text/plain": [
       "array([[0.88319922, 0.39030857],\n",
       "       [0.52773707, 0.57333501],\n",
       "       [0.68778928, 0.11670056],\n",
       "       [0.77946504, 0.19288711]])"
      ]
     },
     "execution_count": 145,
     "metadata": {},
     "output_type": "execute_result"
    }
   ],
   "source": [
    "#Criando uma matriz 4x2 com números sorteados entre 0 1\n",
    "np.random.rand(4, 2)"
   ]
  },
  {
   "cell_type": "code",
   "execution_count": 155,
   "metadata": {},
   "outputs": [
    {
     "data": {
      "text/plain": [
       "array([[6, 6],\n",
       "       [6, 6]])"
      ]
     },
     "execution_count": 155,
     "metadata": {},
     "output_type": "execute_result"
    }
   ],
   "source": [
    "#Criando uma matriz 2x2 com o número que será sorteado no random\n",
    "np.full((2, 2),np.random.randint(25))"
   ]
  },
  {
   "cell_type": "markdown",
   "metadata": {},
   "source": [
    "Cria um vetor em que cada elemento segue uma distribuição normal com $\\mu=10.0$ e $\\sigma=1.0$"
   ]
  },
  {
   "cell_type": "code",
   "execution_count": 161,
   "metadata": {},
   "outputs": [
    {
     "name": "stdout",
     "output_type": "stream",
     "text": [
      "[[ 9.51943862  9.72340709 11.02156178 10.24468312]\n",
      " [10.74346949  9.91300447 10.65710556 11.34693884]\n",
      " [ 9.47295799  8.6131651  11.08051267 11.18319085]\n",
      " [ 9.84090336 10.23941389  9.53185829 10.27116007]]\n"
     ]
    }
   ],
   "source": [
    "#Cria uma matriz com média 10 e desvio padrão 1, de 4x4:\n",
    "v = np.random.normal(10, 1, (4,4))\n",
    "print(v)"
   ]
  },
  {
   "cell_type": "markdown",
   "metadata": {},
   "source": [
    "#### Números aleatórios inteiros:\n"
   ]
  },
  {
   "cell_type": "markdown",
   "metadata": {},
   "source": [
    "Os argumentos principais são low, high e size, exemplo: criando uma matriz de 0 a 99 de 100 elementos:\n"
   ]
  },
  {
   "cell_type": "code",
   "execution_count": 164,
   "metadata": {},
   "outputs": [
    {
     "data": {
      "text/plain": [
       "array([38, 72, 34, 91,  3, 95,  4, 73, 36, 27, 59,  6, 82, 14, 20, 76, 64,\n",
       "       33, 96, 55, 13, 73, 43, 54, 37,  2, 96, 68, 60, 87, 10, 18, 43, 52,\n",
       "        6, 95, 30,  3, 14, 34, 37, 72, 50, 69, 86, 85, 87, 62, 88, 66, 46,\n",
       "       39, 78, 77, 86, 43, 79,  5, 19, 27, 82, 17, 91, 72, 42, 23, 18, 92,\n",
       "       68, 66, 26, 83, 95, 78, 13, 32, 53, 35, 70, 92, 47, 27, 61, 11, 46,\n",
       "       29, 54, 24, 16,  8, 10, 86, 67, 66, 74, 94, 94, 72, 29, 54])"
      ]
     },
     "execution_count": 164,
     "metadata": {},
     "output_type": "execute_result"
    }
   ],
   "source": [
    "#Sorteia 100 números aleatórios entre 0 e 100:\n",
    "np.random.randint(low=0, high=100, size=100)"
   ]
  },
  {
   "cell_type": "markdown",
   "metadata": {},
   "source": [
    "Para incluir o 100, basta trocar o high por 101"
   ]
  },
  {
   "cell_type": "code",
   "execution_count": 167,
   "metadata": {},
   "outputs": [
    {
     "data": {
      "text/plain": [
       "array([[4, 5, 2],\n",
       "       [2, 1, 4],\n",
       "       [4, 2, 6]])"
      ]
     },
     "execution_count": 167,
     "metadata": {},
     "output_type": "execute_result"
    }
   ],
   "source": [
    "#Cria uma matriz 3x3 com números aleatórios entre 0 e 7\n",
    "np.random.randint(7, size=(3, 3))"
   ]
  },
  {
   "cell_type": "markdown",
   "metadata": {},
   "source": [
    "Note que toda vez que rodarmos o código, os tensores terão valores diferentes. Podemos evitar esse comportamento, de forma que toda vez que o código é executado o tensor aleatório tenha o mesmo valor por meio da função seed, cujo argumento é a semente para o gerador de números aleatórios do Python:"
   ]
  },
  {
   "cell_type": "code",
   "execution_count": 173,
   "metadata": {},
   "outputs": [
    {
     "name": "stdout",
     "output_type": "stream",
     "text": [
      "[0.65358959 0.11500694 0.95028286 0.4821914 ]\n",
      "[0.65358959 0.11500694 0.95028286 0.4821914 ]\n"
     ]
    }
   ],
   "source": [
    "#Se quisermos sempre sortear o mesmo valor:\n",
    "\n",
    "np.random.seed(1000) #Usando isso sempre sortearemos o mesmo vetor\n",
    "v = np.random.rand(4)\n",
    "print(v)\n",
    "\n",
    "np.random.seed(1000)\n",
    "v = np.random.rand(4)\n",
    "print(v)\n"
   ]
  },
  {
   "cell_type": "markdown",
   "metadata": {},
   "source": [
    "### Criar ranges\n",
    "\n",
    "#### arange\n",
    "\n",
    "Método que retorna elementos igualmente espaçados num step (por padrão, 1) dentro de um certo intervalo.\n"
   ]
  },
  {
   "cell_type": "code",
   "execution_count": 175,
   "metadata": {},
   "outputs": [
    {
     "data": {
      "text/plain": [
       "array([ 0,  1,  2,  3,  4,  5,  6,  7,  8,  9, 10, 11, 12, 13, 14, 15, 16,\n",
       "       17, 18, 19, 20, 21, 22, 23, 24, 25, 26, 27, 28, 29, 30, 31, 32, 33,\n",
       "       34, 35, 36, 37, 38, 39, 40, 41, 42, 43, 44, 45, 46, 47, 48, 49, 50,\n",
       "       51, 52, 53, 54, 55, 56, 57, 58, 59, 60, 61, 62, 63, 64, 65, 66, 67,\n",
       "       68, 69, 70, 71, 72, 73, 74, 75, 76, 77, 78, 79, 80, 81, 82, 83, 84,\n",
       "       85, 86, 87, 88, 89, 90, 91, 92, 93, 94, 95, 96, 97, 98, 99])"
      ]
     },
     "execution_count": 175,
     "metadata": {},
     "output_type": "execute_result"
    }
   ],
   "source": [
    "#Retorna números igualmente espaçados, por padrão 1 de diferença:\n",
    "np.arange(0, 100)"
   ]
  },
  {
   "cell_type": "markdown",
   "metadata": {},
   "source": [
    "Step diferente de 1:\n"
   ]
  },
  {
   "cell_type": "code",
   "execution_count": 180,
   "metadata": {},
   "outputs": [
    {
     "data": {
      "text/plain": [
       "array([0. , 0.1, 0.2, 0.3, 0.4, 0.5, 0.6, 0.7, 0.8, 0.9, 1. , 1.1, 1.2,\n",
       "       1.3, 1.4, 1.5, 1.6, 1.7, 1.8, 1.9, 2. , 2.1, 2.2, 2.3, 2.4, 2.5,\n",
       "       2.6, 2.7, 2.8, 2.9, 3. , 3.1, 3.2, 3.3, 3.4, 3.5, 3.6, 3.7, 3.8,\n",
       "       3.9, 4. , 4.1, 4.2, 4.3, 4.4, 4.5, 4.6, 4.7, 4.8, 4.9])"
      ]
     },
     "execution_count": 180,
     "metadata": {},
     "output_type": "execute_result"
    }
   ],
   "source": [
    "#Retorna números igualmente espaçados do 0 ao 5 (exclusivo) de passo 0.1:\n",
    "np.arange(0, 5, 0.1)"
   ]
  },
  {
   "cell_type": "markdown",
   "metadata": {},
   "source": [
    "#### linspace\n",
    "\n",
    "Parecido com o arange, mas você diz quantos pontos você quer e o intervalo e ele define o espaçamento linear\n"
   ]
  },
  {
   "cell_type": "code",
   "execution_count": 190,
   "metadata": {},
   "outputs": [
    {
     "data": {
      "text/plain": [
       "(array([  0.,  10.,  20.,  30.,  40.,  50.,  60.,  70.,  80.,  90., 100.]),\n",
       " 10.0)"
      ]
     },
     "execution_count": 190,
     "metadata": {},
     "output_type": "execute_result"
    }
   ],
   "source": [
    "#Cria um arange com inicio em 0, fim em 100 (incluso), tendo 11 elementos igualmente espaçados.\n",
    "#Retstep é apenas para mostrar o padrão de espaçamento entre os elementos. \n",
    "np.linspace(0, 100, num=11, retstep=True)"
   ]
  },
  {
   "cell_type": "markdown",
   "metadata": {},
   "source": [
    "#### logspace  \n",
    "Parecido com o linespace, o logspace retorna números espaçados igualmente em uma escala log."
   ]
  },
  {
   "cell_type": "code",
   "execution_count": 198,
   "metadata": {},
   "outputs": [
    {
     "data": {
      "text/plain": [
       "array([  2.,  32., 512.])"
      ]
     },
     "execution_count": 198,
     "metadata": {},
     "output_type": "execute_result"
    }
   ],
   "source": [
    "#O código seguinte mostrará o 2, 32, 512, pois seria: 2^1, 2^5 e 2^9\n",
    "# [1, 5, 9] seria a distribuição de 3 números com espaçamento igual\n",
    "np.logspace(1, 9, num=3, base=2.0)"
   ]
  },
  {
   "cell_type": "markdown",
   "metadata": {},
   "source": [
    "### Matemática\n"
   ]
  },
  {
   "cell_type": "markdown",
   "metadata": {},
   "source": [
    "#### Operação com escalares"
   ]
  },
  {
   "cell_type": "code",
   "execution_count": 204,
   "metadata": {},
   "outputs": [
    {
     "data": {
      "text/plain": [
       "array([1, 2, 3, 4])"
      ]
     },
     "execution_count": 204,
     "metadata": {},
     "output_type": "execute_result"
    }
   ],
   "source": [
    "array3 = np.array([1, 2, 3, 4])\n",
    "array3"
   ]
  },
  {
   "cell_type": "markdown",
   "metadata": {},
   "source": [
    "##### Soma"
   ]
  },
  {
   "cell_type": "code",
   "execution_count": 205,
   "metadata": {},
   "outputs": [
    {
     "data": {
      "text/plain": [
       "array([3, 4, 5, 6])"
      ]
     },
     "execution_count": 205,
     "metadata": {},
     "output_type": "execute_result"
    }
   ],
   "source": [
    "#Todos os elementos do array somam + 2\n",
    "array3 + 2"
   ]
  },
  {
   "cell_type": "markdown",
   "metadata": {},
   "source": [
    "##### Subtração:\n"
   ]
  },
  {
   "cell_type": "code",
   "execution_count": 206,
   "metadata": {},
   "outputs": [
    {
     "data": {
      "text/plain": [
       "array([-1,  0,  1,  2])"
      ]
     },
     "execution_count": 206,
     "metadata": {},
     "output_type": "execute_result"
    }
   ],
   "source": [
    "#Todos os elementos do array subtraem - 2\n",
    "array3 - 2"
   ]
  },
  {
   "cell_type": "markdown",
   "metadata": {},
   "source": [
    "##### Multiplicação"
   ]
  },
  {
   "cell_type": "code",
   "execution_count": 207,
   "metadata": {},
   "outputs": [
    {
     "data": {
      "text/plain": [
       "array([2, 4, 6, 8])"
      ]
     },
     "execution_count": 207,
     "metadata": {},
     "output_type": "execute_result"
    }
   ],
   "source": [
    "#Todos os itens são multiplicados por 2\n",
    "array3*2"
   ]
  },
  {
   "cell_type": "markdown",
   "metadata": {},
   "source": [
    "##### Divisão"
   ]
  },
  {
   "cell_type": "code",
   "execution_count": 209,
   "metadata": {},
   "outputs": [
    {
     "data": {
      "text/plain": [
       "array([0.5, 1. , 1.5, 2. ])"
      ]
     },
     "execution_count": 209,
     "metadata": {},
     "output_type": "execute_result"
    }
   ],
   "source": [
    "#Todos os itens são divididos por 2\n",
    "array3/2"
   ]
  },
  {
   "cell_type": "markdown",
   "metadata": {},
   "source": [
    "##### Incrementar"
   ]
  },
  {
   "cell_type": "code",
   "execution_count": 212,
   "metadata": {},
   "outputs": [
    {
     "data": {
      "text/plain": [
       "array([5, 6, 7, 8])"
      ]
     },
     "execution_count": 212,
     "metadata": {},
     "output_type": "execute_result"
    }
   ],
   "source": [
    "#Todos os elementos somarão dois\n",
    "array3 += 2\n",
    "array3"
   ]
  },
  {
   "cell_type": "markdown",
   "metadata": {},
   "source": [
    "##### Potência"
   ]
  },
  {
   "cell_type": "code",
   "execution_count": 213,
   "metadata": {},
   "outputs": [
    {
     "data": {
      "text/plain": [
       "array([25, 36, 49, 64], dtype=int32)"
      ]
     },
     "execution_count": 213,
     "metadata": {},
     "output_type": "execute_result"
    }
   ],
   "source": [
    "##Todos os elementos serão elevados a 2:\n",
    "array3**2"
   ]
  },
  {
   "cell_type": "markdown",
   "metadata": {},
   "source": [
    "#### Operação entre arrays\n",
    "\n",
    "Tudo que você consegue fazer com escalar, você consegue fazer com arrays elemento-a-elemento desde que os arrays tenham exatamente o mesmo tamanho, por exemplo, para soma:\n"
   ]
  },
  {
   "cell_type": "code",
   "execution_count": 217,
   "metadata": {},
   "outputs": [
    {
     "data": {
      "text/plain": [
       "array([2, 2, 4, 4])"
      ]
     },
     "execution_count": 217,
     "metadata": {},
     "output_type": "execute_result"
    }
   ],
   "source": [
    "arA = np.array([1, 2, 3, 4])\n",
    "arB = np.array([1, 0, 1, 0])\n",
    "\n",
    "# Exemplo de soma (Soma elemento 0 com elemento 0, elemento 1 com elemento 1...)\n",
    "arA + arB\n",
    "\n",
    "#Dá erro se os arrays não tiverem a mesma dimensão"
   ]
  },
  {
   "cell_type": "code",
   "execution_count": 218,
   "metadata": {},
   "outputs": [
    {
     "data": {
      "text/plain": [
       "array([1, 0, 3, 0])"
      ]
     },
     "execution_count": 218,
     "metadata": {},
     "output_type": "execute_result"
    }
   ],
   "source": [
    "# Exemplo de multiplicação\n",
    "arA*arB"
   ]
  },
  {
   "cell_type": "code",
   "execution_count": 221,
   "metadata": {},
   "outputs": [
    {
     "data": {
      "text/plain": [
       "array([1, 1, 3, 1], dtype=int32)"
      ]
     },
     "execution_count": 221,
     "metadata": {},
     "output_type": "execute_result"
    }
   ],
   "source": [
    "# Exemplo de potenciação\n",
    "#Eleva o elemento 0 ao expoente do outro eleemnto 0\n",
    "arA**arB"
   ]
  },
  {
   "cell_type": "code",
   "execution_count": 6,
   "metadata": {},
   "outputs": [],
   "source": [
    "#Colocando mais dimensões nos nossos arrays:\n",
    "arA2 = np.array([[1, 2, 3, 4],[2, 3, 4, 5]])\n",
    "arB2 = np.array([[1, 0, 1, 0],[1, 0, 1, 0]])"
   ]
  },
  {
   "cell_type": "code",
   "execution_count": 223,
   "metadata": {},
   "outputs": [
    {
     "data": {
      "text/plain": [
       "array([[1, 2, 3, 4],\n",
       "       [2, 3, 4, 5]])"
      ]
     },
     "execution_count": 223,
     "metadata": {},
     "output_type": "execute_result"
    }
   ],
   "source": [
    "arA2"
   ]
  },
  {
   "cell_type": "code",
   "execution_count": 224,
   "metadata": {},
   "outputs": [
    {
     "data": {
      "text/plain": [
       "array([[1, 0, 1, 0],\n",
       "       [1, 0, 1, 0]])"
      ]
     },
     "execution_count": 224,
     "metadata": {},
     "output_type": "execute_result"
    }
   ],
   "source": [
    "arB2"
   ]
  },
  {
   "cell_type": "code",
   "execution_count": 226,
   "metadata": {},
   "outputs": [
    {
     "data": {
      "text/plain": [
       "array([[2, 2, 4, 4],\n",
       "       [3, 3, 5, 5]])"
      ]
     },
     "execution_count": 226,
     "metadata": {},
     "output_type": "execute_result"
    }
   ],
   "source": [
    "#A soma funciona normalmente:\n",
    "arA2+arB2"
   ]
  },
  {
   "cell_type": "code",
   "execution_count": 227,
   "metadata": {},
   "outputs": [
    {
     "data": {
      "text/plain": [
       "array([[1, 0, 3, 0],\n",
       "       [2, 0, 4, 0]])"
      ]
     },
     "execution_count": 227,
     "metadata": {},
     "output_type": "execute_result"
    }
   ],
   "source": [
    "#A multiplicação é elemento a elemento\n",
    "arA2*arB2"
   ]
  },
  {
   "cell_type": "markdown",
   "metadata": {},
   "source": [
    "### Funções matemáticas\n",
    "O NumPy oferece diversas funções matemáticas clássicas, como exponencial, logaritmo, seno, cosseno etc. Essas funções são aplicadas a todos os elementos do array\n",
    "##### Função seno:"
   ]
  },
  {
   "cell_type": "code",
   "execution_count": 9,
   "metadata": {},
   "outputs": [
    {
     "data": {
      "text/plain": [
       "array([[1, 2, 3, 4],\n",
       "       [2, 3, 4, 5]])"
      ]
     },
     "execution_count": 9,
     "metadata": {},
     "output_type": "execute_result"
    }
   ],
   "source": [
    "#Mostrando o array\n",
    "arA2"
   ]
  },
  {
   "cell_type": "code",
   "execution_count": 11,
   "metadata": {},
   "outputs": [
    {
     "data": {
      "text/plain": [
       "array([[ 0.84147098,  0.90929743,  0.14112001, -0.7568025 ],\n",
       "       [ 0.90929743,  0.14112001, -0.7568025 , -0.95892427]])"
      ]
     },
     "execution_count": 11,
     "metadata": {},
     "output_type": "execute_result"
    }
   ],
   "source": [
    "#Retorna o seno de cada elemento do array. O elemento sendo escalar\n",
    "np.sin(arA2)"
   ]
  },
  {
   "cell_type": "markdown",
   "metadata": {},
   "source": [
    "##### Função cosseno"
   ]
  },
  {
   "cell_type": "code",
   "execution_count": 14,
   "metadata": {},
   "outputs": [
    {
     "data": {
      "text/plain": [
       "array([[ 0.54030231, -0.41614684, -0.9899925 , -0.65364362],\n",
       "       [-0.41614684, -0.9899925 , -0.65364362,  0.28366219]])"
      ]
     },
     "execution_count": 14,
     "metadata": {},
     "output_type": "execute_result"
    }
   ],
   "source": [
    "#Retorna o cosseno de cada elemento do array. O elemento sendo escalar\n",
    "np.cos(arA2)"
   ]
  },
  {
   "cell_type": "markdown",
   "metadata": {},
   "source": [
    "#### Exponencial"
   ]
  },
  {
   "cell_type": "code",
   "execution_count": 19,
   "metadata": {},
   "outputs": [
    {
     "data": {
      "text/plain": [
       "array([[  2.71828183,   7.3890561 ,  20.08553692,  54.59815003],\n",
       "       [  7.3890561 ,  20.08553692,  54.59815003, 148.4131591 ]])"
      ]
     },
     "execution_count": 19,
     "metadata": {},
     "output_type": "execute_result"
    }
   ],
   "source": [
    "#Retorna a exponencial de cada elemento\n",
    "np.exp(arA2)"
   ]
  },
  {
   "cell_type": "markdown",
   "metadata": {},
   "source": [
    "#### Log"
   ]
  },
  {
   "cell_type": "code",
   "execution_count": 22,
   "metadata": {},
   "outputs": [
    {
     "data": {
      "text/plain": [
       "array([[0.        , 0.69314718, 1.09861229, 1.38629436],\n",
       "       [0.69314718, 1.09861229, 1.38629436, 1.60943791]])"
      ]
     },
     "execution_count": 22,
     "metadata": {},
     "output_type": "execute_result"
    }
   ],
   "source": [
    "#Retorna o log de cada elemento\n",
    "np.log(arA2)"
   ]
  },
  {
   "cell_type": "code",
   "execution_count": 23,
   "metadata": {},
   "outputs": [
    {
     "data": {
      "text/plain": [
       "array([[1, 2, 3, 4],\n",
       "       [2, 3, 4, 5]])"
      ]
     },
     "execution_count": 23,
     "metadata": {},
     "output_type": "execute_result"
    }
   ],
   "source": [
    "arA2"
   ]
  },
  {
   "cell_type": "markdown",
   "metadata": {},
   "source": [
    "### Estatística\n",
    "\n",
    "O numpy vem com várias funções básicas de estatística como mínimo, máximo, média, mediana, etc.\n",
    "Todos esses métodos aceitam o argumento `axis`. Para `axis=1` a conta é feita considerando-se as **linhas**. Para `axis=0` a conta é feita considerando-se as **colunas**."
   ]
  },
  {
   "cell_type": "code",
   "execution_count": 24,
   "metadata": {},
   "outputs": [
    {
     "data": {
      "text/plain": [
       "array([[ 3,  4,  7],\n",
       "       [ 1,  5, 10]])"
      ]
     },
     "execution_count": 24,
     "metadata": {},
     "output_type": "execute_result"
    }
   ],
   "source": [
    "stats = np.array([[3, 4, 7], [1, 5, 10]])\n",
    "stats"
   ]
  },
  {
   "cell_type": "code",
   "execution_count": 25,
   "metadata": {},
   "outputs": [
    {
     "data": {
      "text/plain": [
       "1"
      ]
     },
     "execution_count": 25,
     "metadata": {},
     "output_type": "execute_result"
    }
   ],
   "source": [
    "#Mostra o valor mínimo do array:\n",
    "np.min(stats)"
   ]
  },
  {
   "cell_type": "code",
   "execution_count": 26,
   "metadata": {},
   "outputs": [
    {
     "data": {
      "text/plain": [
       "10"
      ]
     },
     "execution_count": 26,
     "metadata": {},
     "output_type": "execute_result"
    }
   ],
   "source": [
    "#Mostra o valor máximo do array:\n",
    "stats.max()"
   ]
  },
  {
   "cell_type": "code",
   "execution_count": 28,
   "metadata": {},
   "outputs": [
    {
     "data": {
      "text/plain": [
       "30"
      ]
     },
     "execution_count": 28,
     "metadata": {},
     "output_type": "execute_result"
    }
   ],
   "source": [
    "#Mostra a soma dos elementos do array:\n",
    "stats.sum()"
   ]
  },
  {
   "cell_type": "code",
   "execution_count": 29,
   "metadata": {},
   "outputs": [
    {
     "data": {
      "text/plain": [
       "5"
      ]
     },
     "execution_count": 29,
     "metadata": {},
     "output_type": "execute_result"
    }
   ],
   "source": [
    "#Mostra o local do maior valor:\n",
    "stats.argmax()"
   ]
  },
  {
   "cell_type": "code",
   "execution_count": 30,
   "metadata": {},
   "outputs": [
    {
     "data": {
      "text/plain": [
       "3"
      ]
     },
     "execution_count": 30,
     "metadata": {},
     "output_type": "execute_result"
    }
   ],
   "source": [
    "#Mostra o local do menor valor\n",
    "stats.argmin()"
   ]
  },
  {
   "cell_type": "markdown",
   "metadata": {},
   "source": [
    "Mínimo por linha:\n"
   ]
  },
  {
   "cell_type": "code",
   "execution_count": 31,
   "metadata": {},
   "outputs": [
    {
     "data": {
      "text/plain": [
       "array([[ 3,  4,  7],\n",
       "       [ 1,  5, 10]])"
      ]
     },
     "execution_count": 31,
     "metadata": {},
     "output_type": "execute_result"
    }
   ],
   "source": [
    "stats"
   ]
  },
  {
   "cell_type": "code",
   "execution_count": 32,
   "metadata": {},
   "outputs": [
    {
     "data": {
      "text/plain": [
       "array([3, 1])"
      ]
     },
     "execution_count": 32,
     "metadata": {},
     "output_type": "execute_result"
    }
   ],
   "source": [
    "#Retorna um array com o valor mínimo em cada linha (axis = 1)\n",
    "np.min(stats, axis=1) "
   ]
  },
  {
   "cell_type": "markdown",
   "metadata": {},
   "source": [
    "Máximo por coluna:"
   ]
  },
  {
   "cell_type": "code",
   "execution_count": 33,
   "metadata": {},
   "outputs": [
    {
     "data": {
      "text/plain": [
       "array([ 3,  5, 10])"
      ]
     },
     "execution_count": 33,
     "metadata": {},
     "output_type": "execute_result"
    }
   ],
   "source": [
    "#Retorna um array com o valor máximo em cada coluna (axis = 0)\n",
    "stats.max(axis=0)"
   ]
  },
  {
   "cell_type": "markdown",
   "metadata": {},
   "source": [
    "Soma por coluna:"
   ]
  },
  {
   "cell_type": "code",
   "execution_count": 34,
   "metadata": {},
   "outputs": [
    {
     "data": {
      "text/plain": [
       "array([ 4,  9, 17])"
      ]
     },
     "execution_count": 34,
     "metadata": {},
     "output_type": "execute_result"
    }
   ],
   "source": [
    "#Retorna um array com a soma de cada coluna (axis = 0)\n",
    "np.sum(stats, axis=0)"
   ]
  },
  {
   "cell_type": "code",
   "execution_count": 36,
   "metadata": {},
   "outputs": [
    {
     "data": {
      "text/plain": [
       "array([ 4,  9, 17])"
      ]
     },
     "execution_count": 36,
     "metadata": {},
     "output_type": "execute_result"
    }
   ],
   "source": [
    "#Outra forma de chamar a soma de cada coluna:\n",
    "stats.sum(axis=0)"
   ]
  },
  {
   "cell_type": "markdown",
   "metadata": {},
   "source": [
    "Média:\n"
   ]
  },
  {
   "cell_type": "code",
   "execution_count": 37,
   "metadata": {},
   "outputs": [
    {
     "data": {
      "text/plain": [
       "5.0"
      ]
     },
     "execution_count": 37,
     "metadata": {},
     "output_type": "execute_result"
    }
   ],
   "source": [
    "#Retorna a média de todos os valores:\n",
    "np.mean(stats)"
   ]
  },
  {
   "cell_type": "code",
   "execution_count": 38,
   "metadata": {},
   "outputs": [
    {
     "data": {
      "text/plain": [
       "array([4.66666667, 5.33333333])"
      ]
     },
     "execution_count": 38,
     "metadata": {},
     "output_type": "execute_result"
    }
   ],
   "source": [
    "#Retorna a média por linha (axis = 1)\n",
    "np.mean(stats, axis=1)"
   ]
  },
  {
   "cell_type": "code",
   "execution_count": 39,
   "metadata": {},
   "outputs": [
    {
     "data": {
      "text/plain": [
       "array([2. , 4.5, 8.5])"
      ]
     },
     "execution_count": 39,
     "metadata": {},
     "output_type": "execute_result"
    }
   ],
   "source": [
    "#Retorna a média por coluna (axis = 0)\n",
    "np.mean(stats, axis=0)"
   ]
  },
  {
   "cell_type": "markdown",
   "metadata": {},
   "source": [
    "Desvio padrão"
   ]
  },
  {
   "cell_type": "code",
   "execution_count": 40,
   "metadata": {},
   "outputs": [
    {
     "data": {
      "text/plain": [
       "2.886751345948129"
      ]
     },
     "execution_count": 40,
     "metadata": {},
     "output_type": "execute_result"
    }
   ],
   "source": [
    "#Retorna o desvio padrão de todos os elementos:\n",
    "stats.std()"
   ]
  },
  {
   "cell_type": "markdown",
   "metadata": {},
   "source": [
    "### Reorganizar Array\n",
    "\n",
    "Muitas vezes você quer mudar o formato de array, por exemplo, de 4 elementos pra uma matriz 2x2, ou situações similares.\n",
    "\n",
    "Para isso, você pode utilizar a função `reshape`.\n"
   ]
  },
  {
   "cell_type": "code",
   "execution_count": 41,
   "metadata": {},
   "outputs": [
    {
     "name": "stdout",
     "output_type": "stream",
     "text": [
      "(2, 4)\n"
     ]
    },
    {
     "data": {
      "text/plain": [
       "array([[1, 2, 3, 4],\n",
       "       [5, 6, 7, 8]])"
      ]
     },
     "execution_count": 41,
     "metadata": {},
     "output_type": "execute_result"
    }
   ],
   "source": [
    "#Apenas criando e mostrando um array:\n",
    "before = np.array([[1,2,3,4],[5,6,7,8]])\n",
    "print(before.shape)\n",
    "before"
   ]
  },
  {
   "cell_type": "code",
   "execution_count": 48,
   "metadata": {},
   "outputs": [
    {
     "name": "stdout",
     "output_type": "stream",
     "text": [
      "[[1 2]\n",
      " [3 4]\n",
      " [5 6]\n",
      " [7 8]]\n",
      "(4, 2)\n"
     ]
    }
   ],
   "source": [
    "#Usando reshape para redefir o formato do array:\n",
    "#Tem que possuir a mesma quantidade no size!\n",
    "after = before.reshape((4, 2))\n",
    "print(after)\n",
    "print(after.shape)"
   ]
  },
  {
   "cell_type": "code",
   "execution_count": 52,
   "metadata": {},
   "outputs": [
    {
     "data": {
      "text/plain": [
       "array([[1, 2],\n",
       "       [3, 4],\n",
       "       [5, 6],\n",
       "       [7, 8]])"
      ]
     },
     "execution_count": 52,
     "metadata": {},
     "output_type": "execute_result"
    }
   ],
   "source": [
    "#Colocando menso -1 ele cria quantas colunas (ou linhas) necessárias para satisfazer o que foi pedido:\n",
    "before.reshape((-1, 2)) # o -1 representa quantas linhas for preciso para ter 2 colunas"
   ]
  },
  {
   "cell_type": "code",
   "execution_count": 56,
   "metadata": {},
   "outputs": [
    {
     "data": {
      "text/plain": [
       "array([[[1],\n",
       "        [2],\n",
       "        [3],\n",
       "        [4]],\n",
       "\n",
       "       [[5],\n",
       "        [6],\n",
       "        [7],\n",
       "        [8]]])"
      ]
     },
     "execution_count": 56,
     "metadata": {},
     "output_type": "execute_result"
    }
   ],
   "source": [
    "#Será criado um array com 3 dimensões, com os critérios solicitados:\n",
    "before.reshape(2, 4, -1)"
   ]
  },
  {
   "cell_type": "markdown",
   "metadata": {},
   "source": [
    "### Apendar os vetores\n",
    "#### Verticalmente"
   ]
  },
  {
   "cell_type": "code",
   "execution_count": 59,
   "metadata": {},
   "outputs": [
    {
     "name": "stdout",
     "output_type": "stream",
     "text": [
      "[1 2 3 4]\n",
      "[5 6 7 8]\n"
     ]
    },
    {
     "data": {
      "text/plain": [
       "array([[1, 2, 3, 4],\n",
       "       [5, 6, 7, 8]])"
      ]
     },
     "execution_count": 59,
     "metadata": {},
     "output_type": "execute_result"
    }
   ],
   "source": [
    "v1 = np.array([1,2,3,4])\n",
    "v2 = np.array([5,6,7,8])\n",
    "\n",
    "print(v1)\n",
    "print(v2)\n",
    "\n",
    "#Adiciona vetores um abaixo do outro (criando uma nova dimensão)\n",
    "np.vstack([v1, v2])"
   ]
  },
  {
   "cell_type": "markdown",
   "metadata": {},
   "source": [
    "#### Horizontalmente\n",
    "\n",
    "De forma similar ao anterior:\n"
   ]
  },
  {
   "cell_type": "code",
   "execution_count": 170,
   "metadata": {},
   "outputs": [
    {
     "data": {
      "text/plain": [
       "array([1, 2, 3, 4, 5, 6, 7, 8])"
      ]
     },
     "execution_count": 170,
     "metadata": {},
     "output_type": "execute_result"
    }
   ],
   "source": [
    "# para arrays 1D\n",
    "\n",
    "#Adiciona vetores um ao lado do outro (extendo uma dimensão)\n",
    "np.hstack((v1,v2))"
   ]
  },
  {
   "cell_type": "markdown",
   "metadata": {},
   "source": [
    "#### para arrays 2D"
   ]
  },
  {
   "cell_type": "code",
   "execution_count": 73,
   "metadata": {},
   "outputs": [
    {
     "name": "stdout",
     "output_type": "stream",
     "text": [
      "[[1. 1. 1. 1.]\n",
      " [1. 1. 1. 1.]]\n",
      "\n",
      "[[0. 0. 0. 0.]]\n"
     ]
    }
   ],
   "source": [
    "#Criando um array de 1 nas dimensões dadas:\n",
    "h1 = np.ones((2, 4))\n",
    "print(h1)\n",
    "\n",
    "print()\n",
    "\n",
    "#Criando um array de zeros nas dimensões dadas:\n",
    "h2 = np.zeros((1, 4))\n",
    "print(h2)"
   ]
  },
  {
   "cell_type": "code",
   "execution_count": 72,
   "metadata": {},
   "outputs": [
    {
     "data": {
      "text/plain": [
       "array([[1., 1., 1., 1., 0.],\n",
       "       [1., 1., 1., 1., 0.]])"
      ]
     },
     "execution_count": 72,
     "metadata": {},
     "output_type": "execute_result"
    }
   ],
   "source": [
    "#Adicionando um array na frente do outro:\n",
    "#linha 0 do primeiro + linha 0 do segundo\n",
    "#linha 1 do primeiro + linha 1 do segundo\n",
    "\n",
    "#Precisa ter o mesmo número de linhas, senão dá erro.\n",
    "np.hstack((h1, h2))"
   ]
  },
  {
   "cell_type": "code",
   "execution_count": 74,
   "metadata": {},
   "outputs": [
    {
     "data": {
      "text/plain": [
       "array([[1., 1., 1., 1.],\n",
       "       [1., 1., 1., 1.],\n",
       "       [0., 0., 0., 0.]])"
      ]
     },
     "execution_count": 74,
     "metadata": {},
     "output_type": "execute_result"
    }
   ],
   "source": [
    "#Adicionando na vertical precisaria ter o mesmo número de colunas, senão dá erro:\n",
    "np.vstack((h1, h2))"
   ]
  },
  {
   "cell_type": "markdown",
   "metadata": {},
   "source": [
    "### Máscara Booleana e Seleção Avançada\n",
    "\n",
    "Conceito super importante no numpy e no pandas é o de máscara booleana.\n",
    "\n",
    "Ao utilizar qualquer operador booleano\n",
    "\n",
    "    >\n",
    "    <\n",
    "    <=\n",
    "    >=\n",
    "    ==\n",
    "    in\n",
    "\n",
    "o numpy retorna um array de True e False no qual ele aplicou elemento a elemento aquele operador.\n",
    "\n",
    "Suponha a matriz abaixo:\n"
   ]
  },
  {
   "cell_type": "code",
   "execution_count": 75,
   "metadata": {},
   "outputs": [
    {
     "data": {
      "text/plain": [
       "array([[ 1, 10],\n",
       "       [20, 30]])"
      ]
     },
     "execution_count": 75,
     "metadata": {},
     "output_type": "execute_result"
    }
   ],
   "source": [
    "#Criando uma matriz:\n",
    "mat = np.array([1, 10, 20, 30]).reshape(2, 2)\n",
    "mat"
   ]
  },
  {
   "cell_type": "markdown",
   "metadata": {},
   "source": [
    "Eu quero saber todos os elementos maiores que 10, eu posso aplicar:\n"
   ]
  },
  {
   "cell_type": "code",
   "execution_count": 76,
   "metadata": {},
   "outputs": [
    {
     "data": {
      "text/plain": [
       "array([[False, False],\n",
       "       [ True,  True]])"
      ]
     },
     "execution_count": 76,
     "metadata": {},
     "output_type": "execute_result"
    }
   ],
   "source": [
    "#Retorna um array com as mesmas dimensões da matriz com valores booleanos para a condição solicitada:\n",
    "mat > 10"
   ]
  },
  {
   "cell_type": "markdown",
   "metadata": {},
   "source": [
    "Me é retornado uma matriz de formato (2, 2) com True na posição dos elementos que são maiores que 10.\n",
    "\n",
    "Os tensores booleanos podem ser usados para filtrar valores em um tensor, por exemplo:\n"
   ]
  },
  {
   "cell_type": "code",
   "execution_count": 77,
   "metadata": {},
   "outputs": [
    {
     "data": {
      "text/plain": [
       "array([20, 30])"
      ]
     },
     "execution_count": 77,
     "metadata": {},
     "output_type": "execute_result"
    }
   ],
   "source": [
    "#Retorna apenas os valores que satisfazem as condições:\n",
    "mat[mat > 10]"
   ]
  },
  {
   "cell_type": "code",
   "execution_count": 80,
   "metadata": {},
   "outputs": [
    {
     "data": {
      "text/plain": [
       "array([[ True, False],\n",
       "       [False, False]])"
      ]
     },
     "execution_count": 80,
     "metadata": {},
     "output_type": "execute_result"
    }
   ],
   "source": [
    "#Criando uma matriz de valores booleanos:\n",
    "mat_tf = np.array([[True, False], [False, False]])\n",
    "mat_tf"
   ]
  },
  {
   "cell_type": "code",
   "execution_count": 81,
   "metadata": {},
   "outputs": [
    {
     "data": {
      "text/plain": [
       "array([1])"
      ]
     },
     "execution_count": 81,
     "metadata": {},
     "output_type": "execute_result"
    }
   ],
   "source": [
    "#Retorna os valores que estiverem como True na matriz informada:\n",
    "mat[mat_tf]"
   ]
  },
  {
   "cell_type": "markdown",
   "metadata": {},
   "source": [
    "E será retornado um array com os elementos 20 e 30 como esperado.\n",
    "\n",
    "Podemos fazer operações linha a linha ou coluna a coluna através de métodos auxiliares como any ou all:\n",
    "\n",
    "    any: se qualquer elemento da linha for True, retorna True\n",
    "    all: todos os elementos tem que ser True para retornar True\n",
    "\n",
    "Exemplos:\n",
    "\n",
    "Por coluna:\n"
   ]
  },
  {
   "cell_type": "code",
   "execution_count": 180,
   "metadata": {},
   "outputs": [
    {
     "data": {
      "text/plain": [
       "array([[ 1, 10],\n",
       "       [20, 30]])"
      ]
     },
     "execution_count": 180,
     "metadata": {},
     "output_type": "execute_result"
    }
   ],
   "source": [
    "#Mostrando a matriz novamente:\n",
    "mat"
   ]
  },
  {
   "cell_type": "code",
   "execution_count": 83,
   "metadata": {},
   "outputs": [
    {
     "data": {
      "text/plain": [
       "array([False, False])"
      ]
     },
     "execution_count": 83,
     "metadata": {},
     "output_type": "execute_result"
    }
   ],
   "source": [
    "#Retorna se os elementos das colunas possuem todos valores maiores que 10:\n",
    "np.all(mat > 10, axis=0)"
   ]
  },
  {
   "cell_type": "markdown",
   "metadata": {},
   "source": [
    "Por linha:"
   ]
  },
  {
   "cell_type": "code",
   "execution_count": 84,
   "metadata": {},
   "outputs": [
    {
     "data": {
      "text/plain": [
       "array([False,  True])"
      ]
     },
     "execution_count": 84,
     "metadata": {},
     "output_type": "execute_result"
    }
   ],
   "source": [
    "#Retorna se os elementos das linhas possuem todos valores maiores que 10:\n",
    "np.all(mat > 10, axis=1)"
   ]
  },
  {
   "cell_type": "markdown",
   "metadata": {},
   "source": [
    "Geral:"
   ]
  },
  {
   "cell_type": "code",
   "execution_count": 85,
   "metadata": {},
   "outputs": [
    {
     "data": {
      "text/plain": [
       "False"
      ]
     },
     "execution_count": 85,
     "metadata": {},
     "output_type": "execute_result"
    }
   ],
   "source": [
    "#retorna se todos os elementos são maiores que 10:\n",
    "np.all(mat > 10)"
   ]
  },
  {
   "cell_type": "markdown",
   "metadata": {},
   "source": [
    "Comparando arrays"
   ]
  },
  {
   "cell_type": "code",
   "execution_count": 94,
   "metadata": {},
   "outputs": [],
   "source": [
    "#Criando arrays:\n",
    "u = np.arange(4).reshape(2,2)\n",
    "v = 2*np.ones((2,2))"
   ]
  },
  {
   "cell_type": "code",
   "execution_count": 95,
   "metadata": {},
   "outputs": [
    {
     "data": {
      "text/plain": [
       "array([[0, 1],\n",
       "       [2, 3]])"
      ]
     },
     "execution_count": 95,
     "metadata": {},
     "output_type": "execute_result"
    }
   ],
   "source": [
    "u"
   ]
  },
  {
   "cell_type": "code",
   "execution_count": 96,
   "metadata": {},
   "outputs": [
    {
     "data": {
      "text/plain": [
       "array([[2., 2.],\n",
       "       [2., 2.]])"
      ]
     },
     "execution_count": 96,
     "metadata": {},
     "output_type": "execute_result"
    }
   ],
   "source": [
    "v"
   ]
  },
  {
   "cell_type": "code",
   "execution_count": 97,
   "metadata": {},
   "outputs": [
    {
     "name": "stdout",
     "output_type": "stream",
     "text": [
      "[[False False]\n",
      " [False  True]]\n"
     ]
    }
   ],
   "source": [
    "#W recebe uma matriz booleana conferindo se os valores de u são maiores que os de v\n",
    "#As matrizes precisam ter a mesma dimensão\n",
    "w = u > v\n",
    "print(w)"
   ]
  },
  {
   "cell_type": "code",
   "execution_count": 99,
   "metadata": {},
   "outputs": [
    {
     "data": {
      "text/plain": [
       "array([3])"
      ]
     },
     "execution_count": 99,
     "metadata": {},
     "output_type": "execute_result"
    }
   ],
   "source": [
    "#Retorna os elementos para o qual a condição é verdadeira:\n",
    "u[u > v]"
   ]
  },
  {
   "cell_type": "code",
   "execution_count": 192,
   "metadata": {},
   "outputs": [
    {
     "data": {
      "text/plain": [
       "array([3])"
      ]
     },
     "execution_count": 192,
     "metadata": {},
     "output_type": "execute_result"
    }
   ],
   "source": [
    "#Retorna os valores que estão como True na matriz w:\n",
    "u[w]"
   ]
  },
  {
   "cell_type": "markdown",
   "metadata": {},
   "source": [
    "### Operador AND\n",
    "\n",
    "Similar ao `and` do python, podemos usar múltiplas condições para filtrar dados da nossa matriz com o operador `&`.\n"
   ]
  },
  {
   "cell_type": "code",
   "execution_count": 101,
   "metadata": {},
   "outputs": [
    {
     "data": {
      "text/plain": [
       "array([[ 1, 10],\n",
       "       [20, 30]])"
      ]
     },
     "execution_count": 101,
     "metadata": {},
     "output_type": "execute_result"
    }
   ],
   "source": [
    "#Mostrando novamente a matriz:\n",
    "mat"
   ]
  },
  {
   "cell_type": "code",
   "execution_count": 102,
   "metadata": {},
   "outputs": [
    {
     "data": {
      "text/plain": [
       "array([[False, False],\n",
       "       [ True, False]])"
      ]
     },
     "execution_count": 102,
     "metadata": {},
     "output_type": "execute_result"
    }
   ],
   "source": [
    "#Retorna uma matriz de verdadeiro ou falso em que ambas as condições são satisfeitas:\n",
    "filt = (mat > 10) & (mat <= 20)\n",
    "filt"
   ]
  },
  {
   "cell_type": "code",
   "execution_count": 104,
   "metadata": {},
   "outputs": [
    {
     "data": {
      "text/plain": [
       "array([20])"
      ]
     },
     "execution_count": 104,
     "metadata": {},
     "output_type": "execute_result"
    }
   ],
   "source": [
    "#Retorna o valor onde está True na filt:\n",
    "mat[filt]\n"
   ]
  },
  {
   "cell_type": "markdown",
   "metadata": {},
   "source": [
    "Observação: note que os colchetes além de melhorarem a legibilidade, são necessárias devido a ordem de precedência dos operadores python. Se não colocarmos os colchetes, dará um erro.\n"
   ]
  },
  {
   "cell_type": "markdown",
   "metadata": {},
   "source": [
    "### Operador OR\n",
    "\n",
    "Similar ao `or`, só que devemos utilizar `|`:\n"
   ]
  },
  {
   "cell_type": "code",
   "execution_count": 106,
   "metadata": {},
   "outputs": [
    {
     "data": {
      "text/plain": [
       "array([ 1, 20, 30])"
      ]
     },
     "execution_count": 106,
     "metadata": {},
     "output_type": "execute_result"
    }
   ],
   "source": [
    "#Retorna uma matriz booleana onde o valor de uma ou a outra condição são satisfeitas:\n",
    "filt = (mat == 1) | (mat >= 20)\n",
    "\n",
    "#Mostra os valores True:\n",
    "mat[filt]"
   ]
  },
  {
   "cell_type": "markdown",
   "metadata": {},
   "source": [
    "### Operador NOT\n",
    "\n",
    "Similar ao `not`, mas devemos utilizar um til `~`.\n"
   ]
  },
  {
   "cell_type": "code",
   "execution_count": 108,
   "metadata": {},
   "outputs": [
    {
     "data": {
      "text/plain": [
       "array([10, 20, 30])"
      ]
     },
     "execution_count": 108,
     "metadata": {},
     "output_type": "execute_result"
    }
   ],
   "source": [
    "filt = (mat == 1)\n",
    "\n",
    "#Quando queremos o oposto usando o not (~):\n",
    "mat[~filt]"
   ]
  },
  {
   "cell_type": "markdown",
   "metadata": {},
   "source": [
    "### Atribuir valores em determinadas condições\n",
    "E podemos também atribuir um valor específico aos elementos de um vetor que satisfazem uma certa condições, por exemplo zerar todos os valores negativos:\n"
   ]
  },
  {
   "cell_type": "code",
   "execution_count": 109,
   "metadata": {},
   "outputs": [
    {
     "name": "stdout",
     "output_type": "stream",
     "text": [
      "u = [-1  2 -3]\n",
      "\n"
     ]
    }
   ],
   "source": [
    "#Criando um array u:\n",
    "u = np.array([-1,  2, -3])\n",
    "print(\"u =\", u)\n",
    "print()\n"
   ]
  },
  {
   "cell_type": "code",
   "execution_count": 112,
   "metadata": {},
   "outputs": [],
   "source": [
    "#No array u, onde o elemento for < 0 ele será 0\n",
    "u[u < 0]=0"
   ]
  },
  {
   "cell_type": "code",
   "execution_count": 113,
   "metadata": {},
   "outputs": [
    {
     "data": {
      "text/plain": [
       "array([0, 2, 0])"
      ]
     },
     "execution_count": 113,
     "metadata": {},
     "output_type": "execute_result"
    }
   ],
   "source": [
    "#Mostrando o novo array u:\n",
    "u"
   ]
  },
  {
   "cell_type": "markdown",
   "metadata": {},
   "source": [
    "Usando **np.where(se condição, recebe valor, se não)**"
   ]
  },
  {
   "cell_type": "code",
   "execution_count": 115,
   "metadata": {},
   "outputs": [
    {
     "data": {
      "text/plain": [
       "array([0, 2, 0])"
      ]
     },
     "execution_count": 115,
     "metadata": {},
     "output_type": "execute_result"
    }
   ],
   "source": [
    "u = np.array([-1,  2, -3])\n",
    "\n",
    "# where (condição, valor a receber, senão):\n",
    "np.where(u<0, 0, u)\n"
   ]
  },
  {
   "cell_type": "markdown",
   "metadata": {},
   "source": [
    "#### Seleção passando listas\n",
    "\n",
    "Podemos selecionar elementos específicos de um array passando uma lista de posições:\n"
   ]
  },
  {
   "cell_type": "code",
   "execution_count": 116,
   "metadata": {},
   "outputs": [],
   "source": [
    "#Criando novo array:\n",
    "arrayNovo = np.array([1, 2, 3, 4, 5, 6, 7, 8, 9])\n"
   ]
  },
  {
   "cell_type": "code",
   "execution_count": 117,
   "metadata": {},
   "outputs": [
    {
     "data": {
      "text/plain": [
       "array([1, 2, 3, 4, 5, 6, 7, 8, 9])"
      ]
     },
     "execution_count": 117,
     "metadata": {},
     "output_type": "execute_result"
    }
   ],
   "source": [
    "#Mostrando array:\n",
    "arrayNovo"
   ]
  },
  {
   "cell_type": "code",
   "execution_count": 28,
   "metadata": {},
   "outputs": [
    {
     "data": {
      "text/plain": [
       "array([2, 3, 6, 9])"
      ]
     },
     "execution_count": 28,
     "metadata": {},
     "output_type": "execute_result"
    }
   ],
   "source": [
    "#mostrando as posições que eu quero do array:\n",
    "a[[1, 2, 5, 8]]"
   ]
  },
  {
   "cell_type": "markdown",
   "metadata": {},
   "source": [
    "#### Nans"
   ]
  },
  {
   "cell_type": "code",
   "execution_count": 118,
   "metadata": {},
   "outputs": [
    {
     "data": {
      "text/plain": [
       "array([[ 1.,  2.,  3.,  4.,  5.],\n",
       "       [nan,  7.,  8.,  9., 10.]])"
      ]
     },
     "execution_count": 118,
     "metadata": {},
     "output_type": "execute_result"
    }
   ],
   "source": [
    "arrayNovo2 = np.array([[1, 2, 3, 4, 5], [np.nan, 7, 8, 9,10]])\n",
    "arrayNovo2"
   ]
  },
  {
   "cell_type": "code",
   "execution_count": 121,
   "metadata": {},
   "outputs": [
    {
     "data": {
      "text/plain": [
       "array([[False, False, False, False, False],\n",
       "       [ True, False, False, False, False]])"
      ]
     },
     "execution_count": 121,
     "metadata": {},
     "output_type": "execute_result"
    }
   ],
   "source": [
    "#Mostra uma matriz booleana de valores onde True é o valor nan:\n",
    "np.isnan(arrayNovo2)"
   ]
  },
  {
   "cell_type": "markdown",
   "metadata": {},
   "source": [
    "Checar nan em linhas"
   ]
  },
  {
   "cell_type": "code",
   "execution_count": 123,
   "metadata": {},
   "outputs": [
    {
     "data": {
      "text/plain": [
       "array([False,  True])"
      ]
     },
     "execution_count": 123,
     "metadata": {},
     "output_type": "execute_result"
    }
   ],
   "source": [
    "#Verifica se nas linhas possui algum valor nan:\n",
    "np.isnan(arrayNovo2).any(axis=1) "
   ]
  },
  {
   "cell_type": "code",
   "execution_count": 125,
   "metadata": {},
   "outputs": [
    {
     "data": {
      "text/plain": [
       "1"
      ]
     },
     "execution_count": 125,
     "metadata": {},
     "output_type": "execute_result"
    }
   ],
   "source": [
    "#Verifica quantos nan tem na matriz:\n",
    "np.isnan(arrayNovo2).sum()"
   ]
  },
  {
   "cell_type": "markdown",
   "metadata": {},
   "source": [
    "### Funcionalidades extras\n",
    "#### Carregar dados de um arquivo\n",
    "\n",
    "Vamos supor que temos um arquivo data.txt com o seguinte conteúdo:\n",
    "\n",
    "1,13,21,11,196,75,4,3,34,6,7,8,0,1,2,3,4,5 <br>\n",
    "3,42,12,33,766,75,4,55,6,4,3,4,5,6,7,0,11,12 <br>\n",
    "1,22,33,11,999,11,2,1,78,0,1,2,9,8,7,1,76,88 <br>\n",
    "\n",
    "Podemos gerar uma matriz a partir desse arquivo da seguinte forma:\n"
   ]
  },
  {
   "cell_type": "code",
   "execution_count": 222,
   "metadata": {},
   "outputs": [
    {
     "data": {
      "text/plain": [
       "array([[  1.,  13.,  21.,  11., 196.,  75.,   4.,   3.,  34.,   6.,   7.,\n",
       "          8.,   0.,   1.,   2.,   3.,   4.,   5.],\n",
       "       [  3.,  42.,  12.,  33., 766.,  75.,   4.,  55.,   6.,   4.,   3.,\n",
       "          4.,   5.,   6.,   7.,   0.,  11.,  12.],\n",
       "       [  1.,  22.,  33.,  11., 999.,  11.,   2.,   1.,  78.,   0.,   1.,\n",
       "          2.,   9.,   8.,   7.,   1.,  76.,  88.]])"
      ]
     },
     "execution_count": 222,
     "metadata": {},
     "output_type": "execute_result"
    }
   ],
   "source": [
    "#Importando arquivo:\n",
    "filedata = np.genfromtxt('data.txt', delimiter=',')\n",
    "filedata"
   ]
  },
  {
   "cell_type": "markdown",
   "metadata": {},
   "source": [
    "O primeiro argumento é o nome do arquivo.\n",
    "\n",
    "No segundo argumento, delimiter, você especifica o que separa cada número individualmente no arquivo. Nesse caso é a vírgula, mas podería ser ;, espaços, ou tabs.\n",
    "\n",
    "Podemos notar também que o numpy converteu para float nossos números, apesar de todos serem inteiros. Ele faz isso como uma medida preventiva dado que ele não sabe ao ler o arquivo qual tipo de dado que é.\n",
    "\n",
    "Podemos importar os dados com um formato especificado usando o argumento `dtype='int'` ou podemos converter manualmente para inteiro usando a função astype:"
   ]
  },
  {
   "cell_type": "code",
   "execution_count": 44,
   "metadata": {},
   "outputs": [
    {
     "data": {
      "text/plain": [
       "numpy.float64"
      ]
     },
     "execution_count": 44,
     "metadata": {},
     "output_type": "execute_result"
    }
   ],
   "source": [
    "#Mostrando o tipo do primeiro elemento:\n",
    "type(filedata[0][0])"
   ]
  },
  {
   "cell_type": "code",
   "execution_count": 45,
   "metadata": {},
   "outputs": [
    {
     "data": {
      "text/plain": [
       "array([[  1,  13,  21,  11, 196,  75,   4,   3,  34,   6,   7,   8,   0,\n",
       "          1,   2,   3,   4,   5],\n",
       "       [  3,  42,  12,  33, 766,  75,   4,  55,   6,   4,   3,   4,   5,\n",
       "          6,   7,   0,  11,  12],\n",
       "       [  1,  22,  33,  11, 999,  11,   2,   1,  78,   0,   1,   2,   9,\n",
       "          8,   7,   1,  76,  88]], dtype=int32)"
      ]
     },
     "execution_count": 45,
     "metadata": {},
     "output_type": "execute_result"
    }
   ],
   "source": [
    "#Transformando os elementos para inteiro:\n",
    "filedata.astype('int32')"
   ]
  },
  {
   "cell_type": "markdown",
   "metadata": {},
   "source": [
    "Também podemos avisar o numpy quais são nossas colunas de interesse com o argumento `usecols`"
   ]
  },
  {
   "cell_type": "code",
   "execution_count": 223,
   "metadata": {},
   "outputs": [
    {
     "data": {
      "text/plain": [
       "array([[ 1, 13, 21, 11],\n",
       "       [ 3, 42, 12, 33],\n",
       "       [ 1, 22, 33, 11]])"
      ]
     },
     "execution_count": 223,
     "metadata": {},
     "output_type": "execute_result"
    }
   ],
   "source": [
    "#especificando que quero as colunas 0,1,2 e 3:\n",
    "np.genfromtxt('data.txt', delimiter=',', usecols=[0,1,2,3], dtype='int')"
   ]
  },
  {
   "cell_type": "markdown",
   "metadata": {},
   "source": [
    "Podemos também salvar uma matriz de uma forma mais otimizada não textual (binária) para uso futuro.\n",
    "\n",
    "Isso gera um arquivo binário que inclusive salva o tipo de dado, nesse caso, int32.\n",
    "\n",
    "Quando lido, vai converter corretamente o tipo daquele dado.\n",
    "\n"
   ]
  },
  {
   "cell_type": "code",
   "execution_count": 226,
   "metadata": {},
   "outputs": [],
   "source": [
    "np.save('data_saved', filedata.astype('int32'))"
   ]
  },
  {
   "cell_type": "markdown",
   "metadata": {},
   "source": [
    "\n",
    "Para ler os dados que acabamos de salvar, basta usar o `np.load`:\n"
   ]
  },
  {
   "cell_type": "code",
   "execution_count": 227,
   "metadata": {
    "scrolled": false
   },
   "outputs": [
    {
     "data": {
      "text/plain": [
       "array([[  1,  13,  21,  11, 196,  75,   4,   3,  34,   6,   7,   8,   0,\n",
       "          1,   2,   3,   4,   5],\n",
       "       [  3,  42,  12,  33, 766,  75,   4,  55,   6,   4,   3,   4,   5,\n",
       "          6,   7,   0,  11,  12],\n",
       "       [  1,  22,  33,  11, 999,  11,   2,   1,  78,   0,   1,   2,   9,\n",
       "          8,   7,   1,  76,  88]])"
      ]
     },
     "execution_count": 227,
     "metadata": {},
     "output_type": "execute_result"
    }
   ],
   "source": [
    "np.load('data_saved.npy')"
   ]
  },
  {
   "cell_type": "markdown",
   "metadata": {},
   "source": [
    "### Álgebra Linear\n",
    "\n",
    "Da definição do Wikipédia:\n",
    "\n",
    "    Álgebra linear é um ramo da matemática que surgiu do estudo detalhado de sistemas de equações lineares, sejam elas algébricas ou diferenciais. A álgebra linear utiliza alguns conceitos e estruturas fundamentais da matemática como vetores, espaços vetoriais, transformações lineares, sistemas de equações lineares e matrizes.\n",
    "\n",
    "O numpy nos permite executar diversas operações de álgebra linear, mostradas a seguir:\n"
   ]
  },
  {
   "cell_type": "code",
   "execution_count": 228,
   "metadata": {},
   "outputs": [
    {
     "name": "stdout",
     "output_type": "stream",
     "text": [
      "[[1. 1. 1.]\n",
      " [1. 1. 1.]]\n",
      "\n",
      "[[2 2]\n",
      " [2 2]\n",
      " [2 2]]\n",
      "\n",
      "[[1. 0. 0. 0. 0.]\n",
      " [0. 1. 0. 0. 0.]\n",
      " [0. 0. 1. 0. 0.]\n",
      " [0. 0. 0. 1. 0.]\n",
      " [0. 0. 0. 0. 1.]]\n"
     ]
    }
   ],
   "source": [
    "#Criando vetor de 1s:\n",
    "a = np.ones((2, 3))\n",
    "print(a)\n",
    "print()\n",
    "\n",
    "#CRiando vetor cheio de 2s:\n",
    "b = np.full((3, 2), 2)\n",
    "print(b)\n",
    "print()\n",
    "\n",
    "#Criando matriz identidade de ordem 5:\n",
    "c = np.identity(5)\n",
    "print(c)"
   ]
  },
  {
   "cell_type": "markdown",
   "metadata": {},
   "source": [
    "##### Transposição\n",
    "\n",
    "<img src=\"transposicao.png\"  style=\"width: 400px\" />\n",
    "\n",
    "A operação de transposição pode ser feita da seguinte forma:"
   ]
  },
  {
   "cell_type": "code",
   "execution_count": 229,
   "metadata": {},
   "outputs": [
    {
     "data": {
      "text/plain": [
       "array([[1., 1.],\n",
       "       [1., 1.],\n",
       "       [1., 1.]])"
      ]
     },
     "execution_count": 229,
     "metadata": {},
     "output_type": "execute_result"
    }
   ],
   "source": [
    "#Pegando a matriz transposta:\n",
    "np.transpose(a)"
   ]
  },
  {
   "cell_type": "markdown",
   "metadata": {},
   "source": [
    "Ou acessando o atributo T:"
   ]
  },
  {
   "cell_type": "code",
   "execution_count": 230,
   "metadata": {},
   "outputs": [
    {
     "data": {
      "text/plain": [
       "array([[1., 1.],\n",
       "       [1., 1.],\n",
       "       [1., 1.]])"
      ]
     },
     "execution_count": 230,
     "metadata": {},
     "output_type": "execute_result"
    }
   ],
   "source": [
    "#Outra maneira de pegar a matriz transposta:\n",
    "a.T"
   ]
  },
  {
   "cell_type": "markdown",
   "metadata": {},
   "source": [
    "#### Multiplicação de matrizes\n",
    "\n",
    "A tradicional multiplicação de matrizes, como mostra a imagem abaixo:\n",
    "\n",
    "<img src=\"multiplicacao.gif\"  style=\"width: 400px\" />\n",
    "\n",
    "pode ser feita no numpy simplesmente chamando `matmul`\n"
   ]
  },
  {
   "cell_type": "code",
   "execution_count": 231,
   "metadata": {},
   "outputs": [
    {
     "data": {
      "text/plain": [
       "array([[6., 6.],\n",
       "       [6., 6.]])"
      ]
     },
     "execution_count": 231,
     "metadata": {},
     "output_type": "execute_result"
    }
   ],
   "source": [
    "#Multiplicação de matrizes:\n",
    "np.matmul(a, b)"
   ]
  },
  {
   "cell_type": "markdown",
   "metadata": {},
   "source": [
    "Operador `@` executa a função anterior:\n"
   ]
  },
  {
   "cell_type": "code",
   "execution_count": 232,
   "metadata": {},
   "outputs": [
    {
     "data": {
      "text/plain": [
       "array([[6., 6.],\n",
       "       [6., 6.]])"
      ]
     },
     "execution_count": 232,
     "metadata": {},
     "output_type": "execute_result"
    }
   ],
   "source": [
    "#Maneira diferente de multiplicar matrizes:\n",
    "a @ b"
   ]
  },
  {
   "cell_type": "markdown",
   "metadata": {},
   "source": [
    "Se utilizarmos o símbolo * teremos a múltiplicação elemento à elemento e precisaremos de matrizes de mesmo tamanho"
   ]
  },
  {
   "cell_type": "code",
   "execution_count": 236,
   "metadata": {},
   "outputs": [
    {
     "name": "stdout",
     "output_type": "stream",
     "text": [
      "[[1 2]\n",
      " [3 2]]\n",
      "\n",
      "[[4 5]\n",
      " [2 1]]\n",
      "\n",
      " Multiplica elemento a elemento:\n",
      "[[ 4 10]\n",
      " [ 6  2]]\n",
      "\n",
      " Multiplica matrizes:\n",
      "[[ 8  7]\n",
      " [16 17]]\n"
     ]
    }
   ],
   "source": [
    "a = np.array([[1, 2], [3, 2]])\n",
    "b = np.array([[4, 5], [2, 1]])\n",
    "print(a)\n",
    "print()\n",
    "print(b)\n",
    "print(\"\\n Multiplica elemento a elemento:\")\n",
    "print(a * b)\n",
    "print(\"\\n Multiplica matrizes:\")\n",
    "print(a @ b)"
   ]
  },
  {
   "cell_type": "markdown",
   "metadata": {},
   "source": [
    "Outras funcções de Álgebra Linear: https://docs.scipy.org/doc/numpy/reference/routines.linalg.html\n",
    "\n",
    "    Trace\n",
    "    Decomposição de vetores\n",
    "    Autovalor/autovetor\n",
    "    Norma da Matriz\n",
    "    Inversa\n",
    "    Etc...\n"
   ]
  },
  {
   "cell_type": "markdown",
   "metadata": {},
   "source": [
    "Referências   <br>\n",
    "<a href=\"https://github.com/numpy/numpy\" target=\"_blank\">NumPy GitHub</a>  <br>\n",
    "<a href=\"https://docs.scipy.org/doc/numpy/reference/\" target=\"_blank\">Documentação oficial</a>   <br>\n",
    "<a href=\"https://docs.scipy.org/doc/numpy/reference/routines.math.html\" target=\"_blank\">Funções matemáticas</a>   <br>\n",
    "<a href=\"https://docs.scipy.org/doc/numpy/reference/routines.linalg.html\" target=\"_blank\">Funções de Álgebra Linear</a>   <br>\n",
    "<a href=\"http://www.opl.ufc.br/pt/post/numpy/\" target=\"_blank\">Outros</a> \n",
    "    "
   ]
  },
  {
   "cell_type": "markdown",
   "metadata": {},
   "source": [
    "## Outros tópicos\n",
    "* Broadcasting: operações com vetores de dimensões distintas\n",
    "\n",
    "<a href=\"http://www.opl.ufc.br/pt/post/numpy/\" target=\"_blank\">Referência</a> "
   ]
  },
  {
   "cell_type": "markdown",
   "metadata": {},
   "source": [
    "## Exercícios"
   ]
  },
  {
   "cell_type": "markdown",
   "metadata": {},
   "source": [
    "1 - Substitua os valores ímpares do seguinte array por 0:  <br>\n",
    "array = [1, 2, 3, 4, 5, 6, 7, 8, 9] <br>\n",
    "Utilizando list compreension e duas maneiras distintas com o numpy"
   ]
  },
  {
   "cell_type": "code",
   "execution_count": 129,
   "metadata": {},
   "outputs": [],
   "source": [
    "arr = np.array([1, 2, 3, 4, 5, 6, 7, 8, 9])\n",
    "[0 if i%2==1 else i for i in arr ]"
   ]
  },
  {
   "cell_type": "code",
   "execution_count": null,
   "metadata": {},
   "outputs": [],
   "source": [
    "arr[arr%2==1] = 0\n",
    "arr"
   ]
  },
  {
   "cell_type": "code",
   "execution_count": null,
   "metadata": {},
   "outputs": [],
   "source": [
    "np.where(arr % 2 == 1, 0, arr)"
   ]
  },
  {
   "cell_type": "markdown",
   "metadata": {},
   "source": [
    "2 - Concatene os vetores abaixo verticalmente e horizontalmente <br>\n",
    "a = np.arange(10).reshape(2,-1) <br>\n",
    "b = np.repeat(1, 10).reshape(2,-1)"
   ]
  },
  {
   "cell_type": "code",
   "execution_count": 147,
   "metadata": {},
   "outputs": [],
   "source": [
    "a = np.arange(10).reshape(2,-1)\n",
    "b = np.repeat(1, 10).reshape(2,-1)\n",
    "\n",
    "np.vstack([a,b])"
   ]
  },
  {
   "cell_type": "code",
   "execution_count": null,
   "metadata": {},
   "outputs": [],
   "source": [
    "np.hstack([a,b])"
   ]
  },
  {
   "cell_type": "markdown",
   "metadata": {},
   "source": [
    "3 - Importe as 4 primeiras colunas do dataset do íris com o numpy e print as 10 primeiras linhas <br> \n",
    "url = 'https://archive.ics.uci.edu/ml/machine-learning-databases/iris/iris.data'"
   ]
  },
  {
   "cell_type": "code",
   "execution_count": 153,
   "metadata": {},
   "outputs": [],
   "source": [
    "#Criando variável com o link fornecido:\n",
    "url = 'https://archive.ics.uci.edu/ml/machine-learning-databases/iris/iris.data'"
   ]
  },
  {
   "cell_type": "code",
   "execution_count": 154,
   "metadata": {
    "scrolled": true
   },
   "outputs": [],
   "source": [
    "#Colocando o arquivo numa variável chamada arquivo:\n",
    "#Copiei esse código de paty, porque não sabia fazer\n",
    "arquivo = np.genfromtxt(url, delimiter=',', usecols=[0,1,2,3])"
   ]
  },
  {
   "cell_type": "code",
   "execution_count": 156,
   "metadata": {},
   "outputs": [
    {
     "data": {
      "text/plain": [
       "array([[5.1, 3.5, 1.4, 0.2],\n",
       "       [4.9, 3. , 1.4, 0.2],\n",
       "       [4.7, 3.2, 1.3, 0.2],\n",
       "       [4.6, 3.1, 1.5, 0.2],\n",
       "       [5. , 3.6, 1.4, 0.2],\n",
       "       [5.4, 3.9, 1.7, 0.4],\n",
       "       [4.6, 3.4, 1.4, 0.3],\n",
       "       [5. , 3.4, 1.5, 0.2],\n",
       "       [4.4, 2.9, 1.4, 0.2],\n",
       "       [4.9, 3.1, 1.5, 0.1],\n",
       "       [5.4, 3.7, 1.5, 0.2],\n",
       "       [4.8, 3.4, 1.6, 0.2],\n",
       "       [4.8, 3. , 1.4, 0.1],\n",
       "       [4.3, 3. , 1.1, 0.1],\n",
       "       [5.8, 4. , 1.2, 0.2],\n",
       "       [5.7, 4.4, 1.5, 0.4],\n",
       "       [5.4, 3.9, 1.3, 0.4],\n",
       "       [5.1, 3.5, 1.4, 0.3],\n",
       "       [5.7, 3.8, 1.7, 0.3],\n",
       "       [5.1, 3.8, 1.5, 0.3],\n",
       "       [5.4, 3.4, 1.7, 0.2],\n",
       "       [5.1, 3.7, 1.5, 0.4],\n",
       "       [4.6, 3.6, 1. , 0.2],\n",
       "       [5.1, 3.3, 1.7, 0.5],\n",
       "       [4.8, 3.4, 1.9, 0.2],\n",
       "       [5. , 3. , 1.6, 0.2],\n",
       "       [5. , 3.4, 1.6, 0.4],\n",
       "       [5.2, 3.5, 1.5, 0.2],\n",
       "       [5.2, 3.4, 1.4, 0.2],\n",
       "       [4.7, 3.2, 1.6, 0.2],\n",
       "       [4.8, 3.1, 1.6, 0.2],\n",
       "       [5.4, 3.4, 1.5, 0.4],\n",
       "       [5.2, 4.1, 1.5, 0.1],\n",
       "       [5.5, 4.2, 1.4, 0.2],\n",
       "       [4.9, 3.1, 1.5, 0.1],\n",
       "       [5. , 3.2, 1.2, 0.2],\n",
       "       [5.5, 3.5, 1.3, 0.2],\n",
       "       [4.9, 3.1, 1.5, 0.1],\n",
       "       [4.4, 3. , 1.3, 0.2],\n",
       "       [5.1, 3.4, 1.5, 0.2],\n",
       "       [5. , 3.5, 1.3, 0.3],\n",
       "       [4.5, 2.3, 1.3, 0.3],\n",
       "       [4.4, 3.2, 1.3, 0.2],\n",
       "       [5. , 3.5, 1.6, 0.6],\n",
       "       [5.1, 3.8, 1.9, 0.4],\n",
       "       [4.8, 3. , 1.4, 0.3],\n",
       "       [5.1, 3.8, 1.6, 0.2],\n",
       "       [4.6, 3.2, 1.4, 0.2],\n",
       "       [5.3, 3.7, 1.5, 0.2],\n",
       "       [5. , 3.3, 1.4, 0.2],\n",
       "       [7. , 3.2, 4.7, 1.4],\n",
       "       [6.4, 3.2, 4.5, 1.5],\n",
       "       [6.9, 3.1, 4.9, 1.5],\n",
       "       [5.5, 2.3, 4. , 1.3],\n",
       "       [6.5, 2.8, 4.6, 1.5],\n",
       "       [5.7, 2.8, 4.5, 1.3],\n",
       "       [6.3, 3.3, 4.7, 1.6],\n",
       "       [4.9, 2.4, 3.3, 1. ],\n",
       "       [6.6, 2.9, 4.6, 1.3],\n",
       "       [5.2, 2.7, 3.9, 1.4],\n",
       "       [5. , 2. , 3.5, 1. ],\n",
       "       [5.9, 3. , 4.2, 1.5],\n",
       "       [6. , 2.2, 4. , 1. ],\n",
       "       [6.1, 2.9, 4.7, 1.4],\n",
       "       [5.6, 2.9, 3.6, 1.3],\n",
       "       [6.7, 3.1, 4.4, 1.4],\n",
       "       [5.6, 3. , 4.5, 1.5],\n",
       "       [5.8, 2.7, 4.1, 1. ],\n",
       "       [6.2, 2.2, 4.5, 1.5],\n",
       "       [5.6, 2.5, 3.9, 1.1],\n",
       "       [5.9, 3.2, 4.8, 1.8],\n",
       "       [6.1, 2.8, 4. , 1.3],\n",
       "       [6.3, 2.5, 4.9, 1.5],\n",
       "       [6.1, 2.8, 4.7, 1.2],\n",
       "       [6.4, 2.9, 4.3, 1.3],\n",
       "       [6.6, 3. , 4.4, 1.4],\n",
       "       [6.8, 2.8, 4.8, 1.4],\n",
       "       [6.7, 3. , 5. , 1.7],\n",
       "       [6. , 2.9, 4.5, 1.5],\n",
       "       [5.7, 2.6, 3.5, 1. ],\n",
       "       [5.5, 2.4, 3.8, 1.1],\n",
       "       [5.5, 2.4, 3.7, 1. ],\n",
       "       [5.8, 2.7, 3.9, 1.2],\n",
       "       [6. , 2.7, 5.1, 1.6],\n",
       "       [5.4, 3. , 4.5, 1.5],\n",
       "       [6. , 3.4, 4.5, 1.6],\n",
       "       [6.7, 3.1, 4.7, 1.5],\n",
       "       [6.3, 2.3, 4.4, 1.3],\n",
       "       [5.6, 3. , 4.1, 1.3],\n",
       "       [5.5, 2.5, 4. , 1.3],\n",
       "       [5.5, 2.6, 4.4, 1.2],\n",
       "       [6.1, 3. , 4.6, 1.4],\n",
       "       [5.8, 2.6, 4. , 1.2],\n",
       "       [5. , 2.3, 3.3, 1. ],\n",
       "       [5.6, 2.7, 4.2, 1.3],\n",
       "       [5.7, 3. , 4.2, 1.2],\n",
       "       [5.7, 2.9, 4.2, 1.3],\n",
       "       [6.2, 2.9, 4.3, 1.3],\n",
       "       [5.1, 2.5, 3. , 1.1],\n",
       "       [5.7, 2.8, 4.1, 1.3],\n",
       "       [6.3, 3.3, 6. , 2.5],\n",
       "       [5.8, 2.7, 5.1, 1.9],\n",
       "       [7.1, 3. , 5.9, 2.1],\n",
       "       [6.3, 2.9, 5.6, 1.8],\n",
       "       [6.5, 3. , 5.8, 2.2],\n",
       "       [7.6, 3. , 6.6, 2.1],\n",
       "       [4.9, 2.5, 4.5, 1.7],\n",
       "       [7.3, 2.9, 6.3, 1.8],\n",
       "       [6.7, 2.5, 5.8, 1.8],\n",
       "       [7.2, 3.6, 6.1, 2.5],\n",
       "       [6.5, 3.2, 5.1, 2. ],\n",
       "       [6.4, 2.7, 5.3, 1.9],\n",
       "       [6.8, 3. , 5.5, 2.1],\n",
       "       [5.7, 2.5, 5. , 2. ],\n",
       "       [5.8, 2.8, 5.1, 2.4],\n",
       "       [6.4, 3.2, 5.3, 2.3],\n",
       "       [6.5, 3. , 5.5, 1.8],\n",
       "       [7.7, 3.8, 6.7, 2.2],\n",
       "       [7.7, 2.6, 6.9, 2.3],\n",
       "       [6. , 2.2, 5. , 1.5],\n",
       "       [6.9, 3.2, 5.7, 2.3],\n",
       "       [5.6, 2.8, 4.9, 2. ],\n",
       "       [7.7, 2.8, 6.7, 2. ],\n",
       "       [6.3, 2.7, 4.9, 1.8],\n",
       "       [6.7, 3.3, 5.7, 2.1],\n",
       "       [7.2, 3.2, 6. , 1.8],\n",
       "       [6.2, 2.8, 4.8, 1.8],\n",
       "       [6.1, 3. , 4.9, 1.8],\n",
       "       [6.4, 2.8, 5.6, 2.1],\n",
       "       [7.2, 3. , 5.8, 1.6],\n",
       "       [7.4, 2.8, 6.1, 1.9],\n",
       "       [7.9, 3.8, 6.4, 2. ],\n",
       "       [6.4, 2.8, 5.6, 2.2],\n",
       "       [6.3, 2.8, 5.1, 1.5],\n",
       "       [6.1, 2.6, 5.6, 1.4],\n",
       "       [7.7, 3. , 6.1, 2.3],\n",
       "       [6.3, 3.4, 5.6, 2.4],\n",
       "       [6.4, 3.1, 5.5, 1.8],\n",
       "       [6. , 3. , 4.8, 1.8],\n",
       "       [6.9, 3.1, 5.4, 2.1],\n",
       "       [6.7, 3.1, 5.6, 2.4],\n",
       "       [6.9, 3.1, 5.1, 2.3],\n",
       "       [5.8, 2.7, 5.1, 1.9],\n",
       "       [6.8, 3.2, 5.9, 2.3],\n",
       "       [6.7, 3.3, 5.7, 2.5],\n",
       "       [6.7, 3. , 5.2, 2.3],\n",
       "       [6.3, 2.5, 5. , 1.9],\n",
       "       [6.5, 3. , 5.2, 2. ],\n",
       "       [6.2, 3.4, 5.4, 2.3],\n",
       "       [5.9, 3. , 5.1, 1.8]])"
      ]
     },
     "execution_count": 156,
     "metadata": {},
     "output_type": "execute_result"
    }
   ],
   "source": [
    "#Mostrando o arquivo:\n",
    "arquivo"
   ]
  },
  {
   "cell_type": "code",
   "execution_count": 158,
   "metadata": {},
   "outputs": [
    {
     "data": {
      "text/plain": [
       "array([[5.1, 3.5, 1.4, 0.2],\n",
       "       [4.9, 3. , 1.4, 0.2],\n",
       "       [4.7, 3.2, 1.3, 0.2],\n",
       "       [4.6, 3.1, 1.5, 0.2],\n",
       "       [5. , 3.6, 1.4, 0.2],\n",
       "       [5.4, 3.9, 1.7, 0.4],\n",
       "       [4.6, 3.4, 1.4, 0.3],\n",
       "       [5. , 3.4, 1.5, 0.2],\n",
       "       [4.4, 2.9, 1.4, 0.2],\n",
       "       [4.9, 3.1, 1.5, 0.1]])"
      ]
     },
     "execution_count": 158,
     "metadata": {},
     "output_type": "execute_result"
    }
   ],
   "source": [
    "#Mostrando as 10 primeiras linhas do arquivo:\n",
    "arquivo[:10]"
   ]
  },
  {
   "cell_type": "code",
   "execution_count": null,
   "metadata": {},
   "outputs": [],
   "source": [
    "# Input\n",
    "sepallength = np.genfromtxt(url, delimiter=',', dtype='float', usecols=[0])\n",
    "\n",
    "# Solution\n",
    "mu, med, sd = np.mean(sepallength), np.median(sepallength), np.std(sepallength)\n",
    "print(mu, med, sd)"
   ]
  },
  {
   "cell_type": "markdown",
   "metadata": {},
   "source": [
    "4 - Calcule a média, mediana e desvio padrão da coluna sepallenght"
   ]
  },
  {
   "cell_type": "code",
   "execution_count": 163,
   "metadata": {},
   "outputs": [
    {
     "data": {
      "text/plain": [
       "array([5.1, 4.9, 4.7, 4.6, 5. , 5.4, 4.6, 5. , 4.4, 4.9, 5.4, 4.8, 4.8,\n",
       "       4.3, 5.8, 5.7, 5.4, 5.1, 5.7, 5.1, 5.4, 5.1, 4.6, 5.1, 4.8, 5. ,\n",
       "       5. , 5.2, 5.2, 4.7, 4.8, 5.4, 5.2, 5.5, 4.9, 5. , 5.5, 4.9, 4.4,\n",
       "       5.1, 5. , 4.5, 4.4, 5. , 5.1, 4.8, 5.1, 4.6, 5.3, 5. , 7. , 6.4,\n",
       "       6.9, 5.5, 6.5, 5.7, 6.3, 4.9, 6.6, 5.2, 5. , 5.9, 6. , 6.1, 5.6,\n",
       "       6.7, 5.6, 5.8, 6.2, 5.6, 5.9, 6.1, 6.3, 6.1, 6.4, 6.6, 6.8, 6.7,\n",
       "       6. , 5.7, 5.5, 5.5, 5.8, 6. , 5.4, 6. , 6.7, 6.3, 5.6, 5.5, 5.5,\n",
       "       6.1, 5.8, 5. , 5.6, 5.7, 5.7, 6.2, 5.1, 5.7, 6.3, 5.8, 7.1, 6.3,\n",
       "       6.5, 7.6, 4.9, 7.3, 6.7, 7.2, 6.5, 6.4, 6.8, 5.7, 5.8, 6.4, 6.5,\n",
       "       7.7, 7.7, 6. , 6.9, 5.6, 7.7, 6.3, 6.7, 7.2, 6.2, 6.1, 6.4, 7.2,\n",
       "       7.4, 7.9, 6.4, 6.3, 6.1, 7.7, 6.3, 6.4, 6. , 6.9, 6.7, 6.9, 5.8,\n",
       "       6.8, 6.7, 6.7, 6.3, 6.5, 6.2, 5.9])"
      ]
     },
     "execution_count": 163,
     "metadata": {},
     "output_type": "execute_result"
    }
   ],
   "source": [
    "#Coluna sepallength:\n",
    "sepallength = arquivo[:,0]\n",
    "sepallength"
   ]
  },
  {
   "cell_type": "code",
   "execution_count": 165,
   "metadata": {},
   "outputs": [
    {
     "data": {
      "text/plain": [
       "5.843333333333334"
      ]
     },
     "execution_count": 165,
     "metadata": {},
     "output_type": "execute_result"
    }
   ],
   "source": [
    "#Média\n",
    "sepallength.mean()"
   ]
  },
  {
   "cell_type": "code",
   "execution_count": 180,
   "metadata": {},
   "outputs": [
    {
     "name": "stdout",
     "output_type": "stream",
     "text": [
      "[4.3, 4.4, 4.4, 4.4, 4.5, 4.6, 4.6, 4.6, 4.6, 4.7, 4.7, 4.8, 4.8, 4.8, 4.8, 4.8, 4.9, 4.9, 4.9, 4.9, 4.9, 4.9, 5.0, 5.0, 5.0, 5.0, 5.0, 5.0, 5.0, 5.0, 5.0, 5.0, 5.1, 5.1, 5.1, 5.1, 5.1, 5.1, 5.1, 5.1, 5.1, 5.2, 5.2, 5.2, 5.2, 5.3, 5.4, 5.4, 5.4, 5.4, 5.4, 5.4, 5.5, 5.5, 5.5, 5.5, 5.5, 5.5, 5.5, 5.6, 5.6, 5.6, 5.6, 5.6, 5.6, 5.7, 5.7, 5.7, 5.7, 5.7, 5.7, 5.7, 5.7, 5.8, 5.8, 5.8, 5.8, 5.8, 5.8, 5.8, 5.9, 5.9, 5.9, 6.0, 6.0, 6.0, 6.0, 6.0, 6.0, 6.1, 6.1, 6.1, 6.1, 6.1, 6.1, 6.2, 6.2, 6.2, 6.2, 6.3, 6.3, 6.3, 6.3, 6.3, 6.3, 6.3, 6.3, 6.3, 6.4, 6.4, 6.4, 6.4, 6.4, 6.4, 6.4, 6.5, 6.5, 6.5, 6.5, 6.5, 6.6, 6.6, 6.7, 6.7, 6.7, 6.7, 6.7, 6.7, 6.7, 6.7, 6.8, 6.8, 6.8, 6.9, 6.9, 6.9, 6.9, 7.0, 7.1, 7.2, 7.2, 7.2, 7.3, 7.4, 7.6, 7.7, 7.7, 7.7, 7.7, 7.9]\n"
     ]
    },
    {
     "data": {
      "text/plain": [
       "5.8"
      ]
     },
     "execution_count": 180,
     "metadata": {},
     "output_type": "execute_result"
    }
   ],
   "source": [
    "#Mediana\n",
    "\n",
    "#Ordenando o array:\n",
    "ordenado = sorted(sepallength)\n",
    "print(ordenado)\n",
    "if sepallength.size%2==1:\n",
    "    mediana = ordenado[sepallength.size/2+0.5]\n",
    "else:\n",
    "    mediana = (ordenado[int(sepallength.size/2)]+ordenado[int(sepallength.size/2+1)])/2\n",
    "mediana"
   ]
  },
  {
   "cell_type": "code",
   "execution_count": 181,
   "metadata": {},
   "outputs": [
    {
     "data": {
      "text/plain": [
       "0.8253012917851409"
      ]
     },
     "execution_count": 181,
     "metadata": {},
     "output_type": "execute_result"
    }
   ],
   "source": [
    "#Desvio padrão:\n",
    "\n",
    "sepallength.std()"
   ]
  },
  {
   "cell_type": "markdown",
   "metadata": {},
   "source": [
    "5 - Crie um vetor normalizado da coluna sepallength cujos valores estejam entre 0 e 1"
   ]
  },
  {
   "cell_type": "code",
   "execution_count": 187,
   "metadata": {},
   "outputs": [
    {
     "data": {
      "text/plain": [
       "array([0.        , 0.02777778, 0.02777778, 0.02777778, 0.05555556,\n",
       "       0.08333333, 0.08333333, 0.08333333, 0.08333333, 0.11111111,\n",
       "       0.11111111, 0.13888889, 0.13888889, 0.13888889, 0.13888889,\n",
       "       0.13888889, 0.16666667, 0.16666667, 0.16666667, 0.16666667,\n",
       "       0.16666667, 0.16666667, 0.19444444, 0.19444444, 0.19444444,\n",
       "       0.19444444, 0.19444444, 0.19444444, 0.19444444, 0.19444444,\n",
       "       0.19444444, 0.19444444, 0.22222222, 0.22222222, 0.22222222,\n",
       "       0.22222222, 0.22222222, 0.22222222, 0.22222222, 0.22222222,\n",
       "       0.22222222, 0.25      , 0.25      , 0.25      , 0.25      ,\n",
       "       0.27777778, 0.30555556, 0.30555556, 0.30555556, 0.30555556,\n",
       "       0.30555556, 0.30555556, 0.33333333, 0.33333333, 0.33333333,\n",
       "       0.33333333, 0.33333333, 0.33333333, 0.33333333, 0.36111111,\n",
       "       0.36111111, 0.36111111, 0.36111111, 0.36111111, 0.36111111,\n",
       "       0.38888889, 0.38888889, 0.38888889, 0.38888889, 0.38888889,\n",
       "       0.38888889, 0.38888889, 0.38888889, 0.41666667, 0.41666667,\n",
       "       0.41666667, 0.41666667, 0.41666667, 0.41666667, 0.41666667,\n",
       "       0.44444444, 0.44444444, 0.44444444, 0.47222222, 0.47222222,\n",
       "       0.47222222, 0.47222222, 0.47222222, 0.47222222, 0.5       ,\n",
       "       0.5       , 0.5       , 0.5       , 0.5       , 0.5       ,\n",
       "       0.52777778, 0.52777778, 0.52777778, 0.52777778, 0.55555556,\n",
       "       0.55555556, 0.55555556, 0.55555556, 0.55555556, 0.55555556,\n",
       "       0.55555556, 0.55555556, 0.55555556, 0.58333333, 0.58333333,\n",
       "       0.58333333, 0.58333333, 0.58333333, 0.58333333, 0.58333333,\n",
       "       0.61111111, 0.61111111, 0.61111111, 0.61111111, 0.61111111,\n",
       "       0.63888889, 0.63888889, 0.66666667, 0.66666667, 0.66666667,\n",
       "       0.66666667, 0.66666667, 0.66666667, 0.66666667, 0.66666667,\n",
       "       0.69444444, 0.69444444, 0.69444444, 0.72222222, 0.72222222,\n",
       "       0.72222222, 0.72222222, 0.75      , 0.77777778, 0.80555556,\n",
       "       0.80555556, 0.80555556, 0.83333333, 0.86111111, 0.91666667,\n",
       "       0.94444444, 0.94444444, 0.94444444, 0.94444444, 1.        ])"
      ]
     },
     "execution_count": 187,
     "metadata": {},
     "output_type": "execute_result"
    }
   ],
   "source": [
    "#Não saberia fazer isso, valeu Paty :D\n",
    "Smax, Smin = sepallength.max(), sepallength.min()\n",
    "S = (sepallength - Smin)/(Smax - Smin)\n",
    "S"
   ]
  },
  {
   "cell_type": "markdown",
   "metadata": {},
   "source": [
    "6 - Filtre a matriz para conter apenas dados nos quais petallength (3ª columna) > 1.5 e sepallength (1ª coluna) < 5.0"
   ]
  },
  {
   "cell_type": "code",
   "execution_count": 195,
   "metadata": {},
   "outputs": [],
   "source": [
    "condition = (iris[:, 2] > 1.5) & (iris[:, 0] < 5.0)\n",
    "iris[condition]"
   ]
  },
  {
   "cell_type": "markdown",
   "metadata": {},
   "source": [
    "7 - Esses dados possuem nans?"
   ]
  },
  {
   "cell_type": "code",
   "execution_count": 203,
   "metadata": {},
   "outputs": [
    {
     "data": {
      "text/plain": [
       "0"
      ]
     },
     "execution_count": 203,
     "metadata": {},
     "output_type": "execute_result"
    }
   ],
   "source": [
    "#Retorna a quantidade de nans nos dados:\n",
    "np.isnan(arquivo).sum()\n"
   ]
  },
  {
   "cell_type": "markdown",
   "metadata": {},
   "source": [
    "8 - Crie uma coluna de volume sabendo que o volume representa (pi x petallength x sepal_length^2)/3"
   ]
  },
  {
   "cell_type": "code",
   "execution_count": 207,
   "metadata": {},
   "outputs": [
    {
     "data": {
      "text/plain": [
       "array([ 27.10775581,  28.38324243,  26.35586797,  30.41061689,\n",
       "        29.68805058,  37.66979031,  31.02218026,  33.23805027,\n",
       "        31.02218026,  34.69889086,  34.69889086,  38.60389053,\n",
       "        33.77840421,  26.54017474,  28.9529179 ,  36.19114737,\n",
       "        32.68617717,  35.20049849,  42.74346245,  37.71481981,\n",
       "        42.74346245,  37.71481981,  26.17993878,  44.50589593,\n",
       "        49.74188368,  41.88790205,  41.88790205,  39.26990817,\n",
       "        36.65191429,  41.88790205,  41.88790205,  39.26990817,\n",
       "        40.85641246,  38.13265163,  40.85641246,  32.68512997,\n",
       "        35.4088908 ,  40.85641246,  35.4088908 ,  40.85641246,\n",
       "        35.4088908 ,  36.81108832,  36.81108832,  45.30595485,\n",
       "        53.80082139,  41.1820909 ,  48.85804895,  42.75079283,\n",
       "        45.80442089,  42.75079283, 143.52051879, 137.41326267,\n",
       "       155.22085703, 126.71090369, 145.71753925, 142.54976666,\n",
       "       148.88531184, 104.53649555, 145.71753925, 128.0764493 ,\n",
       "       114.94040322, 137.92848386, 131.36046082, 154.34854147,\n",
       "       118.22441474, 149.70317313, 153.10551797, 139.4961386 ,\n",
       "       153.10551797, 132.69144891, 163.3125525 , 136.09379375,\n",
       "       166.71489735, 165.57031042, 151.47922018, 155.00199274,\n",
       "       169.09308299, 176.13862811, 158.5247653 , 123.29703968,\n",
       "       138.52119768, 134.875903  , 142.16649235, 192.2654704 ,\n",
       "       169.64600329, 169.64600329, 177.18582566, 165.87609211,\n",
       "       154.56635856, 155.86488352, 171.45137187, 179.24461605,\n",
       "       155.86488352, 128.5885289 , 163.6581277 , 169.06795025,\n",
       "       169.06795025, 173.09337763, 120.7628216 , 170.40941031,\n",
       "       249.37962484, 211.97268112, 245.22329776, 232.75431652,\n",
       "       241.06697068, 274.31758733, 187.03471863, 261.84860608,\n",
       "       248.78062784, 261.64859135, 218.75537965, 227.33402199,\n",
       "       235.91266433, 214.46605849, 218.75537965, 234.49371165,\n",
       "       243.34253096, 296.4354468 , 305.28426611, 221.22048269,\n",
       "       260.01077438, 223.51803412, 314.95827709, 230.34262056,\n",
       "       267.94957902, 282.05218844, 225.64175075, 230.34262056,\n",
       "       263.24870921, 272.65044882, 295.37673008, 309.90345451,\n",
       "       271.1655227 , 254.2710846 , 279.19962231, 304.12816002,\n",
       "       279.19962231, 282.21974005, 253.38829707, 293.14829369,\n",
       "       304.0056379 , 276.86227738, 284.60630327, 338.33277363,\n",
       "       344.77094418, 322.85938261, 310.44171405, 322.85938261,\n",
       "       335.27705118, 333.31355577])"
      ]
     },
     "execution_count": 207,
     "metadata": {},
     "output_type": "execute_result"
    }
   ],
   "source": [
    "volume = (np.pi*arquivo[:,2]*arquivo[:,0]**2)/3\n",
    "volume"
   ]
  },
  {
   "cell_type": "code",
   "execution_count": 213,
   "metadata": {},
   "outputs": [],
   "source": [
    "#Maneira de paty:\n",
    "\n",
    "petal_length = arquivo[:,2]"
   ]
  },
  {
   "cell_type": "code",
   "execution_count": 214,
   "metadata": {},
   "outputs": [
    {
     "data": {
      "text/plain": [
       "array([1.4, 1.4, 1.3, 1.5, 1.4, 1.7, 1.4, 1.5, 1.4, 1.5, 1.5, 1.6, 1.4,\n",
       "       1.1, 1.2, 1.5, 1.3, 1.4, 1.7, 1.5, 1.7, 1.5, 1. , 1.7, 1.9, 1.6,\n",
       "       1.6, 1.5, 1.4, 1.6, 1.6, 1.5, 1.5, 1.4, 1.5, 1.2, 1.3, 1.5, 1.3,\n",
       "       1.5, 1.3, 1.3, 1.3, 1.6, 1.9, 1.4, 1.6, 1.4, 1.5, 1.4, 4.7, 4.5,\n",
       "       4.9, 4. , 4.6, 4.5, 4.7, 3.3, 4.6, 3.9, 3.5, 4.2, 4. , 4.7, 3.6,\n",
       "       4.4, 4.5, 4.1, 4.5, 3.9, 4.8, 4. , 4.9, 4.7, 4.3, 4.4, 4.8, 5. ,\n",
       "       4.5, 3.5, 3.8, 3.7, 3.9, 5.1, 4.5, 4.5, 4.7, 4.4, 4.1, 4. , 4.4,\n",
       "       4.6, 4. , 3.3, 4.2, 4.2, 4.2, 4.3, 3. , 4.1, 6. , 5.1, 5.9, 5.6,\n",
       "       5.8, 6.6, 4.5, 6.3, 5.8, 6.1, 5.1, 5.3, 5.5, 5. , 5.1, 5.3, 5.5,\n",
       "       6.7, 6.9, 5. , 5.7, 4.9, 6.7, 4.9, 5.7, 6. , 4.8, 4.9, 5.6, 5.8,\n",
       "       6.1, 6.4, 5.6, 5.1, 5.6, 6.1, 5.6, 5.5, 4.8, 5.4, 5.6, 5.1, 5.1,\n",
       "       5.9, 5.7, 5.2, 5. , 5.2, 5.4, 5.1])"
      ]
     },
     "execution_count": 214,
     "metadata": {},
     "output_type": "execute_result"
    }
   ],
   "source": [
    "petal_length"
   ]
  },
  {
   "cell_type": "code",
   "execution_count": 215,
   "metadata": {},
   "outputs": [],
   "source": [
    "volume = (np.pi*petal_length*sepallength**2)/3"
   ]
  },
  {
   "cell_type": "code",
   "execution_count": 216,
   "metadata": {},
   "outputs": [
    {
     "data": {
      "text/plain": [
       "array([ 27.10775581,  28.38324243,  26.35586797,  30.41061689,\n",
       "        29.68805058,  37.66979031,  31.02218026,  33.23805027,\n",
       "        31.02218026,  34.69889086,  34.69889086,  38.60389053,\n",
       "        33.77840421,  26.54017474,  28.9529179 ,  36.19114737,\n",
       "        32.68617717,  35.20049849,  42.74346245,  37.71481981,\n",
       "        42.74346245,  37.71481981,  26.17993878,  44.50589593,\n",
       "        49.74188368,  41.88790205,  41.88790205,  39.26990817,\n",
       "        36.65191429,  41.88790205,  41.88790205,  39.26990817,\n",
       "        40.85641246,  38.13265163,  40.85641246,  32.68512997,\n",
       "        35.4088908 ,  40.85641246,  35.4088908 ,  40.85641246,\n",
       "        35.4088908 ,  36.81108832,  36.81108832,  45.30595485,\n",
       "        53.80082139,  41.1820909 ,  48.85804895,  42.75079283,\n",
       "        45.80442089,  42.75079283, 143.52051879, 137.41326267,\n",
       "       155.22085703, 126.71090369, 145.71753925, 142.54976666,\n",
       "       148.88531184, 104.53649555, 145.71753925, 128.0764493 ,\n",
       "       114.94040322, 137.92848386, 131.36046082, 154.34854147,\n",
       "       118.22441474, 149.70317313, 153.10551797, 139.4961386 ,\n",
       "       153.10551797, 132.69144891, 163.3125525 , 136.09379375,\n",
       "       166.71489735, 165.57031042, 151.47922018, 155.00199274,\n",
       "       169.09308299, 176.13862811, 158.5247653 , 123.29703968,\n",
       "       138.52119768, 134.875903  , 142.16649235, 192.2654704 ,\n",
       "       169.64600329, 169.64600329, 177.18582566, 165.87609211,\n",
       "       154.56635856, 155.86488352, 171.45137187, 179.24461605,\n",
       "       155.86488352, 128.5885289 , 163.6581277 , 169.06795025,\n",
       "       169.06795025, 173.09337763, 120.7628216 , 170.40941031,\n",
       "       249.37962484, 211.97268112, 245.22329776, 232.75431652,\n",
       "       241.06697068, 274.31758733, 187.03471863, 261.84860608,\n",
       "       248.78062784, 261.64859135, 218.75537965, 227.33402199,\n",
       "       235.91266433, 214.46605849, 218.75537965, 234.49371165,\n",
       "       243.34253096, 296.4354468 , 305.28426611, 221.22048269,\n",
       "       260.01077438, 223.51803412, 314.95827709, 230.34262056,\n",
       "       267.94957902, 282.05218844, 225.64175075, 230.34262056,\n",
       "       263.24870921, 272.65044882, 295.37673008, 309.90345451,\n",
       "       271.1655227 , 254.2710846 , 279.19962231, 304.12816002,\n",
       "       279.19962231, 282.21974005, 253.38829707, 293.14829369,\n",
       "       304.0056379 , 276.86227738, 284.60630327, 338.33277363,\n",
       "       344.77094418, 322.85938261, 310.44171405, 322.85938261,\n",
       "       335.27705118, 333.31355577])"
      ]
     },
     "execution_count": 216,
     "metadata": {},
     "output_type": "execute_result"
    }
   ],
   "source": [
    "volume"
   ]
  },
  {
   "cell_type": "code",
   "execution_count": 217,
   "metadata": {},
   "outputs": [
    {
     "data": {
      "text/plain": [
       "(150, 1)"
      ]
     },
     "execution_count": 217,
     "metadata": {},
     "output_type": "execute_result"
    }
   ],
   "source": [
    "# DAQUI PRA BAIXO EU NÃO SEI O QUE A PATY FEZ.\n",
    "\n",
    "volume[:,np.newaxis].shape"
   ]
  },
  {
   "cell_type": "code",
   "execution_count": 218,
   "metadata": {},
   "outputs": [
    {
     "data": {
      "text/plain": [
       "(150, 1)"
      ]
     },
     "execution_count": 218,
     "metadata": {},
     "output_type": "execute_result"
    }
   ],
   "source": [
    "volume.reshape(-1,1).shape"
   ]
  },
  {
   "cell_type": "code",
   "execution_count": 220,
   "metadata": {},
   "outputs": [
    {
     "data": {
      "text/plain": [
       "array([[4.30000000e+00, 3.50000000e+00, 1.40000000e+00, 2.00000000e-01,\n",
       "        2.71077558e+01],\n",
       "       [4.40000000e+00, 3.00000000e+00, 1.40000000e+00, 2.00000000e-01,\n",
       "        2.83832424e+01],\n",
       "       [4.40000000e+00, 3.20000000e+00, 1.30000000e+00, 2.00000000e-01,\n",
       "        2.63558680e+01],\n",
       "       [4.40000000e+00, 3.10000000e+00, 1.50000000e+00, 2.00000000e-01,\n",
       "        3.04106169e+01],\n",
       "       [4.50000000e+00, 3.60000000e+00, 1.40000000e+00, 2.00000000e-01,\n",
       "        2.96880506e+01],\n",
       "       [4.60000000e+00, 3.90000000e+00, 1.70000000e+00, 4.00000000e-01,\n",
       "        3.76697903e+01],\n",
       "       [4.60000000e+00, 3.40000000e+00, 1.40000000e+00, 3.00000000e-01,\n",
       "        3.10221803e+01],\n",
       "       [4.60000000e+00, 3.40000000e+00, 1.50000000e+00, 2.00000000e-01,\n",
       "        3.32380503e+01],\n",
       "       [4.60000000e+00, 2.90000000e+00, 1.40000000e+00, 2.00000000e-01,\n",
       "        3.10221803e+01],\n",
       "       [4.70000000e+00, 3.10000000e+00, 1.50000000e+00, 1.00000000e-01,\n",
       "        3.46988909e+01],\n",
       "       [4.70000000e+00, 3.70000000e+00, 1.50000000e+00, 2.00000000e-01,\n",
       "        3.46988909e+01],\n",
       "       [4.80000000e+00, 3.40000000e+00, 1.60000000e+00, 2.00000000e-01,\n",
       "        3.86038905e+01],\n",
       "       [4.80000000e+00, 3.00000000e+00, 1.40000000e+00, 1.00000000e-01,\n",
       "        3.37784042e+01],\n",
       "       [4.80000000e+00, 3.00000000e+00, 1.10000000e+00, 1.00000000e-01,\n",
       "        2.65401747e+01],\n",
       "       [4.80000000e+00, 4.00000000e+00, 1.20000000e+00, 2.00000000e-01,\n",
       "        2.89529179e+01],\n",
       "       [4.80000000e+00, 4.40000000e+00, 1.50000000e+00, 4.00000000e-01,\n",
       "        3.61911474e+01],\n",
       "       [4.90000000e+00, 3.90000000e+00, 1.30000000e+00, 4.00000000e-01,\n",
       "        3.26861772e+01],\n",
       "       [4.90000000e+00, 3.50000000e+00, 1.40000000e+00, 3.00000000e-01,\n",
       "        3.52004985e+01],\n",
       "       [4.90000000e+00, 3.80000000e+00, 1.70000000e+00, 3.00000000e-01,\n",
       "        4.27434624e+01],\n",
       "       [4.90000000e+00, 3.80000000e+00, 1.50000000e+00, 3.00000000e-01,\n",
       "        3.77148198e+01],\n",
       "       [4.90000000e+00, 3.40000000e+00, 1.70000000e+00, 2.00000000e-01,\n",
       "        4.27434624e+01],\n",
       "       [4.90000000e+00, 3.70000000e+00, 1.50000000e+00, 4.00000000e-01,\n",
       "        3.77148198e+01],\n",
       "       [5.00000000e+00, 3.60000000e+00, 1.00000000e+00, 2.00000000e-01,\n",
       "        2.61799388e+01],\n",
       "       [5.00000000e+00, 3.30000000e+00, 1.70000000e+00, 5.00000000e-01,\n",
       "        4.45058959e+01],\n",
       "       [5.00000000e+00, 3.40000000e+00, 1.90000000e+00, 2.00000000e-01,\n",
       "        4.97418837e+01],\n",
       "       [5.00000000e+00, 3.00000000e+00, 1.60000000e+00, 2.00000000e-01,\n",
       "        4.18879020e+01],\n",
       "       [5.00000000e+00, 3.40000000e+00, 1.60000000e+00, 4.00000000e-01,\n",
       "        4.18879020e+01],\n",
       "       [5.00000000e+00, 3.50000000e+00, 1.50000000e+00, 2.00000000e-01,\n",
       "        3.92699082e+01],\n",
       "       [5.00000000e+00, 3.40000000e+00, 1.40000000e+00, 2.00000000e-01,\n",
       "        3.66519143e+01],\n",
       "       [5.00000000e+00, 3.20000000e+00, 1.60000000e+00, 2.00000000e-01,\n",
       "        4.18879020e+01],\n",
       "       [5.00000000e+00, 3.10000000e+00, 1.60000000e+00, 2.00000000e-01,\n",
       "        4.18879020e+01],\n",
       "       [5.00000000e+00, 3.40000000e+00, 1.50000000e+00, 4.00000000e-01,\n",
       "        3.92699082e+01],\n",
       "       [5.10000000e+00, 4.10000000e+00, 1.50000000e+00, 1.00000000e-01,\n",
       "        4.08564125e+01],\n",
       "       [5.10000000e+00, 4.20000000e+00, 1.40000000e+00, 2.00000000e-01,\n",
       "        3.81326516e+01],\n",
       "       [5.10000000e+00, 3.10000000e+00, 1.50000000e+00, 1.00000000e-01,\n",
       "        4.08564125e+01],\n",
       "       [5.10000000e+00, 3.20000000e+00, 1.20000000e+00, 2.00000000e-01,\n",
       "        3.26851300e+01],\n",
       "       [5.10000000e+00, 3.50000000e+00, 1.30000000e+00, 2.00000000e-01,\n",
       "        3.54088908e+01],\n",
       "       [5.10000000e+00, 3.10000000e+00, 1.50000000e+00, 1.00000000e-01,\n",
       "        4.08564125e+01],\n",
       "       [5.10000000e+00, 3.00000000e+00, 1.30000000e+00, 2.00000000e-01,\n",
       "        3.54088908e+01],\n",
       "       [5.10000000e+00, 3.40000000e+00, 1.50000000e+00, 2.00000000e-01,\n",
       "        4.08564125e+01],\n",
       "       [5.10000000e+00, 3.50000000e+00, 1.30000000e+00, 3.00000000e-01,\n",
       "        3.54088908e+01],\n",
       "       [5.20000000e+00, 2.30000000e+00, 1.30000000e+00, 3.00000000e-01,\n",
       "        3.68110883e+01],\n",
       "       [5.20000000e+00, 3.20000000e+00, 1.30000000e+00, 2.00000000e-01,\n",
       "        3.68110883e+01],\n",
       "       [5.20000000e+00, 3.50000000e+00, 1.60000000e+00, 6.00000000e-01,\n",
       "        4.53059549e+01],\n",
       "       [5.20000000e+00, 3.80000000e+00, 1.90000000e+00, 4.00000000e-01,\n",
       "        5.38008214e+01],\n",
       "       [5.30000000e+00, 3.00000000e+00, 1.40000000e+00, 3.00000000e-01,\n",
       "        4.11820909e+01],\n",
       "       [5.40000000e+00, 3.80000000e+00, 1.60000000e+00, 2.00000000e-01,\n",
       "        4.88580489e+01],\n",
       "       [5.40000000e+00, 3.20000000e+00, 1.40000000e+00, 2.00000000e-01,\n",
       "        4.27507928e+01],\n",
       "       [5.40000000e+00, 3.70000000e+00, 1.50000000e+00, 2.00000000e-01,\n",
       "        4.58044209e+01],\n",
       "       [5.40000000e+00, 3.30000000e+00, 1.40000000e+00, 2.00000000e-01,\n",
       "        4.27507928e+01],\n",
       "       [5.40000000e+00, 3.20000000e+00, 4.70000000e+00, 1.40000000e+00,\n",
       "        1.43520519e+02],\n",
       "       [5.40000000e+00, 3.20000000e+00, 4.50000000e+00, 1.50000000e+00,\n",
       "        1.37413263e+02],\n",
       "       [5.50000000e+00, 3.10000000e+00, 4.90000000e+00, 1.50000000e+00,\n",
       "        1.55220857e+02],\n",
       "       [5.50000000e+00, 2.30000000e+00, 4.00000000e+00, 1.30000000e+00,\n",
       "        1.26710904e+02],\n",
       "       [5.50000000e+00, 2.80000000e+00, 4.60000000e+00, 1.50000000e+00,\n",
       "        1.45717539e+02],\n",
       "       [5.50000000e+00, 2.80000000e+00, 4.50000000e+00, 1.30000000e+00,\n",
       "        1.42549767e+02],\n",
       "       [5.50000000e+00, 3.30000000e+00, 4.70000000e+00, 1.60000000e+00,\n",
       "        1.48885312e+02],\n",
       "       [5.50000000e+00, 2.40000000e+00, 3.30000000e+00, 1.00000000e+00,\n",
       "        1.04536496e+02],\n",
       "       [5.50000000e+00, 2.90000000e+00, 4.60000000e+00, 1.30000000e+00,\n",
       "        1.45717539e+02],\n",
       "       [5.60000000e+00, 2.70000000e+00, 3.90000000e+00, 1.40000000e+00,\n",
       "        1.28076449e+02],\n",
       "       [5.60000000e+00, 2.00000000e+00, 3.50000000e+00, 1.00000000e+00,\n",
       "        1.14940403e+02],\n",
       "       [5.60000000e+00, 3.00000000e+00, 4.20000000e+00, 1.50000000e+00,\n",
       "        1.37928484e+02],\n",
       "       [5.60000000e+00, 2.20000000e+00, 4.00000000e+00, 1.00000000e+00,\n",
       "        1.31360461e+02],\n",
       "       [5.60000000e+00, 2.90000000e+00, 4.70000000e+00, 1.40000000e+00,\n",
       "        1.54348541e+02],\n",
       "       [5.60000000e+00, 2.90000000e+00, 3.60000000e+00, 1.30000000e+00,\n",
       "        1.18224415e+02],\n",
       "       [5.70000000e+00, 3.10000000e+00, 4.40000000e+00, 1.40000000e+00,\n",
       "        1.49703173e+02],\n",
       "       [5.70000000e+00, 3.00000000e+00, 4.50000000e+00, 1.50000000e+00,\n",
       "        1.53105518e+02],\n",
       "       [5.70000000e+00, 2.70000000e+00, 4.10000000e+00, 1.00000000e+00,\n",
       "        1.39496139e+02],\n",
       "       [5.70000000e+00, 2.20000000e+00, 4.50000000e+00, 1.50000000e+00,\n",
       "        1.53105518e+02],\n",
       "       [5.70000000e+00, 2.50000000e+00, 3.90000000e+00, 1.10000000e+00,\n",
       "        1.32691449e+02],\n",
       "       [5.70000000e+00, 3.20000000e+00, 4.80000000e+00, 1.80000000e+00,\n",
       "        1.63312553e+02],\n",
       "       [5.70000000e+00, 2.80000000e+00, 4.00000000e+00, 1.30000000e+00,\n",
       "        1.36093794e+02],\n",
       "       [5.70000000e+00, 2.50000000e+00, 4.90000000e+00, 1.50000000e+00,\n",
       "        1.66714897e+02],\n",
       "       [5.80000000e+00, 2.80000000e+00, 4.70000000e+00, 1.20000000e+00,\n",
       "        1.65570310e+02],\n",
       "       [5.80000000e+00, 2.90000000e+00, 4.30000000e+00, 1.30000000e+00,\n",
       "        1.51479220e+02],\n",
       "       [5.80000000e+00, 3.00000000e+00, 4.40000000e+00, 1.40000000e+00,\n",
       "        1.55001993e+02],\n",
       "       [5.80000000e+00, 2.80000000e+00, 4.80000000e+00, 1.40000000e+00,\n",
       "        1.69093083e+02],\n",
       "       [5.80000000e+00, 3.00000000e+00, 5.00000000e+00, 1.70000000e+00,\n",
       "        1.76138628e+02],\n",
       "       [5.80000000e+00, 2.90000000e+00, 4.50000000e+00, 1.50000000e+00,\n",
       "        1.58524765e+02],\n",
       "       [5.80000000e+00, 2.60000000e+00, 3.50000000e+00, 1.00000000e+00,\n",
       "        1.23297040e+02],\n",
       "       [5.90000000e+00, 2.40000000e+00, 3.80000000e+00, 1.10000000e+00,\n",
       "        1.38521198e+02],\n",
       "       [5.90000000e+00, 2.40000000e+00, 3.70000000e+00, 1.00000000e+00,\n",
       "        1.34875903e+02],\n",
       "       [5.90000000e+00, 2.70000000e+00, 3.90000000e+00, 1.20000000e+00,\n",
       "        1.42166492e+02],\n",
       "       [6.00000000e+00, 2.70000000e+00, 5.10000000e+00, 1.60000000e+00,\n",
       "        1.92265470e+02],\n",
       "       [6.00000000e+00, 3.00000000e+00, 4.50000000e+00, 1.50000000e+00,\n",
       "        1.69646003e+02],\n",
       "       [6.00000000e+00, 3.40000000e+00, 4.50000000e+00, 1.60000000e+00,\n",
       "        1.69646003e+02],\n",
       "       [6.00000000e+00, 3.10000000e+00, 4.70000000e+00, 1.50000000e+00,\n",
       "        1.77185826e+02],\n",
       "       [6.00000000e+00, 2.30000000e+00, 4.40000000e+00, 1.30000000e+00,\n",
       "        1.65876092e+02],\n",
       "       [6.00000000e+00, 3.00000000e+00, 4.10000000e+00, 1.30000000e+00,\n",
       "        1.54566359e+02],\n",
       "       [6.10000000e+00, 2.50000000e+00, 4.00000000e+00, 1.30000000e+00,\n",
       "        1.55864884e+02],\n",
       "       [6.10000000e+00, 2.60000000e+00, 4.40000000e+00, 1.20000000e+00,\n",
       "        1.71451372e+02],\n",
       "       [6.10000000e+00, 3.00000000e+00, 4.60000000e+00, 1.40000000e+00,\n",
       "        1.79244616e+02],\n",
       "       [6.10000000e+00, 2.60000000e+00, 4.00000000e+00, 1.20000000e+00,\n",
       "        1.55864884e+02],\n",
       "       [6.10000000e+00, 2.30000000e+00, 3.30000000e+00, 1.00000000e+00,\n",
       "        1.28588529e+02],\n",
       "       [6.10000000e+00, 2.70000000e+00, 4.20000000e+00, 1.30000000e+00,\n",
       "        1.63658128e+02],\n",
       "       [6.20000000e+00, 3.00000000e+00, 4.20000000e+00, 1.20000000e+00,\n",
       "        1.69067950e+02],\n",
       "       [6.20000000e+00, 2.90000000e+00, 4.20000000e+00, 1.30000000e+00,\n",
       "        1.69067950e+02],\n",
       "       [6.20000000e+00, 2.90000000e+00, 4.30000000e+00, 1.30000000e+00,\n",
       "        1.73093378e+02],\n",
       "       [6.20000000e+00, 2.50000000e+00, 3.00000000e+00, 1.10000000e+00,\n",
       "        1.20762822e+02],\n",
       "       [6.30000000e+00, 2.80000000e+00, 4.10000000e+00, 1.30000000e+00,\n",
       "        1.70409410e+02],\n",
       "       [6.30000000e+00, 3.30000000e+00, 6.00000000e+00, 2.50000000e+00,\n",
       "        2.49379625e+02],\n",
       "       [6.30000000e+00, 2.70000000e+00, 5.10000000e+00, 1.90000000e+00,\n",
       "        2.11972681e+02],\n",
       "       [6.30000000e+00, 3.00000000e+00, 5.90000000e+00, 2.10000000e+00,\n",
       "        2.45223298e+02],\n",
       "       [6.30000000e+00, 2.90000000e+00, 5.60000000e+00, 1.80000000e+00,\n",
       "        2.32754317e+02],\n",
       "       [6.30000000e+00, 3.00000000e+00, 5.80000000e+00, 2.20000000e+00,\n",
       "        2.41066971e+02],\n",
       "       [6.30000000e+00, 3.00000000e+00, 6.60000000e+00, 2.10000000e+00,\n",
       "        2.74317587e+02],\n",
       "       [6.30000000e+00, 2.50000000e+00, 4.50000000e+00, 1.70000000e+00,\n",
       "        1.87034719e+02],\n",
       "       [6.30000000e+00, 2.90000000e+00, 6.30000000e+00, 1.80000000e+00,\n",
       "        2.61848606e+02],\n",
       "       [6.40000000e+00, 2.50000000e+00, 5.80000000e+00, 1.80000000e+00,\n",
       "        2.48780628e+02],\n",
       "       [6.40000000e+00, 3.60000000e+00, 6.10000000e+00, 2.50000000e+00,\n",
       "        2.61648591e+02],\n",
       "       [6.40000000e+00, 3.20000000e+00, 5.10000000e+00, 2.00000000e+00,\n",
       "        2.18755380e+02],\n",
       "       [6.40000000e+00, 2.70000000e+00, 5.30000000e+00, 1.90000000e+00,\n",
       "        2.27334022e+02],\n",
       "       [6.40000000e+00, 3.00000000e+00, 5.50000000e+00, 2.10000000e+00,\n",
       "        2.35912664e+02],\n",
       "       [6.40000000e+00, 2.50000000e+00, 5.00000000e+00, 2.00000000e+00,\n",
       "        2.14466058e+02],\n",
       "       [6.40000000e+00, 2.80000000e+00, 5.10000000e+00, 2.40000000e+00,\n",
       "        2.18755380e+02],\n",
       "       [6.50000000e+00, 3.20000000e+00, 5.30000000e+00, 2.30000000e+00,\n",
       "        2.34493712e+02],\n",
       "       [6.50000000e+00, 3.00000000e+00, 5.50000000e+00, 1.80000000e+00,\n",
       "        2.43342531e+02],\n",
       "       [6.50000000e+00, 3.80000000e+00, 6.70000000e+00, 2.20000000e+00,\n",
       "        2.96435447e+02],\n",
       "       [6.50000000e+00, 2.60000000e+00, 6.90000000e+00, 2.30000000e+00,\n",
       "        3.05284266e+02],\n",
       "       [6.50000000e+00, 2.20000000e+00, 5.00000000e+00, 1.50000000e+00,\n",
       "        2.21220483e+02],\n",
       "       [6.60000000e+00, 3.20000000e+00, 5.70000000e+00, 2.30000000e+00,\n",
       "        2.60010774e+02],\n",
       "       [6.60000000e+00, 2.80000000e+00, 4.90000000e+00, 2.00000000e+00,\n",
       "        2.23518034e+02],\n",
       "       [6.70000000e+00, 2.80000000e+00, 6.70000000e+00, 2.00000000e+00,\n",
       "        3.14958277e+02],\n",
       "       [6.70000000e+00, 2.70000000e+00, 4.90000000e+00, 1.80000000e+00,\n",
       "        2.30342621e+02],\n",
       "       [6.70000000e+00, 3.30000000e+00, 5.70000000e+00, 2.10000000e+00,\n",
       "        2.67949579e+02],\n",
       "       [6.70000000e+00, 3.20000000e+00, 6.00000000e+00, 1.80000000e+00,\n",
       "        2.82052188e+02],\n",
       "       [6.70000000e+00, 2.80000000e+00, 4.80000000e+00, 1.80000000e+00,\n",
       "        2.25641751e+02],\n",
       "       [6.70000000e+00, 3.00000000e+00, 4.90000000e+00, 1.80000000e+00,\n",
       "        2.30342621e+02],\n",
       "       [6.70000000e+00, 2.80000000e+00, 5.60000000e+00, 2.10000000e+00,\n",
       "        2.63248709e+02],\n",
       "       [6.70000000e+00, 3.00000000e+00, 5.80000000e+00, 1.60000000e+00,\n",
       "        2.72650449e+02],\n",
       "       [6.80000000e+00, 2.80000000e+00, 6.10000000e+00, 1.90000000e+00,\n",
       "        2.95376730e+02],\n",
       "       [6.80000000e+00, 3.80000000e+00, 6.40000000e+00, 2.00000000e+00,\n",
       "        3.09903455e+02],\n",
       "       [6.80000000e+00, 2.80000000e+00, 5.60000000e+00, 2.20000000e+00,\n",
       "        2.71165523e+02],\n",
       "       [6.90000000e+00, 2.80000000e+00, 5.10000000e+00, 1.50000000e+00,\n",
       "        2.54271085e+02],\n",
       "       [6.90000000e+00, 2.60000000e+00, 5.60000000e+00, 1.40000000e+00,\n",
       "        2.79199622e+02],\n",
       "       [6.90000000e+00, 3.00000000e+00, 6.10000000e+00, 2.30000000e+00,\n",
       "        3.04128160e+02],\n",
       "       [6.90000000e+00, 3.40000000e+00, 5.60000000e+00, 2.40000000e+00,\n",
       "        2.79199622e+02],\n",
       "       [7.00000000e+00, 3.10000000e+00, 5.50000000e+00, 1.80000000e+00,\n",
       "        2.82219740e+02],\n",
       "       [7.10000000e+00, 3.00000000e+00, 4.80000000e+00, 1.80000000e+00,\n",
       "        2.53388297e+02],\n",
       "       [7.20000000e+00, 3.10000000e+00, 5.40000000e+00, 2.10000000e+00,\n",
       "        2.93148294e+02],\n",
       "       [7.20000000e+00, 3.10000000e+00, 5.60000000e+00, 2.40000000e+00,\n",
       "        3.04005638e+02],\n",
       "       [7.20000000e+00, 3.10000000e+00, 5.10000000e+00, 2.30000000e+00,\n",
       "        2.76862277e+02],\n",
       "       [7.30000000e+00, 2.70000000e+00, 5.10000000e+00, 1.90000000e+00,\n",
       "        2.84606303e+02],\n",
       "       [7.40000000e+00, 3.20000000e+00, 5.90000000e+00, 2.30000000e+00,\n",
       "        3.38332774e+02],\n",
       "       [7.60000000e+00, 3.30000000e+00, 5.70000000e+00, 2.50000000e+00,\n",
       "        3.44770944e+02],\n",
       "       [7.70000000e+00, 3.00000000e+00, 5.20000000e+00, 2.30000000e+00,\n",
       "        3.22859383e+02],\n",
       "       [7.70000000e+00, 2.50000000e+00, 5.00000000e+00, 1.90000000e+00,\n",
       "        3.10441714e+02],\n",
       "       [7.70000000e+00, 3.00000000e+00, 5.20000000e+00, 2.00000000e+00,\n",
       "        3.22859383e+02],\n",
       "       [7.70000000e+00, 3.40000000e+00, 5.40000000e+00, 2.30000000e+00,\n",
       "        3.35277051e+02],\n",
       "       [7.90000000e+00, 3.00000000e+00, 5.10000000e+00, 1.80000000e+00,\n",
       "        3.33313556e+02]])"
      ]
     },
     "execution_count": 220,
     "metadata": {},
     "output_type": "execute_result"
    }
   ],
   "source": [
    "np.hstack((arquivo, volume.reshape(-1,1)))"
   ]
  },
  {
   "cell_type": "code",
   "execution_count": 221,
   "metadata": {},
   "outputs": [
    {
     "data": {
      "text/plain": [
       "array([[4.30000000e+00, 3.50000000e+00, 1.40000000e+00, 2.00000000e-01,\n",
       "        2.71077558e+01],\n",
       "       [4.40000000e+00, 3.00000000e+00, 1.40000000e+00, 2.00000000e-01,\n",
       "        2.83832424e+01],\n",
       "       [4.40000000e+00, 3.20000000e+00, 1.30000000e+00, 2.00000000e-01,\n",
       "        2.63558680e+01],\n",
       "       [4.40000000e+00, 3.10000000e+00, 1.50000000e+00, 2.00000000e-01,\n",
       "        3.04106169e+01],\n",
       "       [4.50000000e+00, 3.60000000e+00, 1.40000000e+00, 2.00000000e-01,\n",
       "        2.96880506e+01],\n",
       "       [4.60000000e+00, 3.90000000e+00, 1.70000000e+00, 4.00000000e-01,\n",
       "        3.76697903e+01],\n",
       "       [4.60000000e+00, 3.40000000e+00, 1.40000000e+00, 3.00000000e-01,\n",
       "        3.10221803e+01],\n",
       "       [4.60000000e+00, 3.40000000e+00, 1.50000000e+00, 2.00000000e-01,\n",
       "        3.32380503e+01],\n",
       "       [4.60000000e+00, 2.90000000e+00, 1.40000000e+00, 2.00000000e-01,\n",
       "        3.10221803e+01],\n",
       "       [4.70000000e+00, 3.10000000e+00, 1.50000000e+00, 1.00000000e-01,\n",
       "        3.46988909e+01],\n",
       "       [4.70000000e+00, 3.70000000e+00, 1.50000000e+00, 2.00000000e-01,\n",
       "        3.46988909e+01],\n",
       "       [4.80000000e+00, 3.40000000e+00, 1.60000000e+00, 2.00000000e-01,\n",
       "        3.86038905e+01],\n",
       "       [4.80000000e+00, 3.00000000e+00, 1.40000000e+00, 1.00000000e-01,\n",
       "        3.37784042e+01],\n",
       "       [4.80000000e+00, 3.00000000e+00, 1.10000000e+00, 1.00000000e-01,\n",
       "        2.65401747e+01],\n",
       "       [4.80000000e+00, 4.00000000e+00, 1.20000000e+00, 2.00000000e-01,\n",
       "        2.89529179e+01],\n",
       "       [4.80000000e+00, 4.40000000e+00, 1.50000000e+00, 4.00000000e-01,\n",
       "        3.61911474e+01],\n",
       "       [4.90000000e+00, 3.90000000e+00, 1.30000000e+00, 4.00000000e-01,\n",
       "        3.26861772e+01],\n",
       "       [4.90000000e+00, 3.50000000e+00, 1.40000000e+00, 3.00000000e-01,\n",
       "        3.52004985e+01],\n",
       "       [4.90000000e+00, 3.80000000e+00, 1.70000000e+00, 3.00000000e-01,\n",
       "        4.27434624e+01],\n",
       "       [4.90000000e+00, 3.80000000e+00, 1.50000000e+00, 3.00000000e-01,\n",
       "        3.77148198e+01],\n",
       "       [4.90000000e+00, 3.40000000e+00, 1.70000000e+00, 2.00000000e-01,\n",
       "        4.27434624e+01],\n",
       "       [4.90000000e+00, 3.70000000e+00, 1.50000000e+00, 4.00000000e-01,\n",
       "        3.77148198e+01],\n",
       "       [5.00000000e+00, 3.60000000e+00, 1.00000000e+00, 2.00000000e-01,\n",
       "        2.61799388e+01],\n",
       "       [5.00000000e+00, 3.30000000e+00, 1.70000000e+00, 5.00000000e-01,\n",
       "        4.45058959e+01],\n",
       "       [5.00000000e+00, 3.40000000e+00, 1.90000000e+00, 2.00000000e-01,\n",
       "        4.97418837e+01],\n",
       "       [5.00000000e+00, 3.00000000e+00, 1.60000000e+00, 2.00000000e-01,\n",
       "        4.18879020e+01],\n",
       "       [5.00000000e+00, 3.40000000e+00, 1.60000000e+00, 4.00000000e-01,\n",
       "        4.18879020e+01],\n",
       "       [5.00000000e+00, 3.50000000e+00, 1.50000000e+00, 2.00000000e-01,\n",
       "        3.92699082e+01],\n",
       "       [5.00000000e+00, 3.40000000e+00, 1.40000000e+00, 2.00000000e-01,\n",
       "        3.66519143e+01],\n",
       "       [5.00000000e+00, 3.20000000e+00, 1.60000000e+00, 2.00000000e-01,\n",
       "        4.18879020e+01],\n",
       "       [5.00000000e+00, 3.10000000e+00, 1.60000000e+00, 2.00000000e-01,\n",
       "        4.18879020e+01],\n",
       "       [5.00000000e+00, 3.40000000e+00, 1.50000000e+00, 4.00000000e-01,\n",
       "        3.92699082e+01],\n",
       "       [5.10000000e+00, 4.10000000e+00, 1.50000000e+00, 1.00000000e-01,\n",
       "        4.08564125e+01],\n",
       "       [5.10000000e+00, 4.20000000e+00, 1.40000000e+00, 2.00000000e-01,\n",
       "        3.81326516e+01],\n",
       "       [5.10000000e+00, 3.10000000e+00, 1.50000000e+00, 1.00000000e-01,\n",
       "        4.08564125e+01],\n",
       "       [5.10000000e+00, 3.20000000e+00, 1.20000000e+00, 2.00000000e-01,\n",
       "        3.26851300e+01],\n",
       "       [5.10000000e+00, 3.50000000e+00, 1.30000000e+00, 2.00000000e-01,\n",
       "        3.54088908e+01],\n",
       "       [5.10000000e+00, 3.10000000e+00, 1.50000000e+00, 1.00000000e-01,\n",
       "        4.08564125e+01],\n",
       "       [5.10000000e+00, 3.00000000e+00, 1.30000000e+00, 2.00000000e-01,\n",
       "        3.54088908e+01],\n",
       "       [5.10000000e+00, 3.40000000e+00, 1.50000000e+00, 2.00000000e-01,\n",
       "        4.08564125e+01],\n",
       "       [5.10000000e+00, 3.50000000e+00, 1.30000000e+00, 3.00000000e-01,\n",
       "        3.54088908e+01],\n",
       "       [5.20000000e+00, 2.30000000e+00, 1.30000000e+00, 3.00000000e-01,\n",
       "        3.68110883e+01],\n",
       "       [5.20000000e+00, 3.20000000e+00, 1.30000000e+00, 2.00000000e-01,\n",
       "        3.68110883e+01],\n",
       "       [5.20000000e+00, 3.50000000e+00, 1.60000000e+00, 6.00000000e-01,\n",
       "        4.53059549e+01],\n",
       "       [5.20000000e+00, 3.80000000e+00, 1.90000000e+00, 4.00000000e-01,\n",
       "        5.38008214e+01],\n",
       "       [5.30000000e+00, 3.00000000e+00, 1.40000000e+00, 3.00000000e-01,\n",
       "        4.11820909e+01],\n",
       "       [5.40000000e+00, 3.80000000e+00, 1.60000000e+00, 2.00000000e-01,\n",
       "        4.88580489e+01],\n",
       "       [5.40000000e+00, 3.20000000e+00, 1.40000000e+00, 2.00000000e-01,\n",
       "        4.27507928e+01],\n",
       "       [5.40000000e+00, 3.70000000e+00, 1.50000000e+00, 2.00000000e-01,\n",
       "        4.58044209e+01],\n",
       "       [5.40000000e+00, 3.30000000e+00, 1.40000000e+00, 2.00000000e-01,\n",
       "        4.27507928e+01],\n",
       "       [5.40000000e+00, 3.20000000e+00, 4.70000000e+00, 1.40000000e+00,\n",
       "        1.43520519e+02],\n",
       "       [5.40000000e+00, 3.20000000e+00, 4.50000000e+00, 1.50000000e+00,\n",
       "        1.37413263e+02],\n",
       "       [5.50000000e+00, 3.10000000e+00, 4.90000000e+00, 1.50000000e+00,\n",
       "        1.55220857e+02],\n",
       "       [5.50000000e+00, 2.30000000e+00, 4.00000000e+00, 1.30000000e+00,\n",
       "        1.26710904e+02],\n",
       "       [5.50000000e+00, 2.80000000e+00, 4.60000000e+00, 1.50000000e+00,\n",
       "        1.45717539e+02],\n",
       "       [5.50000000e+00, 2.80000000e+00, 4.50000000e+00, 1.30000000e+00,\n",
       "        1.42549767e+02],\n",
       "       [5.50000000e+00, 3.30000000e+00, 4.70000000e+00, 1.60000000e+00,\n",
       "        1.48885312e+02],\n",
       "       [5.50000000e+00, 2.40000000e+00, 3.30000000e+00, 1.00000000e+00,\n",
       "        1.04536496e+02],\n",
       "       [5.50000000e+00, 2.90000000e+00, 4.60000000e+00, 1.30000000e+00,\n",
       "        1.45717539e+02],\n",
       "       [5.60000000e+00, 2.70000000e+00, 3.90000000e+00, 1.40000000e+00,\n",
       "        1.28076449e+02],\n",
       "       [5.60000000e+00, 2.00000000e+00, 3.50000000e+00, 1.00000000e+00,\n",
       "        1.14940403e+02],\n",
       "       [5.60000000e+00, 3.00000000e+00, 4.20000000e+00, 1.50000000e+00,\n",
       "        1.37928484e+02],\n",
       "       [5.60000000e+00, 2.20000000e+00, 4.00000000e+00, 1.00000000e+00,\n",
       "        1.31360461e+02],\n",
       "       [5.60000000e+00, 2.90000000e+00, 4.70000000e+00, 1.40000000e+00,\n",
       "        1.54348541e+02],\n",
       "       [5.60000000e+00, 2.90000000e+00, 3.60000000e+00, 1.30000000e+00,\n",
       "        1.18224415e+02],\n",
       "       [5.70000000e+00, 3.10000000e+00, 4.40000000e+00, 1.40000000e+00,\n",
       "        1.49703173e+02],\n",
       "       [5.70000000e+00, 3.00000000e+00, 4.50000000e+00, 1.50000000e+00,\n",
       "        1.53105518e+02],\n",
       "       [5.70000000e+00, 2.70000000e+00, 4.10000000e+00, 1.00000000e+00,\n",
       "        1.39496139e+02],\n",
       "       [5.70000000e+00, 2.20000000e+00, 4.50000000e+00, 1.50000000e+00,\n",
       "        1.53105518e+02],\n",
       "       [5.70000000e+00, 2.50000000e+00, 3.90000000e+00, 1.10000000e+00,\n",
       "        1.32691449e+02],\n",
       "       [5.70000000e+00, 3.20000000e+00, 4.80000000e+00, 1.80000000e+00,\n",
       "        1.63312553e+02],\n",
       "       [5.70000000e+00, 2.80000000e+00, 4.00000000e+00, 1.30000000e+00,\n",
       "        1.36093794e+02],\n",
       "       [5.70000000e+00, 2.50000000e+00, 4.90000000e+00, 1.50000000e+00,\n",
       "        1.66714897e+02],\n",
       "       [5.80000000e+00, 2.80000000e+00, 4.70000000e+00, 1.20000000e+00,\n",
       "        1.65570310e+02],\n",
       "       [5.80000000e+00, 2.90000000e+00, 4.30000000e+00, 1.30000000e+00,\n",
       "        1.51479220e+02],\n",
       "       [5.80000000e+00, 3.00000000e+00, 4.40000000e+00, 1.40000000e+00,\n",
       "        1.55001993e+02],\n",
       "       [5.80000000e+00, 2.80000000e+00, 4.80000000e+00, 1.40000000e+00,\n",
       "        1.69093083e+02],\n",
       "       [5.80000000e+00, 3.00000000e+00, 5.00000000e+00, 1.70000000e+00,\n",
       "        1.76138628e+02],\n",
       "       [5.80000000e+00, 2.90000000e+00, 4.50000000e+00, 1.50000000e+00,\n",
       "        1.58524765e+02],\n",
       "       [5.80000000e+00, 2.60000000e+00, 3.50000000e+00, 1.00000000e+00,\n",
       "        1.23297040e+02],\n",
       "       [5.90000000e+00, 2.40000000e+00, 3.80000000e+00, 1.10000000e+00,\n",
       "        1.38521198e+02],\n",
       "       [5.90000000e+00, 2.40000000e+00, 3.70000000e+00, 1.00000000e+00,\n",
       "        1.34875903e+02],\n",
       "       [5.90000000e+00, 2.70000000e+00, 3.90000000e+00, 1.20000000e+00,\n",
       "        1.42166492e+02],\n",
       "       [6.00000000e+00, 2.70000000e+00, 5.10000000e+00, 1.60000000e+00,\n",
       "        1.92265470e+02],\n",
       "       [6.00000000e+00, 3.00000000e+00, 4.50000000e+00, 1.50000000e+00,\n",
       "        1.69646003e+02],\n",
       "       [6.00000000e+00, 3.40000000e+00, 4.50000000e+00, 1.60000000e+00,\n",
       "        1.69646003e+02],\n",
       "       [6.00000000e+00, 3.10000000e+00, 4.70000000e+00, 1.50000000e+00,\n",
       "        1.77185826e+02],\n",
       "       [6.00000000e+00, 2.30000000e+00, 4.40000000e+00, 1.30000000e+00,\n",
       "        1.65876092e+02],\n",
       "       [6.00000000e+00, 3.00000000e+00, 4.10000000e+00, 1.30000000e+00,\n",
       "        1.54566359e+02],\n",
       "       [6.10000000e+00, 2.50000000e+00, 4.00000000e+00, 1.30000000e+00,\n",
       "        1.55864884e+02],\n",
       "       [6.10000000e+00, 2.60000000e+00, 4.40000000e+00, 1.20000000e+00,\n",
       "        1.71451372e+02],\n",
       "       [6.10000000e+00, 3.00000000e+00, 4.60000000e+00, 1.40000000e+00,\n",
       "        1.79244616e+02],\n",
       "       [6.10000000e+00, 2.60000000e+00, 4.00000000e+00, 1.20000000e+00,\n",
       "        1.55864884e+02],\n",
       "       [6.10000000e+00, 2.30000000e+00, 3.30000000e+00, 1.00000000e+00,\n",
       "        1.28588529e+02],\n",
       "       [6.10000000e+00, 2.70000000e+00, 4.20000000e+00, 1.30000000e+00,\n",
       "        1.63658128e+02],\n",
       "       [6.20000000e+00, 3.00000000e+00, 4.20000000e+00, 1.20000000e+00,\n",
       "        1.69067950e+02],\n",
       "       [6.20000000e+00, 2.90000000e+00, 4.20000000e+00, 1.30000000e+00,\n",
       "        1.69067950e+02],\n",
       "       [6.20000000e+00, 2.90000000e+00, 4.30000000e+00, 1.30000000e+00,\n",
       "        1.73093378e+02],\n",
       "       [6.20000000e+00, 2.50000000e+00, 3.00000000e+00, 1.10000000e+00,\n",
       "        1.20762822e+02],\n",
       "       [6.30000000e+00, 2.80000000e+00, 4.10000000e+00, 1.30000000e+00,\n",
       "        1.70409410e+02],\n",
       "       [6.30000000e+00, 3.30000000e+00, 6.00000000e+00, 2.50000000e+00,\n",
       "        2.49379625e+02],\n",
       "       [6.30000000e+00, 2.70000000e+00, 5.10000000e+00, 1.90000000e+00,\n",
       "        2.11972681e+02],\n",
       "       [6.30000000e+00, 3.00000000e+00, 5.90000000e+00, 2.10000000e+00,\n",
       "        2.45223298e+02],\n",
       "       [6.30000000e+00, 2.90000000e+00, 5.60000000e+00, 1.80000000e+00,\n",
       "        2.32754317e+02],\n",
       "       [6.30000000e+00, 3.00000000e+00, 5.80000000e+00, 2.20000000e+00,\n",
       "        2.41066971e+02],\n",
       "       [6.30000000e+00, 3.00000000e+00, 6.60000000e+00, 2.10000000e+00,\n",
       "        2.74317587e+02],\n",
       "       [6.30000000e+00, 2.50000000e+00, 4.50000000e+00, 1.70000000e+00,\n",
       "        1.87034719e+02],\n",
       "       [6.30000000e+00, 2.90000000e+00, 6.30000000e+00, 1.80000000e+00,\n",
       "        2.61848606e+02],\n",
       "       [6.40000000e+00, 2.50000000e+00, 5.80000000e+00, 1.80000000e+00,\n",
       "        2.48780628e+02],\n",
       "       [6.40000000e+00, 3.60000000e+00, 6.10000000e+00, 2.50000000e+00,\n",
       "        2.61648591e+02],\n",
       "       [6.40000000e+00, 3.20000000e+00, 5.10000000e+00, 2.00000000e+00,\n",
       "        2.18755380e+02],\n",
       "       [6.40000000e+00, 2.70000000e+00, 5.30000000e+00, 1.90000000e+00,\n",
       "        2.27334022e+02],\n",
       "       [6.40000000e+00, 3.00000000e+00, 5.50000000e+00, 2.10000000e+00,\n",
       "        2.35912664e+02],\n",
       "       [6.40000000e+00, 2.50000000e+00, 5.00000000e+00, 2.00000000e+00,\n",
       "        2.14466058e+02],\n",
       "       [6.40000000e+00, 2.80000000e+00, 5.10000000e+00, 2.40000000e+00,\n",
       "        2.18755380e+02],\n",
       "       [6.50000000e+00, 3.20000000e+00, 5.30000000e+00, 2.30000000e+00,\n",
       "        2.34493712e+02],\n",
       "       [6.50000000e+00, 3.00000000e+00, 5.50000000e+00, 1.80000000e+00,\n",
       "        2.43342531e+02],\n",
       "       [6.50000000e+00, 3.80000000e+00, 6.70000000e+00, 2.20000000e+00,\n",
       "        2.96435447e+02],\n",
       "       [6.50000000e+00, 2.60000000e+00, 6.90000000e+00, 2.30000000e+00,\n",
       "        3.05284266e+02],\n",
       "       [6.50000000e+00, 2.20000000e+00, 5.00000000e+00, 1.50000000e+00,\n",
       "        2.21220483e+02],\n",
       "       [6.60000000e+00, 3.20000000e+00, 5.70000000e+00, 2.30000000e+00,\n",
       "        2.60010774e+02],\n",
       "       [6.60000000e+00, 2.80000000e+00, 4.90000000e+00, 2.00000000e+00,\n",
       "        2.23518034e+02],\n",
       "       [6.70000000e+00, 2.80000000e+00, 6.70000000e+00, 2.00000000e+00,\n",
       "        3.14958277e+02],\n",
       "       [6.70000000e+00, 2.70000000e+00, 4.90000000e+00, 1.80000000e+00,\n",
       "        2.30342621e+02],\n",
       "       [6.70000000e+00, 3.30000000e+00, 5.70000000e+00, 2.10000000e+00,\n",
       "        2.67949579e+02],\n",
       "       [6.70000000e+00, 3.20000000e+00, 6.00000000e+00, 1.80000000e+00,\n",
       "        2.82052188e+02],\n",
       "       [6.70000000e+00, 2.80000000e+00, 4.80000000e+00, 1.80000000e+00,\n",
       "        2.25641751e+02],\n",
       "       [6.70000000e+00, 3.00000000e+00, 4.90000000e+00, 1.80000000e+00,\n",
       "        2.30342621e+02],\n",
       "       [6.70000000e+00, 2.80000000e+00, 5.60000000e+00, 2.10000000e+00,\n",
       "        2.63248709e+02],\n",
       "       [6.70000000e+00, 3.00000000e+00, 5.80000000e+00, 1.60000000e+00,\n",
       "        2.72650449e+02],\n",
       "       [6.80000000e+00, 2.80000000e+00, 6.10000000e+00, 1.90000000e+00,\n",
       "        2.95376730e+02],\n",
       "       [6.80000000e+00, 3.80000000e+00, 6.40000000e+00, 2.00000000e+00,\n",
       "        3.09903455e+02],\n",
       "       [6.80000000e+00, 2.80000000e+00, 5.60000000e+00, 2.20000000e+00,\n",
       "        2.71165523e+02],\n",
       "       [6.90000000e+00, 2.80000000e+00, 5.10000000e+00, 1.50000000e+00,\n",
       "        2.54271085e+02],\n",
       "       [6.90000000e+00, 2.60000000e+00, 5.60000000e+00, 1.40000000e+00,\n",
       "        2.79199622e+02],\n",
       "       [6.90000000e+00, 3.00000000e+00, 6.10000000e+00, 2.30000000e+00,\n",
       "        3.04128160e+02],\n",
       "       [6.90000000e+00, 3.40000000e+00, 5.60000000e+00, 2.40000000e+00,\n",
       "        2.79199622e+02],\n",
       "       [7.00000000e+00, 3.10000000e+00, 5.50000000e+00, 1.80000000e+00,\n",
       "        2.82219740e+02],\n",
       "       [7.10000000e+00, 3.00000000e+00, 4.80000000e+00, 1.80000000e+00,\n",
       "        2.53388297e+02],\n",
       "       [7.20000000e+00, 3.10000000e+00, 5.40000000e+00, 2.10000000e+00,\n",
       "        2.93148294e+02],\n",
       "       [7.20000000e+00, 3.10000000e+00, 5.60000000e+00, 2.40000000e+00,\n",
       "        3.04005638e+02],\n",
       "       [7.20000000e+00, 3.10000000e+00, 5.10000000e+00, 2.30000000e+00,\n",
       "        2.76862277e+02],\n",
       "       [7.30000000e+00, 2.70000000e+00, 5.10000000e+00, 1.90000000e+00,\n",
       "        2.84606303e+02],\n",
       "       [7.40000000e+00, 3.20000000e+00, 5.90000000e+00, 2.30000000e+00,\n",
       "        3.38332774e+02],\n",
       "       [7.60000000e+00, 3.30000000e+00, 5.70000000e+00, 2.50000000e+00,\n",
       "        3.44770944e+02],\n",
       "       [7.70000000e+00, 3.00000000e+00, 5.20000000e+00, 2.30000000e+00,\n",
       "        3.22859383e+02],\n",
       "       [7.70000000e+00, 2.50000000e+00, 5.00000000e+00, 1.90000000e+00,\n",
       "        3.10441714e+02],\n",
       "       [7.70000000e+00, 3.00000000e+00, 5.20000000e+00, 2.00000000e+00,\n",
       "        3.22859383e+02],\n",
       "       [7.70000000e+00, 3.40000000e+00, 5.40000000e+00, 2.30000000e+00,\n",
       "        3.35277051e+02],\n",
       "       [7.90000000e+00, 3.00000000e+00, 5.10000000e+00, 1.80000000e+00,\n",
       "        3.33313556e+02]])"
      ]
     },
     "execution_count": 221,
     "metadata": {},
     "output_type": "execute_result"
    }
   ],
   "source": [
    "np.concatenate((arquivo, volume.reshape(-1,1)), axis=1)"
   ]
  },
  {
   "cell_type": "markdown",
   "metadata": {},
   "source": [
    "## Mais coisas interessantes..."
   ]
  },
  {
   "cell_type": "markdown",
   "metadata": {},
   "source": [
    "\n",
    "#### Tipo de dado e tamanho\n",
    "\n",
    "Na sessão Checando o tipo de dados do array já foi dito dos tipos de dados, mas agora falaremos da diferença de tamanhos que isso ocupa na memória.\n",
    "\n",
    "Então, temos as variáveis a e b criadas anteriormente com os seguintes tipos:\n"
   ]
  },
  {
   "cell_type": "code",
   "execution_count": null,
   "metadata": {},
   "outputs": [],
   "source": [
    "a.dtype"
   ]
  },
  {
   "cell_type": "code",
   "execution_count": null,
   "metadata": {},
   "outputs": [],
   "source": [
    "b.dtype"
   ]
  },
  {
   "cell_type": "markdown",
   "metadata": {},
   "source": [
    "\n",
    "Por padrão, se o python instalado é 64 bits, ele irá criar tipos int ou float de 64 bits. Caso seu python fosse 32 bits, seria int32 e float32.\n",
    "\n",
    "Vamos criar uma outra array, a16, com o tipo inteiro de 16 bits.\n"
   ]
  },
  {
   "cell_type": "code",
   "execution_count": null,
   "metadata": {},
   "outputs": [],
   "source": [
    "a16 = np.array([1, 2, 3], dtype=np.int16)\n",
    "a16\n"
   ]
  },
  {
   "cell_type": "markdown",
   "metadata": {},
   "source": [
    "Note que por ser um tipo diferente do padrão, ele ressalta ao imprimir.\n",
    "\n",
    "Para descobrir quanto cada elemento individualmente ocupa na memória, podemos acessar o atributo itemsize:\n"
   ]
  },
  {
   "cell_type": "code",
   "execution_count": null,
   "metadata": {},
   "outputs": [],
   "source": [
    "a.itemsize"
   ]
  },
  {
   "cell_type": "markdown",
   "metadata": {},
   "source": [
    "\n",
    "Ele retorna 8 e não 64! Isso é porque ele já converteu os bits para bytes. Bytes é o conjunto de 8 bits.\n",
    "\n",
    "Logo:\n",
    "\n",
    "$ 64/8=8 $\n",
    "\n",
    "Já nosso array int16, temos:\n"
   ]
  },
  {
   "cell_type": "code",
   "execution_count": null,
   "metadata": {},
   "outputs": [],
   "source": [
    "a16.itemsize"
   ]
  },
  {
   "cell_type": "markdown",
   "metadata": {},
   "source": [
    "Uma vez que:\n",
    "\n",
    "$ 16/8 = 2 $"
   ]
  },
  {
   "cell_type": "code",
   "execution_count": null,
   "metadata": {},
   "outputs": [],
   "source": [
    "# quantidade de elementos total\n",
    "a.size"
   ]
  },
  {
   "cell_type": "markdown",
   "metadata": {},
   "source": [
    "Quantidade de elementos vezes o tamanho de cada elemento nos dará o tamanho total de bytes que o array inteiro ocupa:\n"
   ]
  },
  {
   "cell_type": "code",
   "execution_count": null,
   "metadata": {},
   "outputs": [],
   "source": [
    "a.size * a.itemsize"
   ]
  },
  {
   "cell_type": "markdown",
   "metadata": {},
   "source": [
    "\n",
    "Mas ao invés de calcular isso, podemos simplesmente acessar o atributo `nbytes`, que já é o tamanho total de bytes ocupado pelo array:\n"
   ]
  },
  {
   "cell_type": "code",
   "execution_count": null,
   "metadata": {},
   "outputs": [],
   "source": [
    "a.nbytes"
   ]
  },
  {
   "cell_type": "markdown",
   "metadata": {},
   "source": [
    "**Observação**\n",
    "\n",
    "Geralmente não é necessário reduzir o número de bits a não ser que você tenha certeza que um tamanho reduzido vai atender sua necessidade e você quer ser extremamente eficiente.\n"
   ]
  },
  {
   "cell_type": "code",
   "execution_count": null,
   "metadata": {},
   "outputs": [],
   "source": []
  }
 ],
 "metadata": {
  "interpreter": {
   "hash": "2a2cbf8455344b314f3a132f62578d960df4ff41776612f7f6441393d9060322"
  },
  "kernelspec": {
   "display_name": "Python 3",
   "language": "python",
   "name": "python3"
  },
  "language_info": {
   "codemirror_mode": {
    "name": "ipython",
    "version": 3
   },
   "file_extension": ".py",
   "mimetype": "text/x-python",
   "name": "python",
   "nbconvert_exporter": "python",
   "pygments_lexer": "ipython3",
   "version": "3.9.7"
  }
 },
 "nbformat": 4,
 "nbformat_minor": 2
}
