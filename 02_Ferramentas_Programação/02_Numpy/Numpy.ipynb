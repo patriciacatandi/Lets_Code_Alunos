{
 "cells": [
  {
   "cell_type": "markdown",
   "metadata": {},
   "source": [
    "# NumPy\n",
    "\n",
    "## O que é o NumPy?\n",
    "\n",
    "O NumPy é uma poderosa biblioteca Python usada principalmente para realizar cálculos em Arrays Multidimensionais. O NumPy fornece um grande conjunto de funções e operações de biblioteca que ajudam os programadores a executar facilmente cálculos numéricos. Esses tipos de cálculos numéricos são amplamente utilizados em tarefas como:\n",
    "\n",
    "* `Tarefas matemáticas`: NumPy é bastante útil para executar várias tarefas matemáticas como integração numérica, diferenciação, interpolação, extrapolação e muitas outras. O NumPy possui também funções incorporadas para álgebra linear e geração de números aleatórios. É uma biblioteca que pode ser usada em conjuto do <a href='https://github.com/scipy/scipy'>SciPy</a> e Matplotlib, substituindo o MATLAB quando se trata de tarefas matemáticas.\n",
    "\n",
    "* `Processamento de Imagem e Computação Gráfica`: Imagens no computador são representadas como Arrays Multidimensionais de números. NumPy torna-se a escolha mais natural para o mesmo. O NumPy, na verdade, fornece algumas excelentes funções de biblioteca para rápida manipulação de imagens. Alguns exemplos são o espelhamento de uma imagem, a rotação de uma imagem por um determinado ângulo etc.\n",
    "\n",
    "* `Modelos de Machine Learning`: Ao escrever algoritmos de Machine Learning, supõe-se que se realize vários cálculos numéricos em Array. Por exemplo, multiplicação de Arrays, transposição, adição, etc. O NumPy fornece uma excelente biblioteca para cálculos fáceis (em termos de escrita de código) e rápidos (em termos de velocidade). Os Arrays NumPy são usados para armazenar os dados de treinamento, bem como os parâmetros dos modelos de Machine Learning.\n"
   ]
  },
  {
   "cell_type": "markdown",
   "metadata": {},
   "source": [
    "## Instalando\n",
    "\n",
    "Existem diversas formas de instalar o numpy. A mais simples é instalar o pacote Anaconda (https://www.anaconda.com/distribution/) que já vem com o Python e diversas bibliotecas científicas e ciência de dados instaladas.\n",
    "\n",
    "Outra forma, caso você já tenha o python instalado mas não o numpy, é o utilizar o gerenciador e pacotes pip, através do comando no seu **terminal**:\n",
    "\n",
    "`$ pip install numpy`\n",
    "\n",
    "ou dentro do jupyter\n",
    "\n",
    "`!pip install numpy`"
   ]
  },
  {
   "cell_type": "markdown",
   "metadata": {},
   "source": [
    "## Explorando a API do NumPy\n",
    "### Importando numpy com o alias np\n",
    "\n",
    "`np` é uma abreviação amplamente utilizada na comunidade python para o numpy."
   ]
  },
  {
   "cell_type": "code",
   "execution_count": 2,
   "metadata": {},
   "outputs": [],
   "source": [
    "import numpy as np"
   ]
  },
  {
   "cell_type": "markdown",
   "metadata": {},
   "source": [
    "### 1D arrays\n",
    "\n",
    "Array unidimensional, também chamado de vetor ou até mesmo matriz de 1 dimensão:\n"
   ]
  },
  {
   "cell_type": "code",
   "execution_count": 6,
   "metadata": {},
   "outputs": [
    {
     "name": "stdout",
     "output_type": "stream",
     "text": [
      "[1 2 3]\n"
     ]
    }
   ],
   "source": [
    "a = np.array([1, 2, 3])\n",
    "print(a)"
   ]
  },
  {
   "cell_type": "markdown",
   "metadata": {},
   "source": [
    "Checando o tipo da variável a:"
   ]
  },
  {
   "cell_type": "code",
   "execution_count": 7,
   "metadata": {},
   "outputs": [
    {
     "data": {
      "text/plain": [
       "numpy.ndarray"
      ]
     },
     "execution_count": 7,
     "metadata": {},
     "output_type": "execute_result"
    }
   ],
   "source": [
    "type(a)"
   ]
  },
  {
   "cell_type": "markdown",
   "metadata": {},
   "source": [
    "o nd significa n-dimensional\n"
   ]
  },
  {
   "cell_type": "markdown",
   "metadata": {},
   "source": [
    "### Checando o tipo de dados do array\n",
    "\n",
    "Diversos tipos de dados são possíveis em um array numpy, os mais comuns são os numéricos:\n",
    "\n",
    "    int32\n",
    "    int64\n",
    "    float32\n",
    "    float64\n"
   ]
  },
  {
   "cell_type": "code",
   "execution_count": 8,
   "metadata": {},
   "outputs": [
    {
     "data": {
      "text/plain": [
       "dtype('int32')"
      ]
     },
     "execution_count": 8,
     "metadata": {},
     "output_type": "execute_result"
    }
   ],
   "source": [
    "a.dtype"
   ]
  },
  {
   "cell_type": "markdown",
   "metadata": {},
   "source": [
    "### Substituindo elementos\n",
    "Se trocarmos um elemento na posição 0 para o valor 10, dará certo:"
   ]
  },
  {
   "cell_type": "code",
   "execution_count": 9,
   "metadata": {},
   "outputs": [
    {
     "name": "stdout",
     "output_type": "stream",
     "text": [
      "[10  2  3]\n"
     ]
    }
   ],
   "source": [
    "a[0] = 10\n",
    "print(a)"
   ]
  },
  {
   "cell_type": "markdown",
   "metadata": {},
   "source": [
    "Mas, se trocarmos para ponto flutuante, o numpy irá truncar a parte decimal, dado que o array que criamos é inteiro."
   ]
  },
  {
   "cell_type": "code",
   "execution_count": 10,
   "metadata": {},
   "outputs": [
    {
     "name": "stdout",
     "output_type": "stream",
     "text": [
      "[1 2 3]\n"
     ]
    }
   ],
   "source": [
    "a[0] = 1.2\n",
    "print(a)"
   ]
  },
  {
   "cell_type": "code",
   "execution_count": 12,
   "metadata": {},
   "outputs": [
    {
     "ename": "ValueError",
     "evalue": "invalid literal for int() with base 10: 'oi'",
     "output_type": "error",
     "traceback": [
      "\u001b[1;31m---------------------------------------------------------------------------\u001b[0m",
      "\u001b[1;31mValueError\u001b[0m                                Traceback (most recent call last)",
      "\u001b[1;32m<ipython-input-12-b67ed096054c>\u001b[0m in \u001b[0;36m<module>\u001b[1;34m\u001b[0m\n\u001b[1;32m----> 1\u001b[1;33m \u001b[0ma\u001b[0m\u001b[1;33m[\u001b[0m\u001b[1;36m0\u001b[0m\u001b[1;33m]\u001b[0m \u001b[1;33m=\u001b[0m \u001b[1;34m\"oi\"\u001b[0m\u001b[1;33m\u001b[0m\u001b[1;33m\u001b[0m\u001b[0m\n\u001b[0m",
      "\u001b[1;31mValueError\u001b[0m: invalid literal for int() with base 10: 'oi'"
     ]
    }
   ],
   "source": [
    "a[0] = \"oi\""
   ]
  },
  {
   "cell_type": "markdown",
   "metadata": {},
   "source": [
    "E se quisermos um dos elementos sendo um texto como fazíamos com as listas?"
   ]
  },
  {
   "cell_type": "code",
   "execution_count": 11,
   "metadata": {},
   "outputs": [
    {
     "name": "stdout",
     "output_type": "stream",
     "text": [
      "Essa é a lista:  [1, 2, 'LC', 4]\n",
      "Esse é o array:  ['1' '2' 'LC' '4']\n"
     ]
    }
   ],
   "source": [
    "lista = [1, 2, 'LC', 4]\n",
    "array = np.array([1, 2, 'LC', 4])\n",
    "\n",
    "print(\"Essa é a lista: \", lista)\n",
    "print(\"Esse é o array: \", array)"
   ]
  },
  {
   "cell_type": "markdown",
   "metadata": {},
   "source": [
    "O array converte todos os elementos para string. O numpy não aceita dados com tipos diferentes. Ter um tipo único, permite o numpy ser muito mais rápido."
   ]
  },
  {
   "cell_type": "markdown",
   "metadata": {},
   "source": [
    "### Porque usar numpy e não listas?\n",
    "#### Numpy x Lists\n",
    "\n",
    "    Tamanho - Numpy necessita de menos espaço\n",
    "    Performance - escrito para ter alta performance\n",
    "    Funcionalidade - SciPy e NumPy possuem operações de algebra linear built in.\n",
    "\n",
    "<a href=\"https://webcourses.ucf.edu/courses/1249560/pages/python-lists-vs-numpy-arrays-what-is-the-difference\" target=\"_blank\">Referência</a> "
   ]
  },
  {
   "cell_type": "markdown",
   "metadata": {},
   "source": [
    "#### Tempo de processamento"
   ]
  },
  {
   "cell_type": "code",
   "execution_count": null,
   "metadata": {},
   "outputs": [],
   "source": [
    "\"\"\"\n",
    "Código comparando performance entre numpy e listas em uma soma de arrays\n",
    "\"\"\"\n",
    "\n",
    "import time\n",
    "import numpy as np\n",
    "\n",
    "size_of_vec = 1000\n",
    "\n",
    "def pure_python_version():\n",
    "    t1 = time.time()\n",
    "    X = range(size_of_vec)\n",
    "    Y = range(size_of_vec)\n",
    "    Z = [X[i] + Y[i] for i in range(len(X)) ]\n",
    "    return time.time() - t1\n",
    "\n",
    "def numpy_version():\n",
    "    t1 = time.time()\n",
    "    X = np.arange(size_of_vec)\n",
    "    Y = np.arange(size_of_vec)\n",
    "    Z = X + Y\n",
    "    return time.time() - t1\n",
    "\n",
    "\n",
    "t1 = pure_python_version()\n",
    "t2 = numpy_version()\n",
    "print(t1, t2)\n",
    "print(\"Numpy is in this example \" + str(t1/t2) + \" faster!\")"
   ]
  },
  {
   "cell_type": "markdown",
   "metadata": {},
   "source": [
    "#### Diferença visual"
   ]
  },
  {
   "cell_type": "code",
   "execution_count": 15,
   "metadata": {},
   "outputs": [
    {
     "name": "stdout",
     "output_type": "stream",
     "text": [
      "Essa é a lista:  [1, 2, 3, 4]\n",
      "Esse é o array:  [1 2 3 4]\n"
     ]
    }
   ],
   "source": [
    "lista = [1, 2, 3, 4]\n",
    "array = np.array([1, 2, 3, 4])\n",
    "\n",
    "print(\"Essa é a lista: \", lista)\n",
    "print(\"Esse é o array: \", array)"
   ]
  },
  {
   "cell_type": "markdown",
   "metadata": {},
   "source": [
    "Repare que no array não temos a separação por vírgulas.\n",
    "<br>\n"
   ]
  },
  {
   "cell_type": "markdown",
   "metadata": {},
   "source": [
    "\n",
    "### 2D arrays\n",
    "\n",
    "Matrizes podem ser consideradas um array de 2 dimensões.\n",
    "_________________________________________________________________________________\n",
    "\n",
    "Observação:\n",
    "\n",
    "O NumPy possui também uma estrutura, matriz, mas não é recomendado utilizá-la pela própria documentação oficial e poderá ser removida no futuro.\n",
    "_________________________________________________________________________________\n",
    "\n",
    "Para criar uma matriz, basta aninhar múltiplas listas dentro de uma lista, como o exemplo a seguir:\n"
   ]
  },
  {
   "cell_type": "code",
   "execution_count": 16,
   "metadata": {},
   "outputs": [
    {
     "name": "stdout",
     "output_type": "stream",
     "text": [
      "[[9. 8. 7.]\n",
      " [6. 5. 4.]]\n"
     ]
    }
   ],
   "source": [
    "b = np.array([[9.0, 8.0, 7.0],\n",
    "              [6.0, 5.0, 4.0]])\n",
    "print(b)"
   ]
  },
  {
   "cell_type": "markdown",
   "metadata": {},
   "source": [
    "### Exemplo 3D\n",
    "\n",
    "\n",
    "<img src=\"tensor_3-2-5.png\"  style=\"width: 500px\" />"
   ]
  },
  {
   "cell_type": "code",
   "execution_count": 17,
   "metadata": {},
   "outputs": [
    {
     "data": {
      "text/plain": [
       "array([[[ 0,  1,  2,  3,  4],\n",
       "        [ 5,  6,  7,  8,  9]],\n",
       "\n",
       "       [[10, 11, 12, 13, 14],\n",
       "        [15, 16, 17, 18, 19]],\n",
       "\n",
       "       [[20, 21, 22, 23, 24],\n",
       "        [25, 26, 27, 28, 29]]])"
      ]
     },
     "execution_count": 17,
     "metadata": {},
     "output_type": "execute_result"
    }
   ],
   "source": [
    "c = np.array([[[0,   1,  2,  3,  4], [ 5,  6,  7,  8,  9]], \n",
    "              [[10, 11, 12, 13, 14], [15, 16, 17, 18, 19]],\n",
    "              [[20, 21, 22, 23, 24], [25, 26, 27, 28, 29]]])\n",
    "c"
   ]
  },
  {
   "cell_type": "markdown",
   "metadata": {},
   "source": [
    "### Propriedades\n",
    "#### Dimensão e formato\n",
    "\n",
    "Dois conceitos importantes já mencionados acima é o de dimensão, formato e tamanho.\n",
    "\n",
    "Para descobrir essas informações, basta acessar os atributos `ndim`, `shape` e `size`"
   ]
  },
  {
   "cell_type": "markdown",
   "metadata": {},
   "source": [
    "shape = (linha, coluna)\n",
    "\n",
    "size é a quantidade de elementos"
   ]
  },
  {
   "cell_type": "code",
   "execution_count": 18,
   "metadata": {},
   "outputs": [
    {
     "name": "stdout",
     "output_type": "stream",
     "text": [
      "1\n",
      "(3,)\n",
      "3\n"
     ]
    }
   ],
   "source": [
    "print(a.ndim)\n",
    "print(a.shape)\n",
    "print(a.size)"
   ]
  },
  {
   "cell_type": "code",
   "execution_count": 19,
   "metadata": {},
   "outputs": [
    {
     "name": "stdout",
     "output_type": "stream",
     "text": [
      "2\n",
      "(2, 3)\n",
      "6\n"
     ]
    }
   ],
   "source": [
    "print(b.ndim)\n",
    "print(b.shape)\n",
    "print(b.size)"
   ]
  },
  {
   "cell_type": "code",
   "execution_count": 20,
   "metadata": {},
   "outputs": [
    {
     "name": "stdout",
     "output_type": "stream",
     "text": [
      "3\n",
      "(3, 2, 5)\n",
      "30\n"
     ]
    }
   ],
   "source": [
    "print(c.ndim)\n",
    "print(c.shape)\n",
    "print(c.size)"
   ]
  },
  {
   "cell_type": "markdown",
   "metadata": {},
   "source": [
    "### Acessando e modificando elementos (Indexing & Slicing)\n",
    "\n",
    "Dada a matriz a abaixo:"
   ]
  },
  {
   "cell_type": "code",
   "execution_count": 22,
   "metadata": {},
   "outputs": [
    {
     "name": "stdout",
     "output_type": "stream",
     "text": [
      "[[ 1  2  3  4  5  6  7]\n",
      " [ 8  9 10 11 12 13 14]\n",
      " [15 16 17 18 19 20 21]]\n"
     ]
    }
   ],
   "source": [
    "a = np.array([[1, 2, 3, 4, 5, 6, 7], \n",
    "              [8, 9, 10, 11, 12, 13, 14],\n",
    "            [15, 16, 17, 18, 19, 20, 21]])\n",
    "print(a)\n",
    "a[0, -1:1:-2]"
   ]
  },
  {
   "cell_type": "markdown",
   "metadata": {},
   "source": [
    "\n",
    "Podemos acessar um elemento específico de forma similar a lista, utilzando a sintaxe de colchetes, com a diferença de que podemos separar cada posição com vírgulas: <br> <br>\n",
    "$ array[IndiceLinha, IndiceColuna] $\n",
    "\n",
    "Para uma array 2D, temos então a sintaxe:\n",
    "\n",
    "Exemplo:\n"
   ]
  },
  {
   "cell_type": "code",
   "execution_count": null,
   "metadata": {},
   "outputs": [],
   "source": [
    "a[1, 4]"
   ]
  },
  {
   "cell_type": "markdown",
   "metadata": {},
   "source": [
    "Podemos também fazer dessa forma (menos comum):"
   ]
  },
  {
   "cell_type": "code",
   "execution_count": null,
   "metadata": {},
   "outputs": [],
   "source": [
    "a[1][4]"
   ]
  },
  {
   "cell_type": "markdown",
   "metadata": {},
   "source": [
    "Usar números negativos funciona de trás pra frente a indexação:\n"
   ]
  },
  {
   "cell_type": "code",
   "execution_count": 23,
   "metadata": {},
   "outputs": [
    {
     "data": {
      "text/plain": [
       "12"
      ]
     },
     "execution_count": 23,
     "metadata": {},
     "output_type": "execute_result"
    }
   ],
   "source": [
    "a[1, -3]"
   ]
  },
  {
   "cell_type": "markdown",
   "metadata": {},
   "source": [
    "Para pegar uma linha específica, podemos utilizar a sintaxe  `:` que pode ser lida como \"todos\" daquela dimensão (colunas).\n",
    "\n",
    "Podemos ler então como: linha um, todas as colunas\n"
   ]
  },
  {
   "cell_type": "code",
   "execution_count": 26,
   "metadata": {},
   "outputs": [
    {
     "data": {
      "text/plain": [
       "array([[ 8,  9, 10, 11, 12, 13, 14]])"
      ]
     },
     "execution_count": 26,
     "metadata": {},
     "output_type": "execute_result"
    }
   ],
   "source": [
    "a[1:2] #2 não incluso"
   ]
  },
  {
   "cell_type": "code",
   "execution_count": 27,
   "metadata": {},
   "outputs": [
    {
     "data": {
      "text/plain": [
       "array([[ 8,  9, 10, 11, 12, 13, 14]])"
      ]
     },
     "execution_count": 27,
     "metadata": {},
     "output_type": "execute_result"
    }
   ],
   "source": [
    "a[1:2, :]"
   ]
  },
  {
   "cell_type": "markdown",
   "metadata": {},
   "source": [
    "Também podemos fazer assim simplesmente:\n"
   ]
  },
  {
   "cell_type": "code",
   "execution_count": null,
   "metadata": {},
   "outputs": [],
   "source": [
    "a[1]"
   ]
  },
  {
   "cell_type": "markdown",
   "metadata": {},
   "source": [
    "Porém, para coluna específica não tem jeito, precisamos usar `:`.\n",
    "\n",
    "Leia-se: todas as linhas, coluna 2\n"
   ]
  },
  {
   "cell_type": "code",
   "execution_count": null,
   "metadata": {},
   "outputs": [],
   "source": [
    "a[:, 2]"
   ]
  },
  {
   "cell_type": "markdown",
   "metadata": {},
   "source": [
    "O operador `:` também conhecido como slicing, aceita o parâmetro:\n",
    "\n",
    "    start\n",
    "    end\n",
    "    step\n",
    "\n",
    "No formato\n",
    "\n",
    "$ [ startindex : endindex : stepsize ] $ \n",
    "\n",
    "O stepsize basicamente é quantos elementos deve ser pular. Podemos pegar do elemento 1 ao 6 pulando de 2 em 2 por exemplo da linha 0.\n"
   ]
  },
  {
   "cell_type": "code",
   "execution_count": 28,
   "metadata": {},
   "outputs": [
    {
     "data": {
      "text/plain": [
       "array([2, 4, 6])"
      ]
     },
     "execution_count": 28,
     "metadata": {},
     "output_type": "execute_result"
    }
   ],
   "source": [
    "a[0, 1:6:2]"
   ]
  },
  {
   "cell_type": "markdown",
   "metadata": {},
   "source": [
    "Funciona com negativo também:\n"
   ]
  },
  {
   "cell_type": "code",
   "execution_count": 29,
   "metadata": {},
   "outputs": [
    {
     "data": {
      "text/plain": [
       "array([2, 4, 6])"
      ]
     },
     "execution_count": 29,
     "metadata": {},
     "output_type": "execute_result"
    }
   ],
   "source": [
    "# negativo na coluna\n",
    "a[0, 1:-1:2]"
   ]
  },
  {
   "cell_type": "code",
   "execution_count": 30,
   "metadata": {},
   "outputs": [
    {
     "data": {
      "text/plain": [
       "array([7, 5, 3])"
      ]
     },
     "execution_count": 30,
     "metadata": {},
     "output_type": "execute_result"
    }
   ],
   "source": [
    "# negativo no step\n",
    "a[0, -1:1:-2]"
   ]
  },
  {
   "cell_type": "markdown",
   "metadata": {},
   "source": [
    "Para mudar um elemento específico, basta usar o operador `=`"
   ]
  },
  {
   "cell_type": "code",
   "execution_count": 31,
   "metadata": {},
   "outputs": [
    {
     "data": {
      "text/plain": [
       "array([[ 1,  2,  3,  4,  5,  6,  7],\n",
       "       [ 8,  9, 10, 11, 12, 20, 14],\n",
       "       [15, 16, 17, 18, 19, 20, 21]])"
      ]
     },
     "execution_count": 31,
     "metadata": {},
     "output_type": "execute_result"
    }
   ],
   "source": [
    "a[1,5] = 20\n",
    "a"
   ]
  },
  {
   "cell_type": "markdown",
   "metadata": {},
   "source": [
    "Mudando uma coluna inteira para ser 5:\n"
   ]
  },
  {
   "cell_type": "code",
   "execution_count": 37,
   "metadata": {},
   "outputs": [
    {
     "name": "stdout",
     "output_type": "stream",
     "text": [
      "[[  1   2  77   4   5   6   7]\n",
      " [  8   9 555  11  12  20  14]\n",
      " [ 15  16 555  18  19  20  21]] \n",
      "\n",
      "[ 77 555 555] \n",
      "\n",
      "[ 77 555 555] \n",
      "\n",
      "[[  1   2  77   4   5   6   7]\n",
      " [  8   9 555  11  12  20  14]\n",
      " [ 15  16 555  18  19  20  21]]\n"
     ]
    }
   ],
   "source": [
    "b = a[:, 2]\n",
    "print(a, \"\\n\")\n",
    "print(b, \"\\n\")\n",
    "b[0] = 77\n",
    "print(b, \"\\n\")\n",
    "print(a)"
   ]
  },
  {
   "cell_type": "markdown",
   "metadata": {},
   "source": [
    "Isso mostra uma característica fundamental do array do NumPy:\n",
    "\n",
    "Ao alterar o pedaço da matriz recortada, você altera a matriz original enquanto slicing em listas geram cópias!"
   ]
  },
  {
   "cell_type": "code",
   "execution_count": 40,
   "metadata": {},
   "outputs": [
    {
     "name": "stdout",
     "output_type": "stream",
     "text": [
      "{'nome': 'jade', 'idade': 18}\n",
      "{'nome': 'jade', 'idade': 18}\n"
     ]
    }
   ],
   "source": [
    "dict1 = {\"nome\": \"carol\", \"idade\": 18}\n",
    "dict2 = dict1\n",
    "dict1[\"nome\"] = \"jade\"\n",
    "print(dict2)\n",
    "\n",
    "dict3 = dict1.copy()\n",
    "dict1[\"nome\"] = \"carmem\"\n",
    "print(dict3)"
   ]
  },
  {
   "cell_type": "markdown",
   "metadata": {},
   "source": [
    "### Cópias do array"
   ]
  },
  {
   "cell_type": "markdown",
   "metadata": {},
   "source": [
    "Um dos detalhes do numpy que pode facilmente levar à problemas é que se você faz um slide do array você não obtém um vetor totalmente novo. Ele é uma \"view\" do array original o que significa que eles compartilham dos mesmos dados.\n",
    "\n",
    "Esse é o mesmo conceito de que as variáveis são apenas ponteiros e que variáveis distintas podem apontar para o mesmo objeto. This is similar to the idea that variables are just pointers, and that different variables may point to the same object (<a href=\"https://www.practicaldatascience.org/html/exercises/%5B../python_v_r.ipynb%5D\">Python v. R / Variables as Pointers tutorial</a>). No caso de slices as duas variáveis acessam o mesmo dado mas apresentam ele de form distinta. Por exemplo:\n"
   ]
  },
  {
   "cell_type": "code",
   "execution_count": null,
   "metadata": {},
   "outputs": [],
   "source": [
    "my_array = np.array([1, 2, 3, 4])\n",
    "my_array"
   ]
  },
  {
   "cell_type": "code",
   "execution_count": null,
   "metadata": {},
   "outputs": [],
   "source": [
    "my_slice = my_array[1:3]\n",
    "my_slice"
   ]
  },
  {
   "cell_type": "markdown",
   "metadata": {},
   "source": [
    "Uma vez que tanto my_array quanto my_slice apontam para o mesmo dado, mudanças que fizermos em um será propagada para o outro. Se modificarmos a entrada 2 no my_slice, essa mudança irá aparecer no my_array:"
   ]
  },
  {
   "cell_type": "code",
   "execution_count": null,
   "metadata": {},
   "outputs": [],
   "source": [
    "my_slice[0] = -1\n",
    "my_slice\n"
   ]
  },
  {
   "cell_type": "code",
   "execution_count": null,
   "metadata": {},
   "outputs": [],
   "source": [
    "my_array"
   ]
  },
  {
   "cell_type": "markdown",
   "metadata": {},
   "source": [
    "Apesar de o my_array e o my_slice estarem acessando o mesmo dado eles estão indexados diferentes. Nós mudamos o índice 0 no my_slice e a mudança no my_array foi no índice 1. <br>\n",
    "O mesmo não acontece com as listas"
   ]
  },
  {
   "cell_type": "code",
   "execution_count": null,
   "metadata": {},
   "outputs": [],
   "source": [
    "x = [1, 2, 3]\n",
    "y = x[0:2]\n",
    "y[0] = \"a change\"\n",
    "y"
   ]
  },
  {
   "cell_type": "code",
   "execution_count": null,
   "metadata": {},
   "outputs": [],
   "source": [
    "x"
   ]
  },
  {
   "cell_type": "markdown",
   "metadata": {},
   "source": [
    "Caso você não queira uma view você pode fazer o slice utilizando uma lista:"
   ]
  },
  {
   "cell_type": "code",
   "execution_count": null,
   "metadata": {},
   "outputs": [],
   "source": [
    "my_array = np.array([1, 2, 3])\n",
    "my_slice = my_array[[1,2]]\n",
    "my_slice[0] = -1\n",
    "my_array"
   ]
  },
  {
   "cell_type": "markdown",
   "metadata": {},
   "source": [
    "Ou utilizar uma cópia"
   ]
  },
  {
   "cell_type": "code",
   "execution_count": null,
   "metadata": {},
   "outputs": [],
   "source": [
    "my_array = np.array([1, 2, 3])\n",
    "my_slice = my_array[[1,2]].copy()\n",
    "my_slice[0] = -1\n",
    "my_array"
   ]
  },
  {
   "cell_type": "markdown",
   "metadata": {},
   "source": [
    "### Inicializando arrays usando métodos internos\n",
    "\n",
    "O NumPy já possui diversos métodos built-in para gerar arrays dos mais diversos tipos\n",
    "array apenas com zeros"
   ]
  },
  {
   "cell_type": "code",
   "execution_count": null,
   "metadata": {},
   "outputs": [],
   "source": [
    "np.zeros(5)"
   ]
  },
  {
   "cell_type": "markdown",
   "metadata": {},
   "source": [
    "É possível gerar um array de qualquer formato, basta apenasr passar o formato como uma sequência (lista, tupla geralmente) como argumento\n"
   ]
  },
  {
   "cell_type": "code",
   "execution_count": null,
   "metadata": {},
   "outputs": [],
   "source": [
    "np.zeros((2,3))"
   ]
  },
  {
   "cell_type": "code",
   "execution_count": null,
   "metadata": {},
   "outputs": [],
   "source": [
    "np.zeros((2, 2, 3))"
   ]
  },
  {
   "cell_type": "markdown",
   "metadata": {},
   "source": [
    "array apenas com 1"
   ]
  },
  {
   "cell_type": "code",
   "execution_count": null,
   "metadata": {},
   "outputs": [],
   "source": [
    "np.ones((4, 2, 2), dtype='int32')"
   ]
  },
  {
   "cell_type": "markdown",
   "metadata": {},
   "source": [
    "Um coisa muito comum é usar o np.ones para criar uma matriz de qualquer número fazendo a operação, exemplo:"
   ]
  },
  {
   "cell_type": "code",
   "execution_count": null,
   "metadata": {},
   "outputs": [],
   "source": [
    "np.ones((2, 2)) * 10"
   ]
  },
  {
   "cell_type": "markdown",
   "metadata": {},
   "source": [
    "Mas o numpy já tem uma opção mais elegante, o full:\n"
   ]
  },
  {
   "cell_type": "code",
   "execution_count": null,
   "metadata": {},
   "outputs": [],
   "source": [
    "np.full((2, 2), 99)"
   ]
  },
  {
   "cell_type": "markdown",
   "metadata": {},
   "source": [
    "Qualquer outro número copiando o formato de uma matriz existente\n"
   ]
  },
  {
   "cell_type": "code",
   "execution_count": null,
   "metadata": {},
   "outputs": [],
   "source": [
    "np.full_like(c, 4)"
   ]
  },
  {
   "cell_type": "markdown",
   "metadata": {},
   "source": [
    "### Números aleatórios\n",
    "#### Números decimais aleatórios\n",
    "\n",
    "O numpy tem um sub-módulo chamado random, que pode ser acessando via `np.random`. Embora o Python possua uma biblioteca padrão também chamada `random`, a biblioteca do *NumPy tem mais funcionalidades e gera diretamente vetores aleatórios*."
   ]
  },
  {
   "cell_type": "markdown",
   "metadata": {},
   "source": [
    "Cria um vetor segundo uma distribuição uniforme no intervalo [0,1):\n"
   ]
  },
  {
   "cell_type": "code",
   "execution_count": null,
   "metadata": {},
   "outputs": [],
   "source": [
    "np.random.rand(4, 2)"
   ]
  },
  {
   "cell_type": "markdown",
   "metadata": {},
   "source": [
    "Cria um vetor em que cada elemento segue uma distribuição normal com $\\mu=10.0$ e $\\sigma=1.0$"
   ]
  },
  {
   "cell_type": "code",
   "execution_count": null,
   "metadata": {},
   "outputs": [],
   "source": [
    "v = np.random.normal(10, 1, (4,4))\n",
    "print(v)\n"
   ]
  },
  {
   "cell_type": "markdown",
   "metadata": {},
   "source": [
    "#### Números aleatórios inteiros:\n"
   ]
  },
  {
   "cell_type": "markdown",
   "metadata": {},
   "source": [
    "Os argumentos principais são low, high e size, exemplo: criando uma matriz de 0 a 99 de 100 elementos:\n"
   ]
  },
  {
   "cell_type": "code",
   "execution_count": null,
   "metadata": {},
   "outputs": [],
   "source": [
    "np.random.randint(low=0, high=100, size=100)\n"
   ]
  },
  {
   "cell_type": "markdown",
   "metadata": {},
   "source": [
    "Para incluir o 100, basta trocar o high por 101"
   ]
  },
  {
   "cell_type": "code",
   "execution_count": null,
   "metadata": {},
   "outputs": [],
   "source": [
    "np.random.randint(7, size=(3, 3))"
   ]
  },
  {
   "cell_type": "markdown",
   "metadata": {},
   "source": [
    "Note que toda vez que rodarmos o código, os tensores terão valores diferentes. Podemos evitar esse comportamento, de forma que toda vez que o código é executado o tensor aleatório tenha o mesmo valor por meio da função seed, cujo argumento é a semente para o gerador de números aleatórios do Python:"
   ]
  },
  {
   "cell_type": "code",
   "execution_count": null,
   "metadata": {},
   "outputs": [],
   "source": [
    "np.random.seed(1000)\n",
    "v = np.random.rand(4)\n",
    "print(v)\n",
    "\n",
    "np.random.seed(1000)\n",
    "v = np.random.rand(4)\n",
    "print(v)\n"
   ]
  },
  {
   "cell_type": "markdown",
   "metadata": {},
   "source": [
    "### Criar ranges\n",
    "\n",
    "#### arange\n",
    "\n",
    "Método que retorna elementos igualmente espaçados num step (por padrão, 1) dentro de um certo intervalo.\n"
   ]
  },
  {
   "cell_type": "code",
   "execution_count": null,
   "metadata": {},
   "outputs": [],
   "source": [
    "np.arange(0, 10)"
   ]
  },
  {
   "cell_type": "markdown",
   "metadata": {},
   "source": [
    "Step diferente de 1:\n"
   ]
  },
  {
   "cell_type": "code",
   "execution_count": null,
   "metadata": {},
   "outputs": [],
   "source": [
    "np.arange(0, 5, 0.1)"
   ]
  },
  {
   "cell_type": "markdown",
   "metadata": {},
   "source": [
    "#### linspace\n",
    "\n",
    "Parecido com o arange, mas você diz quantos pontos você quer e o intervalo e ele define o espaçamento linear\n"
   ]
  },
  {
   "cell_type": "code",
   "execution_count": null,
   "metadata": {},
   "outputs": [],
   "source": [
    "np.linspace(0, 100, num=10, retstep=True)\n"
   ]
  },
  {
   "cell_type": "markdown",
   "metadata": {},
   "source": [
    "#### logspace"
   ]
  },
  {
   "cell_type": "code",
   "execution_count": null,
   "metadata": {},
   "outputs": [],
   "source": [
    "np.logspace(0, 100, num=10, base=2.0)"
   ]
  },
  {
   "cell_type": "markdown",
   "metadata": {},
   "source": [
    "### Matemática\n"
   ]
  },
  {
   "cell_type": "markdown",
   "metadata": {},
   "source": [
    "#### Operação com escalares"
   ]
  },
  {
   "cell_type": "code",
   "execution_count": null,
   "metadata": {},
   "outputs": [],
   "source": [
    "a = np.array([1, 2, 3, 4])\n",
    "a"
   ]
  },
  {
   "cell_type": "markdown",
   "metadata": {},
   "source": [
    "##### Soma"
   ]
  },
  {
   "cell_type": "code",
   "execution_count": null,
   "metadata": {},
   "outputs": [],
   "source": [
    "a+2"
   ]
  },
  {
   "cell_type": "markdown",
   "metadata": {},
   "source": [
    "##### Subtração:\n"
   ]
  },
  {
   "cell_type": "code",
   "execution_count": null,
   "metadata": {},
   "outputs": [],
   "source": [
    "a - 2"
   ]
  },
  {
   "cell_type": "markdown",
   "metadata": {},
   "source": [
    "##### Multiplicação"
   ]
  },
  {
   "cell_type": "code",
   "execution_count": null,
   "metadata": {},
   "outputs": [],
   "source": [
    "a*2"
   ]
  },
  {
   "cell_type": "markdown",
   "metadata": {},
   "source": [
    "##### Divisão"
   ]
  },
  {
   "cell_type": "code",
   "execution_count": null,
   "metadata": {},
   "outputs": [],
   "source": [
    "a/2"
   ]
  },
  {
   "cell_type": "markdown",
   "metadata": {},
   "source": [
    "##### Incrementar"
   ]
  },
  {
   "cell_type": "code",
   "execution_count": null,
   "metadata": {},
   "outputs": [],
   "source": [
    "a += 2\n",
    "a"
   ]
  },
  {
   "cell_type": "markdown",
   "metadata": {},
   "source": [
    "##### Potência"
   ]
  },
  {
   "cell_type": "code",
   "execution_count": null,
   "metadata": {},
   "outputs": [],
   "source": [
    "a**2"
   ]
  },
  {
   "cell_type": "markdown",
   "metadata": {},
   "source": [
    "#### Operação entre arrays\n",
    "\n",
    "Tudo que você consegue fazer com escalar, você consegue fazer com arrays elemento-a-elemento desde que os arrays tenham exatamente o mesmo tamanho, por exemplo, para soma:\n"
   ]
  },
  {
   "cell_type": "code",
   "execution_count": null,
   "metadata": {},
   "outputs": [],
   "source": [
    "a = np.array([1, 2, 3, 4])\n",
    "b = np.array([1, 0, 1, 0])\n",
    "\n",
    "# Exemplo de soma\n",
    "a + b"
   ]
  },
  {
   "cell_type": "code",
   "execution_count": null,
   "metadata": {},
   "outputs": [],
   "source": [
    "# Exemplo de multiplicação\n",
    "a*b"
   ]
  },
  {
   "cell_type": "code",
   "execution_count": null,
   "metadata": {},
   "outputs": [],
   "source": [
    "# Exemplo de potenciação\n",
    "a**b"
   ]
  },
  {
   "cell_type": "markdown",
   "metadata": {},
   "source": [
    "### Funções matemáticas\n",
    "O NumPy oferece diversas funções matemáticas clássicas, como exponencial, logaritmo, seno, cosseno etc. Essas funções são aplicadas a todos os elementos do array\n",
    "##### Função seno:"
   ]
  },
  {
   "cell_type": "code",
   "execution_count": null,
   "metadata": {},
   "outputs": [],
   "source": [
    "np.sin(a)"
   ]
  },
  {
   "cell_type": "markdown",
   "metadata": {},
   "source": [
    "##### Função cosseno"
   ]
  },
  {
   "cell_type": "code",
   "execution_count": null,
   "metadata": {},
   "outputs": [],
   "source": [
    "np.cos(a)"
   ]
  },
  {
   "cell_type": "markdown",
   "metadata": {},
   "source": [
    "#### Exponencial"
   ]
  },
  {
   "cell_type": "code",
   "execution_count": null,
   "metadata": {},
   "outputs": [],
   "source": [
    "np.exp(a)"
   ]
  },
  {
   "cell_type": "markdown",
   "metadata": {},
   "source": [
    "#### Log"
   ]
  },
  {
   "cell_type": "code",
   "execution_count": null,
   "metadata": {},
   "outputs": [],
   "source": [
    "np.log(a)"
   ]
  },
  {
   "cell_type": "markdown",
   "metadata": {},
   "source": [
    "### Estatística\n",
    "\n",
    "O numpy vem com várias funções básicas de estatística como mínimo, máximo, média, mediana, etc.\n",
    "Todos esses métodos aceitam o argumento `axis`. Para `axis=0` a conta é feita considerando-se as **linhas**. Para `axis=1` a conta é feita considerando-se as **colunas**."
   ]
  },
  {
   "cell_type": "code",
   "execution_count": 3,
   "metadata": {},
   "outputs": [
    {
     "data": {
      "text/plain": [
       "array([[1, 2, 3],\n",
       "       [4, 5, 6]])"
      ]
     },
     "execution_count": 3,
     "metadata": {},
     "output_type": "execute_result"
    }
   ],
   "source": [
    "stats = np.array([[1, 2, 3], [4, 5, 6]])\n",
    "stats"
   ]
  },
  {
   "cell_type": "code",
   "execution_count": null,
   "metadata": {},
   "outputs": [],
   "source": [
    "np.min(stats)"
   ]
  },
  {
   "cell_type": "code",
   "execution_count": null,
   "metadata": {},
   "outputs": [],
   "source": [
    "stats.max()"
   ]
  },
  {
   "cell_type": "code",
   "execution_count": null,
   "metadata": {},
   "outputs": [],
   "source": [
    "#local do maior valor\n",
    "stats.argmax()"
   ]
  },
  {
   "cell_type": "code",
   "execution_count": null,
   "metadata": {},
   "outputs": [],
   "source": [
    "#local do menor valor\n",
    "stats.argmin()"
   ]
  },
  {
   "cell_type": "markdown",
   "metadata": {},
   "source": [
    "Mínimo por linha:\n"
   ]
  },
  {
   "cell_type": "code",
   "execution_count": 4,
   "metadata": {},
   "outputs": [
    {
     "data": {
      "text/plain": [
       "array([1, 4])"
      ]
     },
     "execution_count": 4,
     "metadata": {},
     "output_type": "execute_result"
    }
   ],
   "source": [
    "np.min(stats, axis=1) "
   ]
  },
  {
   "cell_type": "markdown",
   "metadata": {},
   "source": [
    "Máximo por coluna:"
   ]
  },
  {
   "cell_type": "code",
   "execution_count": 5,
   "metadata": {},
   "outputs": [
    {
     "data": {
      "text/plain": [
       "array([4, 5, 6])"
      ]
     },
     "execution_count": 5,
     "metadata": {},
     "output_type": "execute_result"
    }
   ],
   "source": [
    "stats.max(axis=0)"
   ]
  },
  {
   "cell_type": "markdown",
   "metadata": {},
   "source": [
    "Soma por coluna:"
   ]
  },
  {
   "cell_type": "code",
   "execution_count": null,
   "metadata": {},
   "outputs": [],
   "source": [
    "np.sum(stats, axis=0)"
   ]
  },
  {
   "cell_type": "code",
   "execution_count": null,
   "metadata": {},
   "outputs": [],
   "source": [
    "stats.sum(axis=0)"
   ]
  },
  {
   "cell_type": "markdown",
   "metadata": {},
   "source": [
    "Média:\n"
   ]
  },
  {
   "cell_type": "code",
   "execution_count": null,
   "metadata": {},
   "outputs": [],
   "source": [
    "np.mean(stats)"
   ]
  },
  {
   "cell_type": "markdown",
   "metadata": {},
   "source": [
    "Desvio padrão"
   ]
  },
  {
   "cell_type": "code",
   "execution_count": null,
   "metadata": {},
   "outputs": [],
   "source": [
    "stats.std()"
   ]
  },
  {
   "cell_type": "markdown",
   "metadata": {},
   "source": [
    "### Reorganizar Array\n",
    "\n",
    "Muitas vezes você quer mudar o formato de array, por exemplo, de 4 elementos pra uma matriz 2x2, ou situações similares.\n",
    "\n",
    "Para isso, você pode utilizar a função `reshape`.\n"
   ]
  },
  {
   "cell_type": "code",
   "execution_count": null,
   "metadata": {},
   "outputs": [],
   "source": [
    "before = np.array([[1,2,3,4],[5,6,7,8]])\n",
    "print(before.shape)\n",
    "before"
   ]
  },
  {
   "cell_type": "code",
   "execution_count": null,
   "metadata": {},
   "outputs": [],
   "source": [
    "after = before.reshape((4, 2)) # tem que possuir a mesma quantidade no size!\n",
    "after"
   ]
  },
  {
   "cell_type": "code",
   "execution_count": null,
   "metadata": {},
   "outputs": [],
   "source": [
    "before.reshape((-1, 2)) # o -1 representa quantas linhas for preciso para ter 2 colunas"
   ]
  },
  {
   "cell_type": "code",
   "execution_count": null,
   "metadata": {},
   "outputs": [],
   "source": [
    "before.reshape(2, 2, 2)"
   ]
  },
  {
   "cell_type": "markdown",
   "metadata": {},
   "source": [
    "### Apendar os vetores\n",
    "#### Verticalmente"
   ]
  },
  {
   "cell_type": "code",
   "execution_count": null,
   "metadata": {},
   "outputs": [],
   "source": [
    "v1 = np.array([1,2,3,4])\n",
    "v2 = np.array([5,6,7,8])\n",
    "\n",
    "np.vstack([v1, v2])"
   ]
  },
  {
   "cell_type": "markdown",
   "metadata": {},
   "source": [
    "#### Horizontalmente\n",
    "\n",
    "De forma similar ao anterior:\n"
   ]
  },
  {
   "cell_type": "code",
   "execution_count": null,
   "metadata": {},
   "outputs": [],
   "source": [
    "# para arrays 1D\n",
    "np.hstack((v1,v2))"
   ]
  },
  {
   "cell_type": "markdown",
   "metadata": {},
   "source": [
    "#### para arrays 2D"
   ]
  },
  {
   "cell_type": "code",
   "execution_count": null,
   "metadata": {},
   "outputs": [],
   "source": [
    "h1 = np.ones((2, 4))\n",
    "print(h1)\n",
    "print()\n",
    "\n",
    "h2 = np.zeros((2, 2))\n",
    "print(h2)"
   ]
  },
  {
   "cell_type": "code",
   "execution_count": null,
   "metadata": {},
   "outputs": [],
   "source": [
    "np.hstack((h1, h2))"
   ]
  },
  {
   "cell_type": "markdown",
   "metadata": {},
   "source": [
    "### Máscara Booleana e Seleção Avançada\n",
    "\n",
    "Conceito super importante no numpy e no pandas é o de máscara booleana.\n",
    "\n",
    "Ao utilizar qualquer operador booleano\n",
    "\n",
    "    >\n",
    "    <\n",
    "    <=\n",
    "    >=\n",
    "    ==\n",
    "    in\n",
    "\n",
    "o numpy retorna um array de True e False no qual ele aplicou elemento a elemento aquele operador.\n",
    "\n",
    "Suponha a matriz abaixo:\n"
   ]
  },
  {
   "cell_type": "code",
   "execution_count": null,
   "metadata": {},
   "outputs": [],
   "source": [
    "mat = np.array([1, 10, 20, 30]).reshape(2, 2)\n",
    "mat"
   ]
  },
  {
   "cell_type": "markdown",
   "metadata": {},
   "source": [
    "Eu quero saber todos os elementos maiores que 10, eu posso aplicar:\n"
   ]
  },
  {
   "cell_type": "code",
   "execution_count": null,
   "metadata": {},
   "outputs": [],
   "source": [
    "mat > 10"
   ]
  },
  {
   "cell_type": "markdown",
   "metadata": {},
   "source": [
    "Me é retornado uma matriz de formato (2, 2) com True na posição dos elementos que são maiores que 10.\n",
    "\n",
    "Os tensores booleanos podem ser usados para filtrar valores em um tensor, por exemplo:\n"
   ]
  },
  {
   "cell_type": "code",
   "execution_count": null,
   "metadata": {},
   "outputs": [],
   "source": [
    "mat[mat > 10]"
   ]
  },
  {
   "cell_type": "markdown",
   "metadata": {},
   "source": [
    "E será retornado um array com os elementos 20 e 30 como esperado.\n",
    "\n",
    "Podemos fazer operações linha a linha ou coluna a coluna através de métodos auxiliares como any ou all:\n",
    "\n",
    "    any: se qualquer elemento da linha for True, retorna True\n",
    "    all: todos os elementos tem que ser True para retornar True\n",
    "\n",
    "Exemplos:\n",
    "\n",
    "Por coluna:\n"
   ]
  },
  {
   "cell_type": "code",
   "execution_count": null,
   "metadata": {},
   "outputs": [],
   "source": [
    "mat"
   ]
  },
  {
   "cell_type": "code",
   "execution_count": null,
   "metadata": {},
   "outputs": [],
   "source": [
    "np.any(mat > 10, axis=0)"
   ]
  },
  {
   "cell_type": "markdown",
   "metadata": {},
   "source": [
    "Por linha:"
   ]
  },
  {
   "cell_type": "code",
   "execution_count": null,
   "metadata": {},
   "outputs": [],
   "source": [
    "np.any(mat > 10, axis=1)"
   ]
  },
  {
   "cell_type": "markdown",
   "metadata": {},
   "source": [
    "Geral:"
   ]
  },
  {
   "cell_type": "code",
   "execution_count": null,
   "metadata": {},
   "outputs": [],
   "source": [
    "np.any(mat > 10)"
   ]
  },
  {
   "cell_type": "markdown",
   "metadata": {},
   "source": [
    "Comparando arrays"
   ]
  },
  {
   "cell_type": "code",
   "execution_count": null,
   "metadata": {},
   "outputs": [],
   "source": [
    "u = np.arange(4).reshape(2,2)\n",
    "v = 2*np.ones((2,2))"
   ]
  },
  {
   "cell_type": "code",
   "execution_count": null,
   "metadata": {},
   "outputs": [],
   "source": [
    "u"
   ]
  },
  {
   "cell_type": "code",
   "execution_count": null,
   "metadata": {},
   "outputs": [],
   "source": [
    "v"
   ]
  },
  {
   "cell_type": "code",
   "execution_count": null,
   "metadata": {},
   "outputs": [],
   "source": [
    "w = u > v\n",
    "print(w)"
   ]
  },
  {
   "cell_type": "code",
   "execution_count": null,
   "metadata": {},
   "outputs": [],
   "source": [
    "u[u > v]"
   ]
  },
  {
   "cell_type": "markdown",
   "metadata": {},
   "source": [
    "### Operador AND\n",
    "\n",
    "Similar ao `and` do python, podemos usar múltiplas condições para filtrar dados da nossa matriz com o operador `&`.\n"
   ]
  },
  {
   "cell_type": "code",
   "execution_count": null,
   "metadata": {},
   "outputs": [],
   "source": [
    "mat"
   ]
  },
  {
   "cell_type": "code",
   "execution_count": null,
   "metadata": {},
   "outputs": [],
   "source": [
    "filt = (mat > 10) & (mat <= 20)\n",
    "mat[filt]"
   ]
  },
  {
   "cell_type": "markdown",
   "metadata": {},
   "source": [
    "Observação: note que os colchetes além de melhorarem a legibilidade, são necessárias devido a ordem de precedência dos operadores python. Se não colocarmos os colchetes, dará um erro.\n"
   ]
  },
  {
   "cell_type": "markdown",
   "metadata": {},
   "source": [
    "### Operador OR\n",
    "\n",
    "Similar ao `or`, só que devemos utilizar `|`:\n"
   ]
  },
  {
   "cell_type": "code",
   "execution_count": null,
   "metadata": {},
   "outputs": [],
   "source": [
    "filt = (mat == 1) | (mat >= 20)\n",
    "mat[filt]"
   ]
  },
  {
   "cell_type": "markdown",
   "metadata": {},
   "source": [
    "### Operador NOT\n",
    "\n",
    "Similar ao `not`, mas devemos utilizar um til `~`.\n"
   ]
  },
  {
   "cell_type": "code",
   "execution_count": null,
   "metadata": {},
   "outputs": [],
   "source": [
    "filt = (mat == 1) | (mat >= 20)\n",
    "mat[~filt]"
   ]
  },
  {
   "cell_type": "markdown",
   "metadata": {},
   "source": [
    "### Atribuir valores em determinadas condições\n",
    "E podemos também atribuir um valor específico aos elementos de um vetor que satisfazem uma certa condições, por exemplo zerar todos os valores negativos:\n"
   ]
  },
  {
   "cell_type": "code",
   "execution_count": null,
   "metadata": {},
   "outputs": [],
   "source": [
    "u = np.array([-1,  2, -3])\n",
    "print(\"u =\", u)\n",
    "print()\n",
    "\n",
    "u[u < 0] = 0\n",
    "print(\"u =\", u)"
   ]
  },
  {
   "cell_type": "markdown",
   "metadata": {},
   "source": [
    "Usando **np.where(se condição, recebe valor, se não)**"
   ]
  },
  {
   "cell_type": "code",
   "execution_count": null,
   "metadata": {},
   "outputs": [],
   "source": [
    "u = np.array([-1,  2, -3])\n",
    "np.where(u<0, 0, u)"
   ]
  },
  {
   "cell_type": "markdown",
   "metadata": {},
   "source": [
    "#### Seleção passando listas\n",
    "\n",
    "Podemos selecionar elementos específicos de um array passando uma lista de posições:\n"
   ]
  },
  {
   "cell_type": "code",
   "execution_count": null,
   "metadata": {},
   "outputs": [],
   "source": [
    "a = np.array([1, 2, 3, 4, 5, 6, 7, 8, 9])\n",
    "a[[1, 2, 5, 8]]"
   ]
  },
  {
   "cell_type": "markdown",
   "metadata": {},
   "source": [
    "#### Nans"
   ]
  },
  {
   "cell_type": "code",
   "execution_count": null,
   "metadata": {},
   "outputs": [],
   "source": [
    "a = np.array([[1, 2, 3, 4, 5], [np.nan, 7, 8, 9,10]])"
   ]
  },
  {
   "cell_type": "code",
   "execution_count": null,
   "metadata": {},
   "outputs": [],
   "source": [
    "np.isnan(a)"
   ]
  },
  {
   "cell_type": "code",
   "execution_count": null,
   "metadata": {},
   "outputs": [],
   "source": [
    "np.isnan(a).sum()"
   ]
  },
  {
   "cell_type": "markdown",
   "metadata": {},
   "source": [
    "### Funcionalidades extras\n",
    "#### Carregar dados de um arquivo\n",
    "\n",
    "Vamos supor que temos um arquivo data.txt com o seguinte conteúdo:\n",
    "\n",
    "1,13,21,11,196,75,4,3,34,6,7,8,0,1,2,3,4,5 <br>\n",
    "3,42,12,33,766,75,4,55,6,4,3,4,5,6,7,0,11,12 <br>\n",
    "1,22,33,11,999,11,2,1,78,0,1,2,9,8,7,1,76,88 <br>\n",
    "\n",
    "Podemos gerar uma matriz a partir desse arquivo da seguinte forma:\n"
   ]
  },
  {
   "cell_type": "code",
   "execution_count": null,
   "metadata": {},
   "outputs": [],
   "source": [
    "filedata = np.genfromtxt('data.txt', delimiter=',')\n",
    "filedata"
   ]
  },
  {
   "cell_type": "markdown",
   "metadata": {},
   "source": [
    "O primeiro argumento é o nome do arquivo.\n",
    "\n",
    "No segundo argumento, delimiter, você especifica o que separa cada número individualmente no arquivo. Nesse caso é a vírgula, mas podería ser ;, espaços, ou tabs.\n",
    "\n",
    "Podemos notar também que o numpy converteu para float nossos números, apesar de todos serem inteiros. Ele faz isso como uma medida preventiva dado que ele não sabe ao ler o arquivo qual tipo de dado que é.\n",
    "\n",
    "Podemos importar os dados com um formato especificado usando o argumento `dtype='int'` ou podemos converter manualmente para inteiro usando a função astype:"
   ]
  },
  {
   "cell_type": "code",
   "execution_count": null,
   "metadata": {},
   "outputs": [],
   "source": [
    "filedata.astype('int32')"
   ]
  },
  {
   "cell_type": "markdown",
   "metadata": {},
   "source": [
    "Também podemos avisar o numpy quais são nossas colunas de interesse com o argumento `usecols`"
   ]
  },
  {
   "cell_type": "code",
   "execution_count": null,
   "metadata": {},
   "outputs": [],
   "source": [
    "np.genfromtxt('data.txt', delimiter=',', usecols=[0,1,2,3], dtype='int')"
   ]
  },
  {
   "cell_type": "markdown",
   "metadata": {},
   "source": [
    "Podemos também salvar uma matriz de uma forma mais otimizada não textual (binária) para uso futuro.\n",
    "\n",
    "Isso gera um arquivo binário que inclusive salva o tipo de dado, nesse caso, int32.\n",
    "\n",
    "Quando lido, vai converter corretamente o tipo daquele dado.\n",
    "\n"
   ]
  },
  {
   "cell_type": "code",
   "execution_count": null,
   "metadata": {},
   "outputs": [],
   "source": [
    "np.save('data_saved', filedata.astype('int32'))"
   ]
  },
  {
   "cell_type": "markdown",
   "metadata": {},
   "source": [
    "\n",
    "Para ler os dados que acabamos de salvar, basta usar o `np.load`:\n"
   ]
  },
  {
   "cell_type": "code",
   "execution_count": null,
   "metadata": {
    "scrolled": false
   },
   "outputs": [],
   "source": [
    "np.load('data_saved.npy')"
   ]
  },
  {
   "cell_type": "markdown",
   "metadata": {},
   "source": [
    "### Álgebra Linear\n",
    "\n",
    "Da definição do Wikipédia:\n",
    "\n",
    "    Álgebra linear é um ramo da matemática que surgiu do estudo detalhado de sistemas de equações lineares, sejam elas algébricas ou diferenciais. A álgebra linear utiliza alguns conceitos e estruturas fundamentais da matemática como vetores, espaços vetoriais, transformações lineares, sistemas de equações lineares e matrizes.\n",
    "\n",
    "O numpy nos permite executar diversas diversas operações de álgebra linear, mostradas a seguir:\n"
   ]
  },
  {
   "cell_type": "code",
   "execution_count": null,
   "metadata": {},
   "outputs": [],
   "source": [
    "a = np.ones((2, 3))\n",
    "print(a)\n",
    "print()\n",
    "\n",
    "b = np.full((3, 2), 2)\n",
    "print(b)\n",
    "print()\n",
    "\n",
    "c = np.identity(5)\n",
    "print(c)"
   ]
  },
  {
   "cell_type": "markdown",
   "metadata": {},
   "source": [
    "##### Transposição\n",
    "\n",
    "<img src=\"transposicao.png\"  style=\"width: 400px\" />\n",
    "\n",
    "A operação de transposição pode ser feita da seguinte forma:"
   ]
  },
  {
   "cell_type": "code",
   "execution_count": null,
   "metadata": {},
   "outputs": [],
   "source": [
    "np.transpose(a)"
   ]
  },
  {
   "cell_type": "markdown",
   "metadata": {},
   "source": [
    "Ou acessando o atributo T:"
   ]
  },
  {
   "cell_type": "code",
   "execution_count": null,
   "metadata": {},
   "outputs": [],
   "source": [
    "a.T"
   ]
  },
  {
   "cell_type": "markdown",
   "metadata": {},
   "source": [
    "#### Multiplicação de matrizes\n",
    "\n",
    "A tradicional multiplicação de matrizes, como mostra a imagem abaixo:\n",
    "\n",
    "<img src=\"multiplicacao.gif\"  style=\"width: 400px\" />\n",
    "\n",
    "pode ser feita no numpy simplesmente chamando `matmul`\n"
   ]
  },
  {
   "cell_type": "code",
   "execution_count": null,
   "metadata": {},
   "outputs": [],
   "source": [
    "np.matmul(a, b)"
   ]
  },
  {
   "cell_type": "markdown",
   "metadata": {},
   "source": [
    "Operador `@` executa a função anterior:\n"
   ]
  },
  {
   "cell_type": "code",
   "execution_count": null,
   "metadata": {},
   "outputs": [],
   "source": [
    "a @ b"
   ]
  },
  {
   "cell_type": "markdown",
   "metadata": {},
   "source": [
    "Se utilizarmos o símbolo * teremos a múltiplicação elemento à elemento e precisaremos de matrizes de mesmo tamanho"
   ]
  },
  {
   "cell_type": "code",
   "execution_count": null,
   "metadata": {},
   "outputs": [],
   "source": [
    "a = np.array([[1, 2], [3, 2]])\n",
    "b = np.array([[4, 5], [2, 1]])\n",
    "print(a)\n",
    "print()\n",
    "print(b)\n",
    "a * b"
   ]
  },
  {
   "cell_type": "markdown",
   "metadata": {},
   "source": [
    "Outras funcções de Álgebra Linear: https://docs.scipy.org/doc/numpy/reference/routines.linalg.html\n",
    "\n",
    "    Trace\n",
    "    Decomposição de vetores\n",
    "    Autovalor/autovetor\n",
    "    Norma da Matriz\n",
    "    Inversa\n",
    "    Etc...\n"
   ]
  },
  {
   "cell_type": "markdown",
   "metadata": {},
   "source": [
    "Referências   <br>\n",
    "<a href=\"https://github.com/numpy/numpy\" target=\"_blank\">NumPy GitHub</a>  <br>\n",
    "<a href=\"https://docs.scipy.org/doc/numpy/reference/\" target=\"_blank\">Documentação oficial</a>   <br>\n",
    "<a href=\"https://docs.scipy.org/doc/numpy/reference/routines.math.html\" target=\"_blank\">Funções matemáticas</a>   <br>\n",
    "<a href=\"https://docs.scipy.org/doc/numpy/reference/routines.linalg.html\" target=\"_blank\">Funções de Álgebra Linear</a>   <br>\n",
    "<a href=\"http://www.opl.ufc.br/pt/post/numpy/\" target=\"_blank\">Outros</a> \n",
    "    "
   ]
  },
  {
   "cell_type": "markdown",
   "metadata": {},
   "source": [
    "## Outros tópicos\n",
    "* Broadcasting: operações com vetores de dimensões distintas\n",
    "\n",
    "<a href=\"http://www.opl.ufc.br/pt/post/numpy/\" target=\"_blank\">Referência</a> "
   ]
  },
  {
   "cell_type": "markdown",
   "metadata": {},
   "source": [
    "## Exercícios"
   ]
  },
  {
   "cell_type": "markdown",
   "metadata": {},
   "source": [
    "1 - Substitua os valores ímpares do seguinte array por 0:  <br>\n",
    "array = [1, 2, 3, 4, 5, 6, 7, 8, 9] <br>\n",
    "Utilizando list compreension e duas maneiras distintas com o numpy"
   ]
  },
  {
   "cell_type": "code",
   "execution_count": null,
   "metadata": {},
   "outputs": [],
   "source": []
  },
  {
   "cell_type": "markdown",
   "metadata": {},
   "source": [
    "2 - Concatene os vetores abaixo verticalmente e horizontalmente <br>\n",
    "a = np.arange(10).reshape(2,-1) <br>\n",
    "b = np.repeat(1, 10).reshape(2,-1)"
   ]
  },
  {
   "cell_type": "code",
   "execution_count": null,
   "metadata": {},
   "outputs": [],
   "source": []
  },
  {
   "cell_type": "markdown",
   "metadata": {},
   "source": [
    "3 - Importe as 4 primeiras colunas do dataset do íris com o numpy e print as 10 primeiras linhas <br> \n",
    "url = 'https://archive.ics.uci.edu/ml/machine-learning-databases/iris/iris.data'"
   ]
  },
  {
   "cell_type": "code",
   "execution_count": 2,
   "metadata": {},
   "outputs": [],
   "source": [
    "import numpy as np"
   ]
  },
  {
   "cell_type": "code",
   "execution_count": 3,
   "metadata": {},
   "outputs": [],
   "source": [
    "iris = np.genfromtxt('https://archive.ics.uci.edu/ml/machine-learning-databases/iris/iris.data', delimiter=',', usecols=[0,1,2,3])"
   ]
  },
  {
   "cell_type": "code",
   "execution_count": 8,
   "metadata": {},
   "outputs": [
    {
     "data": {
      "text/plain": [
       "array([[5.1, 3.5, 1.4, 0.2],\n",
       "       [4.9, 3. , 1.4, 0.2],\n",
       "       [4.7, 3.2, 1.3, 0.2],\n",
       "       [4.6, 3.1, 1.5, 0.2],\n",
       "       [5. , 3.6, 1.4, 0.2],\n",
       "       [5.4, 3.9, 1.7, 0.4],\n",
       "       [4.6, 3.4, 1.4, 0.3],\n",
       "       [5. , 3.4, 1.5, 0.2],\n",
       "       [4.4, 2.9, 1.4, 0.2],\n",
       "       [4.9, 3.1, 1.5, 0.1],\n",
       "       [5.4, 3.7, 1.5, 0.2]])"
      ]
     },
     "execution_count": 8,
     "metadata": {},
     "output_type": "execute_result"
    }
   ],
   "source": [
    "iris[:11]"
   ]
  },
  {
   "cell_type": "markdown",
   "metadata": {},
   "source": [
    "4 - Calcule a média, mediana e desvio padrão da coluna sepallenght"
   ]
  },
  {
   "cell_type": "code",
   "execution_count": null,
   "metadata": {},
   "outputs": [],
   "source": []
  },
  {
   "cell_type": "markdown",
   "metadata": {},
   "source": [
    "5 - Crie um vetor normalizado da coluna sepallength cujos valores estejam entre 0 e 1"
   ]
  },
  {
   "cell_type": "code",
   "execution_count": 9,
   "metadata": {},
   "outputs": [
    {
     "data": {
      "text/plain": [
       "array([5.1, 4.9, 4.7, 4.6, 5. , 5.4, 4.6, 5. , 4.4, 4.9, 5.4, 4.8, 4.8,\n",
       "       4.3, 5.8, 5.7, 5.4, 5.1, 5.7, 5.1, 5.4, 5.1, 4.6, 5.1, 4.8, 5. ,\n",
       "       5. , 5.2, 5.2, 4.7, 4.8, 5.4, 5.2, 5.5, 4.9, 5. , 5.5, 4.9, 4.4,\n",
       "       5.1, 5. , 4.5, 4.4, 5. , 5.1, 4.8, 5.1, 4.6, 5.3, 5. , 7. , 6.4,\n",
       "       6.9, 5.5, 6.5, 5.7, 6.3, 4.9, 6.6, 5.2, 5. , 5.9, 6. , 6.1, 5.6,\n",
       "       6.7, 5.6, 5.8, 6.2, 5.6, 5.9, 6.1, 6.3, 6.1, 6.4, 6.6, 6.8, 6.7,\n",
       "       6. , 5.7, 5.5, 5.5, 5.8, 6. , 5.4, 6. , 6.7, 6.3, 5.6, 5.5, 5.5,\n",
       "       6.1, 5.8, 5. , 5.6, 5.7, 5.7, 6.2, 5.1, 5.7, 6.3, 5.8, 7.1, 6.3,\n",
       "       6.5, 7.6, 4.9, 7.3, 6.7, 7.2, 6.5, 6.4, 6.8, 5.7, 5.8, 6.4, 6.5,\n",
       "       7.7, 7.7, 6. , 6.9, 5.6, 7.7, 6.3, 6.7, 7.2, 6.2, 6.1, 6.4, 7.2,\n",
       "       7.4, 7.9, 6.4, 6.3, 6.1, 7.7, 6.3, 6.4, 6. , 6.9, 6.7, 6.9, 5.8,\n",
       "       6.8, 6.7, 6.7, 6.3, 6.5, 6.2, 5.9])"
      ]
     },
     "execution_count": 9,
     "metadata": {},
     "output_type": "execute_result"
    }
   ],
   "source": [
    "sepallength = iris[:,0]\n",
    "sepallength"
   ]
  },
  {
   "cell_type": "code",
   "execution_count": 10,
   "metadata": {},
   "outputs": [
    {
     "data": {
      "text/plain": [
       "array([0.22222222, 0.16666667, 0.11111111, 0.08333333, 0.19444444,\n",
       "       0.30555556, 0.08333333, 0.19444444, 0.02777778, 0.16666667,\n",
       "       0.30555556, 0.13888889, 0.13888889, 0.        , 0.41666667,\n",
       "       0.38888889, 0.30555556, 0.22222222, 0.38888889, 0.22222222,\n",
       "       0.30555556, 0.22222222, 0.08333333, 0.22222222, 0.13888889,\n",
       "       0.19444444, 0.19444444, 0.25      , 0.25      , 0.11111111,\n",
       "       0.13888889, 0.30555556, 0.25      , 0.33333333, 0.16666667,\n",
       "       0.19444444, 0.33333333, 0.16666667, 0.02777778, 0.22222222,\n",
       "       0.19444444, 0.05555556, 0.02777778, 0.19444444, 0.22222222,\n",
       "       0.13888889, 0.22222222, 0.08333333, 0.27777778, 0.19444444,\n",
       "       0.75      , 0.58333333, 0.72222222, 0.33333333, 0.61111111,\n",
       "       0.38888889, 0.55555556, 0.16666667, 0.63888889, 0.25      ,\n",
       "       0.19444444, 0.44444444, 0.47222222, 0.5       , 0.36111111,\n",
       "       0.66666667, 0.36111111, 0.41666667, 0.52777778, 0.36111111,\n",
       "       0.44444444, 0.5       , 0.55555556, 0.5       , 0.58333333,\n",
       "       0.63888889, 0.69444444, 0.66666667, 0.47222222, 0.38888889,\n",
       "       0.33333333, 0.33333333, 0.41666667, 0.47222222, 0.30555556,\n",
       "       0.47222222, 0.66666667, 0.55555556, 0.36111111, 0.33333333,\n",
       "       0.33333333, 0.5       , 0.41666667, 0.19444444, 0.36111111,\n",
       "       0.38888889, 0.38888889, 0.52777778, 0.22222222, 0.38888889,\n",
       "       0.55555556, 0.41666667, 0.77777778, 0.55555556, 0.61111111,\n",
       "       0.91666667, 0.16666667, 0.83333333, 0.66666667, 0.80555556,\n",
       "       0.61111111, 0.58333333, 0.69444444, 0.38888889, 0.41666667,\n",
       "       0.58333333, 0.61111111, 0.94444444, 0.94444444, 0.47222222,\n",
       "       0.72222222, 0.36111111, 0.94444444, 0.55555556, 0.66666667,\n",
       "       0.80555556, 0.52777778, 0.5       , 0.58333333, 0.80555556,\n",
       "       0.86111111, 1.        , 0.58333333, 0.55555556, 0.5       ,\n",
       "       0.94444444, 0.55555556, 0.58333333, 0.47222222, 0.72222222,\n",
       "       0.66666667, 0.72222222, 0.41666667, 0.69444444, 0.66666667,\n",
       "       0.66666667, 0.55555556, 0.61111111, 0.52777778, 0.44444444])"
      ]
     },
     "execution_count": 10,
     "metadata": {},
     "output_type": "execute_result"
    }
   ],
   "source": [
    "Smax, Smin = sepallength.max(), sepallength.min()\n",
    "S = (sepallength - Smin)/(Smax - Smin)\n",
    "S"
   ]
  },
  {
   "cell_type": "markdown",
   "metadata": {},
   "source": [
    "6 - Filtre a matriz para conter apenas dados nos quais petallength (3ª columna) > 1.5 e sepallength (1ª coluna) < 5.0"
   ]
  },
  {
   "cell_type": "code",
   "execution_count": null,
   "metadata": {},
   "outputs": [],
   "source": []
  },
  {
   "cell_type": "code",
   "execution_count": null,
   "metadata": {},
   "outputs": [],
   "source": [
    "7 - Esses dados possuem nans?"
   ]
  },
  {
   "cell_type": "code",
   "execution_count": 14,
   "metadata": {},
   "outputs": [
    {
     "data": {
      "text/plain": [
       "0"
      ]
     },
     "execution_count": 14,
     "metadata": {},
     "output_type": "execute_result"
    }
   ],
   "source": [
    "np.isnan(iris).sum()"
   ]
  },
  {
   "cell_type": "markdown",
   "metadata": {},
   "source": [
    "8 - Crie uma coluna de volume sabendo que o volume representa (pi x petallength x sepal_length^2)/3"
   ]
  },
  {
   "cell_type": "code",
   "execution_count": 15,
   "metadata": {},
   "outputs": [],
   "source": [
    "petal_length = iris[:,2]"
   ]
  },
  {
   "cell_type": "code",
   "execution_count": 16,
   "metadata": {},
   "outputs": [
    {
     "data": {
      "text/plain": [
       "array([1.4, 1.4, 1.3, 1.5, 1.4, 1.7, 1.4, 1.5, 1.4, 1.5, 1.5, 1.6, 1.4,\n",
       "       1.1, 1.2, 1.5, 1.3, 1.4, 1.7, 1.5, 1.7, 1.5, 1. , 1.7, 1.9, 1.6,\n",
       "       1.6, 1.5, 1.4, 1.6, 1.6, 1.5, 1.5, 1.4, 1.5, 1.2, 1.3, 1.5, 1.3,\n",
       "       1.5, 1.3, 1.3, 1.3, 1.6, 1.9, 1.4, 1.6, 1.4, 1.5, 1.4, 4.7, 4.5,\n",
       "       4.9, 4. , 4.6, 4.5, 4.7, 3.3, 4.6, 3.9, 3.5, 4.2, 4. , 4.7, 3.6,\n",
       "       4.4, 4.5, 4.1, 4.5, 3.9, 4.8, 4. , 4.9, 4.7, 4.3, 4.4, 4.8, 5. ,\n",
       "       4.5, 3.5, 3.8, 3.7, 3.9, 5.1, 4.5, 4.5, 4.7, 4.4, 4.1, 4. , 4.4,\n",
       "       4.6, 4. , 3.3, 4.2, 4.2, 4.2, 4.3, 3. , 4.1, 6. , 5.1, 5.9, 5.6,\n",
       "       5.8, 6.6, 4.5, 6.3, 5.8, 6.1, 5.1, 5.3, 5.5, 5. , 5.1, 5.3, 5.5,\n",
       "       6.7, 6.9, 5. , 5.7, 4.9, 6.7, 4.9, 5.7, 6. , 4.8, 4.9, 5.6, 5.8,\n",
       "       6.1, 6.4, 5.6, 5.1, 5.6, 6.1, 5.6, 5.5, 4.8, 5.4, 5.6, 5.1, 5.1,\n",
       "       5.9, 5.7, 5.2, 5. , 5.2, 5.4, 5.1])"
      ]
     },
     "execution_count": 16,
     "metadata": {},
     "output_type": "execute_result"
    }
   ],
   "source": [
    "petal_length"
   ]
  },
  {
   "cell_type": "code",
   "execution_count": 17,
   "metadata": {},
   "outputs": [],
   "source": [
    "volume = (np.pi*petal_length*sepallength**2)/3"
   ]
  },
  {
   "cell_type": "code",
   "execution_count": 18,
   "metadata": {},
   "outputs": [
    {
     "data": {
      "text/plain": [
       "array([ 38.13265163,  35.20049849,  30.07237208,  33.23805027,\n",
       "        36.65191429,  51.91167701,  31.02218026,  39.26990817,\n",
       "        28.38324243,  37.71481981,  45.80442089,  38.60389053,\n",
       "        33.77840421,  21.29895099,  42.27327075,  51.03517266,\n",
       "        39.69716477,  38.13265163,  57.83986235,  40.85641246,\n",
       "        51.91167701,  40.85641246,  22.15870018,  46.30393412,\n",
       "        45.84212   ,  41.88790205,  41.88790205,  42.47433268,\n",
       "        39.6427105 ,  37.01215025,  38.60389053,  45.80442089,\n",
       "        42.47433268,  44.34881629,  37.71481981,  31.41592654,\n",
       "        41.1810437 ,  37.71481981,  26.35586797,  40.85641246,\n",
       "        34.03392041,  27.56747554,  26.35586797,  41.88790205,\n",
       "        51.75145578,  33.77840421,  43.58017329,  31.02218026,\n",
       "        44.12366882,  36.65191429, 241.16959604, 193.01945264,\n",
       "       244.29966952, 126.71090369, 203.52284408, 153.10551797,\n",
       "       195.34737279,  82.97260357, 209.83325652, 110.43326496,\n",
       "        91.62978573, 153.10237638, 150.79644737, 183.14123814,\n",
       "       118.22441474, 206.83827152, 147.78051842, 144.43367505,\n",
       "       181.14423241, 128.0764493 , 174.97414443, 155.86488352,\n",
       "       203.66002695, 183.14123814, 184.4408103 , 200.71007145,\n",
       "       232.42759088, 235.04349037, 169.64600329, 119.08206953,\n",
       "       120.37535851, 117.20758592, 137.38812993, 192.2654704 ,\n",
       "       137.41326267, 169.64600329, 220.94088094, 182.87839155,\n",
       "       134.64447234, 126.71090369, 139.38199406, 179.24461605,\n",
       "       140.91090249,  86.39379797, 137.92848386, 142.89848344,\n",
       "       142.89848344, 173.09337763,  81.71282492, 139.4961386 ,\n",
       "       249.37962484, 179.66140067, 311.45644848, 232.75431652,\n",
       "       256.61575992, 399.20846168, 113.14445942, 351.57249227,\n",
       "       272.65044882, 331.14899843, 225.64489234, 227.33402199,\n",
       "       266.32328122, 170.11724219, 179.66140067, 227.33402199,\n",
       "       243.34253096, 415.99189683, 428.40956539, 188.49555922,\n",
       "       284.18532985, 160.91656451, 415.99189683, 203.66002695,\n",
       "       267.94957902, 325.72032632, 193.22051457, 190.93448231,\n",
       "       240.2019855 , 314.86298211, 349.80168121, 418.27583469,\n",
       "       240.2019855 , 211.97268112, 218.21083693, 378.73889114,\n",
       "       232.75431652, 235.91266433, 180.95573685, 269.22820723,\n",
       "       263.24870921, 254.2710846 , 179.66140067, 285.69224713,\n",
       "       267.94957902, 244.44522998, 207.81635403, 230.069302  ,\n",
       "       217.37307889, 185.91002846])"
      ]
     },
     "execution_count": 18,
     "metadata": {},
     "output_type": "execute_result"
    }
   ],
   "source": [
    "volume"
   ]
  },
  {
   "cell_type": "code",
   "execution_count": 19,
   "metadata": {},
   "outputs": [
    {
     "data": {
      "text/plain": [
       "(150, 4)"
      ]
     },
     "execution_count": 19,
     "metadata": {},
     "output_type": "execute_result"
    }
   ],
   "source": [
    "iris.shape"
   ]
  },
  {
   "cell_type": "code",
   "execution_count": 36,
   "metadata": {},
   "outputs": [
    {
     "data": {
      "text/plain": [
       "(150, 1)"
      ]
     },
     "execution_count": 36,
     "metadata": {},
     "output_type": "execute_result"
    }
   ],
   "source": [
    "volume[:,np.newaxis].shape"
   ]
  },
  {
   "cell_type": "code",
   "execution_count": 22,
   "metadata": {},
   "outputs": [
    {
     "data": {
      "text/plain": [
       "(150, 1)"
      ]
     },
     "execution_count": 22,
     "metadata": {},
     "output_type": "execute_result"
    }
   ],
   "source": [
    "volume.reshape(-1,1).shape"
   ]
  },
  {
   "cell_type": "code",
   "execution_count": 26,
   "metadata": {},
   "outputs": [
    {
     "data": {
      "text/plain": [
       "array([[5.10000000e+00, 3.50000000e+00, 1.40000000e+00, 2.00000000e-01,\n",
       "        3.81326516e+01],\n",
       "       [4.90000000e+00, 3.00000000e+00, 1.40000000e+00, 2.00000000e-01,\n",
       "        3.52004985e+01],\n",
       "       [4.70000000e+00, 3.20000000e+00, 1.30000000e+00, 2.00000000e-01,\n",
       "        3.00723721e+01],\n",
       "       [4.60000000e+00, 3.10000000e+00, 1.50000000e+00, 2.00000000e-01,\n",
       "        3.32380503e+01],\n",
       "       [5.00000000e+00, 3.60000000e+00, 1.40000000e+00, 2.00000000e-01,\n",
       "        3.66519143e+01],\n",
       "       [5.40000000e+00, 3.90000000e+00, 1.70000000e+00, 4.00000000e-01,\n",
       "        5.19116770e+01],\n",
       "       [4.60000000e+00, 3.40000000e+00, 1.40000000e+00, 3.00000000e-01,\n",
       "        3.10221803e+01],\n",
       "       [5.00000000e+00, 3.40000000e+00, 1.50000000e+00, 2.00000000e-01,\n",
       "        3.92699082e+01],\n",
       "       [4.40000000e+00, 2.90000000e+00, 1.40000000e+00, 2.00000000e-01,\n",
       "        2.83832424e+01],\n",
       "       [4.90000000e+00, 3.10000000e+00, 1.50000000e+00, 1.00000000e-01,\n",
       "        3.77148198e+01],\n",
       "       [5.40000000e+00, 3.70000000e+00, 1.50000000e+00, 2.00000000e-01,\n",
       "        4.58044209e+01],\n",
       "       [4.80000000e+00, 3.40000000e+00, 1.60000000e+00, 2.00000000e-01,\n",
       "        3.86038905e+01],\n",
       "       [4.80000000e+00, 3.00000000e+00, 1.40000000e+00, 1.00000000e-01,\n",
       "        3.37784042e+01],\n",
       "       [4.30000000e+00, 3.00000000e+00, 1.10000000e+00, 1.00000000e-01,\n",
       "        2.12989510e+01],\n",
       "       [5.80000000e+00, 4.00000000e+00, 1.20000000e+00, 2.00000000e-01,\n",
       "        4.22732707e+01],\n",
       "       [5.70000000e+00, 4.40000000e+00, 1.50000000e+00, 4.00000000e-01,\n",
       "        5.10351727e+01],\n",
       "       [5.40000000e+00, 3.90000000e+00, 1.30000000e+00, 4.00000000e-01,\n",
       "        3.96971648e+01],\n",
       "       [5.10000000e+00, 3.50000000e+00, 1.40000000e+00, 3.00000000e-01,\n",
       "        3.81326516e+01],\n",
       "       [5.70000000e+00, 3.80000000e+00, 1.70000000e+00, 3.00000000e-01,\n",
       "        5.78398623e+01],\n",
       "       [5.10000000e+00, 3.80000000e+00, 1.50000000e+00, 3.00000000e-01,\n",
       "        4.08564125e+01],\n",
       "       [5.40000000e+00, 3.40000000e+00, 1.70000000e+00, 2.00000000e-01,\n",
       "        5.19116770e+01],\n",
       "       [5.10000000e+00, 3.70000000e+00, 1.50000000e+00, 4.00000000e-01,\n",
       "        4.08564125e+01],\n",
       "       [4.60000000e+00, 3.60000000e+00, 1.00000000e+00, 2.00000000e-01,\n",
       "        2.21587002e+01],\n",
       "       [5.10000000e+00, 3.30000000e+00, 1.70000000e+00, 5.00000000e-01,\n",
       "        4.63039341e+01],\n",
       "       [4.80000000e+00, 3.40000000e+00, 1.90000000e+00, 2.00000000e-01,\n",
       "        4.58421200e+01],\n",
       "       [5.00000000e+00, 3.00000000e+00, 1.60000000e+00, 2.00000000e-01,\n",
       "        4.18879020e+01],\n",
       "       [5.00000000e+00, 3.40000000e+00, 1.60000000e+00, 4.00000000e-01,\n",
       "        4.18879020e+01],\n",
       "       [5.20000000e+00, 3.50000000e+00, 1.50000000e+00, 2.00000000e-01,\n",
       "        4.24743327e+01],\n",
       "       [5.20000000e+00, 3.40000000e+00, 1.40000000e+00, 2.00000000e-01,\n",
       "        3.96427105e+01],\n",
       "       [4.70000000e+00, 3.20000000e+00, 1.60000000e+00, 2.00000000e-01,\n",
       "        3.70121502e+01],\n",
       "       [4.80000000e+00, 3.10000000e+00, 1.60000000e+00, 2.00000000e-01,\n",
       "        3.86038905e+01],\n",
       "       [5.40000000e+00, 3.40000000e+00, 1.50000000e+00, 4.00000000e-01,\n",
       "        4.58044209e+01],\n",
       "       [5.20000000e+00, 4.10000000e+00, 1.50000000e+00, 1.00000000e-01,\n",
       "        4.24743327e+01],\n",
       "       [5.50000000e+00, 4.20000000e+00, 1.40000000e+00, 2.00000000e-01,\n",
       "        4.43488163e+01],\n",
       "       [4.90000000e+00, 3.10000000e+00, 1.50000000e+00, 1.00000000e-01,\n",
       "        3.77148198e+01],\n",
       "       [5.00000000e+00, 3.20000000e+00, 1.20000000e+00, 2.00000000e-01,\n",
       "        3.14159265e+01],\n",
       "       [5.50000000e+00, 3.50000000e+00, 1.30000000e+00, 2.00000000e-01,\n",
       "        4.11810437e+01],\n",
       "       [4.90000000e+00, 3.10000000e+00, 1.50000000e+00, 1.00000000e-01,\n",
       "        3.77148198e+01],\n",
       "       [4.40000000e+00, 3.00000000e+00, 1.30000000e+00, 2.00000000e-01,\n",
       "        2.63558680e+01],\n",
       "       [5.10000000e+00, 3.40000000e+00, 1.50000000e+00, 2.00000000e-01,\n",
       "        4.08564125e+01],\n",
       "       [5.00000000e+00, 3.50000000e+00, 1.30000000e+00, 3.00000000e-01,\n",
       "        3.40339204e+01],\n",
       "       [4.50000000e+00, 2.30000000e+00, 1.30000000e+00, 3.00000000e-01,\n",
       "        2.75674755e+01],\n",
       "       [4.40000000e+00, 3.20000000e+00, 1.30000000e+00, 2.00000000e-01,\n",
       "        2.63558680e+01],\n",
       "       [5.00000000e+00, 3.50000000e+00, 1.60000000e+00, 6.00000000e-01,\n",
       "        4.18879020e+01],\n",
       "       [5.10000000e+00, 3.80000000e+00, 1.90000000e+00, 4.00000000e-01,\n",
       "        5.17514558e+01],\n",
       "       [4.80000000e+00, 3.00000000e+00, 1.40000000e+00, 3.00000000e-01,\n",
       "        3.37784042e+01],\n",
       "       [5.10000000e+00, 3.80000000e+00, 1.60000000e+00, 2.00000000e-01,\n",
       "        4.35801733e+01],\n",
       "       [4.60000000e+00, 3.20000000e+00, 1.40000000e+00, 2.00000000e-01,\n",
       "        3.10221803e+01],\n",
       "       [5.30000000e+00, 3.70000000e+00, 1.50000000e+00, 2.00000000e-01,\n",
       "        4.41236688e+01],\n",
       "       [5.00000000e+00, 3.30000000e+00, 1.40000000e+00, 2.00000000e-01,\n",
       "        3.66519143e+01],\n",
       "       [7.00000000e+00, 3.20000000e+00, 4.70000000e+00, 1.40000000e+00,\n",
       "        2.41169596e+02],\n",
       "       [6.40000000e+00, 3.20000000e+00, 4.50000000e+00, 1.50000000e+00,\n",
       "        1.93019453e+02],\n",
       "       [6.90000000e+00, 3.10000000e+00, 4.90000000e+00, 1.50000000e+00,\n",
       "        2.44299670e+02],\n",
       "       [5.50000000e+00, 2.30000000e+00, 4.00000000e+00, 1.30000000e+00,\n",
       "        1.26710904e+02],\n",
       "       [6.50000000e+00, 2.80000000e+00, 4.60000000e+00, 1.50000000e+00,\n",
       "        2.03522844e+02],\n",
       "       [5.70000000e+00, 2.80000000e+00, 4.50000000e+00, 1.30000000e+00,\n",
       "        1.53105518e+02],\n",
       "       [6.30000000e+00, 3.30000000e+00, 4.70000000e+00, 1.60000000e+00,\n",
       "        1.95347373e+02],\n",
       "       [4.90000000e+00, 2.40000000e+00, 3.30000000e+00, 1.00000000e+00,\n",
       "        8.29726036e+01],\n",
       "       [6.60000000e+00, 2.90000000e+00, 4.60000000e+00, 1.30000000e+00,\n",
       "        2.09833257e+02],\n",
       "       [5.20000000e+00, 2.70000000e+00, 3.90000000e+00, 1.40000000e+00,\n",
       "        1.10433265e+02],\n",
       "       [5.00000000e+00, 2.00000000e+00, 3.50000000e+00, 1.00000000e+00,\n",
       "        9.16297857e+01],\n",
       "       [5.90000000e+00, 3.00000000e+00, 4.20000000e+00, 1.50000000e+00,\n",
       "        1.53102376e+02],\n",
       "       [6.00000000e+00, 2.20000000e+00, 4.00000000e+00, 1.00000000e+00,\n",
       "        1.50796447e+02],\n",
       "       [6.10000000e+00, 2.90000000e+00, 4.70000000e+00, 1.40000000e+00,\n",
       "        1.83141238e+02],\n",
       "       [5.60000000e+00, 2.90000000e+00, 3.60000000e+00, 1.30000000e+00,\n",
       "        1.18224415e+02],\n",
       "       [6.70000000e+00, 3.10000000e+00, 4.40000000e+00, 1.40000000e+00,\n",
       "        2.06838272e+02],\n",
       "       [5.60000000e+00, 3.00000000e+00, 4.50000000e+00, 1.50000000e+00,\n",
       "        1.47780518e+02],\n",
       "       [5.80000000e+00, 2.70000000e+00, 4.10000000e+00, 1.00000000e+00,\n",
       "        1.44433675e+02],\n",
       "       [6.20000000e+00, 2.20000000e+00, 4.50000000e+00, 1.50000000e+00,\n",
       "        1.81144232e+02],\n",
       "       [5.60000000e+00, 2.50000000e+00, 3.90000000e+00, 1.10000000e+00,\n",
       "        1.28076449e+02],\n",
       "       [5.90000000e+00, 3.20000000e+00, 4.80000000e+00, 1.80000000e+00,\n",
       "        1.74974144e+02],\n",
       "       [6.10000000e+00, 2.80000000e+00, 4.00000000e+00, 1.30000000e+00,\n",
       "        1.55864884e+02],\n",
       "       [6.30000000e+00, 2.50000000e+00, 4.90000000e+00, 1.50000000e+00,\n",
       "        2.03660027e+02],\n",
       "       [6.10000000e+00, 2.80000000e+00, 4.70000000e+00, 1.20000000e+00,\n",
       "        1.83141238e+02],\n",
       "       [6.40000000e+00, 2.90000000e+00, 4.30000000e+00, 1.30000000e+00,\n",
       "        1.84440810e+02],\n",
       "       [6.60000000e+00, 3.00000000e+00, 4.40000000e+00, 1.40000000e+00,\n",
       "        2.00710071e+02],\n",
       "       [6.80000000e+00, 2.80000000e+00, 4.80000000e+00, 1.40000000e+00,\n",
       "        2.32427591e+02],\n",
       "       [6.70000000e+00, 3.00000000e+00, 5.00000000e+00, 1.70000000e+00,\n",
       "        2.35043490e+02],\n",
       "       [6.00000000e+00, 2.90000000e+00, 4.50000000e+00, 1.50000000e+00,\n",
       "        1.69646003e+02],\n",
       "       [5.70000000e+00, 2.60000000e+00, 3.50000000e+00, 1.00000000e+00,\n",
       "        1.19082070e+02],\n",
       "       [5.50000000e+00, 2.40000000e+00, 3.80000000e+00, 1.10000000e+00,\n",
       "        1.20375359e+02],\n",
       "       [5.50000000e+00, 2.40000000e+00, 3.70000000e+00, 1.00000000e+00,\n",
       "        1.17207586e+02],\n",
       "       [5.80000000e+00, 2.70000000e+00, 3.90000000e+00, 1.20000000e+00,\n",
       "        1.37388130e+02],\n",
       "       [6.00000000e+00, 2.70000000e+00, 5.10000000e+00, 1.60000000e+00,\n",
       "        1.92265470e+02],\n",
       "       [5.40000000e+00, 3.00000000e+00, 4.50000000e+00, 1.50000000e+00,\n",
       "        1.37413263e+02],\n",
       "       [6.00000000e+00, 3.40000000e+00, 4.50000000e+00, 1.60000000e+00,\n",
       "        1.69646003e+02],\n",
       "       [6.70000000e+00, 3.10000000e+00, 4.70000000e+00, 1.50000000e+00,\n",
       "        2.20940881e+02],\n",
       "       [6.30000000e+00, 2.30000000e+00, 4.40000000e+00, 1.30000000e+00,\n",
       "        1.82878392e+02],\n",
       "       [5.60000000e+00, 3.00000000e+00, 4.10000000e+00, 1.30000000e+00,\n",
       "        1.34644472e+02],\n",
       "       [5.50000000e+00, 2.50000000e+00, 4.00000000e+00, 1.30000000e+00,\n",
       "        1.26710904e+02],\n",
       "       [5.50000000e+00, 2.60000000e+00, 4.40000000e+00, 1.20000000e+00,\n",
       "        1.39381994e+02],\n",
       "       [6.10000000e+00, 3.00000000e+00, 4.60000000e+00, 1.40000000e+00,\n",
       "        1.79244616e+02],\n",
       "       [5.80000000e+00, 2.60000000e+00, 4.00000000e+00, 1.20000000e+00,\n",
       "        1.40910902e+02],\n",
       "       [5.00000000e+00, 2.30000000e+00, 3.30000000e+00, 1.00000000e+00,\n",
       "        8.63937980e+01],\n",
       "       [5.60000000e+00, 2.70000000e+00, 4.20000000e+00, 1.30000000e+00,\n",
       "        1.37928484e+02],\n",
       "       [5.70000000e+00, 3.00000000e+00, 4.20000000e+00, 1.20000000e+00,\n",
       "        1.42898483e+02],\n",
       "       [5.70000000e+00, 2.90000000e+00, 4.20000000e+00, 1.30000000e+00,\n",
       "        1.42898483e+02],\n",
       "       [6.20000000e+00, 2.90000000e+00, 4.30000000e+00, 1.30000000e+00,\n",
       "        1.73093378e+02],\n",
       "       [5.10000000e+00, 2.50000000e+00, 3.00000000e+00, 1.10000000e+00,\n",
       "        8.17128249e+01],\n",
       "       [5.70000000e+00, 2.80000000e+00, 4.10000000e+00, 1.30000000e+00,\n",
       "        1.39496139e+02],\n",
       "       [6.30000000e+00, 3.30000000e+00, 6.00000000e+00, 2.50000000e+00,\n",
       "        2.49379625e+02],\n",
       "       [5.80000000e+00, 2.70000000e+00, 5.10000000e+00, 1.90000000e+00,\n",
       "        1.79661401e+02],\n",
       "       [7.10000000e+00, 3.00000000e+00, 5.90000000e+00, 2.10000000e+00,\n",
       "        3.11456448e+02],\n",
       "       [6.30000000e+00, 2.90000000e+00, 5.60000000e+00, 1.80000000e+00,\n",
       "        2.32754317e+02],\n",
       "       [6.50000000e+00, 3.00000000e+00, 5.80000000e+00, 2.20000000e+00,\n",
       "        2.56615760e+02],\n",
       "       [7.60000000e+00, 3.00000000e+00, 6.60000000e+00, 2.10000000e+00,\n",
       "        3.99208462e+02],\n",
       "       [4.90000000e+00, 2.50000000e+00, 4.50000000e+00, 1.70000000e+00,\n",
       "        1.13144459e+02],\n",
       "       [7.30000000e+00, 2.90000000e+00, 6.30000000e+00, 1.80000000e+00,\n",
       "        3.51572492e+02],\n",
       "       [6.70000000e+00, 2.50000000e+00, 5.80000000e+00, 1.80000000e+00,\n",
       "        2.72650449e+02],\n",
       "       [7.20000000e+00, 3.60000000e+00, 6.10000000e+00, 2.50000000e+00,\n",
       "        3.31148998e+02],\n",
       "       [6.50000000e+00, 3.20000000e+00, 5.10000000e+00, 2.00000000e+00,\n",
       "        2.25644892e+02],\n",
       "       [6.40000000e+00, 2.70000000e+00, 5.30000000e+00, 1.90000000e+00,\n",
       "        2.27334022e+02],\n",
       "       [6.80000000e+00, 3.00000000e+00, 5.50000000e+00, 2.10000000e+00,\n",
       "        2.66323281e+02],\n",
       "       [5.70000000e+00, 2.50000000e+00, 5.00000000e+00, 2.00000000e+00,\n",
       "        1.70117242e+02],\n",
       "       [5.80000000e+00, 2.80000000e+00, 5.10000000e+00, 2.40000000e+00,\n",
       "        1.79661401e+02],\n",
       "       [6.40000000e+00, 3.20000000e+00, 5.30000000e+00, 2.30000000e+00,\n",
       "        2.27334022e+02],\n",
       "       [6.50000000e+00, 3.00000000e+00, 5.50000000e+00, 1.80000000e+00,\n",
       "        2.43342531e+02],\n",
       "       [7.70000000e+00, 3.80000000e+00, 6.70000000e+00, 2.20000000e+00,\n",
       "        4.15991897e+02],\n",
       "       [7.70000000e+00, 2.60000000e+00, 6.90000000e+00, 2.30000000e+00,\n",
       "        4.28409565e+02],\n",
       "       [6.00000000e+00, 2.20000000e+00, 5.00000000e+00, 1.50000000e+00,\n",
       "        1.88495559e+02],\n",
       "       [6.90000000e+00, 3.20000000e+00, 5.70000000e+00, 2.30000000e+00,\n",
       "        2.84185330e+02],\n",
       "       [5.60000000e+00, 2.80000000e+00, 4.90000000e+00, 2.00000000e+00,\n",
       "        1.60916565e+02],\n",
       "       [7.70000000e+00, 2.80000000e+00, 6.70000000e+00, 2.00000000e+00,\n",
       "        4.15991897e+02],\n",
       "       [6.30000000e+00, 2.70000000e+00, 4.90000000e+00, 1.80000000e+00,\n",
       "        2.03660027e+02],\n",
       "       [6.70000000e+00, 3.30000000e+00, 5.70000000e+00, 2.10000000e+00,\n",
       "        2.67949579e+02],\n",
       "       [7.20000000e+00, 3.20000000e+00, 6.00000000e+00, 1.80000000e+00,\n",
       "        3.25720326e+02],\n",
       "       [6.20000000e+00, 2.80000000e+00, 4.80000000e+00, 1.80000000e+00,\n",
       "        1.93220515e+02],\n",
       "       [6.10000000e+00, 3.00000000e+00, 4.90000000e+00, 1.80000000e+00,\n",
       "        1.90934482e+02],\n",
       "       [6.40000000e+00, 2.80000000e+00, 5.60000000e+00, 2.10000000e+00,\n",
       "        2.40201986e+02],\n",
       "       [7.20000000e+00, 3.00000000e+00, 5.80000000e+00, 1.60000000e+00,\n",
       "        3.14862982e+02],\n",
       "       [7.40000000e+00, 2.80000000e+00, 6.10000000e+00, 1.90000000e+00,\n",
       "        3.49801681e+02],\n",
       "       [7.90000000e+00, 3.80000000e+00, 6.40000000e+00, 2.00000000e+00,\n",
       "        4.18275835e+02],\n",
       "       [6.40000000e+00, 2.80000000e+00, 5.60000000e+00, 2.20000000e+00,\n",
       "        2.40201986e+02],\n",
       "       [6.30000000e+00, 2.80000000e+00, 5.10000000e+00, 1.50000000e+00,\n",
       "        2.11972681e+02],\n",
       "       [6.10000000e+00, 2.60000000e+00, 5.60000000e+00, 1.40000000e+00,\n",
       "        2.18210837e+02],\n",
       "       [7.70000000e+00, 3.00000000e+00, 6.10000000e+00, 2.30000000e+00,\n",
       "        3.78738891e+02],\n",
       "       [6.30000000e+00, 3.40000000e+00, 5.60000000e+00, 2.40000000e+00,\n",
       "        2.32754317e+02],\n",
       "       [6.40000000e+00, 3.10000000e+00, 5.50000000e+00, 1.80000000e+00,\n",
       "        2.35912664e+02],\n",
       "       [6.00000000e+00, 3.00000000e+00, 4.80000000e+00, 1.80000000e+00,\n",
       "        1.80955737e+02],\n",
       "       [6.90000000e+00, 3.10000000e+00, 5.40000000e+00, 2.10000000e+00,\n",
       "        2.69228207e+02],\n",
       "       [6.70000000e+00, 3.10000000e+00, 5.60000000e+00, 2.40000000e+00,\n",
       "        2.63248709e+02],\n",
       "       [6.90000000e+00, 3.10000000e+00, 5.10000000e+00, 2.30000000e+00,\n",
       "        2.54271085e+02],\n",
       "       [5.80000000e+00, 2.70000000e+00, 5.10000000e+00, 1.90000000e+00,\n",
       "        1.79661401e+02],\n",
       "       [6.80000000e+00, 3.20000000e+00, 5.90000000e+00, 2.30000000e+00,\n",
       "        2.85692247e+02],\n",
       "       [6.70000000e+00, 3.30000000e+00, 5.70000000e+00, 2.50000000e+00,\n",
       "        2.67949579e+02],\n",
       "       [6.70000000e+00, 3.00000000e+00, 5.20000000e+00, 2.30000000e+00,\n",
       "        2.44445230e+02],\n",
       "       [6.30000000e+00, 2.50000000e+00, 5.00000000e+00, 1.90000000e+00,\n",
       "        2.07816354e+02],\n",
       "       [6.50000000e+00, 3.00000000e+00, 5.20000000e+00, 2.00000000e+00,\n",
       "        2.30069302e+02],\n",
       "       [6.20000000e+00, 3.40000000e+00, 5.40000000e+00, 2.30000000e+00,\n",
       "        2.17373079e+02],\n",
       "       [5.90000000e+00, 3.00000000e+00, 5.10000000e+00, 1.80000000e+00,\n",
       "        1.85910028e+02]])"
      ]
     },
     "execution_count": 26,
     "metadata": {},
     "output_type": "execute_result"
    }
   ],
   "source": [
    "np.hstack((iris, volume.reshape(-1,1)))"
   ]
  },
  {
   "cell_type": "code",
   "execution_count": 31,
   "metadata": {},
   "outputs": [
    {
     "data": {
      "text/plain": [
       "array([[5.10000000e+00, 3.50000000e+00, 1.40000000e+00, 2.00000000e-01,\n",
       "        3.81326516e+01],\n",
       "       [4.90000000e+00, 3.00000000e+00, 1.40000000e+00, 2.00000000e-01,\n",
       "        3.52004985e+01],\n",
       "       [4.70000000e+00, 3.20000000e+00, 1.30000000e+00, 2.00000000e-01,\n",
       "        3.00723721e+01],\n",
       "       [4.60000000e+00, 3.10000000e+00, 1.50000000e+00, 2.00000000e-01,\n",
       "        3.32380503e+01],\n",
       "       [5.00000000e+00, 3.60000000e+00, 1.40000000e+00, 2.00000000e-01,\n",
       "        3.66519143e+01],\n",
       "       [5.40000000e+00, 3.90000000e+00, 1.70000000e+00, 4.00000000e-01,\n",
       "        5.19116770e+01],\n",
       "       [4.60000000e+00, 3.40000000e+00, 1.40000000e+00, 3.00000000e-01,\n",
       "        3.10221803e+01],\n",
       "       [5.00000000e+00, 3.40000000e+00, 1.50000000e+00, 2.00000000e-01,\n",
       "        3.92699082e+01],\n",
       "       [4.40000000e+00, 2.90000000e+00, 1.40000000e+00, 2.00000000e-01,\n",
       "        2.83832424e+01],\n",
       "       [4.90000000e+00, 3.10000000e+00, 1.50000000e+00, 1.00000000e-01,\n",
       "        3.77148198e+01],\n",
       "       [5.40000000e+00, 3.70000000e+00, 1.50000000e+00, 2.00000000e-01,\n",
       "        4.58044209e+01],\n",
       "       [4.80000000e+00, 3.40000000e+00, 1.60000000e+00, 2.00000000e-01,\n",
       "        3.86038905e+01],\n",
       "       [4.80000000e+00, 3.00000000e+00, 1.40000000e+00, 1.00000000e-01,\n",
       "        3.37784042e+01],\n",
       "       [4.30000000e+00, 3.00000000e+00, 1.10000000e+00, 1.00000000e-01,\n",
       "        2.12989510e+01],\n",
       "       [5.80000000e+00, 4.00000000e+00, 1.20000000e+00, 2.00000000e-01,\n",
       "        4.22732707e+01],\n",
       "       [5.70000000e+00, 4.40000000e+00, 1.50000000e+00, 4.00000000e-01,\n",
       "        5.10351727e+01],\n",
       "       [5.40000000e+00, 3.90000000e+00, 1.30000000e+00, 4.00000000e-01,\n",
       "        3.96971648e+01],\n",
       "       [5.10000000e+00, 3.50000000e+00, 1.40000000e+00, 3.00000000e-01,\n",
       "        3.81326516e+01],\n",
       "       [5.70000000e+00, 3.80000000e+00, 1.70000000e+00, 3.00000000e-01,\n",
       "        5.78398623e+01],\n",
       "       [5.10000000e+00, 3.80000000e+00, 1.50000000e+00, 3.00000000e-01,\n",
       "        4.08564125e+01],\n",
       "       [5.40000000e+00, 3.40000000e+00, 1.70000000e+00, 2.00000000e-01,\n",
       "        5.19116770e+01],\n",
       "       [5.10000000e+00, 3.70000000e+00, 1.50000000e+00, 4.00000000e-01,\n",
       "        4.08564125e+01],\n",
       "       [4.60000000e+00, 3.60000000e+00, 1.00000000e+00, 2.00000000e-01,\n",
       "        2.21587002e+01],\n",
       "       [5.10000000e+00, 3.30000000e+00, 1.70000000e+00, 5.00000000e-01,\n",
       "        4.63039341e+01],\n",
       "       [4.80000000e+00, 3.40000000e+00, 1.90000000e+00, 2.00000000e-01,\n",
       "        4.58421200e+01],\n",
       "       [5.00000000e+00, 3.00000000e+00, 1.60000000e+00, 2.00000000e-01,\n",
       "        4.18879020e+01],\n",
       "       [5.00000000e+00, 3.40000000e+00, 1.60000000e+00, 4.00000000e-01,\n",
       "        4.18879020e+01],\n",
       "       [5.20000000e+00, 3.50000000e+00, 1.50000000e+00, 2.00000000e-01,\n",
       "        4.24743327e+01],\n",
       "       [5.20000000e+00, 3.40000000e+00, 1.40000000e+00, 2.00000000e-01,\n",
       "        3.96427105e+01],\n",
       "       [4.70000000e+00, 3.20000000e+00, 1.60000000e+00, 2.00000000e-01,\n",
       "        3.70121502e+01],\n",
       "       [4.80000000e+00, 3.10000000e+00, 1.60000000e+00, 2.00000000e-01,\n",
       "        3.86038905e+01],\n",
       "       [5.40000000e+00, 3.40000000e+00, 1.50000000e+00, 4.00000000e-01,\n",
       "        4.58044209e+01],\n",
       "       [5.20000000e+00, 4.10000000e+00, 1.50000000e+00, 1.00000000e-01,\n",
       "        4.24743327e+01],\n",
       "       [5.50000000e+00, 4.20000000e+00, 1.40000000e+00, 2.00000000e-01,\n",
       "        4.43488163e+01],\n",
       "       [4.90000000e+00, 3.10000000e+00, 1.50000000e+00, 1.00000000e-01,\n",
       "        3.77148198e+01],\n",
       "       [5.00000000e+00, 3.20000000e+00, 1.20000000e+00, 2.00000000e-01,\n",
       "        3.14159265e+01],\n",
       "       [5.50000000e+00, 3.50000000e+00, 1.30000000e+00, 2.00000000e-01,\n",
       "        4.11810437e+01],\n",
       "       [4.90000000e+00, 3.10000000e+00, 1.50000000e+00, 1.00000000e-01,\n",
       "        3.77148198e+01],\n",
       "       [4.40000000e+00, 3.00000000e+00, 1.30000000e+00, 2.00000000e-01,\n",
       "        2.63558680e+01],\n",
       "       [5.10000000e+00, 3.40000000e+00, 1.50000000e+00, 2.00000000e-01,\n",
       "        4.08564125e+01],\n",
       "       [5.00000000e+00, 3.50000000e+00, 1.30000000e+00, 3.00000000e-01,\n",
       "        3.40339204e+01],\n",
       "       [4.50000000e+00, 2.30000000e+00, 1.30000000e+00, 3.00000000e-01,\n",
       "        2.75674755e+01],\n",
       "       [4.40000000e+00, 3.20000000e+00, 1.30000000e+00, 2.00000000e-01,\n",
       "        2.63558680e+01],\n",
       "       [5.00000000e+00, 3.50000000e+00, 1.60000000e+00, 6.00000000e-01,\n",
       "        4.18879020e+01],\n",
       "       [5.10000000e+00, 3.80000000e+00, 1.90000000e+00, 4.00000000e-01,\n",
       "        5.17514558e+01],\n",
       "       [4.80000000e+00, 3.00000000e+00, 1.40000000e+00, 3.00000000e-01,\n",
       "        3.37784042e+01],\n",
       "       [5.10000000e+00, 3.80000000e+00, 1.60000000e+00, 2.00000000e-01,\n",
       "        4.35801733e+01],\n",
       "       [4.60000000e+00, 3.20000000e+00, 1.40000000e+00, 2.00000000e-01,\n",
       "        3.10221803e+01],\n",
       "       [5.30000000e+00, 3.70000000e+00, 1.50000000e+00, 2.00000000e-01,\n",
       "        4.41236688e+01],\n",
       "       [5.00000000e+00, 3.30000000e+00, 1.40000000e+00, 2.00000000e-01,\n",
       "        3.66519143e+01],\n",
       "       [7.00000000e+00, 3.20000000e+00, 4.70000000e+00, 1.40000000e+00,\n",
       "        2.41169596e+02],\n",
       "       [6.40000000e+00, 3.20000000e+00, 4.50000000e+00, 1.50000000e+00,\n",
       "        1.93019453e+02],\n",
       "       [6.90000000e+00, 3.10000000e+00, 4.90000000e+00, 1.50000000e+00,\n",
       "        2.44299670e+02],\n",
       "       [5.50000000e+00, 2.30000000e+00, 4.00000000e+00, 1.30000000e+00,\n",
       "        1.26710904e+02],\n",
       "       [6.50000000e+00, 2.80000000e+00, 4.60000000e+00, 1.50000000e+00,\n",
       "        2.03522844e+02],\n",
       "       [5.70000000e+00, 2.80000000e+00, 4.50000000e+00, 1.30000000e+00,\n",
       "        1.53105518e+02],\n",
       "       [6.30000000e+00, 3.30000000e+00, 4.70000000e+00, 1.60000000e+00,\n",
       "        1.95347373e+02],\n",
       "       [4.90000000e+00, 2.40000000e+00, 3.30000000e+00, 1.00000000e+00,\n",
       "        8.29726036e+01],\n",
       "       [6.60000000e+00, 2.90000000e+00, 4.60000000e+00, 1.30000000e+00,\n",
       "        2.09833257e+02],\n",
       "       [5.20000000e+00, 2.70000000e+00, 3.90000000e+00, 1.40000000e+00,\n",
       "        1.10433265e+02],\n",
       "       [5.00000000e+00, 2.00000000e+00, 3.50000000e+00, 1.00000000e+00,\n",
       "        9.16297857e+01],\n",
       "       [5.90000000e+00, 3.00000000e+00, 4.20000000e+00, 1.50000000e+00,\n",
       "        1.53102376e+02],\n",
       "       [6.00000000e+00, 2.20000000e+00, 4.00000000e+00, 1.00000000e+00,\n",
       "        1.50796447e+02],\n",
       "       [6.10000000e+00, 2.90000000e+00, 4.70000000e+00, 1.40000000e+00,\n",
       "        1.83141238e+02],\n",
       "       [5.60000000e+00, 2.90000000e+00, 3.60000000e+00, 1.30000000e+00,\n",
       "        1.18224415e+02],\n",
       "       [6.70000000e+00, 3.10000000e+00, 4.40000000e+00, 1.40000000e+00,\n",
       "        2.06838272e+02],\n",
       "       [5.60000000e+00, 3.00000000e+00, 4.50000000e+00, 1.50000000e+00,\n",
       "        1.47780518e+02],\n",
       "       [5.80000000e+00, 2.70000000e+00, 4.10000000e+00, 1.00000000e+00,\n",
       "        1.44433675e+02],\n",
       "       [6.20000000e+00, 2.20000000e+00, 4.50000000e+00, 1.50000000e+00,\n",
       "        1.81144232e+02],\n",
       "       [5.60000000e+00, 2.50000000e+00, 3.90000000e+00, 1.10000000e+00,\n",
       "        1.28076449e+02],\n",
       "       [5.90000000e+00, 3.20000000e+00, 4.80000000e+00, 1.80000000e+00,\n",
       "        1.74974144e+02],\n",
       "       [6.10000000e+00, 2.80000000e+00, 4.00000000e+00, 1.30000000e+00,\n",
       "        1.55864884e+02],\n",
       "       [6.30000000e+00, 2.50000000e+00, 4.90000000e+00, 1.50000000e+00,\n",
       "        2.03660027e+02],\n",
       "       [6.10000000e+00, 2.80000000e+00, 4.70000000e+00, 1.20000000e+00,\n",
       "        1.83141238e+02],\n",
       "       [6.40000000e+00, 2.90000000e+00, 4.30000000e+00, 1.30000000e+00,\n",
       "        1.84440810e+02],\n",
       "       [6.60000000e+00, 3.00000000e+00, 4.40000000e+00, 1.40000000e+00,\n",
       "        2.00710071e+02],\n",
       "       [6.80000000e+00, 2.80000000e+00, 4.80000000e+00, 1.40000000e+00,\n",
       "        2.32427591e+02],\n",
       "       [6.70000000e+00, 3.00000000e+00, 5.00000000e+00, 1.70000000e+00,\n",
       "        2.35043490e+02],\n",
       "       [6.00000000e+00, 2.90000000e+00, 4.50000000e+00, 1.50000000e+00,\n",
       "        1.69646003e+02],\n",
       "       [5.70000000e+00, 2.60000000e+00, 3.50000000e+00, 1.00000000e+00,\n",
       "        1.19082070e+02],\n",
       "       [5.50000000e+00, 2.40000000e+00, 3.80000000e+00, 1.10000000e+00,\n",
       "        1.20375359e+02],\n",
       "       [5.50000000e+00, 2.40000000e+00, 3.70000000e+00, 1.00000000e+00,\n",
       "        1.17207586e+02],\n",
       "       [5.80000000e+00, 2.70000000e+00, 3.90000000e+00, 1.20000000e+00,\n",
       "        1.37388130e+02],\n",
       "       [6.00000000e+00, 2.70000000e+00, 5.10000000e+00, 1.60000000e+00,\n",
       "        1.92265470e+02],\n",
       "       [5.40000000e+00, 3.00000000e+00, 4.50000000e+00, 1.50000000e+00,\n",
       "        1.37413263e+02],\n",
       "       [6.00000000e+00, 3.40000000e+00, 4.50000000e+00, 1.60000000e+00,\n",
       "        1.69646003e+02],\n",
       "       [6.70000000e+00, 3.10000000e+00, 4.70000000e+00, 1.50000000e+00,\n",
       "        2.20940881e+02],\n",
       "       [6.30000000e+00, 2.30000000e+00, 4.40000000e+00, 1.30000000e+00,\n",
       "        1.82878392e+02],\n",
       "       [5.60000000e+00, 3.00000000e+00, 4.10000000e+00, 1.30000000e+00,\n",
       "        1.34644472e+02],\n",
       "       [5.50000000e+00, 2.50000000e+00, 4.00000000e+00, 1.30000000e+00,\n",
       "        1.26710904e+02],\n",
       "       [5.50000000e+00, 2.60000000e+00, 4.40000000e+00, 1.20000000e+00,\n",
       "        1.39381994e+02],\n",
       "       [6.10000000e+00, 3.00000000e+00, 4.60000000e+00, 1.40000000e+00,\n",
       "        1.79244616e+02],\n",
       "       [5.80000000e+00, 2.60000000e+00, 4.00000000e+00, 1.20000000e+00,\n",
       "        1.40910902e+02],\n",
       "       [5.00000000e+00, 2.30000000e+00, 3.30000000e+00, 1.00000000e+00,\n",
       "        8.63937980e+01],\n",
       "       [5.60000000e+00, 2.70000000e+00, 4.20000000e+00, 1.30000000e+00,\n",
       "        1.37928484e+02],\n",
       "       [5.70000000e+00, 3.00000000e+00, 4.20000000e+00, 1.20000000e+00,\n",
       "        1.42898483e+02],\n",
       "       [5.70000000e+00, 2.90000000e+00, 4.20000000e+00, 1.30000000e+00,\n",
       "        1.42898483e+02],\n",
       "       [6.20000000e+00, 2.90000000e+00, 4.30000000e+00, 1.30000000e+00,\n",
       "        1.73093378e+02],\n",
       "       [5.10000000e+00, 2.50000000e+00, 3.00000000e+00, 1.10000000e+00,\n",
       "        8.17128249e+01],\n",
       "       [5.70000000e+00, 2.80000000e+00, 4.10000000e+00, 1.30000000e+00,\n",
       "        1.39496139e+02],\n",
       "       [6.30000000e+00, 3.30000000e+00, 6.00000000e+00, 2.50000000e+00,\n",
       "        2.49379625e+02],\n",
       "       [5.80000000e+00, 2.70000000e+00, 5.10000000e+00, 1.90000000e+00,\n",
       "        1.79661401e+02],\n",
       "       [7.10000000e+00, 3.00000000e+00, 5.90000000e+00, 2.10000000e+00,\n",
       "        3.11456448e+02],\n",
       "       [6.30000000e+00, 2.90000000e+00, 5.60000000e+00, 1.80000000e+00,\n",
       "        2.32754317e+02],\n",
       "       [6.50000000e+00, 3.00000000e+00, 5.80000000e+00, 2.20000000e+00,\n",
       "        2.56615760e+02],\n",
       "       [7.60000000e+00, 3.00000000e+00, 6.60000000e+00, 2.10000000e+00,\n",
       "        3.99208462e+02],\n",
       "       [4.90000000e+00, 2.50000000e+00, 4.50000000e+00, 1.70000000e+00,\n",
       "        1.13144459e+02],\n",
       "       [7.30000000e+00, 2.90000000e+00, 6.30000000e+00, 1.80000000e+00,\n",
       "        3.51572492e+02],\n",
       "       [6.70000000e+00, 2.50000000e+00, 5.80000000e+00, 1.80000000e+00,\n",
       "        2.72650449e+02],\n",
       "       [7.20000000e+00, 3.60000000e+00, 6.10000000e+00, 2.50000000e+00,\n",
       "        3.31148998e+02],\n",
       "       [6.50000000e+00, 3.20000000e+00, 5.10000000e+00, 2.00000000e+00,\n",
       "        2.25644892e+02],\n",
       "       [6.40000000e+00, 2.70000000e+00, 5.30000000e+00, 1.90000000e+00,\n",
       "        2.27334022e+02],\n",
       "       [6.80000000e+00, 3.00000000e+00, 5.50000000e+00, 2.10000000e+00,\n",
       "        2.66323281e+02],\n",
       "       [5.70000000e+00, 2.50000000e+00, 5.00000000e+00, 2.00000000e+00,\n",
       "        1.70117242e+02],\n",
       "       [5.80000000e+00, 2.80000000e+00, 5.10000000e+00, 2.40000000e+00,\n",
       "        1.79661401e+02],\n",
       "       [6.40000000e+00, 3.20000000e+00, 5.30000000e+00, 2.30000000e+00,\n",
       "        2.27334022e+02],\n",
       "       [6.50000000e+00, 3.00000000e+00, 5.50000000e+00, 1.80000000e+00,\n",
       "        2.43342531e+02],\n",
       "       [7.70000000e+00, 3.80000000e+00, 6.70000000e+00, 2.20000000e+00,\n",
       "        4.15991897e+02],\n",
       "       [7.70000000e+00, 2.60000000e+00, 6.90000000e+00, 2.30000000e+00,\n",
       "        4.28409565e+02],\n",
       "       [6.00000000e+00, 2.20000000e+00, 5.00000000e+00, 1.50000000e+00,\n",
       "        1.88495559e+02],\n",
       "       [6.90000000e+00, 3.20000000e+00, 5.70000000e+00, 2.30000000e+00,\n",
       "        2.84185330e+02],\n",
       "       [5.60000000e+00, 2.80000000e+00, 4.90000000e+00, 2.00000000e+00,\n",
       "        1.60916565e+02],\n",
       "       [7.70000000e+00, 2.80000000e+00, 6.70000000e+00, 2.00000000e+00,\n",
       "        4.15991897e+02],\n",
       "       [6.30000000e+00, 2.70000000e+00, 4.90000000e+00, 1.80000000e+00,\n",
       "        2.03660027e+02],\n",
       "       [6.70000000e+00, 3.30000000e+00, 5.70000000e+00, 2.10000000e+00,\n",
       "        2.67949579e+02],\n",
       "       [7.20000000e+00, 3.20000000e+00, 6.00000000e+00, 1.80000000e+00,\n",
       "        3.25720326e+02],\n",
       "       [6.20000000e+00, 2.80000000e+00, 4.80000000e+00, 1.80000000e+00,\n",
       "        1.93220515e+02],\n",
       "       [6.10000000e+00, 3.00000000e+00, 4.90000000e+00, 1.80000000e+00,\n",
       "        1.90934482e+02],\n",
       "       [6.40000000e+00, 2.80000000e+00, 5.60000000e+00, 2.10000000e+00,\n",
       "        2.40201986e+02],\n",
       "       [7.20000000e+00, 3.00000000e+00, 5.80000000e+00, 1.60000000e+00,\n",
       "        3.14862982e+02],\n",
       "       [7.40000000e+00, 2.80000000e+00, 6.10000000e+00, 1.90000000e+00,\n",
       "        3.49801681e+02],\n",
       "       [7.90000000e+00, 3.80000000e+00, 6.40000000e+00, 2.00000000e+00,\n",
       "        4.18275835e+02],\n",
       "       [6.40000000e+00, 2.80000000e+00, 5.60000000e+00, 2.20000000e+00,\n",
       "        2.40201986e+02],\n",
       "       [6.30000000e+00, 2.80000000e+00, 5.10000000e+00, 1.50000000e+00,\n",
       "        2.11972681e+02],\n",
       "       [6.10000000e+00, 2.60000000e+00, 5.60000000e+00, 1.40000000e+00,\n",
       "        2.18210837e+02],\n",
       "       [7.70000000e+00, 3.00000000e+00, 6.10000000e+00, 2.30000000e+00,\n",
       "        3.78738891e+02],\n",
       "       [6.30000000e+00, 3.40000000e+00, 5.60000000e+00, 2.40000000e+00,\n",
       "        2.32754317e+02],\n",
       "       [6.40000000e+00, 3.10000000e+00, 5.50000000e+00, 1.80000000e+00,\n",
       "        2.35912664e+02],\n",
       "       [6.00000000e+00, 3.00000000e+00, 4.80000000e+00, 1.80000000e+00,\n",
       "        1.80955737e+02],\n",
       "       [6.90000000e+00, 3.10000000e+00, 5.40000000e+00, 2.10000000e+00,\n",
       "        2.69228207e+02],\n",
       "       [6.70000000e+00, 3.10000000e+00, 5.60000000e+00, 2.40000000e+00,\n",
       "        2.63248709e+02],\n",
       "       [6.90000000e+00, 3.10000000e+00, 5.10000000e+00, 2.30000000e+00,\n",
       "        2.54271085e+02],\n",
       "       [5.80000000e+00, 2.70000000e+00, 5.10000000e+00, 1.90000000e+00,\n",
       "        1.79661401e+02],\n",
       "       [6.80000000e+00, 3.20000000e+00, 5.90000000e+00, 2.30000000e+00,\n",
       "        2.85692247e+02],\n",
       "       [6.70000000e+00, 3.30000000e+00, 5.70000000e+00, 2.50000000e+00,\n",
       "        2.67949579e+02],\n",
       "       [6.70000000e+00, 3.00000000e+00, 5.20000000e+00, 2.30000000e+00,\n",
       "        2.44445230e+02],\n",
       "       [6.30000000e+00, 2.50000000e+00, 5.00000000e+00, 1.90000000e+00,\n",
       "        2.07816354e+02],\n",
       "       [6.50000000e+00, 3.00000000e+00, 5.20000000e+00, 2.00000000e+00,\n",
       "        2.30069302e+02],\n",
       "       [6.20000000e+00, 3.40000000e+00, 5.40000000e+00, 2.30000000e+00,\n",
       "        2.17373079e+02],\n",
       "       [5.90000000e+00, 3.00000000e+00, 5.10000000e+00, 1.80000000e+00,\n",
       "        1.85910028e+02]])"
      ]
     },
     "execution_count": 31,
     "metadata": {},
     "output_type": "execute_result"
    }
   ],
   "source": [
    "np.concatenate((iris, volume.reshape(-1,1)), axis=1)"
   ]
  },
  {
   "cell_type": "markdown",
   "metadata": {},
   "source": [
    "## Mais coisas interessantes..."
   ]
  },
  {
   "cell_type": "markdown",
   "metadata": {},
   "source": [
    "\n",
    "#### Tipo de dado e tamanho\n",
    "\n",
    "Na sessão Checando o tipo de dados do array já foi dito dos tipos de dados, mas agora falaremos da diferença de tamanhos que isso ocupa na memória.\n",
    "\n",
    "Então, temos as variáveis a e b criadas anteriormente com os seguintes tipos:\n"
   ]
  },
  {
   "cell_type": "code",
   "execution_count": null,
   "metadata": {},
   "outputs": [],
   "source": [
    "a.dtype"
   ]
  },
  {
   "cell_type": "code",
   "execution_count": null,
   "metadata": {},
   "outputs": [],
   "source": [
    "b.dtype"
   ]
  },
  {
   "cell_type": "markdown",
   "metadata": {},
   "source": [
    "\n",
    "Por padrão, se o python instalado é 64 bits, ele irá criar tipos int ou float de 64 bits. Caso seu python fosse 32 bits, seria int32 e float32.\n",
    "\n",
    "Vamos criar uma outra array, a16, com o tipo inteiro de 16 bits.\n"
   ]
  },
  {
   "cell_type": "code",
   "execution_count": null,
   "metadata": {},
   "outputs": [],
   "source": [
    "a16 = np.array([1, 2, 3], dtype=np.int16)\n",
    "a16\n"
   ]
  },
  {
   "cell_type": "markdown",
   "metadata": {},
   "source": [
    "Note que por ser um tipo diferente do padrão, ele ressalta ao imprimir.\n",
    "\n",
    "Para descobrir quanto cada elemento individualmente ocupa na memória, podemos acessar o atributo itemsize:\n"
   ]
  },
  {
   "cell_type": "code",
   "execution_count": null,
   "metadata": {},
   "outputs": [],
   "source": [
    "a.itemsize"
   ]
  },
  {
   "cell_type": "markdown",
   "metadata": {},
   "source": [
    "\n",
    "Ele retorna 8 e não 64! Isso é porque ele já converteu os bits para bytes. Bytes é o conjunto de 8 bits.\n",
    "\n",
    "Logo:\n",
    "\n",
    "$ 64/8=8 $\n",
    "\n",
    "Já nosso array int16, temos:\n"
   ]
  },
  {
   "cell_type": "code",
   "execution_count": null,
   "metadata": {},
   "outputs": [],
   "source": [
    "a16.itemsize"
   ]
  },
  {
   "cell_type": "markdown",
   "metadata": {},
   "source": [
    "Uma vez que:\n",
    "\n",
    "$ 16/8 = 2 $"
   ]
  },
  {
   "cell_type": "code",
   "execution_count": null,
   "metadata": {},
   "outputs": [],
   "source": [
    "# quantidade de elementos total\n",
    "a.size"
   ]
  },
  {
   "cell_type": "markdown",
   "metadata": {},
   "source": [
    "Quantidade de elementos vezes o tamanho de cada elemento nos dará o tamanho total de bytes que o array inteiro ocupa:\n"
   ]
  },
  {
   "cell_type": "code",
   "execution_count": null,
   "metadata": {},
   "outputs": [],
   "source": [
    "a.size * a.itemsize"
   ]
  },
  {
   "cell_type": "markdown",
   "metadata": {},
   "source": [
    "\n",
    "Mas ao invés de calcular isso, podemos simplesmente acessar o atributo `nbytes`, que já é o tamanho total de bytes ocupado pelo array:\n"
   ]
  },
  {
   "cell_type": "code",
   "execution_count": null,
   "metadata": {},
   "outputs": [],
   "source": [
    "a.nbytes"
   ]
  },
  {
   "cell_type": "markdown",
   "metadata": {},
   "source": [
    "**Observação**\n",
    "\n",
    "Geralmente não é necessário reduzir o número de bits a não ser que você tenha certeza que um tamanho reduzido vai atender sua necessidade e você quer ser extremamente eficiente.\n"
   ]
  },
  {
   "cell_type": "code",
   "execution_count": null,
   "metadata": {},
   "outputs": [],
   "source": []
  }
 ],
 "metadata": {
  "kernelspec": {
   "display_name": "Python 3",
   "language": "python",
   "name": "python3"
  },
  "language_info": {
   "codemirror_mode": {
    "name": "ipython",
    "version": 3
   },
   "file_extension": ".py",
   "mimetype": "text/x-python",
   "name": "python",
   "nbconvert_exporter": "python",
   "pygments_lexer": "ipython3",
   "version": "3.8.5"
  }
 },
 "nbformat": 4,
 "nbformat_minor": 2
}
