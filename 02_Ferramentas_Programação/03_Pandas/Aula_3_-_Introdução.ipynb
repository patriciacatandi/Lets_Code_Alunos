{
 "cells": [
  {
   "cell_type": "markdown",
   "metadata": {},
   "source": [
    "# Aula 8 - pandas\n",
    "\n",
    "Na aula de hoje, vamos explorar os seguintes tópicos em Python:\n",
    "\n",
    "- 1) Introdução ao Pandas\n",
    "- 2) Conceitos de Dataframe e Series\n",
    "- 3) Axis e slicing: uso de loc/iloc\n",
    "- 4) Criação e manipulação de DF e SS a partir de dicionário, listas e arrays\n",
    "- 5) Filtragem de dados e parâmetro inplace\n",
    "- 6) Leitura de dados (read_csv, read_excel, read_clipboard)\n",
    "_______\n",
    "\n",
    "### Objetivos\n",
    "\n",
    "Apresentar o pandas, frisando sua importância para o processamento de dados e em data science. Apresentar seus principais conceitos (Series, DataFrame) e funcionalidades (leitura de arquivo, filtros, seleção, apply, escrita de arquivos, etc.)\n",
    "\n",
    "### Habilidades a serem desenvolvidas nessa aula\n",
    "\n",
    "Ao final da aula o aluno deve:\n",
    "\n",
    "- Conhecer o pandas, suas vantagens e principais usos;\n",
    "- Saber como ler um arquivo com o pandas (csv, excel, etc.), criando DataFrames;\n",
    "- Entender o conceito de Series e como elas são construídas;\n",
    "- Entender o conceito de DataFrame em termos das Series;\n",
    "- Saber como trabalhar com DataFrames para o processamento de dados:\n",
    "    - Seleções: uso de loc/iloc;\n",
    "    - Filtros;\n",
    "    - Criação de novas colunas.\n",
    "- Saber como ler e escrever de/em um arquivo com o pandas (csv, excel, etc.)."
   ]
  },
  {
   "cell_type": "markdown",
   "metadata": {},
   "source": [
    "____\n",
    "____\n",
    "____"
   ]
  },
  {
   "cell_type": "markdown",
   "metadata": {},
   "source": [
    "## 1) Pandas\n",
    "\n",
    "O pandas é uma das bibliotecas mais usadas em data science.\n",
    "\n",
    "Seu objetivo é a **leitura, processamento e manipulação de dados** na forma de tabelas chamadas de **\"DataFrame\"**\n",
    "\n",
    "<img src=\"pandas-data-structure.svg\"  style=\"width: 700px\" >\n",
    "\n",
    "Antes de conhecer o Pandas, vamos ler o arquivo \"alunos.csv\", da forma como aprendemos na aula de arquivos"
   ]
  },
  {
   "cell_type": "code",
   "execution_count": null,
   "metadata": {},
   "outputs": [],
   "source": [
    "import csv\n",
    "\n",
    "f = open(\"alunos.csv\", \"r\", encoding=\"utf-8\")\n",
    "\n",
    "leitor = csv.reader(f, delimiter=';', lineterminator='\\n')\n",
    "\n",
    "planilha = []\n",
    "\n",
    "for linha in leitor:\n",
    "    planilha.append(linha)\n",
    "    \n",
    "f.close()\n",
    "\n",
    "planilha"
   ]
  },
  {
   "cell_type": "markdown",
   "metadata": {},
   "source": [
    "Como fizemos na aula, uma vez lido o arquivo, é possível processá-lo de diversas maneiras.\n",
    "\n",
    "Por exemplo, para obter **a primeira coluna**, isto é, os nomes, fazemos:"
   ]
  },
  {
   "cell_type": "code",
   "execution_count": null,
   "metadata": {},
   "outputs": [],
   "source": [
    "[item[1] for item in planilha if item[1]!='Nome']"
   ]
  },
  {
   "cell_type": "markdown",
   "metadata": {},
   "source": [
    "Agora, vamos usar o Pandas e aprender uma forma muito mais fácil de processar dados!"
   ]
  },
  {
   "cell_type": "markdown",
   "metadata": {},
   "source": [
    "Existem diversas formas de instalar o pandas. A mais simples é instalar o pacote Anaconda (https://www.anaconda.com/distribution/) que já vem com o Python e diversas bibliotecas científicas e ciência de dados instaladas.\n",
    "\n",
    "Outra forma, caso você já tenha o python instalado mas não o pandas, é o utilizar o gerenciador e pacotes pip, através do comando no seu **terminal**:\n",
    "\n",
    "`$ pip install pandas`\n",
    "\n",
    "ou dentro do jupyter\n",
    "\n",
    "`!pip install pandas`"
   ]
  },
  {
   "cell_type": "code",
   "execution_count": null,
   "metadata": {},
   "outputs": [],
   "source": [
    "# importando a biblioteca\n",
    "import pandas as pd\n",
    "\n",
    "# lendo o arquivo\n",
    "tabela = pd.read_csv(\"alunos.csv\", sep=\";\")\n",
    "\n",
    "tabela"
   ]
  },
  {
   "cell_type": "markdown",
   "metadata": {},
   "source": [
    "### Acessando elementos"
   ]
  },
  {
   "cell_type": "markdown",
   "metadata": {},
   "source": [
    "Podemos **acessar os valores nas colunas** pelo nome delas:"
   ]
  },
  {
   "cell_type": "code",
   "execution_count": null,
   "metadata": {},
   "outputs": [],
   "source": [
    "# acessar coluna \"Nome\" diretamente\n",
    "tabela[\"Nome\"]\n",
    "tabela.Nome"
   ]
  },
  {
   "cell_type": "code",
   "execution_count": null,
   "metadata": {},
   "outputs": [],
   "source": [
    "# acessar coluna \"Nome\" através de uma variável\n",
    "nome_da_coluna = \"Nome\"\n",
    "\n",
    "tabela[nome_da_coluna]"
   ]
  },
  {
   "cell_type": "markdown",
   "metadata": {},
   "source": [
    "Se quisermos obter uma lista propriamente com os valores na coluna, usamos o método `tolist()`:"
   ]
  },
  {
   "cell_type": "code",
   "execution_count": null,
   "metadata": {},
   "outputs": [],
   "source": [
    "tabela[\"Nome\"].tolist()"
   ]
  },
  {
   "cell_type": "markdown",
   "metadata": {},
   "source": [
    "Dá pra **selecionar apenas algumas colunas** do dataframe (ou seja, criando um sub-dataframe):"
   ]
  },
  {
   "cell_type": "code",
   "execution_count": null,
   "metadata": {},
   "outputs": [],
   "source": [
    "# pegando apenas a coluna \"Nome\" e resultado da \"Prova_1\"\n",
    "tabela[[\"Nome\", \"Prova_1\"]]"
   ]
  },
  {
   "cell_type": "markdown",
   "metadata": {},
   "source": [
    "### Acessando elementos"
   ]
  },
  {
   "cell_type": "markdown",
   "metadata": {},
   "source": [
    "Podemos utilizar o `.loc[indice_linhas, nome_colunas]` para acessar determinas colunas e as linhas através dos índices e nomes das colunas."
   ]
  },
  {
   "cell_type": "code",
   "execution_count": null,
   "metadata": {},
   "outputs": [],
   "source": [
    "# selecionar todas as linhas das colunas ['Nome','Prova_1']\n",
    "tabela.loc[:, [\"Nome\", \"Prova_1\"]]"
   ]
  },
  {
   "cell_type": "code",
   "execution_count": null,
   "metadata": {},
   "outputs": [],
   "source": [
    "# selecionar linhas 3 à 5 das colunas ['Nome','Prova_1']\n",
    "tabela.loc[3:5, [\"Nome\", \"Prova_1\"]]"
   ]
  },
  {
   "cell_type": "code",
   "execution_count": null,
   "metadata": {},
   "outputs": [],
   "source": [
    "# selecionar linhas 3,5,9 das colunas ['Nome','Prova_1']\n",
    "tabela.loc[[3,5,9], [\"Nome\", \"Prova_1\"]]"
   ]
  },
  {
   "cell_type": "code",
   "execution_count": null,
   "metadata": {},
   "outputs": [],
   "source": [
    "# selecionar as linhas das colunas Prova_1 até Prova_4\n",
    "tabela.loc[:, 'Prova_1':'Prova_4']"
   ]
  },
  {
   "cell_type": "markdown",
   "metadata": {},
   "source": [
    "selecionar apenas uma linha de uma coluna"
   ]
  },
  {
   "cell_type": "code",
   "execution_count": null,
   "metadata": {},
   "outputs": [],
   "source": [
    "tabela.loc[9, \"Nome\"]"
   ]
  },
  {
   "cell_type": "markdown",
   "metadata": {},
   "source": [
    "É possível **alterar valores** da tabela. Para isso, primeiro localizamos o valor a ser alterado com o **.loc**, passando a linha e coluna correspondente, e depois atribuímos o novo valor"
   ]
  },
  {
   "cell_type": "code",
   "execution_count": null,
   "metadata": {},
   "outputs": [],
   "source": [
    "tabela.loc[10, \"Nome\"] = \"Joãozinho\"\n",
    "tabela.loc[10, \"Frequencia\"] = 100"
   ]
  },
  {
   "cell_type": "code",
   "execution_count": null,
   "metadata": {},
   "outputs": [],
   "source": [
    "tabela"
   ]
  },
  {
   "cell_type": "code",
   "execution_count": null,
   "metadata": {},
   "outputs": [],
   "source": [
    "tabela = tabela.set_index('Nome')\n",
    "tabela"
   ]
  },
  {
   "cell_type": "markdown",
   "metadata": {},
   "source": [
    "Vamos tentar selecionar as linhas 3 à 5 das colunas ['Prova_1','Prova_2'] como fizemos anteriormente"
   ]
  },
  {
   "cell_type": "code",
   "execution_count": null,
   "metadata": {},
   "outputs": [],
   "source": [
    "tabela.loc[3:5, ['Prova_1','Prova_2']]"
   ]
  },
  {
   "cell_type": "markdown",
   "metadata": {},
   "source": [
    "O que aconteceu? <br>\n",
    "O `.loc` faz o slice considerando o index da matriz e agora o index é o nome dos alunos. "
   ]
  },
  {
   "cell_type": "code",
   "execution_count": null,
   "metadata": {},
   "outputs": [],
   "source": [
    "tabela.loc['Francisco Cunha':'Juliana Arruda', ['Prova_1','Prova_2']]"
   ]
  },
  {
   "cell_type": "markdown",
   "metadata": {},
   "source": [
    "Para resetar o index e voltarmos a ter os valores originais:"
   ]
  },
  {
   "cell_type": "code",
   "execution_count": null,
   "metadata": {},
   "outputs": [],
   "source": [
    "tabela.reset_index(inplace=True)\n",
    "tabela"
   ]
  },
  {
   "cell_type": "markdown",
   "metadata": {},
   "source": [
    "Repare que quando utilizamos o `inplace=True` como um argumento do método nós não precisamos referenciar o dataframe. <br>\n",
    "Nós podemos utilizar o `inplace=True` em vários métodos do pandas."
   ]
  },
  {
   "cell_type": "markdown",
   "metadata": {},
   "source": [
    "### Seleção através das posições das linhas e colunas\n",
    "Outra forma de acessarmos dados é através do `.iloc[número_linhas, número_colunas]` utilizando as posições das linhas e colunas"
   ]
  },
  {
   "cell_type": "code",
   "execution_count": null,
   "metadata": {},
   "outputs": [],
   "source": [
    "# seleciona uma linha de uma coluna\n",
    "tabela.iloc[10, 1]"
   ]
  },
  {
   "cell_type": "code",
   "execution_count": null,
   "metadata": {},
   "outputs": [],
   "source": [
    "# seleciona todas as colunas de uma linha\n",
    "tabela.iloc[10, :]"
   ]
  },
  {
   "cell_type": "code",
   "execution_count": null,
   "metadata": {},
   "outputs": [],
   "source": [
    "# seleciona um conjunto de linhas sequenciais de um conjunto de colunas sequenciais\n",
    "tabela.iloc[3:5, 1:5]"
   ]
  },
  {
   "cell_type": "code",
   "execution_count": null,
   "metadata": {},
   "outputs": [],
   "source": [
    "# seleciona um conjunto de linhas sequenciais de um conjunto de colunas não sequenciais\n",
    "tabela.iloc[3:5, [1,5]]"
   ]
  },
  {
   "cell_type": "code",
   "execution_count": null,
   "metadata": {},
   "outputs": [],
   "source": [
    "tabela[0] = 0"
   ]
  },
  {
   "cell_type": "markdown",
   "metadata": {},
   "source": [
    "### Diferença entre .loc e .iloc\n",
    "O .loc irá trazer o dado utilizando o índice, não importando se o índice não está ordenado. Já o .iloc irá respeitar a ordem atual dos dados"
   ]
  },
  {
   "cell_type": "code",
   "execution_count": null,
   "metadata": {},
   "outputs": [],
   "source": [
    "tabela_copy = tabela.copy()"
   ]
  },
  {
   "cell_type": "code",
   "execution_count": null,
   "metadata": {},
   "outputs": [],
   "source": [
    "# vamos bagunçar o índice do df chamado tabela\n",
    "tabela_copy.index = sorted(tabela.index.values, reverse=True)\n",
    "tabela_copy.head()"
   ]
  },
  {
   "cell_type": "code",
   "execution_count": null,
   "metadata": {},
   "outputs": [],
   "source": [
    "# traz o índice\n",
    "tabela_copy.loc[[3,6],:]"
   ]
  },
  {
   "cell_type": "code",
   "execution_count": null,
   "metadata": {},
   "outputs": [],
   "source": [
    "# iloc traz a linha\n",
    "tabela_copy.iloc[[3,6],:]"
   ]
  },
  {
   "cell_type": "markdown",
   "metadata": {},
   "source": [
    "### Criar novas colunas"
   ]
  },
  {
   "cell_type": "markdown",
   "metadata": {},
   "source": [
    "**Criando uma coluna nova**, com todas as linhas preenchidas com o mesmo valor"
   ]
  },
  {
   "cell_type": "code",
   "execution_count": null,
   "metadata": {},
   "outputs": [],
   "source": [
    "# cria coluna com valores 1\n",
    "tabela[\"cheia_de_um\"] = 1"
   ]
  },
  {
   "cell_type": "code",
   "execution_count": null,
   "metadata": {},
   "outputs": [],
   "source": [
    "# cria coluna com string\n",
    "tabela[\"aaaa\"] = \"a\""
   ]
  },
  {
   "cell_type": "code",
   "execution_count": null,
   "metadata": {},
   "outputs": [],
   "source": [
    "# cria coluna vazia\n",
    "tabela[\"vazio\"] = \"\""
   ]
  },
  {
   "cell_type": "code",
   "execution_count": null,
   "metadata": {},
   "outputs": [],
   "source": [
    "tabela"
   ]
  },
  {
   "cell_type": "markdown",
   "metadata": {},
   "source": [
    "Também é possível **criar uma linha nova** atribuindo valores para todas as colunas:"
   ]
  },
  {
   "cell_type": "code",
   "execution_count": null,
   "metadata": {},
   "outputs": [],
   "source": [
    "tabela.loc[10, :] = [1245245, \"Joãozinho\", 100, 10, 4, 6, 7, \"bbb\", 2, \"cheio\"]\n",
    "\n",
    "tabela"
   ]
  },
  {
   "cell_type": "markdown",
   "metadata": {},
   "source": [
    "Se você usar o index de uma linha que já existe irá substituí-la."
   ]
  },
  {
   "cell_type": "markdown",
   "metadata": {},
   "source": [
    "Podemos fazer **operações entre os valores das colunas**, e criar com isso novas colunas!"
   ]
  },
  {
   "cell_type": "code",
   "execution_count": null,
   "metadata": {},
   "outputs": [],
   "source": [
    "# calculando a média usando as colunas Prova_1, Prova_2, Prova_3 e Prova_4\n",
    "tabela[\"média\"] = (tabela[\"Prova_1\"] + tabela[\"Prova_2\"] + \n",
    "                   tabela[\"Prova_3\"] + tabela[\"Prova_4\"])/4"
   ]
  },
  {
   "cell_type": "markdown",
   "metadata": {},
   "source": [
    "Também há alguns métodos prontos que facilitam a utilização:"
   ]
  },
  {
   "cell_type": "code",
   "execution_count": null,
   "metadata": {},
   "outputs": [],
   "source": [
    "# calculando a media com o método .mean(axis=1)\n",
    "tabela[\"media_2\"] = tabela[[\"Prova_1\", \"Prova_2\", \"Prova_3\", \"Prova_4\"]].mean(axis=1)\n",
    "\n",
    "tabela"
   ]
  },
  {
   "cell_type": "markdown",
   "metadata": {},
   "source": [
    "Naturalmente, o resultado é o mesmo!"
   ]
  },
  {
   "cell_type": "markdown",
   "metadata": {},
   "source": [
    "### Métodos:\n",
    "\n",
    "O Pandas possui diversos métodos que podem ser utilizados nessa estrutura.\n",
    "Abaixo estão alguns métodos que essa estrutura de dados possui e facilitam alguns cálculos e análises:\n",
    " \n",
    "\n",
    "| Método      | Descrição     |\n",
    "| ----------- | -----------   |\n",
    "| sum         | soma          |\n",
    "| mean        | média         |\n",
    "| std         | desvio padrão |\n",
    "| mode        | moda          |\n",
    "| max         | valor máximo  |\n",
    "| min         | valor mínimo  |\n",
    "| idxmax      | primeiro índice com valor máximo |\n",
    "| idxmin      | primeiro índice com valor mínimo |\n",
    "| value_counts | contagem de valores |\n",
    "| describe    | estatísticas básicas |\n",
    "\n",
    "\n",
    "Na próxima aula veremos mais alguns.\n"
   ]
  },
  {
   "cell_type": "code",
   "execution_count": null,
   "metadata": {},
   "outputs": [],
   "source": [
    "# calculando o valor máx de cada aluno\n",
    "tabela[[\"Prova_1\", \"Prova_2\", \"Prova_3\", \"Prova_4\"]].max(axis=1)"
   ]
  },
  {
   "cell_type": "code",
   "execution_count": null,
   "metadata": {},
   "outputs": [],
   "source": [
    "# calculando o valor máx de cada prova\n",
    "tabela[[\"Prova_1\", \"Prova_2\", \"Prova_3\", \"Prova_4\"]].max(axis=0)"
   ]
  },
  {
   "cell_type": "markdown",
   "metadata": {},
   "source": [
    "### Filtros"
   ]
  },
  {
   "cell_type": "markdown",
   "metadata": {},
   "source": [
    "Podemos **fazer filtros** muito facilmente\n",
    "\n",
    "Basta explicitarmos **condições sobre os valores das colunas**, e utilizar isso como indexador do dataframe!"
   ]
  },
  {
   "cell_type": "code",
   "execution_count": null,
   "metadata": {},
   "outputs": [],
   "source": [
    "# retorna o sub-dataframe que contém valores maiores que 7 na coluna \"média\"\n",
    "# ou seja, é um filtro que utiliza a coluna \"média\"!\n",
    "\n",
    "tabela[tabela[\"média\"] > 7]"
   ]
  },
  {
   "cell_type": "markdown",
   "metadata": {},
   "source": [
    "Se quisermos fazer filtros mais complexos (filtros compostos, em mais de uma coluna), podemos fazer **conjunções entre filtros**, utilizando os **operadores lógicos de conjunção**.\n",
    "\n",
    "Obs.: temos os seguintes operadores lógicos:\n",
    "\n",
    "- &     - corresponde ao \"and\"\n",
    "- |     - corresponde ao \"or\"\n",
    "- ~     - corresponde ao \"not\""
   ]
  },
  {
   "cell_type": "code",
   "execution_count": null,
   "metadata": {},
   "outputs": [],
   "source": [
    "# filtar tabela para média > 7 e frequencia >= 20\n",
    "tabela[(tabela[\"média\"] > 7) & (tabela[\"Frequencia\"] >= 20)]"
   ]
  },
  {
   "cell_type": "code",
   "execution_count": null,
   "metadata": {},
   "outputs": [],
   "source": [
    "# filtar tabela para média > 7 e frequencia >= 20\n",
    "tabela[(tabela[\"média\"] > 7) | (tabela[\"Frequencia\"] >= 20)]"
   ]
  },
  {
   "cell_type": "code",
   "execution_count": null,
   "metadata": {},
   "outputs": [],
   "source": [
    "# pegando somente a coluna \"média\" dos alunos que tiveram nota igual na prova 1 e na prova 4\n",
    "tabela[tabela[\"Prova_4\"] == tabela[\"Prova_1\"]][\"média\"]"
   ]
  },
  {
   "cell_type": "code",
   "execution_count": null,
   "metadata": {},
   "outputs": [],
   "source": [
    "# calculando a média de todos os alunos que tiveram nota igual na prova 1 e na prova 4\n",
    "tabela[tabela[\"Prova_4\"] == tabela[\"Prova_1\"]][\"média\"].mean()"
   ]
  },
  {
   "cell_type": "code",
   "execution_count": null,
   "metadata": {},
   "outputs": [],
   "source": [
    "# Podemos criar um novo df diretamento do filtro\n",
    "prova_4 = tabela[tabela['Prova_4']>=7]\n",
    "prova_4"
   ]
  },
  {
   "cell_type": "markdown",
   "metadata": {},
   "source": [
    "E também é bem fácil salvar um dataframe de volta pra CSV ou pro Excel. "
   ]
  },
  {
   "cell_type": "code",
   "execution_count": null,
   "metadata": {},
   "outputs": [],
   "source": [
    "# salvando dados em csv com o método .to_csv()\n",
    "tabela.to_csv(\"tabela_processada2.csv\", sep=\";\")"
   ]
  },
  {
   "cell_type": "markdown",
   "metadata": {},
   "source": [
    "Para salvar esses dados em excel é preciso instalar mais uma biblioteca: a `openpyxl`. Caso você não a tenha escreva o comando seguinte em uma célula de código: <br>\n",
    "` !pip install openpyxl `\n",
    "<br>\n"
   ]
  },
  {
   "cell_type": "code",
   "execution_count": null,
   "metadata": {},
   "outputs": [],
   "source": [
    "# salvando dados em excel com o método .to_excel()\n",
    "tabela.to_excel(\"tabela_processada.xlsx\")"
   ]
  },
  {
   "cell_type": "markdown",
   "metadata": {},
   "source": [
    "Agora que entendemos na prática como usar o Pandas, vamos nos aprofundar um pouco mais em sua estrutura!"
   ]
  },
  {
   "cell_type": "markdown",
   "metadata": {},
   "source": [
    "### Outra forma de filtrar: `.query()`"
   ]
  },
  {
   "cell_type": "code",
   "execution_count": null,
   "metadata": {},
   "outputs": [],
   "source": [
    "prova_4 = tabela.query('Prova_4 >= 7 and Prova_3 >= 7')\n",
    "prova_4"
   ]
  },
  {
   "cell_type": "markdown",
   "metadata": {},
   "source": [
    "## Series\n",
    "O objeto fundamental do Pandas são as **Series**.\n",
    "\n",
    "As Series são as **colunas das tabelas**, que são originadas de um array unidimensional capaz de guardar qualquer tipo de dado (integers, strings, floating point numbers, Python objects, etc.). E como as listas, as series podem conter dados de vários tipo."
   ]
  },
  {
   "cell_type": "code",
   "execution_count": null,
   "metadata": {},
   "outputs": [],
   "source": [
    "tabela"
   ]
  },
  {
   "cell_type": "markdown",
   "metadata": {},
   "source": [
    "Visual de uma series:"
   ]
  },
  {
   "cell_type": "code",
   "execution_count": null,
   "metadata": {},
   "outputs": [],
   "source": [
    "tabela.cheia_de_um"
   ]
  },
  {
   "cell_type": "markdown",
   "metadata": {},
   "source": [
    "Tipo de uma series"
   ]
  },
  {
   "cell_type": "code",
   "execution_count": null,
   "metadata": {},
   "outputs": [],
   "source": [
    "type(tabela.cheia_de_um)"
   ]
  },
  {
   "cell_type": "markdown",
   "metadata": {},
   "source": [
    "Como pudemos observar a series pode ter elementos de diferentes tipos. Na primeira posição temos um float enquanto na última temos uma string."
   ]
  },
  {
   "cell_type": "code",
   "execution_count": null,
   "metadata": {},
   "outputs": [],
   "source": [
    "type(tabela.cheia_de_um[0])"
   ]
  },
  {
   "cell_type": "code",
   "execution_count": null,
   "metadata": {},
   "outputs": [],
   "source": [
    "type(tabela.cheia_de_um[10])"
   ]
  },
  {
   "cell_type": "markdown",
   "metadata": {},
   "source": [
    "A diferença é que a series possui um **índice associado**, permitindo o acesso aos conteúdos dessa estrutura por ele, como um dicionário. Para entender mais sobre como trabalhar como séries, temos um conteúdo anexado no final desse notebook que você pode olhar."
   ]
  },
  {
   "cell_type": "markdown",
   "metadata": {},
   "source": [
    "Agora que entendemos a componente fundamental do Pandas, as Séries, vamos falar um pouco mais sobre o **DataFrame**"
   ]
  },
  {
   "cell_type": "markdown",
   "metadata": {},
   "source": [
    "### Estrutura do df\n",
    "O DataFrame é uma estrutura que se assemelha a uma tabela/planilha, como vimos acima.\n",
    "\n",
    "Por debaixo dos panos, o dataframe é representado por um dicionário em que a **chave** é o **nome da coluna** e os **valores** são as **Series** (todas com mesmo índice)."
   ]
  },
  {
   "cell_type": "markdown",
   "metadata": {},
   "source": [
    "### Criação de df a partir de dicionários"
   ]
  },
  {
   "cell_type": "markdown",
   "metadata": {},
   "source": [
    "Assim, podemos **criar um dataframe a partir de um dicionario**, usando a função `pd.DataFrame()` "
   ]
  },
  {
   "cell_type": "code",
   "execution_count": null,
   "metadata": {},
   "outputs": [],
   "source": [
    "cadastro = {\"nomes\" : [\"André\", \"Mariazinha\"],\n",
    "                \"idade\" : [22, 25],\n",
    "                \"cidade\" : [\"Mauá\", \"Santo André\"],\n",
    "                \"filhos\": [0, 0],\n",
    "                \"altura\" : [1.80, 1.65]}\n",
    "\n",
    "cadastro"
   ]
  },
  {
   "cell_type": "code",
   "execution_count": null,
   "metadata": {},
   "outputs": [],
   "source": [
    "# criando um dataframe a partir de um dicionario\n",
    "df = pd.DataFrame(cadastro)\n",
    "df"
   ]
  },
  {
   "cell_type": "markdown",
   "metadata": {},
   "source": [
    "## Outros conteúdos"
   ]
  },
  {
   "cell_type": "markdown",
   "metadata": {},
   "source": [
    "### Criar Series a partir de listas\n",
    "\n",
    "Podemos criar uma series **a partir de uma lista**, usando a função do pandas `pd.Series()`: "
   ]
  },
  {
   "cell_type": "code",
   "execution_count": null,
   "metadata": {},
   "outputs": [],
   "source": [
    "# definindo uma série com valores e indices\n",
    "indices = [\"a\", \"b\", \"c\", \"d\"]\n",
    "lista = [10, 20, 30, 40]\n",
    "\n",
    "serie = pd.Series(data = lista, index = indices)\n",
    "\n",
    "serie"
   ]
  },
  {
   "cell_type": "markdown",
   "metadata": {},
   "source": [
    "Podemos acessar o elemento 30, que está associado ao índice c:"
   ]
  },
  {
   "cell_type": "code",
   "execution_count": null,
   "metadata": {},
   "outputs": [],
   "source": [
    "serie['c']"
   ]
  },
  {
   "cell_type": "markdown",
   "metadata": {},
   "source": [
    "Para retornar todos os índices podemos utilizar o método `series.index`"
   ]
  },
  {
   "cell_type": "code",
   "execution_count": null,
   "metadata": {},
   "outputs": [],
   "source": [
    "serie.index"
   ]
  },
  {
   "cell_type": "markdown",
   "metadata": {},
   "source": [
    "E para acessar os valores podemos utilizar o atributo `series.values`\n"
   ]
  },
  {
   "cell_type": "code",
   "execution_count": null,
   "metadata": {},
   "outputs": [],
   "source": [
    "serie.values"
   ]
  },
  {
   "cell_type": "markdown",
   "metadata": {},
   "source": [
    "### Utilizando filtros em Series\n",
    "Podemos aplicar filtros para selecionar apenas os elementos que satisfaçam determinada condição.\n",
    "No exemplo abaixo, iremos selecionar apenas os elementos que sejam maiores que 15:\n"
   ]
  },
  {
   "cell_type": "code",
   "execution_count": null,
   "metadata": {},
   "outputs": [],
   "source": [
    "serie[serie > 15] "
   ]
  },
  {
   "cell_type": "markdown",
   "metadata": {},
   "source": [
    "Note que `serie > 15` nos retorna uma series com elementos `True` e `False`, caso os elementos da serie satisfaçam a condição. Ao utilizar esse comando dentro dos colchetes, `serie[serie > 15]`, estamos selecionado apenas os elementos que satisfazem a condição."
   ]
  },
  {
   "cell_type": "markdown",
   "metadata": {},
   "source": [
    "\n",
    "### Criar Series a partir de dicionários\n",
    "Também podemos **criar uma série a partir de um dicionário**, e os índices e valores são automaticamente capturados:"
   ]
  },
  {
   "cell_type": "code",
   "execution_count": null,
   "metadata": {},
   "outputs": [],
   "source": [
    "# criando uma série a partir de um dicionario\n",
    "dic2 = {\"nome\": \"André\", \n",
    "        \"idade\" : 23}\n",
    "\n",
    "pd.Series(dic2)"
   ]
  },
  {
   "cell_type": "markdown",
   "metadata": {},
   "source": [
    "### Criar dicionários a partir de Series\n",
    "O inverso também é possível:"
   ]
  },
  {
   "cell_type": "code",
   "execution_count": null,
   "metadata": {},
   "outputs": [],
   "source": [
    "dicionario = dict(serie)\n",
    "\n",
    "dicionario"
   ]
  },
  {
   "cell_type": "markdown",
   "metadata": {},
   "source": [
    "### Criar dataframe a partir de listas"
   ]
  },
  {
   "cell_type": "code",
   "execution_count": null,
   "metadata": {},
   "outputs": [],
   "source": [
    "# Considere a seguinte lista\n",
    "age = [['Artur', 95.5, \"M\"], ['Vera', 79.7, \"F\"],\n",
    "       ['Mônica', 85.1, \"F\"], ['Toni', 75.4, \"M\"]]\n",
    "  \n",
    "# Cria um pandas dataframe passando a lista e, se quiser, o nome das colunas\n",
    "pd.DataFrame(age, columns=['Npme', 'Pontos', 'Sexo'])"
   ]
  },
  {
   "cell_type": "markdown",
   "metadata": {},
   "source": [
    "### Criar dataframe a partir de array"
   ]
  },
  {
   "cell_type": "code",
   "execution_count": null,
   "metadata": {},
   "outputs": [],
   "source": [
    "import numpy as np\n",
    "\n",
    "# Considere o seguinte array:\n",
    "my_array = np.random.randint(1, 10, 18)\n",
    "\n",
    "# Cria um pandas dataframe passando o array e, se quiser, o nome das colunas\n",
    "pd.DataFrame(my_array.reshape(-1,3), columns=['col_1','col_2','col_3'])\n"
   ]
  },
  {
   "cell_type": "markdown",
   "metadata": {},
   "source": [
    "## Exercícios"
   ]
  },
  {
   "cell_type": "markdown",
   "metadata": {},
   "source": [
    "1 - Realize os passos seguintes utilizando o mesmo dataset do íris da aula anterior ('https://archive.ics.uci.edu/ml/machine-learning-databases/iris/iris.data').\n",
    "\n",
    "a. Use o pandas para ler o arquivo como um dataframe. Obs: precisa ler o dataframe sem que a primeira linha corresponda ao nome das colunas."
   ]
  },
  {
   "cell_type": "code",
   "execution_count": null,
   "metadata": {},
   "outputs": [],
   "source": [
    "import pandas as pd\n",
    "\n",
    "tabela = pd.read_csv('iris.data', header=None)\n",
    "\n",
    "tabela"
   ]
  },
  {
   "cell_type": "markdown",
   "metadata": {},
   "source": [
    "b. Sabendo que as colunas correspondem, nessa ordem, a: \n",
    "    1. sepal length (cm)\n",
    "    2. sepal width (cm)\n",
    "    3. petal length (cm)\n",
    "    4. petal width (cm)\n",
    "    5. class: <br>\n",
    "        - Iris Setosa <br>\n",
    "        - Iris Versicolor <br>\n",
    "        - Iris Virginica <br>\n",
    "leia novamente o arquivo passando o nome das colunas como argumento."
   ]
  },
  {
   "cell_type": "code",
   "execution_count": null,
   "metadata": {},
   "outputs": [],
   "source": [
    "tabela.columns = ['sepal length (cm)', 'sepal width (cm)', 'petal length (cm)', 'petal width (cm)', 'class']\n",
    "tabela"
   ]
  },
  {
   "cell_type": "markdown",
   "metadata": {},
   "source": [
    "c. Calcule a média de cada coluna numérica para cada um dos tipos de íris indicados na coluna \"class\" sem utilizar métodos que não foram ensinados na aula de hoje. Utilize o loop for para reduzir quantidade de linhas. <br>\n",
    "Existe diferença entre elas?"
   ]
  },
  {
   "cell_type": "code",
   "execution_count": 36,
   "metadata": {},
   "outputs": [
    {
     "data": {
      "text/plain": [
       "750"
      ]
     },
     "execution_count": 36,
     "metadata": {},
     "output_type": "execute_result"
    }
   ],
   "source": []
  },
  {
   "cell_type": "markdown",
   "metadata": {},
   "source": [
    "d. Adicione uma única coluna com a média de 'sepal length' para cada um dos tipos de íris indicados na coluna \"class\". Utilize o loop for e faça isso sem utilizar métodos que não foram ensinados na aula de hoje."
   ]
  },
  {
   "cell_type": "code",
   "execution_count": null,
   "metadata": {},
   "outputs": [],
   "source": []
  },
  {
   "cell_type": "code",
   "execution_count": null,
   "metadata": {},
   "outputs": [],
   "source": []
  },
  {
   "cell_type": "markdown",
   "metadata": {},
   "source": [
    "e. Crie uma coluna de volume sabendo que o volume representa (pi x petallength x sepal_length^2)/3"
   ]
  },
  {
   "cell_type": "code",
   "execution_count": null,
   "metadata": {},
   "outputs": [],
   "source": []
  },
  {
   "cell_type": "markdown",
   "metadata": {},
   "source": [
    "f. Salve apenas o valor da classe, da média do sepal length e do volume desse dataset em um arquivo csv sem a coluna de index."
   ]
  },
  {
   "cell_type": "code",
   "execution_count": null,
   "metadata": {},
   "outputs": [],
   "source": []
  }
 ],
 "metadata": {
  "interpreter": {
   "hash": "45a04292059cf6f56c67df91c4d007219f0ed2059272ed2dbbf5b3571933a486"
  },
  "kernelspec": {
   "display_name": "Python 3.9.7 64-bit (windows store)",
   "name": "python3"
  },
  "language_info": {
   "codemirror_mode": {
    "name": "ipython",
    "version": 3
   },
   "file_extension": ".py",
   "mimetype": "text/x-python",
   "name": "python",
   "nbconvert_exporter": "python",
   "pygments_lexer": "ipython3",
   "version": "3.9.7"
  }
 },
 "nbformat": 4,
 "nbformat_minor": 4
}
