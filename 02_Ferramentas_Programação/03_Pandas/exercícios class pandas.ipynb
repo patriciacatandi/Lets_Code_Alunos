{
 "cells": [
  {
   "cell_type": "code",
   "execution_count": 2,
   "metadata": {},
   "outputs": [],
   "source": [
    "import pandas as pd"
   ]
  },
  {
   "cell_type": "markdown",
   "metadata": {},
   "source": [
    "LC PANDAS 1 ------------------------------------------------------------------------------"
   ]
  },
  {
   "cell_type": "markdown",
   "metadata": {},
   "source": [
    "1) Em um concurso público foram contabilizados os números de pessoas inscritas (até a data inicialmente estabelecida para a inscrição) segundo os níveis de escolaridade: fundamental completo, médio completo, superior completo e pós-graduação completa. Segue abaixo a tabela com os valores observados.\n",
    "\n",
    "Nível de escolaridade\tInscritos\n",
    "Fundamental completo\t451\n",
    "Médio completo\t627\n",
    "Superior completo\t292\n",
    "Pós-graduação completa\t95\n",
    "Com base na tabela acima, crie uma Series com esses valores e calcule:\n",
    "\n",
    "(a) O número total de inscritos\n",
    "(b) Número inscritos que possuem, pelo menos, o superior completo.\n",
    "(c) Suponha que a inscrição foi prorrogada e, com isso, foi obtido um número adicional de inscrições: 68, 93, 22 e 0 inscritos a mais em cada uma das categorias de escolaridade apresentados na tabela acima (na mesma ordem). Assim, crie uma nova Series com esses valores.\n",
    "(d) Utilizando as duas Series que você tem, calcule o número total de inscritos após a prorrogação do período de inscrições."
   ]
  },
  {
   "cell_type": "code",
   "execution_count": 3,
   "metadata": {},
   "outputs": [
    {
     "data": {
      "text/html": [
       "<div>\n",
       "<style scoped>\n",
       "    .dataframe tbody tr th:only-of-type {\n",
       "        vertical-align: middle;\n",
       "    }\n",
       "\n",
       "    .dataframe tbody tr th {\n",
       "        vertical-align: top;\n",
       "    }\n",
       "\n",
       "    .dataframe thead th {\n",
       "        text-align: right;\n",
       "    }\n",
       "</style>\n",
       "<table border=\"1\" class=\"dataframe\">\n",
       "  <thead>\n",
       "    <tr style=\"text-align: right;\">\n",
       "      <th></th>\n",
       "      <th>Nível_Escolaridade</th>\n",
       "      <th>Inscritos</th>\n",
       "    </tr>\n",
       "  </thead>\n",
       "  <tbody>\n",
       "    <tr>\n",
       "      <th>0</th>\n",
       "      <td>Fundamental Completo</td>\n",
       "      <td>451</td>\n",
       "    </tr>\n",
       "    <tr>\n",
       "      <th>1</th>\n",
       "      <td>Médio Completo</td>\n",
       "      <td>627</td>\n",
       "    </tr>\n",
       "    <tr>\n",
       "      <th>2</th>\n",
       "      <td>Superior Completo</td>\n",
       "      <td>292</td>\n",
       "    </tr>\n",
       "    <tr>\n",
       "      <th>3</th>\n",
       "      <td>Pós-graduação Completa</td>\n",
       "      <td>95</td>\n",
       "    </tr>\n",
       "  </tbody>\n",
       "</table>\n",
       "</div>"
      ],
      "text/plain": [
       "       Nível_Escolaridade  Inscritos\n",
       "0    Fundamental Completo        451\n",
       "1          Médio Completo        627\n",
       "2       Superior Completo        292\n",
       "3  Pós-graduação Completa         95"
      ]
     },
     "execution_count": 3,
     "metadata": {},
     "output_type": "execute_result"
    }
   ],
   "source": [
    "inscritos = pd.DataFrame({'Nível_Escolaridade':['Fundamental Completo', 'Médio Completo', 'Superior Completo', 'Pós-graduação Completa'],\n",
    "                          'Inscritos': [451, 627, 292, 95]\n",
    "})\n",
    "inscritos"
   ]
  },
  {
   "cell_type": "code",
   "execution_count": 5,
   "metadata": {},
   "outputs": [
    {
     "data": {
      "text/plain": [
       "1465"
      ]
     },
     "execution_count": 5,
     "metadata": {},
     "output_type": "execute_result"
    }
   ],
   "source": [
    "total_inscritos_inicial = inscritos.Inscritos.sum()\n",
    "total_inscritos_inicial"
   ]
  },
  {
   "cell_type": "code",
   "execution_count": 16,
   "metadata": {},
   "outputs": [
    {
     "data": {
      "text/plain": [
       "387"
      ]
     },
     "execution_count": 16,
     "metadata": {},
     "output_type": "execute_result"
    }
   ],
   "source": [
    "total_superior = inscritos.loc[2:, \"Inscritos\"].sum()\n",
    "total_superior"
   ]
  },
  {
   "cell_type": "code",
   "execution_count": 22,
   "metadata": {},
   "outputs": [
    {
     "data": {
      "text/plain": [
       "1648"
      ]
     },
     "execution_count": 22,
     "metadata": {},
     "output_type": "execute_result"
    }
   ],
   "source": [
    "inscritos_prorrogaçao = pd.Series([68, 93, 22, 0])\n",
    "total_inscritos_prorrogaçao = (inscritos.Inscritos + inscritos_prorrogaçao).sum()\n",
    "total_inscritos_prorrogaçao"
   ]
  },
  {
   "cell_type": "markdown",
   "metadata": {},
   "source": [
    "2) Uma turma de cinco alunos foi submetida a uma avaliação e a nota de cada um dos alunos é apresentada na tabela abaixo:\n",
    "\n",
    "Nome do Aluno\tNota\n",
    "Wilfred\t2\n",
    "Abbie\t7\n",
    "Harry\t5.5\n",
    "Julia\t10\n",
    "Carrie\t6.2\n",
    "(a) Crie uma Series com os valores da tabela acima.\n",
    "(b) Retorne o número de alunos que foram aprovados (considerando que a nota mínima para a aprovação é 7).\n",
    "(c) Qual foi a nota média da turma.\n",
    "(d) Obtenha o nome dos alunos que tiraram notas acima da média da turma."
   ]
  },
  {
   "cell_type": "code",
   "execution_count": 43,
   "metadata": {},
   "outputs": [
    {
     "data": {
      "text/plain": [
       "Wilfred     2.0\n",
       "Abbie       7.0\n",
       "Harry       5.5\n",
       "Julia      10.0\n",
       "Carrie      6.2\n",
       "dtype: float64"
      ]
     },
     "execution_count": 43,
     "metadata": {},
     "output_type": "execute_result"
    }
   ],
   "source": [
    "notas = pd.Series([2, 7, 5.5, 10, 6.2], index=[\"Wilfred\", \"Abbie\", \"Harry\", \"Julia\", \"Carrie\"])\n",
    "notas"
   ]
  },
  {
   "cell_type": "code",
   "execution_count": 40,
   "metadata": {},
   "outputs": [
    {
     "data": {
      "text/plain": [
       "2"
      ]
     },
     "execution_count": 40,
     "metadata": {},
     "output_type": "execute_result"
    }
   ],
   "source": [
    "qnt_aprovados = notas[notas>=7].count()\n",
    "qnt_aprovados"
   ]
  },
  {
   "cell_type": "code",
   "execution_count": 41,
   "metadata": {},
   "outputs": [
    {
     "data": {
      "text/plain": [
       "6.14"
      ]
     },
     "execution_count": 41,
     "metadata": {},
     "output_type": "execute_result"
    }
   ],
   "source": [
    "nota_media = notas.mean()\n",
    "nota_media"
   ]
  },
  {
   "cell_type": "code",
   "execution_count": 42,
   "metadata": {},
   "outputs": [
    {
     "data": {
      "text/plain": [
       "['Abbie', 'Julia', 'Carrie']"
      ]
     },
     "execution_count": 42,
     "metadata": {},
     "output_type": "execute_result"
    }
   ],
   "source": [
    "acima_media = notas[notas>nota_media].index.tolist()\n",
    "acima_media"
   ]
  },
  {
   "cell_type": "markdown",
   "metadata": {},
   "source": [
    "3) Crie um objeto DataFrame que contenha os dados da tabela abaixo, os quais se referem ao peso, altura e idade de cinco pessoas:\n",
    "\n",
    "Peso (kg)\tAltura (cm)\tIdade\n",
    "72\t180\t31\n",
    "80\t170\t21\n",
    "60\t175\t16\n",
    "90\t174\t28\n",
    "100\t185\t23\n",
    "Com base no DataFrame criado, realize o que pedido nos itens abaixo:\n",
    "\n",
    "(a) Visualize apenas os dados da coluna que contém a altura das pessoas.\n",
    "(b) Obtenha a idade média das pessoas.\n",
    "(c) Obtenha os dados das pessoas que estão abaixo da altura média.\n",
    "(d) Crie um nova coluna no DataFrame que contenha o IMC (Índice de Massa Corporal) de cada pessoa.\n",
    "(e) Remova a coluna que contém a idade das pessoas.\n",
    "(f) Salve esses dados do DataFrame em um arquivo csv."
   ]
  },
  {
   "cell_type": "code",
   "execution_count": 83,
   "metadata": {},
   "outputs": [
    {
     "data": {
      "text/html": [
       "<div>\n",
       "<style scoped>\n",
       "    .dataframe tbody tr th:only-of-type {\n",
       "        vertical-align: middle;\n",
       "    }\n",
       "\n",
       "    .dataframe tbody tr th {\n",
       "        vertical-align: top;\n",
       "    }\n",
       "\n",
       "    .dataframe thead th {\n",
       "        text-align: right;\n",
       "    }\n",
       "</style>\n",
       "<table border=\"1\" class=\"dataframe\">\n",
       "  <thead>\n",
       "    <tr style=\"text-align: right;\">\n",
       "      <th></th>\n",
       "      <th>Peso_kg</th>\n",
       "      <th>Altura_cm</th>\n",
       "      <th>Idade</th>\n",
       "    </tr>\n",
       "  </thead>\n",
       "  <tbody>\n",
       "    <tr>\n",
       "      <th>0</th>\n",
       "      <td>72</td>\n",
       "      <td>180</td>\n",
       "      <td>31</td>\n",
       "    </tr>\n",
       "    <tr>\n",
       "      <th>1</th>\n",
       "      <td>80</td>\n",
       "      <td>170</td>\n",
       "      <td>21</td>\n",
       "    </tr>\n",
       "    <tr>\n",
       "      <th>2</th>\n",
       "      <td>60</td>\n",
       "      <td>175</td>\n",
       "      <td>16</td>\n",
       "    </tr>\n",
       "    <tr>\n",
       "      <th>3</th>\n",
       "      <td>90</td>\n",
       "      <td>174</td>\n",
       "      <td>28</td>\n",
       "    </tr>\n",
       "    <tr>\n",
       "      <th>4</th>\n",
       "      <td>100</td>\n",
       "      <td>185</td>\n",
       "      <td>23</td>\n",
       "    </tr>\n",
       "  </tbody>\n",
       "</table>\n",
       "</div>"
      ],
      "text/plain": [
       "   Peso_kg  Altura_cm  Idade\n",
       "0       72        180     31\n",
       "1       80        170     21\n",
       "2       60        175     16\n",
       "3       90        174     28\n",
       "4      100        185     23"
      ]
     },
     "execution_count": 83,
     "metadata": {},
     "output_type": "execute_result"
    }
   ],
   "source": [
    "tabela = pd.DataFrame({\"Peso_kg\": [72, 80, 60, 90, 100],\n",
    "                       \"Altura_cm\": [180, 170, 175, 174, 185],\n",
    "                       \"Idade\": [31, 21, 16, 28, 23]  \n",
    "})\n",
    "tabela"
   ]
  },
  {
   "cell_type": "code",
   "execution_count": 84,
   "metadata": {},
   "outputs": [
    {
     "data": {
      "text/plain": [
       "0    180\n",
       "1    170\n",
       "2    175\n",
       "3    174\n",
       "4    185\n",
       "Name: Altura_cm, dtype: int64"
      ]
     },
     "execution_count": 84,
     "metadata": {},
     "output_type": "execute_result"
    }
   ],
   "source": [
    "altura = tabela.Altura_cm\n",
    "altura"
   ]
  },
  {
   "cell_type": "code",
   "execution_count": 85,
   "metadata": {},
   "outputs": [
    {
     "data": {
      "text/plain": [
       "23.8"
      ]
     },
     "execution_count": 85,
     "metadata": {},
     "output_type": "execute_result"
    }
   ],
   "source": [
    "idade_media = tabela.Idade.mean()\n",
    "idade_media"
   ]
  },
  {
   "cell_type": "code",
   "execution_count": 86,
   "metadata": {},
   "outputs": [
    {
     "data": {
      "text/html": [
       "<div>\n",
       "<style scoped>\n",
       "    .dataframe tbody tr th:only-of-type {\n",
       "        vertical-align: middle;\n",
       "    }\n",
       "\n",
       "    .dataframe tbody tr th {\n",
       "        vertical-align: top;\n",
       "    }\n",
       "\n",
       "    .dataframe thead th {\n",
       "        text-align: right;\n",
       "    }\n",
       "</style>\n",
       "<table border=\"1\" class=\"dataframe\">\n",
       "  <thead>\n",
       "    <tr style=\"text-align: right;\">\n",
       "      <th></th>\n",
       "      <th>Peso_kg</th>\n",
       "      <th>Altura_cm</th>\n",
       "      <th>Idade</th>\n",
       "    </tr>\n",
       "  </thead>\n",
       "  <tbody>\n",
       "    <tr>\n",
       "      <th>1</th>\n",
       "      <td>80</td>\n",
       "      <td>170</td>\n",
       "      <td>21</td>\n",
       "    </tr>\n",
       "    <tr>\n",
       "      <th>2</th>\n",
       "      <td>60</td>\n",
       "      <td>175</td>\n",
       "      <td>16</td>\n",
       "    </tr>\n",
       "    <tr>\n",
       "      <th>3</th>\n",
       "      <td>90</td>\n",
       "      <td>174</td>\n",
       "      <td>28</td>\n",
       "    </tr>\n",
       "  </tbody>\n",
       "</table>\n",
       "</div>"
      ],
      "text/plain": [
       "   Peso_kg  Altura_cm  Idade\n",
       "1       80        170     21\n",
       "2       60        175     16\n",
       "3       90        174     28"
      ]
     },
     "execution_count": 86,
     "metadata": {},
     "output_type": "execute_result"
    }
   ],
   "source": [
    "abaixo_altura_media = tabela[tabela.Altura_cm < altura.mean()]\n",
    "abaixo_altura_media"
   ]
  },
  {
   "cell_type": "code",
   "execution_count": 87,
   "metadata": {},
   "outputs": [
    {
     "data": {
      "text/html": [
       "<div>\n",
       "<style scoped>\n",
       "    .dataframe tbody tr th:only-of-type {\n",
       "        vertical-align: middle;\n",
       "    }\n",
       "\n",
       "    .dataframe tbody tr th {\n",
       "        vertical-align: top;\n",
       "    }\n",
       "\n",
       "    .dataframe thead th {\n",
       "        text-align: right;\n",
       "    }\n",
       "</style>\n",
       "<table border=\"1\" class=\"dataframe\">\n",
       "  <thead>\n",
       "    <tr style=\"text-align: right;\">\n",
       "      <th></th>\n",
       "      <th>Peso_kg</th>\n",
       "      <th>Altura_cm</th>\n",
       "      <th>Idade</th>\n",
       "      <th>IMC</th>\n",
       "    </tr>\n",
       "  </thead>\n",
       "  <tbody>\n",
       "    <tr>\n",
       "      <th>0</th>\n",
       "      <td>72</td>\n",
       "      <td>180</td>\n",
       "      <td>31</td>\n",
       "      <td>22.222222</td>\n",
       "    </tr>\n",
       "    <tr>\n",
       "      <th>1</th>\n",
       "      <td>80</td>\n",
       "      <td>170</td>\n",
       "      <td>21</td>\n",
       "      <td>27.681661</td>\n",
       "    </tr>\n",
       "    <tr>\n",
       "      <th>2</th>\n",
       "      <td>60</td>\n",
       "      <td>175</td>\n",
       "      <td>16</td>\n",
       "      <td>19.591837</td>\n",
       "    </tr>\n",
       "    <tr>\n",
       "      <th>3</th>\n",
       "      <td>90</td>\n",
       "      <td>174</td>\n",
       "      <td>28</td>\n",
       "      <td>29.726516</td>\n",
       "    </tr>\n",
       "    <tr>\n",
       "      <th>4</th>\n",
       "      <td>100</td>\n",
       "      <td>185</td>\n",
       "      <td>23</td>\n",
       "      <td>29.218408</td>\n",
       "    </tr>\n",
       "  </tbody>\n",
       "</table>\n",
       "</div>"
      ],
      "text/plain": [
       "   Peso_kg  Altura_cm  Idade        IMC\n",
       "0       72        180     31  22.222222\n",
       "1       80        170     21  27.681661\n",
       "2       60        175     16  19.591837\n",
       "3       90        174     28  29.726516\n",
       "4      100        185     23  29.218408"
      ]
     },
     "execution_count": 87,
     "metadata": {},
     "output_type": "execute_result"
    }
   ],
   "source": [
    "tabela[\"IMC\"] = tabela.Peso_kg / ((tabela.Altura_cm / 100) ** 2)\n",
    "tabela"
   ]
  },
  {
   "cell_type": "code",
   "execution_count": 88,
   "metadata": {},
   "outputs": [
    {
     "data": {
      "text/html": [
       "<div>\n",
       "<style scoped>\n",
       "    .dataframe tbody tr th:only-of-type {\n",
       "        vertical-align: middle;\n",
       "    }\n",
       "\n",
       "    .dataframe tbody tr th {\n",
       "        vertical-align: top;\n",
       "    }\n",
       "\n",
       "    .dataframe thead th {\n",
       "        text-align: right;\n",
       "    }\n",
       "</style>\n",
       "<table border=\"1\" class=\"dataframe\">\n",
       "  <thead>\n",
       "    <tr style=\"text-align: right;\">\n",
       "      <th></th>\n",
       "      <th>Peso_kg</th>\n",
       "      <th>Altura_cm</th>\n",
       "      <th>IMC</th>\n",
       "    </tr>\n",
       "  </thead>\n",
       "  <tbody>\n",
       "    <tr>\n",
       "      <th>0</th>\n",
       "      <td>72</td>\n",
       "      <td>180</td>\n",
       "      <td>22.222222</td>\n",
       "    </tr>\n",
       "    <tr>\n",
       "      <th>1</th>\n",
       "      <td>80</td>\n",
       "      <td>170</td>\n",
       "      <td>27.681661</td>\n",
       "    </tr>\n",
       "    <tr>\n",
       "      <th>2</th>\n",
       "      <td>60</td>\n",
       "      <td>175</td>\n",
       "      <td>19.591837</td>\n",
       "    </tr>\n",
       "    <tr>\n",
       "      <th>3</th>\n",
       "      <td>90</td>\n",
       "      <td>174</td>\n",
       "      <td>29.726516</td>\n",
       "    </tr>\n",
       "    <tr>\n",
       "      <th>4</th>\n",
       "      <td>100</td>\n",
       "      <td>185</td>\n",
       "      <td>29.218408</td>\n",
       "    </tr>\n",
       "  </tbody>\n",
       "</table>\n",
       "</div>"
      ],
      "text/plain": [
       "   Peso_kg  Altura_cm        IMC\n",
       "0       72        180  22.222222\n",
       "1       80        170  27.681661\n",
       "2       60        175  19.591837\n",
       "3       90        174  29.726516\n",
       "4      100        185  29.218408"
      ]
     },
     "execution_count": 88,
     "metadata": {},
     "output_type": "execute_result"
    }
   ],
   "source": [
    "tabela.drop(\"Idade\", axis=1, inplace=True)\n",
    "tabela"
   ]
  },
  {
   "cell_type": "code",
   "execution_count": 89,
   "metadata": {},
   "outputs": [],
   "source": [
    "tabela.to_csv(\"data/dados_saude.csv\", sep=\";\", index=False)"
   ]
  },
  {
   "cell_type": "markdown",
   "metadata": {},
   "source": [
    "4) Carregue, em um objeto DataFrame, o arquivo CSV que você salvou no item (f) da questão anterior. Em seguida,\n",
    "\n",
    "(a) Crie uma nova coluna que contenha o nome das pessoas (sinta-se à vontade para atribuir os nomes que preferir).\n",
    "(b) Defina a nova coluna criada (com os nomes) como o índice (index) do seu DataFrame.\n",
    "(c) Obtenha o nome das pessoas que são classificadas com Sobrepeso (IMC entre 25 e 29,9)."
   ]
  },
  {
   "cell_type": "code",
   "execution_count": 90,
   "metadata": {},
   "outputs": [
    {
     "data": {
      "text/html": [
       "<div>\n",
       "<style scoped>\n",
       "    .dataframe tbody tr th:only-of-type {\n",
       "        vertical-align: middle;\n",
       "    }\n",
       "\n",
       "    .dataframe tbody tr th {\n",
       "        vertical-align: top;\n",
       "    }\n",
       "\n",
       "    .dataframe thead th {\n",
       "        text-align: right;\n",
       "    }\n",
       "</style>\n",
       "<table border=\"1\" class=\"dataframe\">\n",
       "  <thead>\n",
       "    <tr style=\"text-align: right;\">\n",
       "      <th></th>\n",
       "      <th>Peso_kg</th>\n",
       "      <th>Altura_cm</th>\n",
       "      <th>IMC</th>\n",
       "    </tr>\n",
       "  </thead>\n",
       "  <tbody>\n",
       "    <tr>\n",
       "      <th>0</th>\n",
       "      <td>72</td>\n",
       "      <td>180</td>\n",
       "      <td>22.222222</td>\n",
       "    </tr>\n",
       "    <tr>\n",
       "      <th>1</th>\n",
       "      <td>80</td>\n",
       "      <td>170</td>\n",
       "      <td>27.681661</td>\n",
       "    </tr>\n",
       "    <tr>\n",
       "      <th>2</th>\n",
       "      <td>60</td>\n",
       "      <td>175</td>\n",
       "      <td>19.591837</td>\n",
       "    </tr>\n",
       "    <tr>\n",
       "      <th>3</th>\n",
       "      <td>90</td>\n",
       "      <td>174</td>\n",
       "      <td>29.726516</td>\n",
       "    </tr>\n",
       "    <tr>\n",
       "      <th>4</th>\n",
       "      <td>100</td>\n",
       "      <td>185</td>\n",
       "      <td>29.218408</td>\n",
       "    </tr>\n",
       "  </tbody>\n",
       "</table>\n",
       "</div>"
      ],
      "text/plain": [
       "   Peso_kg  Altura_cm        IMC\n",
       "0       72        180  22.222222\n",
       "1       80        170  27.681661\n",
       "2       60        175  19.591837\n",
       "3       90        174  29.726516\n",
       "4      100        185  29.218408"
      ]
     },
     "execution_count": 90,
     "metadata": {},
     "output_type": "execute_result"
    }
   ],
   "source": [
    "tabela = pd.read_csv(\"data/dados_saude.csv\", sep=\";\")\n",
    "tabela"
   ]
  },
  {
   "cell_type": "code",
   "execution_count": 91,
   "metadata": {},
   "outputs": [
    {
     "data": {
      "text/html": [
       "<div>\n",
       "<style scoped>\n",
       "    .dataframe tbody tr th:only-of-type {\n",
       "        vertical-align: middle;\n",
       "    }\n",
       "\n",
       "    .dataframe tbody tr th {\n",
       "        vertical-align: top;\n",
       "    }\n",
       "\n",
       "    .dataframe thead th {\n",
       "        text-align: right;\n",
       "    }\n",
       "</style>\n",
       "<table border=\"1\" class=\"dataframe\">\n",
       "  <thead>\n",
       "    <tr style=\"text-align: right;\">\n",
       "      <th></th>\n",
       "      <th>Nome</th>\n",
       "      <th>Peso_kg</th>\n",
       "      <th>Altura_cm</th>\n",
       "      <th>IMC</th>\n",
       "    </tr>\n",
       "  </thead>\n",
       "  <tbody>\n",
       "    <tr>\n",
       "      <th>0</th>\n",
       "      <td>Carol</td>\n",
       "      <td>72</td>\n",
       "      <td>180</td>\n",
       "      <td>22.222222</td>\n",
       "    </tr>\n",
       "    <tr>\n",
       "      <th>1</th>\n",
       "      <td>Roger</td>\n",
       "      <td>80</td>\n",
       "      <td>170</td>\n",
       "      <td>27.681661</td>\n",
       "    </tr>\n",
       "    <tr>\n",
       "      <th>2</th>\n",
       "      <td>Flávia</td>\n",
       "      <td>60</td>\n",
       "      <td>175</td>\n",
       "      <td>19.591837</td>\n",
       "    </tr>\n",
       "    <tr>\n",
       "      <th>3</th>\n",
       "      <td>Rogério</td>\n",
       "      <td>90</td>\n",
       "      <td>174</td>\n",
       "      <td>29.726516</td>\n",
       "    </tr>\n",
       "    <tr>\n",
       "      <th>4</th>\n",
       "      <td>Nilce</td>\n",
       "      <td>100</td>\n",
       "      <td>185</td>\n",
       "      <td>29.218408</td>\n",
       "    </tr>\n",
       "  </tbody>\n",
       "</table>\n",
       "</div>"
      ],
      "text/plain": [
       "      Nome  Peso_kg  Altura_cm        IMC\n",
       "0    Carol       72        180  22.222222\n",
       "1    Roger       80        170  27.681661\n",
       "2   Flávia       60        175  19.591837\n",
       "3  Rogério       90        174  29.726516\n",
       "4    Nilce      100        185  29.218408"
      ]
     },
     "execution_count": 91,
     "metadata": {},
     "output_type": "execute_result"
    }
   ],
   "source": [
    "tabela.insert(0, \"Nome\", [\"Carol\", \"Roger\", \"Flávia\", \"Rogério\", \"Nilce\"])\n",
    "tabela"
   ]
  },
  {
   "cell_type": "code",
   "execution_count": 92,
   "metadata": {},
   "outputs": [
    {
     "data": {
      "text/html": [
       "<div>\n",
       "<style scoped>\n",
       "    .dataframe tbody tr th:only-of-type {\n",
       "        vertical-align: middle;\n",
       "    }\n",
       "\n",
       "    .dataframe tbody tr th {\n",
       "        vertical-align: top;\n",
       "    }\n",
       "\n",
       "    .dataframe thead th {\n",
       "        text-align: right;\n",
       "    }\n",
       "</style>\n",
       "<table border=\"1\" class=\"dataframe\">\n",
       "  <thead>\n",
       "    <tr style=\"text-align: right;\">\n",
       "      <th></th>\n",
       "      <th>Peso_kg</th>\n",
       "      <th>Altura_cm</th>\n",
       "      <th>IMC</th>\n",
       "    </tr>\n",
       "    <tr>\n",
       "      <th>Nome</th>\n",
       "      <th></th>\n",
       "      <th></th>\n",
       "      <th></th>\n",
       "    </tr>\n",
       "  </thead>\n",
       "  <tbody>\n",
       "    <tr>\n",
       "      <th>Carol</th>\n",
       "      <td>72</td>\n",
       "      <td>180</td>\n",
       "      <td>22.222222</td>\n",
       "    </tr>\n",
       "    <tr>\n",
       "      <th>Roger</th>\n",
       "      <td>80</td>\n",
       "      <td>170</td>\n",
       "      <td>27.681661</td>\n",
       "    </tr>\n",
       "    <tr>\n",
       "      <th>Flávia</th>\n",
       "      <td>60</td>\n",
       "      <td>175</td>\n",
       "      <td>19.591837</td>\n",
       "    </tr>\n",
       "    <tr>\n",
       "      <th>Rogério</th>\n",
       "      <td>90</td>\n",
       "      <td>174</td>\n",
       "      <td>29.726516</td>\n",
       "    </tr>\n",
       "    <tr>\n",
       "      <th>Nilce</th>\n",
       "      <td>100</td>\n",
       "      <td>185</td>\n",
       "      <td>29.218408</td>\n",
       "    </tr>\n",
       "  </tbody>\n",
       "</table>\n",
       "</div>"
      ],
      "text/plain": [
       "         Peso_kg  Altura_cm        IMC\n",
       "Nome                                  \n",
       "Carol         72        180  22.222222\n",
       "Roger         80        170  27.681661\n",
       "Flávia        60        175  19.591837\n",
       "Rogério       90        174  29.726516\n",
       "Nilce        100        185  29.218408"
      ]
     },
     "execution_count": 92,
     "metadata": {},
     "output_type": "execute_result"
    }
   ],
   "source": [
    "tabela.set_index(\"Nome\", inplace=True)\n",
    "tabela"
   ]
  },
  {
   "cell_type": "code",
   "execution_count": 98,
   "metadata": {},
   "outputs": [
    {
     "data": {
      "text/plain": [
       "['Roger', 'Rogério', 'Nilce']"
      ]
     },
     "execution_count": 98,
     "metadata": {},
     "output_type": "execute_result"
    }
   ],
   "source": [
    "sobrepeso = tabela[(25 <= tabela.IMC) & (tabela.IMC <= 29.9)].index.tolist()\n",
    "sobrepeso"
   ]
  },
  {
   "cell_type": "markdown",
   "metadata": {},
   "source": [
    "5) Carregue, em um objeto DataFrame, o mesmo dataset que você salvou na Questão 3. Em seguida,\n",
    "\n",
    "(a) Adicione uma nova coluna nesse DF chamada Classificação, que contenha a classificação de cada indivíduo, de acordo com o seu IMC. Para isso, consulte a tabela abaixo.\n",
    "\n",
    "IMC\tClassificação\tObesidade (grau)\n",
    "Menor que 18,5\tMagreza\t0\n",
    "Entre 18,5 e 24,9\tNormal\t0\n",
    "Entre 25,0 e 29,9\tSobrepeso\tI\n",
    "Entre 30,0 e 39,9\tObesidade\tII\n",
    "Maior que 40,0\tObesidade Grave\tIII\n",
    "(b) Salve em DataFrame no formato xlsx."
   ]
  },
  {
   "cell_type": "code",
   "execution_count": 141,
   "metadata": {},
   "outputs": [
    {
     "data": {
      "text/html": [
       "<div>\n",
       "<style scoped>\n",
       "    .dataframe tbody tr th:only-of-type {\n",
       "        vertical-align: middle;\n",
       "    }\n",
       "\n",
       "    .dataframe tbody tr th {\n",
       "        vertical-align: top;\n",
       "    }\n",
       "\n",
       "    .dataframe thead th {\n",
       "        text-align: right;\n",
       "    }\n",
       "</style>\n",
       "<table border=\"1\" class=\"dataframe\">\n",
       "  <thead>\n",
       "    <tr style=\"text-align: right;\">\n",
       "      <th></th>\n",
       "      <th>Peso_kg</th>\n",
       "      <th>Altura_cm</th>\n",
       "      <th>IMC</th>\n",
       "    </tr>\n",
       "  </thead>\n",
       "  <tbody>\n",
       "    <tr>\n",
       "      <th>0</th>\n",
       "      <td>72</td>\n",
       "      <td>180</td>\n",
       "      <td>22.222222</td>\n",
       "    </tr>\n",
       "    <tr>\n",
       "      <th>1</th>\n",
       "      <td>80</td>\n",
       "      <td>170</td>\n",
       "      <td>27.681661</td>\n",
       "    </tr>\n",
       "    <tr>\n",
       "      <th>2</th>\n",
       "      <td>60</td>\n",
       "      <td>175</td>\n",
       "      <td>19.591837</td>\n",
       "    </tr>\n",
       "    <tr>\n",
       "      <th>3</th>\n",
       "      <td>90</td>\n",
       "      <td>174</td>\n",
       "      <td>29.726516</td>\n",
       "    </tr>\n",
       "    <tr>\n",
       "      <th>4</th>\n",
       "      <td>100</td>\n",
       "      <td>185</td>\n",
       "      <td>29.218408</td>\n",
       "    </tr>\n",
       "  </tbody>\n",
       "</table>\n",
       "</div>"
      ],
      "text/plain": [
       "   Peso_kg  Altura_cm        IMC\n",
       "0       72        180  22.222222\n",
       "1       80        170  27.681661\n",
       "2       60        175  19.591837\n",
       "3       90        174  29.726516\n",
       "4      100        185  29.218408"
      ]
     },
     "execution_count": 141,
     "metadata": {},
     "output_type": "execute_result"
    }
   ],
   "source": [
    "tabela = pd.read_csv(\"data/dados_saude.csv\", sep=\";\")\n",
    "tabela"
   ]
  },
  {
   "cell_type": "code",
   "execution_count": 3,
   "metadata": {},
   "outputs": [
    {
     "data": {
      "text/html": [
       "<div>\n",
       "<style scoped>\n",
       "    .dataframe tbody tr th:only-of-type {\n",
       "        vertical-align: middle;\n",
       "    }\n",
       "\n",
       "    .dataframe tbody tr th {\n",
       "        vertical-align: top;\n",
       "    }\n",
       "\n",
       "    .dataframe thead th {\n",
       "        text-align: right;\n",
       "    }\n",
       "</style>\n",
       "<table border=\"1\" class=\"dataframe\">\n",
       "  <thead>\n",
       "    <tr style=\"text-align: right;\">\n",
       "      <th></th>\n",
       "      <th>IMC</th>\n",
       "      <th>Classificação</th>\n",
       "      <th>Obesidade(grau)</th>\n",
       "    </tr>\n",
       "  </thead>\n",
       "  <tbody>\n",
       "    <tr>\n",
       "      <th>0</th>\n",
       "      <td>Menor que 18,5</td>\n",
       "      <td>Magreza</td>\n",
       "      <td>0</td>\n",
       "    </tr>\n",
       "    <tr>\n",
       "      <th>1</th>\n",
       "      <td>Entre 18,5 e 24,9</td>\n",
       "      <td>Normal</td>\n",
       "      <td>0</td>\n",
       "    </tr>\n",
       "    <tr>\n",
       "      <th>2</th>\n",
       "      <td>Entre 25,0 e 29,9</td>\n",
       "      <td>Sobrepeso</td>\n",
       "      <td>1</td>\n",
       "    </tr>\n",
       "    <tr>\n",
       "      <th>3</th>\n",
       "      <td>Entre 30,0 e 39,9</td>\n",
       "      <td>Obesidade</td>\n",
       "      <td>2</td>\n",
       "    </tr>\n",
       "    <tr>\n",
       "      <th>4</th>\n",
       "      <td>Maior que 40</td>\n",
       "      <td>Obesidade Grave</td>\n",
       "      <td>3</td>\n",
       "    </tr>\n",
       "  </tbody>\n",
       "</table>\n",
       "</div>"
      ],
      "text/plain": [
       "                 IMC    Classificação  Obesidade(grau)\n",
       "0     Menor que 18,5          Magreza                0\n",
       "1  Entre 18,5 e 24,9           Normal                0\n",
       "2  Entre 25,0 e 29,9        Sobrepeso                1\n",
       "3  Entre 30,0 e 39,9        Obesidade                2\n",
       "4       Maior que 40  Obesidade Grave                3"
      ]
     },
     "execution_count": 3,
     "metadata": {},
     "output_type": "execute_result"
    }
   ],
   "source": [
    "classificaçao = pd.DataFrame({\"IMC\": [\"Menor que 18,5\", \"Entre 18,5 e 24,9\", \"Entre 25,0 e 29,9\", \"Entre 30,0 e 39,9\", \"Maior que 40\"],\n",
    "                              \"Classificação\": [\"Magreza\", \"Normal\", \"Sobrepeso\", \"Obesidade\", \"Obesidade Grave\"],\n",
    "                              \"Obesidade(grau)\": [0, 0, 1, 2, 3]\n",
    "})\n",
    "classificaçao"
   ]
  },
  {
   "cell_type": "code",
   "execution_count": 145,
   "metadata": {},
   "outputs": [
    {
     "data": {
      "text/html": [
       "<div>\n",
       "<style scoped>\n",
       "    .dataframe tbody tr th:only-of-type {\n",
       "        vertical-align: middle;\n",
       "    }\n",
       "\n",
       "    .dataframe tbody tr th {\n",
       "        vertical-align: top;\n",
       "    }\n",
       "\n",
       "    .dataframe thead th {\n",
       "        text-align: right;\n",
       "    }\n",
       "</style>\n",
       "<table border=\"1\" class=\"dataframe\">\n",
       "  <thead>\n",
       "    <tr style=\"text-align: right;\">\n",
       "      <th></th>\n",
       "      <th>Peso_kg</th>\n",
       "      <th>Altura_cm</th>\n",
       "      <th>IMC</th>\n",
       "      <th>Classificação</th>\n",
       "    </tr>\n",
       "  </thead>\n",
       "  <tbody>\n",
       "    <tr>\n",
       "      <th>0</th>\n",
       "      <td>72</td>\n",
       "      <td>180</td>\n",
       "      <td>22.222222</td>\n",
       "      <td>Normal</td>\n",
       "    </tr>\n",
       "    <tr>\n",
       "      <th>1</th>\n",
       "      <td>80</td>\n",
       "      <td>170</td>\n",
       "      <td>27.681661</td>\n",
       "      <td>Sobrepeso</td>\n",
       "    </tr>\n",
       "    <tr>\n",
       "      <th>2</th>\n",
       "      <td>60</td>\n",
       "      <td>175</td>\n",
       "      <td>19.591837</td>\n",
       "      <td>Normal</td>\n",
       "    </tr>\n",
       "    <tr>\n",
       "      <th>3</th>\n",
       "      <td>90</td>\n",
       "      <td>174</td>\n",
       "      <td>29.726516</td>\n",
       "      <td>Sobrepeso</td>\n",
       "    </tr>\n",
       "    <tr>\n",
       "      <th>4</th>\n",
       "      <td>100</td>\n",
       "      <td>185</td>\n",
       "      <td>29.218408</td>\n",
       "      <td>Sobrepeso</td>\n",
       "    </tr>\n",
       "  </tbody>\n",
       "</table>\n",
       "</div>"
      ],
      "text/plain": [
       "   Peso_kg  Altura_cm        IMC Classificação\n",
       "0       72        180  22.222222        Normal\n",
       "1       80        170  27.681661     Sobrepeso\n",
       "2       60        175  19.591837        Normal\n",
       "3       90        174  29.726516     Sobrepeso\n",
       "4      100        185  29.218408     Sobrepeso"
      ]
     },
     "execution_count": 145,
     "metadata": {},
     "output_type": "execute_result"
    }
   ],
   "source": [
    "for i in tabela.index:\n",
    "    IMC = tabela.loc[i, \"IMC\"]\n",
    "    if IMC < 18.5:\n",
    "        tabela.loc[i, \"Classificação\"] = classificaçao.Classificação[0]\n",
    "    elif IMC < 24.9:\n",
    "        tabela.loc[i, \"Classificação\"] = classificaçao.Classificação[1]\n",
    "    elif IMC < 29.9:\n",
    "        tabela.loc[i, \"Classificação\"] = classificaçao.Classificação[2]\n",
    "    elif IMC < 39.9:\n",
    "        tabela.loc[i, \"Classificação\"] = classificaçao.Classificação[3]\n",
    "    else:\n",
    "        tabela.loc[i, \"Classificação\"] = classificaçao.Classificação[4]\n",
    "        \n",
    "tabela"
   ]
  },
  {
   "cell_type": "code",
   "execution_count": 146,
   "metadata": {},
   "outputs": [],
   "source": [
    "tabela.to_excel(\"data/dados_saude_classificação.xlsx\")"
   ]
  },
  {
   "cell_type": "markdown",
   "metadata": {},
   "source": [
    "OBSERVAÇÕES ------------------------------------------------------------------------------"
   ]
  },
  {
   "cell_type": "code",
   "execution_count": 150,
   "metadata": {},
   "outputs": [
    {
     "data": {
      "text/plain": [
       "carol    1\n",
       "katia    2\n",
       "dtype: int64"
      ]
     },
     "execution_count": 150,
     "metadata": {},
     "output_type": "execute_result"
    }
   ],
   "source": [
    "#Pode passar dicionário p/ criar series, com o par index valor\n",
    "ss = pd.Series({\"carol\": 1,\n",
    "               \"katia\": 2})\n",
    "ss"
   ]
  },
  {
   "cell_type": "code",
   "execution_count": 155,
   "metadata": {},
   "outputs": [
    {
     "data": {
      "text/html": [
       "<div>\n",
       "<style scoped>\n",
       "    .dataframe tbody tr th:only-of-type {\n",
       "        vertical-align: middle;\n",
       "    }\n",
       "\n",
       "    .dataframe tbody tr th {\n",
       "        vertical-align: top;\n",
       "    }\n",
       "\n",
       "    .dataframe thead th {\n",
       "        text-align: right;\n",
       "    }\n",
       "</style>\n",
       "<table border=\"1\" class=\"dataframe\">\n",
       "  <thead>\n",
       "    <tr style=\"text-align: right;\">\n",
       "      <th></th>\n",
       "      <th>IMC</th>\n",
       "      <th>Classificação</th>\n",
       "      <th>Obesidade(grau)</th>\n",
       "    </tr>\n",
       "  </thead>\n",
       "  <tbody>\n",
       "    <tr>\n",
       "      <th>0</th>\n",
       "      <td>Menor que 18,5</td>\n",
       "      <td>Magreza</td>\n",
       "      <td>0</td>\n",
       "    </tr>\n",
       "    <tr>\n",
       "      <th>1</th>\n",
       "      <td>Entre 18,5 e 24,9</td>\n",
       "      <td>Normal</td>\n",
       "      <td>0</td>\n",
       "    </tr>\n",
       "    <tr>\n",
       "      <th>2</th>\n",
       "      <td>Entre 25,0 e 29,9</td>\n",
       "      <td>Sobrepeso</td>\n",
       "      <td>1</td>\n",
       "    </tr>\n",
       "    <tr>\n",
       "      <th>3</th>\n",
       "      <td>Entre 30,0 e 39,9</td>\n",
       "      <td>Obesidade</td>\n",
       "      <td>2</td>\n",
       "    </tr>\n",
       "    <tr>\n",
       "      <th>4</th>\n",
       "      <td>Maior que 40</td>\n",
       "      <td>Obesidade Grave</td>\n",
       "      <td>3</td>\n",
       "    </tr>\n",
       "  </tbody>\n",
       "</table>\n",
       "</div>"
      ],
      "text/plain": [
       "                 IMC    Classificação  Obesidade(grau)\n",
       "0     Menor que 18,5          Magreza                0\n",
       "1  Entre 18,5 e 24,9           Normal                0\n",
       "2  Entre 25,0 e 29,9        Sobrepeso                1\n",
       "3  Entre 30,0 e 39,9        Obesidade                2\n",
       "4       Maior que 40  Obesidade Grave                3"
      ]
     },
     "execution_count": 155,
     "metadata": {},
     "output_type": "execute_result"
    }
   ],
   "source": [
    "classificaçao"
   ]
  },
  {
   "cell_type": "code",
   "execution_count": 157,
   "metadata": {},
   "outputs": [
    {
     "data": {
      "text/plain": [
       "0    2\n",
       "3    1\n",
       "2    1\n",
       "1    1\n",
       "Name: Obesidade(grau), dtype: int64"
      ]
     },
     "execution_count": 157,
     "metadata": {},
     "output_type": "execute_result"
    }
   ],
   "source": [
    "classificaçao[\"Obesidade(grau)\"].value_counts()"
   ]
  },
  {
   "cell_type": "code",
   "execution_count": 164,
   "metadata": {},
   "outputs": [
    {
     "data": {
      "text/plain": [
       "IMC                Classificação    Obesidade(grau)\n",
       "Menor que 18,5     Magreza          0                  1\n",
       "Maior que 40       Obesidade Grave  3                  1\n",
       "Entre 30,0 e 39,9  Obesidade        2                  1\n",
       "Entre 25,0 e 29,9  Sobrepeso        1                  1\n",
       "Entre 18,5 e 24,9  Normal           0                  1\n",
       "dtype: int64"
      ]
     },
     "execution_count": 164,
     "metadata": {},
     "output_type": "execute_result"
    }
   ],
   "source": [
    "classificaçao.value_counts()"
   ]
  },
  {
   "cell_type": "code",
   "execution_count": 158,
   "metadata": {},
   "outputs": [
    {
     "data": {
      "text/plain": [
       "5"
      ]
     },
     "execution_count": 158,
     "metadata": {},
     "output_type": "execute_result"
    }
   ],
   "source": [
    "classificaçao[\"Obesidade(grau)\"].count()"
   ]
  },
  {
   "cell_type": "code",
   "execution_count": 161,
   "metadata": {},
   "outputs": [
    {
     "data": {
      "text/plain": [
       "IMC                5\n",
       "Classificação      5\n",
       "Obesidade(grau)    5\n",
       "dtype: int64"
      ]
     },
     "execution_count": 161,
     "metadata": {},
     "output_type": "execute_result"
    }
   ],
   "source": [
    "classificaçao.count()"
   ]
  },
  {
   "cell_type": "markdown",
   "metadata": {},
   "source": [
    "SERIES PANDAS -------------------------------------------------------------------------------"
   ]
  },
  {
   "cell_type": "markdown",
   "metadata": {},
   "source": [
    "1) Crie uma Series com os índices registrados pelo TIOBE Index para as top 10 linguagens de programação. Os índices da Series devem ser os nomes das linguagens, e os valores devem ser as taxas de popularidade de cada respectiva linguagem de programação. Em seguida, utilize os métodos da Series para:\n",
    "\n",
    "Exibir os cinco primeiros valores da Series\n",
    "Exibir os cinco últimos valores da Series"
   ]
  },
  {
   "cell_type": "code",
   "execution_count": 166,
   "metadata": {},
   "outputs": [
    {
     "data": {
      "text/plain": [
       "Python               11.77%\n",
       "C                    10.72%\n",
       "Java                 10.72%\n",
       "C++                   8.28%\n",
       "C#                    6.06%\n",
       "Visual Basic          5.72%\n",
       "JavaScript            2.66%\n",
       "Assembly language     2.52%\n",
       "SQL                   2.11%\n",
       "PHP                   1.81%\n",
       "dtype: object"
      ]
     },
     "execution_count": 166,
     "metadata": {},
     "output_type": "execute_result"
    }
   ],
   "source": [
    "series = pd.Series({\"Python\": \"11.77%\",\n",
    "                    \"C\": \"10.72%\",\n",
    "                    \"Java\": \"10.72%\",\n",
    "                    \"C++\": \"8.28%\",\n",
    "                    \"C#\": \"6.06%\",\n",
    "                    \"Visual Basic\": \"5.72%\",\n",
    "                    \"JavaScript\": \"2.66%\",\n",
    "                    \"Assembly language\": \"2.52%\",\n",
    "                    \"SQL\": \"2.11%\",\n",
    "                    \"PHP\": \"1.81%\"\n",
    "})\n",
    "series"
   ]
  },
  {
   "cell_type": "code",
   "execution_count": 167,
   "metadata": {},
   "outputs": [
    {
     "data": {
      "text/plain": [
       "Python    11.77%\n",
       "C         10.72%\n",
       "Java      10.72%\n",
       "C++        8.28%\n",
       "C#         6.06%\n",
       "dtype: object"
      ]
     },
     "execution_count": 167,
     "metadata": {},
     "output_type": "execute_result"
    }
   ],
   "source": [
    "series.head()"
   ]
  },
  {
   "cell_type": "code",
   "execution_count": 168,
   "metadata": {},
   "outputs": [
    {
     "data": {
      "text/plain": [
       "Visual Basic         5.72%\n",
       "JavaScript           2.66%\n",
       "Assembly language    2.52%\n",
       "SQL                  2.11%\n",
       "PHP                  1.81%\n",
       "dtype: object"
      ]
     },
     "execution_count": 168,
     "metadata": {},
     "output_type": "execute_result"
    }
   ],
   "source": [
    "series.tail()"
   ]
  },
  {
   "cell_type": "markdown",
   "metadata": {},
   "source": [
    "2) Crie uma Series com os 11 primeiros termos da sequência de Fibonacci. Utilize letras (em ordem alfabética) como os índices da Series. Em seguida, obtenha apenas aqueles elementos que forem superiores a 10 e inferiores a 50.\n",
    "\n",
    "Sequência de Fibonacci: 0, 1, 1, 2, 3, 5, 8, 13, 21, 34, 55..."
   ]
  },
  {
   "cell_type": "code",
   "execution_count": 176,
   "metadata": {},
   "outputs": [
    {
     "data": {
      "text/plain": [
       "A     0\n",
       "B     1\n",
       "C     1\n",
       "D     2\n",
       "E     3\n",
       "F     5\n",
       "G     8\n",
       "H    13\n",
       "I    21\n",
       "J    34\n",
       "K    55\n",
       "dtype: int64"
      ]
     },
     "execution_count": 176,
     "metadata": {},
     "output_type": "execute_result"
    }
   ],
   "source": [
    "import string\n",
    "fibon = pd.Series([0, 1, 1, 2, 3, 5, 8, 13, 21, 34, 55], index=list(string.ascii_uppercase)[0:11])\n",
    "fibon"
   ]
  },
  {
   "cell_type": "code",
   "execution_count": 177,
   "metadata": {},
   "outputs": [
    {
     "data": {
      "text/plain": [
       "H    13\n",
       "I    21\n",
       "J    34\n",
       "dtype: int64"
      ]
     },
     "execution_count": 177,
     "metadata": {},
     "output_type": "execute_result"
    }
   ],
   "source": [
    "fibon[(10<fibon)&(fibon<50)]"
   ]
  },
  {
   "cell_type": "markdown",
   "metadata": {},
   "source": [
    "3) Crie um programa para calcular a média e o desvio padrão de uma series. Observe o exemplo abaixo:"
   ]
  },
  {
   "cell_type": "code",
   "execution_count": 353,
   "metadata": {},
   "outputs": [
    {
     "data": {
      "text/plain": [
       "a    1\n",
       "b    2\n",
       "c    3\n",
       "d    4\n",
       "e    5\n",
       "f    6\n",
       "g    7\n",
       "h    8\n",
       "i    9\n",
       "j    5\n",
       "k    3\n",
       "dtype: int64"
      ]
     },
     "execution_count": 353,
     "metadata": {},
     "output_type": "execute_result"
    }
   ],
   "source": [
    "serie = pd.Series([1, 2, 3, 4, 5, 6, 7, 8, 9, 5, 3], index=[\"a\", \"b\", \"c\", \"d\", \"e\", \"f\", \"g\", \"h\", \"i\", \"j\", \"k\"])\n",
    "serie"
   ]
  },
  {
   "cell_type": "code",
   "execution_count": 354,
   "metadata": {},
   "outputs": [
    {
     "name": "stdout",
     "output_type": "stream",
     "text": [
      "9\n"
     ]
    }
   ],
   "source": [
    "#Dá p acessar das duas formas\n",
    "print(serie[\"i\"])"
   ]
  },
  {
   "cell_type": "code",
   "execution_count": 304,
   "metadata": {},
   "outputs": [
    {
     "name": "stdout",
     "output_type": "stream",
     "text": [
      "4.444444444444445\n",
      "2.351122663277647\n"
     ]
    }
   ],
   "source": [
    "from math import sqrt\n",
    "\n",
    "def media(serie):\n",
    "    serie = serie.dropna()\n",
    "    \n",
    "    soma = 0 \n",
    "    cont = 0\n",
    "    for elemento in serie.values:\n",
    "        soma += elemento\n",
    "        cont += 1\n",
    "    return soma / cont\n",
    "\n",
    "def desvio_padrao(serie):\n",
    "    serie = serie.dropna()\n",
    "    media_num = media(serie)\n",
    "\n",
    "    soma = 0\n",
    "    for elemento in serie.values:\n",
    "        if elemento == None or elemento == np.nan: #?\n",
    "            continue\n",
    "        distancia = elemento - media_num\n",
    "        soma += distancia ** 2\n",
    "\n",
    "    return sqrt(soma / (serie.count() - 1)) \n",
    "\n",
    "print(media(serie))\n",
    "print(desvio_padrao(serie))"
   ]
  },
  {
   "cell_type": "markdown",
   "metadata": {},
   "source": [
    "4) Crie um array com 20 números aleatórios inteiros entre 1 e 5. Em seguida, calcule a frequência (percentual) de cada valor específico da Series."
   ]
  },
  {
   "cell_type": "code",
   "execution_count": 364,
   "metadata": {},
   "outputs": [
    {
     "data": {
      "text/plain": [
       "0     2\n",
       "1     5\n",
       "2     5\n",
       "3     2\n",
       "4     4\n",
       "5     5\n",
       "6     3\n",
       "7     2\n",
       "8     3\n",
       "9     1\n",
       "10    2\n",
       "11    3\n",
       "12    5\n",
       "13    4\n",
       "14    5\n",
       "15    3\n",
       "16    1\n",
       "17    2\n",
       "18    4\n",
       "19    5\n",
       "dtype: int32"
      ]
     },
     "execution_count": 364,
     "metadata": {},
     "output_type": "execute_result"
    }
   ],
   "source": [
    "serie = pd.Series(np.random.randint(low=1, high=6, size=20))\n",
    "serie"
   ]
  },
  {
   "cell_type": "code",
   "execution_count": 365,
   "metadata": {},
   "outputs": [
    {
     "name": "stdout",
     "output_type": "stream",
     "text": [
      "Elemento 5: Frequência 30.0%\n",
      "Elemento 2: Frequência 25.0%\n",
      "Elemento 3: Frequência 20.0%\n",
      "Elemento 4: Frequência 15.0%\n",
      "Elemento 1: Frequência 10.0%\n"
     ]
    }
   ],
   "source": [
    "for index in serie.value_counts().index:\n",
    "    frequencia = (serie.value_counts()[index] / serie.count()) * 100\n",
    "    print(f\"Elemento {index}: Frequência {frequencia}%\")"
   ]
  },
  {
   "cell_type": "markdown",
   "metadata": {},
   "source": [
    "5) Crie um programa para mostrar qual é o valor mais frequente de uma series e, em seguida, substitua todos os demais valores dela por \"Outro valor\"."
   ]
  },
  {
   "cell_type": "code",
   "execution_count": 383,
   "metadata": {},
   "outputs": [
    {
     "data": {
      "text/plain": [
       "0     2\n",
       "1     5\n",
       "2     5\n",
       "3     2\n",
       "4     4\n",
       "5     5\n",
       "6     3\n",
       "7     2\n",
       "8     3\n",
       "9     1\n",
       "10    2\n",
       "11    3\n",
       "12    5\n",
       "13    4\n",
       "14    5\n",
       "15    3\n",
       "16    1\n",
       "17    2\n",
       "18    4\n",
       "19    5\n",
       "dtype: int32"
      ]
     },
     "execution_count": 383,
     "metadata": {},
     "output_type": "execute_result"
    }
   ],
   "source": [
    "serie"
   ]
  },
  {
   "cell_type": "code",
   "execution_count": 384,
   "metadata": {},
   "outputs": [
    {
     "name": "stdout",
     "output_type": "stream",
     "text": [
      "Valores de maior frequência: 5\n"
     ]
    },
    {
     "data": {
      "text/plain": [
       "0     Outro valor\n",
       "1               5\n",
       "2               5\n",
       "3     Outro valor\n",
       "4     Outro valor\n",
       "5               5\n",
       "6     Outro valor\n",
       "7     Outro valor\n",
       "8     Outro valor\n",
       "9     Outro valor\n",
       "10    Outro valor\n",
       "11    Outro valor\n",
       "12              5\n",
       "13    Outro valor\n",
       "14              5\n",
       "15    Outro valor\n",
       "16    Outro valor\n",
       "17    Outro valor\n",
       "18    Outro valor\n",
       "19              5\n",
       "dtype: object"
      ]
     },
     "execution_count": 384,
     "metadata": {},
     "output_type": "execute_result"
    }
   ],
   "source": [
    "valores_maior_frequencia = serie.value_counts()[serie.value_counts() == serie.value_counts().max()].index\n",
    "print(\"Valores de maior frequência:\", *valores_maior_frequencia)\n",
    "\n",
    "for index in serie.index:\n",
    "    if serie[index] not in valores_maior_frequencia:\n",
    "        serie[index] = \"Outro valor\"\n",
    "        \n",
    "serie"
   ]
  },
  {
   "cell_type": "markdown",
   "metadata": {},
   "source": [
    "6) Crie um array com números entre 1 e 10, com passo 1. Em seguida, embaralhe esses números utilizando o método shuffle do Numpy. Crie uma lista com o fatorial desses números, nessa nova ordem (após o embaralhamento). Por fim, crie uma Series cujo os valores são os fatoriais (embaralhados) e os índices são os números associados ao fatorial."
   ]
  },
  {
   "cell_type": "code",
   "execution_count": 399,
   "metadata": {},
   "outputs": [
    {
     "name": "stdout",
     "output_type": "stream",
     "text": [
      "[ 4  2  1  6  5  3  7 10  8  9]\n"
     ]
    },
    {
     "data": {
      "text/plain": [
       "4          24\n",
       "2           2\n",
       "1           1\n",
       "6         720\n",
       "5         120\n",
       "3           6\n",
       "7        5040\n",
       "10    3628800\n",
       "8       40320\n",
       "9      362880\n",
       "dtype: int64"
      ]
     },
     "execution_count": 399,
     "metadata": {},
     "output_type": "execute_result"
    }
   ],
   "source": [
    "from sklearn.utils import shuffle\n",
    "\n",
    "array = np.arange(1, 11)\n",
    "array = shuffle(array)\n",
    "\n",
    "fatorial = [math.factorial(elemento) for elemento in array]\n",
    "\n",
    "series = pd.Series(fatorial, index=array)\n",
    "series"
   ]
  },
  {
   "cell_type": "markdown",
   "metadata": {},
   "source": [
    "LC PANDAS 2 ------------------------------------------------------------------------------"
   ]
  },
  {
   "cell_type": "code",
   "execution_count": null,
   "metadata": {},
   "outputs": [],
   "source": []
  }
 ],
 "metadata": {
  "kernelspec": {
   "display_name": "Python 3",
   "language": "python",
   "name": "python3"
  },
  "language_info": {
   "codemirror_mode": {
    "name": "ipython",
    "version": 3
   },
   "file_extension": ".py",
   "mimetype": "text/x-python",
   "name": "python",
   "nbconvert_exporter": "python",
   "pygments_lexer": "ipython3",
   "version": "3.8.5"
  }
 },
 "nbformat": 4,
 "nbformat_minor": 4
}
