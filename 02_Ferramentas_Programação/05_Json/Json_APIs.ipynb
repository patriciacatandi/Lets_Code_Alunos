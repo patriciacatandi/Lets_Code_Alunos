{
  "nbformat": 4,
  "nbformat_minor": 0,
  "metadata": {
    "kernelspec": {
      "display_name": "Python 3",
      "language": "python",
      "name": "python3"
    },
    "language_info": {
      "codemirror_mode": {
        "name": "ipython",
        "version": 3
      },
      "file_extension": ".py",
      "mimetype": "text/x-python",
      "name": "python",
      "nbconvert_exporter": "python",
      "pygments_lexer": "ipython3",
      "version": "3.7.3"
    },
    "colab": {
      "name": "Json_APIs.ipynb",
      "provenance": []
    }
  },
  "cells": [
    {
      "cell_type": "markdown",
      "metadata": {
        "id": "f4iqBxBIEWsG"
      },
      "source": [
        "# Acesso aos dados via API"
      ]
    },
    {
      "cell_type": "markdown",
      "metadata": {
        "id": "zQYB3T4IEWsM"
      },
      "source": [
        "Alguns sites disponibilizam APIs (Application Programming Interface) para a captura de dados. Isso quer dizer, que o site criou uma série de URLs pelas quais os dados são fornecidos de forma 'pura'. O formato mais comum é o [JSON](https://www.json.org/json-en.html) (JavaScript Object Notation). Ele é uma forma muito usada para troca de dados entre sistemas, mas outros podem ser usados, como por exemplo o XML. "
      ]
    },
    {
      "cell_type": "markdown",
      "metadata": {
        "id": "qCkg0MYvEWsN"
      },
      "source": [
        "#### Vantagens do JSON\n",
        "\n",
        "* Leitura mais simples\n",
        "* Analisador(parsing) mais fácil\n",
        "* JSON suporta objetos! Sim, ele é tipado!\n",
        "* Velocidade maior na execução e transporte de dados\n",
        "* Arquivo com tamanho reduzido\n",
        "* Quem utiliza? Google, Facebook, Yahoo!, Twitter..."
      ]
    },
    {
      "cell_type": "markdown",
      "metadata": {
        "id": "ZbgUki7yEWsO"
      },
      "source": [
        "![alt text](https://github.com/patriciacatandi/Lets_Code_Alunos/blob/main/02_Ferramentas_Programa%C3%A7%C3%A3o/05_Json/imagens/json_formato.png?raw=1)\n"
      ]
    },
    {
      "cell_type": "markdown",
      "metadata": {
        "id": "0y7fNuYkEWsP"
      },
      "source": [
        "### API REST "
      ]
    },
    {
      "cell_type": "markdown",
      "metadata": {
        "id": "vbH3YySEEWsP"
      },
      "source": [
        "Para fins didáticos, vamos usar uma API Fake https://jsonplaceholder.typicode.com/"
      ]
    },
    {
      "cell_type": "markdown",
      "metadata": {
        "id": "EFkvjM2VEWsQ"
      },
      "source": [
        "GET: usado para recuperar informação, normalmente o que nós mais usamos no contexto de ciência de dados\n"
      ]
    },
    {
      "cell_type": "code",
      "metadata": {
        "id": "oNchEJ3qEWsR"
      },
      "source": [
        "url = 'https://jsonplaceholder.typicode.com/posts/1'\n",
        "\n",
        "response = requests.get(url)\n",
        "print(response.json())"
      ],
      "execution_count": null,
      "outputs": []
    },
    {
      "cell_type": "markdown",
      "metadata": {
        "id": "CYa1IBt8EWsT"
      },
      "source": [
        "POST: usado para enviar uma informação para o servidor\n"
      ]
    },
    {
      "cell_type": "code",
      "metadata": {
        "id": "MbP18wdfEWsT"
      },
      "source": [
        "url = 'https://jsonplaceholder.typicode.com/posts'\n",
        "\n",
        "# data={'key': 'value'}\n",
        "data = { 'title': 'compras','body': 'Preciso de um mouse novo !','userId': 9,}\n",
        "headers = {'content-type': 'application/json; charset=UTF-8'}\n",
        "\n",
        "response = requests.post(url, data=json.dumps(data), headers=headers)\n",
        "print(response.content)\n",
        "\n"
      ],
      "execution_count": null,
      "outputs": []
    },
    {
      "cell_type": "code",
      "metadata": {
        "id": "IKggitxeEWsU"
      },
      "source": [
        "# response.status_code"
      ],
      "execution_count": null,
      "outputs": []
    },
    {
      "cell_type": "code",
      "metadata": {
        "id": "OmZTZyaqEWsV"
      },
      "source": [
        "# response.headers"
      ],
      "execution_count": null,
      "outputs": []
    },
    {
      "cell_type": "code",
      "metadata": {
        "id": "dk0vq--xEWsV"
      },
      "source": [
        "url = 'https://jsonplaceholder.typicode.com/posts/101'\n",
        "\n",
        "response = requests.get(url)\n",
        "print(response.json())"
      ],
      "execution_count": null,
      "outputs": []
    },
    {
      "cell_type": "markdown",
      "metadata": {
        "id": "F5efDLufEWsW"
      },
      "source": [
        "PUT: usado para atualizar uma informação \n"
      ]
    },
    {
      "cell_type": "code",
      "metadata": {
        "id": "6XIrROIeEWsW"
      },
      "source": [
        "url = 'https://jsonplaceholder.typicode.com/posts/1'\n",
        "data = {'id':1, 'userId':2, 'title':'drink cold milk', 'body':'drinking water is important'}\n",
        "headers = {'Content-Type':'application/json; charset=UTF-8'}\n",
        "response = requests.put(url, data=json.dumps(data), headers=headers)\n",
        "\n",
        "\n",
        "print(response.content)"
      ],
      "execution_count": null,
      "outputs": []
    },
    {
      "cell_type": "markdown",
      "metadata": {
        "id": "192ccwqSEWsW"
      },
      "source": [
        "DELETE: usado para deletar uma informação "
      ]
    },
    {
      "cell_type": "code",
      "metadata": {
        "id": "Tf3gg73REWsW"
      },
      "source": [
        "url = 'https://jsonplaceholder.typicode.com/posts/1'\n",
        "headers = {'Content-Type': 'application/json; charset=UTF-8'}\n",
        "response = requests.delete(url, headers=headers)\n",
        "\n",
        "print(response.content) # <class 'str'>"
      ],
      "execution_count": null,
      "outputs": []
    },
    {
      "cell_type": "markdown",
      "metadata": {
        "id": "6frPqdWVEWsX"
      },
      "source": [
        "# Vamos começar a trabalhar com alguns dados! "
      ]
    },
    {
      "cell_type": "code",
      "metadata": {
        "id": "VBMU1s7qEWsX"
      },
      "source": [
        "import pandas as pd\n",
        "import numpy as np\n",
        "import requests\n",
        "import json"
      ],
      "execution_count": null,
      "outputs": []
    },
    {
      "cell_type": "markdown",
      "metadata": {
        "id": "BkM7oogXEWsX"
      },
      "source": [
        "https://viacep.com.br/?ref=devresourc.es"
      ]
    },
    {
      "cell_type": "markdown",
      "metadata": {
        "id": "PPZSMeieEWsY"
      },
      "source": [
        "## Acessando uma API"
      ]
    },
    {
      "cell_type": "code",
      "metadata": {
        "id": "gR93MT6DEWsY"
      },
      "source": [
        "response = requests.get('http://viacep.com.br/ws/01001000/json/').text"
      ],
      "execution_count": null,
      "outputs": []
    },
    {
      "cell_type": "code",
      "metadata": {
        "scrolled": true,
        "id": "ejR-K0xbEWsY"
      },
      "source": [
        "response"
      ],
      "execution_count": null,
      "outputs": []
    },
    {
      "cell_type": "code",
      "metadata": {
        "scrolled": true,
        "id": "oMGK9LksEWsY"
      },
      "source": [
        "requests.get('http://viacep.com.br/ws/000/json/').text # formato errado"
      ],
      "execution_count": null,
      "outputs": []
    },
    {
      "cell_type": "code",
      "metadata": {
        "id": "1b21NHTiEWsY"
      },
      "source": [
        "requests.get('http://viacep.com.br/ws/99999999/json/').text # formato correto, porem inexistente"
      ],
      "execution_count": null,
      "outputs": []
    },
    {
      "cell_type": "code",
      "metadata": {
        "id": "60tMplwREWsZ"
      },
      "source": [
        " \n",
        "requests_ends = requests.get('http://viacep.com.br/ws/RS/Porto Alegre/Domingos/json/').text #busca por enderenco"
      ],
      "execution_count": null,
      "outputs": []
    },
    {
      "cell_type": "markdown",
      "metadata": {
        "id": "xBbfbMSNEWsZ"
      },
      "source": [
        "### Tratando os dados: transformando em dicionário"
      ]
    },
    {
      "cell_type": "code",
      "metadata": {
        "id": "7I0aAebaEWsZ"
      },
      "source": [
        "response_info = json.loads(response)"
      ],
      "execution_count": null,
      "outputs": []
    },
    {
      "cell_type": "code",
      "metadata": {
        "scrolled": true,
        "id": "S3SfOYpQEWsZ"
      },
      "source": [
        "response_info"
      ],
      "execution_count": null,
      "outputs": []
    },
    {
      "cell_type": "code",
      "metadata": {
        "scrolled": true,
        "id": "XD-TdWHWEWsZ"
      },
      "source": [
        "print('Logradouro: ', response_info['logradouro'])"
      ],
      "execution_count": null,
      "outputs": []
    },
    {
      "cell_type": "code",
      "metadata": {
        "id": "ot2ABV_IEWsa"
      },
      "source": [
        "requests_ends_dict = json.loads(requests_ends)"
      ],
      "execution_count": null,
      "outputs": []
    },
    {
      "cell_type": "markdown",
      "metadata": {
        "id": "Tf1B3WNYEWsa"
      },
      "source": [
        "### data frame "
      ]
    },
    {
      "cell_type": "code",
      "metadata": {
        "scrolled": false,
        "id": "X5Tkj_W1EWsa"
      },
      "source": [
        "# dict to df\n",
        "\n",
        "df_cep = pd.DataFrame.from_dict(response_info, orient='index')\n",
        "df_cep"
      ],
      "execution_count": null,
      "outputs": []
    },
    {
      "cell_type": "code",
      "metadata": {
        "id": "kYaPDXhAEWsa"
      },
      "source": [
        "pd.DataFrame.from_dict(requests_ends_dict)"
      ],
      "execution_count": null,
      "outputs": []
    },
    {
      "cell_type": "markdown",
      "metadata": {
        "id": "cuFfJjuoEWsa"
      },
      "source": [
        "### Extraindo uma lista "
      ]
    },
    {
      "cell_type": "code",
      "metadata": {
        "id": "jWmrK41CEWsa"
      },
      "source": [
        "# lista de ceps\n",
        "ceps = ['01001000', '04304111']\n",
        "dicts_list = []\n",
        "p1 = 'http://viacep.com.br/ws/'\n",
        "p3 = '/json/'\n",
        "for i in ceps:\n",
        "    search = p1+i+p3\n",
        "    response = requests.get(search).text\n",
        "    dicts_list.append(json.loads(response))"
      ],
      "execution_count": null,
      "outputs": []
    },
    {
      "cell_type": "code",
      "metadata": {
        "scrolled": true,
        "id": "Y3ekkMphEWsb"
      },
      "source": [
        "dicts_list"
      ],
      "execution_count": null,
      "outputs": []
    },
    {
      "cell_type": "code",
      "metadata": {
        "scrolled": true,
        "id": "rYJS_o7_EWsb"
      },
      "source": [
        "pd.DataFrame(dicts_list)"
      ],
      "execution_count": null,
      "outputs": []
    },
    {
      "cell_type": "code",
      "metadata": {
        "id": "UlzQbebNEWsb"
      },
      "source": [
        ""
      ],
      "execution_count": null,
      "outputs": []
    },
    {
      "cell_type": "markdown",
      "metadata": {
        "id": "YOfDSf5PEWsb"
      },
      "source": [
        "## Referências\n",
        "\n",
        "* https://pt.linkedin.com/pulse/consumindo-api-e-tratando-dados-com-python-alexandre-tavares\n",
        "* https://docs.python-requests.org/en/latest/user/quickstart/\n",
        "* https://towardsdatascience.com/json-and-apis-with-python-fba329ef6ef0"
      ]
    }
  ]
}