{
 "cells": [
  {
   "cell_type": "code",
   "execution_count": 4,
   "metadata": {},
   "outputs": [],
   "source": [
    "import requests\n",
    "import json"
   ]
  },
  {
   "cell_type": "markdown",
   "metadata": {},
   "source": [
    "# Acesso aos dados via API"
   ]
  },
  {
   "cell_type": "markdown",
   "metadata": {},
   "source": [
    "Alguns sites disponibilizam APIs (Application Programming Interface) para a captura de dados. Isso quer dizer, que o site criou uma série de URLs pelas quais os dados são fornecidos de forma 'pura'. O formato mais comum é o [JSON](https://www.json.org/json-en.html) (JavaScript Object Notation). Ele é uma forma muito usada para troca de dados entre sistemas, mas outros podem ser usados, como por exemplo o XML. "
   ]
  },
  {
   "cell_type": "markdown",
   "metadata": {},
   "source": [
    "#### Vantagens do JSON\n",
    "\n",
    "* Leitura mais simples\n",
    "* Analisador(parsing) mais fácil\n",
    "* JSON suporta objetos! Sim, ele é tipado!\n",
    "* Velocidade maior na execução e transporte de dados\n",
    "* Arquivo com tamanho reduzido\n",
    "* Quem utiliza? Google, Facebook, Yahoo!, Twitter..."
   ]
  },
  {
   "cell_type": "markdown",
   "metadata": {},
   "source": [
    "![alt text](imagens/json_formato.png)\n"
   ]
  },
  {
   "cell_type": "markdown",
   "metadata": {},
   "source": [
    "### API REST "
   ]
  },
  {
   "cell_type": "markdown",
   "metadata": {},
   "source": [
    "Para fins didáticos, vamos usar uma API Fake https://jsonplaceholder.typicode.com/"
   ]
  },
  {
   "cell_type": "markdown",
   "metadata": {},
   "source": [
    "GET: usado para recuperar informação, normalmente o que nós mais usamos no contexto de ciência de dados\n"
   ]
  },
  {
   "cell_type": "code",
   "execution_count": 2,
   "metadata": {},
   "outputs": [
    {
     "name": "stdout",
     "output_type": "stream",
     "text": [
      "{'userId': 1, 'id': 1, 'title': 'sunt aut facere repellat provident occaecati excepturi optio reprehenderit', 'body': 'quia et suscipit\\nsuscipit recusandae consequuntur expedita et cum\\nreprehenderit molestiae ut ut quas totam\\nnostrum rerum est autem sunt rem eveniet architecto'}\n"
     ]
    }
   ],
   "source": [
    "url = 'https://jsonplaceholder.typicode.com/posts/1'\n",
    "\n",
    "response = requests.get(url)\n",
    "print(response.json())"
   ]
  },
  {
   "cell_type": "markdown",
   "metadata": {},
   "source": [
    "POST: usado para enviar uma informação para o servidor\n"
   ]
  },
  {
   "cell_type": "code",
   "execution_count": 5,
   "metadata": {},
   "outputs": [
    {
     "name": "stdout",
     "output_type": "stream",
     "text": [
      "b'{\\n  \"title\": \"compras\",\\n  \"body\": \"Preciso de um mouse novo !\",\\n  \"userId\": 9,\\n  \"id\": 101\\n}'\n"
     ]
    }
   ],
   "source": [
    "url = 'https://jsonplaceholder.typicode.com/posts'\n",
    "\n",
    "# data={'key': 'value'}\n",
    "data = { 'title': 'compras','body': 'Preciso de um mouse novo !','userId': 9,}\n",
    "headers = {'content-type': 'application/json; charset=UTF-8'}\n",
    "\n",
    "response = requests.post(url, data=json.dumps(data), headers=headers)\n",
    "print(response.content)"
   ]
  },
  {
   "cell_type": "code",
   "execution_count": 16,
   "metadata": {},
   "outputs": [
    {
     "data": {
      "text/plain": [
       "201"
      ]
     },
     "execution_count": 16,
     "metadata": {},
     "output_type": "execute_result"
    }
   ],
   "source": [
    "response.status_code\n",
    "#201 deu certo"
   ]
  },
  {
   "cell_type": "code",
   "execution_count": 17,
   "metadata": {},
   "outputs": [
    {
     "data": {
      "text/plain": [
       "{'Date': 'Thu, 18 Nov 2021 19:45:18 GMT', 'Content-Type': 'application/json; charset=utf-8', 'Content-Length': '92', 'Connection': 'keep-alive', 'x-powered-by': 'Express', 'x-ratelimit-limit': '1000', 'x-ratelimit-remaining': '999', 'x-ratelimit-reset': '1637264769', 'vary': 'Origin, X-HTTP-Method-Override, Accept-Encoding', 'access-control-allow-credentials': 'true', 'cache-control': 'no-cache', 'pragma': 'no-cache', 'expires': '-1', 'access-control-expose-headers': 'Location', 'location': 'http://jsonplaceholder.typicode.com/posts/101', 'x-content-type-options': 'nosniff', 'etag': 'W/\"5c-JaqVibBG4L3BG4WBSMUZ5GGC6bc\"', 'via': '1.1 vegur', 'CF-Cache-Status': 'DYNAMIC', 'Expect-CT': 'max-age=604800, report-uri=\"https://report-uri.cloudflare.com/cdn-cgi/beacon/expect-ct\"', 'Report-To': '{\"endpoints\":[{\"url\":\"https:\\\\/\\\\/a.nel.cloudflare.com\\\\/report\\\\/v3?s=BcwwHGqNR1oOIHEP8R7FuEQPdPab5YjXENVNiruIvwUmM%2BTUGvJIbTzuQFNnnZ2UJHLqx6tQN%2FljWq7ydHmHbWWdp%2BbzU%2BTr2JNIEHzQzIFFDRDhPeMBw%2B5tNPZSU%2BUxny4NvZpMh%2FkzaykooR2KUJGbosLGJEMaJPAs\"}],\"group\":\"cf-nel\",\"max_age\":604800}', 'NEL': '{\"success_fraction\":0,\"report_to\":\"cf-nel\",\"max_age\":604800}', 'Server': 'cloudflare', 'CF-RAY': '6b03b2cb6ff12677-GIG', 'alt-svc': 'h3=\":443\"; ma=86400, h3-29=\":443\"; ma=86400, h3-28=\":443\"; ma=86400, h3-27=\":443\"; ma=86400'}"
      ]
     },
     "execution_count": 17,
     "metadata": {},
     "output_type": "execute_result"
    }
   ],
   "source": [
    "response.headers"
   ]
  },
  {
   "cell_type": "code",
   "execution_count": 22,
   "metadata": {},
   "outputs": [
    {
     "name": "stdout",
     "output_type": "stream",
     "text": [
      "{}\n"
     ]
    }
   ],
   "source": [
    "url = 'https://jsonplaceholder.typicode.com/posts/101'\n",
    "\n",
    "response = requests.get(url)\n",
    "print(response.json())\n",
    "#Só não veio certinho pq é uma API fake (seria oq demos o post de id 101)"
   ]
  },
  {
   "cell_type": "markdown",
   "metadata": {},
   "source": [
    "PUT: usado para atualizar uma informação \n"
   ]
  },
  {
   "cell_type": "code",
   "execution_count": 23,
   "metadata": {},
   "outputs": [
    {
     "name": "stdout",
     "output_type": "stream",
     "text": [
      "b'{\\n  \"id\": 1,\\n  \"userId\": 2,\\n  \"title\": \"drink cold milk\",\\n  \"body\": \"drinking water is important\"\\n}'\n"
     ]
    }
   ],
   "source": [
    "url = 'https://jsonplaceholder.typicode.com/posts/1'\n",
    "data = {'id':1, 'userId':2, 'title':'drink cold milk', 'body':'drinking water is important'}\n",
    "headers = {'Content-Type':'application/json; charset=UTF-8'}\n",
    "response = requests.put(url, data=json.dumps(data), headers=headers)\n",
    "\n",
    "\n",
    "print(response.content)"
   ]
  },
  {
   "cell_type": "markdown",
   "metadata": {},
   "source": [
    "DELETE: usado para deletar uma informação "
   ]
  },
  {
   "cell_type": "code",
   "execution_count": 25,
   "metadata": {},
   "outputs": [
    {
     "name": "stdout",
     "output_type": "stream",
     "text": [
      "b'{}'\n"
     ]
    }
   ],
   "source": [
    "url = 'https://jsonplaceholder.typicode.com/posts/1'\n",
    "headers = {'Content-Type': 'application/json; charset=UTF-8'}\n",
    "response = requests.delete(url, headers=headers)\n",
    "\n",
    "print(response.content) # <class 'str'>"
   ]
  },
  {
   "cell_type": "markdown",
   "metadata": {},
   "source": [
    "# Vamos começar a trabalhar com alguns dados! "
   ]
  },
  {
   "cell_type": "code",
   "execution_count": 6,
   "metadata": {},
   "outputs": [],
   "source": [
    "import pandas as pd\n",
    "import numpy as np"
   ]
  },
  {
   "cell_type": "markdown",
   "metadata": {},
   "source": [
    "https://viacep.com.br/?ref=devresourc.es"
   ]
  },
  {
   "cell_type": "markdown",
   "metadata": {},
   "source": [
    "## Acessando uma API"
   ]
  },
  {
   "cell_type": "code",
   "execution_count": 7,
   "metadata": {},
   "outputs": [],
   "source": [
    "response = requests.get('http://viacep.com.br/ws/01001000/json/').text"
   ]
  },
  {
   "cell_type": "code",
   "execution_count": 8,
   "metadata": {
    "scrolled": true
   },
   "outputs": [
    {
     "data": {
      "text/plain": [
       "'{\\n  \"cep\": \"01001-000\",\\n  \"logradouro\": \"Praça da Sé\",\\n  \"complemento\": \"lado ímpar\",\\n  \"bairro\": \"Sé\",\\n  \"localidade\": \"São Paulo\",\\n  \"uf\": \"SP\",\\n  \"ibge\": \"3550308\",\\n  \"gia\": \"1004\",\\n  \"ddd\": \"11\",\\n  \"siafi\": \"7107\"\\n}'"
      ]
     },
     "execution_count": 8,
     "metadata": {},
     "output_type": "execute_result"
    }
   ],
   "source": [
    "response"
   ]
  },
  {
   "cell_type": "code",
   "execution_count": 9,
   "metadata": {
    "scrolled": true
   },
   "outputs": [
    {
     "data": {
      "text/plain": [
       "'<!DOCTYPE HTML>\\n<html lang=\"pt-br\">\\n\\n<head>\\n  <title>ViaCEP 400</title>\\n  <meta charset=\"utf-8\" />\\n  <style type=\"text/css\">\\n      h1 {\\n          color: #666;\\n          text-align: center;\\n          font-size: 4em;\\n      }\\n      h2, h3 {\\n          color: #777;\\n          text-align: center;\\n          font-size: 3em;\\n      }\\n      h3 {\\n          font-size: 1.5em;\\n      }\\n  </style>\\n</head>\\n\\n<body>\\n    <h1>Erro 400</h1>\\n    <h2>Ops!</h2>\\n    <h3>Verifique a sua URL (Bad Request)</h3>\\n</body>\\n\\n</html>\\n'"
      ]
     },
     "execution_count": 9,
     "metadata": {},
     "output_type": "execute_result"
    }
   ],
   "source": [
    "requests.get('http://viacep.com.br/ws/000/json/').text # formato errado"
   ]
  },
  {
   "cell_type": "code",
   "execution_count": 10,
   "metadata": {},
   "outputs": [
    {
     "data": {
      "text/plain": [
       "'{\\n  \"erro\": true\\n}'"
      ]
     },
     "execution_count": 10,
     "metadata": {},
     "output_type": "execute_result"
    }
   ],
   "source": [
    "requests.get('http://viacep.com.br/ws/99999999/json/').text # formato correto, porem inexistente"
   ]
  },
  {
   "cell_type": "code",
   "execution_count": 11,
   "metadata": {},
   "outputs": [],
   "source": [
    " requests_ends = requests.get('http://viacep.com.br/ws/RS/Porto Alegre/Domingos/json/').text #busca por enderenco"
   ]
  },
  {
   "cell_type": "code",
   "execution_count": 12,
   "metadata": {},
   "outputs": [
    {
     "data": {
      "text/plain": [
       "'[\\n  {\\n    \"cep\": \"91420-270\",\\n    \"logradouro\": \"Rua São Domingos\",\\n    \"complemento\": \"\",\\n    \"bairro\": \"Bom Jesus\",\\n    \"localidade\": \"Porto Alegre\",\\n    \"uf\": \"RS\",\\n    \"ibge\": \"4314902\",\\n    \"gia\": \"\",\\n    \"ddd\": \"51\",\\n    \"siafi\": \"8801\"\\n  },\\n  {\\n    \"cep\": \"91040-000\",\\n    \"logradouro\": \"Rua Domingos Rubbo\",\\n    \"complemento\": \"\",\\n    \"bairro\": \"Cristo Redentor\",\\n    \"localidade\": \"Porto Alegre\",\\n    \"uf\": \"RS\",\\n    \"ibge\": \"4314902\",\\n    \"gia\": \"\",\\n    \"ddd\": \"51\",\\n    \"siafi\": \"8801\"\\n  },\\n  {\\n    \"cep\": \"91040-320\",\\n    \"logradouro\": \"Rua Domingos Martins\",\\n    \"complemento\": \"\",\\n    \"bairro\": \"Cristo Redentor\",\\n    \"localidade\": \"Porto Alegre\",\\n    \"uf\": \"RS\",\\n    \"ibge\": \"4314902\",\\n    \"gia\": \"\",\\n    \"ddd\": \"51\",\\n    \"siafi\": \"8801\"\\n  },\\n  {\\n    \"cep\": \"91120-090\",\\n    \"logradouro\": \"Rua Domingos de Abreu\",\\n    \"complemento\": \"\",\\n    \"bairro\": \"Sarandi\",\\n    \"localidade\": \"Porto Alegre\",\\n    \"uf\": \"RS\",\\n    \"ibge\": \"4314902\",\\n    \"gia\": \"\",\\n    \"ddd\": \"51\",\\n    \"siafi\": \"8801\"\\n  },\\n  {\\n    \"cep\": \"91910-450\",\\n    \"logradouro\": \"Rua Domingos da Silva\",\\n    \"complemento\": \"\",\\n    \"bairro\": \"Camaquã\",\\n    \"localidade\": \"Porto Alegre\",\\n    \"uf\": \"RS\",\\n    \"ibge\": \"4314902\",\\n    \"gia\": \"\",\\n    \"ddd\": \"51\",\\n    \"siafi\": \"8801\"\\n  },\\n  {\\n    \"cep\": \"91360-040\",\\n    \"logradouro\": \"Rua Domingos Seguézio\",\\n    \"complemento\": \"\",\\n    \"bairro\": \"Vila Ipiranga\",\\n    \"localidade\": \"Porto Alegre\",\\n    \"uf\": \"RS\",\\n    \"ibge\": \"4314902\",\\n    \"gia\": \"\",\\n    \"ddd\": \"51\",\\n    \"siafi\": \"8801\"\\n  },\\n  {\\n    \"cep\": \"91790-072\",\\n    \"logradouro\": \"Rua Domingos José Poli\",\\n    \"complemento\": \"\",\\n    \"bairro\": \"Restinga\",\\n    \"localidade\": \"Porto Alegre\",\\n    \"uf\": \"RS\",\\n    \"ibge\": \"4314902\",\\n    \"gia\": \"\",\\n    \"ddd\": \"51\",\\n    \"siafi\": \"8801\"\\n  },\\n  {\\n    \"cep\": \"91160-080\",\\n    \"logradouro\": \"Rua Luiz Domingos Ramos\",\\n    \"complemento\": \"\",\\n    \"bairro\": \"Santa Rosa de Lima\",\\n    \"localidade\": \"Porto Alegre\",\\n    \"uf\": \"RS\",\\n    \"ibge\": \"4314902\",\\n    \"gia\": \"\",\\n    \"ddd\": \"51\",\\n    \"siafi\": \"8801\"\\n  },\\n  {\\n    \"cep\": \"90650-090\",\\n    \"logradouro\": \"Rua Domingos Crescêncio\",\\n    \"complemento\": \"\",\\n    \"bairro\": \"Santana\",\\n    \"localidade\": \"Porto Alegre\",\\n    \"uf\": \"RS\",\\n    \"ibge\": \"4314902\",\\n    \"gia\": \"\",\\n    \"ddd\": \"51\",\\n    \"siafi\": \"8801\"\\n  },\\n  {\\n    \"cep\": \"91910-420\",\\n    \"logradouro\": \"Rua José Domingos Varella\",\\n    \"complemento\": \"\",\\n    \"bairro\": \"Cavalhada\",\\n    \"localidade\": \"Porto Alegre\",\\n    \"uf\": \"RS\",\\n    \"ibge\": \"4314902\",\\n    \"gia\": \"\",\\n    \"ddd\": \"51\",\\n    \"siafi\": \"8801\"\\n  },\\n  {\\n    \"cep\": \"91120-480\",\\n    \"logradouro\": \"Rua Domingos Antônio Santoro\",\\n    \"complemento\": \"\",\\n    \"bairro\": \"Sarandi\",\\n    \"localidade\": \"Porto Alegre\",\\n    \"uf\": \"RS\",\\n    \"ibge\": \"4314902\",\\n    \"gia\": \"\",\\n    \"ddd\": \"51\",\\n    \"siafi\": \"8801\"\\n  },\\n  {\\n    \"cep\": \"91790-101\",\\n    \"logradouro\": \"Rua Domingos Manoel Mincarone\",\\n    \"complemento\": \"\",\\n    \"bairro\": \"Restinga\",\\n    \"localidade\": \"Porto Alegre\",\\n    \"uf\": \"RS\",\\n    \"ibge\": \"4314902\",\\n    \"gia\": \"\",\\n    \"ddd\": \"51\",\\n    \"siafi\": \"8801\"\\n  },\\n  {\\n    \"cep\": \"90420-200\",\\n    \"logradouro\": \"Rua Domingos José de Almeida\",\\n    \"complemento\": \"\",\\n    \"bairro\": \"Rio Branco\",\\n    \"localidade\": \"Porto Alegre\",\\n    \"uf\": \"RS\",\\n    \"ibge\": \"4314902\",\\n    \"gia\": \"\",\\n    \"ddd\": \"51\",\\n    \"siafi\": \"8801\"\\n  },\\n  {\\n    \"cep\": \"91261-304\",\\n    \"logradouro\": \"Rua Domingos Mullet Rodrigues\",\\n    \"complemento\": \"\",\\n    \"bairro\": \"Mário Quintana\",\\n    \"localidade\": \"Porto Alegre\",\\n    \"uf\": \"RS\",\\n    \"ibge\": \"4314902\",\\n    \"gia\": \"\",\\n    \"ddd\": \"51\",\\n    \"siafi\": \"8801\"\\n  },\\n  {\\n    \"cep\": \"91540-650\",\\n    \"logradouro\": \"Acesso Olavo Domingos de Oliveira\",\\n    \"complemento\": \"\",\\n    \"bairro\": \"Jardim Carvalho\",\\n    \"localidade\": \"Porto Alegre\",\\n    \"uf\": \"RS\",\\n    \"ibge\": \"4314902\",\\n    \"gia\": \"\",\\n    \"ddd\": \"51\",\\n    \"siafi\": \"8801\"\\n  },\\n  {\\n    \"cep\": \"91740-650\",\\n    \"logradouro\": \"Praça Domingos Fernandes de Souza\",\\n    \"complemento\": \"\",\\n    \"bairro\": \"Cavalhada\",\\n    \"localidade\": \"Porto Alegre\",\\n    \"uf\": \"RS\",\\n    \"ibge\": \"4314902\",\\n    \"gia\": \"\",\\n    \"ddd\": \"51\",\\n    \"siafi\": \"8801\"\\n  }\\n]'"
      ]
     },
     "execution_count": 12,
     "metadata": {},
     "output_type": "execute_result"
    }
   ],
   "source": [
    "requests_ends"
   ]
  },
  {
   "cell_type": "markdown",
   "metadata": {},
   "source": [
    "### Tratando os dados: transformando em dicionário"
   ]
  },
  {
   "cell_type": "code",
   "execution_count": 15,
   "metadata": {},
   "outputs": [],
   "source": [
    "response_info = json.loads(response) #Transforma em um dicionário"
   ]
  },
  {
   "cell_type": "code",
   "execution_count": 16,
   "metadata": {
    "scrolled": true
   },
   "outputs": [
    {
     "data": {
      "text/plain": [
       "{'cep': '01001-000',\n",
       " 'logradouro': 'Praça da Sé',\n",
       " 'complemento': 'lado ímpar',\n",
       " 'bairro': 'Sé',\n",
       " 'localidade': 'São Paulo',\n",
       " 'uf': 'SP',\n",
       " 'ibge': '3550308',\n",
       " 'gia': '1004',\n",
       " 'ddd': '11',\n",
       " 'siafi': '7107'}"
      ]
     },
     "execution_count": 16,
     "metadata": {},
     "output_type": "execute_result"
    }
   ],
   "source": [
    "response_info"
   ]
  },
  {
   "cell_type": "code",
   "execution_count": 17,
   "metadata": {
    "scrolled": true
   },
   "outputs": [
    {
     "name": "stdout",
     "output_type": "stream",
     "text": [
      "Logradouro:  Praça da Sé\n"
     ]
    }
   ],
   "source": [
    "print('Logradouro: ', response_info['logradouro'])"
   ]
  },
  {
   "cell_type": "code",
   "execution_count": 19,
   "metadata": {},
   "outputs": [
    {
     "data": {
      "text/plain": [
       "[{'cep': '91420-270',\n",
       "  'logradouro': 'Rua São Domingos',\n",
       "  'complemento': '',\n",
       "  'bairro': 'Bom Jesus',\n",
       "  'localidade': 'Porto Alegre',\n",
       "  'uf': 'RS',\n",
       "  'ibge': '4314902',\n",
       "  'gia': '',\n",
       "  'ddd': '51',\n",
       "  'siafi': '8801'},\n",
       " {'cep': '91040-000',\n",
       "  'logradouro': 'Rua Domingos Rubbo',\n",
       "  'complemento': '',\n",
       "  'bairro': 'Cristo Redentor',\n",
       "  'localidade': 'Porto Alegre',\n",
       "  'uf': 'RS',\n",
       "  'ibge': '4314902',\n",
       "  'gia': '',\n",
       "  'ddd': '51',\n",
       "  'siafi': '8801'},\n",
       " {'cep': '91040-320',\n",
       "  'logradouro': 'Rua Domingos Martins',\n",
       "  'complemento': '',\n",
       "  'bairro': 'Cristo Redentor',\n",
       "  'localidade': 'Porto Alegre',\n",
       "  'uf': 'RS',\n",
       "  'ibge': '4314902',\n",
       "  'gia': '',\n",
       "  'ddd': '51',\n",
       "  'siafi': '8801'},\n",
       " {'cep': '91120-090',\n",
       "  'logradouro': 'Rua Domingos de Abreu',\n",
       "  'complemento': '',\n",
       "  'bairro': 'Sarandi',\n",
       "  'localidade': 'Porto Alegre',\n",
       "  'uf': 'RS',\n",
       "  'ibge': '4314902',\n",
       "  'gia': '',\n",
       "  'ddd': '51',\n",
       "  'siafi': '8801'},\n",
       " {'cep': '91910-450',\n",
       "  'logradouro': 'Rua Domingos da Silva',\n",
       "  'complemento': '',\n",
       "  'bairro': 'Camaquã',\n",
       "  'localidade': 'Porto Alegre',\n",
       "  'uf': 'RS',\n",
       "  'ibge': '4314902',\n",
       "  'gia': '',\n",
       "  'ddd': '51',\n",
       "  'siafi': '8801'},\n",
       " {'cep': '91360-040',\n",
       "  'logradouro': 'Rua Domingos Seguézio',\n",
       "  'complemento': '',\n",
       "  'bairro': 'Vila Ipiranga',\n",
       "  'localidade': 'Porto Alegre',\n",
       "  'uf': 'RS',\n",
       "  'ibge': '4314902',\n",
       "  'gia': '',\n",
       "  'ddd': '51',\n",
       "  'siafi': '8801'},\n",
       " {'cep': '91790-072',\n",
       "  'logradouro': 'Rua Domingos José Poli',\n",
       "  'complemento': '',\n",
       "  'bairro': 'Restinga',\n",
       "  'localidade': 'Porto Alegre',\n",
       "  'uf': 'RS',\n",
       "  'ibge': '4314902',\n",
       "  'gia': '',\n",
       "  'ddd': '51',\n",
       "  'siafi': '8801'},\n",
       " {'cep': '91160-080',\n",
       "  'logradouro': 'Rua Luiz Domingos Ramos',\n",
       "  'complemento': '',\n",
       "  'bairro': 'Santa Rosa de Lima',\n",
       "  'localidade': 'Porto Alegre',\n",
       "  'uf': 'RS',\n",
       "  'ibge': '4314902',\n",
       "  'gia': '',\n",
       "  'ddd': '51',\n",
       "  'siafi': '8801'},\n",
       " {'cep': '90650-090',\n",
       "  'logradouro': 'Rua Domingos Crescêncio',\n",
       "  'complemento': '',\n",
       "  'bairro': 'Santana',\n",
       "  'localidade': 'Porto Alegre',\n",
       "  'uf': 'RS',\n",
       "  'ibge': '4314902',\n",
       "  'gia': '',\n",
       "  'ddd': '51',\n",
       "  'siafi': '8801'},\n",
       " {'cep': '91910-420',\n",
       "  'logradouro': 'Rua José Domingos Varella',\n",
       "  'complemento': '',\n",
       "  'bairro': 'Cavalhada',\n",
       "  'localidade': 'Porto Alegre',\n",
       "  'uf': 'RS',\n",
       "  'ibge': '4314902',\n",
       "  'gia': '',\n",
       "  'ddd': '51',\n",
       "  'siafi': '8801'},\n",
       " {'cep': '91120-480',\n",
       "  'logradouro': 'Rua Domingos Antônio Santoro',\n",
       "  'complemento': '',\n",
       "  'bairro': 'Sarandi',\n",
       "  'localidade': 'Porto Alegre',\n",
       "  'uf': 'RS',\n",
       "  'ibge': '4314902',\n",
       "  'gia': '',\n",
       "  'ddd': '51',\n",
       "  'siafi': '8801'},\n",
       " {'cep': '91790-101',\n",
       "  'logradouro': 'Rua Domingos Manoel Mincarone',\n",
       "  'complemento': '',\n",
       "  'bairro': 'Restinga',\n",
       "  'localidade': 'Porto Alegre',\n",
       "  'uf': 'RS',\n",
       "  'ibge': '4314902',\n",
       "  'gia': '',\n",
       "  'ddd': '51',\n",
       "  'siafi': '8801'},\n",
       " {'cep': '90420-200',\n",
       "  'logradouro': 'Rua Domingos José de Almeida',\n",
       "  'complemento': '',\n",
       "  'bairro': 'Rio Branco',\n",
       "  'localidade': 'Porto Alegre',\n",
       "  'uf': 'RS',\n",
       "  'ibge': '4314902',\n",
       "  'gia': '',\n",
       "  'ddd': '51',\n",
       "  'siafi': '8801'},\n",
       " {'cep': '91261-304',\n",
       "  'logradouro': 'Rua Domingos Mullet Rodrigues',\n",
       "  'complemento': '',\n",
       "  'bairro': 'Mário Quintana',\n",
       "  'localidade': 'Porto Alegre',\n",
       "  'uf': 'RS',\n",
       "  'ibge': '4314902',\n",
       "  'gia': '',\n",
       "  'ddd': '51',\n",
       "  'siafi': '8801'},\n",
       " {'cep': '91540-650',\n",
       "  'logradouro': 'Acesso Olavo Domingos de Oliveira',\n",
       "  'complemento': '',\n",
       "  'bairro': 'Jardim Carvalho',\n",
       "  'localidade': 'Porto Alegre',\n",
       "  'uf': 'RS',\n",
       "  'ibge': '4314902',\n",
       "  'gia': '',\n",
       "  'ddd': '51',\n",
       "  'siafi': '8801'},\n",
       " {'cep': '91740-650',\n",
       "  'logradouro': 'Praça Domingos Fernandes de Souza',\n",
       "  'complemento': '',\n",
       "  'bairro': 'Cavalhada',\n",
       "  'localidade': 'Porto Alegre',\n",
       "  'uf': 'RS',\n",
       "  'ibge': '4314902',\n",
       "  'gia': '',\n",
       "  'ddd': '51',\n",
       "  'siafi': '8801'}]"
      ]
     },
     "execution_count": 19,
     "metadata": {},
     "output_type": "execute_result"
    }
   ],
   "source": [
    "requests_ends_dict = json.loads(requests_ends)\n",
    "requests_ends_dict"
   ]
  },
  {
   "cell_type": "markdown",
   "metadata": {},
   "source": [
    "### data frame "
   ]
  },
  {
   "cell_type": "code",
   "execution_count": 23,
   "metadata": {
    "scrolled": false
   },
   "outputs": [
    {
     "data": {
      "text/html": [
       "<div>\n",
       "<style scoped>\n",
       "    .dataframe tbody tr th:only-of-type {\n",
       "        vertical-align: middle;\n",
       "    }\n",
       "\n",
       "    .dataframe tbody tr th {\n",
       "        vertical-align: top;\n",
       "    }\n",
       "\n",
       "    .dataframe thead th {\n",
       "        text-align: right;\n",
       "    }\n",
       "</style>\n",
       "<table border=\"1\" class=\"dataframe\">\n",
       "  <thead>\n",
       "    <tr style=\"text-align: right;\">\n",
       "      <th></th>\n",
       "      <th>0</th>\n",
       "    </tr>\n",
       "  </thead>\n",
       "  <tbody>\n",
       "    <tr>\n",
       "      <th>cep</th>\n",
       "      <td>01001-000</td>\n",
       "    </tr>\n",
       "    <tr>\n",
       "      <th>logradouro</th>\n",
       "      <td>Praça da Sé</td>\n",
       "    </tr>\n",
       "    <tr>\n",
       "      <th>complemento</th>\n",
       "      <td>lado ímpar</td>\n",
       "    </tr>\n",
       "    <tr>\n",
       "      <th>bairro</th>\n",
       "      <td>Sé</td>\n",
       "    </tr>\n",
       "    <tr>\n",
       "      <th>localidade</th>\n",
       "      <td>São Paulo</td>\n",
       "    </tr>\n",
       "    <tr>\n",
       "      <th>uf</th>\n",
       "      <td>SP</td>\n",
       "    </tr>\n",
       "    <tr>\n",
       "      <th>ibge</th>\n",
       "      <td>3550308</td>\n",
       "    </tr>\n",
       "    <tr>\n",
       "      <th>gia</th>\n",
       "      <td>1004</td>\n",
       "    </tr>\n",
       "    <tr>\n",
       "      <th>ddd</th>\n",
       "      <td>11</td>\n",
       "    </tr>\n",
       "    <tr>\n",
       "      <th>siafi</th>\n",
       "      <td>7107</td>\n",
       "    </tr>\n",
       "  </tbody>\n",
       "</table>\n",
       "</div>"
      ],
      "text/plain": [
       "                       0\n",
       "cep            01001-000\n",
       "logradouro   Praça da Sé\n",
       "complemento   lado ímpar\n",
       "bairro                Sé\n",
       "localidade     São Paulo\n",
       "uf                    SP\n",
       "ibge             3550308\n",
       "gia                 1004\n",
       "ddd                   11\n",
       "siafi               7107"
      ]
     },
     "execution_count": 23,
     "metadata": {},
     "output_type": "execute_result"
    }
   ],
   "source": [
    "# dict to df\n",
    "\n",
    "df_cep = pd.DataFrame.from_dict(response_info, orient='index')\n",
    "df_cep"
   ]
  },
  {
   "cell_type": "code",
   "execution_count": null,
   "metadata": {},
   "outputs": [],
   "source": [
    "pd.DataFrame.from_dict(requests_ends_dict)"
   ]
  },
  {
   "cell_type": "markdown",
   "metadata": {},
   "source": [
    "### Extraindo uma lista "
   ]
  },
  {
   "cell_type": "code",
   "execution_count": 25,
   "metadata": {},
   "outputs": [],
   "source": [
    "# lista de ceps\n",
    "ceps = ['01001000', '04304111']\n",
    "dicts_list = []\n",
    "p1 = 'http://viacep.com.br/ws/'\n",
    "p3 = '/json/'\n",
    "for i in ceps:\n",
    "    search = p1+i+p3\n",
    "    response = requests.get(search).text\n",
    "    dicts_list.append(json.loads(response))"
   ]
  },
  {
   "cell_type": "code",
   "execution_count": 29,
   "metadata": {
    "scrolled": true
   },
   "outputs": [
    {
     "data": {
      "text/plain": [
       "[{'cep': '01001-000',\n",
       "  'logradouro': 'Praça da Sé',\n",
       "  'complemento': 'lado ímpar',\n",
       "  'bairro': 'Sé',\n",
       "  'localidade': 'São Paulo',\n",
       "  'uf': 'SP',\n",
       "  'ibge': '3550308',\n",
       "  'gia': '1004',\n",
       "  'ddd': '11',\n",
       "  'siafi': '7107'},\n",
       " {'cep': '04304-111',\n",
       "  'logradouro': 'Rua Major Freire',\n",
       "  'complemento': 'de 681/682 ao fim',\n",
       "  'bairro': 'Vila Monte Alegre',\n",
       "  'localidade': 'São Paulo',\n",
       "  'uf': 'SP',\n",
       "  'ibge': '3550308',\n",
       "  'gia': '1004',\n",
       "  'ddd': '11',\n",
       "  'siafi': '7107'}]"
      ]
     },
     "execution_count": 29,
     "metadata": {},
     "output_type": "execute_result"
    }
   ],
   "source": [
    "dicts_list"
   ]
  },
  {
   "cell_type": "code",
   "execution_count": 28,
   "metadata": {
    "scrolled": true
   },
   "outputs": [
    {
     "data": {
      "text/html": [
       "<div>\n",
       "<style scoped>\n",
       "    .dataframe tbody tr th:only-of-type {\n",
       "        vertical-align: middle;\n",
       "    }\n",
       "\n",
       "    .dataframe tbody tr th {\n",
       "        vertical-align: top;\n",
       "    }\n",
       "\n",
       "    .dataframe thead th {\n",
       "        text-align: right;\n",
       "    }\n",
       "</style>\n",
       "<table border=\"1\" class=\"dataframe\">\n",
       "  <thead>\n",
       "    <tr style=\"text-align: right;\">\n",
       "      <th></th>\n",
       "      <th>cep</th>\n",
       "      <th>logradouro</th>\n",
       "      <th>complemento</th>\n",
       "      <th>bairro</th>\n",
       "      <th>localidade</th>\n",
       "      <th>uf</th>\n",
       "      <th>ibge</th>\n",
       "      <th>gia</th>\n",
       "      <th>ddd</th>\n",
       "      <th>siafi</th>\n",
       "    </tr>\n",
       "  </thead>\n",
       "  <tbody>\n",
       "    <tr>\n",
       "      <th>0</th>\n",
       "      <td>01001-000</td>\n",
       "      <td>Praça da Sé</td>\n",
       "      <td>lado ímpar</td>\n",
       "      <td>Sé</td>\n",
       "      <td>São Paulo</td>\n",
       "      <td>SP</td>\n",
       "      <td>3550308</td>\n",
       "      <td>1004</td>\n",
       "      <td>11</td>\n",
       "      <td>7107</td>\n",
       "    </tr>\n",
       "    <tr>\n",
       "      <th>1</th>\n",
       "      <td>04304-111</td>\n",
       "      <td>Rua Major Freire</td>\n",
       "      <td>de 681/682 ao fim</td>\n",
       "      <td>Vila Monte Alegre</td>\n",
       "      <td>São Paulo</td>\n",
       "      <td>SP</td>\n",
       "      <td>3550308</td>\n",
       "      <td>1004</td>\n",
       "      <td>11</td>\n",
       "      <td>7107</td>\n",
       "    </tr>\n",
       "  </tbody>\n",
       "</table>\n",
       "</div>"
      ],
      "text/plain": [
       "         cep        logradouro        complemento             bairro  \\\n",
       "0  01001-000       Praça da Sé         lado ímpar                 Sé   \n",
       "1  04304-111  Rua Major Freire  de 681/682 ao fim  Vila Monte Alegre   \n",
       "\n",
       "  localidade  uf     ibge   gia ddd siafi  \n",
       "0  São Paulo  SP  3550308  1004  11  7107  \n",
       "1  São Paulo  SP  3550308  1004  11  7107  "
      ]
     },
     "execution_count": 28,
     "metadata": {},
     "output_type": "execute_result"
    }
   ],
   "source": [
    "pd.DataFrame(dicts_list)"
   ]
  },
  {
   "cell_type": "code",
   "execution_count": null,
   "metadata": {},
   "outputs": [],
   "source": []
  },
  {
   "cell_type": "markdown",
   "metadata": {},
   "source": [
    "## Referências\n",
    "\n",
    "* https://pt.linkedin.com/pulse/consumindo-api-e-tratando-dados-com-python-alexandre-tavares\n",
    "* https://docs.python-requests.org/en/latest/user/quickstart/\n",
    "* https://towardsdatascience.com/json-and-apis-with-python-fba329ef6ef0"
   ]
  }
 ],
 "metadata": {
  "kernelspec": {
   "display_name": "Python 3",
   "language": "python",
   "name": "python3"
  },
  "language_info": {
   "codemirror_mode": {
    "name": "ipython",
    "version": 3
   },
   "file_extension": ".py",
   "mimetype": "text/x-python",
   "name": "python",
   "nbconvert_exporter": "python",
   "pygments_lexer": "ipython3",
   "version": "3.8.5"
  }
 },
 "nbformat": 4,
 "nbformat_minor": 2
}
