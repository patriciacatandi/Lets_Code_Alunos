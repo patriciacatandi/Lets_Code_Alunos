{
 "cells": [
  {
   "cell_type": "markdown",
   "metadata": {},
   "source": [
    "# Acesso aos dados via API"
   ]
  },
  {
   "cell_type": "markdown",
   "metadata": {},
   "source": [
    "Alguns sites disponibilizam APIs (Application Programming Interface) para a captura de dados. Isso quer dizer, que o site criou uma série de URLs pelas quais os dados são fornecidos de forma 'pura'. O formato mais comum é o [JSON](https://www.json.org/json-en.html) (JavaScript Object Notation). Ele é uma forma muito usada para troca de dados entre sistemas, mas outros podem ser usados, como por exemplo o XML. "
   ]
  },
  {
   "cell_type": "markdown",
   "metadata": {},
   "source": [
    "#### Vantagens do JSON\n",
    "\n",
    "* Leitura mais simples\n",
    "* Analisador(parsing) mais fácil\n",
    "* JSON suporta objetos! Sim, ele é tipado!\n",
    "* Velocidade maior na execução e transporte de dados\n",
    "* Arquivo com tamanho reduzido\n",
    "* Quem utiliza? Google, Facebook, Yahoo!, Twitter..."
   ]
  },
  {
   "cell_type": "markdown",
   "metadata": {},
   "source": [
    "![alt text](imagens/json_formato.png)\n"
   ]
  },
  {
   "cell_type": "markdown",
   "metadata": {},
   "source": [
    "### API REST "
   ]
  },
  {
   "cell_type": "markdown",
   "metadata": {},
   "source": [
    "Para fins didáticos, vamos usar uma API Fake https://jsonplaceholder.typicode.com/"
   ]
  },
  {
   "cell_type": "markdown",
   "metadata": {},
   "source": [
    "GET: usado para recuperar informação, normalmente o que nós mais usamos no contexto de ciência de dados\n"
   ]
  },
  {
   "cell_type": "code",
   "execution_count": null,
   "metadata": {},
   "outputs": [],
   "source": [
    "url = 'https://jsonplaceholder.typicode.com/posts/1'\n",
    "\n",
    "response = requests.get(url)\n",
    "print(response.json())"
   ]
  },
  {
   "cell_type": "markdown",
   "metadata": {},
   "source": [
    "POST: usado para enviar uma informação para o servidor\n"
   ]
  },
  {
   "cell_type": "code",
   "execution_count": null,
   "metadata": {},
   "outputs": [],
   "source": [
    "url = 'https://jsonplaceholder.typicode.com/posts'\n",
    "\n",
    "# data={'key': 'value'}\n",
    "data = { 'title': 'compras','body': 'Preciso de um mouse novo !','userId': 9,}\n",
    "headers = {'content-type': 'application/json; charset=UTF-8'}\n",
    "\n",
    "response = requests.post(url, data=json.dumps(data), headers=headers)\n",
    "print(response.content)\n",
    "\n"
   ]
  },
  {
   "cell_type": "code",
   "execution_count": null,
   "metadata": {},
   "outputs": [],
   "source": [
    "# response.status_code"
   ]
  },
  {
   "cell_type": "code",
   "execution_count": null,
   "metadata": {},
   "outputs": [],
   "source": [
    "# response.headers"
   ]
  },
  {
   "cell_type": "code",
   "execution_count": null,
   "metadata": {},
   "outputs": [],
   "source": [
    "url = 'https://jsonplaceholder.typicode.com/posts/101'\n",
    "\n",
    "response = requests.get(url)\n",
    "print(response.json())"
   ]
  },
  {
   "cell_type": "markdown",
   "metadata": {},
   "source": [
    "PUT: usado para atualizar uma informação \n"
   ]
  },
  {
   "cell_type": "code",
   "execution_count": null,
   "metadata": {},
   "outputs": [],
   "source": [
    "url = 'https://jsonplaceholder.typicode.com/posts/1'\n",
    "data = {'id':1, 'userId':2, 'title':'drink cold milk', 'body':'drinking water is important'}\n",
    "headers = {'Content-Type':'application/json; charset=UTF-8'}\n",
    "response = requests.put(url, data=json.dumps(data), headers=headers)\n",
    "\n",
    "\n",
    "print(response.content)"
   ]
  },
  {
   "cell_type": "markdown",
   "metadata": {},
   "source": [
    "DELETE: usado para deletar uma informação "
   ]
  },
  {
   "cell_type": "code",
   "execution_count": null,
   "metadata": {},
   "outputs": [],
   "source": [
    "url = 'https://jsonplaceholder.typicode.com/posts/1'\n",
    "headers = {'Content-Type': 'application/json; charset=UTF-8'}\n",
    "response = requests.delete(url, headers=headers)\n",
    "\n",
    "print(response.content) # <class 'str'>"
   ]
  },
  {
   "cell_type": "markdown",
   "metadata": {},
   "source": [
    "# Vamos começar a trabalhar com alguns dados! "
   ]
  },
  {
   "cell_type": "code",
   "execution_count": null,
   "metadata": {},
   "outputs": [],
   "source": [
    "import pandas as pd\n",
    "import numpy as np\n",
    "import requests\n",
    "import json"
   ]
  },
  {
   "cell_type": "markdown",
   "metadata": {},
   "source": [
    "https://viacep.com.br/?ref=devresourc.es"
   ]
  },
  {
   "cell_type": "markdown",
   "metadata": {},
   "source": [
    "## Acessando uma API"
   ]
  },
  {
   "cell_type": "code",
   "execution_count": null,
   "metadata": {},
   "outputs": [],
   "source": [
    "response = requests.get('http://viacep.com.br/ws/01001000/json/').text"
   ]
  },
  {
   "cell_type": "code",
   "execution_count": null,
   "metadata": {
    "scrolled": true
   },
   "outputs": [],
   "source": [
    "response"
   ]
  },
  {
   "cell_type": "code",
   "execution_count": null,
   "metadata": {
    "scrolled": true
   },
   "outputs": [],
   "source": [
    "requests.get('http://viacep.com.br/ws/000/json/').text # formato errado"
   ]
  },
  {
   "cell_type": "code",
   "execution_count": null,
   "metadata": {},
   "outputs": [],
   "source": [
    "requests.get('http://viacep.com.br/ws/99999999/json/').text # formato correto, porem inexistente"
   ]
  },
  {
   "cell_type": "code",
   "execution_count": null,
   "metadata": {},
   "outputs": [],
   "source": [
    " \n",
    "requests_ends = requests.get('http://viacep.com.br/ws/RS/Porto Alegre/Domingos/json/').text #busca por enderenco"
   ]
  },
  {
   "cell_type": "markdown",
   "metadata": {},
   "source": [
    "### Tratando os dados: transformando em dicionário"
   ]
  },
  {
   "cell_type": "code",
   "execution_count": null,
   "metadata": {},
   "outputs": [],
   "source": [
    "response_info = json.loads(response)"
   ]
  },
  {
   "cell_type": "code",
   "execution_count": null,
   "metadata": {
    "scrolled": true
   },
   "outputs": [],
   "source": [
    "response_info"
   ]
  },
  {
   "cell_type": "code",
   "execution_count": null,
   "metadata": {
    "scrolled": true
   },
   "outputs": [],
   "source": [
    "print('Logradouro: ', response_info['logradouro'])"
   ]
  },
  {
   "cell_type": "code",
   "execution_count": null,
   "metadata": {},
   "outputs": [],
   "source": [
    "requests_ends_dict = json.loads(requests_ends)"
   ]
  },
  {
   "cell_type": "markdown",
   "metadata": {},
   "source": [
    "### data frame "
   ]
  },
  {
   "cell_type": "code",
   "execution_count": null,
   "metadata": {
    "scrolled": false
   },
   "outputs": [],
   "source": [
    "# dict to df\n",
    "\n",
    "df_cep = pd.DataFrame.from_dict(response_info, orient='index')\n",
    "df_cep"
   ]
  },
  {
   "cell_type": "code",
   "execution_count": null,
   "metadata": {},
   "outputs": [],
   "source": [
    "pd.DataFrame.from_dict(requests_ends_dict)"
   ]
  },
  {
   "cell_type": "markdown",
   "metadata": {},
   "source": [
    "### Extraindo uma lista "
   ]
  },
  {
   "cell_type": "code",
   "execution_count": null,
   "metadata": {},
   "outputs": [],
   "source": [
    "# lista de ceps\n",
    "ceps = ['01001000', '04304111']\n",
    "dicts_list = []\n",
    "p1 = 'http://viacep.com.br/ws/'\n",
    "p3 = '/json/'\n",
    "for i in ceps:\n",
    "    search = p1+i+p3\n",
    "    response = requests.get(search).text\n",
    "    dicts_list.append(json.loads(response))"
   ]
  },
  {
   "cell_type": "code",
   "execution_count": null,
   "metadata": {
    "scrolled": true
   },
   "outputs": [],
   "source": [
    "dicts_list"
   ]
  },
  {
   "cell_type": "code",
   "execution_count": null,
   "metadata": {
    "scrolled": true
   },
   "outputs": [],
   "source": [
    "pd.DataFrame(dicts_list)"
   ]
  },
  {
   "cell_type": "code",
   "execution_count": null,
   "metadata": {},
   "outputs": [],
   "source": []
  },
  {
   "cell_type": "markdown",
   "metadata": {},
   "source": [
    "## Referências\n",
    "\n",
    "* https://pt.linkedin.com/pulse/consumindo-api-e-tratando-dados-com-python-alexandre-tavares\n",
    "* https://docs.python-requests.org/en/latest/user/quickstart/\n",
    "* https://towardsdatascience.com/json-and-apis-with-python-fba329ef6ef0"
   ]
  }
 ],
 "metadata": {
  "kernelspec": {
   "display_name": "Python 3",
   "language": "python",
   "name": "python3"
  },
  "language_info": {
   "codemirror_mode": {
    "name": "ipython",
    "version": 3
   },
   "file_extension": ".py",
   "mimetype": "text/x-python",
   "name": "python",
   "nbconvert_exporter": "python",
   "pygments_lexer": "ipython3",
   "version": "3.7.3"
  }
 },
 "nbformat": 4,
 "nbformat_minor": 2
}
