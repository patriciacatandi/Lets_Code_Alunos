{
 "cells": [
  {
   "cell_type": "markdown",
   "source": [
    "# Seaborn 1"
   ],
   "metadata": {}
  },
  {
   "cell_type": "code",
   "execution_count": null,
   "source": [
    "import numpy as np\n",
    "import pandas as pd\n",
    "import matplotlib.pyplot as plt\n",
    "%matplotlib inline\n",
    "\n",
    "import warnings\n",
    "warnings.filterwarnings(\"ignore\")"
   ],
   "outputs": [],
   "metadata": {}
  },
  {
   "cell_type": "markdown",
   "source": [
    "## Instalação"
   ],
   "metadata": {}
  },
  {
   "cell_type": "markdown",
   "source": [
    "Seaborn é uma biblioteca de visualização de dados Python baseada no matplotlib. Ela fornece uma interface de alto nível para desenhar gráficos estatísticos atraentes e informativos.\n",
    "\n",
    "Se você tem o Anaconda instalado, você provavelmente já possui a biblioteca instalada.\n",
    "\n",
    "Para checar se você já tem, no Jupyter Notebook ou interpretador do python, rode:"
   ],
   "metadata": {}
  },
  {
   "cell_type": "code",
   "execution_count": null,
   "source": [
    "import seaborn as sns"
   ],
   "outputs": [],
   "metadata": {}
  },
  {
   "cell_type": "markdown",
   "source": [
    "Se não der erro, é porque está tudo ok!\n",
    "\n",
    "Caso você tenha um erro, será necessário instalar. Para isso, rode o comando no prompt/terminal que possua acesso ao comando:\n",
    "\n",
    "\n"
   ],
   "metadata": {}
  },
  {
   "cell_type": "code",
   "execution_count": null,
   "source": [
    "pip install seaborn "
   ],
   "outputs": [],
   "metadata": {}
  },
  {
   "cell_type": "markdown",
   "source": [
    "Em caso de problemas nessa parte, entre em contato no chat da sua turma ou no Q&A.\n",
    "\n",
    "## Importando\n",
    "\n",
    "Para utilizar o seaborn, precisamos importar a biblioteca:\n"
   ],
   "metadata": {}
  },
  {
   "cell_type": "code",
   "execution_count": null,
   "source": [
    "import seaborn as sns"
   ],
   "outputs": [],
   "metadata": {}
  },
  {
   "cell_type": "markdown",
   "source": [
    "## Seaborn x matplotlib"
   ],
   "metadata": {}
  },
  {
   "cell_type": "code",
   "execution_count": null,
   "source": [
    "# Create some data\n",
    "rng = np.random.RandomState(0)\n",
    "x = np.linspace(0, 10, 500)\n",
    "y = np.cumsum(rng.randn(500, 6), 0)"
   ],
   "outputs": [],
   "metadata": {}
  },
  {
   "cell_type": "code",
   "execution_count": null,
   "source": [
    "y"
   ],
   "outputs": [],
   "metadata": {}
  },
  {
   "cell_type": "code",
   "execution_count": null,
   "source": [
    "# Plot the data with Matplotlib defaults\n",
    "plt.style.use('classic')\n",
    "plt.plot(x, y)\n",
    "plt.legend('ABCDEF', ncol=2, loc='upper left');"
   ],
   "outputs": [],
   "metadata": {}
  },
  {
   "cell_type": "code",
   "execution_count": null,
   "source": [
    "# mesmo código utilizado acima!\n",
    "sns.set()\n",
    "plt.plot(x, y)\n",
    "plt.legend('ABCDEF', ncol=2, loc='upper left');"
   ],
   "outputs": [],
   "metadata": {}
  },
  {
   "cell_type": "code",
   "execution_count": null,
   "source": [
    "# Importar dados do arquivo titanic.csv\n",
    "df = pd.read_csv(\"data/titanic.csv\")"
   ],
   "outputs": [],
   "metadata": {}
  },
  {
   "cell_type": "code",
   "execution_count": null,
   "source": [
    "# Usar .info() e .describe() para olhar os dados\n",
    "df.info()"
   ],
   "outputs": [],
   "metadata": {}
  },
  {
   "cell_type": "code",
   "execution_count": null,
   "source": [
    "df.describe(include='all')"
   ],
   "outputs": [],
   "metadata": {}
  },
  {
   "cell_type": "markdown",
   "source": [
    "## API\n",
    "\n",
    "Sendo uma biblioteca construída como uma casa envolta do matplotlib, tudo que aprendemos sobre matplotlib se aplica aqui em termos de conceitos (Figure, Axes, labels dos eixos, etc). Porém, o seaborn abstrai para o usuário da biblioteca algumas complexidades, tendo uma excelente integração com DataFrames do pandas.\n",
    "<br>\n",
    "A biblioteca do seaborn fornece vários tipos de visualização"
   ],
   "metadata": {}
  },
  {
   "cell_type": "markdown",
   "source": [
    "<img src=\"images/function_overview_8_0.png\"  style=\"width: 400px\" />"
   ],
   "metadata": {}
  },
  {
   "cell_type": "markdown",
   "source": [
    "### distplot()\n",
    "O distplot plota a distribuição de uma única variável numérica."
   ],
   "metadata": {}
  },
  {
   "cell_type": "code",
   "execution_count": null,
   "source": [
    "sns.distplot(df['Age']);"
   ],
   "outputs": [],
   "metadata": {}
  },
  {
   "cell_type": "markdown",
   "source": [
    "#### Entendendo o gráfico:\n",
    "\n",
    "Para entendermos melhor esse gráfico, precisamos entender um pouquinho o que é _KDE_, abreviação de _Kernel Density Estimation_, que traduzido seria Estimativa de densidade kernel:\n",
    "\n",
    "    Em Estatística, estimativa de densidade por Kernel (EDK) é uma forma não-paramétrica para estimar a Função densidade de probabilidade (FDP) de uma variável aleatória. Estimativa da densidade por Kernel é um problema fundamental de suavização de dados onde inferências sobre a população são feitas com base em uma amostra de dados finita.\n",
    "\n",
    "De forma bem simplificada então, juntando os dois conceitos, podemos pensar que o gráfico de linha KDE é basicamente a soma das várias gaussianas envolta de cada ponto individual. Quando mais gaussianas se sobrepõe, maior a soma e portanto maior o pico da função KDE.\n",
    "\n",
    "A imagem abaixo ilustra bem:\n",
    "<img src=\"images/distplot.png\" style=\"width: 500px\" />\n"
   ],
   "metadata": {}
  },
  {
   "cell_type": "markdown",
   "source": [
    "### barplot()\n",
    "Utilizado em análise com variáveis categóricas no eixo x e numéricas em y. Para a variável numérica o sns.barplot calcula a média do valor em y"
   ],
   "metadata": {}
  },
  {
   "cell_type": "code",
   "execution_count": null,
   "source": [
    "# bar plot de 'Survived' como variável categórica em x pela variável numérica 'Fare' em y\n",
    "sns.barplot(y='Fare', x='Survived', data = df);"
   ],
   "outputs": [],
   "metadata": {}
  },
  {
   "cell_type": "markdown",
   "source": [
    "Pelo gráfico concluímos que quem mais pagou para embarcar teve mais chances de sobreviver."
   ],
   "metadata": {}
  },
  {
   "cell_type": "markdown",
   "source": [
    "Para demonstrar que o `sns.barplot` calcula a média no eixo y podemos fazer um groupby na coluna 'Survived' calculando a média na coluna 'Fare':"
   ],
   "metadata": {}
  },
  {
   "cell_type": "code",
   "execution_count": null,
   "source": [
    "df.groupby(['Survived'])['Fare'].mean()"
   ],
   "outputs": [],
   "metadata": {}
  },
  {
   "cell_type": "markdown",
   "source": [
    "Podemos adicionar uma dimensão a mais no nosso gráfico atribuindo cores diferentes para 'Sex' através do argumento `hue`"
   ],
   "metadata": {}
  },
  {
   "cell_type": "code",
   "execution_count": null,
   "source": [
    "sns.barplot(y='Fare', x='Survived', data = df, hue='Sex')"
   ],
   "outputs": [],
   "metadata": {}
  },
  {
   "cell_type": "markdown",
   "source": [
    "### countplot()\n",
    "É essencialmente o mesmo que o barplot, mas ele realiza a contagem do número de ocorrências da variável categórica. Nesse caso só passamos a variável x como argumento."
   ],
   "metadata": {}
  },
  {
   "cell_type": "code",
   "execution_count": null,
   "source": [
    "# countplot da variável 'Survived' com as cores dadas pela coluna 'Sex'\n",
    "sns.countplot(x='Survived', data=df, hue='Sex');"
   ],
   "outputs": [],
   "metadata": {}
  },
  {
   "cell_type": "markdown",
   "source": [
    "### boxplot()\n",
    "boxplots mostram a distribuição de dados categóricos. Esse método facilita a identificação visual de outliers. <br>\n",
    "\n",
    "Elementos de um boxplot:\n",
    "   * 1º quartil (Q1): 25% percentil <br>\n",
    "   * 3º quartil (Q3): 75% percentil <br>\n",
    "   * Intervalo Interquartílico (IQR): distância entre 3º e 1º quartil (IQR = Q3 − Q1) <br>\n",
    "   * Mediana: representa o meio da distribuição (50% percentil) <br>\n",
    "   * Mínimo dentro do intervalo: valor mínimo dentro do dataset excluindo as anomalias (Q1 − 1.5 × IQR) <br>\n",
    "   * Máximo dentro do intervalo: valor máximo dentro do dataset excluindo as anomalias (Q3 + 1.5 × IQR) <br>\n",
    "   * Outliers ou Anomalias: observações extremas do dataset, qualquer ponto fora das barras  <br>\n",
    "\n",
    "<img src=\"images/ML12.png\" style=\"width: 500px\" />"
   ],
   "metadata": {}
  },
  {
   "cell_type": "code",
   "execution_count": null,
   "source": [
    "# boxplot de Pclass por Fare com as cores dadas por Survived\n",
    "plt.figure(figsize=(15,8))\n",
    "sns.boxplot(x=\"Pclass\", y=\"Fare\", data=df, palette='rainbow', hue='Survived')\n",
    "# plt.ylim([0,300])"
   ],
   "outputs": [],
   "metadata": {}
  },
  {
   "cell_type": "markdown",
   "source": [
    "Outras formas de visualização stripplot, violinplot, swarmplot."
   ],
   "metadata": {}
  },
  {
   "cell_type": "markdown",
   "source": [
    "### Scatterplot\n",
    "Mostra a relação entre duas variáveis numéricas podendo adicionar uma categórica na cor."
   ],
   "metadata": {}
  },
  {
   "cell_type": "code",
   "execution_count": null,
   "source": [
    "# Scatter plot de 'Age' por 'Fare' diferenciando as cores por 'Survived'\n",
    "sns.scatterplot(x='Age', y='Fare', data=df, hue='Survived');"
   ],
   "outputs": [],
   "metadata": {}
  },
  {
   "cell_type": "markdown",
   "source": [
    "Podemos realizar transformações nos dados para tentar visualizar melhor a relação entre as variáveis. Nesse caso 'Fare' tem uma variabilidade maior que 'Age'. Vamos tirar o np.log de Fare e plotar esse gráfico novamente."
   ],
   "metadata": {}
  },
  {
   "cell_type": "code",
   "execution_count": null,
   "source": [
    "df['Fare_log'] = np.log(df.Fare)"
   ],
   "outputs": [],
   "metadata": {}
  },
  {
   "cell_type": "code",
   "execution_count": null,
   "source": [
    "sns.scatterplot(x='Age', y='Fare_log', data=df, hue='Survived')\n",
    "plt.xticks(rotation=90);"
   ],
   "outputs": [],
   "metadata": {}
  },
  {
   "cell_type": "markdown",
   "source": [
    "Podemos ver que na parte superior do gráfico onde o Fare é maior temos mais pontos com Survived que na parte inferior. O mesmo acontece para idades até 10 anos."
   ],
   "metadata": {}
  },
  {
   "cell_type": "markdown",
   "source": [
    "### jointplot()\n",
    "Segue o mesmo princípio do scatterplot, mas adiciona gráficos de distribuição nos eixos."
   ],
   "metadata": {}
  },
  {
   "cell_type": "code",
   "execution_count": null,
   "source": [
    "sns.jointplot(x =\"Age\", y =\"Fare\", data = df);"
   ],
   "outputs": [],
   "metadata": {}
  },
  {
   "cell_type": "markdown",
   "source": [
    "### Pairplot()\n",
    "When you generalize joint plots to datasets of larger dimensions, you end up with pair plots. This is very useful for exploring correlations between multidimensional data, when you'd like to plot all pairs of values against each other."
   ],
   "metadata": {}
  },
  {
   "cell_type": "code",
   "execution_count": null,
   "source": [
    "sns.pairplot(df.drop(['Fare_log','PassengerId'], axis=1), hue='Survived');"
   ],
   "outputs": [],
   "metadata": {}
  },
  {
   "cell_type": "markdown",
   "source": [
    "### Lineplot\n",
    "Cria gráficos de linha entre variáveis. Muito útil quando queremos ver dados no tempo."
   ],
   "metadata": {}
  },
  {
   "cell_type": "code",
   "execution_count": null,
   "source": [
    "# line plot de Pclass em x por Survived em y diferenciando as cores por Sex\n",
    "sns.lineplot(x='Pclass', y='Survived', data=df, hue='Sex');"
   ],
   "outputs": [],
   "metadata": {}
  },
  {
   "cell_type": "markdown",
   "source": [
    "## Matriz\n",
    "\n",
    "O principal gráfico em termos de matriz é o heatmap ou mapa de calor.\n",
    "\n",
    "Podemos utilizar o método `corr()` que calcula a correlação linear (por padrão, de <a href=\"https://pt.wikipedia.org/wiki/Coeficiente_de_correla%C3%A7%C3%A3o_de_Pearson\">Pearson</a>) entre as variáveis contínuas do nosso DataFrame e retorna uma matriz numérica com os valores dessa correlação."
   ],
   "metadata": {}
  },
  {
   "cell_type": "code",
   "execution_count": null,
   "source": [
    "sns.heatmap(df.corr());"
   ],
   "outputs": [],
   "metadata": {}
  },
  {
   "cell_type": "markdown",
   "source": [
    "Onde __1__ quer dizer **correlação perfeita**, e __zero nenhuma correlação linear__, e __-1 correlação negativa perfeita__ (quando uma aumenta, outra diminui).\n",
    "\n",
    "Para facilitar a visualização, podemos mudar o esquema de cores para o coolwarm ou quente/frio e mostrar os valores:\n"
   ],
   "metadata": {}
  },
  {
   "cell_type": "code",
   "execution_count": null,
   "source": [
    "sns.heatmap(df.corr(), cmap='coolwarm', annot=True)"
   ],
   "outputs": [],
   "metadata": {}
  },
  {
   "cell_type": "markdown",
   "source": [
    "### Subplots\n",
    "Se quisessemos vários gráficos em uma mesma imagem podemos usar o método subplot."
   ],
   "metadata": {}
  },
  {
   "cell_type": "code",
   "execution_count": null,
   "source": [
    "fig, axes = plt.subplots(2, 2, figsize=(15,6))\n",
    "fig.suptitle('2 x 2 subplots', fontsize=20)\n",
    "axes[0,0].text(0.45, 0.5, str(('[0,0]')), fontsize=16)\n",
    "axes[0,1].text(0.45, 0.5, str(('[0,1]')), fontsize=16)\n",
    "axes[1,0].text(0.45, 0.5, str(('[1,0]')), fontsize=16)\n",
    "axes[1,1].text(0.45, 0.5, str(('[1,1]')), fontsize=16);"
   ],
   "outputs": [],
   "metadata": {}
  },
  {
   "cell_type": "code",
   "execution_count": null,
   "source": [
    "# Vamos criar quartis para 'Fare' utilizando a função pd.qcut\n",
    "df['Fare_Range'] = pd.qcut(df['Fare'], 4)"
   ],
   "outputs": [],
   "metadata": {}
  },
  {
   "cell_type": "markdown",
   "source": [
    "Essa função pd.qcut distribui os valores em quantidades aproximadamente iguais entre os bins. Podemos validar aplicando a função .value_counts() na coluna criada de ranges de Fare"
   ],
   "metadata": {}
  },
  {
   "cell_type": "code",
   "execution_count": null,
   "source": [
    "df['Fare_Range'].value_counts()"
   ],
   "outputs": [],
   "metadata": {}
  },
  {
   "cell_type": "markdown",
   "source": [
    "Agora vamos criar os subplots com dois gráficos: <br>\n",
    "* Pclass em x por Survived em y\n",
    "* Range de Fare em x por Survived em y"
   ],
   "metadata": {}
  },
  {
   "cell_type": "code",
   "execution_count": null,
   "source": [
    "fig, axes = plt.subplots(1, 2, figsize=(15,6))\n",
    "fig.suptitle('Horizontally stacked subplots')\n",
    "sns.barplot(y=\"Survived\", x= \"Pclass\", data=df, ax=axes[0])\n",
    "sns.barplot(y=\"Survived\", x= \"Fare_Range\", data=df, ax=axes[1]);"
   ],
   "outputs": [],
   "metadata": {}
  },
  {
   "cell_type": "markdown",
   "source": [
    "O matplotlib permite você mudar praticamente tudo em um gráfico. Por exemplo:\n",
    "* determinar a cor de cada categoria\n",
    "* eliminar os eixos e labels\n",
    "* adicionar grids\n",
    "* trocar os textos, a fonte e o tamanho de labels e títulos\n",
    "* adicionar linhas verticais e horizontais\n",
    "* adicionar caixas de textos em locais específicos do gráfico\n",
    "* juntar os eixos de dois gráficos em um subplot\n",
    "* plotar dois gráficos com eixos distintos\n",
    "* plotar mapas\n",
    "* rotacionar os stickers"
   ],
   "metadata": {}
  },
  {
   "cell_type": "markdown",
   "source": [
    "## Estilos e Cores\n",
    "\n",
    "As duas funções mais valiosas para estilo com seaborn:\n",
    "\n",
    "    set_style: darkgrid, whitegrid, dark, white, ticks\n",
    "    set_context: paper, notebook, talk ou poster\n",
    "\n",
    "A primeira é majoritariamente para mudar as cores, enquanto a segunda tem uma característica importante: facilitar a visualização para diferentes contextos.\n",
    "\n",
    "Exemplo, para um poster, geralmente deseja-se letras maiores:\n"
   ],
   "metadata": {}
  },
  {
   "cell_type": "code",
   "execution_count": null,
   "source": [
    "sns.set_context('poster')\n",
    "sns.countplot(x='Sex', data=df);"
   ],
   "outputs": [],
   "metadata": {}
  },
  {
   "cell_type": "markdown",
   "source": [
    "## Referências\n",
    "\n",
    "A principal e mais útil referência que posso citar é a documentação do próprio seaborn. Ela é incrivelmente boa, acima da média comparada a todas as bibliotecas que vimos até então.\n",
    "\n",
    "<a href=\"https://seaborn.pydata.org/index.html\">Documentação</a> <br>\n",
    "https://colab.research.google.com/github/jakevdp/PythonDataScienceHandbook/blob/master/notebooks/04.14-Visualization-With-Seaborn.ipynb#scrollTo=rJctnLc9LV0Q"
   ],
   "metadata": {}
  },
  {
   "cell_type": "markdown",
   "source": [
    "## Exercícios"
   ],
   "metadata": {}
  },
  {
   "cell_type": "markdown",
   "source": [
    "Utilizando o dataset **tips** do seaborn responda as questões abaixo: <br>\n",
    "sns.load_dataset('tips')"
   ],
   "metadata": {}
  },
  {
   "cell_type": "code",
   "execution_count": null,
   "source": [],
   "outputs": [],
   "metadata": {}
  },
  {
   "cell_type": "markdown",
   "source": [
    "a. Utilize os métodos para entender melhor o dataset"
   ],
   "metadata": {}
  },
  {
   "cell_type": "code",
   "execution_count": null,
   "source": [],
   "outputs": [],
   "metadata": {}
  },
  {
   "cell_type": "markdown",
   "source": [
    "b. Como você avaliaria graficamente a relação entre total_bill e tip?"
   ],
   "metadata": {}
  },
  {
   "cell_type": "code",
   "execution_count": null,
   "source": [],
   "outputs": [],
   "metadata": {}
  },
  {
   "cell_type": "markdown",
   "source": [
    "c. Existe diferença no pagamento de gorjetas feito por mulheres e homens? E no pagamento total da conta?"
   ],
   "metadata": {}
  },
  {
   "cell_type": "code",
   "execution_count": null,
   "source": [],
   "outputs": [],
   "metadata": {}
  },
  {
   "cell_type": "markdown",
   "source": [
    "d. Existe diferença no pagamento de gorjetas entre almoço e janta? E no pagamento total da conta?"
   ],
   "metadata": {}
  },
  {
   "cell_type": "code",
   "execution_count": null,
   "source": [],
   "outputs": [],
   "metadata": {}
  },
  {
   "cell_type": "markdown",
   "source": [
    "e. Existe diferença no pagamento de gorjetas entre os dias da semana? E no pagamento total da conta?"
   ],
   "metadata": {}
  },
  {
   "cell_type": "code",
   "execution_count": null,
   "source": [],
   "outputs": [],
   "metadata": {}
  },
  {
   "cell_type": "markdown",
   "source": [
    "f. Se vc fosse garçon iria preferir trabalhar em que periodo?"
   ],
   "metadata": {}
  },
  {
   "cell_type": "code",
   "execution_count": null,
   "source": [],
   "outputs": [],
   "metadata": {}
  }
 ],
 "metadata": {
  "kernelspec": {
   "display_name": "Python 3 (ipykernel)",
   "language": "python",
   "name": "python3"
  },
  "language_info": {
   "codemirror_mode": {
    "name": "ipython",
    "version": 3
   },
   "file_extension": ".py",
   "mimetype": "text/x-python",
   "name": "python",
   "nbconvert_exporter": "python",
   "pygments_lexer": "ipython3",
   "version": "3.6.9"
  }
 },
 "nbformat": 4,
 "nbformat_minor": 4
}