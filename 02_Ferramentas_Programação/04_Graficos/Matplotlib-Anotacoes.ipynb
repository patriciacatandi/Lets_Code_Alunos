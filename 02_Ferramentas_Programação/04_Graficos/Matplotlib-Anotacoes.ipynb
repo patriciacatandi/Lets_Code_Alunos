{
 "cells": [
  {
   "cell_type": "markdown",
   "metadata": {},
   "source": [
    "# Matplotlib\n",
    "\n",
    "Assim como o NumPy e o Pandas, o matplotlib é uma das bibliotecas que fazem parte do núcleo do SciPy para visualização de dados 2-D.\n",
    "## Instalação\n",
    "\n",
    "Se você tem o Anaconda instalado, você provavelmente já possui a biblioteca instalada.\n",
    "\n",
    "Para checar se você já tem, no Jupyter Notebook ou interpretador do python, rode:"
   ]
  },
  {
   "cell_type": "code",
   "execution_count": 1,
   "metadata": {},
   "outputs": [
    {
     "ename": "ModuleNotFoundError",
     "evalue": "No module named 'matplotlib'",
     "output_type": "error",
     "traceback": [
      "\u001b[1;31m---------------------------------------------------------------------------\u001b[0m",
      "\u001b[1;31mModuleNotFoundError\u001b[0m                       Traceback (most recent call last)",
      "\u001b[1;32m~\\AppData\\Local\\Temp/ipykernel_11376/2971697587.py\u001b[0m in \u001b[0;36m<module>\u001b[1;34m\u001b[0m\n\u001b[1;32m----> 1\u001b[1;33m \u001b[1;32mimport\u001b[0m \u001b[0mmatplotlib\u001b[0m\u001b[1;33m\u001b[0m\u001b[1;33m\u001b[0m\u001b[0m\n\u001b[0m",
      "\u001b[1;31mModuleNotFoundError\u001b[0m: No module named 'matplotlib'"
     ]
    }
   ],
   "source": [
    "import matplotlib"
   ]
  },
  {
   "cell_type": "markdown",
   "metadata": {},
   "source": [
    "Se não der erro, é porque está tudo ok!\n",
    "\n",
    "Caso você tenha um erro, será necessário instalar. Para isso, rode o comando no prompt/terminal que possua acesso ao comando:\n",
    "\n",
    "$ pip install matplotlib\n",
    "\n",
    "Em caso de problemas nessa parte, entre em contato no chat da sua turma ou no Q&A.\n",
    "## Importando\n",
    "\n",
    "Para utilizar o matplotlib precisamos importar a biblioteca:\n"
   ]
  },
  {
   "cell_type": "code",
   "execution_count": 2,
   "metadata": {},
   "outputs": [
    {
     "name": "stdout",
     "output_type": "stream",
     "text": [
      "Collecting matplotlib\n",
      "  Downloading matplotlib-3.4.3-cp39-cp39-win_amd64.whl (7.1 MB)\n",
      "Collecting pillow>=6.2.0\n",
      "  Downloading Pillow-8.4.0-cp39-cp39-win_amd64.whl (3.2 MB)\n",
      "Requirement already satisfied: pyparsing>=2.2.1 in c:\\users\\cliente\\appdata\\local\\programs\\python\\python39\\lib\\site-packages (from matplotlib) (2.4.7)\n",
      "Requirement already satisfied: numpy>=1.16 in c:\\users\\cliente\\appdata\\local\\programs\\python\\python39\\lib\\site-packages (from matplotlib) (1.21.3)\n",
      "Collecting cycler>=0.10\n",
      "  Downloading cycler-0.11.0-py3-none-any.whl (6.4 kB)\n",
      "Requirement already satisfied: python-dateutil>=2.7 in c:\\users\\cliente\\appdata\\local\\programs\\python\\python39\\lib\\site-packages (from matplotlib) (2.8.1)\n",
      "Collecting kiwisolver>=1.0.1\n",
      "  Downloading kiwisolver-1.3.2-cp39-cp39-win_amd64.whl (52 kB)\n",
      "Requirement already satisfied: six>=1.5 in c:\\users\\cliente\\appdata\\local\\programs\\python\\python39\\lib\\site-packages (from python-dateutil>=2.7->matplotlib) (1.15.0)\n",
      "Installing collected packages: pillow, kiwisolver, cycler, matplotlib\n",
      "Successfully installed cycler-0.11.0 kiwisolver-1.3.2 matplotlib-3.4.3 pillow-8.4.0\n"
     ]
    }
   ],
   "source": [
    "! pip install matplotlib"
   ]
  },
  {
   "cell_type": "code",
   "execution_count": 3,
   "metadata": {},
   "outputs": [],
   "source": [
    "import matplotlib.pyplot as plt"
   ]
  },
  {
   "cell_type": "markdown",
   "metadata": {},
   "source": [
    "matplotlib.pyplot é uma coleção de funções que fazem o matplotlib funcionar como MATLAB. Cada função, ao chamada, faz algumas alterações em uma figura, exemplos:\n",
    "\n",
    "    criar uma figura\n",
    "    criar uma área de plotagem em uma figura\n",
    "    gerar linhas em uma área de plotagem\n",
    "    decorar o gráfico com rótulos, título, etc.\n",
    "\n",
    "Caso você esteja no Jupyter Notebook, também adicione:\n",
    "\n"
   ]
  },
  {
   "cell_type": "code",
   "execution_count": null,
   "metadata": {},
   "outputs": [],
   "source": [
    "%matplotlib inline"
   ]
  },
  {
   "cell_type": "markdown",
   "metadata": {},
   "source": [
    "\n",
    "Esse é um comando específico para o ambiente Jupyter Notebook, para mostrar os gráficos nas células do notebook.\n",
    "\n",
    "Graças a ele, não precisamos (mas se chamar, não tem problema) ao final de cada gráfico o comando:\n",
    "\n",
    "$ plt.show() $\n",
    "\n",
    "para mostrar o gráfico.\n",
    "\n",
    "## Básico\n",
    "### Gráfico de linha\n",
    "\n",
    "Para um gráfico de linha simples, podemos chamar o comando plt.plot passando os dados que queremos visualizar.\n",
    "\n",
    "Pela documentação da função plot, precisamos passar dois argumentos para essa função\n",
    "\n",
    "    * x\n",
    "    * y\n",
    "\n",
    "Que comumente são 1D arrays."
   ]
  },
  {
   "cell_type": "code",
   "execution_count": null,
   "metadata": {},
   "outputs": [],
   "source": [
    "x = [1, 2, 3, 4, 5]\n",
    "y = [n ** 2 for n in x]\n",
    "\n",
    "plt.plot(x, y);"
   ]
  },
  {
   "cell_type": "markdown",
   "metadata": {},
   "source": [
    "No exemplo acima criamos duas listas. Na lista x passamos valores de um até cinco e na lista quadrados usamos list comprehension para gerar uma lista com os quadrados da primeira. Depois disso utilizamos plt.plot(x, y) que irá gerar a figura. No nosso caso os valores do eixo-x passados são os numeros e no eixo-y os mesmos valores do eixo-x elevados ao quadrado.\n",
    "\n",
    "Em outras palavras, essa é a visualização da função\n",
    "\n",
    "$ f(x)=x^2 $ para x ∈ [1,5] \n",
    "\n",
    "## Múltiplos gráficos\n",
    "### Estrutura\n",
    "\n",
    "No matplotlib, temos dois conceitos importantes:\n",
    "\n",
    "    * Área de plotagem (eixos ou Axes)\n",
    "        área onde os gráficos (linhas, barras, pontos, labels, ticks, etc) aparecem. Cada Axes possui um eixo-x e eixo-y.\n",
    "    * Figure\n",
    "        é o container de nível superior que mantém toda a estrutura. É a janela onde tudo é desenhado e controlado. Dentro dele podemos ter vários gráficos independentes.\n",
    "\n",
    "<img src=\"images/figure_axes_axis_labeled.png\" style='width:400px'>\n",
    "\n",
    "Antes de gerarmos múltiplos gráficos, precisamos decidir:\n",
    "\n",
    "    * podemos imprimir dois gráficos, ex: duas linhas, na mesma área de plotagem\n",
    "    * ou em áreas de plotagens diferentes.\n",
    "\n",
    "1 eixo - 1 figura\n",
    "<img src=\"images/plot.png\" style=\"width: 200px\">\n",
    "\n",
    "2 eixos - 1 figura\n",
    "<img src=\"images/subplot.png\" style=\"width: 100 px\">\n",
    "\n",
    "\n",
    "Para visualizar múltiplas linhas no mesmo eixo, primeiro precisamos de mais dados. Vamos gerar então dados para a função:\n",
    "\n",
    "$ f(x)=x^3 $ para x ∈ [1,5] \n",
    "\n",
    "Para os próximos exemplos, iremos usar os dados:\n",
    "\n"
   ]
  },
  {
   "cell_type": "code",
   "execution_count": null,
   "metadata": {},
   "outputs": [],
   "source": [
    "x = [1, 2, 3, 4, 5]\n",
    "y1 = [n ** 2 for n in x]\n",
    "y2 = [n ** 3 for n in x]"
   ]
  },
  {
   "cell_type": "markdown",
   "metadata": {},
   "source": [
    "### No mesmo eixo"
   ]
  },
  {
   "cell_type": "code",
   "execution_count": null,
   "metadata": {},
   "outputs": [],
   "source": [
    "plt.plot(x, y1)\n",
    "plt.plot(x, y2)\n",
    "plt.show()"
   ]
  },
  {
   "cell_type": "markdown",
   "metadata": {},
   "source": [
    "O matplotlib automaticamente detecta os melhor valor para o eixo-y e coloca cores diferentes.\n",
    "\n",
    "### Múltiplos eixos\n",
    "\n",
    "Iremos utilizar um método novo `plt.subplots`. Ele é irá gerar uma figura e um conjunto de eixos pré-posicionados num formato de grade. <br><br>\n",
    "<a href=\"https://matplotlib.org/stable/api/_as_gen/matplotlib.pyplot.subplots.html\">Parâmetros</a>: <br>\n",
    "matplotlib.pyplot.subplots(nrows=1, ncols=1, *, sharex=False, sharey=False, squeeze=True, subplot_kw=None, gridspec_kw=None, **fig_kw)"
   ]
  },
  {
   "cell_type": "code",
   "execution_count": null,
   "metadata": {},
   "outputs": [],
   "source": [
    "fig, axs = plt.subplots(2, 2, figsize=(15,6))\n",
    "fig.suptitle('2 x 2 subplots', fontsize=20)\n",
    "axs[0,0].text(0.4, 0.5, str(('gráfico[0,0]')), fontsize=16)\n",
    "axs[0,1].text(0.4, 0.5, str(('gráfico[0,1]')), fontsize=16)\n",
    "axs[1,0].text(0.4, 0.5, str(('gráfico[1,0]')), fontsize=16)\n",
    "axs[1,1].text(0.4, 0.5, str(('gráfico[1,1]')), fontsize=16);"
   ]
  },
  {
   "cell_type": "markdown",
   "metadata": {},
   "source": [
    "Para isso, ao invorcarmos essa função, iremos passar dois argumentos:\n",
    "\n",
    "   **nrows**: indica quantas linhas.\n",
    "   **cols**: indinca quantas colunas.\n",
    "\n",
    "Como queremos 2 gráficos, podemos passar 1 linha e 2 colunas ou 2 colunas e 1 linha.\n",
    "\n",
    "Ele irá retornar uma tupla de dois elementos:\n",
    "\n",
    "   * um objeto do tipo Figure que representa a figura\n",
    "   * lista ou matriz de eixos\n",
    "\n",
    "Ao passar nrows=1, espertamente, o matplotlib não devolve uma matriz e sim uma lista.\n",
    "\n",
    "Podemos acessar cada eixo usando a notação de colchetes, e invocar a função que já vimos anteriormente: plot.\n"
   ]
  },
  {
   "cell_type": "code",
   "execution_count": null,
   "metadata": {},
   "outputs": [],
   "source": [
    "fig, axs = plt.subplots(nrows=1, ncols=2)\n",
    "axs[0].plot(x, y1)\n",
    "axs[1].plot(x, y2);"
   ]
  },
  {
   "cell_type": "markdown",
   "metadata": {},
   "source": [
    "### Estilizando\n",
    "\n",
    "Nos gráficos que fizemos até então não definimos nenhuma característica de estilo como cor, grossura da linha, se tem um marcador para cada ponto, entre diversas outras características possíveis de serem definidas.\n",
    "\n",
    "Três propriedades super importantes são:\n",
    "\n",
    "   * os rótulos, ou labels dos eixos\n",
    "   * título do gráfico\n",
    "   * legendas\n",
    "\n",
    "Elas ajudam as pessoas que analisam o gráfico a entender melhor do que se trata.\n",
    "\n",
    "Temos uma grande lista de características que podemos passar para a função plot que muda as características do gráfico, algumas delas são\n",
    "\n",
    "   * <a href='https://matplotlib.org/3.1.1/tutorials/colors/colors.html'>_color_</a>: para mudar a cor\n",
    "        interessante mencionar que podemos passar a representação hexadecimais de uma cor aqui\n",
    "   * _linewidth_: a grossura da linha\n",
    "   * _linestyle_: o tipo da linha (pontilhada, tracejada, sólida, etc)\n",
    "   * _marker_: se queremos um marcador para cada ponto.\n",
    "   * e muito mais!\n",
    "\n",
    "Recomendo visitar a documentação oficial para maiores detalhes das diversas propriedades.\n",
    "\n",
    "Vamos adicioná-las então!"
   ]
  },
  {
   "cell_type": "code",
   "execution_count": null,
   "metadata": {},
   "outputs": [],
   "source": [
    "plt.plot(x, y1, color='red', linestyle='--', linewidth=5, label='f(x) = x^2')\n",
    "plt.plot(x, y2, color='#27a16c', marker='o', label='f(x) = x^3')\n",
    "\n",
    "plt.xlabel('x')\n",
    "plt.ylabel('f(x)')\n",
    "plt.title('Comparação entre cubo e quadrado')\n",
    "\n",
    "plt.legend()\n",
    "plt.show()"
   ]
  },
  {
   "cell_type": "markdown",
   "metadata": {},
   "source": [
    "Vamos fazer um passo a passo por linha:\n",
    "\n",
    "Nas duas primeiras linhas, passamos um novo argumento, label, definindo um nome para aquela linha que será impressa no gráfico. Ela será útil para a legenda posteriormente.\n",
    "\n",
    "Também passamos alguns argumentos mencionados, como color, linestyle, linewidth e marker.\n",
    "\n",
    "Na linha 3 e 4 chamamos as funções xlabel e ylabel para definir um texto para cada um dos eixos.\n",
    "\n",
    "Na linha 5 chamamos a função title para definir o título da figura.\n",
    "\n",
    "Por último, chamamos a fução legend para dizermos ao matplotlib que queremos que apareça a legenda. Por padrão, ele tenta achar uma boa posição no gráfico automaticamente, mas podemos controlar onde queremos que apareça a legenda.\n",
    "\n",
    "\n",
    "### As duas APIs do matplotlib\n",
    "\n",
    "Até então, não foi mencionamos aqui que temos duas formas de utilizar a biblioteca matplotlib, também chamadas de APIs.\n",
    "\n",
    "Vamos apresentá-las então:\n",
    "\n",
    "   * API funcional\n",
    "   *  API orientado a objetos\n",
    "\n",
    "Mostramos as duas anteriormente, mas não definimos qual era qual.\n",
    "\n",
    "Se você deseja um controle 'refinado' de onde/o que está plotando, deve usar uma API orientada a objetos usando instâncias de `Figure` e `Axes`. Se você precisa lidar com o eixo dos gráficos necessita utilizar a API orientada a objetos.\n",
    "\n",
    "No nosso exemplo de Múltiplos eixos, fizemos uso da API orientada a objetos, enquanto nos outros exemplos, utilizamos a API funcional. Nota-se pelo fato estarmos lidando com a variável axes e não chamando plt diretamente para o plot.\n",
    "\n",
    "O mesmo gráfico do exemplo anterior, utilizando a API orientada a objetos, se ficaria dessa forma:\n"
   ]
  },
  {
   "cell_type": "code",
   "execution_count": null,
   "metadata": {},
   "outputs": [],
   "source": [
    "fig, ax = plt.subplots()\n",
    "\n",
    "ax.plot(x, y1, c='red', ls='--', lw=5, label='f(x) = x^2')\n",
    "ax.plot(x, y2, c='#27a16c', marker='o', label='f(x) = x^3')\n",
    "\n",
    "ax.set_xlabel('x')\n",
    "ax.set_ylabel('f(x)')\n",
    "ax.set_title('Comparação entre cubo e quadrado')\n",
    "# em uma mesma linha:\n",
    "# ax.set(title = 'Comparação entre cubo e quadrado', xlabel='x', ylabel='f(x)') \n",
    "\n",
    "ax.legend()\n",
    "plt.show()"
   ]
  },
  {
   "cell_type": "markdown",
   "metadata": {},
   "source": [
    "Aqui utilizamos as abreviações de _linewidth = lw_, _linestyle = ls_ e _color = c_.\n",
    "\n",
    "Pode parecer complicado a princípio, e você deve estar se perguntando: por que eu usaria essa API ao invés do funcional?\n",
    "\n",
    "Acontece que ela é mais poderosa em termos de flexibilidade, nos permitindo fazer algo como:\n"
   ]
  },
  {
   "cell_type": "code",
   "execution_count": 4,
   "metadata": {},
   "outputs": [
    {
     "ename": "NameError",
     "evalue": "name 'x' is not defined",
     "output_type": "error",
     "traceback": [
      "\u001b[1;31m---------------------------------------------------------------------------\u001b[0m",
      "\u001b[1;31mNameError\u001b[0m                                 Traceback (most recent call last)",
      "\u001b[1;32m~\\AppData\\Local\\Temp/ipykernel_11376/1806553177.py\u001b[0m in \u001b[0;36m<module>\u001b[1;34m\u001b[0m\n\u001b[0;32m      3\u001b[0m \u001b[0max1\u001b[0m \u001b[1;33m=\u001b[0m \u001b[0mfigure\u001b[0m\u001b[1;33m.\u001b[0m\u001b[0madd_axes\u001b[0m\u001b[1;33m(\u001b[0m\u001b[1;33m[\u001b[0m\u001b[1;36m0.1\u001b[0m\u001b[1;33m,\u001b[0m \u001b[1;36m0.1\u001b[0m\u001b[1;33m,\u001b[0m \u001b[1;36m0.8\u001b[0m\u001b[1;33m,\u001b[0m \u001b[1;36m0.8\u001b[0m\u001b[1;33m]\u001b[0m\u001b[1;33m)\u001b[0m\u001b[1;33m\u001b[0m\u001b[1;33m\u001b[0m\u001b[0m\n\u001b[0;32m      4\u001b[0m \u001b[0max2\u001b[0m \u001b[1;33m=\u001b[0m \u001b[0mfigure\u001b[0m\u001b[1;33m.\u001b[0m\u001b[0madd_axes\u001b[0m\u001b[1;33m(\u001b[0m\u001b[1;33m[\u001b[0m\u001b[1;36m0.2\u001b[0m\u001b[1;33m,\u001b[0m \u001b[1;36m0.5\u001b[0m\u001b[1;33m,\u001b[0m \u001b[1;36m0.3\u001b[0m\u001b[1;33m,\u001b[0m \u001b[1;36m0.3\u001b[0m\u001b[1;33m]\u001b[0m\u001b[1;33m)\u001b[0m\u001b[1;33m\u001b[0m\u001b[1;33m\u001b[0m\u001b[0m\n\u001b[1;32m----> 5\u001b[1;33m \u001b[0max1\u001b[0m\u001b[1;33m.\u001b[0m\u001b[0mplot\u001b[0m\u001b[1;33m(\u001b[0m\u001b[0mx\u001b[0m\u001b[1;33m,\u001b[0m \u001b[0my1\u001b[0m\u001b[1;33m,\u001b[0m \u001b[0mc\u001b[0m\u001b[1;33m=\u001b[0m\u001b[1;34m'red'\u001b[0m\u001b[1;33m,\u001b[0m \u001b[0mls\u001b[0m\u001b[1;33m=\u001b[0m\u001b[1;34m'--'\u001b[0m\u001b[1;33m,\u001b[0m \u001b[0mlw\u001b[0m\u001b[1;33m=\u001b[0m\u001b[1;36m5\u001b[0m\u001b[1;33m)\u001b[0m\u001b[1;33m\u001b[0m\u001b[1;33m\u001b[0m\u001b[0m\n\u001b[0m\u001b[0;32m      6\u001b[0m \u001b[0max2\u001b[0m\u001b[1;33m.\u001b[0m\u001b[0mplot\u001b[0m\u001b[1;33m(\u001b[0m\u001b[0mx\u001b[0m\u001b[1;33m,\u001b[0m \u001b[0my2\u001b[0m\u001b[1;33m,\u001b[0m \u001b[0mc\u001b[0m\u001b[1;33m=\u001b[0m\u001b[1;34m'#27a16c'\u001b[0m\u001b[1;33m,\u001b[0m \u001b[0mmarker\u001b[0m\u001b[1;33m=\u001b[0m\u001b[1;34m'o'\u001b[0m\u001b[1;33m)\u001b[0m\u001b[1;33m\u001b[0m\u001b[1;33m\u001b[0m\u001b[0m\n\u001b[0;32m      7\u001b[0m \u001b[0mplt\u001b[0m\u001b[1;33m.\u001b[0m\u001b[0mshow\u001b[0m\u001b[1;33m(\u001b[0m\u001b[1;33m)\u001b[0m\u001b[1;33m\u001b[0m\u001b[1;33m\u001b[0m\u001b[0m\n",
      "\u001b[1;31mNameError\u001b[0m: name 'x' is not defined"
     ]
    },
    {
     "data": {
      "image/png": "[encoded data removed]",
      "text/plain": [
       "<Figure size 432x288 with 2 Axes>"
      ]
     },
     "metadata": {
      "needs_background": "light"
     },
     "output_type": "display_data"
    }
   ],
   "source": [
    "figure = plt.figure()\n",
    "\n",
    "ax1 = figure.add_axes([0.1, 0.1, 0.8, 0.8])\n",
    "ax2 = figure.add_axes([0.2, 0.5, 0.3, 0.3])\n",
    "ax1.plot(x, y1, c='red', ls='--', lw=5)\n",
    "ax2.plot(x, y2, c='#27a16c', marker='o')\n",
    "plt.show()"
   ]
  },
  {
   "cell_type": "markdown",
   "metadata": {},
   "source": [
    "Para isso precisamos criar o figure e os axes separadamente:\n",
    "Na linha 1 criamos uma _Figure_ e a partir dela, adicionamos um eixo, chamando o *add_axes* e passando uma lista com 4 floats definindo um retângulo ocupado por esse eixo.\n",
    "\n",
    "Os 4 floats são definidos por [left, bottom, width, height], definidas como porcentagem da área da figura.\n",
    "\n",
    "<img src='images/axes.png' style=\"width = 50px\">\n",
    "\n",
    "A função que vimos anteriormente, `plt.subplots`, abstrai essa complexidade para nós criando a grade de eixos para nós automaticamente.\n",
    "\n",
    "#### Qual eu devo usar?\n",
    "\n",
    "Não existe a certa ou errada. O importante aqui é saber da existência das duas, e identificar qual você está usando. Use a que for necessária para alcançar seu objetivo.\n",
    "\n",
    "No geral, muitos artigos recomendam o uso da API orientada a objeto por ser mais declarativa, fácil de ler e mais poderosa para algumas personalizações avançadas.\n",
    "Tamanho da figura\n",
    "\n",
    "Caso você ache pequeno o tamanho da figura para a quantidade de eixos, você sempre pode passar o parâmetro figsize.\n"
   ]
  },
  {
   "cell_type": "code",
   "execution_count": null,
   "metadata": {},
   "outputs": [],
   "source": [
    "width, height = 10, 8  # valores em inches\n",
    "figure = plt.figure(figsize=(width, height))\n",
    "# ou\n",
    "fig, ax = plt.subplots(figsize=(width, height))"
   ]
  },
  {
   "cell_type": "markdown",
   "metadata": {},
   "source": [
    "\n",
    "## Outros tipos de gráficos\n",
    "\n",
    "Até então, só vimos gráficos de linha, mas temos uma vasta gama de outos tipos de gráficos:\n",
    "\n",
    "   * dispersão ou scatter\n",
    "   * barra\n",
    "   * pizza\n",
    "   * histogramas\n",
    "   * diagrama de caixa ou boxplot\n",
    "\n",
    "E muitos outros! Mostrarei alguns deles aqui, mas, recomendo fortemente visitar a <a href=\"https://matplotlib.org/stable/gallery/index.html\">galeria</a> de exemplos da biblioteca para uma imersão das possibilidades.\n"
   ]
  },
  {
   "cell_type": "markdown",
   "metadata": {},
   "source": [
    "### Barra\n",
    "\n",
    "Os gráficos de barra normalmente são utilizados quando temos dados numéricos relacionados a dados categóricos.\n",
    "\n",
    "Exemplo:\n"
   ]
  },
  {
   "cell_type": "code",
   "execution_count": null,
   "metadata": {},
   "outputs": [],
   "source": [
    "tipos_filmes = ['Comédia', 'Drama', 'Suspense']\n",
    "quantidade = [15, 9, 5]\n",
    "plt.bar(tipos_filmes, quantidade)"
   ]
  },
  {
   "cell_type": "markdown",
   "metadata": {},
   "source": [
    "### Dispersão\n"
   ]
  },
  {
   "cell_type": "code",
   "execution_count": null,
   "metadata": {},
   "outputs": [],
   "source": [
    "import numpy as np\n",
    "\n",
    "x = np.random.rand(1, 50)\n",
    "y = np.random.rand(1, 50)\n",
    "\n",
    "plt.scatter(x, y, color='red', s=100, alpha=0.3)\n",
    "plt.show()"
   ]
  },
  {
   "cell_type": "markdown",
   "metadata": {},
   "source": [
    "Utilizamos o parâmetro s, uma abreviação de size para aumentar o tamanho da \"bolinha\" do gráfico, e alpha para dar um efeito de transparência, resultando no seguinte gráfico:\n",
    "\n",
    "### Histograma\n",
    "\n",
    "Os histogramas são utilizados para visualização da distribuição numérica de dados.\n",
    "\n",
    "Novamente, vamos utilizar o NumPy para gerar valores aleatórios da distribuição normal.\n",
    "\n",
    "Para exibir esses respectivos valores como histograma utilizamos plt.hist()"
   ]
  },
  {
   "cell_type": "code",
   "execution_count": null,
   "metadata": {},
   "outputs": [],
   "source": [
    "data = np.random.randn(500)\n",
    "plt.hist(data, alpha=0.5, color='green', edgecolor='black')\n",
    "plt.show()"
   ]
  },
  {
   "cell_type": "markdown",
   "metadata": {},
   "source": [
    "## Exemplo de multigráficos estilizado:"
   ]
  },
  {
   "cell_type": "code",
   "execution_count": null,
   "metadata": {},
   "outputs": [],
   "source": [
    "fig, axes = plt.subplots(nrows=1, ncols=2)\n",
    "axes[0].plot(x, y1)\n",
    "axes[1].plot(x, y2)\n",
    "axes[0].set(title='Esquerda', xlabel=\"x\", ylabel=\"x²\")\n",
    "axes[1].set(title='Direita', xlabel=\"x\", ylabel=\"x³\")\n",
    "fig.tight_layout(pad=3.0);"
   ]
  },
  {
   "cell_type": "markdown",
   "metadata": {},
   "source": [
    "## Links Úteis\n",
    "\n",
    "<a href=\"https://matplotlib.org/users/installing.html\">Instalação</a> <br>\n",
    "<a href=\"https://matplotlib.org/api/_as_gen/matplotlib.pyplot.plot.html\">Documentação da função plot</a> <br>\n",
    "<a href=\"https://matplotlib.org/api/_as_gen/matplotlib.pyplot.subplots.html\">Documentação da função subplots</a> <br>\n",
    "<a href=\"https://matplotlib.org/tutorials/introductory/usage.html#sphx-glr-tutorials-introductory-usage-py\">Guia com conceitos importantes</a> <br>\n",
    "<a href=\"https://matplotlib.org/tutorials/introductory/pyplot.html#sphx-glr-tutorials-introductory-pyplot-py\">Introdução ao pyplot</a> <br>\n",
    "<a href=\"https://matplotlib.org/tutorials/introductory/sample_plots.html#sphx-glr-tutorials-introductory-sample-plots-py\">Vários exemplos de gráficos</a> <br>\n",
    "<a href=\"https://matplotlib.org/gallery/index.html\">Galeria de exemplos da biblioteca</a> <br>\n",
    "<a href=\"https://www.machinelearningplus.com/plots/matplotlib-plotting-tutorial/\">Exemplos de uso</a> <br>"
   ]
  }
 ],
 "metadata": {
  "kernelspec": {
   "display_name": "Python 3 (ipykernel)",
   "language": "python",
   "name": "python3"
  },
  "language_info": {
   "codemirror_mode": {
    "name": "ipython",
    "version": 3
   },
   "file_extension": ".py",
   "mimetype": "text/x-python",
   "name": "python",
   "nbconvert_exporter": "python",
   "pygments_lexer": "ipython3",
   "version": "3.9.6"
  }
 },
 "nbformat": 4,
 "nbformat_minor": 2
}
